{
  "cells": [
    {
      "cell_type": "code",
      "execution_count": null,
      "metadata": {
        "id": "HCJAkmeLNi_w"
      },
      "outputs": [],
      "source": [
        "import numpy as np\n",
        "import torch\n",
        "import torch.nn as nn\n",
        "import torch.optim as optim\n",
        "from torch.utils.data import Dataset,DataLoader\n",
        "from tqdm import tqdm\n",
        "import spacy\n",
        "from spacy.tokens import DocBin\n",
        "import random\n",
        "from spacy.util import minibatch,compounding\n",
        "from torch.nn.utils.rnn import pad_sequence\n",
        "from sklearn.model_selection import KFold\n",
        "import itertools\n"
      ]
    },
    {
      "cell_type": "code",
      "execution_count": null,
      "metadata": {
        "colab": {
          "base_uri": "https://localhost:8080/"
        },
        "id": "WYniIvEePYCC",
        "outputId": "1db4e80e-74a9-4b3e-b770-baf986988b12"
      },
      "outputs": [
        {
          "output_type": "stream",
          "name": "stdout",
          "text": [
            "14987\n"
          ]
        },
        {
          "output_type": "execute_result",
          "data": {
            "text/plain": [
              "[(['-DOCSTART-'], ['O']),\n",
              " (['EU', 'rejects', 'German', 'call', 'to', 'boycott', 'British', 'lamb', '.'],\n",
              "  ['B-ORG', 'O', 'B-MISC', 'O', 'O', 'O', 'B-MISC', 'O', 'O'])]"
            ]
          },
          "metadata": {},
          "execution_count": 2
        }
      ],
      "source": [
        "\n",
        "def load_data(file_path):\n",
        "  with open(file_path,'r',encoding='utf-8') as f:\n",
        "    lines=f.readlines()\n",
        "  data=[]\n",
        "  sentence=[]\n",
        "  labels=[]\n",
        "  for line in lines:\n",
        "    if line.strip()==\"\":\n",
        "      if sentence:\n",
        "        data.append((sentence,labels))\n",
        "        sentence=[]\n",
        "        labels=[]\n",
        "    else:\n",
        "      parts = line.strip().split()\n",
        "      if len(parts)>=4:\n",
        "        word,label=parts[0],parts[-1]\n",
        "        sentence.append(word)\n",
        "        labels.append(label)\n",
        "  return data\n",
        "train_data=load_data('eng.train')\n",
        "testa_data=load_data('eng.testa')\n",
        "testb_data=load_data('eng.testb')\n",
        "\n",
        "print(len(train_data))\n",
        "train_data[:2]"
      ]
    },
    {
      "cell_type": "code",
      "execution_count": null,
      "metadata": {
        "colab": {
          "base_uri": "https://localhost:8080/"
        },
        "id": "NWR7YnVtXZLz",
        "outputId": "a2deecd1-89ca-4f6e-ab00-a5cead027a97"
      },
      "outputs": [
        {
          "output_type": "stream",
          "name": "stdout",
          "text": [
            "{'<UNK>': 0, '-DOCSTART-': 1, 'EU': 2, 'rejects': 3, 'German': 4, 'call': 5, 'to': 6, 'boycott': 7, 'British': 8, 'lamb': 9, '.': 10, 'Peter': 11, 'Blackburn': 12, 'BRUSSELS': 13, '1996-08-22': 14, 'The': 15, 'European': 16, 'Commission': 17, 'said': 18, 'on': 19, 'Thursday': 20, 'it': 21, 'disagreed': 22, 'with': 23, 'advice': 24, 'consumers': 25, 'shun': 26, 'until': 27, 'scientists': 28, 'determine': 29, 'whether': 30, 'mad': 31, 'cow': 32, 'disease': 33, 'can': 34, 'be': 35, 'transmitted': 36, 'sheep': 37, 'Germany': 38, \"'s\": 39, 'representative': 40, 'the': 41, 'Union': 42, 'veterinary': 43, 'committee': 44, 'Werner': 45, 'Zwingmann': 46, 'Wednesday': 47, 'should': 48, 'buy': 49, 'sheepmeat': 50, 'from': 51, 'countries': 52, 'other': 53, 'than': 54, 'Britain': 55, 'scientific': 56, 'was': 57, 'clearer': 58, '\"': 59, 'We': 60, 'do': 61, \"n't\": 62, 'support': 63, 'any': 64, 'such': 65, 'recommendation': 66, 'because': 67, 'we': 68, 'see': 69, 'grounds': 70, 'for': 71, ',': 72, 'chief': 73, 'spokesman': 74, 'Nikolaus': 75, 'van': 76, 'der': 77, 'Pas': 78, 'told': 79, 'a': 80, 'news': 81, 'briefing': 82, 'He': 83, 'further': 84, 'study': 85, 'required': 86, 'and': 87, 'if': 88, 'found': 89, 'that': 90, 'action': 91, 'needed': 92, 'taken': 93, 'by': 94, 'proposal': 95, 'last': 96, 'month': 97, 'Farm': 98, 'Commissioner': 99, 'Franz': 100, 'Fischler': 101, 'ban': 102, 'brains': 103, 'spleens': 104, 'spinal': 105, 'cords': 106, 'human': 107, 'animal': 108, 'food': 109, 'chains': 110, 'highly': 111, 'specific': 112, 'precautionary': 113, 'move': 114, 'protect': 115, 'health': 116, 'proposed': 117, 'EU-wide': 118, 'measures': 119, 'after': 120, 'reports': 121, 'France': 122, 'under': 123, 'laboratory': 124, 'conditions': 125, 'could': 126, 'contract': 127, 'Bovine': 128, 'Spongiform': 129, 'Encephalopathy': 130, '(': 131, 'BSE': 132, ')': 133, '--': 134, 'But': 135, 'agreed': 136, 'review': 137, 'his': 138, 'standing': 139, 'mational': 140, 'officials': 141, 'questioned': 142, 'justified': 143, 'as': 144, 'there': 145, 'only': 146, 'slight': 147, 'risk': 148, 'Spanish': 149, 'Minister': 150, 'Loyola': 151, 'de': 152, 'Palacio': 153, 'had': 154, 'earlier': 155, 'accused': 156, 'at': 157, 'an': 158, 'farm': 159, 'ministers': 160, \"'\": 161, 'meeting': 162, 'of': 163, 'causing': 164, 'unjustified': 165, 'alarm': 166, 'through': 167, 'dangerous': 168, 'generalisation': 169, 'Only': 170, 'backed': 171, 'multidisciplinary': 172, 'committees': 173, 'are': 174, 'due': 175, 're-examine': 176, 'issue': 177, 'early': 178, 'next': 179, 'make': 180, 'recommendations': 181, 'senior': 182, 'Sheep': 183, 'have': 184, 'long': 185, 'been': 186, 'known': 187, 'scrapie': 188, 'brain-wasting': 189, 'similar': 190, 'which': 191, 'is': 192, 'believed': 193, 'transferred': 194, 'cattle': 195, 'feed': 196, 'containing': 197, 'waste': 198, 'farmers': 199, 'denied': 200, 'danger': 201, 'their': 202, 'but': 203, 'expressed': 204, 'concern': 205, 'government': 206, 'avoid': 207, 'might': 208, 'influence': 209, 'across': 210, 'Europe': 211, 'What': 212, 'extremely': 213, 'careful': 214, 'how': 215, 'going': 216, 'take': 217, 'lead': 218, 'Welsh': 219, 'National': 220, 'Farmers': 221, 'NFU': 222, 'chairman': 223, 'John': 224, 'Lloyd': 225, 'Jones': 226, 'BBC': 227, 'radio': 228, 'Bonn': 229, 'has': 230, 'led': 231, 'efforts': 232, 'public': 233, 'consumer': 234, 'confidence': 235, 'collapsed': 236, 'in': 237, 'March': 238, 'report': 239, 'suggested': 240, 'humans': 241, 'illness': 242, 'eating': 243, 'contaminated': 244, 'beef': 245, 'imported': 246, '47,600': 247, 'year': 248, 'nearly': 249, 'half': 250, 'total': 251, 'imports': 252, 'It': 253, 'brought': 254, '4,275': 255, 'tonnes': 256, 'mutton': 257, 'some': 258, '10': 259, 'percent': 260, 'overall': 261, 'Rare': 262, 'Hendrix': 263, 'song': 264, 'draft': 265, 'sells': 266, 'almost': 267, '$': 268, '17,000': 269, 'LONDON': 270, 'A': 271, 'rare': 272, 'handwritten': 273, 'U.S.': 274, 'guitar': 275, 'legend': 276, 'Jimi': 277, 'sold': 278, 'auction': 279, 'late': 280, 'musician': 281, 'favourite': 282, 'possessions': 283, 'Florida': 284, 'restaurant': 285, 'paid': 286, '10,925': 287, 'pounds': 288, '16,935': 289, 'Ai': 290, 'no': 291, 'telling': 292, 'penned': 293, 'piece': 294, 'London': 295, 'hotel': 296, 'stationery': 297, '1966': 298, 'At': 299, 'end': 300, 'January': 301, '1967': 302, 'concert': 303, 'English': 304, 'city': 305, 'Nottingham': 306, 'he': 307, 'threw': 308, 'sheet': 309, 'paper': 310, 'into': 311, 'audience': 312, 'where': 313, 'retrieved': 314, 'fan': 315, 'Buyers': 316, 'also': 317, 'snapped': 318, 'up': 319, '16': 320, 'items': 321, 'were': 322, 'put': 323, 'former': 324, 'girlfriend': 325, 'Kathy': 326, 'Etchingham': 327, 'who': 328, 'lived': 329, 'him': 330, '1969': 331, 'They': 332, 'included': 333, 'black': 334, 'lacquer': 335, 'mother': 336, 'pearl': 337, 'inlaid': 338, 'box': 339, 'used': 340, 'store': 341, 'drugs': 342, 'anonymous': 343, 'Australian': 344, 'purchaser': 345, 'bought': 346, '5,060': 347, '7,845': 348, 'guitarist': 349, 'died': 350, 'overdose': 351, '1970': 352, 'aged': 353, '27': 354, 'China': 355, 'says': 356, 'Taiwan': 357, 'spoils': 358, 'atmosphere': 359, 'talks': 360, 'BEIJING': 361, 'Taipei': 362, 'spoiling': 363, 'resumption': 364, 'Strait': 365, 'visit': 366, 'Ukraine': 367, 'Taiwanese': 368, 'Vice': 369, 'President': 370, 'Lien': 371, 'Chan': 372, 'this': 373, 'week': 374, 'infuriated': 375, 'Beijing': 376, 'Speaking': 377, 'hours': 378, 'Chinese': 379, 'state': 380, 'media': 381, 'time': 382, 'right': 383, 'engage': 384, 'political': 385, 'Foreign': 386, 'Ministry': 387, 'Shen': 388, 'Guofang': 389, 'Reuters': 390, ':': 391, 'necessary': 392, 'opening': 393, 'disrupted': 394, 'authorities': 395, 'State': 396, 'quoted': 397, 'top': 398, 'negotiator': 399, 'Tang': 400, 'Shubei': 401, 'visiting': 402, 'group': 403, 'rivals': 404, 'hold': 405, 'Now': 406, 'two': 407, 'sides': 408, '...': 409, 'hostility': 410, 'overseas': 411, 'edition': 412, 'People': 413, 'Daily': 414, 'saying': 415, 'foreign': 416, 'ministry': 417, 'Television': 418, 'interview': 419, 'read': 420, 'comments': 421, 'gave': 422, 'details': 423, 'why': 424, 'considered': 425, 'considers': 426, 'renegade': 427, 'province': 428, 'opposed': 429, 'all': 430, 'gain': 431, 'greater': 432, 'international': 433, 'recognition': 434, 'rival': 435, 'island': 436, 'practical': 437, 'steps': 438, 'towards': 439, 'goal': 440, 'Consultations': 441, 'held': 442, 'set': 443, 'format': 444, 'official': 445, 'Xinhua': 446, 'agency': 447, 'executive': 448, 'vice': 449, 'Association': 450, 'Relations': 451, 'Across': 452, 'Straits': 453, 'July': 454, 'car': 455, 'registrations': 456, '14.2': 457, 'pct': 458, 'yr': 459, '/': 460, 'FRANKFURT': 461, 'first-time': 462, 'motor': 463, 'vehicles': 464, 'jumped': 465, 'year-earlier': 466, 'period': 467, 'Federal': 468, 'office': 469, '356,725': 470, 'new': 471, 'cars': 472, 'registered': 473, '1996': 474, '304,850': 475, 'passenger': 476, '15,613': 477, 'trucks': 478, 'figures': 479, 'represent': 480, '13.6': 481, 'increase': 482, '2.2': 483, 'decline': 484, '1995': 485, 'Motor-bike': 486, 'registration': 487, 'rose': 488, '32.7': 489, 'growth': 490, 'partly': 491, 'increased': 492, 'number': 493, 'Germans': 494, 'buying': 495, 'abroad': 496, 'while': 497, 'manufacturers': 498, 'domestic': 499, 'demand': 500, 'weak': 501, 'federal': 502, 'Almost': 503, 'posted': 504, 'gains': 505, 'numbers': 506, 'Volkswagen': 507, 'AG': 508, 'won': 509, '77,719': 510, 'slightly': 511, 'more': 512, 'quarter': 513, 'Opel': 514, 'together': 515, 'General': 516, 'Motors': 517, 'came': 518, 'second': 519, 'place': 520, '49,269': 521, '16.4': 522, 'figure': 523, 'Third': 524, 'Ford': 525, '35,563': 526, 'or': 527, '11.7': 528, 'Seat': 529, 'Porsche': 530, 'fewer': 531, 'compared': 532, '3,420': 533, '5522': 534, 'fell': 535, '554': 536, '643': 537, 'GREEK': 538, 'SOCIALISTS': 539, 'GIVE': 540, 'GREEN': 541, 'LIGHT': 542, 'TO': 543, 'PM': 544, 'FOR': 545, 'ELECTIONS': 546, 'ATHENS': 547, 'Greek': 548, 'socialist': 549, 'party': 550, 'bureau': 551, 'green': 552, 'light': 553, 'Prime': 554, 'Costas': 555, 'Simitis': 556, 'snap': 557, 'elections': 558, 'its': 559, 'general': 560, 'secretary': 561, 'Skandalidis': 562, 'reporters': 563, 'announcement': 564, 'cabinet': 565, 'later': 566, 'Dimitris': 567, 'Kontogiannis': 568, 'Athens': 569, 'Newsroom': 570, '+301': 571, '3311812-4': 572, 'BayerVB': 573, 'sets': 574, 'C$': 575, '100': 576, 'million': 577, 'six-year': 578, 'bond': 579, 'following': 580, 'announced': 581, 'manager': 582, 'Toronto': 583, 'Dominion': 584, 'BORROWER': 585, 'BAYERISCHE': 586, 'VEREINSBANK': 587, 'AMT': 588, 'MLN': 589, 'COUPON': 590, '6.625': 591, 'MATURITY': 592, '24.SEP.02': 593, 'TYPE': 594, 'STRAIGHT': 595, 'ISS': 596, 'PRICE': 597, '100.92': 598, 'PAY': 599, 'DATE': 600, '24.SEP.96': 601, 'FULL': 602, 'FEES': 603, '1.875': 604, 'REOFFER': 605, '99.32': 606, 'SPREAD': 607, '+20': 608, 'BP': 609, 'MOODY': 610, 'AA1': 611, 'LISTING': 612, 'LUX': 613, 'FREQ': 614, '=': 615, 'S&P': 616, 'DENOMS': 617, 'K': 618, '1-10-100': 619, 'SALE': 620, 'LIMITS': 621, 'US': 622, 'UK': 623, 'CA': 624, 'NEG': 625, 'PLG': 626, 'NO': 627, 'CRS': 628, 'DEFLT': 629, 'FORCE': 630, 'MAJ': 631, 'GOV': 632, 'LAW': 633, 'GERMAN': 634, 'HOME': 635, 'CTRY': 636, 'TAX': 637, 'PROVS': 638, 'STANDARD': 639, 'MGT': 640, 'UND': 641, '0.275': 642, 'SELL': 643, 'CONC': 644, '1.60': 645, 'PRAECIP': 646, 'UNDERLYING': 647, 'GOVT': 648, 'BOND': 649, '7.0': 650, 'PCT': 651, 'SEPT': 652, '2001': 653, 'NOTES': 654, 'IS': 655, 'JOINT': 656, 'LEAD': 657, 'MANAGER': 658, '+44': 659, '171': 660, '542': 661, '7658': 662, 'Venantius': 663, '300': 664, '1999': 665, 'FRN': 666, 'floating-rate': 667, 'Lehman': 668, 'Brothers': 669, 'International': 670, 'VENANTIUS': 671, 'AB': 672, 'SWEDISH': 673, 'NATIONAL': 674, 'MORTGAGE': 675, 'AGENCY': 676, '-': 677, '12.5': 678, '21.JAN.99': 679, 'BASE': 680, '3M': 681, 'LIBOR': 682, 'S23.SEP.96': 683, 'LAST': 684, 'AA3': 685, '99.956': 686, 'AA+': 687, 'S': 688, 'SHORT': 689, 'FIRST': 690, 'JP': 691, 'FR': 692, 'YES': 693, 'IPMA': 694, '2': 695, 'ENGLISH': 696, 'SWEDEN': 697, '5': 698, 'ISSUED': 699, 'OFF': 700, 'EMTN': 701, 'PROGRAMME': 702, '8863': 703, 'Port': 704, 'update': 705, 'Syria': 706, 'Lloyds': 707, 'Shipping': 708, 'Intelligence': 709, 'Service': 710, 'LATTAKIA': 711, 'Aug': 712, 'waiting': 713, 'Lattakia': 714, 'Tartous': 715, 'presently': 716, '24': 717, 'Israel': 718, 'plays': 719, 'down': 720, 'fears': 721, 'war': 722, 'Colleen': 723, 'Siegel': 724, 'JERUSALEM': 725, 'outgoing': 726, 'peace': 727, 'current': 728, 'tensions': 729, 'between': 730, 'appeared': 731, 'storm': 732, 'teacup': 733, 'Itamar': 734, 'Rabinovich': 735, 'ambassador': 736, 'Washington': 737, 'conducted': 738, 'unfruitful': 739, 'negotiations': 740, 'Radio': 741, 'looked': 742, 'like': 743, 'Damascus': 744, 'wanted': 745, 'talk': 746, 'rather': 747, 'fight': 748, 'appears': 749, 'me': 750, 'Syrian': 751, 'priority': 752, 'still': 753, 'negotiate': 754, 'Syrians': 755, 'confused': 756, 'they': 757, 'definitely': 758, 'tense': 759, 'assessment': 760, 'here': 761, 'essentially': 762, 'winding': 763, 'term': 764, 'will': 765, 'replaced': 766, 'Eliahu': 767, 'Ben-Elissar': 768, 'Israeli': 769, 'envoy': 770, 'Egypt': 771, 'right-wing': 772, 'Likud': 773, 'politician': 774, 'sent': 775, 'message': 776, 'via': 777, 'committed': 778, 'open': 779, 'without': 780, 'preconditions': 781, 'slammed': 782, 'creating': 783, 'what': 784, 'called': 785, 'launching': 786, 'hysterical': 787, 'campaign': 788, 'against': 789, 'television': 790, 'reported': 791, 'recently': 792, 'test': 793, 'fired': 794, 'missile': 795, 'arms': 796, 'purchases': 797, 'defensive': 798, 'purposes': 799, 'Hafez': 800, 'al-': 801, 'Assad': 802, 'ready': 803, 'enter': 804, 'David': 805, 'Levy': 806, 'Tension': 807, 'mounted': 808, 'since': 809, 'Benjamin': 810, 'Netanyahu': 811, 'took': 812, 'June': 813, 'vowing': 814, 'retain': 815, 'Golan': 816, 'Heights': 817, 'captured': 818, 'Middle': 819, 'East': 820, 'Israeli-Syrian': 821, 'deadlocked': 822, 'over': 823, '1991': 824, 'despite': 825, 'previous': 826, 'willingness': 827, 'concessions': 828, 'Peace': 829, 'February': 830, 'voices': 831, 'coming': 832, 'out': 833, 'bad': 834, 'not': 835, 'good': 836, 'full': 837, 'expressions': 838, 'declarations': 839, 'must': 840, 'worrying': 841, 'artificial': 842, 'very': 843, 'those': 844, 'spread': 845, 'become': 846, 'prisoners': 847, 'expect': 848, 'face': 849, 'answer': 850, 'our': 851, 'want': 852, 'God': 853, 'forbid': 854, 'No': 855, 'one': 856, 'benefits': 857, 'wars': 858, 'Channel': 859, 'Two': 860, 'calming': 861, 'signal': 862, 'source': 863, 'spokesmen': 864, 'confirm': 865, 'messages': 866, 'reassure': 867, 'Cairo': 868, 'United': 869, 'States': 870, 'Moscow': 871, 'Polish': 872, 'diplomat': 873, 'denies': 874, 'nurses': 875, 'stranded': 876, 'Libya': 877, 'TUNIS': 878, 'tabloid': 879, 'refusing': 880, 'exit': 881, 'visas': 882, 'trying': 883, 'return': 884, 'home': 885, 'working': 886, 'North': 887, 'African': 888, 'country': 889, 'This': 890, 'true': 891, 'Up': 892, 'today': 893, 'knowledge': 894, 'nurse': 895, 'kept': 896, 'her': 897, 'received': 898, 'complaint': 899, 'embassy': 900, 'charge': 901, \"d'affaires\": 902, 'Tripoli': 903, 'Tadeusz': 904, 'Awdankiewicz': 905, 'telephone': 906, 'Poland': 907, 'labour': 908, 'would': 909, 'send': 910, 'team': 911, 'investigate': 912, 'probe': 913, 'prompted': 914, 'complaining': 915, 'about': 916, 'work': 917, 'non-payment': 918, 'salaries': 919, 'estimated': 920, '800': 921, 'Iranian': 922, 'opposition': 923, 'leaders': 924, 'meet': 925, 'Baghdad': 926, 'Hassan': 927, 'Hafidh': 928, 'BAGHDAD': 929, 'An': 930, 'exile': 931, 'based': 932, 'Iraq': 933, 'vowed': 934, 'extend': 935, 'Iran': 936, 'Kurdish': 937, 'rebels': 938, 'attacked': 939, 'troops': 940, 'deep': 941, 'inside': 942, 'Mujahideen': 943, 'Khalq': 944, 'statement': 945, 'leader': 946, 'Massoud': 947, 'Rajavi': 948, 'met': 949, 'Secretary-General': 950, 'Kurdistan': 951, 'Democratic': 952, 'Party': 953, 'KDPI': 954, 'Rastegar': 955, 'voiced': 956, 'rebel': 957, 'Kurds': 958, 'emphasised': 959, 'Resistance': 960, 'continue': 961, 'stand': 962, 'side': 963, 'compatriots': 964, 'resistance': 965, 'movement': 966, 'signals': 967, 'level': 968, 'cooperation': 969, 'oppositions': 970, 'heavily': 971, 'bombarded': 972, 'targets': 973, 'northern': 974, 'pursuit': 975, 'guerrillas': 976, 'Iraqi': 977, 'areas': 978, 'outside': 979, 'control': 980, 'bordering': 981, 'Patriotic': 982, 'PUK': 983, 'KDP': 984, 'main': 985, 'factions': 986, 'forces': 987, 'ousted': 988, 'Kuwait': 989, 'Gulf': 990, 'War': 991, 'Clashes': 992, 'parties': 993, 'broke': 994, 'weekend': 995, 'most': 996, 'serious': 997, 'fighting': 998, 'U.S.-sponsored': 999, 'ceasefire': 1000, 'shelling': 1001, 'positions': 1002, 'Qasri': 1003, 'region': 1004, 'Suleimaniya': 1005, 'near': 1006, 'border': 1007, 'days': 1008, 'killed': 1009, 'wounded': 1010, 'attack': 1011, 'Both': 1012, 'Turkey': 1013, 'mount': 1014, 'air': 1015, 'land': 1016, 'strikes': 1017, 'own': 1018, 'U.S.-led': 1019, 'force': 1020, 'southern': 1021, 'protects': 1022, 'possible': 1023, 'attacks': 1024, 'Saudi': 1025, 'riyal': 1026, 'rates': 1027, 'steady': 1028, 'quiet': 1029, 'summer': 1030, 'trade': 1031, 'MANAMA': 1032, 'spot': 1033, 'dollar': 1034, 'interbank': 1035, 'deposit': 1036, 'mainly': 1037, 'dealers': 1038, 'kingdom': 1039, 'There': 1040, 'changes': 1041, 'market': 1042, 'holidays': 1043, 'dealer': 1044, '3.7504': 1045, '06': 1046, 'One-month': 1047, 'deposits': 1048, '5-1/2': 1049, '3/8': 1050, 'three': 1051, 'months': 1052, '5-5/8': 1053, '1/2': 1054, 'six': 1055, '5-3/4': 1056, '5/8': 1057, 'One-year': 1058, 'funds': 1059, '5-7/8': 1060, 'approves': 1061, 'Arafat': 1062, 'flight': 1063, 'West': 1064, 'Bank': 1065, 'Palestinian': 1066, 'Yasser': 1067, 'permission': 1068, 'fly': 1069, 'territory': 1070, 'ending': 1071, 'brief': 1072, 'Israeli-PLO': 1073, 'crisis': 1074, 'adviser': 1075, 'problem': 1076, 'president': 1077, 'aircraft': 1078, 'pass': 1079, 'airspace': 1080, 'expected': 1081, 'travel': 1082, 'before': 1083, 'Monday': 1084, 'Nabil': 1085, 'Abu': 1086, 'Rdainah': 1087, 'scheduled': 1088, 'prime': 1089, 'minister': 1090, 'Shimon': 1091, 'Peres': 1092, 'town': 1093, 'Ramallah': 1094, 'venue': 1095, 'changed': 1096, 'Gaza': 1097, 'clearance': 1098, 'helicopters': 1099, 'stop': 1100, 'keeping': 1101, 'grounded': 1102, 'subsequently': 1103, 'cancelled': 1104, 'PLO': 1105, 'civilian': 1106, 'affairs': 1107, 'Allenby': 1108, 'Bridge': 1109, 'crossing': 1110, 'Jordan': 1111, 'decided': 1112, 'flying': 1113, 'lifted': 1114, 'busy': 1115, 'schedule': 1116, 'free': 1117, 'Palestinians': 1118, 'barred': 1119, 'Erez': 1120, 'checkpoint': 1121, 'planned': 1122, 'overflying': 1123, 'helicopter': 1124, 'attempt': 1125, 'bar': 1126, 'defeated': 1127, 'May': 1128, 'undermine': 1129, 'authority': 1130, 'conduct': 1131, 'Afghan': 1132, 'UAE': 1133, 'Taleban': 1134, 'guards': 1135, 'Hilary': 1136, 'Gush': 1137, 'DUBAI': 1138, 'Three': 1139, 'Arab': 1140, 'Emirates': 1141, 'Russian': 1142, 'hostages': 1143, 'escaped': 1144, 'militia': 1145, 'Afghanistan': 1146, 'few': 1147, 'Dhabi': 1148, 'Our': 1149, 'touch': 1150, 'Their': 1151, 'issuing': 1152, 'them': 1153, 'documents': 1154, 'homeland': 1155, 'objection': 1156, 'added': 1157, 'Islamic': 1158, 'overpowered': 1159, 'seven': 1160, 'aircrew': 1161, 'Sharjah': 1162, 'Friday': 1163, 'board': 1164, 'captivity': 1165, 'Kandahar': 1166, 'hand': 1167, 'Red': 1168, 'Crescent': 1169, 'possibly': 1170, 'Tuesday': 1171, 'silent': 1172, 'When': 1173, 'asked': 1174, 'back': 1175, 'capital': 1176, 'Kabul': 1177, 'That': 1178, 'headquarters': 1179, 'controlled': 1180, 'Burhanuddin': 1181, 'Rabbani': 1182, 'overthrow': 1183, 'men': 1184, '20s': 1185, 'currently': 1186, 'did': 1187, 'elaborate': 1188, 'Russians': 1189, 'Aerostan': 1190, 'firm': 1191, 'republic': 1192, 'Tatarstan': 1193, 'hostage': 1194, 'MiG-19': 1195, 'fighter': 1196, 'forced': 1197, 'cargo': 1198, 'plane': 1199, 'August': 1200, 'shipment': 1201, 'ammunition': 1202, 'Albania': 1203, 'evidence': 1204, 'military': 1205, 'crew': 1206, 'nationality': 1207, 'coincidental': 1208, 'Numerous': 1209, 'diplomatic': 1210, 'attempts': 1211, 'failed': 1212, 'armed': 1213, 'Kalashnikov': 1214, 'automatic': 1215, 'rifles': 1216, 'doing': 1217, 'regular': 1218, 'maintenance': 1219, 'Ilyushin': 1220, '76': 1221, 'left': 1222, 'Sunday': 1223, 'Saddam': 1224, 'meets': 1225, 'Russia': 1226, 'Zhirinovsky': 1227, 'Hussein': 1228, 'ultra-nationalist': 1229, 'Vladimir': 1230, 'maintain': 1231, 'friendship': 1232, 'newspapers': 1233, 'stressed': 1234, 'during': 1235, 'keenness': 1236, 'papers': 1237, 'Liberal': 1238, 'Duma': 1239, 'parliament': 1240, 'calling': 1241, 'immediate': 1242, 'lifting': 1243, 'embargo': 1244, 'imposed': 1245, '1990': 1246, 'invasion': 1247, 'press': 1248, 'help': 1249, 'U.N.': 1250, 'sanctions': 1251, 'blamed': 1252, 'delaying': 1253, 'establishment': 1254, 'ties': 1255, 'namely': 1256, 'economic': 1257, 'resume': 1258, 'visited': 1259, 'twice': 1260, 'Last': 1261, 'October': 1262, 'invited': 1263, 'attend': 1264, 'referendum': 1265, 'presidency': 1266, 'extended': 1267, 'years': 1268, 'PRESS': 1269, 'DIGEST': 1270, '22': 1271, 'These': 1272, 'leading': 1273, 'stories': 1274, 'verified': 1275, 'these': 1276, 'does': 1277, 'vouch': 1278, 'accuracy': 1279, 'THAWRA': 1280, 'liberal': 1281, 'democratic': 1282, 'Turkish': 1283, 'part': 1284, 'fair': 1285, 'November': 1286, 'IRAQ': 1287, 'shipload': 1288, '12': 1289, 'rice': 1290, 'arrives': 1291, 'Umm': 1292, 'Qasr': 1293, 'port': 1294, 'Lebanon': 1295, 'BEIRUT': 1296, 'Beirut': 1297, 'AN-NAHAR': 1298, 'Confrontation': 1299, 'escalating': 1300, 'Hizbollah': 1301, 'Hariri': 1302, 'threats': 1303, 'serve': 1304, 'AS-SAFIR': 1305, 'Parliament': 1306, 'Speaker': 1307, 'Berri': 1308, 'preparing': 1309, 'Parliamentary': 1310, 'battle': 1311, '..': 1312, 'lists': 1313, 'prepared': 1314, 'AL-ANWAR': 1315, 'Continued': 1316, 'criticism': 1317, 'law': 1318, 'violation': 1319, 'incidents': 1320, 'occurred': 1321, 'Mount': 1322, 'AD-DIYAR': 1323, 'Financial': 1324, 'Pakistan': 1325, 'step': 1326, 'election': 1327, 'incomplete': 1328, 'list': 1329, \"NIDA'A\": 1330, 'AL-WATAN': 1331, 'Maronite': 1332, 'Patriarch': 1333, 'Sfeir': 1334, 'sorrow': 1335, 'violations': 1336, 'CME': 1337, 'live': 1338, 'feeder': 1339, 'calls': 1340, 'range': 1341, 'mixed': 1342, 'CHICAGO': 1343, 'Early': 1344, 'futures': 1345, 'ranged': 1346, '0.200': 1347, 'cent': 1348, 'higher': 1349, '0.100': 1350, 'lower': 1351, 'livestock': 1352, 'analysts': 1353, 'continued': 1354, 'strong': 1355, 'tone': 1356, 'cash': 1357, 'markets': 1358, 'prompt': 1359, 'Outlook': 1360, 'bullish': 1361, 'cattle-on-feed': 1362, 'lend': 1363, 'bull': 1364, 'spreading': 1365, 'However': 1366, 'likely': 1367, 'prices': 1368, 'drift': 1369, 'evening': 1370, 'ahead': 1371, 'Cash': 1372, 'record': 1373, 'amount': 1374, 'feedlot': 1375, 'traded': 1376, 'Kindercare': 1377, 'debt': 1378, 'hit': 1379, 'Q1': 1380, 'results': 1381, 'MONTGOMERY': 1382, 'Ala': 1383, 'KinderCare': 1384, 'Learning': 1385, 'Centers': 1386, 'Inc': 1387, 'buyback': 1388, 'mean': 1389, 'extraordinary': 1390, 'loss': 1391, '1.2': 1392, 'fiscal': 1393, '1997': 1394, 'first': 1395, 'company': 1396, 'began': 1397, '1': 1398, '30': 1399, 'par': 1400, 'value': 1401, 'outstanding': 1402, '10-3/8': 1403, 'notes': 1404, '31.5': 1405, 'Philip': 1406, 'Maslowe': 1407, 'financial': 1408, 'officer': 1409, 'preschool': 1410, 'child': 1411, 'care': 1412, 'offered': 1413, 'opportunity': 1414, 'reduce': 1415, 'weighted': 1416, 'average': 1417, 'interest': 1418, 'costs': 1419, 'improve': 1420, 'future': 1421, 'flows': 1422, 'earnings': 1423, 'RESEARCH': 1424, 'ALERT': 1425, 'starts': 1426, 'SNET': 1427, 'analyst': 1428, 'Blake': 1429, 'Bath': 1430, 'started': 1431, 'Southern': 1432, 'New': 1433, 'England': 1434, 'Telecommunciations': 1435, 'Corp': 1436, 'outperform': 1437, 'rating': 1438, '12-month': 1439, 'price': 1440, 'target': 1441, '45': 1442, 'estimate': 1443, '3.09': 1444, 'per': 1445, 'share': 1446, 'immediately': 1447, 'available': 1448, 'closed': 1449, '38-1/2': 1450, 'E.': 1451, 'Auchard': 1452, 'Wall': 1453, 'Street': 1454, '212-859-1736': 1455, 'Gateway': 1456, 'Data': 1457, 'Sciences': 1458, 'Q2': 1459, 'net': 1460, 'rises': 1461, 'PHOENIX': 1462, 'Summary': 1463, 'Consolidated': 1464, 'In': 1465, 'Thousands': 1466, 'except': 1467, 'data': 1468, 'Six': 1469, 'Months': 1470, 'Ended': 1471, 'Quarter': 1472, 'Jul': 1473, '31': 1474, 'Income': 1475, 'Statement': 1476, 'Total': 1477, 'Revenue': 1478, '10,756': 1479, '13,102': 1480, '7,961': 1481, '5,507': 1482, 'Software': 1483, '2,383': 1484, '1,558': 1485, '1,086': 1486, '1,074': 1487, 'Services': 1488, '1,154': 1489, '692': 1490, '624': 1491, '465': 1492, 'Operating': 1493, '906': 1494, '962': 1495, '599': 1496, '515': 1497, 'Net': 1498, '821': 1499, '512': 1500, '565': 1501, '301': 1502, 'Earnings': 1503, 'Per': 1504, 'Share': 1505, '0.31': 1506, '0.34': 1507, '0.19': 1508, '0.20': 1509, 'Jan': 1510, 'Balance': 1511, 'Sheet': 1512, 'Working': 1513, 'Capital': 1514, '5,755': 1515, '881': 1516, 'Equivalents': 1517, '2,386': 1518, '93': 1519, 'Assets': 1520, '14,196': 1521, '7,138': 1522, 'Shareholders': 1523, 'Equity': 1524, '5,951': 1525, '1,461': 1526, 'socialists': 1527, 'give': 1528, 'backing': 1529, 'chooses': 1530, 'Le': 1531, 'Monde': 1532, 'PARIS': 1533, 'afternoon': 1534, 'daily': 1535, 'dated': 1536, '23': 1537, 'FRONT': 1538, 'PAGE': 1539, 'Africans': 1540, 'seeking': 1541, 'renew': 1542, 'obtain': 1543, 'residence': 1544, 'rights': 1545, 'say': 1546, 'Alain': 1547, 'Juppe': 1548, 'proposals': 1549, 'insufficient': 1550, 'hunger': 1551, 'strike': 1552, 'enters': 1553, '49th': 1554, 'day': 1555, 'Paris': 1556, 'church': 1557, 'rally': 1558, 'attracts': 1559, '8,000': 1560, 'sympathisers': 1561, 'FLNC': 1562, 'Corsican': 1563, 'nationalist': 1564, 'announces': 1565, 'truce': 1566, 'night': 1567, 'BUSINESS': 1568, 'PAGES': 1569, 'Shutdown': 1570, 'Bally': 1571, 'French': 1572, 'factories': 1573, 'points': 1574, 'shoe': 1575, 'industry': 1576, 'undercut': 1577, 'low-wage': 1578, 'competition': 1579, 'failure': 1580, 'keep': 1581, 'abreast': 1582, 'trends': 1583, 'Secretary': 1584, 'Sud-PTT': 1585, 'union': 1586, 'Telecom': 1587, 'elements': 1588, 'social': 1589, 'unrest': 1590, 'weeks': 1591, '+33': 1592, '42': 1593, '21': 1594, '53': 1595, '81': 1596, 'Well': 1597, 'repairs': 1598, 'lift': 1599, 'Heidrun': 1600, 'oil': 1601, 'output': 1602, 'Statoil': 1603, 'OSLO': 1604, 'plugged': 1605, 'water': 1606, 'injection': 1607, 'wells': 1608, 'oilfield': 1609, 'off': 1610, 'mid-Norway': 1611, 'reopened': 1612, 'operator': 1613, 'Den': 1614, 'Norske': 1615, 'Stats': 1616, 'Oljeselskap': 1617, 'AS': 1618, 'accounted': 1619, 'dip': 1620, '30,000': 1621, 'barrels': 1622, 'bpd': 1623, 'roughly': 1624, '220,000': 1625, 'according': 1626, 'Status': 1627, 'Weekly': 1628, 'newsletter': 1629, 'reperforated': 1630, 'gravel': 1631, 'pumped': 1632, 'reservoir': 1633, 'plugging': 1634, 'problems': 1635, 'Oslo': 1636, 'newsroom': 1637, '+47': 1638, '50': 1639, '41': 1640, 'Finnish': 1641, 'April': 1642, 'surplus': 1643, '3.8': 1644, 'billion': 1645, 'markka': 1646, 'NCB': 1647, 'HELSINKI': 1648, 'Finland': 1649, '3.83': 1650, '3.43': 1651, 'Customs': 1652, 'Board': 1653, 'exports': 1654, 'year-on-year': 1655, 'Trade': 1656, 'balance': 1657, '96': 1658, 'Jan-April': 1659, '95': 1660, 'Imports': 1661, '10,663': 1662, '10,725': 1663, '43,430': 1664, '40,989': 1665, 'Exports': 1666, '14,494': 1667, '14,153': 1668, '56,126': 1669, '56,261': 1670, '+3,831': 1671, '+3,428': 1672, '+12,696': 1673, '+15,272': 1674, 'January-April': 1675, 'import': 1676, 'revised': 1677, '39,584': 1678, 'export': 1679, '55,627': 1680, '3.2': 1681, 'projected': 1682, '14.5': 1683, '11.3': 1684, 'monthly': 1685, 'statistics': 1686, 'lagging': 1687, 'behind': 1688, 'customs': 1689, 'procedures': 1690, 'when': 1691, 'joined': 1692, 'start': 1693, 'Helsinki': 1694, '+358': 1695, '0': 1696, '680': 1697, '245': 1698, 'Dutch': 1699, 'raises': 1700, 'tap': 1701, 'sale': 1702, '99.95': 1703, 'AMSTERDAM': 1704, 'Finance': 1705, 'raised': 1706, 'sales': 1707, '5.75': 1708, 'September': 1709, '2002': 1710, '99.90': 1711, 'Tap': 1712, 'being': 1713, '07.00': 1714, 'GMT': 1715, '15.00': 1716, 'notice': 1717, '2.3': 1718, 'guilders': 1719, 'close': 1720, 'Amsterdam': 1721, '+31': 1722, '20': 1723, '504': 1724, '5000': 1725, 'tells': 1726, 'BONN': 1727, 'Agriculture': 1728, 'meat': 1729, 'animals': 1730, 'Until': 1731, 'cleared': 1732, 'panels': 1733, 'done': 1734, 'quickly': 1735, 'preference': 1736, 'ZDF': 1737, 'I': 1738, 'concrete': 1739, 'too': 1740, 'many': 1741, 'holes': 1742, 'know': 1743, 'filled': 1744, 'ensure': 1745, 'protection': 1746, 'tops': 1747, 'priorities': 1748, 'dealing': 1749, 'erupted': 1750, 'acknowledged': 1751, 'rethink': 1752, 'use': 1753, 'suspect': 1754, 'tissue': 1755, 'experts': 1756, 'banning': 1757, 'members': 1758, 'given': 1759, 'question': 1760, 'studied': 1761, 'separately': 1762, 'perfectly': 1763, 'safe': 1764, 'eat': 1765, 'After': 1766, 'admitted': 1767, 'link': 1768, 'fatal': 1769, 'equivalent': 1770, 'worldwide': 1771, 'summit': 1772, 'progressive': 1773, 'takes': 1774, 'parallel': 1775, 'eradicate': 1776, 'GOLF': 1777, 'SCORES': 1778, 'AT': 1779, 'WORLD': 1780, 'SERIES': 1781, 'OF': 1782, 'AKRON': 1783, 'Ohio': 1784, 'Scores': 1785, '2.1': 1786, 'NEC': 1787, 'World': 1788, 'Series': 1789, 'Golf': 1790, 'round': 1791, '7,149': 1792, 'yard': 1793, '70': 1794, 'Firestone': 1795, 'C.C': 1796, 'course': 1797, 'players': 1798, 'unless': 1799, 'stated': 1800, '66': 1801, 'Paul': 1802, 'Goydos': 1803, 'Billy': 1804, 'Mayfair': 1805, 'Hidemichi': 1806, 'Tanaka': 1807, 'Japan': 1808, '68': 1809, 'Steve': 1810, 'Stricker': 1811, '69': 1812, 'Justin': 1813, 'Leonard': 1814, 'Mark': 1815, 'Brooks': 1816, 'Tim': 1817, 'Herron': 1818, 'Duffy': 1819, 'Waldorf': 1820, 'Davis': 1821, 'Love': 1822, 'Anders': 1823, 'Forsbrand': 1824, 'Sweden': 1825, 'Nick': 1826, 'Faldo': 1827, 'Cook': 1828, 'Phil': 1829, 'Mickelson': 1830, 'Greg': 1831, 'Norman': 1832, 'Australia': 1833, '71': 1834, 'Ernie': 1835, 'Els': 1836, 'South': 1837, 'Africa': 1838, 'Scott': 1839, 'Hoch': 1840, '72': 1841, 'Clarence': 1842, 'Rose': 1843, 'Loren': 1844, 'Roberts': 1845, 'Fred': 1846, 'Funk': 1847, 'Sven': 1848, 'Struver': 1849, 'Alexander': 1850, 'Cejka': 1851, 'Hal': 1852, 'Sutton': 1853, 'Tom': 1854, '73': 1855, 'D.A.': 1856, 'Weibring': 1857, 'Brad': 1858, 'Bryant': 1859, 'Craig': 1860, 'Parry': 1861, 'Stewart': 1862, 'Ginn': 1863, 'Corey': 1864, 'Pavin': 1865, 'Stadler': 1866, \"O'Meara\": 1867, 'Couples': 1868, '74': 1869, 'Stankowski': 1870, 'Costantino': 1871, 'Rocca': 1872, 'Italy': 1873, '75': 1874, 'Jim': 1875, 'Furyk': 1876, 'Satoshi': 1877, 'Higashi': 1878, 'Willie': 1879, 'Wood': 1880, 'Shigeki': 1881, 'Maruyama': 1882, 'McCarron': 1883, '77': 1884, 'Wayne': 1885, 'Westner': 1886, 'Schneiter': 1887, '79': 1888, 'Watson': 1889, 'Seiki': 1890, 'Okuda': 1891, 'SOCCER': 1892, 'GLORIA': 1893, 'BISTRITA': 1894, 'BEAT': 1895, '2-1': 1896, 'F.C.': 1897, 'VALLETTA': 1898, 'Gloria': 1899, 'Bistrita': 1900, 'Romania': 1901, 'beat': 1902, 'halftime': 1903, '1-1': 1904, 'Valletta': 1905, 'Malta': 1906, 'Cup': 1907, 'winners': 1908, 'match': 1909, 'leg': 1910, 'preliminary': 1911, 'Scorers': 1912, 'Ilie': 1913, 'Lazar': 1914, '32nd': 1915, 'Eugen': 1916, 'Voica': 1917, '84th': 1918, 'La': 1919, 'Gilbert': 1920, 'Agius': 1921, '24th': 1922, 'Attendance': 1923, '4-2': 1924, 'aggregate': 1925, 'qualified': 1926, 'REUTER': 1927, 'HORSE': 1928, 'RACING': 1929, 'PIVOTAL': 1930, 'ENDS': 1931, '25-YEAR': 1932, 'WAIT': 1933, 'TRAINER': 1934, 'PRESCOTT': 1935, 'YORK': 1936, 'Sir': 1937, 'Prescott': 1938, 'landed': 1939, 'victory': 1940, '25': 1941, 'trainer': 1942, 'sprinter': 1943, 'Pivotal': 1944, '100-30': 1945, 'chance': 1946, 'Nunthorpe': 1947, 'Stakes': 1948, 'three-year-old': 1949, 'partnered': 1950, 'veteran': 1951, 'George': 1952, 'Duffield': 1953, 'snatched': 1954, 'short': 1955, 'head': 1956, 'verdict': 1957, 'stride': 1958, 'deny': 1959, 'Eveningperformance': 1960, '16-1': 1961, 'trained': 1962, 'Henry': 1963, 'Candy': 1964, 'ridden': 1965, 'Chris': 1966, 'Rutter': 1967, 'Hever': 1968, '11-4': 1969, 'Prix': 1970, 'l': 1971, 'Abbaye': 1972, 'winner': 1973, 'Longchamp': 1974, 'finished': 1975, 'third': 1976, 'lengths': 1977, 'away': 1978, '7-4': 1979, 'Mind': 1980, 'Games': 1981, 'fourth': 1982, 'Royal': 1983, 'Ascot': 1984, 'may': 1985, 'now': 1986, 'aimed': 1987, 'season': 1988, 'sprint': 1989, 'race': 1990, 'reluctant': 1991, 'go': 1992, 'enclosure': 1993, 'result': 1994, 'photo-finish': 1995, 'Twenty-five': 1996, 'never': 1997, 'so': 1998, 'thought': 1999, 'better': 2000, 'wait': 2001, 'bit': 2002, 'longer': 2003, 'sad': 2004, 'am': 2005, 'godfather': 2006, 'daughter': 2007, 'Like': 2008, 'Jack': 2009, 'Berry': 2010, 'gone': 2011, 'search': 2012, 'success': 2013, 'around': 2014, 'profession': 2015, 'I`m': 2016, 'disappointed': 2017, 'feel': 2018, 'suicidal': 2019, 'well': 2020, 'furlongs': 2021, 'metres': 2022, 'just': 2023, 'quicken': 2024, 'NUNTHORPE': 2025, 'STAKES': 2026, 'RESULTS': 2027, 'Result': 2028, 'two-year-olds': 2029, 'upwards': 2030, 'run': 2031, 'five': 2032, 'km': 2033, '1.': 2034, '2.': 2035, '3.': 2036, 'Jason': 2037, 'Weaver': 2038, 'Eight': 2039, 'ran': 2040, 'Favourite': 2041, '4th': 2042, 'Distances': 2043, '1-1/4': 2044, 'Winner': 2045, 'owned': 2046, 'Cheveley': 2047, 'Park': 2048, 'Stud': 2049, 'Newmarket': 2050, 'Value': 2051, '72,464': 2052, 'sterling': 2053, '112,200': 2054, 'TENNIS': 2055, 'TOSHIBA': 2056, 'CLASSIC': 2057, 'CARLSBAD': 2058, 'California': 2059, '1996-08-21': 2060, 'Results': 2061, '450,000': 2062, 'Toshiba': 2063, 'Classic': 2064, 'tennis': 2065, 'tournament': 2066, 'prefix': 2067, 'denotes': 2068, 'seeding': 2069, 'Second': 2070, 'Arantxa': 2071, 'Sanchez': 2072, 'Vicario': 2073, 'Spain': 2074, 'Naoko': 2075, 'Kijimuta': 2076, '1-6': 2077, '6-4': 2078, '6-3': 2079, '4': 2080, 'Kimiko': 2081, 'Date': 2082, 'Yone': 2083, 'Kamio': 2084, '6-2': 2085, '7-5': 2086, 'Sandrine': 2087, 'Testud': 2088, '7': 2089, 'Sugiyama': 2090, '4-6': 2091, '8': 2092, 'Nathalie': 2093, 'Tauziat': 2094, 'Shi-Ting': 2095, 'Wang': 2096, 'HAMLET': 2097, 'CUP': 2098, 'COMMACK': 2099, 'York': 2100, 'Waldbaum': 2101, 'Hamlet': 2102, 'Michael': 2103, 'Chang': 2104, 'Sergi': 2105, 'Bruguera': 2106, 'Joyce': 2107, '3': 2108, 'Richey': 2109, 'Reneberg': 2110, '3-6': 2111, 'Martin': 2112, 'Damm': 2113, 'Czech': 2114, 'Republic': 2115, '6': 2116, 'Younes': 2117, 'El': 2118, 'Aynaoui': 2119, 'Morocco': 2120, '5-7': 2121, '3-0': 2122, 'retired': 2123, 'Karol': 2124, 'Kucera': 2125, 'Slovakia': 2126, 'Hicham': 2127, 'Arazi': 2128, '7-6': 2129, 'DALGLISH': 2130, 'SAD': 2131, 'OVER': 2132, 'BLACKBURN': 2133, 'PARTING': 2134, 'Kenny': 2135, 'Dalglish': 2136, 'spoke': 2137, 'sadness': 2138, 'leaving': 2139, 'club': 2140, 'premier': 2141, 'league': 2142, 'title': 2143, '1994-95': 2144, 'parted': 2145, 'mutual': 2146, 'consent': 2147, 'ex-manager': 2148, 'confessed': 2149, 'taking': 2150, 'division': 2151, 'local': 2152, 'newspaper': 2153, 'holiday': 2154, 'same': 2155, 'opinion': 2156, 'albeit': 2157, 'little': 2158, 'If': 2159, 'opened': 2160, 'my': 2161, 'mouth': 2162, 'stayed': 2163, 'way': 2164, 'let': 2165, 'get': 2166, 'job': 2167, 'conclusion': 2168, 'then': 2169, 'past': 2170, '15': 2171, 'director': 2172, 'football': 2173, 'CRICKET': 2174, 'COUNTY': 2175, 'CHAMPIONSHIP': 2176, 'Close': 2177, 'play': 2178, 'scores': 2179, 'four-day': 2180, 'County': 2181, 'Championship': 2182, 'cricket': 2183, 'matches': 2184, 'Weston-super-Mare': 2185, 'Durham': 2186, '326': 2187, 'D.': 2188, 'Cox': 2189, 'S.': 2190, 'Campbell': 2191, ';': 2192, 'G.': 2193, '7-73': 2194, 'Somerset': 2195, '236-4': 2196, 'M.': 2197, 'Lathwell': 2198, '85': 2199, 'Firsy': 2200, 'Colchester': 2201, 'Gloucestershire': 2202, '280': 2203, 'J.': 2204, 'Russell': 2205, '63': 2206, 'A.': 2207, 'Symonds': 2208, '52': 2209, 'Cowan': 2210, '5-68': 2211, 'Essex': 2212, '72-0': 2213, 'Cardiff': 2214, 'Kent': 2215, '128-1': 2216, 'Walker': 2217, '59': 2218, 'Fulton': 2219, 'v': 2220, 'Glamorgan': 2221, 'Leicester': 2222, 'Leicestershire': 2223, '343-8': 2224, 'P.': 2225, 'Simmons': 2226, '108': 2227, 'Nixon': 2228, '67': 2229, 'Hampshire': 2230, 'Northampton': 2231, 'Sussex': 2232, '368-7': 2233, 'N.': 2234, 'Lenham': 2235, '145': 2236, 'V.': 2237, 'Drakes': 2238, 'Wells': 2239, '51': 2240, 'Northamptonshire': 2241, 'Trent': 2242, 'Nottinghamshire': 2243, '392-6': 2244, 'Archer': 2245, '143': 2246, 'Dowman': 2247, '107': 2248, 'Surrey': 2249, 'Worcester': 2250, 'Warwickshire': 2251, '255-9': 2252, 'Giles': 2253, '57': 2254, 'W.': 2255, 'Khan': 2256, 'Worcestershire': 2257, 'Headingley': 2258, 'Yorkshire': 2259, '305-5': 2260, 'C.': 2261, 'White': 2262, 'Moxon': 2263, 'Vaughan': 2264, 'Lancashire': 2265, 'ENGLAND': 2266, 'V': 2267, 'PAKISTAN': 2268, 'FINAL': 2269, 'TEST': 2270, 'SCOREBOARD': 2271, 'Scoreboard': 2272, 'final': 2273, 'Oval': 2274, 'innings': 2275, 'Atherton': 2276, 'b': 2277, 'Waqar': 2278, 'Younis': 2279, 'Mushtaq': 2280, 'Ahmed': 2281, '44': 2282, 'Hussain': 2283, 'c': 2284, 'Saeed': 2285, 'Anwar': 2286, 'Thorpe': 2287, 'lbw': 2288, 'Mohammad': 2289, 'Akram': 2290, '54': 2291, 'Crawley': 2292, '94': 2293, 'Knight': 2294, '17': 2295, 'Lewis': 2296, 'Wasim': 2297, 'I.': 2298, 'Salisbury': 2299, 'Extras': 2300, 'lb-11': 2301, 'w-1': 2302, 'nb-8': 2303, 'wickets': 2304, '278': 2305, 'Fall': 2306, '1-64': 2307, '2-85': 2308, '3-116': 2309, '4-205': 2310, '5-248': 2311, '6-273': 2312, 'To': 2313, 'bat': 2314, 'R.': 2315, 'Croft': 2316, 'Cork': 2317, 'Mullally': 2318, 'Bowling': 2319, 'date': 2320, '25-8-61-1': 2321, '20-6-70-2': 2322, '12-1-41-1': 2323, '27-5-78-2': 2324, 'Aamir': 2325, 'Sohail': 2326, '6-1-17-0': 2327, 'Ijaz': 2328, 'Inzamam-ul-Haq': 2329, 'Salim': 2330, 'Malik': 2331, 'Asif': 2332, 'Mujtaba': 2333, 'Moin': 2334, 'Akam': 2335, 'FERGUSON': 2336, 'BACK': 2337, 'IN': 2338, 'SCOTTISH': 2339, 'SQUAD': 2340, 'AFTER': 2341, 'MONTHS': 2342, 'GLASGOW': 2343, 'Everton': 2344, 'Duncan': 2345, 'Ferguson': 2346, 'scored': 2347, 'Manchester': 2348, 'picked': 2349, 'Scottish': 2350, 'squad': 2351, '20-month': 2352, 'Glasgow': 2353, 'Rangers': 2354, 'striker': 2355, 'Ally': 2356, 'McCoist': 2357, 'another': 2358, 'man': 2359, 'form': 2360, 'hat-tricks': 2361, 'four': 2362, 'named': 2363, 'qualifier': 2364, 'Austria': 2365, 'Vienna': 2366, 'served': 2367, 'jail': 2368, 'head-butting': 2369, 'opponent': 2370, 'Scotland': 2371, 'caps': 2372, 'December': 2373, '1994': 2374, 'Brown': 2375, \"'ve\": 2376, 'watched': 2377, 'bang': 2378, 'great': 2379, 'scoring': 2380, 'moment': 2381, 'Celtic': 2382, 'Jackie': 2383, 'McNamara': 2384, 'successful': 2385, 'under-21': 2386, 'earns': 2387, 'call-up': 2388, '100-2': 2389, 'LUNCH': 2390, 'ON': 2391, 'DAY': 2392, 'THIRD': 2393, 'lunch': 2394, 'KEANE': 2395, 'SIGNS': 2396, 'FOUR-YEAR': 2397, 'CONTRACT': 2398, 'WITH': 2399, 'MANCHESTER': 2400, 'UNITED': 2401, 'Ireland': 2402, 'midfielder': 2403, 'Roy': 2404, 'Keane': 2405, 'signed': 2406, 'four-year': 2407, 'F.A.': 2408, 'champions': 2409, 'deal': 2410, 'game': 2411, 'delighted': 2412, 'Alex': 2413, 'CANADIAN': 2414, 'OPEN': 2415, 'TORONTO': 2416, 'Canadian': 2417, 'Open': 2418, 'Daniel': 2419, 'Nestor': 2420, 'Canada': 2421, 'Thomas': 2422, 'Muster': 2423, 'Mikael': 2424, 'Tillstrom': 2425, 'Goran': 2426, 'Ivanisevic': 2427, 'Croatia': 2428, '6-7': 2429, '3-7': 2430, 'Ferreira': 2431, 'Jiri': 2432, 'Novak': 2433, 'Marcelo': 2434, 'Rios': 2435, 'Chile': 2436, 'Kenneth': 2437, 'Carlsen': 2438, 'Denmark': 2439, 'MaliVai': 2440, 'Corretja': 2441, 'Todd': 2442, 'Renzo': 2443, 'Furlan': 2444, '7-3': 2445, 'Philippoussis': 2446, 'Marc': 2447, 'Rosset': 2448, 'Switzerland': 2449, '8-6': 2450, '9': 2451, 'Cedric': 2452, 'Pioline': 2453, 'Gregory': 2454, 'Carraz': 2455, '7-1': 2456, 'Patrick': 2457, 'Rafter': 2458, '11': 2459, 'Alberto': 2460, 'Berasategui': 2461, '6-1': 2462, 'Petr': 2463, 'Korda': 2464, 'Francisco': 2465, 'Clavet': 2466, 'Vacek': 2467, '13': 2468, 'Stoltenberg': 2469, '13-11': 2470, 'Woodbridge': 2471, 'Sebastien': 2472, 'Lareau': 2473, \"O'Brien\": 2474, 'Byron': 2475, 'Black': 2476, 'Zimbabwe': 2477, '7-2': 2478, 'Bohdan': 2479, 'Ulihrach': 2480, 'Andrea': 2481, 'Gaudenzi': 2482, 'Henman': 2483, 'Woodruff': 2484, 'walkover': 2485, 'MILLNS': 2486, 'BOLAND': 2487, 'CAPE': 2488, 'TOWN': 2489, 'provincial': 2490, 'Boland': 2491, 'fast': 2492, 'bowler': 2493, 'Millns': 2494, 'toured': 2495, '1992/93': 2496, 'replaces': 2497, 'all-rounder': 2498, 'Phillip': 2499, 'DeFreitas': 2500, 'professional': 2501, 'EUROPEAN': 2502, 'WINNERS': 2503, 'TIRANA': 2504, 'Winners': 2505, 'qualifying': 2506, 'soccer': 2507, 'Tirana': 2508, 'Flamurtari': 2509, 'Vlore': 2510, 'Chemlon': 2511, 'Humenne': 2512, '0-0': 2513, 'Lubarskij': 2514, '50th': 2515, 'minute': 2516, 'Valkucak': 2517, '54th': 2518, '5,000': 2519, 'win': 2520, 'Chorzow': 2521, 'Ruch': 2522, 'Llansantffraid': 2523, 'Wales': 2524, '1-0': 2525, 'Arkadiusz': 2526, 'Bak': 2527, '1st': 2528, '55th': 2529, 'Arwel': 2530, '47th': 2531, 'Miroslav': 2532, '62nd': 2533, '63rd': 2534, '6,500': 2535, 'Larnaca': 2536, 'AEK': 2537, 'Cyprus': 2538, 'Kotaik': 2539, 'Abovyan': 2540, 'Armenia': 2541, '2-0': 2542, 'Zoran': 2543, 'Kundic': 2544, '28th': 2545, 'Klimis': 2546, 'Alexandrou': 2547, '41st': 2548, 'Milenko': 2549, 'Kovasevic': 2550, '60th': 2551, 'penalty': 2552, 'Koprinovic': 2553, '82nd': 2554, 'Pavlos': 2555, 'Markou': 2556, '5-1': 2557, 'Siauliai': 2558, 'Kareda': 2559, 'Lithuania': 2560, 'Sion': 2561, 'agrregate': 2562, 'Vinnytsya': 2563, 'Nyva': 2564, 'Tallinna': 2565, 'Sadam': 2566, 'Estonia': 2567, '3,000': 2568, 'Aggregate': 2569, 'score': 2570, '2-2': 2571, 'goals': 2572, 'rule': 2573, 'Bergen': 2574, 'Brann': 2575, 'Norway': 2576, 'Shelbourne': 2577, 'Mons': 2578, 'Ivar': 2579, 'Mjelde': 2580, '10th': 2581, 'Ove': 2582, 'Pedersen': 2583, '72nd': 2584, 'Rutherford': 2585, '5th': 2586, '2,189': 2587, '5-2': 2588, 'Sofia': 2589, 'Levski': 2590, 'Bulgaria': 2591, 'Olimpija': 2592, 'Slovenia': 2593, 'Scorer': 2594, 'Ilian': 2595, 'Simeonov': 2596, '58th': 2597, '25,000': 2598, '4-3': 2599, 'penalties': 2600, 'Vaduz': 2601, 'Liechtenstein': 2602, 'RAF': 2603, 'Riga': 2604, 'Latvia': 2605, 'Daniele': 2606, 'Polverino': 2607, '90th': 2608, 'Agrins': 2609, 'Zarins': 2610, 'Luxembourg': 2611, 'Varteks': 2612, 'Varazdin': 2613, 'Drazen': 2614, 'Beser': 2615, 'Miljenko': 2616, 'Mumler': 2617, '78th': 2618, 'Jamir': 2619, 'Cvetko': 2620, '87th': 2621, 'Torshavn': 2622, 'Havnar': 2623, 'Boltfelag': 2624, 'Faroe': 2625, 'Islands': 2626, 'Dynamo': 2627, 'Batumi': 2628, 'Georgia': 2629, '0-2': 2630, '9-0': 2631, 'Prague': 2632, 'Sparta': 2633, 'Glentoran': 2634, 'Northern': 2635, '4-0': 2636, 'Gunda': 2637, '26th': 2638, 'Lumir': 2639, 'Mistr': 2640, '19th': 2641, 'Horst': 2642, 'Siegl': 2643, '48th': 2644, '80th': 2645, 'Zdenek': 2646, 'Svoboda': 2647, '76th': 2648, 'Gabriel': 2649, '86th': 2650, '10-1': 2651, 'Edinburgh': 2652, 'Hearts': 2653, 'Star': 2654, 'Belgrade': 2655, 'Yugoslavia': 2656, 'Dave': 2657, 'McPherson': 2658, '44th': 2659, 'Vinko': 2660, 'Marinovic': 2661, '59th': 2662, '15,062': 2663, 'Rishon-Lezion': 2664, 'Hapoel': 2665, 'Ironi': 2666, 'Constructorul': 2667, 'Chisinau': 2668, 'Moldova': 2669, '3-3': 2670, 'Anjalonkoski': 2671, 'MyPa-47': 2672, 'Karabach': 2673, 'Agdam': 2674, 'Azerbaijan': 2675, 'Mypa-47': 2676, 'Skopje': 2677, 'Sloga': 2678, 'Jugomagnat': 2679, 'Macedonia': 2680, 'Kispest': 2681, 'Honved': 2682, 'Hungary': 2683, 'Add': 2684, 'Rishon': 2685, 'Moshe': 2686, 'Sabag': 2687, 'Nissan': 2688, 'Kapeta': 2689, 'Tomas': 2690, 'Cibola': 2691, 'Constructorol': 2692, 'Sergei': 2693, 'Rogachev': 2694, '42nd': 2695, 'Gennadi': 2696, 'Skidan': 2697, '1,500': 2698, 'GOTHENBURG': 2699, 'PUT': 2700, 'FERENCVAROS': 2701, 'OUT': 2702, 'EURO': 2703, 'BUDAPEST': 2704, 'IFK': 2705, 'Gothenburg': 2706, 'drew': 2707, 'Ferencvaros': 2708, 'Champions': 2709, 'tie': 2710, 'played': 2711, '4-1': 2712, 'Ferenc': 2713, 'Horvath': 2714, '15th': 2715, 'Andreas': 2716, 'Andersson': 2717, '9,000': 2718, 'BRAZILIAN': 2719, 'RIO': 2720, 'DE': 2721, 'JANEIRO': 2722, 'midweek': 2723, 'Brazilian': 2724, 'championship': 2725, 'Bahia': 2726, 'Atletico': 2727, 'Paranaense': 2728, 'Corinthians': 2729, 'Guarani': 2730, 'Coritiba': 2731, 'Mineiro': 2732, 'Cruzeiro': 2733, 'Vitoria': 2734, 'Flamengo': 2735, 'Juventude': 2736, 'Goias': 2737, 'Sport': 2738, 'Recife': 2739, 'Gremio': 2740, 'Bragantino': 2741, 'Palmeiras': 2742, 'Vasco': 2743, 'da': 2744, 'Gama': 2745, 'Portuguesa': 2746, 'Parana': 2747, 'NEWCOMBE': 2748, 'PONDERS': 2749, 'HIS': 2750, 'DAVIS': 2751, 'FUTURE': 2752, 'SYDNEY': 2753, 'captain': 2754, 'Newcombe': 2755, 'signalled': 2756, 'resignation': 2757, 'loses': 2758, 'Wimbledon': 2759, 'champion': 2760, 'coach': 2761, 'Tony': 2762, 'Roche': 2763, 'determined': 2764, 'events': 2765, 'Split': 2766, 'lose': 2767, 'look': 2768, 'giving': 2769, 'someone': 2770, 'else': 2771, 'Sydney': 2772, 'Telegraph': 2773, 'world': 2774, 'clay': 2775, '20-22': 2776, 'Under': 2777, 'leadership': 2778, 'relegated': 2779, 'elite': 2780, '26-time': 2781, 'slipped': 2782, 'rank': 2783, 'Since': 2784, 'Neale': 2785, 'Fraser': 2786, 'tandem': 2787, 'doubles': 2788, 'partner': 2789, 'wins': 2790, 'losses': 2791, 'selected': 2792, 'semifinalist': 2793, 'Olympic': 2794, 'Woodforde': 2795, 'Croatians': 2796, 'boasts': 2797, 'conceded': 2798, 'hard-pressed': 2799, 'Croatian': 2800, 'breath': 2801, 'absolute': 2802, 'best': 2803, 'described': 2804, 'toughest': 2805, 'faced': 2806, '1986': 2807, 'beaten': 2808, 'finalists': 2809, 'ago': 2810, 'guidance': 2811, 'BADMINTON': 2812, 'MALAYSIAN': 2813, 'KUALA': 2814, 'LUMPUR': 2815, 'Malaysian': 2816, 'badminton': 2817, 'Men': 2818, 'singles': 2819, '9/16': 2820, 'Luo': 2821, 'Yigang': 2822, 'Hwang': 2823, 'Sun-ho': 2824, 'Korea': 2825, '15-3': 2826, '15-7': 2827, 'Wong': 2828, 'Malaysia': 2829, 'Abdul': 2830, 'Samad': 2831, 'Ismail': 2832, '16-18': 2833, '15-2': 2834, '17-14': 2835, 'Kantharoopan': 2836, '3/4': 2837, 'Jeroen': 2838, 'Van': 2839, 'Dijk': 2840, 'Netherlands': 2841, '15-11': 2842, '18-14': 2843, 'Wijaya': 2844, 'Indra': 2845, 'Indonesia': 2846, 'Pang': 2847, 'Chen': 2848, '15-6': 2849, '6-15': 2850, 'Hu': 2851, 'Zhilan': 2852, 'Nunung': 2853, 'Subandoro': 2854, '5-15': 2855, '18-15': 2856, 'Hermawan': 2857, 'Susanto': 2858, 'Fung': 2859, 'Permadi': 2860, '15-8': 2861, '15-12': 2862, 'Women': 2863, '2nd': 2864, 'Cindana': 2865, '11-3': 2866, '1ama': 2867, 'Margit': 2868, 'Borg': 2869, '11-6': 2870, 'Sun': 2871, 'Jian': 2872, 'Marina': 2873, 'Andrievskaqya': 2874, '11-8': 2875, '11-2': 2876, 'Meluawati': 2877, 'Chia': 2878, 'Fong': 2879, '11-1': 2880, 'Gong': 2881, 'Zhichao': 2882, 'Liu': 2883, 'Lufung': 2884, '6-11': 2885, '11-7': 2886, 'Zeng': 2887, 'Yaqiong': 2888, 'Li': 2889, 'Feng': 2890, 'Zealand': 2891, '11-9': 2892, 'Christine': 2893, 'Magnusson': 2894, 'Ishwari': 2895, 'Boopathy': 2896, '10-12': 2897, 'Zhang': 2898, 'Ning': 2899, 'Olivia': 2900, 'REVISED': 2901, 'MEN': 2902, \"'S\": 2903, 'DRAW': 2904, 'NEW': 2905, 'Revised': 2906, 'draw': 2907, 'championships': 2908, 'beginning': 2909, 'U.S': 2910, 'Tennis': 2911, 'Centre': 2912, 'Draw': 2913, 'Pete': 2914, 'Sampras': 2915, 'vs.': 2916, 'Adrian': 2917, 'Voinea': 2918, 'Magnus': 2919, 'Larsson': 2920, 'Volkov': 2921, 'vs': 2922, 'Qualifier': 2923, 'Andrei': 2924, 'Olhovskiy': 2925, 'Roberto': 2926, 'Carretero': 2927, 'Jordi': 2928, 'Burillo': 2929, '------------------------': 2930, 'Jonas': 2931, 'Bjorkman': 2932, 'Christian': 2933, 'Rudd': 2934, 'Rikl': 2935, 'Sjeng': 2936, 'Schalken': 2937, 'Schaller': 2938, 'Grant': 2939, 'Stafford': 2940, 'Guy': 2941, 'Forget': 2942, 'Fernando': 2943, 'Meligeni': 2944, 'Brazil': 2945, 'Yevgeny': 2946, 'Kafelnikov': 2947, 'Chesnokov': 2948, 'Draper': 2949, 'Galo': 2950, 'Blanco': 2951, 'Johansson': 2952, 'Hendrik': 2953, 'Dreekman': 2954, 'Rusedski': 2955, 'Medvedev': 2956, 'Jean-Philippe': 2957, 'Fleurian': 2958, 'Kroslak': 2959, '14': 2960, 'Costa': 2961, 'Younnes': 2962, 'Shuzo': 2963, 'Matsuoka': 2964, 'Doug': 2965, 'Flach': 2966, 'Mats': 2967, 'Wilander': 2968, 'Haarhuis': 2969, 'Tebbutt': 2970, 'Jonathan': 2971, 'Stark': 2972, 'Bernd': 2973, 'Karbacher': 2974, 'Stefan': 2975, 'Edberg': 2976, 'Richard': 2977, 'Krajicek': 2978, 'Andre': 2979, 'Agassi': 2980, 'Mauricio': 2981, 'Hadad': 2982, 'Colombia': 2983, 'Marcos': 2984, 'Ondruska': 2985, 'Felix': 2986, 'Mantilla': 2987, 'Carlos': 2988, 'Moya': 2989, 'Humphries': 2990, 'Siemerink': 2991, 'Carl-Uwe': 2992, 'Steeb': 2993, 'Wheaton': 2994, 'Kevin': 2995, 'Kim': 2996, 'Nicolas': 2997, 'Lapentti': 2998, 'Ecuador': 2999, 'Karim': 3000, 'Alami': 3001, 'Enqvist': 3002, 'Stephane': 3003, 'Simian': 3004, 'Guillaume': 3005, 'Raoux': 3006, 'Filip': 3007, 'Dewulf': 3008, 'Belgium': 3009, 'Knowles': 3010, 'Bahamas': 3011, 'Filippini': 3012, 'Uruguay': 3013, 'Kris': 3014, 'Goossens': 3015, 'Stich': 3016, 'Chuck': 3017, 'Adams': 3018, 'Javier': 3019, 'Frana': 3020, 'Argentina': 3021, 'Courier': 3022, 'Grabb': 3023, 'Sandon': 3024, 'Stolle': 3025, 'Stefano': 3026, 'Pescosolido': 3027, 'Arnaud': 3028, 'Boetsch': 3029, 'Pereira': 3030, 'Venezuela': 3031, 'Gustafsson': 3032, 'Jeff': 3033, 'Tarango': 3034, 'Radulescu': 3035, 'Jared': 3036, 'Palmer': 3037, 'Hernan': 3038, 'Gumy': 3039, 'Nicklas': 3040, 'Kulti': 3041, 'Jakob': 3042, 'Hlasek': 3043, 'Cecil': 3044, 'Mamiit': 3045, 'Vince': 3046, 'Spadea': 3047, 'Prinosil': 3048, 'Carbonell': 3049, 'BASEBALL': 3050, 'ORIOLES': 3051, 'DAVEY': 3052, 'JOHNSON': 3053, 'HOSPITALIZED': 3054, 'BALTIMORE': 3055, 'Baltimore': 3056, 'Orioles': 3057, 'Davey': 3058, 'Johnson': 3059, 'miss': 3060, 'Seattle': 3061, 'Mariners': 3062, 'hospital': 3063, 'irregular': 3064, 'heartbeat': 3065, '53-year-old': 3066, 'hospitalized': 3067, 'experiencing': 3068, 'dizziness': 3069, 'treated': 3070, 'observed': 3071, 'physician': 3072, 'Dr.': 3073, 'William': 3074, 'Goldiner': 3075, 'adding': 3076, 'released': 3077, 'bench': 3078, 'Andy': 3079, 'Etchebarren': 3080, 'manage': 3081, 'absence': 3082, 'Angels': 3083, 'skipper': 3084, 'Columbia': 3085, 'Presbyterian': 3086, 'Hospital': 3087, 'blood': 3088, 'clot': 3089, 'calf': 3090, 'eight': 3091, 'seasons': 3092, 'off-season': 3093, 'replacing': 3094, 'Regan': 3095, 'Cincinnati': 3096, 'Reds': 3097, 'League': 3098, 'guided': 3099, 'Mets': 3100, 'games': 3101, 'pull': 3102, 'within': 3103, 'slumping': 3104, 'Yankees': 3105, 'American': 3106, 'Division': 3107, 'MAJOR': 3108, 'LEAGUE': 3109, 'STANDINGS': 3110, 'WEDNESDAY': 3111, 'GAMES': 3112, 'Major': 3113, 'Baseball': 3114, 'standings': 3115, 'tabulate': 3116, 'lost': 3117, 'winning': 3118, 'percentage': 3119, 'AMERICAN': 3120, 'EASTERN': 3121, 'DIVISION': 3122, 'W': 3123, 'L': 3124, 'GB': 3125, '.576': 3126, '58': 3127, '.536': 3128, 'BOSTON': 3129, '64': 3130, '.496': 3131, '.457': 3132, 'DETROIT': 3133, '82': 3134, '.349': 3135, '28': 3136, 'CENTRAL': 3137, 'CLEVELAND': 3138, '.598': 3139, '.539': 3140, 'MINNESOTA': 3141, '.500': 3142, 'MILWAUKEE': 3143, '60': 3144, '.469': 3145, 'KANSAS': 3146, 'CITY': 3147, '.453': 3148, '18': 3149, 'WESTERN': 3150, 'TEXAS': 3151, '.575': 3152, 'SEATTLE': 3153, '61': 3154, '.512': 3155, 'OAKLAND': 3156, '62': 3157, '.481': 3158, 'CALIFORNIA': 3159, '.460': 3160, 'THURSDAY': 3161, 'AUGUST': 3162, 'SCHEDULE': 3163, 'ATLANTA': 3164, '46': 3165, '.632': 3166, 'MONTREAL': 3167, '.461': 3168, 'FLORIDA': 3169, 'PHILADELPHIA': 3170, '.409': 3171, 'HOUSTON': 3172, '.535': 3173, 'ST': 3174, 'LOUIS': 3175, '.532': 3176, '.504': 3177, 'CINCINNATI': 3178, 'PITTSBURGH': 3179, '.421': 3180, 'SAN': 3181, 'DIEGO': 3182, '.543': 3183, 'LOS': 3184, 'ANGELES': 3185, '.524': 3186, 'COLORADO': 3187, '65': 3188, 'FRANCISCO': 3189, '.435': 3190, 'CAPS': 3191, 'Chicago': 3192, 'Milwaukee': 3193, 'Oakland': 3194, 'Texas': 3195, 'Pittsburgh': 3196, 'St': 3197, 'Louis': 3198, 'Philadelphia': 3199, 'Montreal': 3200, 'GREER': 3201, 'HOMER': 3202, '10TH': 3203, 'LIFTS': 3204, 'PAST': 3205, 'INDIANS': 3206, 'Rusty': 3207, 'Greer': 3208, 'two-run': 3209, 'homer': 3210, 'inning': 3211, 'rallied': 3212, '10-8': 3213, 'Cleveland': 3214, 'Indians': 3215, 'rubber': 3216, 'three-game': 3217, 'series': 3218, 'With': 3219, 'pitch': 3220, 'Julian': 3221, 'Tavarez': 3222, '4-7': 3223, 'right-field': 3224, 'fence': 3225, 'off-speed': 3226, 'tried': 3227, 'swing': 3228, 'big': 3229, 'crowd': 3230, 'intense': 3231, 'shot': 3232, 'Ivan': 3233, 'Rodriguez': 3234, 'double': 3235, 'catcher': 3236, 'Mickey': 3237, 'Cochrane': 3238, 'Johnny': 3239, 'Bench': 3240, 'Terry': 3241, 'Kennedy': 3242, 'catchers': 3243, '40': 3244, 'nine': 3245, 'meetings': 3246, 'Western': 3247, 'Jacobs': 3248, 'Field': 3249, 'joining': 3250, 'teams': 3251, 'A.L.': 3252, 'Central': 3253, 'extra': 3254, 'ninth': 3255, 'Lofton': 3256, 'single': 3257, 'Ed': 3258, 'Vosberg': 3259, 'blew': 3260, 'save': 3261, 'got': 3262, 'allowing': 3263, 'hits': 3264, 'walks': 3265, 'strikeouts': 3266, '2/3': 3267, 'scoreless': 3268, 'Dean': 3269, '30th': 3270, 'Cal': 3271, 'Ripken': 3272, 'fifth-inning': 3273, 'solo': 3274, 'Bobby': 3275, 'Bonilla': 3276, 'three-run': 3277, 'seventh': 3278, 'power': 3279, 'surging': 3280, '10-5': 3281, 'runs': 3282, 'fifth': 3283, '5-5': 3284, 'bottom': 3285, '21st': 3286, 'starter': 3287, 'Sterling': 3288, 'Hitchcock': 3289, '12-6': 3290, 'blast': 3291, 'Randy': 3292, 'Cy': 3293, 'Young': 3294, 'allowed': 3295, 'relief': 3296, 'appearances': 3297, 'disabled': 3298, 'RBI': 3299, 'cut': 3300, 'Erickson': 3301, '8-10': 3302, 'laboured': 3303, 'straight': 3304, 'homers': 3305, 'dropped': 3306, 'row': 3307, 'became': 3308, 'shortstop': 3309, 'major-league': 3310, 'history': 3311, '34': 3312, 'Hoiles': 3313, '22nd': 3314, 'Dickson': 3315, 'scattered': 3316, '1/3': 3317, 'debut': 3318, 'Chili': 3319, 'belted': 3320, 'each': 3321, 'plate': 3322, 'Derek': 3323, 'Jeter': 3324, 'settled': 3325, '27th': 3326, 'pitcher': 3327, 'tying': 3328, 'Jimmy': 3329, 'Key': 3330, '9-10': 3331, 'baserunners': 3332, 'interim': 3333, 'Boston': 3334, 'Mike': 3335, 'Stanley': 3336, 'bases-loaded': 3337, 'eighth-inning': 3338, 'Sox': 3339, 'Athletics': 3340, 'owns': 3341, '.367': 3342, 'career': 3343, 'batting': 3344, 'bases': 3345, 'loaded': 3346, '33-for-90': 3347, 'Mo': 3348, 'Vaughn': 3349, 'went': 3350, '3-for-3': 3351, 'walk': 3352, 'stole': 3353, 'collected': 3354, '116th': 3355, 'Brosius': 3356, 'homered': 3357, 'drove': 3358, 'Detroit': 3359, 'Ausmus': 3360, 'capped': 3361, 'four-run': 3362, 'eighth': 3363, 'Tigers': 3364, 'reeling': 3365, 'consecutive': 3366, 'dropping': 3367, 'Kansas': 3368, 'City': 3369, 'Juan': 3370, 'Guzman': 3371, 'tossed': 3372, 'complete-game': 3373, 'six-hitter': 3374, 'league-best': 3375, 'ERA': 3376, 'Blue': 3377, 'Jays': 3378, 'Royals': 3379, 'span': 3380, 'earned': 3381, 'lowered': 3382, '2.99': 3383, 'Minnesota': 3384, 'Jaha': 3385, 'five-run': 3386, 'Brewers': 3387, '10-7': 3388, 'Twins': 3389, 'Jose': 3390, 'Valentin': 3391, 'COCU': 3392, 'DOUBLE': 3393, 'EARNS': 3394, 'PSV': 3395, 'WIN': 3396, 'Cocu': 3397, 'spur': 3398, 'Eindhoven': 3399, 'Nijmegen': 3400, 'bicycle': 3401, 'kick': 3402, 'minutes': 3403, 'Arthur': 3404, 'Numan': 3405, 'Luc': 3406, 'Nilis': 3407, 'scorer': 3408, 'marksmen': 3409, 'Ajax': 3410, 'defence': 3411, 'NAC': 3412, 'Breda': 3413, 'DUTCH': 3414, 'SUMMARY': 3415, 'Eykeren': 3416, '11th': 3417, '67th': 3418, 'Halftime': 3419, '1-2': 3420, 'RESULT': 3421, 'SHARPSHOOTER': 3422, 'KNUP': 3423, 'SWISS': 3424, 'GENEVA': 3425, 'Galatasaray': 3426, 'Knup': 3427, '26': 3428, 'internationals': 3429, 'recalled': 3430, 'Baku': 3431, 'overlooked': 3432, 'Artur': 3433, 'Jorge': 3434, 'finals': 3435, 'Rolf': 3436, 'Fringer': 3437, 'clearly': 3438, '19-man': 3439, 'progress': 3440, 'beyond': 3441, 'phase': 3442, 'Euro': 3443, 'Squad': 3444, 'Goalkeepers': 3445, 'Marco': 3446, 'Pascolo': 3447, 'Cagliari': 3448, 'Pascal': 3449, 'Zuberbuehler': 3450, 'Grasshoppers': 3451, 'Defenders': 3452, 'Henchoz': 3453, 'Hamburg': 3454, 'Hottiger': 3455, 'Yvan': 3456, 'Quentin': 3457, 'Ramon': 3458, 'Vega': 3459, 'Raphael': 3460, 'Wicky': 3461, 'Midfielders': 3462, 'Alexandre': 3463, 'Comisetti': 3464, 'Antonio': 3465, 'Esposito': 3466, 'Fournier': 3467, 'Stuttgart': 3468, 'Christophe': 3469, 'Ohrel': 3470, 'Lausanne': 3471, 'Sylvestre': 3472, 'Sesa': 3473, 'Servette': 3474, 'Ciriaco': 3475, 'Sforza': 3476, 'Inter': 3477, 'Milan': 3478, 'Murat': 3479, 'Yakin': 3480, 'Strikers': 3481, 'Kubilay': 3482, 'Turkyilmaz': 3483, 'Bonvin': 3484, 'Chapuisat': 3485, 'Borussia': 3486, 'Dortmund': 3487, 'ATHLETICS': 3488, 'IT': 3489, 'RECORD': 3490, '40,000': 3491, 'BEERS': 3492, 'THE': 3493, 'HOUSE': 3494, 'Spectators': 3495, 'Brussels': 3496, 'grand': 3497, 'prix': 3498, 'incentive': 3499, 'cheer': 3500, 'athletes': 3501, 'performances': 3502, 'glass': 3503, 'beer': 3504, 'Belgian': 3505, 'brewery': 3506, 'pay': 3507, 'drinks': 3508, 'goes': 3509, 'organisers': 3510, 'expensive': 3511, 'rounds': 3512, 'ever': 3513, 'already': 3514, 'records': 3515, 'broken': 3516, 'women': 3517, '1,000': 3518, 'ROUND': 3519, 'STUTTGART': 3520, 'Leading': 3521, 'golf': 3522, 'Broadhurst': 3523, 'Raymond': 3524, 'Ian': 3525, 'Woosnam': 3526, 'Bernhard': 3527, 'Langer': 3528, 'Ronan': 3529, 'Rafferty': 3530, 'Lanner': 3531, 'Riley': 3532, 'Eamonn': 3533, 'Darcy': 3534, 'Nyman': 3535, 'Claydon': 3536, 'Roe': 3537, 'Retief': 3538, 'Goosen': 3539, 'Carl': 3540, 'Suneson': 3541, 'Stephen': 3542, 'Lawrie': 3543, 'Pyman': 3544, 'Max': 3545, 'Anglert': 3546, 'Miles': 3547, 'Tunnicliff': 3548, 'Cevaer': 3549, 'Des': 3550, 'Smyth': 3551, 'Carter': 3552, 'Lee': 3553, 'Westwood': 3554, 'Chalmers': 3555, 'Miguel': 3556, 'Angel': 3557, 'Bjorn': 3558, 'Roca': 3559, 'Derrick': 3560, 'Cooper': 3561, 'Hawksworth': 3562, 'Padraig': 3563, 'Harrington': 3564, 'Welch': 3565, 'Gogele': 3566, 'McGinley': 3567, 'Gary': 3568, 'Orr': 3569, 'Jose-Maria': 3570, 'Canizares': 3571, 'Jonzon': 3572, 'Eales': 3573, 'Williams': 3574, 'Andrew': 3575, 'Coltart': 3576, 'Lomas': 3577, 'Rivero': 3578, 'Robert': 3579, 'Karlsson': 3580, 'Marcus': 3581, 'Wills': 3582, 'Pedro': 3583, 'Linhart': 3584, 'Jamie': 3585, 'Spence': 3586, 'Price': 3587, 'Pinero': 3588, 'Mouland': 3589, 'UEFA': 3590, 'REWARDS': 3591, 'THREE': 3592, 'COUNTRIES': 3593, 'FAIR': 3594, 'PLAY': 3595, 'rewarded': 3596, 'additional': 3597, '1997-98': 3598, 'headed': 3599, 'Fair': 3600, 'Play': 3601, 'rankings': 3602, '1995-96': 3603, '8.62': 3604, '8.61': 3605, '8.57': 3606, 'formula': 3607, 'account': 3608, 'factors': 3609, 'including': 3610, 'red': 3611, 'yellow': 3612, 'cards': 3613, 'coaching': 3614, 'spectators': 3615, 'behaviour': 3616, 'clubs': 3617, 'national': 3618, 'allocated': 3619, 'places': 3620, '4.': 3621, '8.56': 3622, '5.': 3623, '8.54': 3624, '6.': 3625, '8.52': 3626, '7.': 3627, '8.45': 3628, '8.': 3629, 'Belarus': 3630, '8.39': 3631, '9.': 3632, 'Iceland': 3633, '8.35': 3634, '10.': 3635, '8.30': 3636, '13.': 3637, '8.29': 3638, '15.': 3639, '8.24': 3640, '16.': 3641, '8.22': 3642, '18.': 3643, '8.20': 3644, '19.': 3645, '8.18': 3646, '20.': 3647, '8.17': 3648, '21.': 3649, '8.15': 3650, '23.': 3651, '8.12': 3652, 'Portugal': 3653, '25.': 3654, '8.10': 3655, '26.': 3656, '8.09': 3657, '29.': 3658, '8.07': 3659, '30.': 3660, '8.06': 3661, '31.': 3662, '8.05': 3663, '32.': 3664, '8.03': 3665, '33.': 3666, '8.02': 3667, '35.': 3668, '7.98': 3669, '36.': 3670, '7.95': 3671, '37.': 3672, 'Greece': 3673, '7.89': 3674, '39.': 3675, '7.85': 3676, '40.': 3677, '7.83': 3678, '41.': 3679, '7.80': 3680, '42.': 3681, '7.77': 3682, '43.': 3683, '7.75': 3684, '44.': 3685, '7.73': 3686, '45.': 3687, '7.40': 3688, 'POLICE': 3689, 'COMMANDOS': 3690, 'HAND': 3691, 'AUSTRALIANS': 3692, 'MATCH': 3693, 'COLOMBO': 3694, 'Armed': 3695, 'police': 3696, 'commandos': 3697, 'patrolled': 3698, 'ground': 3699, 'tour': 3700, 'Sri': 3701, 'Lanka': 3702, 'youth': 3703, 'limited': 3704, 'overs': 3705, 'includes': 3706, 'India': 3707, 'promised': 3708, 'presence': 3709, 'sniffer': 3710, 'dogs': 3711, 'plainclothes': 3712, 'policemen': 3713, 'trouble-free': 3714, 'making': 3715, 'boycotting': 3716, 'fixture': 3717, 'ethnic': 3718, 'violence': 3719, 'warm-up': 3720, '251': 3721, 'Ricky': 3722, 'Ponting': 3723, '119': 3724, 'balls': 3725, 'sixes': 3726, 'fours': 3727, 'retiring': 3728, 'replied': 3729, '246': 3730, 'Geoff': 3731, 'Marsh': 3732, 'impressed': 3733, 'competitiveness': 3734, 'made': 3735, 'sweat': 3736, 'ONE': 3737, 'ROMANIAN': 3738, 'DIES': 3739, 'BUS': 3740, 'CRASH': 3741, 'BULGARIA': 3742, 'SOFIA': 3743, 'One': 3744, 'Romanian': 3745, 'others': 3746, 'injured': 3747, 'Romanian-registered': 3748, 'bus': 3749, 'collided': 3750, 'Bulgarian': 3751, 'buses': 3752, \"o'clock\": 3753, 'morning': 3754, 'road': 3755, 'towns': 3756, 'Rousse': 3757, 'Veliko': 3758, 'Tarnovo': 3759, 'woman': 3760, 'Maria': 3761, '35': 3762, 'accident': 3763, 'investigated': 3764, '359-2-84561': 3765, 'OFFICIAL': 3766, 'JOURNAL': 3767, 'CONTENTS': 3768, 'OJ': 3769, '211': 3770, '*': 3771, 'Note': 3772, 'contents': 3773, 'displayed': 3774, 'reverse': 3775, 'order': 3776, 'printed': 3777, 'Journal': 3778, 'Corrigendum': 3779, 'Regulation': 3780, 'EC': 3781, '1464/96': 3782, 'relating': 3783, 'invitation': 3784, 'tender': 3785, 'levies': 3786, 'refunds': 3787, 'white': 3788, 'sugar': 3789, '187': 3790, '26.7.1996': 3791, '658/96': 3792, 'certain': 3793, 'granting': 3794, 'compensatory': 3795, 'payments': 3796, 'system': 3797, 'producers': 3798, 'arable': 3799, 'crops': 3800, '91': 3801, '12.4.1996': 3802, '1663/96': 3803, 'establishing': 3804, 'standard': 3805, 'values': 3806, 'determining': 3807, 'entry': 3808, 'fruit': 3809, 'vegetables': 3810, 'END': 3811, 'DOCUMENT': 3812, 'Home': 3813, 'Health': 3814, 'appeal': 3815, 'payment': 3816, 'denial': 3817, 'MINNETONKA': 3818, 'Minn': 3819, 'District': 3820, 'Court': 3821, 'Minneapolis': 3822, 'decision': 3823, 'Care': 3824, 'Financing': 3825, 'Administration': 3826, 'HCFA': 3827, 'reimbursement': 3828, 'Medicaid': 3829, 'Administrator': 3830, 'reversed': 3831, 'previously': 3832, 'favorable': 3833, 'regarding': 3834, 'related': 3835, 'community': 3836, 'liaison': 3837, 'personnel': 3838, 'continues': 3839, 'believe': 3840, 'majority': 3841, 'coverable': 3842, 'terms': 3843, 'Medicare': 3844, 'program': 3845, 'administrator': 3846, 'optimistic': 3847, 'ultimate': 3848, 'resolution': 3849, 'Gildea': 3850, 'recorded': 3851, 'reserve': 3852, 'equal': 3853, 'revenue': 3854, 'Separately': 3855, 'ruled': 3856, 'favor': 3857, 'expenses': 3858, '81,000': 3859, 'disputed': 3860, 'distrct': 3861, 'court': 3862, 'dispute': 3863, 'pleased': 3864, 'recognize': 3865, 'significant': 3866, 'toward': 3867, 'disputes': 3868, 'Newsdesk': 3869, '312-408-8787': 3870, 'Oppenheimer': 3871, 'Oct.': 3872, 'div': 3873, 'LP': 3874, 'distribution': 3875, 'rate': 3876, 'quarterly': 3877, 'assuming': 3878, 'improved': 3879, 'ended': 3880, 'declared': 3881, '0.65': 3882, 'partnership': 3883, 'unit': 3884, 'Best': 3885, 'sees': 3886, 'RICHMOND': 3887, 'Va': 3888, 'Products': 3889, 'Co': 3890, 'Chairman': 3891, 'Chief': 3892, 'Executive': 3893, 'second-quarter': 3894, '34.6': 3895, 'retailer': 3896, 'annual': 3897, 'even': 3898, 'bankruptcy': 3899, 'consideration': 3900, 'emerged': 3901, 'Chapter': 3902, '3-1/2': 3903, 'Bankruptcy': 3904, 'always': 3905, 'particularly': 3906, 'you': 3907, 'something': 3908, 'striving': 3909, 'Richmond-based': 3910, '95.7': 3911, 'second-largest': 3912, 'stores': 3913, 'fall': 3914, 'closing': 3915, 'lease': 3916, 'agreements': 3917, 'plan': 3918, 'operates': 3919, '169': 3920, 'states': 3921, 'For': 3922, '29': 3923, '7.1': 3924, '0.23': 3925, '311.9': 3926, 'Measles': 3927, 'exposure': 3928, 'bowel': 3929, '1996-08-23': 3930, 'measles': 3931, 'pregnant': 3932, 'babies': 3933, 'Crohn': 3934, 'debilitating': 3935, 'disorder': 3936, 'researchers': 3937, 'Swedish': 3938, 'born': 3939, 'mothers': 3940, 'caught': 3941, 'developed': 3942, 'cases': 3943, 'Dr': 3944, 'Wakefield': 3945, 'Free': 3946, 'School': 3947, 'Medicine': 3948, 'colleagues': 3949, 'screened': 3950, 'delivered': 3951, 'University': 3952, 'Uppsala': 3953, '1940': 3954, '1949': 3955, 'Four': 3956, 'children': 3957, 'wrote': 3958, 'Lancet': 3959, 'medical': 3960, 'journal': 3961, 'inflammation': 3962, 'sometimes': 3963, 'require': 3964, 'surgery': 3965, 'causes': 3966, 'diarrhoea': 3967, 'abdominal': 3968, 'pain': 3969, 'weight': 3970, 'involved': 3971, 'especially': 3972, 'severe': 3973, 'Exposure': 3974, 'viruses': 3975, 'often': 3976, 'cause': 3977, 'birth': 3978, 'defects': 3979, 'Most': 3980, 'notably': 3981, 'rubella': 3982, 'high': 3983, 'stillborn': 3984, 'baby': 3985, 'All': 3986, 'key': 3987, 'CBI': 3988, 'industrial': 3989, 'Following': 3990, 'survey': 3991, 'manufacturing': 3992, 'Confederation': 3993, 'Industry': 3994, 'MONTHLY': 3995, 'TRENDS': 3996, 'ENQUIRY': 3997, 'AUG': 3998, 'JULY': 3999, 'JUNE': 4000, 'MAY': 4001, 'book': 4002, 'stocks': 4003, 'goods': 4004, '+17': 4005, '+19': 4006, '+25': 4007, 'expectations': 4008, '+22': 4009, '+12': 4010, '+16': 4011, '+6': 4012, '+4': 4013, 'replying': 4014, 'above': 4015, 'normal': 4016, 'below': 4017, '1,305': 4018, 'companies': 4019, 'representing': 4020, 'industries': 4021, 'accounting': 4022, 'manufactured': 4023, 'employees': 4024, 'Rosemary': 4025, 'Bennett': 4026, '7715': 4027, 'shipsales': 4028, 'Secondhand': 4029, 'tonnage': 4030, 'brokers': 4031, 'vessels': 4032, 'Iron': 4033, 'Gippsland': 4034, 'built': 4035, '1989': 4036, '87,241': 4037, 'dwt': 4038, 'buyers': 4039, 'Sairyu': 4040, 'Maru': 4041, '1982': 4042, '60,960': 4043, '15.5': 4044, 'Stainless': 4045, 'Fighter': 4046, '21,718': 4047, 'Some': 4048, 'subject': 4049, 'inspection': 4050, 'Garlic': 4051, 'pills': 4052, 'cholesterol': 4053, 'finds': 4054, 'studies': 4055, 'show': 4056, 'flawed': 4057, 'doctors': 4058, 'Oxford': 4059, 'people': 4060, 'benefit': 4061, 'significantly': 4062, 'garlic': 4063, 'tablets': 4064, '115': 4065, 'levels': 4066, '900': 4067, 'milligrams': 4068, 'dried': 4069, 'powder': 4070, 'placebo': 4071, 'differences': 4072, 'groups': 4073, 'receiving': 4074, 'College': 4075, 'Physicians': 4076, 'Those': 4077, 'low-fat': 4078, 'diet': 4079, 'measured': 4080, 'six-week': 4081, 'findings': 4082, 'accurate': 4083, 'Several': 4084, 'pressure': 4085, 'either': 4086, 'trials': 4087, 'interpreted': 4088, 'incorrectly': 4089, 'special': 4090, 'diets': 4091, 'beforehand': 4092, 'duration': 4093, 'six-month': 4094, 'trial': 4095, 'funded': 4096, 'Heart': 4097, 'Foundation': 4098, 'Lichtwer': 4099, 'Pharma': 4100, 'GmbH': 4101, 'makes': 4102, 'Kwai': 4103, 'brand': 4104, 'address': 4105, 'whole': 4106, 'affect': 4107, '7950': 4108, 'gives': 4109, 'aid': 4110, 'volcano-hit': 4111, 'Caribbean': 4112, '39': 4113, 'development': 4114, 'Montserrat': 4115, 'much': 4116, 'population': 4117, 'living': 4118, 'south': 4119, 'fled': 4120, 'volcano': 4121, 'Soufriere': 4122, 'hills': 4123, 'times': 4124, '4,500': 4125, 'Plymouth': 4126, 'evacuated': 4127, 'north': 4128, 'shelters': 4129, 'schools': 4130, 'assistance': 4131, 'provide': 4132, 'track': 4133, 'programme': 4134, 'designated': 4135, 'area': 4136, 'Overseas': 4137, 'Development': 4138, '8.5': 4139, 'dependent': 4140, 'territories': 4141, 'active': 4142, 'Lynda': 4143, 'Chalker': 4144, 'recent': 4145, 'census': 4146, 'shown': 4147, 'Montserratians': 4148, 'remain': 4149, 'she': 4150, 'looms': 4151, 'Bill': 4152, 'Berkrot': 4153, 'Grand': 4154, 'Slam': 4155, 'seed': 4156, 'Steffi': 4157, 'Graf': 4158, 'aiming': 4159, 'able': 4160, 'ease': 4161, 'major': 4162, 'begins': 4163, 'opens': 4164, 'crown': 4165, 'top-ranked': 4166, 'Yayuk': 4167, 'Basuki': 4168, 'ceremony': 4169, 'revealed': 4170, 'both': 4171, 'holders': 4172, 'Looming': 4173, 'third-round': 4174, 'nemesis': 4175, 'rising': 4176, 'avenged': 4177, 'defeat': 4178, '19-year-old': 4179, 'hitter': 4180, 'first-week': 4181, 'fireworks': 4182, 'While': 4183, 'stunning': 4184, 'upset': 4185, 'sailing': 4186, 'predictable': 4187, 'semifinal': 4188, 'showdown': 4189, 'star': 4190, 'tested': 4191, 'probably': 4192, '28th-ranked': 4193, 'Natasha': 4194, 'Zvereva': 4195, 'repeat': 4196, 'eighth-ranked': 4197, 'landing': 4198, 'Bumping': 4199, 'sixth': 4200, 'avoided': 4201, 'possibility': 4202, 'quarter-finals': 4203, 'lock': 4204, 'horns': 4205, 'semis': 4206, 'Surprise': 4207, 'ranked': 4208, 'Monica': 4209, 'Seles': 4210, 'Anne': 4211, 'Miller': 4212, 'victim': 4213, 'Second-ranked': 4214, 'Austrian': 4215, 'seeded': 4216, 'luck': 4217, 'faces': 4218, 'playing': 4219, 'survives': 4220, 'fifth-seeded': 4221, '12th-seeded': 4222, 'Perhaps': 4223, 'yet': 4224, 'unfortunate': 4225, 'first-round': 4226, 'matchup': 4227, 'pits': 4228, 'popular': 4229, 'Swede': 4230, 'two-time': 4231, 'farewell': 4232, 'one-match': 4233, 'affair': 4234, 'exception': 4235, 'looks': 4236, 'comfortable': 4237, 'likes': 4238, 'Frenchman': 4239, 'ailing': 4240, 'nursing': 4241, 'rib': 4242, 'injury': 4243, 'path': 4244, 'runner-up': 4245, 'fifth-ranked': 4246, 'Anke': 4247, 'Huber': 4248, 'Conchita': 4249, 'Martinez': 4250, 'eighth-seeded': 4251, 'Lindsay': 4252, 'Davenport': 4253, 'looking': 4254, 'opponents': 4255, 'encounter': 4256, '18th-ranked': 4257, 'Amanda': 4258, 'Coetzer': 4259, 'young': 4260, 'talent': 4261, 'Martina': 4262, 'Hingis': 4263, '16th': 4264, 'probable': 4265, 'quarter-final': 4266, 'clash': 4267, 'seventh-seeded': 4268, 'Jana': 4269, 'Novotna': 4270, 'Ruxandra': 4271, 'Dragomir': 4272, '61-2': 4273, '9373-1800': 4274, 'RTRS': 4275, 'Top-seeded': 4276, '123rd-ranked': 4277, 'lefthander': 4278, 'rallies': 4279, 'constantly': 4280, 'attacking': 4281, 'tactic': 4282, 'worked': 4283, 'second-round': 4284, 'bye': 4285, 'along': 4286, 'seeds': 4287, 'second-seeded': 4288, '6-7(3-7': 4289, 'unseeded': 4290, 'Other': 4291, 'advancing': 4292, 'seeed': 4293, 'Eighth': 4294, 'eliminated': 4295, 'hour': 4296, '55': 4297, 'saved': 4298, 'point': 4299, '5-6': 4300, 'third-set': 4301, 'break': 4302, 'compatriot': 4303, '13th': 4304, 'fortunate': 4305, '9-8': 4306, 'marathon': 4307, 'knew': 4308, 'ranks': 4309, 'service': 4310, 'breaks': 4311, 'lanky': 4312, 'strokes': 4313, 'joking': 4314, 'chipping': 4315, 'charging': 4316, 'serving': 4317, 'volleying': 4318, 'really': 4319, 'timing': 4320, 'baseline': 4321, 'chances': 4322, 'every': 4323, 'come': 4324, 'Playing': 4325, 'lights': 4326, 'maybe': 4327, 'difference': 4328, '2-5': 4329, 'deficit': 4330, 'erratically': 4331, '44th-ranked': 4332, 'surprise': 4333, 'famous': 4334, '32': 4335, 'aces': 4336, 'outplayed': 4337, '24-year-old': 4338, 'sixth-ranked': 4339, 'Indianapolis': 4340, 'quick': 4341, 'getaway': 4342, 'Something': 4343, 'arrived': 4344, 'And': 4345, 'feeling': 4346, 'soon': 4347, 'unfocused': 4348, 'calm': 4349, 'nervy': 4350, \"'m\": 4351, 'fought': 4352, 'tiebreak': 4353, 'serves': 4354, 'hoped': 4355, 'tight': 4356, 'Then': 4357, 'shanked': 4358, 'forehand': 4359, '5-all': 4360, 'helped': 4361, 'Soccer': 4362, 'Korean': 4363, 'pro-soccer': 4364, 'SEOUL': 4365, 'Anyang': 4366, 'Chonnam': 4367, 'Puchon': 4368, 'Suwon': 4369, 'Standings': 4370, 'drawn': 4371, 'D': 4372, 'G': 4373, 'F': 4374, 'P': 4375, 'Chonan': 4376, 'Pohang': 4377, 'Pusan': 4378, 'Ulsan': 4379, 'Chonbuk': 4380, 'Senegal': 4381, 'cholera': 4382, 'outbreak': 4383, 'kills': 4384, 'DAKAR': 4385, 'central': 4386, 'Kaolack': 4387, '291': 4388, 'Doctor': 4389, 'Masserigne': 4390, 'Ndiaye': 4391, 'staff': 4392, 'overwhelmed': 4393, 'rushing': 4394, 'symptoms': 4395, 'appear': 4396, 'deaths': 4397, '160': 4398, 'miles': 4399, 'southeast': 4400, 'Senegalese': 4401, 'Dakar': 4402, 'Nigerian': 4403, 'Liberia': 4404, 'ECOMOG': 4405, 'MONROVIA': 4406, 'Sam': 4407, 'Victor': 4408, 'Malu': 4409, 'commander': 4410, 'peacekeeping': 4411, 'latest': 4412, 'civil': 4413, 'Inienger': 4414, 'officers': 4415, 'handover': 4416, 'dozen': 4417, 'accords': 4418, 'difficult': 4419, 'challenging': 4420, 'painful': 4421, 'Peacekeepers': 4422, 'harassed': 4423, 'assure': 4424, 'sight': 4425, 'Nations': 4426, 'observers': 4427, 'travelling': 4428, 'western': 4429, 'Tubmanburg': 4430, 'monitor': 4431, 'delayed': 4432, 'shooting': 4433, 'highway': 4434, 'Anthony': 4435, 'Nyakyi': 4436, 'finally': 4437, 'escort': 4438, 'ULIMO-J': 4439, 'faction': 4440, 'Faction': 4441, 'Abuja': 4442, 'Saturday': 4443, 'breaking': 4444, 'foresees': 4445, 'disarmament': 4446, '60,000': 4447, 'combatants': 4448, '10,000': 4449, 'Economic': 4450, 'Community': 4451, 'height': 4452, 'Guinea': 4453, 'prayer': 4454, 'CONAKRY': 4455, 'broadcast': 4456, 'repeatedly': 4457, 'dead': 4458, 'prosperity': 4459, 'precise': 4460, 'reason': 4461, 'clear': 4462, 'Lansana': 4463, 'Conte': 4464, 'vice-president': 4465, 'Organisation': 4466, 'Conference': 4467, 'prepare': 4468, 'OIC': 4469, 'Koranic': 4470, 'reading': 4471, 'sessions': 4472, 'prayers': 4473, 'farming': 4474, 'Badi-Tondon': 4475, 'Conakry': 4476, 'army': 4477, 'survived': 4478, 'revolt': 4479, 'veiled': 4480, 'topple': 4481, 'ordered': 4482, 'crackdown': 4483, 'corruption': 4484, 'seized': 4485, '1984': 4486, 'death': 4487, 'Marxist': 4488, 'Sekou': 4489, 'Toure': 4490, '1993': 4491, 'answers': 4492, 'bottle': 4493, 'JOHANNESBURG': 4494, 'boy': 4495, 'writing': 4496, 'girl': 4497, 'whose': 4498, 'washed': 4499, 'Nelson': 4500, 'Mandela': 4501, 'old': 4502, 'prison': 4503, 'Carlo': 4504, 'Hoffmann': 4505, '11-year-old': 4506, 'jailer': 4507, 'son': 4508, 'beach': 4509, 'Robben': 4510, 'Island': 4511, 'Cape': 4512, 'Town': 4513, 'winter': 4514, 'storms': 4515, 'letter': 4516, 'ordinary': 4517, 'mail': 4518, 'post': 4519, 'Danielle': 4520, 'Murray': 4521, 'Sandusky': 4522, 'age': 4523, 'penfriend': 4524, 'reply': 4525, 'whoever': 4526, 'flung': 4527, 'journey': 4528, 'Atlantic': 4529, 'Ocean': 4530, 'Rottweiler': 4531, 'toddler': 4532, 'rottweiler': 4533, 'dog': 4534, 'belonging': 4535, 'elderly': 4536, 'couple': 4537, 'savaged': 4538, 'two-year-old': 4539, 'grandson': 4540, 'Booy': 4541, 'front': 4542, 'garden': 4543, 'grandparents': 4544, 'house': 4545, 'Vanderbijlpark': 4546, 'Johannesburg': 4547, 'His': 4548, 'bloody': 4549, 'body': 4550, 'lying': 4551, 'parents': 4552, 'pick': 4553, 'unclear': 4554, 'Dogs': 4555, 'fierce': 4556, 'enough': 4557, 'scare': 4558, 'burglars': 4559, 'becoming': 4560, 'increasingly': 4561, 'crime-infested': 4562, 'INDICATORS': 4563, 'updated': 4564, 'indicators': 4565, 'CPI': 4566, '+0.4m': 4567, 'm': 4568, '23.0yr': 4569, '+0.9;+23.6': 4570, 'PPI': 4571, '+0.7': 4572, 'm;+21.5yr': 4573, '+1.7;+22.0': 4574, '7.8': 4575, 'm;-0.2yr': 4576, '+7.3;-3.6': 4577, 'Current': 4578, 'Jan-May': 4579, '738': 4580, '748': 4581, 'NBH': 4582, '934': 4583, '774': 4584, 'MIT': 4585, 'Jan-June': 4586, '1.45': 4587, 'bln': 4588, '1.24': 4589, 'Gross': 4590, '27,246.5': 4591, '28,716.8': 4592, '14,390.7': 4593, '15,704.3': 4594, 'Unemployment': 4595, '10.8': 4596, '10.6': 4597, 'Budget': 4598, 'HUF': 4599, 'Jan-July': 4600, '102': 4601, '122': 4602, 'T-bill': 4603, 'yields': 4604, '%': 4605, '1mo': 4606, '22.95': 4607, '3mo': 4608, '23.02': 4609, '6mo': 4610, '23.53': 4611, '1yr': 4612, '24.40': 4613, 'Government': 4614, '2-yr': 4615, '1998': 4616, 'J': 4617, '25.49,(3-yr': 4618, '24.44': 4619, 'BBB-minus': 4620, 'Duff': 4621, '&': 4622, 'Phelps': 4623, 'IBCA': 4624, 'Thomson': 4625, 'BankWatch': 4626, 'BB-plus': 4627, 'BA1': 4628, 'Moody': 4629, 'Investors': 4630, 'BBB+': 4631, 'Credit': 4632, 'Rating': 4633, 'Agency': 4634, 'flow': 4635, 'Budapest': 4636, '36': 4637, '1)266': 4638, '2410': 4639, 'Fifty': 4640, 'die': 4641, 'rebels-Interfax': 4642, 'MOSCOW': 4643, 'least': 4644, 'servicemen': 4645, 'separatist': 4646, 'Chechen': 4647, 'Grozny': 4648, 'Interfax': 4649, 'command': 4650, 'Chechnya': 4651, '200': 4652, 'interior': 4653, 'reconaisance': 4654, 'mission': 4655, 'clashed': 4656, 'Minutka': 4657, 'Square': 4658, 'independently': 4659, 'confirmed': 4660, 'peacemaker': 4661, 'Lebed': 4662, 'chief-of-staff': 4663, 'Aslan': 4664, 'Maskhadov': 4665, 'agreement': 4666, 'cease': 4667, 'hostilities': 4668, 'noon': 4669, '0800': 4670, 'detachment': 4671, '1500': 4672, 'raged': 4673, '1600': 4674, 'outnumbered': 4675, 'schoolgirl': 4676, 'blackmailer': 4677, 'textbooks': 4678, 'GDANSK': 4679, 'blackmailed': 4680, 'letters': 4681, 'threatening': 4682, 'explained': 4683, 'money': 4684, '13-year-old': 4685, 'extract': 4686, 'zlotys': 4687, 'residents': 4688, 'Sierakowice': 4689, 'lives': 4690, 'nearby': 4691, 'Gdansk': 4692, 'blackmail': 4693, 'railway': 4694, 'station': 4695, 'Interviewed': 4696, 'psychologist': 4697, 'school': 4698, 'books': 4699, 'clothes': 4700, 'Kazimierz': 4701, 'Socha': 4702, 'case': 4703, 'poor': 4704, 'family': 4705, 'trouble': 4706, 'underage': 4707, 'offenders': 4708, 'CNB-120': 4709, 'index': 4710, 'pts': 4711, '869.3': 4712, 'PRAGUE': 4713, 'broad': 4714, 'measure': 4715, 'equities': 4716, 'CNB': 4717, 'ten': 4718, 'sectoral': 4719, 'indices': 4720, 'banking': 4721, '14.4': 4722, '1,294.5': 4723, '42-2-2423-0003': 4724, 'sign': 4725, 'NOVYE': 4726, 'ATAGI': 4727, 'Boris': 4728, 'Yeltsin': 4729, 'security': 4730, 'supremo': 4731, 'renewed': 4732, 'document': 4733, 'negotiated': 4734, 'village': 4735, 'officially': 4736, 'disclosed': 4737, 'Itar-Tass': 4738, 'provided': 4739, 'disengagement': 4740, 'aide': 4741, 'Russian-Chechen': 4742, 'Talks': 4743, 'detailed': 4744, 'Press': 4745, 'Barkhatov': 4746, 'rebel-held': 4747, 'progressing': 4748, 'briskly': 4749, 'mood': 4750, 'completed': 4751, 'signature': 4752, 'day-by-day': 4753, 'showed': 4754, 'clip': 4755, 'laughing': 4756, 'smiling': 4757, 'nominee': 4758, 'Tatyana': 4759, 'Dmitrieva': 4760, 'inaugurated': 4761, 'returned': 4762, 'Kremlin': 4763, 'two-day': 4764, 'lakelands': 4765, 'northwestern': 4766, 'Bosnia': 4767, 'SARAJEVO': 4768, 'Sarajevo': 4769, 'OSLOBODJENJE': 4770, 'Bosnian': 4771, 'federation': 4772, 'launches': 4773, 'common': 4774, 'taxes': 4775, 'dinar': 4776, 'kuna': 4777, 'Deutsche': 4778, 'mark': 4779, 'currency': 4780, 'introduced': 4781, 'Refugees': 4782, 'Displaced': 4783, 'Persons': 4784, 'Mirhunisa': 4785, 'Komarica': 4786, 'survivors': 4787, 'massacre': 4788, 'Srebrenica': 4789, 'languishing': 4790, 'laborers': 4791, 'Serbian': 4792, 'mines': 4793, 'According': 4794, '2,400': 4795, 'male': 4796, 'Trepca': 4797, 'mine': 4798, '1,900': 4799, 'Aleksandrovac': 4800, 'DNEVNI': 4801, 'AVAZ': 4802, 'Slovenian': 4803, 'briefly': 4804, 'detain': 4805, 'Ljubljana': 4806, 'cancel': 4807, 'Maribor': 4808, '+387-71-663-864': 4809, 'overnight': 4810, 'raids': 4811, 'ALKHAN-YURT': 4812, 'pounded': 4813, 'planes': 4814, 'artillery': 4815, 'calmed': 4816, 'although': 4817, 'sporadic': 4818, 'explosions': 4819, 'heard': 4820, 'correspondent': 4821, 'Lawrence': 4822, 'Sheets': 4823, 'speaking': 4824, 'Alkhan-Yurt': 4825, 'arrival': 4826, 'flew': 4827, 'firing': 4828, 'anything': 4829, 'clinched': 4830, 'separatists': 4831, 'halt': 4832, 'threatened': 4833, 'bombing': 4834, 'assault': 4835, 'Boat': 4836, 'passengers': 4837, 'rescued': 4838, 'Colombian': 4839, 'coast': 4840, 'BOGOTA': 4841, 'Coast': 4842, 'Guard': 4843, 'boat': 4844, 'Pacific': 4845, 'missing': 4846, 'tiny': 4847, 'Gorgona': 4848, 'southwest': 4849, 'sightseers': 4850, 'trip': 4851, 'Narino': 4852, 'fuel': 4853, 'Navy': 4854, 'Lt.': 4855, 'Italo': 4856, 'Pineda': 4857, 'boatman': 4858, 'coconuts': 4859, 'rainwater': 4860, 'sea': 4861, 'towed': 4862, 'Buenaventura': 4863, 'Argentine': 4864, 'raw': 4865, 'steel': 4866, '14.8': 4867, 'BUENOS': 4868, 'AIRES': 4869, '355,900': 4870, '1.9': 4871, 'Steel': 4872, 'Center': 4873, 'Primary': 4874, 'iron': 4875, '297,700': 4876, '0.1': 4877, 'Hot': 4878, 'laminate': 4879, 'production': 4880, '349,000': 4881, '0.8': 4882, 'Production': 4883, 'cold': 4884, 'laminates': 4885, '120,500': 4886, '4.2': 4887, 'Webb': 4888, 'Buenos': 4889, 'Aires': 4890, '+541': 4891, '318-0655': 4892, 'Peru': 4893, 'kill': 4894, 'jungle': 4895, 'LIMA': 4896, 'Peruvian': 4897, 'northeastern': 4898, 'anti-': 4899, 'terrorist': 4900, 'sources': 4901, 'Maoist': 4902, 'Shining': 4903, 'Path': 4904, 'Alomella': 4905, 'Robles': 4906, 'small': 4907, '345': 4908, '550': 4909, 'northeast': 4910, 'Lima': 4911, 'villagers': 4912, 'listen': 4913, 'propaganda': 4914, 'speeches': 4915, 'centre': 4916, 'passing': 4917, 'motorists': 4918, 'daubed': 4919, 'slogans': 4920, 'By': 4921, 'whereabouts': 4922, 'severely': 4923, 'weakened': 4924, '1992': 4925, 'capture': 4926, 'Abimael': 4927, 'stepping': 4928, 'activities': 4929, 'guerrilla': 4930, 'conflicts': 4931, 'cost': 4932, 'damage': 4933, 'infrastructure': 4934, '1980': 4935, 'Former': 4936, 'Surinam': 4937, 'PARAMARIBO': 4938, 'Flamboyant': 4939, 'Surinamese': 4940, 'Ronny': 4941, 'Brunswijk': 4942, 'custody': 4943, 'charged': 4944, 'attempted': 4945, 'murder': 4946, 'turned': 4947, 'himself': 4948, 'Freddy': 4949, 'Pinas': 4950, 'Surinamese-born': 4951, 'visitor': 4952, 'bar-room': 4953, 'brawl': 4954, 'mining': 4955, 'Moengo': 4956, '56': 4957, '90': 4958, 'east': 4959, 'Paramaribo': 4960, 'Ro': 4961, 'Gajadhar': 4962, 'showing': 4963, 'cuts': 4964, 'bruises': 4965, 'feared': 4966, 'Jungle': 4967, 'Command': 4968, 'shoot': 4969, 'objected': 4970, 'advances': 4971, 'wife': 4972, 'bodyguards': 4973, 'charges': 4974, 'merely': 4975, 'defended': 4976, 'less': 4977, 'thief': 4978, 'buttocks': 4979, 'uprising': 4980, 'regime': 4981, 'strongman': 4982, 'Desi': 4983, 'Bouterse': 4984, 'conflict': 4985, '500': 4986, 'caused': 4987, 'thousands': 4988, 'flee': 4989, 'neighbouring': 4990, 'Guiana': 4991, '1980s': 4992, 'eventually': 4993, 'paved': 4994, 'Despite': 4995, 'numerous': 4996, 'businessman': 4997, 'logging': 4998, 'interests': 4999, 'manages': 5000, 'occasionally': 5001, 'Noisy': 5002, 'saw': 5003, 'leads': 5004, 'Thai': 5005, 'heroin': 5006, 'hideaway': 5007, 'BANGKOK': 5008, 'Hong': 5009, 'Kong': 5010, 'carpenter': 5011, 'arrested': 5012, 'seaside': 5013, 'Pattaya': 5014, 'kg': 5015, '39.7': 5016, 'complaints': 5017, 'noisy': 5018, 'Cheung': 5019, 'Siu': 5020, 'Man': 5021, 'searched': 5022, 'bags': 5023, 'hidden': 5024, 'hollow': 5025, 'spaces': 5026, 'wooden': 5027, 'planks': 5028, 'hired': 5029, 'hide': 5030, 'Police': 5031, 'sawing': 5032, 'several': 5033, 'escaping': 5034, 'door': 5035, 'street': 5036, 'baht': 5037, 'Officials': 5038, 'hunting': 5039, 'collaborators': 5040, 'detained': 5041, 'pending': 5042, 'formal': 5043, 'Downer': 5044, 'follows': 5045, 'friction': 5046, 'nations': 5047, 'Qian': 5048, 'Qichen': 5049, 'consulate': 5050, 'sovereignty': 5051, 'colony': 5052, 'mid-1997': 5053, 'strained': 5054, 'sell': 5055, 'uranium': 5056, 'issues': 5057, 'affecting': 5058, 'include': 5059, 'plans': 5060, 'pact': 5061, 'Canberra': 5062, 'Tibet': 5063, 'exiled': 5064, 'spiritual': 5065, 'Dalai': 5066, 'Lama': 5067, 'conservative': 5068, 'accuse': 5069, 'PA': 5070, 'NABLUS': 5071, 'bookseller': 5072, 'Information': 5073, 'undertaking': 5074, 'distribute': 5075, 'written': 5076, 'critics': 5077, 'self-rule': 5078, 'deals': 5079, 'anyone': 5080, 'legal': 5081, 'destroy': 5082, 'Amman': 5083, 'Daoud': 5084, 'Makkawi': 5085, 'owner': 5086, 'Nablus-based': 5087, 'al-Risala': 5088, 'bookshop': 5089, 'copies': 5090, 'Edward': 5091, 'Said': 5092, 'prominent': 5093, 'scholar': 5094, 'citizen': 5095, 'origin': 5096, 'outspoken': 5097, 'critic': 5098, 'accord': 5099, 'On': 5100, 'confiscated': 5101, 'Israel-PLO': 5102, 'Director-General': 5103, 'Mutawakel': 5104, 'Taha': 5105, 'insisted': 5106, 'Authority': 5107, 'censor': 5108, 'strategy': 5109, 'suppress': 5110, 'freedom': 5111, 'expression': 5112, 'whatsoever': 5113, 'relevent': 5114, 'legislations': 5115, 'resulted': 5116, 'mistakes': 5117, 'explain': 5118, 'journalists': 5119, 'writers': 5120, 'authors': 5121, 'Journalist': 5122, 'Seale': 5123, 'banned': 5124, 'shop': 5125, 'sure': 5126, 'selling': 5127, 'think': 5128, 'afraid': 5129, '?': 5130, 'Strip': 5131, 'Jewish': 5132, 'handed': 5133, 'parts': 5134, 'blames': 5135, 'Istanbul': 5136, 'tower': 5137, 'CAIRO': 5138, 'carrier': 5139, 'EgyptAir': 5140, 'airport': 5141, 'Twenty': 5142, 'Boeing': 5143, '707': 5144, 'overshot': 5145, 'runway': 5146, 'fire': 5147, 'taxi': 5148, 'skipped': 5149, 'onto': 5150, 'line': 5151, 'Mohamed': 5152, 'Fahim': 5153, 'Rayyan': 5154, 'conference': 5155, 'instead': 5156, '2,250': 5157, '2,460': 5158, 'yards': 5159, '3,300': 5160, 'steep': 5161, 'aviation': 5162, 'noted': 5163, 'pilot': 5164, 'misleading': 5165, 'rainstorm': 5166, 'Its': 5167, 'wet': 5168, 'brake': 5169, 'medium': 5170, 'wrong': 5171, 'private': 5172, 'Ihlas': 5173, 'wants': 5174, 'nothing': 5175, 'Sudanese': 5176, 'rulers': 5177, 'Egyptian': 5178, 'shelter': 5179, 'militants': 5180, 'Hosni': 5181, 'Mubarak': 5182, 'speech': 5183, 'Moslem': 5184, 'Addis': 5185, 'Ababa': 5186, 'sponsored': 5187, 'Security': 5188, 'Council': 5189, 'flights': 5190, 'Khartoum': 5191, 'incident': 5192, 'effect': 5193, 'Sudan': 5194, 'fails': 5195, 'extradite': 5196, 'cannot': 5197, 'Ethiopia': 5198, 'eager': 5199, 'Turabi': 5200, 'whatever': 5201, 'academics': 5202, 'al-Turabi': 5203, 'Front': 5204, 'bitter': 5205, 'terrorists': 5206, 'sheltering': 5207, 'passorts': 5208, 'far': 5209, 'relations': 5210, 'ostensibly': 5211, 'shares': 5212, 'shed': 5213, 'profit-taking': 5214, 'ISTANBUL': 5215, 'shedding': 5216, 'amid': 5217, 'IMKB-100': 5218, '123.89': 5219, '64,178.78': 5220, 'Gains': 5221, 'totalled': 5222, '2.92': 5223, 'volume': 5224, '7.2': 5225, 'trillion': 5226, 'lira': 5227, 'Profit-taking': 5228, 'actually': 5229, 'reaction': 5230, 'rise': 5231, '63,000': 5232, 'tomorrow': 5233, 'Burcin': 5234, 'Mavituna': 5235, 'Interbank': 5236, 'Brokers': 5237, 'profit': 5238, 'approached': 5239, '65,000': 5240, 'cheap': 5241, 'attracted': 5242, '67,000': 5243, 'pierced': 5244, 'session': 5245, 'Isbank': 5246, 'gained': 5247, '8,600': 5248, 'Shares': 5249, 'utility': 5250, 'Cukurova': 5251, '85-share': 5252, '0.47': 5253, '70,848.86': 5254, '15-share': 5255, '0.55': 5256, '55,929.89': 5257, 'Of': 5258, '218': 5259, 'gainers': 5260, 'outdid': 5261, 'losers': 5262, 'stable': 5263, '+90-212-275': 5264, '0875': 5265, 'SA': 5266, 'Miss': 5267, 'Universe': 5268, 'hides': 5269, 'veil': 5270, 'silence': 5271, 'Kieran': 5272, 'LAS': 5273, 'CRUCES': 5274, 'N.M.': 5275, 'Alicia': 5276, 'Machado': 5277, 'Mexico': 5278, 'questions': 5279, 'claims': 5280, 'crash': 5281, '19': 5282, 'Los': 5283, 'Angeles': 5284, 'slipping': 5285, 'desert': 5286, 'Las': 5287, 'Cruces': 5288, 'attended': 5289, 'Teen': 5290, 'USA': 5291, 'pageant': 5292, 'contestant': 5293, 'scrutiny': 5294, 'ultimatum': 5295, 'Angeles-based': 5296, 'Inc.': 5297, 'drop': 5298, 'losing': 5299, 'swollen': 5300, 'wisdom': 5301, 'teeth': 5302, 'extracted': 5303, 'Marta': 5304, 'Fajardo': 5305, 'weighed': 5306, '112': 5307, 'Vegas': 5308, 'habits': 5309, 'Everybody': 5310, 'addiction': 5311, 'eats': 5312, 'cakes': 5313, 'crazy': 5314, 'Organisers': 5315, 'flatly': 5316, 'wraps': 5317, 'blocked': 5318, 'access': 5319, 'Dressed': 5320, 'strapless': 5321, 'gown': 5322, 'heavier': 5323, 'contestants': 5324, 'rave': 5325, 'reviews': 5326, 'appearance': 5327, 'stage': 5328, 'Are': 5329, 'kidding': 5330, 'She': 5331, 'fantastic': 5332, 'Nikki': 5333, 'Very': 5334, 'sexy': 5335, 'publicists': 5336, 'stay': 5337, 'promotional': 5338, 'sponsors': 5339, 'returning': 5340, 'Sept': 5341, 'Beauty': 5342, 'queens': 5343, 'high-profile': 5344, 'personalities': 5345, 'alleged': 5346, 'page': 5347, 'eased': 5348, 'indulged': 5349, 'passion': 5350, 'pasta': 5351, 'cake': 5352, 'fat': 5353, 'putting': 5354, 'fine': 5355, 'wished': 5356, 'happened': 5357, 'spiritually': 5358, 'mentally': 5359, 'terrific': 5360, 'lifestyle': 5361, 'associated': 5362, 'routine': 5363, 'exercise': 5364, 'ability': 5365, 'type': 5366, 'regimented': 5367, 'workout': 5368, 'exist': 5369, 'dont': 5370, 'talked': 5371, 'Kevorkian': 5372, 'attends': 5373, 'suicide': 5374, 'PONTIAC': 5375, 'Mich': 5376, 'bringing': 5377, '40-year-old': 5378, 'Missouri': 5379, 'suffering': 5380, 'multiple': 5381, 'sclerosis': 5382, 'emergency': 5383, 'room': 5384, 'Aranosian': 5385, 'Pontiac': 5386, 'Osteopathic': 5387, 'Patricia': 5388, 'Smith': 5389, 'Lees': 5390, 'Summit': 5391, 'midday': 5392, 'paralysed': 5393, 'assisted-suicide': 5394, '37th': 5395, 'attending': 5396, 'starting': 5397, 'crusade': 5398, 'doctor': 5399, 'assisted': 5400, 'lawyer': 5401, 'Geoffrey': 5402, 'Fieger': 5403, 'husband': 5404, 'father': 5405, 'James': 5406, 'patients': 5407, 'location': 5408, 'rapidly': 5409, 'multple': 5410, 'Louise': 5411, 'Siebens': 5412, '76-year-old': 5413, 'amyotrophic': 5414, 'lateral': 5415, 'Lou': 5416, 'Gehrig': 5417, 'Judith': 5418, 'Curren': 5419, '42-year-old': 5420, 'Massachusetts': 5421, 'suffered': 5422, 'chronic': 5423, 'fatigue': 5424, 'syndrome': 5425, 'non-terminal': 5426, 'life': 5427, 'Fairview': 5428, '1.82': 5429, 'Baa1': 5430, 'Announcement': 5431, 'As': 5432, '08/21/96': 5433, 'Issuer': 5434, 'TX': 5435, 'Sale': 5436, 'Amount': 5437, '1,820,000': 5438, 'Expected': 5439, '08/27/96': 5440, 'Municipal': 5441, 'Desk': 5442, '212-859-1650': 5443, 'Defiant': 5444, 'neo-Nazi': 5445, 'jailed': 5446, 'Gray': 5447, 'HAMBURG': 5448, 'sentenced': 5449, 'Lauck': 5450, 'pumping': 5451, 'extremist': 5452, 'base': 5453, 'Lincoln': 5454, 'Nebraska': 5455, 'yelled': 5456, 'tirade': 5457, 'abuse': 5458, 'conviction': 5459, 'inciting': 5460, 'racial': 5461, 'hatred': 5462, 'struggle': 5463, '43-year-old': 5464, 'shouted': 5465, 'escorted': 5466, 'arguing': 5467, 'client': 5468, 'offence': 5469, 'hailed': 5470, 'neo-Nazism': 5471, 'network': 5472, 'anti-Semitic': 5473, 'material': 5474, 'flowing': 5475, '1970s': 5476, 'possessed': 5477, 'well-oiled': 5478, 'machine': 5479, 'honed': 5480, 'presiding': 5481, 'judge': 5482, 'Guenter': 5483, 'Bertram': 5484, 'cannon': 5485, 'extracts': 5486, 'praising': 5487, 'Hitler': 5488, 'greatest': 5489, 'describing': 5490, 'Nazi': 5491, 'slaughter': 5492, 'millions': 5493, 'Jews': 5494, 'myth': 5495, 'Eager': 5496, 'bars': 5497, 'complex': 5498, 'prosecutor': 5499, 'Mauruschat': 5500, 'offences': 5501, 'demanded': 5502, 'five-year': 5503, 'satisfied': 5504, 'sentence': 5505, 'Publishing': 5506, 'distributing': 5507, 'illegal': 5508, 'argued': 5509, 'laws': 5510, 'meant': 5511, 'produce': 5512, 'swastika-covered': 5513, 'magazines': 5514, 'videos': 5515, 'flags': 5516, 'Interior': 5517, 'Manfred': 5518, 'Kanther': 5519, 'welcomed': 5520, 'prosecution': 5521, 'ringleaders': 5522, 'biggest': 5523, 'distributers': 5524, 'vicious': 5525, 'racist': 5526, 'publications': 5527, 'Social': 5528, 'Democrats': 5529, 'dressed': 5530, 'sober': 5531, 'blue': 5532, 'suit': 5533, 'sporting': 5534, 'trademark': 5535, 'Hitleresque': 5536, 'moustache': 5537, 'emotion': 5538, 'spent': 5539, 'explaining': 5540, 'blurted': 5541, 'virtually': 5542, 'incomprehensible': 5543, 'quick-fire': 5544, 'diatribe': 5545, 'Neither': 5546, 'Socialists': 5547, 'Nazis': 5548, 'nor': 5549, 'communists': 5550, 'dared': 5551, 'kidnap': 5552, 'oblique': 5553, 'reference': 5554, 'extradition': 5555, 'truth': 5556, 'attorney': 5557, 'Hans-Otto': 5558, 'Sieg': 5559, 'courtroom': 5560, 'judges': 5561, 'actions': 5562, 'carried': 5563, 'obsessed': 5564, 'Nazism': 5565, 'devoted': 5566, 'Socialist': 5567, 'Workers': 5568, 'NSDAP-AO': 5569, 'derives': 5570, 'name': 5571, 'During': 5572, 'three-month': 5573, 'dealt': 5574, 'NS': 5575, 'Kampfruf': 5576, 'Battle': 5577, 'Cry': 5578, 'magazine': 5579, 'references': 5580, 'Aryan': 5581, 'supremacy': 5582, 'defamatory': 5583, 'statements': 5584, 'rejected': 5585, 'argument': 5586, 'request': 5587, 'convicted': 5588, 'disseminating': 5589, 'symbols': 5590, 'anti-constitutional': 5591, 'organisations': 5592, 'arrest': 5593, 'subtracted': 5594, 'UN': 5595, 'occur': 5596, 'NATIONS': 5597, 'arrangements': 5598, 'implement': 5599, 'oil-for-food': 5600, 'quite': 5601, 'speculate': 5602, 'preparations': 5603, 'secretary-general': 5604, 'anxious': 5605, 'Undersecretary-General': 5606, 'Yasushi': 5607, 'Akashi': 5608, 'sooner': 5609, 'monitors': 5610, 'carry': 5611, 'Department': 5612, 'Humanitarian': 5613, 'deputy': 5614, 'speculated': 5615, 'Suspected': 5616, 'killers': 5617, 'bishop': 5618, 'Algeria': 5619, 'TV': 5620, 'Algerian': 5621, 'suspected': 5622, 'killing': 5623, 'state-run': 5624, 'sought': 5625, 'slain': 5626, 'assassination': 5627, 'Roman': 5628, 'Catholic': 5629, 'Bishop': 5630, 'Pierre': 5631, 'Claverie': 5632, '58-year-old': 5633, 'bomb': 5634, 'Oran': 5635, 'Herve': 5636, 'Charette': 5637, 'Algiers': 5638, '50,000': 5639, 'Algerians': 5640, '110': 5641, 'foreigners': 5642, 'pitting': 5643, 'radical': 5644, 'Islamists': 5645, 'commanding': 5646, 'flown': 5647, 'January-July': 5648, 'table': 5649, 'shows': 5650, 'volumes': 5651, 'handled': 5652, 'airports': 5653, 'exclude': 5654, 'trucked': 5655, 'airfreight': 5656, 'association': 5657, 'ADV': 5658, 'Berlin': 5659, '17,844': 5660, '5.9': 5661, 'Tegel': 5662, '10,896': 5663, '3.1': 5664, 'Tempelhof': 5665, '202': 5666, '60.0': 5667, 'Schoenefeld': 5668, '6,746': 5669, '16.8': 5670, 'Bremen': 5671, '1,453': 5672, '13.1': 5673, 'Dresden': 5674, '792': 5675, '11.4': 5676, 'Duessseldorf': 5677, '31,347': 5678, '4.4': 5679, 'Frankfurt': 5680, '768,269': 5681, '1.5': 5682, '21,240': 5683, '3.5': 5684, 'Hannover': 5685, '6,030': 5686, '15.3': 5687, 'Koeln': 5688, 'Cologne': 5689, '182,887': 5690, '11.8': 5691, 'Leipzig': 5692, 'Halle': 5693, '1,806': 5694, '45.6': 5695, 'Munich': 5696, '44,525': 5697, 'Muenster': 5698, 'Osnabrueck': 5699, '382': 5700, '28.2': 5701, 'Nuremberg': 5702, '25,929': 5703, '17.8': 5704, 'Saarbruecken': 5705, '626': 5706, '28.3': 5707, '10,655': 5708, 'TOTAL': 5709, '1,113,785': 5710, 'Air': 5711, 'Cargo': 5712, 'Tel+44': 5713, '161': 5714, '7706': 5715, 'Fax+44': 5716, '5017': 5717, 'Paribas': 5718, 'repeats': 5719, 'Aegon': 5720, 'research': 5721, 'Company-------------Price---Broker----------------': 5722, '83.40': 5723, 'COMMENT': 5724, 'Not': 5725, '711': 5726, 'forecast': 5727, 'performance': 5728, 'Reiterates': 5729, 'Estimates': 5730, 'Dfl': 5731, 'EPS': 5732, 'E': 5733, 'Dividend': 5734, '5.83': 5735, '13.8': 5736, '2.75': 5737, '6.59': 5738, '12.2': 5739, '3.10': 5740, 'Fax': 5741, '5040': 5742, 'Clinton': 5743, 'Ballybunion': 5744, 'fans': 5745, 'DUBLIN': 5746, 'resort': 5747, 'whirlwind': 5748, 'Irish': 5749, 'So': 5750, 'America': 5751, 'Dick': 5752, 'Spring': 5753, 'convention': 5754, '26-29': 5755, 'bring': 5756, 'placards': 5757, 'waved': 5758, 'addressed': 5759, 'packed': 5760, 'Dublin': 5761, 'backs': 5762, 'requested': 5763, 'us': 5764, 'guests': 5765, 'Kennedys': 5766, 'Frank': 5767, 'Quilter': 5768, 'triumphant': 5769, 'process': 5770, 'observe': 5771, 'assurances': 5772, 'Erdmann': 5773, 'Wolfgang': 5774, 'Ischinger': 5775, 'assured': 5776, 'valid': 5777, 'Primakov': 5778, 'pledge': 5779, 'seek': 5780, 'solution': 5781, 'aegis': 5782, 'Cooperation': 5783, 'OSCE': 5784, 'quoting': 5785, 'Klaus': 5786, 'Kinkel': 5787, 'personal': 5788, 'urge': 5789, 'breakaway': 5790, 'threat': 5791, 'unauthorised': 5792, 'initiative': 5793, 'intention': 5794, 'positive': 5795, 'Goldiman': 5796, 'responsible': 5797, 'DELHI': 5798, 'global': 5799, 'nuclear': 5800, 'treaty': 5801, 'Delhi': 5802, 'intended': 5803, 'I.K.': 5804, 'Gujral': 5805, 'block': 5806, 'adoption': 5807, 'Geneva': 5808, 'entering': 5809, 'signing': 5810, 'kind': 5811, 'weapons': 5812, '1974': 5813, 'Experts': 5814, 'assemble': 5815, 'veto': 5816, 'Comprehensive': 5817, 'Test': 5818, 'Ban': 5819, 'Treaty': 5820, 'CTBT': 5821, 'bilateral': 5822, 'visualise': 5823, 'straining': 5824, 'text': 5825, 'position': 5826, 'clause': 5827, 'providing': 5828, 'modified': 5829, 'Asked': 5830, 'forwarded': 5831, 'Assembly': 5832, 'bridge': 5833, 'cross': 5834, 'reiterated': 5835, 'objections': 5836, 'negotiation': 5837, 'Disarmament': 5838, 'fact': 5839, 'weapon': 5840, 'hegemony': 5841, 'concerns': 5842, 'impossible': 5843, 'oblige': 5844, 'option': 5845, 'exercised': 5846, 'restraint': 5847, 'carrying': 5848, 'tests': 5849, 'lone': 5850, 'accept': 5851, 'constraints': 5852, 'rely': 5853, 'arsenals': 5854, 'sour': 5855, 'DHAKA': 5856, 'disquiet': 5857, 'Bangladeshi': 5858, 'Dhaka': 5859, 'Bangladesh': 5860, 'goverment': 5861, 'attached': 5862, 'importance': 5863, 'tragic': 5864, 'Siraj': 5865, 'Mia': 5866, 'Under-Secretary': 5867, 'Commonwealth': 5868, 'Affairs': 5869, 'Liam': 5870, 'Fox': 5871, 'interogation': 5872, 'arriving': 5873, 'bore': 5874, 'injuries': 5875, 'relatives': 5876, 'complained': 5877, 'murdered': 5878, 'post-mortem': 5879, 'tortured': 5880, 'drunk': 5881, 'wrist': 5882, 'act': 5883, 'seriously': 5884, 'reasons': 5885, 'important': 5886, 'relationship': 5887, 'leave': 5888, 'Nepal': 5889, 'governments': 5890, 'House': 5891, 'Commons': 5892, 'matter': 5893, 'thorough': 5894, 'investigation': 5895, 'outcome': 5896, 'harassment': 5897, 'nationals': 5898, 'Criminal': 5899, 'Investigation': 5900, 'immigration': 5901, 'connection': 5902, 'business': 5903, 'suburb': 5904, 'disrupt': 5905, 'Kashmir': 5906, 'polls': 5907, 'SRINAGAR': 5908, 'planning': 5909, 'troubled': 5910, 'Jammu': 5911, 'seems': 5912, 'Inderjit': 5913, 'Gupta': 5914, 'Srinagar': 5915, '1987': 5916, 'clamped': 5917, 'direct': 5918, 'abetting': 5919, 'militancy': 5920, 'valley': 5921, 'Islamabad': 5922, 'infiltrating': 5923, 'create': 5924, 'disturbance': 5925, 'noticed': 5926, 'among': 5927, 'growing': 5928, 'mercenaries': 5929, 'independence': 5930, '1947': 5931, 'H.D.': 5932, 'Deve': 5933, 'Gowda': 5934, 'centre-left': 5935, 'hopes': 5936, 'restore': 5937, 'normality': 5938, '20,000': 5939, 'insurgency-related': 5940, 'Over': 5941, 'militant': 5942, 'engineering': 5943, 'banks': 5944, 'edged': 5945, 'sharply': 5946, 'institutional': 5947, 'investors': 5948, 'Stock': 5949, 'Exchange': 5950, 'DSE': 5951, 'all-share': 5952, '0.7': 5953, '1,156.79': 5954, 'turnover': 5955, '146.2': 5956, 'taka': 5957, 'remained': 5958, 'unchanged': 5959, '12.71': 5960, '228.7': 5961, 'Eastern': 5962, 'Cables': 5963, '20.37': 5964, '677.98': 5965, 'Apex': 5966, 'Tannery': 5967, '22.72': 5968, '597': 5969, 'recovered': 5970, 'edge': 5971, 'short-covering': 5972, 'ratio': 5973, 'Reserve': 5974, 'bank': 5975, 'governor': 5976, 'Rangarajan': 5977, 'CRR': 5978, 'maintained': 5979, 'reduced': 5980, 'yes': 5981, 'addressing': 5982, 'industrialists': 5983, 'having': 5984, 'theoretical': 5985, 'supply': 5986, 'instrument': 5987, 'regulate': 5988, 'reducing': 5989, 'increasing': 5990, 'context': 5991, 'stood': 5992, 'commitment': 5993, 'response': 5994, '+91-11-3012024': 5995, 'viable': 5996, 'BOMBAY': 5997, 'Governor': 5998, 'Chakravarty': 5999, 'gross': 6000, 'product': 6001, 'GDP': 6002, 'sustainable': 6003, 'currrent': 6004, 'real': 6005, '16-17': 6006, '14-15': 6007, 'non-debt': 6008, 'reduction': 6009, 'debt-service': 6010, 'Bombay': 6011, '+91-22-265': 6012, '9000': 6013, 'Mother': 6014, 'Teresa': 6015, 'CALCUTTA': 6016, 'Saint': 6017, 'Gutters': 6018, 'Nobel': 6019, 'Prize': 6020, '1979': 6021, 'hope': 6022, 'dignity': 6023, 'unwanted': 6024, 'simple': 6025, 'love': 6026, 'heaps': 6027, 'honours': 6028, 'regards': 6029, 'saint': 6030, 'nun': 6031, 'Albanian': 6032, 'descent': 6033, 'maintains': 6034, 'joy': 6035, 'fulfilment': 6036, 'neglected': 6037, 'need': 6038, 'sympathy': 6039, 'pity': 6040, 'compassion': 6041, 'diminutive': 6042, 'missionary': 6043, 'respiratory': 6044, 'intensive': 6045, 'Indian': 6046, 'heart': 6047, 'turns': 6048, '86': 6049, 'conscious': 6050, 'condition': 6051, 'task': 6052, 'alone': 6053, 'slums': 6054, 'densely-populated': 6055, 'Calcutta': 6056, 'grew': 6057, 'hearts': 6058, 'characteristically': 6059, 'unworthy': 6060, 'showering': 6061, '80': 6062, 'Bharat': 6063, 'Ratna': 6064, 'Jewel': 6065, 'highest': 6066, 'award': 6067, 'Her': 6068, 'deteriorate': 6069, 'fitted': 6070, 'pacemaker': 6071, 'Vatican': 6072, 'Superior': 6073, 'Missionaries': 6074, 'Charity': 6075, 'More': 6076, 'delegates': 6077, 'elect': 6078, 'successor': 6079, 'agree': 6080, 'bacterial': 6081, 'pneumonia': 6082, 'Rome': 6083, 'ribs': 6084, 'receive': 6085, 'malaria': 6086, 'complicated': 6087, 'lung': 6088, 'fractured': 6089, 'collar': 6090, 'bone': 6091, 'frailty': 6092, 'arthritis': 6093, 'failing': 6094, 'eyesight': 6095, 'stopped': 6096, 'travels': 6097, 'mingle': 6098, 'desperate': 6099, 'Agnes': 6100, 'Goinxha': 6101, 'Bejaxhiu': 6102, 'Serbia': 6103, '1910': 6104, 'deeply': 6105, 'religious': 6106, 'Loretto': 6107, 'hoping': 6108, 'Order': 6109, 'Abbey': 6110, 'begin': 6111, 'novitiate': 6112, 'teach': 6113, 'geography': 6114, 'convent': 6115, 'divine': 6116, '1946': 6117, 'interviewer': 6118, 'belonged': 6119, 'superior': 6120, 'approved': 6121, 'training': 6122, 'missionaries': 6123, 'slum': 6124, 'Therese': 6125, 'Child': 6126, 'Jesus': 6127, 'simply': 6128, 'dying': 6129, 'Hindu': 6130, 'rest': 6131, 'penniless': 6132, 'Named': 6133, 'Nirmal': 6134, 'Hriday': 6135, 'Tender': 6136, 'chain': 6137, '150': 6138, 'homes': 6139, 'destitute': 6140, 'admitting': 6141, '18,000': 6142, 'founded': 6143, 'documentary': 6144, 'mixture': 6145, 'hyperbole': 6146, 'credulity': 6147, 'Catholics': 6148, 'FOCUS-News': 6149, 'forecasts': 6150, 'alien-led': 6151, 'boost': 6152, 'Bernard': 6153, 'Hickey': 6154, 'Media': 6155, 'baron': 6156, 'Rupert': 6157, 'Murdoch': 6158, 'News': 6159, 'Ltd': 6160, '1995/96': 6161, 'profits': 6162, 'film': 6163, 'Independence': 6164, 'Day': 6165, '1996/97': 6166, 'From': 6167, 'perspective': 6168, 'begun': 6169, 'promise': 6170, 'motion': 6171, 'picture': 6172, 'announcing': 6173, 'moderating': 6174, 'solid': 6175, 'orders': 6176, 'advertising': 6177, 'Broadcasting': 6178, 'budgeted': 6179, 'attainable': 6180, 'soothed': 6181, 'shareholders': 6182, 'pre-abnormals': 6183, 'A$': 6184, '1.26': 6185, 'US$': 6186, '995': 6187, 'cents': 6188, 'Analysts': 6189, '1.343': 6190, 'disappointing': 6191, 'outlook': 6192, 'First': 6193, 'Lachlan': 6194, 'Drummond': 6195, 'offset': 6196, 'publishing': 6197, 'divisions': 6198, 'hefty': 6199, 'Asian': 6200, 'operations': 6201, 'Higher': 6202, 'newsprint': 6203, 'hard': 6204, 'Throughout': 6205, 'operating': 6206, 'cover': 6207, 'Times': 6208, 'Advertising': 6209, 'revenues': 6210, 'surprises': 6211, 'inserts': 6212, 'Guide': 6213, 'dramatically': 6214, 'arm': 6215, 'Harper-Collins': 6216, 'healthy': 6217, 'operation': 6218, 'demise': 6219, 'Book': 6220, 'Agreement': 6221, 'hurt': 6222, 'San': 6223, 'minimum': 6224, 'setting': 6225, 'expired': 6226, 'publishers': 6227, 'pulled': 6228, 'spotlight': 6229, 'understatement': 6230, \"'re\": 6231, 'internal': 6232, 'declined': 6233, '6.39': 6234, '2.00': 6235, 'p.m.': 6236, '0400': 6237, 'soft': 6238, '0.79': 6239, '373-1800': 6240, 'savings': 6241, 'RBA': 6242, 'CANBERRA': 6243, 'slash': 6244, 'budget': 6245, 'useful': 6246, 'contribution': 6247, 'realised': 6248, 'raising': 6249, 'consolidation': 6250, 'unduly': 6251, 'restrict': 6252, 'ambiguous': 6253, 'Coalition': 6254, 'underlying': 6255, '5.65': 6256, 'pledged': 6257, '1998/99': 6258, '10.3': 6259, 'Determined': 6260, 'credible': 6261, 'rein': 6262, 'unsustainable': 6263, 'favourable': 6264, 'effects': 6265, 'activity': 6266, 'generally': 6267, 'long-term': 6268, 'saving': 6269, 'tending': 6270, 'promote': 6271, 'investment': 6272, 'lowering': 6273, 'BNZ': 6274, 'NZ': 6275, 'fixed': 6276, 'lending': 6277, 'WELLINGTON': 6278, 'cutting': 6279, '10.5': 6280, '10.75': 6281, '10.95': 6282, '11.25': 6283, 'responding': 6284, 'wholesale': 6285, 'Fixed': 6286, 'Wellington': 6287, '4734': 6288, '746': 6289, 'Power': 6290, 'ODV': 6291, 'NZ$': 6292, '524': 6293, 'Optimised': 6294, 'Deprival': 6295, '524.2': 6296, '486.5': 6297, 'valuation': 6298, 'reflected': 6299, 'extensions': 6300, 'lifespan': 6301, 'consistent': 6302, 'approach': 6303, 'followed': 6304, 'preventative': 6305, 'equipment': 6306, 'upgrading': 6307, 'revaluation': 6308, 'undertaken': 6309, 'disclosure': 6310, 'requirements': 6311, 'Commerce': 6312, 'Thais': 6313, 'hunt': 6314, 'breaker': 6315, 'Thailand': 6316, 'launched': 6317, 'manhunt': 6318, 'Bangkok': 6319, 'awaiting': 6320, 'drug': 6321, 'possession': 6322, 'Westlake': 6323, 'Victoria': 6324, 'sucessful': 6325, 'escape': 6326, 'Klongprem': 6327, 'outskirts': 6328, 'massive': 6329, 'confident': 6330, 'Vivit': 6331, 'Chatuparisut': 6332, 'Correction': 6333, 'trafficking': 6334, 'sawed': 6335, 'grill': 6336, 'cell': 6337, 'window': 6338, 'climbed': 6339, 'five-metre': 6340, '15-foot': 6341, 'wall': 6342, 'rope': 6343, 'bed': 6344, 'sheets': 6345, 'corrections': 6346, 'department': 6347, 'probing': 6348, 'inmates': 6349, 'chained': 6350, 'prevent': 6351, 'breakouts': 6352, '266': 6353, 'Westerners': 6354, 'Australians': 6355, 'Tokyo': 6356, 'Soir': 6357, 'parent': 6358, 'TOKYO': 6359, 'Year': 6360, 'billions': 6361, 'yen': 6362, 'specified': 6363, 'LATEST': 6364, 'ACTUAL': 6365, 'Parent': 6366, 'FORECAST': 6367, 'YEAR-AGO': 6368, 'Sales': 6369, '26.00': 6370, '26.70': 6371, '400': 6372, '329': 6373, '250': 6374, '84': 6375, '11.61': 6376, '3.92': 6377, 'Ord': 6378, '10.00': 6379, 'NOTE': 6380, 'specialised': 6381, 'manufacturer': 6382, 's': 6383, 'wear': 6384, 'Ka': 6385, 'Wah': 6386, 'HK$': 6387, '43': 6388, 'mln': 6389, 'FRCD': 6390, 'HONG': 6391, 'KONG': 6392, 'floating': 6393, 'certificate': 6394, 'privately': 6395, 'placed': 6396, 'sole': 6397, 'arranger': 6398, 'HSBC': 6399, 'Markets': 6400, 'facility': 6401, 'tenor': 6402, 'pays': 6403, 'coupon': 6404, 'basis': 6405, 'Offered': 6406, 'Rate': 6407, 'Clearing': 6408, 'Moneymarkets': 6409, 'Unit': 6410, '852': 6411, '2847': 6412, '4039': 6413, 'bans': 6414, 'nitrofuran': 6415, 'usage': 6416, 'chicken': 6417, 'antibiotic': 6418, 'applications': 6419, 'believes': 6420, 'cancer': 6421, 'breeders': 6422, 'feedmillers': 6423, 'abide': 6424, 'respect': 6425, 'safety': 6426, 'Chua': 6427, 'Jui': 6428, 'Meng': 6429, 'Bernama': 6430, 'two-year': 6431, 'maximum': 6432, 'ringgit': 6433, '2000': 6434, 'INDONESIAN': 6435, 'STOCKS': 6436, 'watch': 6437, 'JAKARTA': 6438, 'Indonesian': 6439, '**': 6440, 'Jakarta': 6441, 'involving': 6442, 'Megawati': 6443, 'Sukarnoputri': 6444, 'Around': 6445, 'stationed': 6446, 'demonstrators': 6447, 'Dow': 6448, '31.44': 6449, '5,689.82': 6450, 'three-session': 6451, 'streak': 6452, 'tobacco': 6453, 'beating': 6454, 'MARKETS': 6455, 'composite': 6456, '2.60': 6457, '0.48': 6458, '542.20': 6459, 'bargain-hunting': 6460, 'big-capitalised': 6461, 'secondliners': 6462, 'rupiah': 6463, '2,343.00': 6464, '43.50': 6465, 'trading': 6466, '2,342.75': 6467, 'WATCH': 6468, 'Packaging': 6469, 'Super': 6470, 'Indah': 6471, 'Makmur': 6472, 'offer': 6473, 'PT': 6474, 'VDH': 6475, 'Teguh': 6476, 'Sakti': 6477, 'wholly-owned': 6478, 'subsidiary': 6479, 'Singapore-listed': 6480, 'Der': 6481, 'Privately-owned': 6482, 'Duta': 6483, 'obtaining': 6484, 'fresh': 6485, 'syndicated': 6486, 'loans': 6487, 'management': 6488, 'reshuffle': 6489, 'equity': 6490, 'Ciputra': 6491, 'build': 6492, 'property': 6493, 'projects': 6494, 'worth': 6495, 'Surabaya': 6496, 'stock': 6497, 'movements': 6498, 'indices*': 6499, 'exchanges': 6500, 'change': 6501, 'highs': 6502, 'lows': 6503, 'dates': 6504, 'Also': 6505, 'Japanese': 6506, 'pound': 6507, 'gold': 6508, 'bullion': 6509, 'closes': 6510, 'brackets': 6511, 'CHANGE': 6512, 'HIGH': 6513, 'LOW': 6514, 'CLOSE': 6515, 'POINTS': 6516, '5,710.53': 6517, '22.94': 6518, '5,778.00': 6519, '5,032.94': 6520, '3,907.5': 6521, '+16.4': 6522, '3,632.3': 6523, '21,228.80': 6524, '134.44': 6525, '22,666.80': 6526, '19,734.70': 6527, 'Jun': 6528, 'Mar': 6529, '2,555.16': 6530, '2.10': 6531, '2,583.49': 6532, '2,284.86': 6533, '2,020.82': 6534, '+3.06': 6535, '2,146.79': 6536, '1,897.85': 6537, 'Apr': 6538, '2,292.9': 6539, '+18.3': 6540, '2,326.00': 6541, '2,096.10': 6542, '11,424.64': 6543, '54.13': 6544, '11,594.99': 6545, '10,204.87': 6546, 'Feb': 6547, 'FOREIGN': 6548, 'EXCHANGE': 6549, 'GOLD': 6550, 'BULLION': 6551, 'Dollar': 6552, '1.4871': 6553, '1.4935': 6554, '....': 6555, '108.50': 6556, '108.43': 6557, 'Pound': 6558, '1.5520': 6559, '1.5497': 6560, 'Gold': 6561, 'ounce': 6562, '387.50': 6563, '386.95': 6564, '*INDICES': 6565, 'USED': 6566, 'AND': 6567, 'THEIR': 6568, 'ALL-TIME': 6569, 'CLOSING': 6570, 'HIGHS': 6571, '22/96': 6572, 'FTSE-100': 6573, '23/96': 6574, 'Nikkei': 6575, '38,915.87': 6576, 'Dec': 6577, '29/89': 6578, 'DAX-3O': 6579, '5/96': 6580, 'CAC-40': 6581, '2,355.93': 6582, '2/94': 6583, 'All-Ordinaries': 6584, '2,340.6': 6585, '3/94': 6586, 'Hang': 6587, 'Seng': 6588, '12,201.09': 6589, '4/94': 6590, 'hails': 6591, 'marks': 6592, 'Rostislav': 6593, 'Khotin': 6594, 'KIEV': 6595, 'celebrates': 6596, 'hailing': 6597, 'inter-ethnic': 6598, 'post-Soviet': 6599, 'achievement': 6600, 'declaration': 6601, 'nine-to-one': 6602, 'effectively': 6603, 'blow': 6604, 'Soviet': 6605, 'empire': 6606, 'centuries': 6607, 'largest': 6608, 'republics': 6609, 'Tajikistan': 6610, 'achievements': 6611, 'preservation': 6612, 'harmony': 6613, 'Leonid': 6614, 'Kuchma': 6615, 'televised': 6616, 'Unlike': 6617, 'situations': 6618, 'peaceful': 6619, 'civilised': 6620, 'initially': 6621, 'accompanied': 6622, 'hyper-inflation': 6623, 'collapse': 6624, 'signs': 6625, 'turnaround': 6626, 'Inflation': 6627, 'hyper-inflationary': 6628, '10,300': 6629, 'respectable': 6630, 'economy': 6631, 'grow': 6632, 'solemn': 6633, 'Ukraina': 6634, 'Palace': 6635, 'turning': 6636, 'reforms': 6637, 'doubt': 6638, 'Adelbert': 6639, 'Knobl': 6640, 'Monetary': 6641, 'Fund': 6642, 'proud': 6643, 'much-postponed': 6644, 'hryvna': 6645, 'replace': 6646, 'karbovanets': 6647, 'rouble': 6648, 'trades': 6649, '33': 6650, 'introduce': 6651, 'postpone': 6652, 'Proud': 6653, 'promptly': 6654, 'NATO': 6655, 'Partnership': 6656, 'policy': 6657, 'wrangle': 6658, 'offending': 6659, 'unofficial': 6660, 'top-level': 6661, 'delegation': 6662, 'protest': 6663, 'Kiev': 6664, 'Hennady': 6665, 'Udovenko': 6666, 'overreacting': 6667, 'seeing': 6668, 'itself': 6669, 'Westernising': 6670, 'eastern': 6671, 'strategic': 6672, 'aim': 6673, 'integration': 6674, 'economically': 6675, 'oriented': 6676, 'though': 6677, 'circles': 6678, 'push': 6679, 'membership': 6680, 'associate': 6681, 'grouping': 6682, 'closer': 6683, 'congratulated': 6684, 'anniversary': 6685, 'promising': 6686, 'stabilising': 6687, 'factor': 6688, 'united': 6689, 'Oldest': 6690, 'disappears': 6691, '16th-century': 6692, 'earliest': 6693, 'complete': 6694, 'example': 6695, 'disappeared': 6696, 'archives': 6697, 'Gazeta': 6698, 'Shqiptare': 6699, 'Mass': 6700, 'Gjon': 6701, 'Buzuku': 6702, 'dating': 6703, '1555': 6704, 'discovered': 6705, '1740': 6706, 'seminary': 6707, 'published': 6708, 'language': 6709, 'Albanians': 6710, 'sons': 6711, 'lamented': 6712, 'Musa': 6713, 'Hamiti': 6714, 'library': 6715, 'grateful': 6716, 'civilisation': 6717, 'inventing': 6718, 'photocopies': 6719, 'clamp': 6720, 'barter': 6721, 'keen': 6722, 'adopt': 6723, 'concerned': 6724, 'viewing': 6725, 'disguised': 6726, 'Volkova': 6727, 'Committee': 6728, 'exported': 6729, 'unimported': 6730, '1.10': 6731, 'Barter': 6732, '4.9': 6733, '61.5': 6734, 'understated': 6735, 'actual': 6736, 'issued': 6737, 'decree': 6738, 'regulation': 6739, 'substantially': 6740, 'situation': 6741, 'traders': 6742, 'obliged': 6743, '180': 6744, 'fines': 6745, 'Understating': 6746, 'loophole': 6747, 'tackling': 6748, 'technicalities': 6749, 'feature': 6750, 'decrees': 6751, 'liberalising': 6752, '1991-1992': 6753, 'impetus': 6754, '25-30': 6755, 'popped': 6756, 'preferred': 6757, 'reliable': 6758, 'transfer': 6759, 'systems': 6760, 'various': 6761, 'sorts': 6762, 'tranfers': 6763, 'incompetent': 6764, 'experienced': 6765, 'ones': 6766, 'Dmitry': 6767, 'Solovyov': 6768, '+7095': 6769, '941': 6770, '8520': 6771, 'Viacom': 6772, 'Mission': 6773, 'sequel': 6774, 'Paramount': 6775, 'Pictures': 6776, 'Cruise': 6777, 'blockbuster': 6778, 'Impossible': 6779, 'release': 6780, 'Variety': 6781, 'big-screen': 6782, 'version': 6783, 'spy': 6784, 'grossed': 6785, '175': 6786, 'domestically': 6787, '338': 6788, 'Inc-owned': 6789, 'Forrest': 6790, 'Gump': 6791, 'plot': 6792, 'reprise': 6793, 'roles': 6794, 'co-producer': 6795, 'Academy': 6796, 'Award-winning': 6797, 'screenwriter': 6798, 'Goldman': 6799, 'write': 6800, 'script': 6801, 'Brian': 6802, 'De': 6803, 'Palma': 6804, 'crack': 6805, 'Oscars': 6806, 'Butch': 6807, 'Cassidy': 6808, 'Sundance': 6809, 'Kid': 6810, 'criticised': 6811, 'blockbusters': 6812, 'singled': 6813, 'entertaining': 6814, 'movie': 6815, 'CRAWLEY': 6816, 'FORCED': 6817, 'SIT': 6818, 'batsman': 6819, 'endure': 6820, 'frustrating': 6821, 'delay': 6822, 'resuming': 6823, 'quest': 6824, 'maiden': 6825, 'century': 6826, 'Heavy': 6827, 'rain': 6828, 'drizzle': 6829, 'improvement': 6830, 'weather': 6831, 'umpires': 6832, 'announce': 6833, '1415': 6834, '1315': 6835, 'event': 6836, 'unbeaten': 6837, 'spotted': 6838, 'strumming': 6839, 'dressing-room': 6840, 'damp': 6841, 'patches': 6842, 'square': 6843, 'outfield': 6844, 'raining': 6845, '1230': 6846, '1130': 6847, 'brighter': 6848, 'bowled': 6849, '1900': 6850, '1800': 6851, 'MOTOR': 6852, 'BELGIAN': 6853, 'GRAND': 6854, 'PRIX': 6855, 'PRACTICE': 6856, 'TIMES': 6857, 'SPA-FRANCORCHAMPS': 6858, 'practice': 6859, 'Gerhard': 6860, 'Berger': 6861, 'Benetton': 6862, '53.706': 6863, 'seconds': 6864, 'Coulthard': 6865, 'McLaren': 6866, '1:54.342': 6867, 'Jacques': 6868, 'Villeneuve': 6869, '1:54.443': 6870, 'Mika': 6871, 'Hakkinen': 6872, '1:54.754': 6873, 'Heinz-Harald': 6874, 'Frentzen': 6875, '1:54.984': 6876, 'Jean': 6877, 'Alesi': 6878, '1:55.101': 6879, 'Damon': 6880, 'Hill': 6881, '1:55.281': 6882, 'Schumacher': 6883, '1:55.333': 6884, 'Brundle': 6885, '1:55.385': 6886, 'Rubens': 6887, 'Barrichello': 6888, '1:55.645': 6889, '11.': 6890, 'Herbert': 6891, 'Sauber': 6892, '1:56.318': 6893, '12.': 6894, 'Olivier': 6895, 'Panis': 6896, 'Ligier': 6897, '1:56.417': 6898, '[': 6899, 'CORRECTED': 6900, '05:30': 6901, ']': 6902, 'Quarter-finals': 6903, 'Gabriela': 6904, 'Sabatini': 6905, 'Asa': 6906, 'Carlsson': 6907, 'Katarina': 6908, 'Studenikova': 6909, 'Karina': 6910, 'Habsudova': 6911, 'Corrects': 6912, 'Portsmouth': 6913, 'Queens': 6914, 'Tranmere': 6915, 'Grimsby': 6916, 'Stirling': 6917, 'Albion': 6918, '298-6': 6919, 'Harden': 6920, '194-0': 6921, 'Gooch': 6922, '105': 6923, 'Robinson': 6924, '255-3': 6925, 'Hooper': 6926, '389': 6927, 'Penberthy': 6928, '4-36': 6929, '160-4': 6930, 'K.': 6931, 'Curran': 6932, '310': 6933, '83': 6934, 'T.': 6935, 'Munton': 6936, 'Illingworth': 6937, '4-54': 6938, 'Lampitt': 6939, '4-90': 6940, '10-0': 6941, '529-8': 6942, '181': 6943, 'Blakey': 6944, '109': 6945, '162-4': 6946, 'Fairbrother': 6947, 'POLLOCK': 6948, 'HOPES': 6949, 'RETURN': 6950, 'WARWICKSHIRE': 6951, 'Shaun': 6952, 'Pollock': 6953, 'ankle': 6954, 'county': 6955, 'returns': 6956, 'swap': 6957, 'counties': 6958, 'Explaining': 6959, 'premature': 6960, 'departure': 6961, 'unavoidable': 6962, '106': 6963, 'lb-12': 6964, 'nb-10': 6965, '7-283': 6966, '8-284': 6967, '9-295': 6968, '29.2-9-83-3': 6969, '25-6-95-4': 6970, '116': 6971, 'lb-1': 6972, 'wicket': 6973, '229': 6974, '1-106': 6975, '9-1-49-0': 6976, '9-3-28-0': 6977, '17-3-42-1': 6978, '7-1-38-0': 6979, '14-0-71-0': 6980, 'ALL': 6981, 'Score': 6982, '4-95': 6983, 'SPONSORS': 6984, 'CASH': 6985, 'RAVANELLI': 6986, 'SHIRT': 6987, 'DANCE': 6988, 'Middlesbrough': 6989, 'Italian': 6990, 'Fabrizio': 6991, 'Ravanelli': 6992, 'sponsor': 6993, 'shirt': 6994, 'seen': 6995, 'Every': 6996, 'grey-haired': 6997, 'forward': 6998, 'pulls': 6999, 'shirtfront': 7000, 'salute': 7001, 'spectacle': 7002, 'Having': 7003, 'celebrate': 7004, 'fun': 7005, 'besides': 7006, 'chest': 7007, 'aggravated': 7008, 'foot': 7009, 'Chelsea': 7010, 'Forest': 7011, 'Bryan': 7012, 'Robson': 7013, 'ADVANCE': 7014, 'Aussies': 7015, 'reached': 7016, 'straight-set': 7017, 'victories': 7018, 'Unseeded': 7019, 'noteworthy': 7020, 'sixth-seeded': 7021, 'advanced': 7022, 'Third-seeded': 7023, 'three-hour': 7024, 'eliminating': 7025, 'Americans': 7026, 'overcame': 7027, '2-6': 7028, '12th-ranked': 7029, '70th-ranked': 7030, 'getting': 7031, 'handle': 7032, 'pretty': 7033, 'easily': 7034, '40s': 7035, 'Put': 7036, 'things': 7037, 'missed': 7038, 'Before': 7039, 'felt': 7040, '9:30': 7041, 'midnight': 7042, 'wake': 7043, 'routines': 7044, 'happier': 7045, 'person': 7046, '11th-ranked': 7047, 'aggressive': 7048, 'wind': 7049, 'affected': 7050, '26-year-old': 7051, 'ATP': 7052, 'Tour': 7053, 'Haven': 7054, '285th': 7055, 'hitting': 7056, 'ball': 7057, 'mental': 7058, 'letdowns': 7059, 'competing': 7060, 'lot': 7061, 'shots': 7062, 'Still': 7063, 'marvelling': 7064, 'exciting': 7065, '64-stroke': 7066, 'joked': 7067, 'Today': 7068, 'mostly': 7069, 'RUGBY': 7070, 'UNION': 7071, 'MULDER': 7072, 'SECOND': 7073, 'Japie': 7074, 'Mulder': 7075, 'Pretoria': 7076, 'Durban': 7077, 'spasms': 7078, 'fitness': 7079, 'check': 7080, 'Springbok': 7081, 'Teichmann': 7082, 'bruised': 7083, 'thigh': 7084, 'Markgraaff': 7085, 'means': 7086, 'Transvaal': 7087, 'Snyman': 7088, 'cap': 7089, 'alongside': 7090, 'colleague': 7091, 'Danie': 7092, 'Schalkwyk': 7093, 'Wing': 7094, 'Pieter': 7095, 'Hendriks': 7096, 'speculation': 7097, 'wing': 7098, 'line-up': 7099, 'shortly': 7100, 'denote': 7101, 'seedings': 7102, 'Ong': 7103, 'Ewe': 7104, 'Hock': 7105, '15-10': 7106, '15-5': 7107, 'Ijaya': 7108, '5-4': 7109, 'Gang': 7110, '15-9': 7111, 'INJURED': 7112, 'CHANDA': 7113, 'RUBIN': 7114, 'Promising': 7115, '10th-ranked': 7116, 'Chanda': 7117, 'Rubin': 7118, 'Championships': 7119, '20-year-old': 7120, 'tendinitis': 7121, 'sidelined': 7122, 'misfortune': 7123, 'lucky': 7124, 'assignments': 7125, '17th-ranked': 7126, 'highest-ranked': 7127, 'non-seeded': 7128, 'player': 7129, 'moved': 7130, 'slot': 7131, 'notable': 7132, 'withdrawal': 7133, 'Mary': 7134, 'Pierce': 7135, '20th-ranked': 7136, 'Meredith': 7137, 'McGrath': 7138, 'Becker': 7139, '.571': 7140, '.354': 7141, '.450': 7142, '.578': 7143, '.516': 7144, '.477': 7145, '.465': 7146, 'FRIDAY': 7147, '47': 7148, '.627': 7149, '.540': 7150, '.406': 7151, '.531': 7152, '.528': 7153, '.425': 7154, '.432': 7155, 'doubleheader': 7156, 'SORRENTO': 7157, 'HITS': 7158, 'SLAM': 7159, 'ROUTS': 7160, 'Oriole': 7161, 'Moyer': 7162, 'tiring': 7163, 'Sorrento': 7164, 'slam': 7165, 'routed': 7166, '10-3': 7167, '10-2': 7168, 'tagged': 7169, 'pair': 7170, 'Devereaux': 7171, 'Brady': 7172, 'Anderson': 7173, 'walked': 7174, 'none': 7175, 'struck': 7176, 'Norm': 7177, 'Charlton': 7178, 'batters': 7179, 'seal': 7180, 'Ken': 7181, 'Griffey': 7182, 'Jr': 7183, 'Edgar': 7184, 'stroked': 7185, 'back-to-back': 7186, 'Rocky': 7187, 'Coppinger': 7188, 'Jay': 7189, 'Buhner': 7190, '7-0': 7191, 'advantage': 7192, 'Right': 7193, 'fielder': 7194, 'touched': 7195, 'scoreboard': 7196, 'Things': 7197, 'slams': 7198, 'wild-card': 7199, 'heading': 7200, 'pitches': 7201, 'dwell': 7202, 'Troy': 7203, \"O'Leary\": 7204, 'foul': 7205, 'pole': 7206, 'Roger': 7207, 'Clemens': 7208, '7-11': 7209, 'shutout': 7210, 'pinch-hitter': 7211, 'Matt': 7212, 'Stairs': 7213, 'tripled': 7214, 'Tinsley': 7215, 'Steinbach': 7216, 'dunked': 7217, 'broken-bat': 7218, '28-inning': 7219, 'longest': 7220, 'majors': 7221, 'pitched': 7222, 'Reliever': 7223, 'Acre': 7224, '0-1': 7225, 'Garret': 7226, 'DiSarcina': 7227, 'apiece': 7228, 'Edmonds': 7229, 'highlighted': 7230, 'six-run': 7231, 'coasted': 7232, '12-3': 7233, 'battered': 7234, 'Rogers': 7235, 'outscored': 7236, '21-1': 7237, 'Finley': 7238, '12-12': 7239, 'four-game': 7240, 'Travis': 7241, 'Fryman': 7242, 'doubled': 7243, 'go-ahead': 7244, 'Melvin': 7245, 'Nieves': 7246, 'Damion': 7247, 'Easley': 7248, 'claimed': 7249, 'handing': 7250, 'halted': 7251, 'seven-game': 7252, 'Thompson': 7253, 'Belcher': 7254, '12-8': 7255, 'en': 7256, 'route': 7257, 'red-hot': 7258, 'contests': 7259, '14-7': 7260, 'yielded': 7261, 'covering': 7262, 'Erik': 7263, 'Hanson': 7264, 'outdueled': 7265, 'Fernandez': 7266, 'Jacob': 7267, 'Brumfield': 7268, 'Otis': 7269, 'blanked': 7270, 'shortened': 7271, '11-15': 7272, 'SPORTING': 7273, 'START': 7274, 'SEASON': 7275, 'LISBON': 7276, 'Sporting': 7277, 'Luis': 7278, 'Predrosa': 7279, 'Lisbon': 7280, 'cruised': 7281, '3-1': 7282, 'SC': 7283, 'Espinho': 7284, 'drilled': 7285, 'right-foot': 7286, 'Although': 7287, 'Nail': 7288, 'Besirovic': 7289, '35th': 7290, 'restored': 7291, 'Vidigal': 7292, '38th': 7293, 'Mustapha': 7294, 'Hadji': 7295, '57th': 7296, 'reigning': 7297, 'Porto': 7298, 'Benfica': 7299, 'PORTUGUESE': 7300, 'Portuguese': 7301, 'PAULI': 7302, 'TAKE': 7303, 'POINT': 7304, 'LATE': 7305, 'FIGHTBACK': 7306, 'Pauli': 7307, 'tipped': 7308, 'candidates': 7309, 'relegation': 7310, 'produced': 7311, 'second-half': 7312, 'fightback': 7313, '4-4': 7314, 'Bundesliga': 7315, 'Schalke': 7316, 'raced': 7317, 'Trulsen': 7318, 'two-goal': 7319, 'cushion': 7320, 'afterwards': 7321, 'Springer': 7322, '64th': 7323, 'thanks': 7324, 'Sabotzik': 7325, 'Hansa': 7326, 'Rostock': 7327, 'Karsten': 7328, 'Baeron': 7329, 'dazzling': 7330, 'build-up': 7331, 'in-form': 7332, 'Harald': 7333, 'Spoerl': 7334, 'SALAH': 7335, 'HISSOU': 7336, 'BREAKS': 7337, 'METRES': 7338, 'Salah': 7339, 'Hissou': 7340, 'clocked': 7341, '38.08': 7342, '26:43.53': 7343, 'Haile': 7344, 'Gebreselassie': 7345, 'Hengelo': 7346, 'SUMMARIES': 7347, 'Summaries': 7348, 'min': 7349, '18,500': 7350, 'Driller': 7351, 'Sobotzik': 7352, 'Thon': 7353, '34th': 7354, 'Wilmots': 7355, '1-3': 7356, '19,775': 7357, 'FRENCH': 7358, 'Nancy': 7359, 'Germain': 7360, '15,000': 7361, 'MASTERKOVA': 7362, 'DAYS': 7363, 'Warner': 7364, 'Svetlana': 7365, 'Masterkova': 7366, 'smashed': 7367, 'bettered': 7368, 'mile': 7369, 'Zurich': 7370, '28.98': 7371, 'ate': 7372, 'swift': 7373, 'lap': 7374, 'shave': 7375, '0.36': 7376, '2:29.34': 7377, 'Mozambique': 7378, 'Mutola': 7379, 'stadium': 7380, 'pushed': 7381, 'finishing': 7382, '2:29.66': 7383, 'bonus': 7384, 'historic': 7385, 'capacity': 7386, 'dominated': 7387, 'middle-distance': 7388, 'races': 7389, 'Atlanta': 7390, 'three-year': 7391, 'maternity': 7392, 'richest': 7393, 'slashed': 7394, '3.05': 7395, '12.56': 7396, 'plus': 7397, 'kilo': 7398, '100,000': 7399, 'fortnight': 7400, 'laid': 7401, 'comparable': 7402, 'surface': 7403, 'softer': 7404, 'enjoyed': 7405, 'gear': 7406, 'strides': 7407, 'pointing': 7408, 'clock': 7409, 'delight': 7410, 'crossed': 7411, 'WOMEN': 7412, 'EVOLUTION': 7413, 'Evolution': 7414, 'tabulated': 7415, '2:30.67': 7416, 'Wachtel': 7417, '17.8.90': 7418, '25.8.95': 7419, '2:28.98': 7420, '23.8.96': 7421, '28.99': 7422, 'adjusted': 7423, '128': 7424, '129': 7425, '130': 7426, '131': 7427, '132': 7428, 'Diego': 7429, 'Borrego': 7430, '133': 7431, 'Willison': 7432, 'Ames': 7433, 'Trinidad': 7434, 'Tobago': 7435, '134': 7436, 'Coles': 7437, 'Chapman': 7438, 'Cea': 7439, '135': 7440, 'Mason': 7441, 'Barry': 7442, 'Lane': 7443, 'Webster': 7444, 'MITCHELL': 7445, 'UPSTAGES': 7446, 'TRIO': 7447, 'OLYMPIC': 7448, 'SPRINT': 7449, 'CHAMPIONS': 7450, 'Dennis': 7451, 'Mitchell': 7452, 'upstaged': 7453, 'trio': 7454, 'present': 7455, 'storming': 7456, 'customary': 7457, 'bright': 7458, 'outfit': 7459, '10.03': 7460, 'scalp': 7461, 'Donovan': 7462, 'Bailey': 7463, 'Linford': 7464, 'Christie': 7465, '1988': 7466, 'lucrative': 7467, 'sport': 7468, 'blocks': 7469, 'burst': 7470, 'celebration': 7471, '10.09': 7472, '10.10': 7473, 'bronze': 7474, 'medallist': 7475, 'Ato': 7476, 'Boldon': 7477, '10.12': 7478, '10.14': 7479, 'limp': 7480, 'hurdles': 7481, 'Allen': 7482, 'defied': 7483, 'brilliant': 7484, '12.92': 7485, '0.01': 7486, 'Colin': 7487, 'Jackson': 7488, 'fastest': 7489, 'hurdler': 7490, 'Kingdom': 7491, 'seemed': 7492, 'relish': 7493, 'dominating': 7494, 'finish': 7495, 'faster': 7496, 'speed': 7497, '13.24': 7498, 'pelting': 7499, 'hurdlers': 7500, 'stepped': 7501, 'Ludmila': 7502, 'Engquist': 7503, 'crashed': 7504, 'hurdle': 7505, 'footing': 7506, '12.60': 7507, 'silver': 7508, 'Brigita': 7509, 'Bukovec': 7510, '12.95': 7511, 'Jamaican': 7512, 'Michelle': 7513, 'Freeman': 7514, '12.77': 7515, 'Cuban': 7516, 'Aliuska': 7517, 'Lopez': 7518, 'jackpot': 7519, 'one-kg': 7520, 'clinch': 7521, 'Golden': 7522, 'Seven': 7523, 'penultimate': 7524, 'prize': 7525, 'Adkins': 7526, 'alive': 7527, '47.93': 7528, 'Gail': 7529, 'Devers': 7530, '10.84': 7531, '0.10': 7532, 'Merlene': 7533, 'Ottey': 7534, 'medal': 7535, 'photo': 7536, 'settle': 7537, '11.04': 7538, 'Gwen': 7539, 'Torrence': 7540, '11.00': 7541, 'costly': 7542, 'athletics': 7543, 'discus': 7544, 'Ilke': 7545, 'Wyludda': 7546, '66.60': 7547, 'Ellina': 7548, '65.66': 7549, 'Franka': 7550, 'Dietzsch': 7551, '61.74': 7552, 'Natalya': 7553, 'Sadova': 7554, '61.64': 7555, 'Mette': 7556, 'Bergmann': 7557, '61.44': 7558, 'Nicoleta': 7559, 'Grasu': 7560, '61.36': 7561, 'Olga': 7562, 'Chernyavskaya': 7563, '60.46': 7564, 'Irina': 7565, 'Yatchenko': 7566, '58.92': 7567, 'Jamaica': 7568, 'Cuba': 7569, '12.85': 7570, 'Dionne': 7571, '12.88': 7572, 'Yulia': 7573, 'Graudin': 7574, '12.96': 7575, 'Julie': 7576, 'Baumann': 7577, '13.36': 7578, 'Girard-Leno': 7579, 'Dawn': 7580, 'Bowles': 7581, '13.53': 7582, 'Emilio': 7583, 'Valle': 7584, '13.33': 7585, 'Pieters': 7586, '13.37': 7587, '13.38': 7588, 'Asselman': 7589, '13.64': 7590, 'Hubert': 7591, 'Grossard': 7592, '13.65': 7593, \"N'Senga\": 7594, '13.66': 7595, 'Johan': 7596, 'Lisabeth': 7597, '13.75': 7598, 'Roberta': 7599, 'Brunet': 7600, '48.96': 7601, 'Fernanda': 7602, 'Ribeiro': 7603, '14:49.81': 7604, 'Sally': 7605, 'Barsosio': 7606, 'Kenya': 7607, '14:58.29': 7608, 'Paula': 7609, 'Radcliffe': 7610, '14:59.70': 7611, 'Julia': 7612, 'Vaquero': 7613, '15:04.94': 7614, 'Catherine': 7615, 'McKiernan': 7616, '15:07.57': 7617, 'Annette': 7618, 'Peters': 7619, '15:07.85': 7620, 'Pauline': 7621, 'Konga': 7622, '15:11.40': 7623, 'Davidson': 7624, 'Ezinwa': 7625, 'Nigeria': 7626, '10.15': 7627, 'Jon': 7628, '10.16': 7629, 'Bruny': 7630, 'Surin': 7631, '10.30': 7632, 'Samuel': 7633, 'Matete': 7634, 'Zambia': 7635, '47.99': 7636, 'Rohan': 7637, '48.86': 7638, 'Torrance': 7639, 'Zellner': 7640, '49.06': 7641, 'Jean-Paul': 7642, 'Bruwier': 7643, '49.24': 7644, 'Dusan': 7645, 'Kovacs': 7646, '49.31': 7647, 'Calvin': 7648, '49.49': 7649, 'Laurent': 7650, 'Ottoz': 7651, '49.61': 7652, 'Dollendorf': 7653, '50.36': 7654, 'Onyali': 7655, '11.09': 7656, 'Chryste': 7657, 'Gaines': 7658, '11.18': 7659, 'Zhanna': 7660, 'Pintusevich': 7661, '11.27': 7662, 'Privalova': 7663, '11.28': 7664, 'Natalia': 7665, 'Voronova': 7666, 'Juliet': 7667, 'Cuthbert': 7668, '11.31': 7669, 'Regina': 7670, '01.77': 7671, 'Djate': 7672, '4:02.26': 7673, 'Carla': 7674, 'Sacramento': 7675, '4:02.67': 7676, 'Yekaterina': 7677, 'Podkopayeva': 7678, '4:04.78': 7679, 'Margret': 7680, 'Crowley': 7681, '4:05.00': 7682, 'Leah': 7683, 'Pells': 7684, '4:05.64': 7685, 'Sarah': 7686, 'Thorsett': 7687, '4:06.80': 7688, 'Sinead': 7689, 'Delahunty': 7690, '4:07.27': 7691, 'steeplechase': 7692, 'Joseph': 7693, 'Keter': 7694, '10.02': 7695, 'Sang': 7696, '8:12.04': 7697, 'Moses': 7698, 'Kiptanui': 7699, '8:12.65': 7700, 'Gideon': 7701, 'Chirchir': 7702, '8:15.69': 7703, 'Kosgei': 7704, '8:16.80': 7705, 'Larbi': 7706, 'Khattabi': 7707, '8:17.29': 7708, 'Eliud': 7709, 'Barngetuny': 7710, '8:17.66': 7711, 'Barmasai': 7712, '8:17.94': 7713, '44.29': 7714, 'Mills': 7715, '44.78': 7716, 'Anthuan': 7717, 'Maybank': 7718, '44.92': 7719, 'Kamoga': 7720, 'Uganda': 7721, '44.96': 7722, 'Baulch': 7723, '45.08': 7724, 'Bada': 7725, '45.21': 7726, 'Samson': 7727, 'Kitur': 7728, '45.34': 7729, 'Richardson': 7730, '45.67': 7731, 'Rouser': 7732, '46.11': 7733, 'Frankie': 7734, 'Fredericks': 7735, 'Namibia': 7736, '19.92': 7737, '19.99': 7738, '20.21': 7739, '20.42': 7740, 'Stevens': 7741, '20.43': 7742, 'Garcia': 7743, '20.45': 7744, 'Eric': 7745, 'Wymeersch': 7746, '20.84': 7747, 'Lamont': 7748, '21.08': 7749, 'Malgorzata': 7750, 'Rydz': 7751, '2:39.00': 7752, 'Anja': 7753, 'Smolders': 7754, '2:43.06': 7755, 'Veerle': 7756, 'Jaeghere': 7757, '2:43.18': 7758, 'Eleonora': 7759, 'Berlanda': 7760, '2:43.44': 7761, 'Anneke': 7762, 'Matthijs': 7763, '2:43.82': 7764, 'Jacqueline': 7765, '2:44.22': 7766, '22.42': 7767, 'Inger': 7768, '22.66': 7769, '22.68': 7770, '22.73': 7771, 'Trandenkova': 7772, '22.84': 7773, 'Chandra': 7774, 'Sturrup': 7775, '22.85': 7776, 'Zundra': 7777, 'Feagin': 7778, '23.18': 7779, 'Galina': 7780, 'Malchugina': 7781, '23.25': 7782, 'Cathy': 7783, '49.48': 7784, 'Marie-Jose': 7785, 'Perec': 7786, '49.72': 7787, 'Falilat': 7788, 'Ogunkoya': 7789, '49.97': 7790, '50.14': 7791, 'Fatima': 7792, 'Yussuf': 7793, 'Maicel': 7794, 'Malone': 7795, '50.51': 7796, 'Hana': 7797, 'Benesova': 7798, '51.71': 7799, 'Ann': 7800, 'Mercken': 7801, '53.55': 7802, 'Komen': 7803, '25.87': 7804, 'Khalid': 7805, 'Boulami': 7806, '7:31.65': 7807, 'Bob': 7808, '7:31.69': 7809, 'Hassane': 7810, 'Lahssini': 7811, '7:32.44': 7812, 'Nyariki': 7813, '7:35.56': 7814, 'Noureddine': 7815, 'Morceli': 7816, '7:36.81': 7817, 'Fita': 7818, 'Bayesa': 7819, '7:38.09': 7820, 'Keino': 7821, '7:38.88': 7822, 'Lars': 7823, 'Riedel': 7824, '66.74': 7825, '66.72': 7826, 'Dubrovshchik': 7827, '64.02': 7828, 'Virgilius': 7829, 'Alekna': 7830, '63.62': 7831, 'Juergen': 7832, 'Schult': 7833, '63.48': 7834, 'Vassiliy': 7835, 'Kaptyukh': 7836, '61.80': 7837, 'Vaclavas': 7838, 'Kidikas': 7839, '60.92': 7840, 'Mollenbeck': 7841, '59.24': 7842, 'triple': 7843, 'jump': 7844, 'Edwards': 7845, '17.50': 7846, 'Yoelvis': 7847, 'Quesada': 7848, '17.29': 7849, 'Wellman': 7850, 'Bermuda': 7851, '17.05': 7852, 'Harrison': 7853, '16.97': 7854, 'Markov': 7855, '16.66': 7856, 'Francis': 7857, 'Agyepong': 7858, '16.63': 7859, 'Rogel': 7860, 'Nachum': 7861, '16.36': 7862, 'Sigurd': 7863, 'Njerve': 7864, '16.35': 7865, 'Guerrouj': 7866, '29.05': 7867, 'Isaac': 7868, 'Viciosa': 7869, '3:33.00': 7870, 'Tanui': 7871, '3:33.36': 7872, 'Elijah': 7873, '3:33.64': 7874, \"O'Sullivan\": 7875, '3:33.77': 7876, 'Mayock': 7877, '3:33.94': 7878, 'Laban': 7879, 'Rotich': 7880, '3:34.12': 7881, 'Impens': 7882, '3:34.13': 7883, 'Stefka': 7884, 'Kostadinova': 7885, '2.03': 7886, 'Inga': 7887, 'Babakova': 7888, 'Alina': 7889, 'Astafei': 7890, '1.97': 7891, 'Motkova': 7892, '1.94': 7893, 'Zalevskaya': 7894, 'Kazakhstan': 7895, '1.91': 7896, 'Yelena': 7897, 'Gulyayeva': 7898, '1.88': 7899, 'Hanna': 7900, 'Haugland': 7901, 'Boshova': 7902, '1.85': 7903, 'Nele': 7904, 'Zilinskiene': 7905, 'Tergat': 7906, '26:54.41': 7907, 'Koech': 7908, '26:56.78': 7909, 'Kiptum': 7910, '27:18.84': 7911, 'Aloys': 7912, 'Nizigama': 7913, 'Burundi': 7914, '27:25.13': 7915, 'Mathias': 7916, 'Ntawulikura': 7917, 'Rwanda': 7918, '27:25.48': 7919, 'Abel': 7920, 'Anton': 7921, '28:18.44': 7922, 'Kamiel': 7923, 'Maase': 7924, '28.29.42': 7925, 'Worku': 7926, 'Bekila': 7927, '28.42.23': 7928, 'Stefko': 7929, '28:42.26': 7930, 'JORGE': 7931, 'CALLS': 7932, 'UP': 7933, 'SIX': 7934, 'PORTO': 7935, 'PLAYERS': 7936, 'QUALIFIER': 7937, '18-man': 7938, 'Midfielder': 7939, 'Paulo': 7940, 'Sousa': 7941, 'Juventus': 7942, 'member': 7943, 'Oliveira': 7944, 'coaches': 7945, 'Vitor': 7946, 'Baia': 7947, 'Rui': 7948, 'Correia': 7949, 'Paulinho': 7950, 'Santos': 7951, 'Helder': 7952, 'Cristovao': 7953, 'Secretario': 7954, 'Dimas': 7955, 'Teixeira': 7956, 'Couto': 7957, 'Barroso': 7958, 'Figo': 7959, 'Barros': 7960, 'Oceano': 7961, 'Cruz': 7962, 'Ricardo': 7963, 'Sa': 7964, 'Pinto': 7965, 'Forwards': 7966, 'Domingos': 7967, 'Joao': 7968, 'Vieira': 7969, 'Cadete': 7970, 'Folha': 7971, 'VOGTS': 7972, 'KEEPS': 7973, 'FAITH': 7974, 'Trainer': 7975, 'Berti': 7976, 'Vogts': 7977, 'faith': 7978, 'entire': 7979, 'friendly': 7980, 'Zabrze': 7981, 'Instead': 7982, 'nominated': 7983, 'veterans': 7984, 'Jens': 7985, 'Todt': 7986, 'dispensation': 7987, 'however': 7988, 'libero': 7989, 'Matthias': 7990, 'Sammer': 7991, 'Steffen': 7992, 'Freund': 7993, 'defender': 7994, 'Rene': 7995, 'Schneider': 7996, 'formally': 7997, \"'ll\": 7998, 'themselves': 7999, 'Oliver': 8000, 'Kahn': 8001, 'Koepke': 8002, 'Reck': 8003, 'Markus': 8004, 'Babbel': 8005, 'Helmer': 8006, 'Kohler': 8007, 'Reuter': 8008, 'Mario': 8009, 'Basler': 8010, 'Bode': 8011, 'Dieter': 8012, 'Eilts': 8013, 'Haessler': 8014, 'Moeller': 8015, 'Mehmet': 8016, 'Scholl': 8017, 'Strunz': 8018, 'Ziege': 8019, 'Bierhoff': 8020, 'Fredi': 8021, 'Bobic': 8022, 'Klinsmann': 8023, 'Kuntz': 8024, 'DRAWS': 8025, 'OLYMPIAKOS': 8026, 'PAO': 8027, 'draws': 8028, 'cup': 8029, 'x-AEK': 8030, 'x-Olympiakos': 8031, 'x-PAO': 8032, 'Legia': 8033, 'Warsaw': 8034, 'x': 8035, 'indicates': 8036, 'CLUB': 8037, 'COMPETITION': 8038, 'Draws': 8039, 'competitions': 8040, 'Lyngby': 8041, 'x-Club': 8042, 'Brugge': 8043, 'Casino': 8044, 'Graz': 8045, 'Ekeren': 8046, 'Besiktas': 8047, 'Molenbeek': 8048, 'Alania': 8049, 'Vladikavkaz': 8050, 'x-Anderlecht': 8051, 'x-Cercle': 8052, 'SRI': 8053, 'LANKA': 8054, 'AUSTRALIA': 8055, 'SAY': 8056, 'RELATIONS': 8057, 'HAVE': 8058, 'HEALED': 8059, 'healed': 8060, 'Lankans': 8061, 'acrimonious': 8062, 'guilty': 8063, 'tampering': 8064, 'off-spinner': 8065, 'Muttiah': 8066, 'Muralitharan': 8067, 'throwing': 8068, 'controversial': 8069, 'three-test': 8070, 'proper': 8071, 'Arjuna': 8072, 'Ranatunga': 8073, 'eve': 8074, 'warmup': 8075, 'XI': 8076, 'Cam': 8077, 'Battersby': 8078, 'excellent': 8079, 'Batterby': 8080, 'Colombo': 8081, 'Lankan': 8082, 'heavy': 8083, 'wicketkeeper': 8084, 'Healy': 8085, 'ANGOLA': 8086, 'LUANDA': 8087, 'Angolan': 8088, 'JORNAL': 8089, 'proposing': 8090, 'Angola': 8091, 'definite': 8092, 'Unita': 8093, 'generals': 8094, 'joint': 8095, 'formation': 8096, 'Unity': 8097, 'Reconciliation': 8098, 'circulation': 8099, 'peoples': 8100, 'guaranteed': 8101, 'administration': 8102, 'installed': 8103, 'deputies': 8104, 'occupy': 8105, 'delays': 8106, 'occupation': 8107, 'demilitarised': 8108, 'substituted': 8109, 'so-called': 8110, 'Dos': 8111, 'proposes': 8112, 'definitive': 8113, 'timetable': 8114, 'tasks': 8115, 'obligations': 8116, 'Lusaka': 8117, 'sending': 8118, 'supervise': 8119, 'execution': 8120, 'S.AFRICAN': 8121, 'COMPANY': 8122, 'CONSENSUS': 8123, 'estimates': 8124, 'DAY--COMPANY----PERIOD--CONSENSUS----RANGE-------PVS': 8125, 'MON': 8126, 'Gencor': 8127, 'YR': 8128, '93.12': 8129, '92.0-94.5': 8130, '73.8': 8131, 'DIV': 8132, '25.75': 8133, '25.0-27.0': 8134, '20.0': 8135, 'Primedia': 8136, 'N': 8137, '149.1': 8138, '123.2': 8139, 'Distillers': 8140, '71.8': 8141, '49.0': 8142, 'TUE': 8143, 'Iscor': 8144, '29.7': 8145, '26.0-32.0': 8146, '38.0': 8147, '15.0': 8148, '14.5-16.5': 8149, '16.5': 8150, 'McCarthy': 8151, '125.3': 8152, '112.0-149.0': 8153, '93.2': 8154, '36.8': 8155, '32.0-43.0': 8156, '28.0': 8157, 'WED': 8158, 'Imphold': 8159, '172.7': 8160, '170.4-175.0': 8161, '115.1': 8162, '67.5': 8163, '66.6-68.4': 8164, '45.0': 8165, 'THU': 8166, 'M&R': 8167, '113.0': 8168, '112.1-113.4': 8169, '126.0': 8170, '31.7': 8171, '10.5-42.3': 8172, '47.0': 8173, 'JD': 8174, 'Group': 8175, '143.7': 8176, '138.0-149.0': 8177, '111.2': 8178, '41.8': 8179, '41.0-42.5': 8180, '33.0': 8181, 'ooOOoo': 8182, '+27': 8183, '482': 8184, '1003': 8185, 'Ulster': 8186, 'Petroleums': 8187, 'falls': 8188, 'CALGARY': 8189, 'Shr': 8190, '0.04': 8191, '0.08': 8192, '1,196': 8193, '2,232': 8194, 'shr': 8195, '0.39': 8196, '0.41': 8197, 'Revs': 8198, '20,167': 8199, '18,623': 8200, '0.12': 8201, '0.15': 8202, '3,674': 8203, '4,271': 8204, '0.86': 8205, '0.81': 8206, '41,752': 8207, '35,711': 8208, '000s': 8209, 'Bureau': 8210, '416': 8211, '941-8100': 8212, 'jeopardize': 8213, 'trip-Canada': 8214, 'OTTAWA': 8215, 'restrictions': 8216, 'Axworthy': 8217, 'circumstances': 8218, 'discuss': 8219, 'Mid-tier': 8220, 'golds': 8221, 'fever': 8222, 'handful': 8223, 'Toronto-based': 8224, 'TVX': 8225, '0.30': 8226, '11.55': 8227, '780,000': 8228, 'Kinross': 8229, '0.25': 8230, '720,000': 8231, 'Scorpion': 8232, 'Minerals': 8233, 'junior': 8234, 'exploration': 8235, 'properties': 8236, '0.50': 8237, '120,000': 8238, 'changing': 8239, 'hands': 8240, 'eyebrows': 8241, 'aware': 8242, 'developments': 8243, 'formed': 8244, 'Exploration': 8245, 'Unitog': 8246, 'upgraded': 8247, 'Barrington': 8248, 'Research': 8249, 'Associates': 8250, 'near-term': 8251, 'Analyst': 8252, 'newsdesk': 8253, 'Buffett': 8254, 'Property': 8255, 'stake': 8256, 'WASHINGTON': 8257, 'Omaha': 8258, 'billionaire': 8259, 'Warren': 8260, 'Trust': 8261, '8.0': 8262, '6.7': 8263, 'filing': 8264, 'Securities': 8265, 'Exchnage': 8266, '62,900': 8267, 'Boston-based': 8268, 'estate': 8269, 'trust': 8270, 'ranging': 8271, '7.65': 8272, 'holding': 8273, '725,900': 8274, 'purchased': 8275, '6.2': 8276, 'well-known': 8277, 'investor': 8278, 'Berkshire': 8279, 'Hathaway': 8280, 'holds': 8281, 'investments': 8282, 'large': 8283, 'reach': 8284, 'MIAMI': 8285, 'allow': 8286, 'AMR': 8287, 'Airlines': 8288, 'operate': 8289, 'round-trip': 8290, 'Bogota': 8291, 'Transportation': 8292, 'Miami': 8293, 'shift': 8294, 'weekly': 8295, 'gateway': 8296, 'designate': 8297, 'all-cargo': 8298, 'permitted': 8299, 'add': 8300, 'Category': 8301, 'Conditional': 8302, 'status': 8303, 'Aviation': 8304, 'Safety': 8305, 'services': 8306, 'routes': 8307, 'airlines': 8308, '2-1/2': 8309, 'resolved': 8310, 'arose': 8311, 'Colombians': 8312, 'propose': 8313, 'Avianca': 8314, 'ACES': 8315, 'Clean': 8316, 'tanker': 8317, 'fixtures': 8318, 'enquiries': 8319, '1754': 8320, 'FIXTURES': 8321, 'MIDEAST': 8322, 'GULF': 8323, 'RED': 8324, 'SEA': 8325, 'Konpolis': 8326, '1/9': 8327, 'Mideast': 8328, 'W112.5': 8329, 'KPC': 8330, 'TBN': 8331, '6/9': 8332, 'W.C.': 8333, 'W200': 8334, 'E.C.India': 8335, 'W195': 8336, 'IOC': 8337, 'ASIA': 8338, 'PACIFIC': 8339, 'Petrobulk': 8340, 'Rainbow': 8341, '24/8': 8342, 'Okinawa': 8343, 'Inchon': 8344, '190,000': 8345, 'Honam': 8346, 'MED': 8347, 'BLACK': 8348, '15/9': 8349, 'Constanza': 8350, 'Inia': 8351, '700,000': 8352, 'CONT': 8353, '36,5': 8354, '3/9': 8355, 'Pembroke': 8356, 'W145': 8357, 'Stentex': 8358, 'HEMISPHERE': 8359, 'Kpaitan': 8360, 'Stankov': 8361, '31/8': 8362, 'Croix': 8363, 'USAC': 8364, 'W125': 8365, 'Hess': 8366, 'AP': 8367, 'Moller': 8368, 'Caribs': 8369, '875,000': 8370, 'Tiber': 8371, '2/9': 8372, 'options': 8373, 'W265': 8374, 'Stinnes': 8375, '------------------------------------------------------------': 8376, 'MIDDAY': 8377, 'Tenacity': 8378, '24/08': 8379, 'Samsung': 8380, 'SKS': 8381, 'Tana': 8382, '03/09': 8383, 'CNR': 8384, 'Northsea': 8385, 'Chaser': 8386, '12/09': 8387, 'W167.5': 8388, 'Jomo': 8389, 'Sibonina': 8390, '13/09': 8391, 'Sea': 8392, 'W160': 8393, 'Marubeni': 8394, 'Neptune': 8395, 'Crux': 8396, '02/09': 8397, 'Singapore': 8398, '185,000': 8399, 'Sietco': 8400, 'rnr': 8401, 'Fulmar': 8402, '28/08': 8403, 'Yosu': 8404, '105,000': 8405, 'LG': 8406, 'Caltex': 8407, 'Hemina': 8408, '05/09': 8409, 'Eleusis': 8410, 'UKCM': 8411, 'W155': 8412, '8980': 8413, '229-1': 8414, 'sacks': 8415, 'golfer': 8416, 'sacked': 8417, 'Harmon': 8418, 'Akron': 8419, 'ways': 8420, 'long-time': 8421, 'mentor': 8422, 'drawing': 8423, 'blank': 8424, 'tournaments': 8425, 'blonde': 8426, 'adrift': 8427, 'Tanaki': 8428, 'worst': 8429, 'circuit': 8430, 'My': 8431, 'application': 8432, 'strange': 8433, 'Maybe': 8434, 'keyed': 8435, 'Sometimes': 8436, 'your': 8437, 'perform': 8438, 'Ori': 8439, 'TAIBE': 8440, 'field': 8441, 'Taibe': 8442, 'fields': 8443, 'Pole': 8444, 'Arabs': 8445, '1961': 8446, 'loyal': 8447, '28,000': 8448, 'unfriendly': 8449, 'crowds': 8450, 'taunt': 8451, 'thing': 8452, 'promoted': 8453, 'Betar': 8454, 'Jerusalem': 8455, 'supporter': 8456, 'Karem': 8457, 'Haj': 8458, 'Yihye': 8459, 'coached': 8460, 'Wojtek': 8461, 'Lazarek': 8462, 'closely': 8463, 'Chants': 8464, 'Death': 8465, 'bottle-throwing': 8466, 'marred': 8467, 'goalless': 8468, 'treatment': 8469, 'stone': 8470, 'driving': 8471, 'hearing': 8472, 'taunts': 8473, 'Sameh': 8474, 'resident': 8475, 'Hebrew': 8476, 'words': 8477, 'nobody': 8478, 'vehemently': 8479, 'dusty': 8480, 'lacks': 8481, 'amenities': 8482, 'communities': 8483, 'discrimination': 8484, 'parks': 8485, 'empty': 8486, 'load': 8487, 'Tel': 8488, 'Aviv': 8489, 'ramshackle': 8490, '2,500-seat': 8491, 'accessible': 8492, 'dirt': 8493, 'tracks': 8494, '10,000-seat': 8495, 'situated': 8496, 'elsewhere': 8497, 'Rahman': 8498, 'mayor': 8499, 'hopefully': 8500, 'refurbished': 8501, 'meantime': 8502, 'policed': 8503, 'coastal': 8504, 'Netanya': 8505, 'Israelis': 8506, 'waiter': 8507, 'represents': 8508, 'Phelan': 8509, 'withdrawn': 8510, 'Liechenstein': 8511, 'Football': 8512, 'F.A.I.': 8513, 'Liverpool': 8514, 'replacements': 8515, 'Damien': 8516, 'Lynch': 8517, '+353': 8518, '6603377': 8519, 'pitted': 8520, 'hopefuls': 8521, 'C': 8522, 'runners-up': 8523, 'Rapid': 8524, 'Fenerbahce': 8525, 'Turin': 8526, 'Old': 8527, 'Trafford': 8528, '1990s': 8529, 'consistently': 8530, 'crashing': 8531, 'Barcelona': 8532, 'Trophy': 8533, 'triumph': 8534, '1968': 8535, 'Wembley': 8536, 'conquering': 8537, 'ill-fated': 8538, '1985': 8539, 'Heysel': 8540, 'robbery': 8541, 'suspects': 8542, 'LAGOS': 8543, 'Sokoto': 8544, 'NAN': 8545, 'Umar': 8546, 'Shelling': 8547, 'stealing': 8548, '800,000': 8549, 'naira': 8550, 'merchant': 8551, 'Rwandan': 8552, 'expulsion': 8553, 'imminent': 8554, 'NAIROBI': 8555, 'Repatriation': 8556, '1.1': 8557, 'Hutu': 8558, 'refugees': 8559, 'Zaire': 8560, 'lobby': 8561, 'Innocent': 8562, 'Butare': 8563, 'Rally': 8564, 'Return': 8565, 'Democracy': 8566, 'RDR': 8567, 'Hutus': 8568, 'appealed': 8569, 'deter': 8570, 'termed': 8571, 'inhuman': 8572, 'Orthodox': 8573, 'blown': 8574, 'ZAGREB': 8575, 'Saboteurs': 8576, 'Serb': 8577, 'orthodox': 8578, 'damaged': 8579, 'Hina': 8580, 'HINA': 8581, 'Karin': 8582, 'Gornji': 8583, 'Zadar': 8584, 'destroyed': 8585, 'casualties': 8586, 'find': 8587, 'perpetrators': 8588, 'hinterland': 8589, 'Serbs': 8590, 'Yugoslav': 8591, 'self-styled': 8592, 'Krajina': 8593, 'proclaimed': 8594, 'minority': 8595, 'recaptured': 8596, '200,000': 8597, 'vacant': 8598, 'depopulated': 8599, '27.53': 8600, '27.25': 8601, 'FIGURES': 8602, 'MILLION': 8603, '27,535.5': 8604, 'reserves': 8605, 'assets': 8606, '13,256.5': 8607, '12,855.7': 8608, '14,278.9': 8609, '9,510.9': 8610, '10,056.4': 8611, 'tighten': 8612, 'crime': 8613, 'WARSAW': 8614, 'intelligence': 8615, 'organised': 8616, 'PAP': 8617, 'Zbigniew': 8618, 'Siemiatkowski': 8619, 'Schmidbauer': 8620, 'co-ordinator': 8621, 'Helmut': 8622, 'Kohl': 8623, 'chancellery': 8624, 'sealed': 8625, 'links': 8626, 'Ryszard': 8627, 'Hincza': 8628, 'mafia-style': 8629, 'smuggling': 8630, 'radioactive': 8631, 'materials': 8632, 'Chechens': 8633, 'observing': 8634, 'GROZNY': 8635, 'Rebel': 8636, 'fighters': 8637, 'soldiers': 8638, 'effective': 8639, 'gunfire': 8640, 'echoed': 8641, 'withdraw': 8642, 'rebel-dominated': 8643, 'mountains': 8644, 'relatively': 8645, 'Shabazov': 8646, 'bearded': 8647, 'wearing': 8648, 't-shirt': 8649, 'camoflage': 8650, 'trousers': 8651, 'Soon': 8652, 'rocked': 8653, 'courtyard': 8654, 'T-72': 8655, 'tank': 8656, 'roared': 8657, 'swept': 8658, 'checkpoints': 8659, 'roads': 8660, 'soldier': 8661, 'Goncharova': 8662, 'dark': 8663, 'hair': 8664, 'poking': 8665, 'peaked': 8666, 'camouflage': 8667, 'overhead': 8668, 'flares': 8669, 'patrols': 8670, 'sceptical': 8671, 'try': 8672, 'WEATHER': 8673, 'Conditions': 8674, 'CIS': 8675, 'closures': 8676, 'Independent': 8677, 'Weather': 8678, 'Granic': 8679, 'Croatia-Yugoslavia': 8680, 'BELGRADE': 8681, 'poised': 8682, 'landmark': 8683, 'normalisation': 8684, 'paving': 8685, 'stabilisation': 8686, 'Balkans': 8687, 'Mate': 8688, 'aboard': 8689, 'jet': 8690, 'counterparts': 8691, '1000': 8692, 'endorsed': 8693, 'normalising': 8694, 'Tanjug': 8695, 'assessed': 8696, 'crucial': 8697, 'resolving': 8698, 'ensuring': 8699, 'restoration': 8700, 'Last-minute': 8701, 'print': 8702, 'internationally': 8703, 'recognised': 8704, 'borders': 8705, 'diplomats': 8706, 'ends': 8707, 'secession': 8708, 'powers': 8709, 'regard': 8710, 'twin': 8711, 'pillars': 8712, 'multinational': 8713, 'lasting': 8714, 'QUITO': 8715, 'Abdala': 8716, 'Bucaram': 8717, 'lunches': 8718, 'presidential': 8719, 'palace': 8720, 'different': 8721, 'blacks': 8722, 'mixed-bloods': 8723, 'exclusively': 8724, 'potentates': 8725, 'ambassadors': 8726, 'protocol': 8727, 'mixed-race': 8728, 'peasant': 8729, 'sectors': 8730, 'elected': 8731, 'populist': 8732, 'platform': 8733, 'cultures': 8734, 'Andean': 8735, 'nation': 8736, 'indigenous': 8737, 'hovercrafts': 8738, 'Amazon': 8739, 'BRASILIA': 8740, 'Hovercrafts': 8741, 'plying': 8742, 'waters': 8743, 'bid': 8744, 'difficulties': 8745, 'transportation': 8746, 'vast': 8747, 'waterway': 8748, 'Russian-built': 8749, 'capable': 8750, 'tons': 8751, 'ferrying': 8752, 'huge': 8753, 'river': 8754, 'Belem': 8755, 'riverways': 8756, 'high-speed': 8757, 'hovercraft': 8758, 'distances': 8759, 'HK': 8760, 'Tsang': 8761, 'Donald': 8762, 'Suharto': 8763, \"Mar'ie\": 8764, 'Muhammad': 8765, 'Ali': 8766, 'Alatas': 8767, 'Tungky': 8768, 'Ariwibowo': 8769, 'Bolger': 8770, 'Deputy': 8771, 'Don': 8772, 'McKinnon': 8773, 'Birch': 8774, 'expels': 8775, 'bread': 8776, 'riots': 8777, 'Rana': 8778, 'Sabbagh': 8779, 'AMMAN': 8780, 'passed': 8781, 'peacefully': 8782, 'demonstrations': 8783, 'Adel': 8784, 'Ibrahim': 8785, 'attache': 8786, 'duties': 8787, 'incompatible': 8788, 'norms': 8789, 'implying': 8790, 'spying': 8791, 'notified': 8792, 'explusion': 8793, 'comment': 8794, 'assistant': 8795, 'Khalaf': 8796, 'expelled': 8797, 'tension': 8798, 'King': 8799, 'defections': 8800, 'retaliated': 8801, 'expelling': 8802, 'Jordanian': 8803, 'secure': 8804, 'pro-Baghdad': 8805, 'Karak': 8806, 'flared': 8807, 'hundred': 8808, 'lingered': 8809, 'Omari': 8810, 'mosque': 8811, 'shouting': 8812, 'Disperse': 8813, 'abstain': 8814, 'forming': 8815, 'enforced': 8816, 'loose': 8817, 'curfew': 8818, 'loudspeakers': 8819, 'Allahu': 8820, 'Akbar': 8821, 'Greatest': 8822, 'Islamist': 8823, 'Kafawin': 8824, 'pulpit': 8825, 'detainees': 8826, 'houses': 8827, 'cancelling': 8828, 'Armoured': 8829, 'streets': 8830, 'traditional': 8831, 'bastion': 8832, 'communist': 8833, 'ideology': 8834, 'Baath': 8835, 'socialism': 8836, '1950s': 8837, 'guarded': 8838, 'entrances': 8839, 'hill-top': 8840, 'famed': 8841, 'Crusader': 8842, 'castle': 8843, 'crowded': 8844, 'smaller': 8845, 'clashes': 8846, 'quietly': 8847, 'riot': 8848, '80-seat': 8849, 'involvement': 8850, 'policies': 8851, 'hardship': 8852, 'rioting': 8853, 'derision': 8854, 'blame': 8855, 'protests': 8856, 'hardships': 8857, 'Kurd': 8858, 'ANKARA': 8859, 'Anatolian': 8860, 'state-paid': 8861, 'PKK': 8862, 'Sirnak': 8863, 'Hakkari': 8864, '12-year-old': 8865, 'autonomy': 8866, 'southeastern': 8867, 'planted': 8868, 'exploded': 8869, 'fights': 8870, 'Diyarbakir': 8871, 'Leaders': 8872, 'U.S.-mediated': 8873, 'Spokesman': 8874, 'Glyn': 8875, 'Davies': 8876, 'contacts': 8877, 'Barzani': 8878, 'Jalal': 8879, 'Talabani': 8880, 'implementation': 8881, 'Assistant': 8882, 'Near': 8883, 'Pelletreau': 8884, 'solidify': 8885, 'cease-fire': 8886, 'pursue': 8887, 'reconciliation': 8888, 'repelled': 8889, 'wounding': 8890, 'capturing': 8891, 'opposing': 8892, 'unite': 8893, 'mountainous': 8894, 'teen': 8895, 'slumber': 8896, 'CHESAPEAKE': 8897, 'knife-wielding': 8898, 'neighbour': 8899, 'apparently': 8900, 'intent': 8901, 'sexual': 8902, 'invaded': 8903, 'teenage': 8904, 'a.m.': 8905, 'EDT': 8906, 'teenaged': 8907, 'girls': 8908, 'Camelot': 8909, 'subdivision': 8910, 'Virginia': 8911, 'entered': 8912, 'wielding': 8913, 'knife': 8914, 'sexually': 8915, 'Detective': 8916, 'Chesapeake': 8917, 'Curtis': 8918, 'II': 8919, 'adults': 8920, 'detective': 8921, 'sketchy': 8922, 'teenagers': 8923, 'reportedly': 8924, 'downstairs': 8925, 'watching': 8926, 'allegedly': 8927, 'teenager': 8928, 'sleeping': 8929, 'upstairs': 8930, 'commotion': 8931, 'confronted': 8932, 'stabbed': 8933, 'once': 8934, 'assailant': 8935, 'fatally': 8936, 'molested': 8937, 'life-threatening': 8938, 'identified': 8939, 'Harper': 8940, 'Glickman': 8941, 'USDA': 8942, 'monitoring': 8943, 'aflatoxin': 8944, 'Dan': 8945, 'corn': 8946, 'USDA-sponsored': 8947, 'perennial': 8948, 'problematic': 8949, 'vomitoxin': 8950, 'purchase': 8951, 'wheat': 8952, 'Republican': 8953, 'Gov': 8954, 'Weld': 8955, 'Senate': 8956, 'seat': 8957, 'Franny': 8958, 'incumbent': 8959, 'Sen': 8960, 'Kerry': 8961, 'vote': 8962, 'WBUR-FM': 8963, 'facing': 8964, 'Cambridge': 8965, 'friend': 8966, 'Tracy': 8967, 'Roosevelt': 8968, 'politics': 8969, 'great-granddaughter': 8970, 'Franklin': 8971, 'Roosevelts': 8972, 'friends': 8973, 'Susan': 8974, 'descendant': 8975, 'Theodore': 8976, 'Lufthansa': 8977, '1.7': 8978, 'in-house': 8979, 'Lufthanseat': 8980, 'Available': 8981, 'freight-tonne': 8982, 'kilometres': 8983, '2,389': 8984, '1,600': 8985, 'Freight': 8986, '67.0': 8987, 'transport': 8988, 'Dm': 8989, '820': 8990, 'Staff': 8991, 'Fuel': 8992, 'Flight-related': 8993, 'fees': 8994, '125': 8995, 'WSC-India': 8996, 'Rice': 8997, 'SUMMARY-': 8998, 'Showers': 8999, '0.25-1.30': 9000, 'inch': 9001, '6-33': 9002, 'mm': 9003, 'locally': 9004, 'coverage': 9005, 'Isolated': 9006, 'showers': 9007, '0.20-0.70': 9008, '5-18': 9009, 'Highs': 9010, '82-96F': 9011, '28-36C': 9012, 'CROP': 9013, 'IMPACT-': 9014, 'FORECAST-': 9015, 'TODAY': 9016, '0.25-1.00': 9017, '6-25': 9018, '0.75': 9019, 'isolated': 9020, 'TONIGHT': 9021, 'Variable': 9022, 'clouds': 9023, 'Partly': 9024, 'cloudy': 9025, 'Lows': 9026, '68-76F': 9027, '20-24C': 9028, 'TOMORROW': 9029, 'Little': 9030, 'OUTLOOK': 9031, 'thunderstorms': 9032, 'Temperatures': 9033, 'Source': 9034, 'Corporation': 9035, 'curb': 9036, 'Tamil': 9037, 'stamp': 9038, 'soil': 9039, 'directed': 9040, 'sympathised': 9041, 'predicament': 9042, 'prevailing': 9043, 'framework': 9044, 'perpetrate': 9045, 'coordinator': 9046, 'counter': 9047, 'terrorism': 9048, 'Wilcox': 9049, '13-year': 9050, 'finance': 9051, 'extorted': 9052, 'expatriate': 9053, 'Liberation': 9054, 'Eelam': 9055, 'king': 9056, 'leaves': 9057, 'week-long': 9058, 'KATHMANDU': 9059, 'Birendra': 9060, 'ascending': 9061, 'throne': 9062, '1972': 9063, 'constitutional': 9064, 'monarch': 9065, 'Jiang': 9066, 'Zemin': 9067, 'Premier': 9068, 'Peng': 9069, 'Prakash': 9070, 'Lohani': 9071, 'Himalayan': 9072, 'sandwiched': 9073, 'traditionally': 9074, 'giant': 9075, 'neighbours': 9076, 'distance': 9077, '50-year': 9078, 'Queen': 9079, 'Aishwarya': 9080, 'Tibetan': 9081, 'Lhasa': 9082, 'Chongqing': 9083, 'servant': 9084, 'Nepali': 9085, 'bound': 9086, 'employer': 9087, 'Madhusudan': 9088, 'Munakarmi': 9089, 'informed': 9090, 'plight': 9091, '12-year': 9092, 'Dhiraj': 9093, 'K.C.': 9094, 'locks': 9095, 'concealed': 9096, 'Kathmandu': 9097, 'Dheeraj': 9098, 'employed': 9099, 'limping': 9100, 'steal': 9101, 'belongings': 9102, 'Post': 9103, 'OPTIONS': 9104, 'vols': 9105, 'regrouping': 9106, 'Implied': 9107, 'volatility': 9108, 'stabilise': 9109, 'falling': 9110, 'German-led': 9111, 'Volatility': 9112, 'Euromark': 9113, 'trader': 9114, '14.00': 9115, '16.75': 9116, '19.50': 9117, '21.25': 9118, 'welter': 9119, '18.50': 9120, '20.00': 9121, '22.00': 9122, '23.5': 9123, '1347': 9124, '96.78': 9125, 'sell-off': 9126, 'overdone': 9127, 'floors': 9128, 'low': 9129, 'size': 9130, 'Bundesbank': 9131, 'repo': 9132, '3.00': 9133, '3.30': 9134, 'longer-dated': 9135, 'short-dated': 9136, 'perhaps': 9137, 'vol': 9138, 'Long': 9139, 'historically': 9140, 'vol.': 9141, 'You': 9142, 'reassess': 9143, 'OTC': 9144, 'specialist': 9145, 'Coughlan': 9146, 'over-the-counter': 9147, '10-year': 9148, 'Bunds': 9149, 'makers': 9150, 'high-yielding': 9151, 'downside': 9152, 'upside': 9153, 'potential': 9154, 'recommend': 9155, 'strangles': 9156, 'particular': 9157, 'vulnerable': 9158, 'fronts': 9159, 'enhance': 9160, 'yield': 9161, 'Nisbet': 9162, 'Bonds': 9163, '6320': 9164, 'Sachs': 9165, 'warrants': 9166, 'Continental': 9167, 'Wertpapier': 9168, 'American-style': 9169, 'warrant': 9170, 'controls': 9171, 'STRIKE': 9172, '25.00': 9173, 'DEM': 9174, 'PREMIUM': 9175, 'ISSUE': 9176, '2.42': 9177, 'GEARING': 9178, '10.29': 9179, 'X': 9180, 'EXERCISE': 9181, 'PERIOD': 9182, '02.SEP.96-21.NOV.97': 9183, 'PAYDATE': 9184, '30.AUG.96': 9185, 'DDF': 9186, 'FFT': 9187, 'STG': 9188, 'MIN': 9189, 'EXER': 9190, 'LOT': 9191, 'SPOT': 9192, 'REFERENCE': 9193, '24.90': 9194, 'Legal': 9195, 'challenge': 9196, 'Diana': 9197, 'photographer': 9198, 'branded': 9199, 'stalker': 9200, 'Princess': 9201, 'approaching': 9202, 'criminal': 9203, 'Stenning': 9204, '12-week': 9205, 'contest': 9206, 'injunction': 9207, 'obtained': 9208, 'affidavit': 9209, 'affadavit': 9210, 'Benedict': 9211, 'Birnberg': 9212, 'everything': 9213, 'ice': 9214, 'brick': 9215, 'driver': 9216, 'motorcycle': 9217, 'dispatch': 9218, 'rider': 9219, 'convictions': 9220, 'Magistrates': 9221, 'compensation': 9222, '182': 9223, '282': 9224, 'freelance': 9225, 'divorce': 9226, 'heir-to-the-throne': 9227, 'Prince': 9228, 'Charles': 9229, 'persistently': 9230, 'trailing': 9231, 'princess': 9232, 'chasing': 9233, 'remove': 9234, 'camera': 9235, 'scapegoat': 9236, 'photographers': 9237, 'Mr.': 9238, 'shook': 9239, 'DOHUK': 9240, 'tentative': 9241, '...For': 9242, 'sake': 9243, 'asking': 9244, 'Riza': 9245, 'Altun': 9246, 'Dohuk': 9247, 'accompany': 9248, 'spring': 9249, 'frequent': 9250, 'cross-border': 9251, 'drives': 9252, 'writer': 9253, 'Nacar': 9254, 'wider': 9255, 'effort': 9256, 'Necmettin': 9257, 'Erbakan': 9258, 'encouraged': 9259, 'uses': 9260, 'SOLIDERE': 9261, 'privately-operated': 9262, 'Secondary': 9263, 'Market': 9264, 'BSM': 9265, 'distributed': 9266, 'district': 9267, 'rebuilding': 9268, '104.625': 9269, 'B': 9270, '650-million': 9271, 'subscription': 9272, '106.5': 9273, '106.375': 9274, 'Turnover': 9275, '8,049': 9276, '8,757': 9277, '850,968': 9278, '918,288': 9279, '1,185': 9280, 'Ciments': 9281, 'Libanais': 9282, '1.1875': 9283, '2,036': 9284, 'listed': 9285, 'Blancs': 9286, 'Eternit': 9287, 'Uniceramic': 9288, 'BLOM': 9289, 'Index': 9290, 'covers': 9291, '903.09': 9292, 'LISPI': 9293, '0.02': 9294, '81.58': 9295, 'editorial': 9296, '961': 9297, '864148': 9298, '353078': 9299, '861723': 9300, 'Zenith': 9301, 'lands': 9302, 'plant': 9303, 'Nadeau': 9304, 'consortium': 9305, 'Walt': 9306, 'Disney': 9307, 'digital': 9308, 'televison': 9309, 'set-top': 9310, 'boxes': 9311, 'entertainment': 9312, 'struggled': 9313, 'Luehrs': 9314, 'Glenview': 9315, 'Ill.-based': 9316, 'Networks': 9317, 'Anytime': 9318, 'somebody': 9319, 'gets': 9320, 'era': 9321, 'soared': 9322, '5.50': 9323, '16.875': 9324, 'Americast': 9325, 'develop': 9326, 'generation': 9327, 'addition': 9328, 'partners': 9329, 'phone': 9330, 'Ameritech': 9331, 'Corp.': 9332, 'BellSouth': 9333, 'GTE': 9334, 'SBC': 9335, 'Communications': 9336, 'Telecommunications': 9337, 'join': 9338, 'cable': 9339, 'Woodridge': 9340, 'Ill': 9341, 'tubes': 9342, '32-': 9343, '35-inch': 9344, 'screen': 9345, 'buys': 9346, 'competitors': 9347, 'financing': 9348, 'jobs': 9349, 'roll': 9350, 'build-to-order': 9351, 'convert': 9352, 'Chihuahua': 9353, 'analogue': 9354, 'manufacture': 9355, 'profitable': 9356, 'subscribers': 9357, 'technology': 9358, 'retail': 9359, 'electronics': 9360, 'devices': 9361, 'dividends': 9362, 'plagued': 9363, 'colour': 9364, 'reporting': 9365, 'full-year': 9366, '33.2': 9367, '45.3': 9368, '97': 9369, 'Korea-based': 9370, 'Electronics': 9371, 'Gutenstein': 9372, 'Kalf': 9373, 'Voorhis': 9374, 'unique': 9375, 'Digital': 9376, 'happy': 9377, 'Natural': 9378, 'Law': 9379, 'meditate': 9380, 'hundreds': 9381, 'yogic': 9382, 'fliers': 9383, 'defy': 9384, 'nature': 9385, 'levitating': 9386, 'comes': 9387, 'minor': 9388, 'candidate': 9389, 'Transcendental': 9390, 'Meditation': 9391, 'TM': 9392, 'physicist': 9393, 'Hagelin': 9394, 'Nov.': 9395, 'running': 9396, 'claiming': 9397, 'ward': 9398, 'techniques': 9399, 'mass': 9400, 'meditation': 9401, 'stress': 9402, 'automatically': 9403, 'decrease': 9404, 'Many': 9405, 'practitioners': 9406, 'involves': 9407, 'meditating': 9408, 'repeated': 9409, 'word': 9410, 'phrase': 9411, 'mantra': 9412, 'followers': 9413, 'contend': 9414, 'mediate': 9415, 'demonstration': 9416, 'bouncing': 9417, 'sitting': 9418, 'Huge': 9419, 'Windows': 9420, 'fail': 9421, 'Wolk': 9422, 'massively': 9423, 'publicized': 9424, 'introduction': 9425, 'Microsoft': 9426, 'computer': 9427, 'fallen': 9428, 'software': 9429, 'Even': 9430, 'fastest-selling': 9431, 'unprecedented': 9432, 'hype': 9433, 'Aug.': 9434, 'launch': 9435, 'greet': 9436, 'lines': 9437, 'customers': 9438, 'Redmond': 9439, 'Wash.-based': 9440, 'tens': 9441, 'dollars': 9442, 'promoting': 9443, 'stunts': 9444, 'lighting': 9445, 'Empire': 9446, 'building': 9447, 'color': 9448, 'scheme': 9449, 'Rob': 9450, 'Enderle': 9451, 'Giga': 9452, 'hardware': 9453, 'spike': 9454, 'materialized': 9455, 'expecting': 9456, 'coat-tails': 9457, 'somewhat': 9458, 'Winkler': 9459, 'Gartner': 9460, 'impact': 9461, 'earth-shattering': 9462, 'Symantec': 9463, 'posting': 9464, 'projections': 9465, 'Touchstone': 9466, '1.3': 9467, 'lawsuit': 9468, 'tied': 9469, 'developers': 9470, 'suffer': 9471, 'shelves': 9472, 'jammed': 9473, 'blue-and-white': 9474, 'resulting': 9475, 'shortage': 9476, 'space': 9477, 'seasonal': 9478, 'products': 9479, 'Stephens': 9480, 'PC': 9481, 'accompanying': 9482, 'Office': 9483, 'upgrade': 9484, '8.67': 9485, 'cemented': 9486, 'dominant': 9487, 'executives': 9488, 'thrilled': 9489, 'sometime': 9490, 'surpass': 9491, 'older': 9492, 'computers': 9493, 'handling': 9494, 'technical': 9495, 'frustrated': 9496, 'install': 9497, 'corporate': 9498, 'adopted': 9499, 'go-slow': 9500, 'high-end': 9501, 'NT': 9502, 'downplayed': 9503, '4.0': 9504, 'proportion': 9505, 'users': 9506, 'mistake': 9507, 'thinking': 9508, 'sweeping': 9509, 'slow': 9510, 'migration': 9511, 'pacts': 9512, 'repatriate': 9513, 'intercepted': 9514, 'migrants': 9515, 'illegally': 9516, 'jeopardising': 9517, 'Cubans': 9518, 'reiterates': 9519, 'Guantanamo': 9520, 'Naval': 9521, 'Base': 9522, 'enforcement': 9523, 'alien': 9524, 'hijackings': 9525, 'remind': 9526, 'everyone': 9527, 'abiding': 9528, 'avoiding': 9529, 'straits': 9530, 'Havana': 9531, 'centred': 9532, 'boatload': 9533, 'emigrants': 9534, 'capsized': 9535, 'Sixteen': 9536, 'Bay': 9537, 'emigrated': 9538, 'hijacking': 9539, 'hijackers': 9540, 'hijacked': 9541, 'commercial': 9542, 'aylum': 9543, 'Wis': 9544, 'apply': 9545, 'welfare': 9546, 'pioneering': 9547, 'image': 9548, 'Wisconsin': 9549, 'submit': 9550, 'administrative': 9551, 'Tommy': 9552, 'submitted': 9553, 'Human': 9554, 'grant': 9555, 'reform': 9556, 'curve': 9557, 'dubbed': 9558, 'W-2': 9559, 'waivers': 9560, 'acquire': 9561, '60-day': 9562, 'residency': 9563, 'requirement': 9564, 'participation': 9565, 'collections': 9566, 'directly': 9567, 'custodial': 9568, 'limits': 9569, 'eligibility': 9570, 'Karen': 9571, 'Pierog': 9572, '312-408-8647': 9573, 'Snoozing': 9574, 'Vietnamese': 9575, 'train': 9576, 'Alaska': 9577, 'ANCHORAGE': 9578, 'snooze': 9579, 'boxcar': 9580, 'locked': 9581, 'Whittier': 9582, 'Tuan': 9583, 'Quac': 9584, 'Phan': 9585, 'dehydrated': 9586, 'famished': 9587, 'terrified': 9588, 'barge': 9589, 'Sgt': 9590, 'Jewell': 9591, 'cooperative': 9592, 'Seeing': 9593, 'uniform': 9594, 'Jail': 9595, 'accidental': 9596, 'searching': 9597, 'fishing': 9598, 'sleep': 9599, 'coupled': 9600, 'transporting': 9601, 'lumber': 9602, 'Sound': 9603, 'fed': 9604, 'soup': 9605, 'breakfast': 9606, 'agents': 9607, 'Arkansas': 9608, 'fires': 9609, 'Barnes': 9610, 'LITTLE': 9611, 'ROCK': 9612, 'Ark': 9613, 'sifted': 9614, 'rubble': 9615, 'predominantly': 9616, 'churches': 9617, 'burned': 9618, 'Mississippi': 9619, 'delta': 9620, 'kms': 9621, 'Rock': 9622, 'located': 9623, 'investigating': 9624, 'idea': 9625, 'arson': 9626, 'conclusively': 9627, 'established': 9628, 'Agents': 9629, 'F.B.I.': 9630, 'Alcohol': 9631, 'Tobacco': 9632, 'Firearms': 9633, 'scene': 9634, 'Zion': 9635, 'Missionary': 9636, 'Baptist': 9637, 'Church': 9638, 'St.': 9639, 'Matthews': 9640, 'frame': 9641, 'structures': 9642, 'Turner': 9643, 'surrounded': 9644, 'cotton': 9645, 'soybean': 9646, 'rural': 9647, 'surprised': 9648, 'Fannie': 9649, 'Matthew': 9650, 'Others': 9651, 'connected': 9652, 'shared': 9653, 'suspicion': 9654, 'motive': 9655, 'spite': 9656, 'Rev.': 9657, 'Jerome': 9658, 'pastor': 9659, 'spared': 9660, 'wave': 9661, 'worship': 9662, 'Camden': 9663, 'Oak': 9664, 'initiated': 9665, 'EVEREN': 9666, 'Mines': 9667, '0.13': 9668, '0.40': 9669, '0.43': 9670, 'Based': 9671, 'simulated': 9672, 'income': 9673, 'models': 9674, 'discount': 9675, 'averages': 9676, 'short-term': 9677, 'objective': 9678, '1/16': 9679, '3-11/16': 9680, 'SunGard': 9681, 'CheckFree': 9682, 'MATEO': 9683, 'Calif.': 9684, 'Shareholder': 9685, 'Systems': 9686, 'Business': 9687, 'finalized': 9688, 'Terms': 9689, 'o': 9690, '212': 9691, '859-1610': 9692, 'Alpha': 9693, 'Techs': 9694, 'Lockhart': 9695, 'Technologies': 9696, 'Industries': 9697, '280,556': 9698, 'post-closing': 9699, 'adjustments': 9700, 'designer': 9701, 'sophisticated': 9702, 'thermal': 9703, 'PTT': 9704, 'telecoms': 9705, 'Koninklijke': 9706, 'Nederland': 9707, 'NV': 9708, 'marginally': 9709, 'scant': 9710, 'adjust': 9711, '1.209': 9712, 'breadth': 9713, '1.210-1.236': 9714, '1.210': 9715, 'largely': 9716, 'view': 9717, 'Coming': 9718, 'overwhelmingly': 9719, 'surprising': 9720, 'ING': 9721, 'Steven': 9722, 'Vrolijk': 9723, 'continuing': 9724, 'sound': 9725, 'performer': 9726, 'sticking': 9727, '2.45': 9728, 'guilder': 9729, '2.26': 9730, '1403': 9731, '1.70': 9732, '61.00': 9733, 'weaker': 9734, 'bourse': 9735, 'Keiron': 9736, 'Henderson': 9737, 'Boskalis': 9738, 'upgrades': 9739, '13:12': 9740, 'PAPENDRECHT': 9741, 'Dredging': 9742, 'Westminster': 9743, 'corrects': 9744, 'utilisation': 9745, 'dredger': 9746, 'uncertain': 9747, '70.9': 9748, 'prospects': 9749, 'first-half': 9750, '27.5': 9751, '41.4': 9752, 'dissolves': 9753, 'Costis': 9754, 'Stephnopoulos': 9755, 'ordering': 9756, 'dissolution': 9757, '300-seat': 9758, 'Stephanopoulos': 9759, 'poll': 9760, 'citing': 9761, 'convergence': 9762, 'Elections': 9763, 'originally': 9764, 'Libyan': 9765, 'Amer': 9766, 'Hishem': 9767, 'Mohammed': 9768, 'pool': 9769, 'Sliema': 9770, 'stab': 9771, 'wounds': 9772, 'Grech': 9773, 'fervant': 9774, 'investigations': 9775, 'Bahn': 9776, 'H1': 9777, 'pre-tax': 9778, '17.5': 9779, '188': 9780, '14,600': 9781, '3.3': 9782, 'Full': 9783, 'state-owned': 9784, 'earmarked': 9785, 'eventual': 9786, 'privatisatio': 9787, 'FAT8222': 9788, 'long-distance': 9789, 'traffic': 9790, '2,500': 9791, '6.4': 9792, 'commuter': 9793, '5,400': 9794, '4.6': 9795, 'freight': 9796, '3,200': 9797, '5.1': 9798, 'workforce': 9799, '300,962': 9800, '3.7': 9801, 'oct': 9802, 'compare': 9803, 'compares': 9804, '+49': 9805, '756525': 9806, 'lion': 9807, 'paparazzi': 9808, 'tabs': 9809, 'whales': 9810, 'marine': 9811, 'biologists': 9812, 'lions': 9813, 'tag': 9814, 'photograph': 9815, 'elusive': 9816, 'cruise': 9817, 'depths': 9818, 'Scientist': 9819, 'Harvey': 9820, 'Jennifer': 9821, 'Hurley': 9822, 'Moss': 9823, 'Landing': 9824, 'Marine': 9825, 'Laboratories': 9826, 'natural': 9827, 'companions': 9828, 'species': 9829, 'whale': 9830, 'Any': 9831, 'diver': 9832, 'knows': 9833, 'ca': 9834, '17-year-old': 9835, 'Beaver': 9836, 'nine-year-old': 9837, 'Sake': 9838, 'undergone': 9839, 'amusement': 9840, 'park': 9841, 'accurately': 9842, 'transmitter': 9843, 'swim': 9844, 'mammals': 9845, 'filming': 9846, 'video': 9847, 'assignment': 9848, 'documenting': 9849, 'humpback': 9850, 'Monterey': 9851, 'article': 9852, 'spell': 9853, 'exactly': 9854, 'taught': 9855, 'stick': 9856, 'plastic': 9857, 'model': 9858, 'using': 9859, 'suction': 9860, 'cups': 9861, 'jeopardises': 9862, 'Howard': 9863, 'jeopardised': 9864, 'upper': 9865, 'scrutinise': 9866, 'hacks': 9867, 'hack': 9868, 'environment': 9869, 'function': 9870, 'Senior': 9871, 'warned': 9872, 'fiscally-tight': 9873, 'hampered': 9874, 'contained': 9875, 'sharp': 9876, 'spending': 9877, '5.6': 9878, 'partially': 9879, 'Telstra': 9880, 'Greens': 9881, 'Labor': 9882, 'Official': 9883, 'Toyota': 9884, 'workers': 9885, 'MELBOURNE': 9886, '2,000': 9887, 'striking': 9888, 'voted': 9889, 'Melbourne': 9890, 'assembly': 9891, 'two-week': 9892, 'stoppage': 9893, 'Niugini': 9894, 'surge': 9895, 'miner': 9896, 'Mining': 9897, 'surged': 9898, '38': 9899, '3.75': 9900, 'confirmation': 9901, 'Mountain': 9902, 'considering': 9903, 'acquiring': 9904, '49.6': 9905, 'minorities': 9906, 'broker': 9907, 'copper': 9908, 'Papua': 9909, '17.2': 9910, 'Lihir': 9911, 'project': 9912, '0025': 9913, '3.65': 9914, '108,288': 9915, '9373': 9916, 'students': 9917, 'throw': 9918, 'irreplaceable': 9919, 'rocks': 9920, 'Students': 9921, 'Yonsei': 9922, 'samples': 9923, 'geology': 9924, 'collect': 9925, 'Geology': 9926, 'prefessors': 9927, 'collection': 9928, 'gathered': 9929, 'panes': 9930, 'desks': 9931, 'forever': 9932, 'professor': 9933, 'staged': 9934, 'violent': 9935, 'nine-day': 9936, 'university': 9937, 'unification': 9938, 'campus': 9939, 'unwinding': 9940, 'unwound': 9941, 'belief': 9942, 'strengthen': 9943, '818.10': 9944, '819.10': 9945, '817.60': 9946, '819.30': 9947, 'overbought': 9948, 'insistent': 9949, 'intervention': 9950, 'convinced': 9951, 'supporting': 9952, 'Orii': 9953, '96/97': 9954, '8.70': 9955, 'prft': 9956, '371': 9957, 'nil': 9958, '447': 9959, '48.61': 9960, 'automation': 9961, '95/96': 9962, '9.33': 9963, '286': 9964, '48': 9965, '350': 9966, '38.11': 9967, 'Diluted': 9968, 'Lynne': 9969, \"O'Donnell\": 9970, 'Shanghai': 9971, 'bonded': 9972, 'warehouses': 9973, 'confounding': 9974, 'fate': 9975, 'belongs': 9976, 'Yingkou': 9977, 'stockpile': 9978, 'stored': 9979, 'Just': 9980, 'guessing': 9981, 'metal': 9982, 'channelled': 9983, 'Nonferrous': 9984, 'Metals': 9985, 'Import': 9986, 'Export': 9987, 'CNIEC': 9988, 'indication': 9989, 'administered': 9990, 'Planning': 9991, 'Traders': 9992, 'tax': 9993, 'value-added': 9994, 'prohibitively': 9995, 'otherwise': 9996, 'spend': 9997, 'moving': 9998, 'Once': 9999, 'Mystery': 10000, 'unsure': 10001, 'exact': 10002, 'Trading': 10003, 'cost-effective': 10004, 'depleted': 10005, 'purpose': 10006, 'backwardation': 10007, 'Metal': 10008, 'LME': 10009, 'occurs': 10010, 'lent': 10011, '85,000': 10012, 'behalf': 10013, '115,000': 10014, 'Asia': 10015, '2,700': 10016, 'tonne': 10017, 'somewhere': 10018, '2,200': 10019, 'storage': 10020, 'Word': 10021, 'secret': 10022, 'unnerved': 10023, 'jittery': 10024, 'Bloomsbury': 10025, 'Economics': 10026, 'BME': 10027, 'motivation': 10028, 'owners': 10029, 'fundamental': 10030, 'rumours': 10031, 'Sumitomo': 10032, 'helping': 10033, 'unload': 10034, '1.8': 10035, 'decade': 10036, 'arrangement': 10037, 'unaware': 10038, 'arrivals': 10039, 'irrelevant': 10040, 'commodities': 10041, 'desire': 10042, '2843-6470': 10043, 'Companion': 10044, 'Marble': 10045, 'posts': 10046, 'H.K.': 10047, '14.0': 10048, 'Exceptional': 10049, '56.06': 10050, '531.52': 10051, 'Company': 10052, 'Holdings': 10053, 'Books': 10054, 'payable': 10055, 'granite': 10056, 'distributor': 10057, 'spinoff': 10058, 'construction': 10059, 'Building': 10060, 'Material': 10061, 'Room': 10062, '2843': 10063, '6368': 10064, 'Softbank': 10065, 'procure': 10066, 'forex': 10067, 'exchange': 10068, 'acquisition': 10069, 'Kingston': 10070, 'Technology': 10071, 'transactions': 10072, 'maker': 10073, 'memory': 10074, 'boards': 10075, 'acquisitions': 10076, 'Telecomm': 10077, 'SHANGHAI': 10078, 'Half-year': 10079, 'yuan': 10080, '115.259': 10081, '123.157': 10082, '20.318': 10083, '22.828': 10084, 'asset': 10085, '3.02': 10086, 'comparative': 10087, '0.14': 10088, 'Posts': 10089, 'Equipment': 10090, 'unaudited': 10091, 'Promodes': 10092, 'decide': 10093, 'Spar': 10094, 'Les': 10095, 'Echos': 10096, 'Rothschild': 10097, 'Cie': 10098, 'intermediary': 10099, 'unlisted': 10100, 'retailers': 10101, 'Metro': 10102, 'Rewe': 10103, 'Lidl': 10104, 'discussions': 10105, 'Promo': 10106, 'hypermarket': 10107, 'Continent': 10108, 'superstores': 10109, 'generated': 10110, '4.7': 10111, 'outline': 10112, 'Specia': 10113, 'Dia': 10114, 'Aldi': 10115, '4221': 10116, '5452': 10117, 'highlights': 10118, 'IRISH': 10119, 'INDEPENDENT': 10120, 'mortgage': 10121, 'lender': 10122, 'Permanent': 10123, 'stalemate': 10124, 'claim': 10125, 'owed': 10126, 'fund': 10127, 'Taylor': 10128, 'trawler': 10129, 'Corps': 10130, 'cat': 10131, 'mouse': 10132, 'Enterprise': 10133, 'Employment': 10134, 'widened': 10135, 'Asset': 10136, 'Managers': 10137, 'Ivernia': 10138, 'Minorco': 10139, 'council': 10140, 'zinc': 10141, 'Lisheen': 10142, 'Tipperary': 10143, 'CRH': 10144, 'refused': 10145, 'stering': 10146, 'Tilcon': 10147, 'Mortgage': 10148, 'societies': 10149, 'variable': 10150, 'Members': 10151, 'Antrim': 10152, 'Protestant': 10153, 'driven': 10154, 'loyalist': 10155, 'paramilitaries': 10156, 'yesterday': 10157, 'defiance': 10158, 'hanging': 10159, 'Dunnes': 10160, 'Stores': 10161, 'Top': 10162, 'bankers': 10163, 'Merrill': 10164, 'transferring': 10165, 'plastics': 10166, 'incineration': 10167, 'suitable': 10168, 'recycling': 10169, 'JV': 10170, '1996-08-24': 10171, 'truck': 10172, 'Motor': 10173, 'post-tax': 10174, 'Jiangling': 10175, '3.385': 10176, '14.956': 10177, '937.891': 10178, '1.215': 10179, '0.005': 10180, '8,333': 10181, '9,018': 10182, 'vehicle': 10183, 'engine': 10184, '138.643': 10185, 'shareholder': 10186, '353.24': 10187, 'Jiangxi': 10188, '8.3': 10189, 'Semifinals': 10190, 'RALLYING': 10191, 'KANKKUNEN': 10192, 'COMMAND': 10193, 'MCRAE': 10194, 'ROLLS': 10195, 'JYVASKYLA': 10196, 'Juha': 10197, 'Kankkunen': 10198, 'impressive': 10199, '37': 10200, 'stages': 10201, 'Lakes': 10202, 'overshadowed': 10203, 'Kankunnen': 10204, 'prospect': 10205, 'Gronholm': 10206, 'Tommi': 10207, 'Makinen': 10208, 'Mitsubishi': 10209, 'McRae': 10210, 'fined': 10211, '250,000': 10212, 'sports': 10213, 'governing': 10214, 'rolled': 10215, 'Subaru': 10216, '6.5': 10217, 'co-driver': 10218, 'Ringer': 10219, 'unhurt': 10220, 'boss': 10221, 'Richards': 10222, 'furious': 10223, 'astonishing': 10224, 'pace': 10225, '!': 10226, '37-year-old': 10227, 'Spaniard': 10228, 'Sainz': 10229, 'turbo': 10230, 'Bruno': 10231, 'Thiry': 10232, 'transmission': 10233, 'shaft': 10234, 'GRID': 10235, 'POSITIONS': 10236, 'Grid': 10237, '50.574': 10238, '226.859': 10239, 'kph': 10240, '1:50.980': 10241, 'Ferrari': 10242, '1:51.778': 10243, '1:51.884': 10244, '1:51.960': 10245, '1:52.318': 10246, '1:52.354': 10247, '1:52.977': 10248, 'Eddie': 10249, 'Irvine': 10250, '1:53.043': 10251, '1:53.152': 10252, 'grid': 10253, '1:53.199': 10254, '1:53.993': 10255, 'Salo': 10256, 'Tyrrell': 10257, '1:54.095': 10258, '14.': 10259, '1:54.220': 10260, 'Diniz': 10261, '1:54.700': 10262, 'Jos': 10263, 'Verstappen': 10264, 'Arrows': 10265, '1:55.150': 10266, '17.': 10267, 'Ukyo': 10268, 'Katayama': 10269, '1:55.371': 10270, '1:56.286': 10271, 'Lamy': 10272, 'Minardi': 10273, '1:56.830': 10274, 'Did': 10275, 'qualify': 10276, 'Giovanni': 10277, 'Lavaggi': 10278, '1:58.579': 10279, 'SPECTATOR': 10280, 'FINNISH': 10281, 'RALLY': 10282, 'unnamed': 10283, 'Danish': 10284, 'Richardt': 10285, 'ploughed': 10286, 'two-kilometre': 10287, 'host': 10288, 'Jyvaskyla': 10289, 'skidded': 10290, 'cordoned-off': 10291, 'suspended': 10292, 'resumed': 10293, 'practising': 10294, 'Quarterfinals': 10295, 'THUNDERSTORMS': 10296, 'SUSPENSION': 10297, 'Thunderstorms': 10298, 'suspension': 10299, '43-man': 10300, 'interrupted': 10301, 'schedeled': 10302, '+1': 10303, '+2': 10304, '+3': 10305, '+5': 10306, 'Sigeki': 10307, '+7': 10308, '+8': 10309, '+9': 10310, '+11': 10311, 'SUPER': 10312, 'rugby': 10313, 'Bradford': 10314, 'Wigan': 10315, '78': 10316, 'Workington': 10317, '902': 10318, 'Helens': 10319, '884': 10320, '441': 10321, '767': 10322, '409': 10323, 'Warrington': 10324, '555': 10325, '499': 10326, '462': 10327, 'Sheffield': 10328, '574': 10329, '696': 10330, 'Halifax': 10331, '603': 10332, '552': 10333, 'Castleford': 10334, '548': 10335, '543': 10336, 'Oldham': 10337, '439': 10338, '656': 10339, 'Leeds': 10340, '531': 10341, '681': 10342, '398': 10343, '795': 10344, '325': 10345, '1021': 10346, 'ESSEX': 10347, 'POISED': 10348, 'STEP': 10349, 'TITLE': 10350, 'CHALLENGE': 10351, 'new-ball': 10352, 'Neil': 10353, 'Ilott': 10354, 'deliveries': 10355, 'left-armer': 10356, '252': 10357, 'slumped': 10358, 'Derbyshire': 10359, 'favour': 10360, 'thrust': 10361, 'dispatching': 10362, 'removed': 10363, 'Dominic': 10364, 'Hewson': 10365, 'Hancock': 10366, 'visitors': 10367, 'optimistically': 10368, 'Graham': 10369, '532': 10370, 'declaring': 10371, 'Captain': 10372, 'Prichard': 10373, 'plundered': 10374, '88': 10375, 'Second-placed': 10376, 'prevented': 10377, '255': 10378, 'third-placed': 10379, 'uphill': 10380, 'Notts': 10381, '446': 10382, 'Alistair': 10383, '55-ball': 10384, 'half-century': 10385, 'rain-curtailed': 10386, 'Fourth-placed': 10387, 'ropes': 10388, 'intervened': 10389, 'Pace': 10390, '2-24': 10391, 'Gordon': 10392, 'Parsons': 10393, '3-20': 10394, '2-19': 10395, '353': 10396, 'rekindled': 10397, 'successive': 10398, 'defeats': 10399, 'arch-rivals': 10400, 'Facing': 10401, '529': 10402, 'follow': 10403, '206': 10404, '323': 10405, 'paceman': 10406, 'Darren': 10407, 'Gough': 10408, 'polishing': 10409, '210': 10410, '176': 10411, 'b-4': 10412, 'lb-3': 10413, 'nb-11': 10414, '339': 10415, '2-239': 10416, '3-334': 10417, '4-334': 10418, '12-1-76-0': 10419, '22-6-56-2': 10420, '29-6-64-1': 10421, '14.3-4-45-1': 10422, '17-0-91-0': 10423, 'Final': 10424, 'Match': 10425, 'abandoned': 10426, '27-4': 10427, '532-8': 10428, '111': 10429, 'Irani': 10430, 'Alleyne': 10431, '4-80': 10432, 'Renshaw': 10433, '4-56': 10434, 'Bovill': 10435, '4-102': 10436, '81-7': 10437, 'Ambrose': 10438, '6-26': 10439, '361': 10440, '117': 10441, 'Ripley': 10442, '42-3': 10443, '446-9': 10444, 'Noon': 10445, 'B.': 10446, '4-104': 10447, '128-4': 10448, '205-9': 10449, 'Spiring': 10450, 'Watkinson': 10451, '4-53': 10452, '210-5': 10453, 'Speak': 10454, 'Hibernian': 10455, 'Dunfermline': 10456, 'Kilmarnock': 10457, 'Raith': 10458, 'Motherwell': 10459, 'Dundee': 10460, 'Aberdeen': 10461, 'Airdrieonians': 10462, 'Fife': 10463, 'Clydebank': 10464, 'Greenock': 10465, 'Morton': 10466, 'Falkirk': 10467, 'Partick': 10468, 'Mirren': 10469, 'Johnstone': 10470, 'Berwick': 10471, 'Stenhousemuir': 10472, 'Brechin': 10473, 'Ayr': 10474, 'Hamilton': 10475, 'Clyde': 10476, 'Dumbarton': 10477, 'Stranraer': 10478, 'Livingston': 10479, 'Alloa': 10480, 'Arbroath': 10481, 'Cowdenbeath': 10482, 'Monstrose': 10483, 'Forfar': 10484, 'Inverness': 10485, 'Ross': 10486, 'Played': 10487, 'OUT-OF-SORTS': 10488, 'NEWCASTLE': 10489, 'Newcastle': 10490, 'teething': 10491, 'pacesetters': 10492, 'Alan': 10493, 'Shearer': 10494, 'Keegan': 10495, 'talent-laden': 10496, 'Dejan': 10497, 'Stefanovic': 10498, 'Faustino': 10499, 'Asprilla': 10500, 'equalised': 10501, 'Pembridge': 10502, 'glancing': 10503, 'header': 10504, 'Whittingham': 10505, 'misery': 10506, 'Ferdinand': 10507, 'stretchered': 10508, 'Elsewhere': 10509, 'newly-promoted': 10510, 'Sunderland': 10511, 'Tottenham': 10512, 'Hotspur': 10513, 'goaless': 10514, 'LeBoeuf': 10515, 'Gianluca': 10516, 'Vialli': 10517, 'Coventry': 10518, 'managerless': 10519, 'Arsenal': 10520, 'scoreline': 10521, 'Aston': 10522, 'Villa': 10523, 'Derby': 10524, 'Ham': 10525, 'Southampton': 10526, 'Bolton': 10527, 'Norwich': 10528, 'Bromwich': 10529, 'Crystal': 10530, 'Ipswich': 10531, 'Reading': 10532, 'Southend': 10533, 'Birmingham': 10534, 'Stoke': 10535, 'Swindon': 10536, 'Vale': 10537, 'Wolverhampton': 10538, 'Barnsley': 10539, 'Huddersfield': 10540, 'Brentford': 10541, 'Luton': 10542, 'Bristol': 10543, 'Blackpool': 10544, 'kickoff': 10545, 'Burnley': 10546, 'Walsall': 10547, 'Chesterfield': 10548, 'Bury': 10549, 'Peterborough': 10550, 'Crewe': 10551, 'Preston': 10552, 'Rovers': 10553, 'Rotherham': 10554, 'Shrewsbury': 10555, 'Stockport': 10556, 'Watford': 10557, 'Millwall': 10558, 'Wrexham': 10559, 'Wycombe': 10560, 'Gillingham': 10561, 'Bournemouth': 10562, 'Barnet': 10563, 'Brighton': 10564, 'Carlisle': 10565, 'Hull': 10566, 'Chester': 10567, 'Darlington': 10568, 'Swansea': 10569, 'Exeter': 10570, 'Scarborough': 10571, 'Hartlepool': 10572, 'Fulham': 10573, 'Hereford': 10574, 'Doncaster': 10575, 'Leyton': 10576, 'Orient': 10577, 'Mansfield': 10578, 'Rochdale': 10579, 'Scunthorpe': 10580, 'Torquay': 10581, '318-2': 10582, '318': 10583, '0-6': 10584, 'ZEALAND': 10585, 'SOUTH': 10586, 'AFRICA': 10587, 'PRETORIA': 10588, '33-26': 10589, 'Blacks': 10590, 'unbeatable': 10591, 'Each': 10592, 'tries': 10593, 'Springboks': 10594, 'enemies': 10595, 'Wilson': 10596, '24-11': 10597, 'flanker': 10598, 'Ruben': 10599, 'Kruger': 10600, 'scrum-half': 10601, 'Joost': 10602, 'Westhuizen': 10603, 'narrowed': 10604, 'gap': 10605, '23-24': 10606, 'fly-half': 10607, 'Joel': 10608, 'Stransky': 10609, 'conversion': 10610, 'upright': 10611, 'scrambled': 10612, 'replacement': 10613, 'Zinzan': 10614, 'Brooke': 10615, 'DEFEAT': 10616, '21-11': 10617, 'Tries': 10618, 'Hannes': 10619, 'Strydom': 10620, 'Penalties': 10621, 'Stranksy': 10622, 'Conversion': 10623, 'Simon': 10624, 'Culhane': 10625, 'Conversions': 10626, 'Drop': 10627, 'YUGOSLAV': 10628, 'Cukaricki': 10629, 'Hajduk': 10630, 'Becej': 10631, 'Borac': 10632, 'Mladost': 10633, 'Zemun': 10634, 'Rad': 10635, 'Buducnost': 10636, 'Partizan': 10637, 'Vojvodina': 10638, 'Proleter': 10639, 'Sutjeska': 10640, 'Sloboda': 10641, 'Loznica': 10642, 'Obilic': 10643, 'OFK': 10644, 'Kikinda': 10645, 'Radnicki': 10646, 'Spartak': 10647, 'Beograd': 10648, 'BJ': 10649, 'Zeleznik': 10650, 'Rudar': 10651, 'POLISH': 10652, 'Amica': 10653, 'Wronki': 10654, 'Hutnik': 10655, 'Krakow': 10656, 'Sokol': 10657, 'Tychy': 10658, 'Lech': 10659, 'Poznan': 10660, 'Rakow': 10661, 'Czestochowa': 10662, 'Stomil': 10663, 'Olsztyn': 10664, 'Wisla': 10665, 'Gornik': 10666, 'Slask': 10667, 'Wroclaw': 10668, 'Odra': 10669, 'Wodzislaw': 10670, 'GKS': 10671, 'Katowice': 10672, 'Polonia': 10673, 'Zaglebie': 10674, 'Lubin': 10675, 'LKS': 10676, 'Lodz': 10677, 'Belchatow': 10678, 'BASKETBALL': 10679, 'PHILIPPINE': 10680, 'PRO-LEAGUE': 10681, 'MANILA': 10682, 'semi-final': 10683, 'Philippine': 10684, 'Basketball': 10685, 'Milk': 10686, 'Purefoods': 10687, 'Hotdogs': 10688, '103-95': 10689, '34-48': 10690, 'half-time': 10691, 'Ginebra': 10692, 'Shell': 10693, '120-103': 10694, '65-56': 10695, 'KOREAN': 10696, 'PRO-BASEBALL': 10697, 'pro-baseball': 10698, 'Hyundai': 10699, 'Haitai': 10700, 'Hanwha': 10701, 'OB': 10702, 'Lotte': 10703, 'Ssangbangwool': 10704, '.606': 10705, '.533': 10706, '.471': 10707, '.455': 10708, '.443': 10709, '.407': 10710, '.359': 10711, '.594': 10712, '.473': 10713, '.446': 10714, '.574': 10715, '.520': 10716, 'SATURDAY': 10717, '24TH': 10718, '.630': 10719, '.411': 10720, '.527': 10721, '.430': 10722, '.538': 10723, '.429': 10724, '1ST': 10725, 'GM': 10726, '2ND': 10727, 'Belenenses': 10728, 'Boavista': 10729, 'DISAPPOINTING': 10730, 'AJAX': 10731, 'SLUMP': 10732, 'HEERENVEEN': 10733, 'faltered': 10734, 'Heerenveen': 10735, 'dismal': 10736, 'pre-season': 10737, 'deadlock': 10738, 'interval': 10739, 'Romeo': 10740, 'Wouden': 10741, 'Veldman': 10742, 'curled': 10743, 'goalkeeper': 10744, 'Edwin': 10745, 'Sar': 10746, 'defenders': 10747, 'Marcio': 10748, 'Winston': 10749, 'Bogarde': 10750, 'strikers': 10751, 'Jari': 10752, 'Litmanen': 10753, 'Overmars': 10754, 'equalise': 10755, 'gaps': 10756, 'Dahl': 10757, 'Tomasson': 10758, 'rushed': 10759, 'lobbed': 10760, 'contenders': 10761, 'curtain-raiser': 10762, 'Groningen': 10763, 'Standard': 10764, 'Liege': 10765, 'Anderlecht': 10766, 'Lokeren': 10767, 'Cercle': 10768, 'Mouscron': 10769, 'Antwerp': 10770, 'Lommel': 10771, 'Ghent': 10772, 'Aalst': 10773, 'Lierse': 10774, 'Charleroi': 10775, 'Sint': 10776, 'Truiden': 10777, 'LEADING': 10778, 'SCORERS': 10779, 'goalscorers': 10780, 'Anto': 10781, 'Drobnjak': 10782, 'Bastia': 10783, 'Xavier': 10784, 'Gravelaine': 10785, 'Marseille': 10786, 'Miladin': 10787, 'Becanovic': 10788, 'Lille': 10789, 'Enzo': 10790, 'Scifo': 10791, 'Monaco': 10792, 'Smicer': 10793, 'Lens': 10794, 'Christopher': 10795, 'Wreh': 10796, 'Guingamp': 10797, 'Nantes': 10798, '52nd': 10799, '16,000': 10800, 'Nice': 10801, 'Debbah': 10802, '39th': 10803, '6,000': 10804, 'Boutoille': 10805, '79th': 10806, 'pen': 10807, 'Rennes': 10808, \"Guivarc'h\": 10809, 'Bordeaux': 10810, 'Auxerre': 10811, 'Metz': 10812, 'Traore': 10813, '65th': 10814, 'Bombarda': 10815, '69th': 10816, 'Strasbourg': 10817, 'Zitelli': 10818, 'Havre': 10819, 'Caen': 10820, 'Bancarel': 10821, '70th': 10822, 'Lyon': 10823, 'Caveglia': 10824, '89th': 10825, '7,000': 10826, 'Montpellier': 10827, 'Cannes': 10828, 'Charvet': 10829, '8th': 10830, 'Saint-Germain': 10831, 'Graafschap': 10832, 'Doetinchem': 10833, 'RKC': 10834, 'Waalwijk': 10835, 'Willem': 10836, 'Tilburg': 10837, 'Fortuna': 10838, 'Sittard': 10839, 'Rotterdam': 10840, 'Twente': 10841, 'Enschede': 10842, 'Vitesse': 10843, 'Arnhem': 10844, 'Utrecht': 10845, 'Feyenoord': 10846, 'Roda': 10847, 'JC': 10848, 'Kerkrade': 10849, 'Volendam': 10850, 'AZ': 10851, 'Alkmaar': 10852, 'MATCHES': 10853, 'Bochum': 10854, '66th': 10855, 'Arminia': 10856, 'Bielefeld': 10857, 'Molata': 10858, 'Moenchengladbach': 10859, 'Karlsruhe': 10860, '33rd': 10861, '45th': 10862, 'Keller': 10863, 'Balakow': 10864, '61st': 10865, 'Werder': 10866, 'Votava': 10867, '68th': 10868, '32,000': 10869, '1860': 10870, 'Schwabl': 10871, 'Zorc': 10872, '59th-pen': 10873, '73rd': 10874, 'Heinrich': 10875, 'Bayer': 10876, 'Leverkusen': 10877, 'Duesseldorf': 10878, 'Seeliger': 10879, 'Freiburg': 10880, 'Zeyer': 10881, 'Gaissmayer': 10882, '9th': 10883, 'Polster': 10884, '22,500': 10885, 'VfB': 10886, 'VfL': 10887, 'Bayern': 10888, 'MSV': 10889, 'Duisburg': 10890, 'AUSTRIA': 10891, 'VIENNA': 10892, 'FC': 10893, 'Linz': 10894, 'GAK': 10895, 'Admira': 10896, 'Wacker': 10897, 'Sturm': 10898, 'Linzer': 10899, 'ASK': 10900, 'Tirol': 10901, 'Innsbruck': 10902, 'SV': 10903, 'Salzburg': 10904, 'Wien': 10905, 'Ried': 10906, 'RAIN': 10907, 'BRINGS': 10908, 'PREMATURE': 10909, 'one-day': 10910, '102-0': 10911, 'Waugh': 10912, 'Tendulkar': 10913, '21.4': 10914, 'describes': 10915, 'ordeal': 10916, 'worker': 10917, 'cocked': 10918, 'Penrose': 10919, '23-year-old': 10920, 'Action': 10921, 'Against': 10922, 'Hunger': 10923, 'physical': 10924, 'manhandling': 10925, 'Kalashnikovs': 10926, 'throat': 10927, 'Gunmen': 10928, 'Swerford': 10929, 'Frederic': 10930, 'Malardeau': 10931, 'assailants': 10932, 'ransom': 10933, '300,000': 10934, '465,000': 10935, 'charity': 10936, 'regularly': 10937, 'bombardment': 10938, 'conventional': 10939, 'tanks': 10940, 'grenade': 10941, 'launchers': 10942, 'provides': 10943, 'civilians': 10944, 'depending': 10945, 'ill': 10946, 'whom': 10947, 'Prize-winning': 10948, 'spokeswoman': 10949, 'Albanian-born': 10950, 'fulfilled': 10951, 'dearest': 10952, 'wish': 10953, 'carved': 10954, 'role': 10955, 'herself': 10956, 'helper': 10957, 'sick': 10958, 'needy': 10959, 'marriage': 10960, 'crumbled': 10961, 'heir': 10962, '85-year-old': 10963, 'praying': 10964, 'Doctors': 10965, 'caring': 10966, 'respirator': 10967, '339-4': 10968, 'Nijmeh': 10969, 'Nasr': 10970, 'TRIPOLI': 10971, 'Arabia': 10972, 'Issa': 10973, 'Alloush': 10974, 'Adventurers': 10975, 'wilderness': 10976, 'PEMBERTON': 10977, 'About': 10978, 'adventurers': 10979, 'climb': 10980, 'raft': 10981, 'bike': 10982, '323-mile': 10983, '517-km': 10984, 'endurance': 10985, 'Eco-Challenge': 10986, 'adventure': 10987, 'racing': 10988, 'perilous': 10989, 'physically': 10990, 'diverse': 10991, 'terrain': 10992, 'Stroud': 10993, 'participant': 10994, 'Utah': 10995, 'Maine': 10996, 'modelled': 10997, 'trek': 10998, 'glaciers': 10999, 'whitewater': 11000, 'horseback': 11001, 'ride': 11002, 'canoe': 11003, 'mountain': 11004, 'grueling': 11005, 'Pemberton': 11006, 'Vancouver': 11007, 'treacherous': 11008, 'peaks': 11009, 'frigid': 11010, 'two-thirds': 11011, 'participants': 11012, 'disqualified': 11013, 'hardy': 11014, 'first-place': 11015, 'finishers': 11016, 'Team': 11017, 'racers': 11018, 'bones': 11019, 'sunstroke': 11020, 'dehydration': 11021, 'exhaustion': 11022, 'Cholera': 11023, '1996-05-28': 11024, 'Ubimini': 11025, 'oil-rich': 11026, 'Damian': 11027, 'Ejiohuo': 11028, 'quell': 11029, 'safer': 11030, 'drinking': 11031, 'outbreaks': 11032, 'Epidemics': 11033, 'piped': 11034, 'usually': 11035, 'Malawi': 11036, 'ex-president': 11037, 'Banda': 11038, 'BLANTYRE': 11039, 'frail': 11040, 'Kamuzu': 11041, 'vegetarian': 11042, 'teetotaller': 11043, 'unaided': 11044, 'walking': 11045, 'clutched': 11046, 'whisk': 11047, 'symbolised': 11048, 'obsession': 11049, 'undisputed': 11050, 'ruler': 11051, 'decades': 11052, 'all-party': 11053, 'acquitted': 11054, '1983': 11055, 'servants': 11056, 'Emelia': 11057, 'Sithole': 11058, 'HARARE': 11059, 'Zimbabwean': 11060, 'defying': 11061, 'crippled': 11062, 'essential': 11063, 'Public': 11064, 'PSC': 11065, 'mortuary': 11066, 'attendants': 11067, 'firefighters': 11068, 'workplaces': 11069, 'summarily': 11070, 'dismissed': 11071, 'PSA': 11072, 'unavailable': 11073, 'Labour': 11074, 'Welfare': 11075, 'Florence': 11076, 'Chitauro': 11077, 'recruiting': 11078, 'sub-contracting': 11079, 'firms': 11080, 'ignored': 11081, 'demands': 11082, 'wage': 11083, 'stretched': 11084, 'hospitals': 11085, 'Cross': 11086, 'tourists': 11087, 'Falls': 11088, '180,000': 11089, 'Mugabe': 11090, 'Opposition': 11091, 'civic': 11092, 'private-sector': 11093, 'unions': 11094, 'denounced': 11095, 'Civil': 11096, 'earn': 11097, 'Z$': 11098, 'inflation': 11099, 'KIGALI': 11100, 'trouble-makers': 11101, 'camps': 11102, 'Firmin': 11103, 'Gatera': 11104, 'Tutsi-dominated': 11105, 'Kigali': 11106, 'Zairean': 11107, 'Goma': 11108, 'Tutsi': 11109, 'Kengo': 11110, 'wa': 11111, 'Dondo': 11112, 'expell': 11113, 'timeframe': 11114, 'genocide': 11115, 'Tutsis': 11116, 'refuse': 11117, 'fear': 11118, 'reprisal': 11119, 'Kivu': 11120, 'counterpart': 11121, 'Gisenyi': 11122, 'prefect': 11123, 'Out': 11124, 'Revered': 11125, 'skull': 11126, 'limelight-loving': 11127, 'disgrace': 11128, 'prized': 11129, 'sacred': 11130, 'tribal': 11131, 'ancestor': 11132, 'middle-aged': 11133, 'forensic': 11134, 'scientist': 11135, 'examined': 11136, 'supposed': 11137, 'Hintsa': 11138, 'Xhosa': 11139, 'tribe': 11140, 'cranium': 11141, 'Nicholas': 11142, 'Gcaleka': 11143, 'skins': 11144, 'regalia': 11145, 'journeyed': 11146, 'wintry': 11147, 'hugely': 11148, 'publicised': 11149, 'witchdoctor': 11150, 'ancestors': 11151, 'dream': 11152, 'colonial': 11153, 'trophy': 11154, 'beheaded': 11155, '1835': 11156, 'cottage': 11157, 'lonely': 11158, 'Highland': 11159, 'forest': 11160, 'spirit': 11161, 'hurricane': 11162, 'royal': 11163, 'branding': 11164, 'charlatan': 11165, 'shape': 11166, 'hole': 11167, 'bullet': 11168, 'reasonable': 11169, 'arrests': 11170, 'sewing': 11171, 'smugglers': 11172, 'KHARTOUM': 11173, 'smuggle': 11174, 'machines': 11175, 'clothing': 11176, 'Eritrea': 11177, 'government-owned': 11178, 'al-Ingaz': 11179, 'al-Watani': 11180, 'Banat': 11181, 'Kassala': 11182, 'alliance': 11183, 'subversive': 11184, 'Authorities': 11185, 'laying': 11186, 'landmines': 11187, 'accuses': 11188, 'Eritrean': 11189, 'accusing': 11190, 'Alliance': 11191, 'umbrella': 11192, 'Asmara': 11193, 'congress': 11194, 'jettisoning': 11195, 'Stalinist': 11196, 'dictatorship': 11197, 'Balkan': 11198, 'approve': 11199, 'concepts': 11200, 'turn': 11201, 'Social-Democratic': 11202, 'electoral': 11203, 'class': 11204, 'ideological': 11205, 'Zeri': 11206, 'i': 11207, 'Popullit': 11208, 'Jailed': 11209, 'Fatos': 11210, 'Nano': 11211, 'Sali': 11212, 'Berisha': 11213, 'reformed': 11214, 'heirs': 11215, 'sham': 11216, 'Acting': 11217, 'Servet': 11218, 'Pellumbi': 11219, 'scrap': 11220, 'ideas': 11221, 'Karl': 11222, 'Marx': 11223, 'pro-reform': 11224, 'stance': 11225, 'triggered': 11226, 'Gramoz': 11227, 'Ruci': 11228, 'commentators': 11229, 'consensus': 11230, 'rift': 11231, 'unlikely': 11232, 'Nicaraguan': 11233, 'MANAGUA': 11234, 'Nicaragua': 11235, 'Violeta': 11236, 'Chamorro': 11237, 'check-up': 11238, 'column': 11239, 'examination': 11240, 'suffers': 11241, 'osteoporosis': 11242, 'weakens': 11243, 'longtime': 11244, 'wo': 11245, 'split': 11246, 'tool': 11247, 'one-week': 11248, 'Nepalese': 11249, 'vigilance': 11250, 'intentions': 11251, 'restive': 11252, 'four-decade': 11253, 'widespread': 11254, 'activists': 11255, 'Birenda': 11256, 'Gyaicain': 11257, 'Norbu': 11258, 'tourism': 11259, 'communications': 11260, 'hangs': 11261, 'TEHRAN': 11262, 'hanged': 11263, 'traffickers': 11264, 'Shiraz': 11265, 'Resalat': 11266, '419': 11267, 'kilograms': 11268, '924': 11269, 'lbs': 11270, 'opium': 11271, 'pedestrain': 11272, 'executions': 11273, 'Revolutionary': 11274, 'pedestrian': 11275, 'site': 11276, 'executed': 11277, 'Possession': 11278, 'grammes': 11279, 'lb': 11280, 'punishable': 11281, 'drug-related': 11282, 'addicts': 11283, 'transit': 11284, 'smuggled': 11285, 'Main': 11286, 'Tunisian': 11287, 'HQ': 11288, 'Tunisia': 11289, 'rent': 11290, 'Khalfallah': 11291, 'Movement': 11292, 'MDS': 11293, 'bailiff': 11294, 'accompagnied': 11295, 'enable': 11296, 'represented': 11297, 'owing': 11298, 'sentences': 11299, 'Moada': 11300, 'Vice-president': 11301, 'Khemais': 11302, 'Chammari': 11303, 'disclosing': 11304, 'secrets': 11305, 'judicial': 11306, 'proceedings': 11307, 'Boulahya': 11308, 'founding': 11309, 'politically': 11310, '1978': 11311, 'Mestiri': 11312, 'withdrew': 11313, 'Succeeding': 11314, 'liberals': 11315, 'Ben': 11316, 'Jaafar': 11317, 'NICOSIA': 11318, 'IRNA': 11319, 'affiliated': 11320, 'shelled': 11321, 'Kanie': 11322, 'Karzhala': 11323, 'camp': 11324, 'west': 11325, 'Arbil': 11326, 'PUK-run': 11327, 'pounding': 11328, 'Kurdish-controlled': 11329, 'independent': 11330, 'Iranian-backed': 11331, 'brokered': 11332, 'persuaded': 11333, 'shattering': 11334, 'patrolling': 11335, 'skies': 11336, 'shield': 11337, 'violating': 11338, '1980-88': 11339, 'Majid': 11340, 'Takht': 11341, 'Ravanchi': 11342, 'allegations': 11343, 'Boutros': 11344, 'Boutros-Ghali': 11345, 'constructing': 11346, 'observation': 11347, 'installing': 11348, 'mortars': 11349, 'anti-aircraft': 11350, 'cannons': 11351, 'tents': 11352, 'penetrating': 11353, 'rifle': 11354, 'grenades': 11355, 'eight-year': 11356, 'U.N.-sponsored': 11357, 'JUMHOURIYA': 11358, 'chamber': 11359, 'commerce': 11360, 'urges': 11361, 'Ankara': 11362, 'Offers': 11363, 'ships': 11364, 'Iraq-bound': 11365, 'Aqaba': 11366, 'Editorial': 11367, 'flare-up': 11368, 'booms': 11369, 'shadow': 11370, 'supermarkets': 11371, 'completes': 11372, 'QADISSIYA': 11373, 'denounces': 11374, 'warplanes': 11375, 'lambasts': 11376, 'liaising': 11377, 'BABEL': 11378, 'Blaming': 11379, 'dirty': 11380, 'Laurence': 11381, 'McQuillan': 11382, 'intends': 11383, 'gathering': 11384, 'nominate': 11385, 'parade': 11386, 'designed': 11387, 'highlight': 11388, 'dim': 11389, 'glow': 11390, 'just-concluded': 11391, 'conclave': 11392, 'Dole': 11393, 'carefully': 11394, 'orchestrated': 11395, 'bills': 11396, 'Republican-controlled': 11397, 'Congress': 11398, 'proudly': 11399, 'Sixty': 11400, 'registry': 11401, 'sex': 11402, 'desk': 11403, 'criminals': 11404, 'wherever': 11405, 'Actually': 11406, 'creation': 11407, 'underway': 11408, 'finger': 11409, 'Attorney': 11410, 'Janet': 11411, 'Reno': 11412, 'pages': 11413, 'footnotes': 11414, 'offers': 11415, 'FBI': 11416, 'again': 11417, 'heads': 11418, 'stretch': 11419, 'drive': 11420, 'Such': 11421, 'happen': 11422, 'chess': 11423, 'minimium': 11424, 'bill': 11425, 'easier': 11426, 'pre-existing': 11427, 'overhauling': 11428, 'remarkable': 11429, 'offering': 11430, 'demanding': 11431, 'responsibility': 11432, 'stronger': 11433, 'sense': 11434, 'families': 11435, 'theme': 11436, 'departs': 11437, 'Kentucky': 11438, 'Michigan': 11439, 'Indiana': 11440, 'fellow': 11441, 'attention': 11442, 'focus': 11443, 'correspondents': 11444, 'programmes': 11445, 'Campaign': 11446, 'showcased': 11447, 'lead-in': 11448, 'concentrating': 11449, 'McCurry': 11450, 'delivers': 11451, 'acceptance': 11452, 'map': 11453, 'guides': 11454, 'Hurricane': 11455, 'veer': 11456, 'Edouard': 11457, 'swirled': 11458, 'forecasters': 11459, 'winds': 11460, 'mph': 11461, '185': 11462, 'forecaster': 11463, 'Lixion': 11464, 'Avila': 11465, 'indicate': 11466, 'west-northwest': 11467, 'islands': 11468, '1,130': 11469, 'Lesser': 11470, 'Antilles': 11471, 'latitude': 11472, 'longitude': 11473, '44.2': 11474, 'ETA': 11475, 'Basque': 11476, 'Ignacio': 11477, 'Olascoaga': 11478, 'Mugica': 11479, 'Homeland': 11480, 'Freedom': 11481, '1960s': 11482, '1997--Ruehe': 11483, 'Defence': 11484, 'Volker': 11485, 'Ruehe': 11486, 'NATO-led': 11487, 'IFOR': 11488, 'Bild': 11489, 'Sonntag': 11490, 'mandate': 11491, 'expires': 11492, 'completely': 11493, 'excerpts': 11494, 'publication': 11495, 'impression': 11496, 'deployment': 11497, 'perceived': 11498, 'massacres': 11499, 'comics': 11500, 'independence-joke': 11501, 'Bossi': 11502, 'ORVIETO': 11503, 'joke': 11504, 'Umberto': 11505, 'ancient': 11506, 'Etruscan': 11507, 'Orvieto': 11508, 'mock': 11509, 'Cimicchi': 11510, 'actor': 11511, 'Benigni': 11512, 'declare': 11513, 'Etruria': 11514, 'march': 11515, 'proceed': 11516, 'annexation': 11517, 'Sardinia': 11518, 'Corsica': 11519, 'ironically': 11520, 'proclamation': 11521, 'Padania': 11522, 'Umbria': 11523, 'pop': 11524, 'balloon': 11525, 'rhetoric': 11526, 'talking': 11527, 'intensified': 11528, 'nationally': 11529, 'federalism': 11530, 'wasteful': 11531, 'centralised': 11532, 'bureaucracy': 11533, 'northerners': 11534, 'farmer': 11535, 'mutilated': 11536, 'VERONA': 11537, 'homocide': 11538, 'mutilating': 11539, 'bodies': 11540, 'ANSA': 11541, 'Gianfranco': 11542, 'Stevanin': 11543, '35-year-old': 11544, 'Verona': 11545, 'magistrate': 11546, 'unable': 11547, 'recall': 11548, 'remembering': 11549, 'lifeless': 11550, 'sadmasochistic': 11551, 'assaulting': 11552, 'prostitute': 11553, 'murdering': 11554, 'villa': 11555, 'corpses': 11556, 'headless': 11557, 'decomposed': 11558, 'sack': 11559, 'canal': 11560, 'Lawyer': 11561, 'Cesare': 11562, 'dal': 11563, 'Maso': 11564, 'beheading': 11565, 'dumping': 11566, 'Adige': 11567, 'Dal': 11568, 'interrogations': 11569, 'investigators': 11570, 'suffocated': 11571, 'digging': 11572, 'passer-by': 11573, 'asks': 11574, 'paedophile': 11575, 'eluded': 11576, 'Jeremy': 11577, 'Lovell': 11578, 'child-sex': 11579, 'scandal': 11580, 'kidnapping': 11581, 'pornography': 11582, 'shockwave': 11583, 'revulsion': 11584, 'throughout': 11585, 'Recriminations': 11586, 'rapist': 11587, 'Dutroux': 11588, 'managed': 11589, 'prey': 11590, 'unhindered': 11591, 'starvation': 11592, 'freed': 11593, 'dungeon-like': 11594, 'compartment': 11595, 'Ransart': 11596, 'Mont-sur-Marchienne': 11597, 'suburbs': 11598, 'abduction': 11599, 'imprisonment': 11600, 'molest': 11601, 'youngsters': 11602, 'proof': 11603, 'Michel': 11604, 'Bourlet': 11605, 'chase': 11606, 'porn': 11607, 'tapes': 11608, 'featured': 11609, 'dungeon': 11610, 'basement': 11611, 'euphoria': 11612, 'rescue': 11613, 'disgust': 11614, 'eight-year-old': 11615, 'Lejeune': 11616, 'Melissa': 11617, 'Russo': 11618, 'kidnapped': 11619, 'starved': 11620, 'Marchal': 11621, 'Eefje': 11622, 'Lambrecks': 11623, 'unknown': 11624, 'prostitution': 11625, 'Bratislava': 11626, 'Five': 11627, 'accomplice': 11628, '74-year': 11629, 'Dutchman': 11630, 'disappearance': 11631, 'high-level': 11632, 'accomplices': 11633, 'leaked': 11634, 'cataloguing': 11635, 'degree': 11636, 'bungling': 11637, 'incompetence': 11638, 'indifference': 11639, 'Among': 11640, 'revelations': 11641, 'gendarmerie': 11642, 'surveillance': 11643, 'codenamed': 11644, 'Othello': 11645, 'gendarmes': 11646, 'cells': 11647, 'information': 11648, 'theft': 11649, 'accepted': 11650, 'cries': 11651, 'hear': 11652, 'Justice': 11653, 'Stefaan': 11654, 'Clerck': 11655, 'inquiry': 11656, 'stressing': 11657, 'indications': 11658, 'cover-up': 11659, 'disbelief': 11660, 'unemployed': 11661, 'visible': 11662, 'toll': 11663, 'seven-newspaper': 11664, 'home-made': 11665, 'Bou': 11666, 'Haroun': 11667, 'explosive': 11668, 'device': 11669, 'prematurely': 11670, 'El-Watan': 11671, '25-year-old': 11672, 'boys': 11673, 'five-year-old': 11674, 'explosion': 11675, 'four-year-old': 11676, 'strife': 11677, 'government-appointed': 11678, 'watchdog': 11679, 'Rights': 11680, 'Observatory': 11681, '1,400': 11682, 'seize': 11683, 'cannabis': 11684, 'chilli': 11685, 'sauce': 11686, '7.5': 11687, 'commissioner': 11688, 'container': 11689, 'Freeport': 11690, 'haul': 11691, 'flames': 11692, 'motorway': 11693, 'injuring': 11694, 'Steinberg': 11695, 'Spaniards': 11696, 'rebels--poll': 11697, 'MADRID': 11698, 'renounced': 11699, 'permanently': 11700, 'Mundo': 11701, 'supported': 11702, 'state-controlled': 11703, 'Sociological': 11704, 'Studies': 11705, 'achieving': 11706, 'Ortega': 11707, 'Lara': 11708, 'neither': 11709, 'worsened': 11710, 'Popular': 11711, 'PP': 11712, '2,496': 11713, 'margin': 11714, 'error': 11715, 'minus': 11716, 'Thirty': 11717, 'floods': 11718, 'plunge': 11719, 'Lahore': 11720, 'chaos': 11721, 'ISLAMABAD': 11722, 'flood-hit': 11723, 'Pakistani': 11724, '461': 11725, 'inches': 11726, 'drenched': 11727, 'Punjab': 11728, 'rivers': 11729, 'knocking': 11730, 'disrupting': 11731, 'rail': 11732, 'Newspapers': 11733, 'witnesses': 11734, 'Jamaat-i-Islami': 11735, 'drowned': 11736, 'homeless': 11737, 'breach': 11738, 'inundating': 11739, 'residential': 11740, 'Army': 11741, 'evacuate': 11742, 'low-lying': 11743, 'Ravi': 11744, 'Chenab': 11745, 'flood': 11746, 'alert': 11747, 'Internet': 11748, 'Startup': 11749, 'Java': 11750, 'MOUNTAIN': 11751, 'VIEW': 11752, '1996-08-25': 11753, 'engineers': 11754, 'Microsystems': 11755, 'JavaSoft': 11756, 'fledgling': 11757, 'ground-floor': 11758, 'venture': 11759, 'Bessemer': 11760, 'Venture': 11761, 'Partners': 11762, 'Menlo': 11763, 'Calif': 11764, 'founder': 11765, 'acting': 11766, 'startup': 11767, 'Bidzos': 11768, 'RSA': 11769, 'Dynamics': 11770, 'VeriSign': 11771, 'doors': 11772, 'initial': 11773, 'combines': 11774, 'experience': 11775, 'Apple': 11776, 'Computer': 11777, 'Oracle': 11778, 'portends': 11779, 'dramatic': 11780, 'Bui': 11781, 'engineer': 11782, 'programming': 11783, 'mid-1995': 11784, 'manner': 11785, 'Silicon': 11786, 'Valley': 11787, 'Kleiner': 11788, 'Perkins': 11789, 'Caufield': 11790, 'Byers': 11791, 'startups': 11792, 'developing': 11793, 'technologies': 11794, 'licensed': 11795, 'Machines': 11796, 'Prasad': 11797, 'Wagle': 11798, 'aims': 11799, 'networked': 11800, 'ubiquitious': 11801, 'applets': 11802, 'downloaded': 11803, 'server': 11804, 'networks': 11805, 'individual': 11806, 'Zuleeg': 11807, 'marketing': 11808, 'Web': 11809, 'www.internetstartup.com': 11810, 'pioneers': 11811, 'PSI': 11812, 'Individual': 11813, 'MICKELSON': 11814, 'WINS': 11815, 'FOURTH': 11816, 'YEAR': 11817, 'birdied': 11818, 'even-par': 11819, 'Along': 11820, 'Mayfiar': 11821, '277': 11822, 'accomplish': 11823, 'three-stroke': 11824, 'exemption': 11825, 'PGA': 11826, '378,000': 11827, 'brings': 11828, '1,574,799': 11829, 'style': 11830, 'easy': 11831, 'three-putted': 11832, 'feet': 11833, 'tee': 11834, 'bogeys': 11835, '12th': 11836, 'parred': 11837, 'birdie': 11838, 'no.2': 11839, 'wedge': 11840, '17th': 11841, '6-iron': 11842, 'bogeyed': 11843, 'putt': 11844, 'runner': 11845, 'sudden': 11846, 'defending': 11847, 'contention': 11848, '14th': 11849, '7149': 11850, '274': 11851, '281': 11852, '283': 11853, '284': 11854, '285': 11855, '287': 11856, '288': 11857, '289': 11858, '290': 11859, '292': 11860, '294': 11861, '295': 11862, '298': 11863, 'Finals': 11864, 'Luke': 11865, 'Jensen': 11866, 'Murphy': 11867, 'Handrik': 11868, 'Dreekmann': 11869, '6-0': 11870, 'LAKES': 11871, 'JYVASKLYA': 11872, 'Lancer': 11873, 'Celica': 11874, '2:09': 11875, 'Jarmo': 11876, 'Kytolehto': 11877, 'Escort': 11878, '2:23': 11879, 'Eriksson': 11880, 'Impreza': 11881, '2:39': 11882, '3:03': 11883, 'MOTOCROSS': 11884, '500CC': 11885, 'LANDSKRONA': 11886, '500cc': 11887, 'motocross': 11888, 'Smets': 11889, 'Husaberg': 11890, 'Husqvarna': 11891, 'Gert': 11892, 'Doorn': 11893, 'Honda': 11894, 'Jacky': 11895, 'Martens': 11896, 'Dirkx': 11897, 'KTM': 11898, 'Danny': 11899, 'Theybers': 11900, 'Shayne': 11901, 'Boonen': 11902, 'Dietmar': 11903, 'Lalcher': 11904, 'Claus': 11905, 'Manne': 11906, 'Nielsen': 11907, 'Overall': 11908, '236': 11909, 'Lacher': 11910, '219': 11911, 'Darryll': 11912, '178': 11913, '125CC': 11914, 'HOLZGERLINGEN': 11915, '125cc': 11916, 'Tortelli': 11917, 'Kawasaki': 11918, 'Moore': 11919, 'Yamaha': 11920, 'Luigi': 11921, 'Seguy': 11922, 'Andi': 11923, 'Kanstinger': 11924, 'Charlier': 11925, 'Camerlengo': 11926, 'Belometti': 11927, 'Vialle': 11928, 'Collin': 11929, 'Dugmore': 11930, '432': 11931, 'Malin': 11932, '317': 11933, '293': 11934, '192': 11935, 'Michele': 11936, 'Fanton': 11937, '152': 11938, 'PLACINGS': 11939, 'POKKA': 11940, 'KM': 11941, 'RACE': 11942, 'SUZUKA': 11943, 'placings': 11944, 'Pokka': 11945, 'Endurance': 11946, 'GT': 11947, 'Ray': 11948, 'Belim': 11949, 'J.J.Lehto': 11950, 'FI': 11951, 'GTR': 11952, 'laps': 11953, '48.637': 11954, '158.82': 11955, 'Olofsson': 11956, 'Luciano': 11957, 'della': 11958, 'Noce': 11959, 'Ennea': 11960, 'F40': 11961, '170': 11962, 'Ballace': 11963, 'Grouillard': 11964, 'Harrods': 11965, 'Bscher': 11966, 'Kox': 11967, 'F1': 11968, '168': 11969, 'Fabien': 11970, 'Giroix': 11971, 'Jean-Denis': 11972, 'Deletraz': 11973, 'Muller': 11974, '167': 11975, 'Owen-Jones': 11976, 'Pierre-Henri': 11977, 'Raphanel': 11978, 'Brabham': 11979, 'Jean-Marc': 11980, 'Gounon': 11981, 'Belmondo': 11982, 'Eichmann': 11983, 'Gerd': 11984, 'Ralf': 11985, 'Kelleners': 11986, 'GT2': 11987, 'Roock': 11988, '911': 11989, '164': 11990, 'Ortelli': 11991, 'Wollek': 11992, 'Konrad': 11993, 'Cor': 11994, 'Euser': 11995, 'H.': 11996, 'Wada': 11997, 'Furuya': 11998, 'LM600': 11999, '162': 12000, 'Fastest': 12001, '03.684': 12002, '170.680': 12003, '156': 12004, '98': 12005, 'SHEFFIELD': 12006, 'INTERNATIONAL': 12007, 'MEETING': 12008, 'Sarka': 12009, 'Kasparkova': 12010, '14.84': 12011, 'Ashia': 12012, 'Hansen': 12013, '14.78': 12014, 'Rodica': 12015, 'Matescu': 12016, '14.18': 12017, 'Deon': 12018, 'Hemmings': 12019, '55.13': 12020, 'Marken': 12021, '55.90': 12022, '56.00': 12023, 'javelin': 12024, 'Isel': 12025, 'McPaul': 12026, '60.66': 12027, 'Silke': 12028, 'Renk': 12029, '22.53': 12030, '22.58': 12031, '22.77': 12032, '12.83': 12033, '12.91': 12034, 'Gillian': 12035, 'Charmaine': 12036, 'Crooks': 12037, '00.42': 12038, 'Inez': 12039, '2:01.98': 12040, 'Margaret': 12041, '2:02.40': 12042, 'vault': 12043, 'Trond': 12044, 'Bathel': 12045, '5.60': 12046, 'Pat': 12047, 'Manson': 12048, 'Lobinger': 12049, 'Pukstys': 12050, '86.82': 12051, 'Backley': 12052, '82.20': 12053, 'Nieland': 12054, '81.12': 12055, 'Marcel': 12056, '51.50': 12057, '52.17': 12058, 'Phylis': 12059, '52.53': 12060, '20.48': 12061, 'Regis': 12062, '20.63': 12063, 'Austin': 12064, '2.30': 12065, 'Forsyth': 12066, 'Patrik': 12067, 'Sjoberg': 12068, '2.25': 12069, 'Verbjorn': 12070, 'Rodal': 12071, '1:44.93': 12072, 'Benson': 12073, '1:45.96': 12074, 'Vincent': 12075, 'Malakwen': 12076, '1:46.18': 12077, '3:54.57': 12078, '3:54.60': 12079, 'Whiteman': 12080, '3:54.87': 12081, '45.05': 12082, '45.38': 12083, '45.48': 12084, 'Osmond': 12085, '10.06': 12086, 'Mackie': 12087, '10.17': 12088, '10.19': 12089, '15.125': 12090, '208.442': 12091, '5.602': 12092, '15.710': 12093, '19.125': 12094, '29.179': 12095, '29.896': 12096, '1:00.754': 12097, '1:40.227': 12098, 'Netherland': 12099, '1:53.067': 12100, '221.857': 12101, 'SCHUMACHER': 12102, 'SPA-FRANCOCHAMPS': 12103, 'drivers': 12104, 'Constructors': 12105, '149': 12106, 'Footwork': 12107, '1:46': 12108, '1:56': 12109, '2:05': 12110, 'Radstrom': 12111, 'MOTORCYCLING': 12112, 'SUPERBIKE': 12113, 'SUGO': 12114, 'superbike': 12115, 'Yuuchi': 12116, 'Takeda': 12117, '30.054': 12118, 'Noriyuki': 12119, 'Haga': 12120, '38:30.140': 12121, 'Wataru': 12122, 'Yoshikawa': 12123, '38:32.353': 12124, 'Corser': 12125, 'Ducati': 12126, '38:34.436': 12127, 'Kocinski': 12128, '38:36.306': 12129, 'Aaron': 12130, 'Slight': 12131, '38:41.756': 12132, 'Norihiko': 12133, 'Fujiwara': 12134, '38:43.253': 12135, 'Fogarty': 12136, '38:49.595': 12137, 'Akira': 12138, 'Ryo': 12139, '38:50.269': 12140, 'Shiya': 12141, 'Takeishi': 12142, '38:52.271': 12143, '147.159': 12144, 'Takuma': 12145, 'Aoki': 12146, '38:18.759': 12147, '38:19.313': 12148, '38:32.040': 12149, '38:32.149': 12150, '38:32.719': 12151, '38:33.595': 12152, '38:34.682': 12153, '38:34.999': 12154, '38:35.297': 12155, '38:42.015': 12156, '147.786': 12157, '269': 12158, '254': 12159, 'Pier': 12160, 'Francesco': 12161, 'Crafar': 12162, 'Gobert': 12163, 'Hodgson': 12164, 'disqualification': 12165, 'carburettor': 12166, 'Keiichi': 12167, 'Kitigawa': 12168, 'Suzuki': 12169, '38:42.333': 12170, '270': 12171, '238': 12172, 'JAPANESE': 12173, 'BOTH': 12174, 'NINE': 12175, 'RACES': 12176, 'Teenager': 12177, 'Yuuichi': 12178, 'outclassed': 12179, 'names': 12180, 'poise': 12181, 'overtake': 12182, 'pursued': 12183, 'duo': 12184, 'chicane': 12185, 'spurt': 12186, 'flag': 12187, 'consolation': 12188, 'recording': 12189, 'limped': 12190, 'challenged': 12191, 'strongly': 12192, 'elder': 12193, 'brother': 12194, 'Haruchika': 12195, 'race-long': 12196, 'duel': 12197, 'chequered': 12198, 'regained': 12199, 'unlucky': 12200, 'riders': 12201, 'alter': 12202, '611': 12203, '667': 12204, '576': 12205, '730': 12206, '473': 12207, '745': 12208, 'CONCLUDES': 12209, 'CAREER': 12210, 'FLOURISH': 12211, 'concluded': 12212, 'flourish': 12213, '154': 12214, 'interruption': 12215, 'spare': 12216, 'Byas': 12217, 'reaching': 12218, '205': 12219, 'sword': 12220, 'collecting': 12221, 'HINCHCLIFFE': 12222, 'CALLED': 12223, 'INTO': 12224, 'Glenn': 12225, 'Hoddle': 12226, 'uncapped': 12227, 'Hinchcliffe': 12228, 'Left-back': 12229, 'Anderton': 12230, 'recurring': 12231, 'groin': 12232, '74-0': 12233, '521-8': 12234, 'DECLARED': 12235, 'PREMIER': 12236, 'Cruyff': 12237, 'Solskjaer': 12238, 'Warhurst': 12239, 'Bohinen': 12240, '51st': 12241, '54,178': 12242, 'st': 12243, 'lb-5': 12244, 'nb-16': 12245, '521': 12246, '5-365': 12247, '6-440': 12248, '7-502': 12249, '8-519': 12250, '23-3-112-0': 12251, '37.1-7-97-3': 12252, '47-10-116-2': 12253, '23-5-71-1': 12254, '29-3-116-1': 12255, '7-0-35-0': 12256, '7-1-24-0': 12257, '7-2-11-0': 12258, '2-1-4-0': 12259, 'DECLARE': 12260, 'INNINGS': 12261, '473-6': 12262, 'TEA': 12263, 'tea': 12264, 'RUN-OUT': 12265, 'GIVES': 12266, 'LEWIS': 12267, 'SLIM': 12268, 'SATISFACTION': 12269, 'forget': 12270, 'omission': 12271, 'reasserting': 12272, 'dominance': 12273, 'super': 12274, 'fielding': 12275, 'disciplinary': 12276, 'touring': 12277, 'batted': 12278, '413': 12279, '87': 12280, 'solitary': 12281, 'attempting': 12282, 'lurking': 12283, 'prove': 12284, 'swooped': 12285, 'mate': 12286, 'Alec': 12287, 'whipped': 12288, 'bails': 12289, 'waves': 12290, 'alarms': 12291, 'rattled': 12292, 'outscoring': 12293, 'Rain': 12294, 'forcing': 12295, 'ground-staff': 12296, '1445': 12297, '1345': 12298, 'NAME': 12299, 'ONE-DAY': 12300, 'INTERNATIONALS': 12301, 'Maynard': 12302, 'Ronnie': 12303, 'Adam': 12304, 'Hollioake': 12305, 'Headley': 12306, 'TOGO': 12307, 'CONGO': 12308, 'LOME': 12309, 'Togo': 12310, 'Congo': 12311, 'Salou': 12312, 'Bachirou': 12313, '53rd': 12314, 'ETHIOPIA': 12315, 'UGANDA': 12316, 'PENALTIES': 12317, 'AFRICAN': 12318, 'ADDIS': 12319, 'ABABA': 12320, 'Crvena': 12321, 'zvezda': 12322, 'Zelesnik': 12323, 'GOALSCORERS': 12324, 'Bogdan': 12325, 'Prusek': 12326, 'Slawomir': 12327, 'Wojciechowski': 12328, 'Jacek': 12329, 'Dembinski': 12330, 'Widzew': 12331, 'Marcin': 12332, 'Mieciel': 12333, 'Wieczorek': 12334, 'Berensztain': 12335, 'Marek': 12336, 'Citko': 12337, 'Fedoruk': 12338, 'Dariusz': 12339, 'Jackiewicz': 12340, 'Bartlomiej': 12341, 'Jamroz': 12342, 'Tomasz': 12343, 'Moskal': 12344, 'Krzysztof': 12345, 'Piskula': 12346, 'Mariusz': 12347, 'Srutwa': 12348, 'Emmanuel': 12349, 'Tetteh': 12350, 'Warszawa': 12351, 'Zagorski': 12352, 'BUCHAREST': 12353, 'A.S.': 12354, 'Bacau': 12355, 'Ceahlaul': 12356, 'Piatra': 12357, 'Neamt': 12358, 'Otelul': 12359, 'Galati': 12360, 'Arges': 12361, 'Dacia': 12362, 'Pitesti': 12363, 'Farul': 12364, 'Constanta': 12365, 'Chindia': 12366, 'Tirgoviste': 12367, 'Sportul': 12368, 'Studentesc': 12369, 'Universitatea': 12370, 'Craiova': 12371, 'Petrolul': 12372, 'Ploiesti': 12373, 'Politehnica': 12374, 'Timisoara': 12375, 'Brasov': 12376, 'Bucharest': 12377, 'Jiul': 12378, 'Petrosani': 12379, 'Dinamo': 12380, 'Cluj': 12381, 'Steaua': 12382, 'RUSSIAN': 12383, 'Alaniya': 12384, 'Zhemchuzhina': 12385, 'Sochi': 12386, 'Baltika': 12387, 'Kaliningrad': 12388, 'Zenit': 12389, 'Petersburg': 12390, 'Chernomorets': 12391, 'Novorossiisk': 12392, 'Rostselmash': 12393, 'Rostov': 12394, 'Lokomotiv': 12395, 'Torpedo': 12396, 'Rotor': 12397, 'Volgograd': 12398, 'CSKA': 12399, 'Kamaz': 12400, 'Naberezhnye': 12401, 'Chelny': 12402, 'Lada': 12403, 'Togliatti': 12404, 'Tekstilshik': 12405, 'Kamyshin': 12406, 'Krylya': 12407, 'Sovetov': 12408, 'Samara': 12409, 'Nizhny': 12410, 'Novgorod': 12411, 'Uralmash': 12412, 'Yekaterinburg': 12413, 'precedence': 12414, '49': 12415, 'Tekstilshchik': 12416, 'AUSTRALIAN': 12417, 'RULES-AFL': 12418, 'Rules': 12419, 'Adelaide': 12420, '14.12': 12421, 'Collingwood': 12422, '153': 12423, '151': 12424, '11.12': 12425, 'Richmond': 12426, '28.19': 12427, 'Fitzroy': 12428, 'Carlton': 12429, '13.18': 12430, 'Footscray': 12431, '9.12': 12432, 'Essendon': 12433, '14.16': 12434, '12.10': 12435, 'Kilda': 12436, 'Hawthorn': 12437, 'Brisbane': 12438, '10.11': 12439, 'Fremantle': 12440, 'Geelong': 12441, '16.13': 12442, '2123': 12443, '1631': 12444, '130.2': 12445, '2067': 12446, '1687': 12447, '122.5': 12448, '2151': 12449, '1673': 12450, '128.6': 12451, '2385': 12452, '1873': 12453, '127.3': 12454, '2009': 12455, '1844': 12456, '108.9': 12457, '2288': 12458, '117.9': 12459, '2130': 12460, '109.4': 12461, '2173': 12462, '1803': 12463, '120.5': 12464, '1791': 12465, '1820': 12466, '98.4': 12467, '1909': 12468, '1958': 12469, '97.5': 12470, '2103': 12471, '2091': 12472, '100.6': 12473, '2158': 12474, '2183': 12475, '98.9': 12476, '1642': 12477, '2361': 12478, '69.5': 12479, '1912': 12480, '87.5': 12481, '1578': 12482, '2060': 12483, '76.6': 12484, '1381': 12485, '2778': 12486, '49.7': 12487, 'Bulldogs': 12488, 'Queensland': 12489, 'Illawarra': 12490, 'Penrith': 12491, 'Manly': 12492, 'Suburbs': 12493, 'Parramatta': 12494, 'Auckland': 12495, 'Premiership': 12496, '501': 12497, '569': 12498, '257': 12499, '560': 12500, '487': 12501, 'Cronulla': 12502, '359': 12503, '258': 12504, '502': 12505, '374': 12506, '421': 12507, '344': 12508, '366': 12509, '426': 12510, '406': 12511, '309': 12512, '435': 12513, '388': 12514, '391': 12515, '356': 12516, '395': 12517, '297': 12518, '448': 12519, '593': 12520, '351': 12521, '483': 12522, '304': 12523, '586': 12524, '460': 12525, '1-15': 12526, '15-1': 12527, 'Marlene': 12528, 'Thomsen': 12529, 'Lisbet': 12530, 'Stuer-Lauridsen': 12531, 'Qiang': 12532, 'Lu': 12533, '10-15': 12534, '17-16': 12535, 'Yap': 12536, 'Cheah': 12537, 'Kit': 12538, 'Wan': 12539, 'Chong': 12540, 'Tan': 12541, 'Fook': 12542, '0*': 12543, '*Note': 12544, '.610': 12545, '.547': 12546, '.537': 12547, '.534': 12548, '.467': 12549, '.439': 12550, 'SUNDAY': 12551, '.357': 12552, '.589': 12553, '.569': 12554, '.470': 12555, '25TH': 12556, '.633': 12557, '.462': 12558, '.454': 12559, '.408': 12560, '.426': 12561, '.542': 12562, '.515': 12563, 'SNEAK': 12564, 'ANGELS': 12565, 'Rafael': 12566, 'Palmeiro': 12567, 'two-out': 12568, 'Alomar': 12569, 'berth': 12570, 'trailed': 12571, 'reliever': 12572, 'Kyle': 12573, 'Abbott': 12574, 'sacrificed': 12575, 'Mariner': 12576, 'Bragg': 12577, '9-5': 12578, 'contact': 12579, 'Seitzer': 12580, 'Hulse': 12581, 'extra-inning': 12582, 'Wickman': 12583, 'acquired': 12584, 'Marty': 12585, 'Cordova': 12586, 'Lawton': 12587, '6-5': 12588, 'Yeah': 12589, 'ballpark': 12590, 'Wally': 12591, 'Whitehurst': 12592, \"O'Neill\": 12593, 'sixth-inning': 12594, 'Triple-A': 12595, 'Columbus': 12596, 'defeating': 12597, 'Cardinals': 12598, 'Padres': 12599, 'Rosado': 12600, 'Tucker': 12601, 'six-game': 12602, '9-2': 12603, 'cellar-dwellers': 12604, '5-3': 12605, '8-2/3': 12606, '21-year-old': 12607, 'left-hander': 12608, '29-2/3': 12609, 'BRAVES': 12610, 'CUBS': 12611, 'McGriff': 12612, '5-for-5': 12613, 'Braves': 12614, 'Cubs': 12615, 'hang': 12616, 'middle': 12617, 'Clontz': 12618, 'Colorado': 12619, 'eight-hitter': 12620, 'Ellis': 12621, 'Burks': 12622, 'Rockies': 12623, 'Pirates': 12624, '9-3': 12625, 'Vinny': 12626, 'Castilla': 12627, 'Dante': 12628, 'Bichette': 12629, '44-20': 12630, 'Kurt': 12631, 'Marlins': 12632, 'tired': 12633, 'Candiotti': 12634, 'Piazza': 12635, 'Hollandsworth': 12636, 'Dodgers': 12637, '8-9': 12638, 'season-high': 12639, 'Joey': 12640, 'Rickey': 12641, 'league-record': 12642, 'leadoff': 12643, 'Phillies': 12644, '12-7': 12645, 'Segui': 12646, 'Expos': 12647, 'shut': 12648, 'Giants': 12649, 'lasted': 12650, '1-1/3': 12651, 'eight-plus': 12652, 'Houston': 12653, 'Orlando': 12654, 'Stottlemyre': 12655, 'Astros': 12656, 'virtual': 12657, 'NL': 12658, 'Shane': 12659, 'Reynolds': 12660, '16-6': 12661, 'five-hitter': 12662, 'KICK': 12663, 'kicked': 12664, 'Setubal': 12665, 'squeeze': 12666, 'equaliser': 12667, 'Jardel': 12668, 'string': 12669, 'opportunities': 12670, 'redeemed': 12671, 'netting': 12672, 'skilful': 12673, 'counter-attack': 12674, 'unmarked': 12675, 'Chiquinho': 12676, 'Conde': 12677, 'keeper': 12678, 'Andrejez': 12679, 'Wozniak': 12680, 'Braga': 12681, 'Rodrigo': 12682, 'Carneiro': 12683, 'bookable': 12684, 'lack': 12685, 'first-class': 12686, 'apparent': 12687, 'Valdo': 12688, 'knee': 12689, 'Paulao': 12690, '81st': 12691, 'Baltasar': 12692, 'tripped': 12693, 'referee': 12694, 'nose': 12695, 'Idalecio': 12696, 'whistle': 12697, 'Guimaraes': 12698, 'Gil': 12699, 'Vicente': 12700, 'FIORENTINA': 12701, 'BATISTUTA': 12702, 'MILAN': 12703, 'Batistuta': 12704, 'Fiorentina': 12705, 'perfect': 12706, 'birthday': 12707, 'Supercup': 12708, 'serie': 12709, '1926': 12710, 'marked': 12711, 'Schwarz': 12712, 'lob': 12713, 'Franco': 12714, 'Baresi': 12715, 'Montenegrin': 12716, 'Savicevic': 12717, 'weaving': 12718, 'checking': 12719, 'left-footed': 12720, 'Toldo': 12721, 'looming': 12722, 'Desailly': 12723, 'fouled': 12724, 'Boca': 12725, 'Juniors': 12726, 'Oscar': 12727, 'Tabarez': 12728, 'rammed': 12729, '83rd': 12730, 'curling': 12731, 'dipping': 12732, 'Batigol': 12733, 'adoring': 12734, 'reward': 12735, 'Weah': 12736, 'rusty': 12737, 'Baggio': 12738, 'Davids': 12739, 'substitute': 12740, 'ITALIAN': 12741, 'SUPERCUP': 12742, 'Supercoppa': 12743, 'SuperCup': 12744, '29,582': 12745, 'NORWAY': 12746, 'ELITE': 12747, 'Norwegian': 12748, 'Tromso': 12749, 'Kongsvinger': 12750, 'Valerenga': 12751, 'Skeid': 12752, 'Stabaek': 12753, 'Stromsgodset': 12754, 'Molde': 12755, 'Bodo': 12756, 'Glimt': 12757, 'Viking': 12758, 'Start': 12759, 'Rosenborg': 12760, 'Lillestrom': 12761, 'Duisberg': 12762, 'Zieger': 12763, 'Witechek': 12764, 'Swiss': 12765, 'Aarau': 12766, 'Boys': 12767, 'Grasshopper': 12768, 'Lucerne': 12769, 'Lugano': 12770, 'Basle': 12771, 'Neuchatel': 12772, 'Gallen': 12773, 'PRIZE': 12774, 'MONEY': 12775, 'TOUR': 12776, '480,618': 12777, 'Montgomerie': 12778, '429,449': 12779, '301,972': 12780, '291,088': 12781, 'McNulty': 12782, '254,247': 12783, '253,337': 12784, '246,077': 12785, '233,713': 12786, '229,360': 12787, '211,175': 12788, 'Nobilo': 12789, '209,412': 12790, '208,978': 12791, '207,990': 12792, '202,593': 12793, '188,143': 12794, '181,005': 12795, '172,580': 12796, '170,952': 12797, 'Payne': 12798, '165,150': 12799, '156,996': 12800, 'CYCLING': 12801, 'ZURICH': 12802, '232-km': 12803, 'cycling': 12804, 'Ferrigato': 12805, 'Bartoli': 12806, 'Museeuw': 12807, 'Lance': 12808, 'Armstrong': 12809, 'Casagrande': 12810, 'Alessandro': 12811, 'Baronti': 12812, 'Vandenbroucke': 12813, 'Fabio': 12814, 'Baldato': 12815, 'Maurizio': 12816, 'Fondriest': 12817, 'Jalabert': 12818, 'Zanini': 12819, 'Gontchenkov': 12820, 'Gabriele': 12821, 'Tchmil': 12822, 'Sciandri': 12823, 'FERRIGATO': 12824, 'SPRINTS': 12825, 'sprinted': 12826, 'weekends': 12827, 'similarly': 12828, 'narrow': 12829, '237km': 12830, 'pack': 12831, 'Oerlikon': 12832, 'velodrome': 12833, 'faded': 12834, 'Briton': 12835, 'torrential': 12836, '193': 12837, '199': 12838, '201': 12839, 'Heinz-Peter': 12840, 'Thul': 12841, '203': 12842, 'Emerson': 12843, 'Baker': 12844, 'GRONINGEN': 12845, 'PULL': 12846, 'AWAY': 12847, 'FROM': 12848, 'Defending': 12849, 'Gorre': 12850, 'Ernest': 12851, 'Faber': 12852, 'Ronald': 12853, 'Waterreus': 12854, 'amends': 12855, 'corner': 12856, 'Romano': 12857, 'dimissal': 12858, 'Zeljko': 12859, 'Petrovic': 12860, 'dismissal': 12861, 'Atteveld': 12862, 'Erwin': 12863, 'Looi': 12864, 'Gaston': 12865, 'Taument': 12866, 'newly': 12867, 'Pablo': 12868, 'Genk': 12869, 'Club': 12870, 'Harelbeke': 12871, 'Mechelen': 12872, 'Wanrooy': 12873, '7,032': 12874, 'Hoogma': 12875, 'Roelofsen': 12876, '7th': 12877, '27,500': 12878, '20th': 12879, 'Godee': 12880, 'Arum': 12881, '73th': 12882, 'Hamming': 12883, '7,250': 12884, 'Arnold': 12885, 'Haldtime': 12886, '11,500': 12887, '74th': 12888, '0.': 12889, '13,500': 12890, 'TABLE': 12891, 'CAPTAIN': 12892, 'BLIND': 12893, 'Blind': 12894, 'Endt': 12895, 'ANP': 12896, 'selection': 12897, 'devote': 12898, 'INDIA': 12899, 'BANS': 12900, 'SIDHU': 12901, 'opener': 12902, 'Navjot': 12903, 'Singh': 12904, 'Sidhu': 12905, '50-day': 12906, 'quitting': 12907, 'right-handed': 12908, 'forfeit': 12909, 'Control': 12910, 'Cricket': 12911, 'Mohali': 12912, 'Chandigarh': 12913, 'Azharuddin': 12914, 'Sachin': 12915, 'four-nation': 12916, 'Singer': 12917, 'Sahara': 12918, '1996-08-26': 12919, 'premiership': 12920, 'relive': 12921, 'Sean': 12922, 'Fitzpatrick': 12923, 'revisited': 12924, 'magic': 12925, 'moments': 12926, 'momentous': 12927, 'NZPA': 12928, 'first-ever': 12929, '50,000-seat': 12930, 'Loftus': 12931, 'Versfeld': 12932, 'Magnificent': 12933, 'relived': 12934, 'moves': 12935, 'tackles': 12936, 'emotions': 12937, 'three-pointer': 12938, 'maul': 12939, 'halfback': 12940, 'Marshall': 12941, 'openside': 12942, 'emptied': 12943, 'punching': 12944, 'bucks': 12945, 'spontaneous': 12946, 'Bunce': 12947, 'exhausted': 12948, 'gutted': 12949, 'nowhere': 12950, 'choice': 12951, 'riding': 12952, 'amazing': 12953, 'Two-try': 12954, 'winger': 12955, 'buggered': 12956, '4000': 12957, 'Zealander': 12958, 'supporters': 12959, 'partying': 12960, 'Messages': 12961, 'goodwill': 12962, 'Hart': 12963, 'rang': 12964, 'congratulations': 12965, 'thanked': 12966, 'nice': 12967, 'understand': 12968, 'tremendous': 12969, 'AFL': 12970, 'Rugby': 12971, 'league-Australian': 12972, 'apartheid': 12973, 'enforcers': 12974, 'commission': 12975, 'subpoenas': 12976, 'dig': 12977, 'beneath': 12978, 'rationales': 12979, 'sinister': 12980, 'whites': 12981, 'Archbishop': 12982, 'Desmond': 12983, 'Tutu': 12984, 'Truth': 12985, 'paint': 12986, 'F.W.': 12987, 'Klerk': 12988, 'Thabo': 12989, 'Mbeki': 12990, 'apologies': 12991, 'Currin': 12992, 'hearings': 12993, 'confessional': 12994, 'personally': 12995, 'crimes': 12996, 'testify': 12997, 'separate': 12998, 'amnesty': 12999, 'souls': 13000, 'tell': 13001, 'confess': 13002, 'abuses': 13003, 'testimony': 13004, 'deeds': 13005, 'self-confessed': 13006, 'hit-squad': 13007, 'Dirk': 13008, 'Coetzee': 13009, 'Boraine': 13010, 'voluntarily': 13011, 'hardline': 13012, 'P.W.': 13013, 'Botha': 13014, 'advising': 13015, 'regarded': 13016, 'achieve': 13017, 'totality': 13018, 'cited': 13019, 'confessing': 13020, 'interviews': 13021, 'tricks': 13022, 'prosecutions': 13023, 'submissions': 13024, 'ANC': 13025, 'Constand': 13026, 'Viljoen': 13027, 'unsatisfied': 13028, 'apartheid-era': 13029, 'submission': 13030, 'caller': 13031, 'utterly': 13032, 'useless': 13033, 'Political': 13034, 'Jannie': 13035, 'Gagiano': 13036, 'doubted': 13037, 'implemented': 13038, '1948': 13039, 'dismantling': 13040, 'burden': 13041, 'guilt': 13042, 'exculpated': 13043, 'Therefore': 13044, 'doubts': 13045, 'reconciling': 13046, 'yourself': 13047, 'historical': 13048, 'adversary': 13049, 'Professor': 13050, 'Lodge': 13051, 'Witwatersrand': 13052, 'demurred': 13053, 'irritation': 13054, 'jokes': 13055, 'anger': 13056, 'express': 13057, 'moral': 13058, 'uneasiness': 13059, 'Responsibility': 13060, 'percolating': 13061, 'downwards': 13062, 'Serb-held': 13063, 'Samir': 13064, 'Arnaut': 13065, 'MATUZICI': 13066, 'farce': 13067, 'incomers': 13068, 'cementing': 13069, 'partition': 13070, 'post-war': 13071, 'Doboj': 13072, 'rallying': 13073, 'Matuzici': 13074, 'banners': 13075, 'Moslem-led': 13076, 'displaced': 13077, 'Moslems': 13078, 'angered': 13079, 'provision': 13080, 'Western-organised': 13081, 'Critics': 13082, 'billed': 13083, 'reintegrate': 13084, 'multi-ethnic': 13085, 'shaping': 13086, 'facto': 13087, 'jure': 13088, 'Dayton': 13089, 'truly': 13090, 'Edhem': 13091, 'Efendija': 13092, 'Camdzic': 13093, 'imam-in-exile': 13094, 'upon': 13095, 'Reuf': 13096, 'Mehemdagic': 13097, 'municipality-in-exile': 13098, 'Eleven': 13099, 'thousand': 13100, 'How': 13101, 'reintegration': 13102, 'refugee': 13103, 'thrown': 13104, 'warning': 13105, 'Ejup': 13106, 'Ganic': 13107, 'fortune': 13108, 'loud': 13109, 'applause': 13110, 'untie': 13111, 'knot': 13112, 'ensured': 13113, 'Croat': 13114, 'mobs': 13115, 'impassable': 13116, '1992-95': 13117, 'Serb-controlled': 13118, 'beefed': 13119, 'emotional': 13120, 'Inter-Entity': 13121, 'Boundary': 13122, 'Line': 13123, 'dispersed': 13124, 'scuffled': 13125, 'casino': 13126, 'blaze': 13127, 'deliberately': 13128, 'casinos': 13129, 'communism': 13130, 'wide-ranging': 13131, 'engaged': 13132, 'pullout': 13133, 'SHATOI': 13134, 'Anatoly': 13135, 'Shkirko': 13136, 'disarmed': 13137, 'armoured': 13138, 'cameraman': 13139, 'Liutauras': 13140, 'Stremaitis': 13141, 'carriers': 13142, 'lorries': 13143, 'Shatoi': 13144, 'suspending': 13145, 'Movladi': 13146, 'Udugov': 13147, 'maverick': 13148, 'element': 13149, 'Leftist': 13150, 'Mexican': 13151, 'MEXICO': 13152, 'leftist': 13153, 'EPR': 13154, 'operated': 13155, 'assertions': 13156, 'Commanders': 13157, 'gunmen': 13158, 'Jornada': 13159, 'overthrowing': 13160, 'Guerrero': 13161, 'irrational': 13162, 'radicals': 13163, 'Commander': 13164, 'ERP': 13165, 'fatigues': 13166, 'brandishing': 13167, 'southwestern': 13168, '23,000-strong': 13169, '37-page': 13170, 'manual': 13171, 'detailing': 13172, 'tactics': 13173, 'strategies': 13174, 'Basic': 13175, 'Course': 13176, 'basic': 13177, 'apparatus': 13178, 'bourgeoisie': 13179, 'commanders': 13180, 'granted': 13181, 'volatile': 13182, 'protesters': 13183, 'violently': 13184, 'unrelated': 13185, 'Zapatista': 13186, 'Chiapas': 13187, 'combat': 13188, 'skirmishes': 13189, 'Ten': 13190, 'gunned': 13191, 'northwest': 13192, 'Unidentified': 13193, 'dragged': 13194, 'ot': 13195, 'Antioquia': 13196, 'killings': 13197, 'municipality': 13198, 'Anza': 13199, 'Medellin': 13200, 'linking': 13201, 'Forces': 13202, 'FARC': 13203, 'impunity': 13204, 'unconfirmed': 13205, 'bloodshed': 13206, 'paramilitary': 13207, 'Tauranaga': 13208, 'climbs': 13209, '9.050': 13210, '6.03': 13211, 'Burma': 13212, 'MAE': 13213, 'SOT': 13214, 'Burmese': 13215, 'splinter': 13216, 'ambushed': 13217, 'patrol': 13218, 'Buddhist': 13219, 'DKBA': 13220, 'Mae': 13221, 'Sot': 13222, 'Col': 13223, 'Suvit': 13224, 'Maenmuan': 13225, 'allied': 13226, 'Rangoon': 13227, 'infiltration': 13228, 'intrusions': 13229, 'reinforcements': 13230, 'porous': 13231, 'frontier': 13232, 'anti-Rangoon': 13233, 'KNU': 13234, 'intermittent': 13235, 'inhabitants': 13236, 'villages': 13237, 'contol': 13238, 'reject': 13239, 'explanation': 13240, 'supplies': 13241, 'directs': 13242, 'F-14': 13243, 'catches': 13244, 'tyre': 13245, 'Gurion': 13246, 'wheel': 13247, 'Yehiel': 13248, 'Amitai': 13249, 'pilots': 13250, 'Airport': 13251, 'brigade': 13252, 'jars': 13253, 'reveal': 13254, 'mummies': 13255, 'Archaeologists': 13256, 'pots': 13257, 'Egyptians': 13258, 'burial': 13259, 'rites': 13260, 'mummification': 13261, 'Saleh': 13262, 'Museum': 13263, 'contain': 13264, 'intestines': 13265, 'tomb': 13266, 'Dahshour': 13267, 'pyramid': 13268, 'pharaoh': 13269, 'Seneferu': 13270, 'Metropolitan': 13271, 'Canopic': 13272, 'unguent': 13273, 'unidentifed': 13274, 'Dynasty': 13275, '1991-1786': 13276, 'BC': 13277, 'finding': 13278, 'contains': 13279, 'substances': 13280, 'conservation': 13281, 'cavity': 13282, 'analysis': 13283, 'liquids': 13284, 'executes': 13285, 'gang': 13286, 'robbers': 13287, 'Shabir': 13288, 'Ahmad': 13289, 'Jalil': 13290, 'Mecca': 13291, 'beheads': 13292, 'rapists': 13293, 'murderers': 13294, 'JORDAN': 13295, 'democracy': 13296, 'tamper': 13297, 'stability': 13298, 'tolerated': 13299, 'Marwan': 13300, 'Muasher': 13301, 'disturbances': 13302, 'Bahrain': 13303, 'AL': 13304, 'RAI': 13305, 'Abdul-Karim': 13306, 'al-Kabariti': 13307, 'commited': 13308, 'ceiling': 13309, 'Sultan': 13310, 'telephones': 13311, 'releases': 13312, 'expresses': 13313, 'traditions': 13314, 'AD': 13315, 'DUSTOUR': 13316, 'Kabariti': 13317, 'speaker': 13318, 'reactivate': 13319, 'legislative': 13320, 'ASWAQ': 13321, 'Weizman': 13322, 'consult': 13323, 'Ezer': 13324, 'weighing': 13325, 'consulted': 13326, 'speak': 13327, 'Earlier': 13328, 'Yedioth': 13329, 'Ahronoth': 13330, 'Aryeh': 13331, 'Shumer': 13332, 'fitting': 13333, 'proces': 13334, 'cool': 13335, 'bombers': 13336, 'HAARETZ': 13337, 'donated': 13338, 'YEDIOTH': 13339, 'AHRONOTH': 13340, 'opposes': 13341, 'MAARIV': 13342, 'education': 13343, 'columns': 13344, 'POST': 13345, 'Erekat': 13346, 'Avraham': 13347, 'Tamir': 13348, 'establish': 13349, 'Cabinet': 13350, 'puts': 13351, 'Internal': 13352, 'Kahalani': 13353, 'warns': 13354, 'Voting': 13355, 'Lebanese': 13356, 'parliamentary': 13357, '580,000': 13358, 'voters': 13359, 'eligible': 13360, 'choose': 13361, '128-member': 13362, 'thin': 13363, 'trickle': 13364, 'casting': 13365, 'ballots': 13366, 'polling': 13367, 'stations': 13368, 'gmt': 13369, 'invites': 13370, 'Caesarea': 13371, 'ceremonial': 13372, 'architect': 13373, 'spoken': 13374, 'frequently': 13375, 'urging': 13376, 'Corporate': 13377, 'employee': 13378, 'skilled': 13379, 'nicely': 13380, 'contribute': 13381, 'consulting': 13382, 'Towers': 13383, 'Perrin': 13384, 'performs': 13385, 'Presently': 13386, 'accountant': 13387, 'salary': 13388, 'Sandra': 13389, \"O'Neal\": 13390, 'principal': 13391, 'evaluated': 13392, 'solely': 13393, 'skill': 13394, 'abilities': 13395, 'skills': 13396, 'creative': 13397, 'sensitive': 13398, 'customer': 13399, 'needs': 13400, 'productivity': 13401, 'organisation': 13402, '750': 13403, 'mid-to-large': 13404, 'corporations': 13405, 'surveyed': 13406, 'restructuring': 13407, 'Next': 13408, 'agenda': 13409, 'structure': 13410, 'skills-based': 13411, 'non-management': 13412, 'fad': 13413, 'inexorable': 13414, 'hierarchical': 13415, 'concept': 13416, 'defined': 13417, 'Multi-layers': 13418, 'competitive': 13419, 'emphasis': 13420, 'raise': 13421, 'Is': 13422, 'ask': 13423, 'Do': 13424, 'eliminate': 13425, 'increases': 13426, 'bonuses': 13427, 'incentives': 13428, 'Companies': 13429, 'culture': 13430, 'rated': 13431, 'high-performing': 13432, 'managers': 13433, 'decisions': 13434, 'high-performance': 13435, 'engaging': 13436, 'Geert': 13437, 'Clercq': 13438, 'NEUFCHATEAU': 13439, 'Investigators': 13440, 'inquiries': 13441, 'Prosecutor': 13442, 'Georges': 13443, 'Zicot': 13444, 'insurance': 13445, 'fraud': 13446, 'forgery': 13447, 'searches': 13448, 'sites': 13449, 'thefts': 13450, 'Gerard': 13451, 'Pignon': 13452, 'warehouse': 13453, 'stolen': 13454, 'insurer': 13455, 'Thierry': 13456, 'Dehaan': 13457, 'ring': 13458, 'Weinstein': 13459, 'shockwaves': 13460, 'eight-year-olds': 13461, 'Detroux': 13462, 'abducted': 13463, 'disagreement': 13464, 'Another': 13465, 'Thily': 13466, 'BREGANCON': 13467, 'funding': 13468, 'pubished': 13469, 'texts': 13470, 'practically': 13471, 'Chirac': 13472, 'Riviera': 13473, 'fortress': 13474, 'widely': 13475, '+331': 13476, 'MUZAFFARABAD': 13477, 'Pakistan-ruled': 13478, 'Azad': 13479, 'Indian-ruled': 13480, 'waged': 13481, 'instantly': 13482, 'Kunar': 13483, 'Muzaffarabad': 13484, 'Garhi': 13485, 'Habibullah': 13486, 'reopening': 13487, 'Salang': 13488, 'embattled': 13489, 'Kabul-Salang': 13490, 'Supreme': 13491, 'Coordination': 13492, 'Jumbish-i-Milli': 13493, 'powerful': 13494, 'warlord': 13495, 'Rashid': 13496, 'Dostum': 13497, 'postponement': 13498, 'precautions': 13499, 'Hezb-i-Islami': 13500, 'Gulbuddin': 13501, 'Hekmatyar': 13502, 'rejoined': 13503, 'persuade': 13504, 'Jumbish': 13505, 'burn': 13506, 'Hasina': 13507, 'effigy': 13508, 'Anis': 13509, 'battled': 13510, 'Sheikh': 13511, 'Bogra': 13512, 'barricaded': 13513, 'ruling': 13514, 'Awami': 13515, 'battles': 13516, 'alight': 13517, 'Janakantha': 13518, 'alleging': 13519, 'pro-government': 13520, 'batons': 13521, 'teargas': 13522, 'disperse': 13523, 'stones': 13524, 'bombs': 13525, 'Nationalist': 13526, 'BNP': 13527, 'denounce': 13528, 'coincided': 13529, 'Local': 13530, 'policeman': 13531, 'gunshots': 13532, 'pro-opposition': 13533, 'section': 13534, 'grants': 13535, 'urged': 13536, 'legislators': 13537, 'denouncing': 13538, 'barbarity': 13539, 'Rafiqul': 13540, 'Islam': 13541, 'Hundreds': 13542, 'raided': 13543, 'arresting': 13544, 'outsiders': 13545, 'student': 13546, 'dormitories': 13547, 'seizing': 13548, 'stormed': 13549, 'halls': 13550, 'flushed': 13551, 'gunpoint': 13552, 'baggage': 13553, 'revolvers': 13554, 'sawn-off': 13555, 'shotguns': 13556, 'knives': 13557, 'swoop': 13558, 'Vice-Chancellor': 13559, 'Emajuddin': 13560, 'deteriorating': 13561, '28,000-student': 13562, 'Wednedsay': 13563, 'gunbattles': 13564, 'Begum': 13565, 'Khaleda': 13566, 'Zia': 13567, 'blanket': 13568, 'possessors': 13569, 'firearms': 13570, 'irrespective': 13571, 'identities': 13572, 'Nearly': 13573, 'crashes': 13574, 'ravine': 13575, 'FEATURE': 13576, 'Fertile': 13577, 'drought': 13578, 'Irene': 13579, 'Marushko': 13580, 'BATKIVSHCHYNA': 13581, 'COLLECTIVE': 13582, 'FARM': 13583, 'shiny': 13584, 'green-and-yellow': 13585, 'Deere': 13586, 'parked': 13587, '1,750-hectare': 13588, '4,325-acre': 13589, 'grain-growing': 13590, 'regions': 13591, 'fill': 13592, 'agronomist': 13593, 'enthusiasm': 13594, 'diesel': 13595, 'Odnosum': 13596, 'breakdown': 13597, 'machinery': 13598, 'loaned': 13599, 'Ukrainian': 13600, 'grain': 13601, 'harvest': 13602, 'harsh': 13603, 'scoured': 13604, 'steppes': 13605, 'stunting': 13606, 'sector': 13607, 'transition': 13608, 'fertile': 13609, 'rich': 13610, 'boots': 13611, 'reputation': 13612, 'breadbasket': 13613, 'brutal': 13614, 'collectivisation': 13615, 'dictator': 13616, 'Josef': 13617, 'Stalin': 13618, 'quality': 13619, 'Hryhory': 13620, 'Borsuk': 13621, 'Mironivka': 13622, 'Wheat': 13623, 'Institute': 13624, 'Agrarian': 13625, 'temperature': 13626, 'Celsius': 13627, '143.60': 13628, 'Fahrenheit': 13629, 'unlit': 13630, 'electricity': 13631, 'unpaid': 13632, 'dry': 13633, 'rainfall': 13634, 'harvesting': 13635, 'strains': 13636, 'resistant': 13637, 'extreme': 13638, 'continental': 13639, 'climate': 13640, 'agricultural': 13641, 'Collective': 13642, 'farms': 13643, 'nascent': 13644, 'fertiliser': 13645, 'herbicides': 13646, 'pesticides': 13647, 'repair': 13648, '36.5': 13649, 'worse': 13650, 'priced': 13651, 'cheaply': 13652, 'pigs': 13653, 'solutions': 13654, 'horizon': 13655, '260': 13656, 'readying': 13657, 'sowing': 13658, '5.2': 13659, 'hectare': 13660, '2.5': 13661, 'acres': 13662, '3.9': 13663, '2.11': 13664, 'borrowing': 13665, 'two-lane': 13666, 'passes': 13667, 'occasional': 13668, 'horse-drawn': 13669, 'buggy': 13670, '1,700-hectare': 13671, '4,200-acre': 13672, 'Shevchenko': 13673, 'collective': 13674, 'neat': 13675, 'tidy': 13676, 'decay': 13677, 'Accountant': 13678, 'Sypron': 13679, 'strapped': 13680, 'bartering': 13681, '220': 13682, 'rickety': 13683, 'tractors': 13684, 'badly': 13685, '160-200': 13686, 'Soprun': 13687, 'dedication': 13688, 'sit': 13689, 'cry': 13690, 'harvested': 13691, 'Planted': 13692, 'autumn': 13693, 'item': 13694, 'grows': 13695, 'Further': 13696, 'resources': 13697, 'Borkus': 13698, 'subsidies': 13699, 'pre-Soviet': 13700, 'hectares': 13701, '124': 13702, '36,000': 13703, 'willing': 13704, 'hurry': 13705, 'Collectivisation': 13706, 'Privatising': 13707, 'negative': 13708, 'swells': 13709, 'setbacks': 13710, 'Melanie': 13711, 'Cheary': 13712, 'swelled': 13713, 'attributable': 13714, 'streamlined': 13715, 'variety': 13716, 'divisional': 13717, 'Announcing': 13718, 'Gilbertson': 13719, 'Happily': 13720, 'illusion': 13721, 'arising': 13722, 'weakness': 13723, 'rand': 13724, 'relative': 13725, '1,803': 13726, '1,003': 13727, '469': 13728, '279': 13729, 'Impala': 13730, 'Platinum': 13731, 'substantial': 13732, 'obvious': 13733, 'corporation': 13734, 'furnace': 13735, 'Implats': 13736, 'shutdown': 13737, '4.5350': 13738, 'Nor': 13739, 'Ingwe': 13740, 'Coal': 13741, 'rains': 13742, 'forfeited': 13743, 'flooding': 13744, 'Mpumulanga': 13745, 'gloom': 13746, 'blocking': 13747, 'merger': 13748, 'Lonrho': 13749, 'Plc': 13750, 'platinum': 13751, 'disappointment': 13752, 'Looking': 13753, 'challenges': 13754, 'soundly': 13755, 'structured': 13756, 'prudently': 13757, 'financed': 13758, 'blessed': 13759, 'portfolio': 13760, 'world-class': 13761, 'businesses': 13762, 'Citing': 13763, 'disposal': 13764, 'holdings': 13765, 'Malbak': 13766, 'disposals': 13767, 'pruned': 13768, 'concentrate': 13769, 'core': 13770, 'clean': 13771, 'disposing': 13772, 'non-core': 13773, 'pruning': 13774, 'commodity': 13775, 'invested': 13776, 'Referring': 13777, '41.5': 13778, 'coal': 13779, 'cheaper': 13780, 'snapping': 13781, 'liked': 13782, 'downturn': 13783, 'Finally': 13784, 'offshore': 13785, '482-1003': 13786, 'Advanced': 13787, 'Medical': 13788, 'IVAC': 13789, 'Eli': 13790, 'Lilly': 13791, 'intravenous': 13792, 'infusion': 13793, 'therapy': 13794, 'wholly': 13795, 'IMED': 13796, 'merge': 13797, 'pumps': 13798, 'fluid': 13799, 'patient': 13800, 'proprietary': 13801, 'disposable': 13802, 'combined': 13803, 'Diego-based': 13804, 'provider': 13805, 'health-care': 13806, 'plants': 13807, 'Creedmoor': 13808, 'N.C.': 13809, 'Tijuana': 13810, 'distributes': 13811, 'prodcuts': 13812, '120': 13813, 'Dec.': 13814, 'DLJ': 13815, 'Merchant': 13816, 'Banking': 13817, 'River': 13818, 'expects': 13819, 'unspecified': 13820, 'one-time': 13821, 'technology-based': 13822, 'delivery': 13823, 'IV': 13824, 'pump': 13825, 'regulated': 13826, 'volumetric': 13827, 'fully': 13828, 'diluted': 13829, '53.9': 13830, 'Excluding': 13831, '17.4': 13832, '112.8': 13833, '8.4': 13834, '29.2': 13835, 'Mercer': 13836, 'CEO': 13837, 'Mallinckrodt': 13838, 'Kuhn': 13839, 'regulatory': 13840, 'approval': 13841, 'Morris': 13842, 'boosted': 13843, '92': 13844, 'mirroring': 13845, 'bonds': 13846, '5,731': 13847, 'NASDAQ': 13848, 'fractionally': 13849, '1,143': 13850, '666': 13851, 'lagged': 13852, 'declines': 13853, '476/698': 13854, '837/763': 13855, '30-year': 13856, 'Treasury': 13857, '2/32': 13858, '6.96': 13859, 'HELENS': 13860, 'CLINCH': 13861, 'Challenge': 13862, 'thrashed': 13863, '66-14': 13864, 'inaugural': 13865, 'secured': 13866, 'Knowsley': 13867, 'Road': 13868, '1975': 13869, 'rain-soaked': 13870, 'Hunte': 13871, 'grabbed': 13872, 'hat-trick': 13873, 'Martyn': 13874, 'Sullivan': 13875, 'Newlove': 13876, 'goalkicker': 13877, 'Bobbie': 13878, 'Goulding': 13879, 'seven-year': 13880, 'reign': 13881, 'toast': 13882, 'Broncos': 13883, 'scrape': 13884, 'end-of-season': 13885, 'play-offs': 13886, 'sights': 13887, 'treble': 13888, '2:37': 13889, '2:42': 13890, '3:22': 13891, '4.09': 13892, 'Sebastian': 13893, 'Lindholm': 13894, '5:17': 13895, 'Lasse': 13896, 'Lampi': 13897, '12:01': 13898, 'Madeira': 13899, '16:34': 13900, 'Angelo': 13901, 'Medeghini': 13902, '18:28': 13903, 'MAKINEN': 13904, 'STEPS': 13905, 'BID': 13906, 'Finn': 13907, '1,452-km': 13908, 'doubling': 13909, 'decisive': 13910, 'gearbox': 13911, 'Maakinen': 13912, 'strengthened': 13913, 'retirement': 13914, 'nearest': 13915, 'SHARPE': 13916, 'WINNER': 13917, 'EASE': 13918, 'PRESSURE': 13919, 'LEEDS': 13920, 'Winger': 13921, 'Sharpe': 13922, 'superb': 13923, 'hapless': 13924, 'anchored': 13925, 'repaid': 13926, 'slice': 13927, '4.5': 13928, '6.98': 13929, 'fee': 13930, 'top-draw': 13931, 'Rush': 13932, 'feeding': 13933, 'galloped': 13934, 'unfavoured': 13935, 'arc': 13936, 'right-hand': 13937, 'under-fire': 13938, 'Wilkinson': 13939, 'booed': 13940, 'jeers': 13941, 'cheers': 13942, '25,860': 13943, 'WASIM': 13944, 'AKRAM': 13945, 'JOINS': 13946, 'three-wicket': 13947, '300th': 13948, 'becomes': 13949, '300-club': 13950, 'bowlers': 13951, 'Imran': 13952, 'feat': 13953, 'cricketers': 13954, 'Kapil': 13955, 'Dev': 13956, '434': 13957, 'Tests': 13958, 'Hadlee': 13959, '431': 13960, 'Botham': 13961, '383': 13962, 'Malcolm': 13963, 'Indies': 13964, '376': 13965, '362': 13966, 'Lillee': 13967, '355': 13968, 'Willis': 13969, 'Gibbs': 13970, 'Trueman': 13971, '307': 13972, 'Courtney': 13973, 'Walsh': 13974, 'bowling': 13975, '208': 13976, 'Middlesex': 13977, '144': 13978, '137': 13979, '5-43': 13980, '323-5': 13981, 'Llong': 13982, '273-5': 13983, '118': 13984, 'Cottey': 13985, '142-4': 13986, '53-0': 13987, '3-12': 13988, '164-4': 13989, 'Weston': 13990, '231-7': 13991, '4-48': 13992, '135-9': 13993, 'BY': 13994, 'WICKETS': 13995, '242': 13996, '48-1': 13997, 'b-6': 13998, 'lb-2': 13999, 'nb-13': 14000, '1-96': 14001, '2-136': 14002, '3-166': 14003, '4-179': 14004, '5-187': 14005, '6-205': 14006, '7-220': 14007, '8-238': 14008, '9-242': 14009, '15.4-1-67-3': 14010, '18-3-55-1': 14011, '37-10-78-6': 14012, '10-3-30-0': 14013, 'nb-5': 14014, '1-7': 14015, '3-0-15-0': 14016, '3-0-24-1': 14017, '0.4-0-9-0': 14018, 'Lord': 14019, 'Drawn': 14020, 'NEED': 14021, 'RUNS': 14022, 'requiring': 14023, 'FINALS': 14024, '950': 14025, '455': 14026, '30-SEPT': 14027, 'Falkir': 14028, 'Montrose': 14029, 'COSTA': 14030, 'RICA': 14031, 'CHILE': 14032, 'FRIENDLY': 14033, 'LIBERIA': 14034, 'Rica': 14035, 'Ronaldo': 14036, 'Gonzalez': 14037, 'Salas': 14038, 'SEYCHELLES': 14039, 'FAIL': 14040, 'HISTORIC': 14041, 'VICTORY': 14042, 'Gleeson': 14043, 'Seychelles': 14044, 'bowed': 14045, 'Trailing': 14046, 'islanders': 14047, 'Mauritius': 14048, 'qualifiers': 14049, 'FIFA': 14050, 'breakthrough': 14051, 'Mauritian': 14052, 'Caboche': 14053, 'crude': 14054, 'tackle': 14055, 'responded': 14056, 'setback': 14057, 'Ashley': 14058, 'Mocude': 14059, '50th-minute': 14060, 'Seychellois': 14061, 'favourites': 14062, 'Botswana': 14063, 'Windhoek': 14064, 'Cameroon': 14065, 'Gabon': 14066, 'German-based': 14067, 'Lome': 14068, 'Tanzania': 14069, 'shoot-out': 14070, 'overcome': 14071, 'legs': 14072, 'decider': 14073, 'elimination': 14074, 'humiliating': 14075, 'preliminaries': 14076, 'Mauritania': 14077, 'Benin': 14078, 'Nouakchott': 14079, 'postponed': 14080, 'COLLATED': 14081, 'Collated': 14082, 'aggregaete': 14083, 'UKRAINIAN': 14084, 'Kremin': 14085, 'Kremenchuk': 14086, 'Vorskla': 14087, 'Poltava': 14088, 'Ternopil': 14089, 'Zaporizhya': 14090, 'Shakhtar': 14091, 'Donetsk': 14092, 'Kryvbas': 14093, 'Kryvy': 14094, 'Rig': 14095, 'Karpaty': 14096, 'Lviv': 14097, 'Prykarpattya': 14098, 'Ivano-Frankivsk': 14099, 'Zirka-Nibas': 14100, 'Kirovohrad': 14101, 'Chornomorets': 14102, 'Odessa': 14103, 'Metalurg': 14104, 'Dnipro': 14105, 'Dnipropetrovsk': 14106, 'Tavria': 14107, 'SWIMMING': 14108, 'POPOV': 14109, '`SERIOUS': 14110, 'CONDITION': 14111, 'STABBING': 14112, 'swimming': 14113, 'Popov': 14114, 'freestyle': 14115, 'titles': 14116, 'Rimma': 14117, 'Maslova': 14118, 'expert': 14119, 'medicine': 14120, 'Olympics': 14121, 'abdomen': 14122, 'roadside': 14123, 'watermelon': 14124, 'sellers': 14125, 'south-west': 14126, 'wound': 14127, 'kidney': 14128, 'NTV': 14129, 'worry': 14130, 'cheerfully': 14131, 'attackers': 14132, 'Vitaly': 14133, 'Smirnov': 14134, 'swimmer': 14135, 'chosen': 14136, 'SLOVAK': 14137, 'BRATISLAVA': 14138, 'Slovak': 14139, 'Slovan': 14140, 'Tatran': 14141, 'Presov': 14142, 'Artmedia': 14143, 'Petrzalka': 14144, 'JAS': 14145, 'Bardejov': 14146, 'DAC': 14147, 'Dunajska': 14148, 'Streda': 14149, 'Trnava': 14150, 'Dukla': 14151, 'Banska': 14152, 'Bystrica': 14153, 'Nitra': 14154, 'MSK': 14155, 'Zilina': 14156, 'Kosice': 14157, 'Petrimex': 14158, 'Prievidza': 14159, 'Rimavska': 14160, 'Sobota': 14161, 'Lokomotiva': 14162, 'Kerametal': 14163, 'Dubnica': 14164, 'HUNGARY': 14165, 'Hungarian': 14166, 'Haladas': 14167, 'MTK': 14168, 'Bekescsaba': 14169, 'BVSC': 14170, 'Csepel': 14171, 'Videoton(*': 14172, 'ZTE': 14173, 'Debrecen': 14174, 'Siofok': 14175, 'Ujpest': 14176, 'Vac': 14177, 'Vasas': 14178, 'Pecs': 14179, 'TE': 14180, 'FTC': 14181, 'Videoton': 14182, 'Gyor': 14183, 'III.ker.TVE': 14184, '*Name': 14185, 'Parmalat': 14186, 'Fehervar': 14187, '+361': 14188, 'CZECH': 14189, 'Petra': 14190, 'Drnovice': 14191, 'Liberec': 14192, 'SK': 14193, 'Slavia': 14194, 'Praha': 14195, 'Ceske': 14196, 'Budejovice': 14197, 'FK': 14198, 'Jablonec': 14199, 'Viktoria': 14200, 'Zizkov': 14201, 'Banik': 14202, 'Ostrava': 14203, 'Teplice': 14204, 'Boby': 14205, 'Brno': 14206, 'Sigma': 14207, 'Olomouc': 14208, 'Bohemians': 14209, 'Karvina': 14210, 'Hradec': 14211, 'Kralove': 14212, 'Kaucuk': 14213, 'Opava': 14214, 'Plzen': 14215, 'AC': 14216, 'MEXICAN': 14217, 'Atlante': 14218, 'Atlas': 14219, 'Azul': 14220, 'Leon': 14221, 'Guadalajara': 14222, 'Monterrey': 14223, 'Veracruz': 14224, 'Pachuca': 14225, 'Toluca': 14226, 'Puebla': 14227, 'UNAM': 14228, 'Morelia': 14229, 'UAG': 14230, 'Neza': 14231, 'Necaxa': 14232, 'Celaya': 14233, 'LEAVE': 14234, 'EARLY': 14235, 'CATCH': 14236, 'PLANE': 14237, 'Homewood': 14238, 'catch': 14239, 'Sao': 14240, 'Narciso': 14241, 'Rio': 14242, 'Janeiro': 14243, 'chartered': 14244, 'CBF': 14245, 'Paulo-Santos': 14246, 'usual': 14247, 'package': 14248, 'Internacional': 14249, 'hectic': 14250, 'arrive': 14251, 'Curitiba': 14252, 'Botafogo': 14253, 'Tulio': 14254, 'Zagalo': 14255, 'features': 14256, 'top-scorer': 14257, 'struggling': 14258, 'ARGENTINE': 14259, 'Apertura': 14260, 'Estudiantes': 14261, 'Ferro': 14262, 'Carril': 14263, 'Oeste': 14264, 'Independiente': 14265, 'Gimnasia-Jujuy': 14266, 'Platense': 14267, 'Huracan': 14268, 'Lanus': 14269, 'Huracan-Corrientes': 14270, 'Newell': 14271, 'Velez': 14272, 'Sarsfield': 14273, 'Racing': 14274, 'Rosario': 14275, 'Plate': 14276, 'Gimnasia-La': 14277, 'Plata': 14278, 'Lorenzo': 14279, 'Banfield': 14280, 'Deportivo': 14281, 'Espanol': 14282, 'Colon': 14283, 'HONDURAS': 14284, 'CUBA': 14285, 'TEGUCIGALPA': 14286, 'Honduras': 14287, 'Castro': 14288, '3rd': 14289, 'Enrique': 14290, 'Centeno': 14291, 'Pavon': 14292, 'Cricuma': 14293, 'Fluminense': 14294, 'Criciuma': 14295, 'Formula': 14296, '89-86': 14297, '45-46': 14298, 'PRO-SOCCER': 14299, '.604': 14300, '.551': 14301, '.463': 14302, '.456': 14303, 'MOROCCAN': 14304, 'RABAT': 14305, 'Moroccan': 14306, 'Widad': 14307, 'Fes': 14308, 'Oujda': 14309, 'Raja': 14310, 'Casablanca': 14311, 'Tetouan': 14312, 'Jeunesse': 14313, 'Massira': 14314, 'Meknes': 14315, 'Settat': 14316, 'Marrakesh': 14317, 'Khouribga': 14318, 'Mohammedia': 14319, 'Sidi': 14320, 'Kacem': 14321, 'Jadida': 14322, 'Hassania': 14323, 'Agadir': 14324, 'QUENCH': 14325, 'YOUR': 14326, 'THIRST': 14327, 'IF': 14328, 'YOU': 14329, 'CAN': 14330, 'AFFORD': 14331, 'reads': 14332, 'Due': 14333, 'hot': 14334, 'please': 14335, 'shade': 14336, 'drink': 14337, 'plenty': 14338, 'fluids': 14339, 'advisory': 14340, 'concluding': 14341, '...and': 14342, 'garishly-coloured': 14343, 'sun-drenched': 14344, 'litre': 14345, 'life-sustaining': 14346, '4.00': 14347, 'incredulous': 14348, 'noting': 14349, 'notorious': 14350, 'gouging': 14351, 'insult': 14352, 'offended': 14353, 'baked': 14354, 'lasagna': 14355, '8.50': 14356, 'Yorker': 14357, 'Rebecca': 14358, 'sandwich': 14359, 'hungry': 14360, 'forked': 14361, 'pronounced': 14362, 'Carol': 14363, 'Perry': 14364, 'chimed': 14365, 'ridiculous': 14366, 'wine': 14367, 'Indeed': 14368, 'chardonnay': 14369, 'zinfandel': 14370, '4.75': 14371, '4.50': 14372, 'alcoholics': 14373, 'Fans': 14374, '12.50': 14375, 'hamburger': 14376, 'french': 14377, 'fries': 14378, 'snack': 14379, 'thirsty': 14380, 'Make': 14381, '16.50': 14382, 'ham': 14383, 'swiss': 14384, 'cheese': 14385, 'whopping': 14386, '8.00': 14387, 'tuscan': 14388, 'rolls': 14389, 'Tuscany': 14390, 'HUBER': 14391, 'MALEEVA': 14392, 'FALL': 14393, 'UP-AND-COMERS': 14394, 'Larry': 14395, 'Fine': 14396, 'youthful': 14397, 'finalist': 14398, 'Magdalena': 14399, 'Maleeva': 14400, 'sunny': 14401, '15-year-old': 14402, 'honoured': 14403, 'Stadium': 14404, 'straight-sets': 14405, '112th-ranked': 14406, 'Montolio': 14407, 'cheery': 14408, 'worries': 14409, 'overmatched': 14410, 'Hoping': 14411, 'engagement': 14412, 'cement': 14413, 'Flushing': 14414, 'Meadows': 14415, 'bowing': 14416, 'floater': 14417, 'semifinals': 14418, 'momentum': 14419, 'rhythm': 14420, 'tough': 14421, 'errors': 14422, 'Manhattan': 14423, 'Beach': 14424, 'mourn': 14425, 'non-': 14426, 'rookie': 14427, 'Aleksandra': 14428, 'Olsza': 14429, '110th': 14430, '18-year-old': 14431, 'celebrated': 14432, 'removing': 14433, 'curtain-raising': 14434, 'ringing': 14435, 'endorsement': 14436, 'newest': 14437, 'juniors': 14438, 'proven': 14439, 'mettle': 14440, 'quarters': 14441, 'conditioning': 14442, 'kilos': 14443, 'advance': 14444, 'fast-moving': 14445, 'scared': 14446, 'undaunted': 14447, 'pros': 14448, 'big-serving': 14449, 'Brenda': 14450, 'Schultz-McCarthy': 14451, 'Nana': 14452, 'Miyaga': 14453, 'Helena': 14454, 'Sukova': 14455, 'prevailed': 14456, 'Barbara': 14457, 'Paulus': 14458, 'Yi': 14459, 'Jing-Qian': 14460, 'STICH': 14461, 'GLAD': 14462, 'HE': 14463, 'STAYED': 14464, 'fiasco': 14465, 'glad': 14466, 'sweating': 14467, 'four-set': 14468, 'Haas': 14469, 'embarrassing': 14470, 'cried': 14471, 'remaking': 14472, 'kids': 14473, 'enjoy': 14474, 'tradition': 14475, 'strict': 14476, 'accordance': 14477, 'favourtism': 14478, 'Yvegeny': 14479, 'spots': 14480, 'ranking': 14481, 'approximately': 14482, 'outrage': 14483, 'tarnished': 14484, 'mind': 14485, 'damaging': 14486, 'ought': 14487, 'USTA': 14488, '27-year-old': 14489, 'focused': 14490, 'energies': 14491, 'sun-baked': 14492, 'Grandstand': 14493, '11th-seeded': 14494, 'Malivai': 14495, 'lingers': 14496, 'homegrown': 14497, 'controversy': 14498, 'engulfed': 14499, 'original': 14500, 'flamboyant': 14501, 'bumped': 14502, 'unfairness': 14503, 'exits': 14504, 'benefitted': 14505, 'fiddling': 14506, 'Ranked': 14507, '18th': 14508, 'deserves': 14509, 'everybody': 14510, 'MONDAY': 14511, 'Anne-Gaelle': 14512, 'Sidot': 14513, 'Janette': 14514, 'Husarova': 14515, 'Miyagi': 14516, 'Vitoux': 14517, 'Delgado': 14518, 'Paraguay': 14519, 'Henrietta': 14520, 'Nagyova': 14521, 'Gala': 14522, 'Pizzichini': 14523, 'Schett': 14524, 'Sabine': 14525, 'Appelmans': 14526, 'Cristina': 14527, 'Torrens-Valero': 14528, 'Hack': 14529, 'Spirlea': 14530, 'Begerow': 14531, 'Gaidano': 14532, 'Schnell': 14533, '9-7': 14534, 'heat': 14535, 'Dier': 14536, 'Tramacchi': 14537, 'Anna': 14538, 'Kournikova': 14539, 'Richterova': 14540, 'Debbie': 14541, 'Stephanie': 14542, 'Deville': 14543, 'Rittner': 14544, 'Kristina': 14545, 'Brandi': 14546, 'Glass': 14547, 'Ines': 14548, 'Gorrochategui': 14549, 'Grzybowska': 14550, 'Jaime': 14551, 'Oncins': 14552, 'Corina': 14553, 'Morariu': 14554, 'Linda': 14555, 'Wild': 14556, 'Sung-Hee': 14557, 'Pitkowski': 14558, 'Meghann': 14559, 'Shaughnessy': 14560, '6-': 14561, 'Dally': 14562, 'Randriantefy': 14563, 'Madagascar': 14564, 'Elena': 14565, 'Makarova': 14566, 'Courtois': 14567, 'Flora': 14568, 'Perfetti': 14569, 'Leander': 14570, 'Paes': 14571, 'Neville': 14572, 'Godwin': 14573, 'Alexandra': 14574, 'Fusai': 14575, 'Jill': 14576, 'Craybas': 14577, 'Jecmenica': 14578, 'Dechy': 14579, 'Christina': 14580, 'Jane': 14581, 'Chi': 14582, 'Callens': 14583, 'Nicole': 14584, 'Bradtke': 14585, 'Baudone': 14586, 'Jolene': 14587, 'Watanabe': 14588, 'Kandarr': 14589, 'EDGE': 14590, 'RUN': 14591, 'TOP': 14592, 'NINTH': 14593, 'Tyler': 14594, 'sweep': 14595, '3-2': 14596, 'Foster': 14597, 'fastball': 14598, 'rotate': 14599, 'changeup': 14600, '3-for-4': 14601, 'outslugged': 14602, '13-9': 14603, 'Wilkins': 14604, 'Ericks': 14605, '13-8': 14606, 'Renteria': 14607, 'fielded': 14608, 'cleanly': 14609, 'Boles': 14610, 'Osvaldo': 14611, 'Fenandez': 14612, 'seven-hitter': 14613, 'Trenidad': 14614, 'Hubbard': 14615, '6-13': 14616, 'Gagne': 14617, 'run-scoring': 14618, 'Chad': 14619, 'pinch-hits': 14620, 'pennants': 14621, 'Jody': 14622, 'Reed': 14623, 'Caminiti': 14624, 'Bagwell': 14625, 'Donne': 14626, '8-4': 14627, '1-1/2': 14628, 'shoulder': 14629, '.466': 14630, '.362': 14631, '.592': 14632, '.530': 14633, '.447': 14634, '.573': 14635, '.474': 14636, '26TH': 14637, '.628': 14638, '.405': 14639, '.523': 14640, '.423': 14641, '.545': 14642, '.519': 14643, 'BONDS': 14644, 'CONSECUTIVE': 14645, 'GAME': 14646, 'STREAK': 14647, 'All-Star': 14648, 'appearing': 14649, 'battling': 14650, 'hamstring': 14651, '357': 14652, 'second-longest': 14653, '2,282nd': 14654, '13-0': 14655, 'pinch-hitting': 14656, 'MRI': 14657, 'mild': 14658, 'strain': 14659, 'lineup': 14660, '1-for-2': 14661, 'exiting': 14662, '32-year-old': 14663, '.307': 14664, 'last-place': 14665, 'outfielder': 14666, 'Sammy': 14667, 'Sosa': 14668, 'third-longest': 14669, 'baseman': 14670, 'JONK': 14671, 'RETURNS': 14672, 'BRAZIL': 14673, 'ROTTERDAM': 14674, 'Guus': 14675, 'Hiddink': 14676, 'Wim': 14677, 'Jonk': 14678, '14-month': 14679, 'Gastel': 14680, 'Boer': 14681, 'Bergkamp': 14682, 'Goey': 14683, 'Jaap': 14684, 'Stam': 14685, 'Reiziger': 14686, 'Kock': 14687, '04': 14688, 'Witschge': 14689, 'Aron': 14690, 'Winter': 14691, 'Internazionale': 14692, 'Seedorf': 14693, 'Real': 14694, 'Madrid': 14695, 'BARCELONA': 14696, 'ATLETICO': 14697, '31st': 14698, 'Pizzi': 14699, 'la': 14700, 'Pena': 14701, '75th': 14702, 'Esnaider': 14703, 'Pantic': 14704, 'ZIMBABWE': 14705, '263-7': 14706, '138': 14707, 'SCOREBOARD-AUSTRALIA': 14708, 'Slater': 14709, 'Strang': 14710, 'Whittall': 14711, 'Streak': 14712, 'Bevan': 14713, 'Brandes': 14714, 'Hogg': 14715, 'b-1': 14716, 'lb-8': 14717, 'w-3': 14718, 'nb-3': 14719, '263': 14720, '1-48': 14721, '2-92': 14722, '3-167': 14723, '4-230': 14724, '5-240': 14725, '6-242': 14726, '7-263': 14727, 'Reiffel': 14728, 'Flemming': 14729, '10-1-50-1': 14730, '2w': 14731, '2nb': 14732, '10-1-47-2': 14733, '1w': 14734, '9-0-41-1': 14735, 'Flower': 14736, '6-0-28-0': 14737, '10-0-53-3': 14738, '1nb': 14739, 'Decker': 14740, '3-0-17-0': 14741, 'Shah': 14742, '2-0-18-0': 14743, 'Wishart': 14744, 'Evans': 14745, 'Dekker': 14746, 'lb-4': 14747, 'w-10': 14748, 'nb-7': 14749, '1-16': 14750, '2-16': 14751, '3-33': 14752, '4-35': 14753, '5-56': 14754, '6-98': 14755, '7-100': 14756, '8-120': 14757, '9-120': 14758, '7-2-13-1': 14759, '7-0-24-2': 14760, '3w': 14761, '3nb': 14762, '6-1-23-2': 14763, '7-2-24-1': 14764, '9-2-26-1': 14765, '5-1-24-3': 14766, 'OVERS': 14767, 'day-night': 14768, 'TOSS': 14769, 'OPT': 14770, 'BAT': 14771, 'AGAINST': 14772, 'toss': 14773, 'Teams': 14774, 'Stuart': 14775, 'Damein': 14776, 'Fleming': 14777, 'Eddo': 14778, 'Heath': 14779, 'MOZAMBIQUE': 14780, 'MAPUTO': 14781, 'story': 14782, 'Mozambican': 14783, 'NOTICIAS': 14784, 'Nhamavila': 14785, 'Maputo': 14786, 'Noticias': 14787, 'Lamonts': 14788, 'Apparel': 14789, 'files': 14790, 'reorganization': 14791, '18:00': 14792, 'KIRKLAND': 14793, 'Wash': 14794, 'apparel': 14795, 'filed': 14796, 'Unsecured': 14797, 'bondholders': 14798, '4.05': 14799, '5.67': 14800, 'creditors': 14801, 'Between': 14802, '3.13': 14803, 'unsecured': 14804, 'non-trade': 14805, 'existing': 14806, 'Bondholders': 14807, 'capitalization': 14808, 'reaches': 14809, 'entitling': 14810, 'Management': 14811, 'dilution': 14812, 'Passengers': 14813, 'blazing': 14814, 'ferry': 14815, 'safely': 14816, 'Guernsey': 14817, 'Trident': 14818, 'Emeraud': 14819, 'boats': 14820, '88-year-old': 14821, 'Jersey': 14822, 'cluster': 14823, 'British-ruled': 14824, 'north-west': 14825, 'voting': 14826, 'Schork': 14827, 'municipal': 14828, 'nationwide': 14829, 'balloting': 14830, 'irregularities': 14831, 'assemblies': 14832, 'Tomorrow': 14833, 'Provisional': 14834, 'Election': 14835, 'consider': 14836, 'Agota': 14837, 'Kuperman': 14838, 'select': 14839, 'cancell': 14840, 'specify': 14841, 'organise': 14842, 'rule-making': 14843, '600,000': 14844, 'electorate': 14845, 'PEC': 14846, 'Balloting': 14847, 'citizens': 14848, 'slated': 14849, 'cantonal': 14850, 'Moslem-Croat': 14851, 'parliaments': 14852, 'Representatives': 14853, 'three-man': 14854, 'Presidency': 14855, 'Dnevi': 14856, 'Avaz': 14857, 'SDA': 14858, 'municipal-level': 14859, 'Frowick': 14860, 'Ambassador': 14861, 'allege': 14862, 'systematically': 14863, 'discouraged': 14864, 'registering': 14865, 'cast': 14866, 'ballot': 14867, 'majorities': 14868, '43-month': 14869, 'underpopulated': 14870, 'cleansing': 14871, 'Diplomats': 14872, 'pivotal': 14873, 'consolidating': 14874, 'voter': 14875, 'herald': 14876, 'multi-ethnicity': 14877, 'Bosia-Hercegovina': 14878, 'Soren': 14879, 'Jessen-Petersen': 14880, 'Special': 14881, 'Envoy': 14882, 'High': 14883, 'run-up': 14884, 'nationalistic': 14885, 'sectarian': 14886, 'card': 14887, 'drumming': 14888, 'constituencies': 14889, 'memories': 14890, 'tougher': 14891, 'Alastair': 14892, 'Macdonald': 14893, 'abandon': 14894, 'sobering': 14895, 'appointed': 14896, 'heady': 14897, 'wrap': 14898, 'compromise': 14899, 'settlement': 14900, 'insistence': 14901, 'chain-smoking': 14902, 'paratroop': 14903, 'deadpan': 14904, 'putdowns': 14905, 'knack': 14906, 'arrange': 14907, 'ambitious': 14908, 'pledging': 14909, 'conclude': 14910, 'Saying': 14911, 'pro-war': 14912, 'schemers': 14913, 'empty-handed': 14914, 'Viktor': 14915, 'Chernomyrdin': 14916, 'undisclosed': 14917, 'meanwhile': 14918, 'departments': 14919, 'Speculation': 14920, 'limb': 14921, 'hardly': 14922, 'reelection': 14923, 'criticising': 14924, 'pains': 14925, 'insist': 14926, 'suddenly': 14927, 'profited': 14928, 'inadequacy': 14929, 'risked': 14930, 'face-saving': 14931, 'acceptable': 14932, 'letting': 14933, 'quit': 14934, 'Federation': 14935, 'encourage': 14936, 'tendencies': 14937, 'Caucasus': 14938, 'Yastrzhembsky': 14939, 'Yastrezhembsky': 14940, 'offical': 14941, 'recover': 14942, 'receives': 14943, 'packet': 14944, 'Yugo': 14945, 'Zastava': 14946, 'factory': 14947, 'wages': 14948, 'revive': 14949, 'stubborn': 14950, 'strength': 14951, 'persist': 14952, 'Dragutin': 14953, 'Stanojlovic': 14954, 'revival': 14955, 'consumed': 14956, 'pre-war': 14957, 'Montenegro': 14958, 'Kragujevac': 14959, 'bitterness': 14960, 'stirring': 14961, 'Late': 14962, 'branch': 14963, 'exaggerated': 14964, 'passers': 14965, 'Gordana': 14966, 'Kukic': 14967, '+381': 14968, '222': 14969, '4254': 14970, '9.1': 14971, 'lenders': 14972, 'trim': 14973, '10.0': 14974, 'Insurers': 14975, 'five-10': 14976, 'Zagreb': 14977, 'Money': 14978, 'settlements': 14979, 'shrank': 14980, 'meagre': 14981, '5.5': 14982, 'Supply': 14983, 'Overnight': 14984, 'calculated': 14985, 'midrates': 14986, '5.2420': 14987, '3.5486': 14988, 'Kolumbina': 14989, 'Bencevic': 14990, '385-1-4557075': 14991, 'SVCD': 14992, 'controllers': 14993, 'Bulatka': 14994, 'Raichev': 14995, '1,380': 14996, 'technicians': 14997, 'paralyse': 14998, 'Far': 14999, 'Valkov': 15000, 'charter': 15001, 'carries': 15002, 'resorts': 15003, 'minimal': 15004, 'servicing': 15005, 'lock-out': 15006, '230': 15007, 'separation': 15008, 'Liliana': 15009, 'Semerdjieva': 15010, 'Naina': 15011, 'satisfactory': 15012, 'Tass': 15013, 'Clinical': 15014, 'treats': 15015, 'Mrs': 15016, 'Mironov': 15017, 'permanent': 15018, 'daughters': 15019, 'run-off': 15020, 'eye': 15021, 'Mostostal': 15022, 'Z': 15023, 'Holding': 15024, '25-': 15025, 'million-zloty': 15026, 'convertible': 15027, 'Piotr': 15028, 'Grabowski': 15029, '10-session': 15030, 'premium': 15031, 'Grabowksi': 15032, 'paying': 15033, 'benchmark': 15034, '52-week': 15035, 'PBR': 15036, '1.6': 15037, 'exchanged': 15038, '2.6': 15039, 'book-building': 15040, 'proceeds': 15041, 'modernise': 15042, '+48': 15043, '653': 15044, '9700': 15045, 'Unknown': 15046, 'kidnaps': 15047, 'JOSE': 15048, 'Kidnappers': 15049, 'Humberto': 15050, 'Hueite': 15051, 'Zyrecha': 15052, 'Jetty': 15053, 'Kors': 15054, 'Misael': 15055, 'Valerio': 15056, 'kidnappers': 15057, 'fleeing': 15058, 'Preliminary': 15059, 'Altamira': 15060, 'Wisinga': 15061, 'Aguas': 15062, 'Zarcas': 15063, 'Rica-Nicaragua': 15064, 'Unconfirmed': 15065, 'Santa': 15066, 'Pocosol': 15067, 'supposedly': 15068, 'tourist': 15069, 'guide': 15070, 'Regula': 15071, 'Susana': 15072, 'Siegfried': 15073, 'Nicola': 15074, 'Fleuchaus': 15075, 'bizarre': 15076, 'twist': 15077, 'Julio': 15078, 'Cesar': 15079, 'Rojas': 15080, 'sentimental': 15081, 'attachment': 15082, 'photographs': 15083, 'Rican': 15084, 'Interacciones': 15085, 'ups': 15086, 'lowers': 15087, 'peso': 15088, 'brokerage': 15089, '4.3': 15090, 'projection': 15091, 'Economist': 15092, 'Alonso': 15093, 'Cervera': 15094, 'revisions': 15095, 'chiefly': 15096, 'fueled': 15097, '6.1': 15098, 'Q4': 15099, 'year-end': 15100, '7.85-8.15': 15101, '8.20-8.50': 15102, '9.20-9.40': 15103, '25.8': 15104, 'Fiscal': 15105, 'loosened': 15106, 'boosting': 15107, 'commitments': 15108, 'schemes': 15109, 'debtors': 15110, 'Tricks': 15111, '+525': 15112, '728-9560': 15113, 'Bancomext': 15114, 'appreciation': 15115, 'drop-off': 15116, 'Moreno': 15117, 'Turrent': 15118, 'promotion': 15119, 'importers': 15120, 'dlrs': 15121, '1,044': 15122, 'dollar-buying': 15123, '1,041': 15124, 'wire': 15125, 'transfers': 15126, 'accumulated': 15127, 'Contributing': 15128, 'greenbacks': 15129, 'shy': 15130, 'typical': 15131, 'month-end': 15132, 'position-squaring': 15133, 'helps': 15134, 'limit': 15135, 'Dealers': 15136, '142': 15137, 'intra-day': 15138, '1,037': 15139, 'Guillermo': 15140, 'Londono': 15141, '571': 15142, '610': 15143, '7944': 15144, 'Hashimoto': 15145, 'Ryutaro': 15146, 'Brasilia': 15147, '10-day': 15148, 'Latin': 15149, 'underwent': 15150, 'correct': 15151, 'compression': 15152, 'Johns': 15153, 'Hopkins': 15154, 'inflamation': 15155, 'drown': 15156, 'Venezuelan': 15157, 'boating': 15158, 'MARACAIBO': 15159, 'sank': 15160, 'Lake': 15161, 'Maracaibo': 15162, 'Zarraga': 15163, 'nighttime': 15164, 'spin': 15165, 'sinking': 15166, 'stern': 15167, 'lifejackets': 15168, 'Banco': 15169, 'inject': 15170, '3.412': 15171, 'pesos': 15172, 'secondary': 15173, 'credit': 15174, 'auctions': 15175, 'AMOUNT': 15176, 'TERM': 15177, '1.206': 15178, '1.000': 15179, '525': 15180, '728-9559': 15181, 'unidentified': 15182, 'collides': 15183, 'Fifteen': 15184, 'suburban': 15185, 'street-level': 15186, 'ambulance': 15187, 'Transport': 15188, 'pylons': 15189, 'a.m': 15190, 'derailed': 15191, 'rear': 15192, 'overturned': 15193, 'spilling': 15194, 'careered': 15195, 'Bell': 15196, 'Station': 15197, 'Remarkably': 15198, 'nasty': 15199, 'gunman': 15200, 'AUCKLAND': 15201, '1996-08-27': 15202, 'hunted': 15203, 'Shore': 15204, 'Sergeant': 15205, 'Pearson': 15206, 'Fagan': 15207, 'telephoned': 15208, 'distraught': 15209, 'cooperating': 15210, 'Northcote': 15211, 'sheds': 15212, '16-year-old': 15213, 'onlookers': 15214, 'disarm': 15215, '473-4746': 15216, 'fugitive': 15217, 'gun': 15218, 'unsuccessful': 15219, 'disturbed': 15220, 'SIMEX': 15221, 'Brent': 15222, 'IPE': 15223, 'SINGAPORE': 15224, 'U.K.': 15225, 'keeps': 15226, 'Petroleum': 15227, 'Contracts': 15228, 'mutually': 15229, 'contracts': 15230, '+65': 15231, '870': 15232, '3081': 15233, 'slides': 15234, '3.31': 15235, 'S$': 15236, '5.85': 15237, '0120': 15238, '357,000': 15239, 'topped': 15240, 'soaring': 15241, '1.55': 15242, '6.05': 15243, 'takeover': 15244, '8703080': 15245, 'operators': 15246, 'Spot': 15247, '2,342.0': 15248, '42.5': 15249, '0915': 15250, 'ample': 15251, 'liquidity': 15252, '2,342.00': 15253, '42.45': 15254, '2,341.5': 15255, '42.0': 15256, 'respectively': 15257, 'deposed': 15258, 'PDI': 15259, 'sued': 15260, 'ousting': 15261, 'adjourned': 15262, 'out-of-court': 15263, 'lawyers': 15264, 'discussing': 15265, 'diminish': 15266, '0.45': 15267, 'tom': 15268, '18.0': 15269, '18.5': 15270, '34.0': 15271, '35.0': 15272, '52.75': 15273, '53.50': 15274, '107.0': 15275, '2,337': 15276, '2,455': 15277, 'Arlen': 15278, 'Specter': 15279, 'resign': 15280, 'Riyadh': 15281, 'Oman': 15282, 'Dhahran': 15283, 'airmen': 15284, 'Crown': 15285, 'Abdullah': 15286, 'Jeddah': 15287, 'shake-up': 15288, 'Pentagon': 15289, 'Pennsylvania': 15290, 'Director': 15291, 'Freeh': 15292, 'entirely': 15293, 'Hijacked': 15294, 'LARNACA': 15295, 'Airways': 15296, 'refuelling': 15297, 'Airbus': 15298, 'refuelled': 15299, 'surrender': 15300, 'asylum': 15301, 'dozens': 15302, 'U.S.-brokered': 15303, 'cooperate': 15304, 'offensive': 15305, 'dividing': 15306, 'warring': 15307, 'Salahuddin': 15308, 'Rawandouz': 15309, 'indiscriminately': 15310, 'Dayana': 15311, 'priest': 15312, 'protected': 15313, 'Amr': 15314, 'Moussa': 15315, 'consequences': 15316, 'ransacks': 15317, 'Bedouin': 15318, 'AL-MUNTAR': 15319, 'ransacked': 15320, 'encampment': 15321, 'expel': 15322, 'expansion': 15323, 'necklace': 15324, 'daughter-in-law': 15325, 'rummaging': 15326, 'luggage': 15327, 'destroying': 15328, 'shacks': 15329, 'barns': 15330, 'jeeps': 15331, 'shack': 15332, 'Amina': 15333, 'miracle': 15334, 'Bedouins': 15335, 'encamped': 15336, 'zone': 15337, 'Lerner': 15338, 'pursuing': 15339, 'desolate': 15340, 'Dead': 15341, 'metals': 15342, 'premiums': 15343, 'COMEX': 15344, 'Premium': 15345, 'works': 15346, 'Aluminum': 15347, 'grade': 15348, '3.25-3.75': 15349, 'A7E': 15350, 'A0': 15351, 'nominal': 15352, '2.00-2.25': 15353, 'Zinc': 15354, 'SHG': 15355, '5.50-6.00': 15356, 'Lead': 15357, '3.50-4.00': 15358, 'Tin': 15359, 'Grade': 15360, '6.5-8.5': 15361, 'ppm': 15362, '9.0-10.5': 15363, 'Nickel': 15364, 'melting': 15365, '9.0-12.0': 15366, 'Copper': 15367, 'cathode': 15368, '2.50-3.0': 15369, 'alloy': 15370, 'A380': 15371, 'Midwest': 15372, '65-66': 15373, 'Cast': 15374, 'Turnings': 15375, 'Mixed': 15376, 'low-copper': 15377, 'clips': 15378, 'No2': 15379, 'Refined': 15380, 'No1': 15381, 'Bare': 15382, 'Bright': 15383, 'Burnt': 15384, 'batteries': 15385, '6.0': 15386, 'Producer': 15387, 'transaction': 15388, 'Alcan': 15389, 'aluminum': 15390, 'P1020': 15391, 'ingot': 15392, 'extrusion': 15393, 'billet': 15394, 'Noranda': 15395, 'date:August': 15396, 'RSR': 15397, 'pure': 15398, 'Doe': 15399, 'Run': 15400, 'ASARCO': 15401, '859': 15402, '1646': 15403, 'FORT': 15404, 'LAUDERDALE': 15405, 'Fla.': 15406, 'backyard': 15407, 'nervous': 15408, 'teasing': 15409, 'Parkway': 15410, 'younger': 15411, 'brothers': 15412, 'bedtime': 15413, 'tree': 15414, 'paramedics': 15415, 'Broward': 15416, 'Sheriff': 15417, 'stool': 15418, 'flashlight': 15419, 'CBOT': 15420, 'bounce': 15421, 'oversold': 15422, 'remains': 15423, '450': 15424, 'cwt': 15425, '10.28': 15426, '312-408-8721': 15427, 'Talbott': 15428, 'Strobe': 15429, 'Ottawa': 15430, 'second-ranking': 15431, 'Georgy': 15432, 'Mamedov': 15433, 'pattern': 15434, 'consultations': 15435, 'calendar': 15436, 'fairly': 15437, 'Haiti': 15438, 'hog': 15439, '1.50': 15440, 'sparked': 15441, 'packers': 15442, 'Iowa': 15443, '59.50': 15444, '60.00': 15445, 'Illinois': 15446, 'matching': 15447, '59.00': 15448, '57.50': 15449, '58.00': 15450, 'hogs': 15451, 'Attempts': 15452, 'marketings': 15453, 'Producers': 15454, 'ship': 15455, 'Demand': 15456, 'prepares': 15457, 'Janis': 15458, '312-983-7347--': 15459, 'Gore': 15460, 'presents': 15461, 'Posner': 15462, 'mild-mannered': 15463, 'meek': 15464, 'Al': 15465, 'front-line': 15466, 'Newt': 15467, 'Gingrich': 15468, 'Convention': 15469, 'renominate': 15470, 'Crowds': 15471, 'anxiously': 15472, 'thrusting': 15473, 'grip': 15474, 'scream': 15475, 'wishful': 15476, 're-election': 15477, '15-hour': 15478, 'marshal': 15479, 'pro-Israel': 15480, 'stiff': 15481, 'transformed': 15482, 'energetic': 15483, 'gesturing': 15484, 'pol': 15485, 'ripped': 15486, 'favorite': 15487, 'foil': 15488, 'roaring': 15489, 'labor': 15490, 'personifaction': 15491, 'evil': 15492, 'mentioning': 15493, 'Housing': 15494, 'Kemp': 15495, 'ignorance': 15496, 'audacity': 15497, 'two-headed': 15498, 'monster': 15499, 'whoops': 15500, 'downtown': 15501, '48-year-old': 15502, 'taste': 15503, 'coalition': 15504, 'Noting': 15505, 'justice': 15506, 'nominations': 15507, 'painted': 15508, 'horrors': 15509, 'Republicans': 15510, 'liberties': 15511, 'withering': 15512, 'vine': 15513, 'Education': 15514, 'polluters': 15515, 'productive': 15516, 'vision': 15517, 'lifts': 15518, 'builds': 15519, 're-elect': 15520, 'deja-voodoo': 15521, 'economics': 15522, 'warmed-over': 15523, 'ditch': 15524, 'ridiculed': 15525, 'defense': 15526, 'praised': 15527, 'courage': 15528, 'regulations': 15529, 'dairy': 15530, 'comparison': 15531, 'tolerate': 15532, 'milk': 15533, 'aloft': 15534, 'inflated': 15535, 'vetoing': 15536, 'repeal': 15537, 'Act': 15538, 'criticized': 15539, 'slashing': 15540, 'starker': 15541, 'stakes': 15542, 'Actor': 15543, 'Reeve': 15544, 'mix': 15545, 'adversity': 15546, 'latter': 15547, 'advocate': 15548, 'politicians': 15549, 'Rep': 15550, 'Gephardt': 15551, 'Daschle': 15552, 'Here': 15553, 'thumbnail': 15554, 'profiles': 15555, 'speakers': 15556, 'Reagan': 15557, 'passage': 15558, 'Handgun': 15559, 'campaigned': 15560, 'nonstop': 15561, '1981': 15562, 'requires': 15563, 'mandatory': 15564, 'five-day': 15565, 'handguns': 15566, 'mandates': 15567, 'background': 15568, 'checks': 15569, 'would-be': 15570, 'purchasers': 15571, 'Hinckley': 15572, 'brain': 15573, 'congressmen': 15574, 'comic': 15575, 'hero': 15576, 'Superman': 15577, 'movies': 15578, 'heroics': 15579, 'accomplished': 15580, 'horses': 15581, 'shattered': 15582, 'neck': 15583, 'vertebrae': 15584, 'horse': 15585, 'equestrian': 15586, 'Culpepper': 15587, 'paralyzed': 15588, 'extensive': 15589, 'fuse': 15590, 'spine': 15591, 'semi-upright': 15592, 'classically': 15593, 'prototypical': 15594, 'handsome': 15595, 'performed': 15596, 'soap': 15597, 'operas': 15598, 'plucked': 15599, 'sequels': 15600, 'Mr': 15601, 'ambitions': 15602, 'milkman': 15603, 'consummate': 15604, 'congressional': 15605, 'insider': 15606, 'sufficiently': 15607, 'legislature': 15608, 'often-unruly': 15609, 'Republican-led': 15610, 'Republican-written': 15611, 'advocated': 15612, 'deficits': 15613, 'abortion': 15614, 'red-haired': 15615, 'square-jawed': 15616, 'fiery': 15617, 'orator': 15618, 'nomination': 15619, 'recreated': 15620, 'firebreathing': 15621, 'reformer': 15622, 'Dakota': 15623, 'surprisingly': 15624, 'presented': 15625, 'moderate': 15626, 'Concern': 15627, 'steamrollered': 15628, 'vastly': 15629, 'dispelled': 15630, 'outmaneuvering': 15631, 'scrapping': 15632, 'gas': 15633, 'prairie': 15634, 'legislation': 15635, 'protecting': 15636, 'compensating': 15637, 'sickened': 15638, 'Agent': 15639, 'Orange': 15640, 'defoliant': 15641, 'spraying': 15642, 'Vietnam': 15643, 'healthcare': 15644, 'water-carrier': 15645, 'Republican-initiated': 15646, 'adult': 15647, 'Force': 15648, 'adoptive': 15649, 'DALLAS': 15650, 'Dallas': 15651, 'McCullough': 15652, 'gunshot': 15653, 'Oklahoma': 15654, 'shotgun': 15655, 'handgun': 15656, 'arguments': 15657, 'recomposed': 15658, 'KARACHI': 15659, 'Karachi': 15660, 'KSE': 15661, 'KSE-100': 15662, 'capitalisation': 15663, '82.3': 15664, '79.9': 15665, '9221-5685192': 15666, 'NWE': 15667, 'dulls': 15668, 'becalmed': 15669, 'Repsol': 15670, 'Puertollano': 15671, 'refinery': 15672, 'functioning': 15673, 'Manuel': 15674, 'Prieto': 15675, 'Gasoline': 15676, 'notionally': 15677, 'sagging': 15678, 'NYMEX': 15679, 'arbitrage': 15680, 'Eurograde': 15681, 'barges': 15682, '207': 15683, 'fob': 15684, 'ARA': 15685, 'Amsterdam-Rotterdam': 15686, 'sentiment': 15687, 'Outright': 15688, 'heating': 15689, 'Oil': 15690, '400,000': 15691, '0-50': 15692, 'bearish': 15693, 'listless': 15694, 'bids': 15695, 'scarce': 15696, 'Shaxson': 15697, '8167': 15698, 'Prairies': 15699, 'frost': 15700, 'WINNIPEG': 15701, 'anywhere': 15702, 'grainbelt': 15703, 'Environment': 15704, 'Apparently': 15705, 'Alberta': 15706, 'meteorologist': 15707, 'Gerald': 15708, 'Machnee': 15709, 'Sprague': 15710, 'Manitoba': 15711, '39.2': 15712, '2.0': 15713, '5.0': 15714, 'windspeed': 15715, 'sky': 15716, 'moisture': 15717, 'Freezing': 15718, '32.0': 15719, 'Battleford': 15720, 'Sask': 15721, '41.0': 15722, 'Grande': 15723, 'Prairie': 15724, 'Alta': 15725, '44.6': 15726, 'proponents': 15727, 'moon': 15728, '12.0': 15729, '30.0': 15730, 'Gras': 15731, '204': 15732, '947': 15733, '3548': 15734, 'Brush': 15735, 'beryllium': 15736, 'lawsuits': 15737, 'producer': 15738, 'pro-active': 15739, 'workplace': 15740, 'ailment': 15741, 'affects': 15742, 'immune': 15743, 'susceptible': 15744, 'remaining': 15745, 'suits': 15746, 'liability': 15747, 'typically': 15748, 'covered': 15749, 'Timothy': 15750, 'Reid': 15751, 'filings': 15752, 'Beryllium': 15753, '1990-95': 15754, 'vigorously': 15755, '18-7/8': 15756, '216-579-0077': 15757, 'Salomon': 15758, 'refiner': 15759, 'Q3': 15760, 'Ting': 15761, 'refiners': 15762, 'refining': 15763, 'margins': 15764, 'third-quarter': 15765, 'Diamond': 15766, 'Shamrock': 15767, '0.38': 15768, '0.73': 15769, 'versus': 15770, '0.63': 15771, '0.85': 15772, 'Tosco': 15773, '0.95': 15774, '1.03': 15775, '0.94': 15776, '0.46': 15777, '0.33': 15778, 'Valero': 15779, 'Energy': 15780, '0.27': 15781, 'PRESALE': 15782, 'Marion': 15783, '3,250,000': 15784, '09/04/96': 15785, 'NYC': 15786, 'Time': 15787, '1200': 15788, 'CUSIP': 15789, '569399': 15790, 'ISSUER': 15791, 'WV': 15792, 'STAT:Exempt-ULT': 15793, 'M': 15794, 'SP': 15795, 'NA': 15796, 'BOOK': 15797, 'ENTRY': 15798, 'Y': 15799, 'ENHANCEMENTS': 15800, 'None': 15801, 'BANK': 15802, 'QUAL': 15803, 'DTD': 15804, '09/01/96': 15805, 'SURE': 15806, 'DUE': 15807, '5/1/98-02': 15808, 'SR': 15809, 'MGR': 15810, 'CPN': 15811, '05/01/97': 15812, 'CALL': 15813, 'Non-Callable': 15814, 'NIC': 15815, 'DELIVERY': 15816, '9/17/96': 15817, 'approx': 15818, 'ORDERS': 15819, 'PAYING': 15820, 'AGENT': 15821, 'WesBanco': 15822, 'Fairmont': 15823, 'L.O.': 15824, 'Steptoe': 15825, 'Clarksburg': 15826, 'Ferris': 15827, 'Watts': 15828, 'Charleston': 15829, '7,330,000': 15830, 'MBIA': 15831, '3/1/90': 15832, '@': 15833, '6.14900': 15834, '4yrs': 15835, '4mos': 15836, 'Avg': 15837, 'BBI-7.27': 15838, 'Coupon': 15839, 'Yield': 15840, 'Conc': 15841, '575,000': 15842, '610,000': 15843, '650,000': 15844, '685,000': 15845, '730,000': 15846, 'COMPETITIVE': 15847, 'PRE-SALE': 15848, 'CONTRIBUTED': 15849, 'J.J.': 15850, 'KENNY': 15851, 'K-SHEETS': 15852, 'BALANCE': 15853, 'refunding': 15854, '290,000': 15855, 'STATE': 15856, 'OHIO': 15857, 'RE': 15858, '70,375,000': 15859, 'BUILDING': 15860, 'AUTHORITY': 15861, 'FACILITIES': 15862, 'REFUNDING': 15863, 'REPRICING': 15864, 'ACCOUNT': 15865, '9,215,000.00': 15866, 'OCASEK': 15867, 'GOVERNMENT': 15868, 'OFFICE': 15869, 'A1': 15870, 'AA-': 15871, 'FITCH': 15872, 'CONFIRMED': 15873, 'Delivery': 15874, '08/29/1996': 15875, 'Maturity': 15876, 'List': 15877, '10/01': 15878, '1998C': 15879, '125M': 15880, '4.20': 15881, '6,045,000.00': 15882, 'VERN': 15883, 'RIFFE': 15884, 'CENTER': 15885, '1998D': 15886, '165M': 15887, '290M': 15888, 'A.G.': 15889, 'Sons': 15890, 'Banc': 15891, 'S.B.K-': 15892, 'Investment': 15893, 'Seasongood': 15894, 'Mayer': 15895, 'CHILLICOTHE': 15896, 'shielded': 15897, 'whistlestop': 15898, 'rode': 15899, 'rails': 15900, 'ropelines': 15901, 'shaking': 15902, 'excited': 15903, 'Hillary': 15904, 'Rodham': 15905, 'Huntington': 15906, 'rigorous': 15907, 'Sidwell': 15908, 'Friends': 15909, 'renominated': 15910, 'lady': 15911, 'interested': 15912, 'drifted': 15913, 'depressed': 15914, 'AEX': 15915, '4.54': 15916, '556.19': 15917, 'Stocks': 15918, 'topping': 15919, '1.90': 15920, '58.70': 15921, 'IHC': 15922, 'Caland': 15923, '2.40': 15924, '80.70': 15925, '34.9': 15926, '36.6': 15927, '37.5': 15928, '47.2': 15929, 'ex-dividend': 15930, '0.60': 15931, '52.90': 15932, 'Nutricia': 15933, 'shrugged': 15934, 'ex-div': 15935, 'soar': 15936, '4.10': 15937, '214.40': 15938, '18.40': 15939, '210.00': 15940, 'Engineering': 15941, 'Stork': 15942, 'follow-through': 15943, 'Fokker': 15944, 'short-lived': 15945, '51.00': 15946, 'Tapie': 15947, 'Claude': 15948, 'Lelouche': 15949, 'stars': 15950, 'Philippe': 15951, 'Seguin': 15952, 'resigning': 15953, 'eject': 15954, 'bankrupt': 15955, 'thus': 15956, 'ineligible': 15957, 'blizzard': 15958, 'now-destroyed': 15959, 'starring': 15960, 'Homme': 15961, 'femmes': 15962, 'mode': 15963, \"d'emploi\": 15964, 'instructions': 15965, 'power-hungry': 15966, 'cruel': 15967, 'comedy': 15968, 'dearly': 15969, 'mixing': 15970, 'careers': 15971, 'artist': 15972, 'Toubon': 15973, 'ejecting': 15974, 'stripping': 15975, 'procedure': 15976, 'reconvene': 15977, 'suspend': 15978, 'judgement': 15979, 'immunity': 15980, 'courts': 15981, 'rigging': 15982, 'appealing': 15983, 'drains': 15984, 'Ffr': 15985, 'drained': 15986, 'francs': 15987, 'securities': 15988, 'repurchase': 15989, 'allocate': 15990, '44.3': 15991, '48.2': 15992, '13.4': 15993, 'bidders': 15994, 'collateral': 15995, 'satisfying': 15996, '3.4': 15997, 'allotted': 15998, '30.9': 15999, 'RABOBANK': 16000, 'RABN.CN': 16001, 'SEES': 16002, 'H2': 16003, 'NET': 16004, 'GROWTH': 16005, 'UNDER': 16006, 'co-operative': 16007, 'Rabobank': 16008, 'BA': 16009, 'Herman': 16010, 'Wijffels': 16011, '853': 16012, '21.5': 16013, '702': 16014, 'depend': 16015, 'easing': 16016, 'underwriting': 16017, 'single-digits': 16018, '1.43': 16019, 'quantify': 16020, 'Garry': 16021, 'FRANCE': 16022, 'LE': 16023, 'MONDE': 16024, 'Ipsos': 16025, 'sympathises': 16026, 'permits': 16027, 'cold-hearted': 16028, 'SNCF': 16029, 'renegotiation': 16030, 'bailout': 16031, 'upturn': 16032, 'ATRIA': 16033, 'foodstuffs': 16034, 'Atria': 16035, 'Oy': 16036, 'year-half': 16037, 'January-June': 16038, 'appropriations': 16039, 'BRIGHT-BELGIANS': 16040, 'SPEED': 16041, 'Spa-Francorchamps': 16042, 'speeding': 16043, 'epidemic': 16044, 'Belga': 16045, 'checked': 16046, 'amd': 16047, 'booked': 16048, 'm.p.h.': 16049, 'no-confidence': 16050, 'debate': 16051, 'Banharn': 16052, 'Silpa-archa': 16053, 'lacking': 16054, 'ethical': 16055, 'alleges': 16056, 'corrupt': 16057, 'accusations': 16058, 'convenient': 16059, 'accusation': 16060, '13-month-old': 16061, 'six-party': 16062, '209': 16063, 'seats': 16064, '391-seat': 16065, 'infighting': 16066, 'Chart': 16067, 'fix': 16068, 'Fontaine': 16069, '6mth': 16070, 'PREVIOUS': 16071, '3.17': 16072, '231': 16073, 'fashion': 16074, 'wigs': 16075, 'Manila': 16076, 'coconut': 16077, 'Coconut': 16078, 'Associations': 16079, 'Philippines': 16080, 'cif': 16081, 'Sellers': 16082, 'Prev': 16083, 'JulAug': 16084, '775': 16085, '787.50': 16086, 'unq': 16087, 'AugSep': 16088, '752.50': 16089, '758.75': 16090, 'SepOct': 16091, '733.75': 16092, '743.50': 16093, 'OctNov': 16094, '740': 16095, 'NovDec': 16096, '732.50': 16097, 'Aronkasei': 16098, 'Nomura': 16099, 'downgraded': 16100, 'three-grade': 16101, 'institute': 16102, 'assigns': 16103, 'direction': 16104, '225-share': 16105, 'LA': 16106, 'PRESSE': 16107, 'langage': 16108, 'primary': 16109, 'TEMPS': 16110, 'Beja': 16111, 'Ekeus': 16112, 'UNSCOM': 16113, 'oficials': 16114, 'Tareq': 16115, 'Aziz': 16116, 'inspectors': 16117, 'shuttled': 16118, 'detection': 16119, 'Disarming': 16120, 'destruction': 16121, 'prerequisite': 16122, 'crippling': 16123, 'invading': 16124, 'ticket': 16125, 'altogether': 16126, 'weaken': 16127, 'Harb': 16128, 'Omar': 16129, 'Karame': 16130, 'backwards': 16131, 'Fears': 16132, 'redistribution': 16133, 'locations': 16134, 'occupied': 16135, 'Prices': 16136, 'alimentary': 16137, 'splitting': 16138, 'Syrian-Lebanese': 16139, 'Maltese': 16140, 'Visitors': 16141, 'cheating': 16142, 'Tourists': 16143, 'interviewed': 16144, 'complain': 16145, 'over-charging': 16146, 'IN-NAZZJON': 16147, 'discipline': 16148, '365,000': 16149, '195,000': 16150, '80,000': 16151, 'congested': 16152, 'L-ORIZZONT': 16153, 'Alfred': 16154, 'Sant': 16155, 'VAT': 16156, 'Tamils': 16157, 'demonstrate': 16158, 'demonstrated': 16159, 'Nadarajah': 16160, 'Muralidaran': 16161, 'Swiss-based': 16162, 'Tiger': 16163, 'extortion': 16164, 'LTTE': 16165, 'FOCUS': 16166, 'Eurobourses': 16167, 'recovers': 16168, 'Santorelli': 16169, 'bourses': 16170, 'clawing': 16171, 'unsteady': 16172, 'uncertainty': 16173, 'monetary': 16174, 'Tankan': 16175, 'three-day': 16176, '0.3': 16177, 'bargain-hunters': 16178, 'FTSE': 16179, 'patchy': 16180, 'culminating': 16181, '3,911': 16182, 'fuelled': 16183, 'unsettled': 16184, 'stronger-than-expected': 16185, 'pulling': 16186, 'Treasuries': 16187, 'Shortly': 16188, 'relinquished': 16189, 'doldrum': 16190, 'Ackerman': 16191, 'strategist': 16192, 'Fahnestock': 16193, 'Consequently': 16194, 'rapid': 16195, 'swings': 16196, 'Floor': 16197, 'computerised': 16198, 'IBIS': 16199, '0.4': 16200, 'chemical': 16201, 'fundamentals': 16202, 'fantasy': 16203, 'unease': 16204, 'franc': 16205, 'Bond': 16206, '3.4210': 16207, 'squeezed': 16208, 'jitters': 16209, 'Besides': 16210, 'malaise': 16211, 'regain': 16212, 'evaporate': 16213, '0.5': 16214, 'pressured': 16215, 'currencies': 16216, 'EMU': 16217, 'CURRENCIES': 16218, '1.4788': 16219, '107.74': 16220, '1.4789': 16221, '107.55': 16222, 'STOCK': 16223, 'Times-Stock': 16224, '3,905.7': 16225, '2.43': 16226, '2,017.99': 16227, '30-share': 16228, 'DAX': 16229, '6.48': 16230, '2,558.84': 16231, 'PRECIOUS': 16232, 'METALS': 16233, '388.55': 16234, '388.75': 16235, 'Silver': 16236, '5.24': 16237, 'STANSTED': 16238, 'Iraqis': 16239, 'diverted': 16240, 'Stansted': 16241, 'British-based': 16242, 'Sadiki': 16243, 'trace': 16244, 'contacted': 16245, 'north-east': 16246, 'explosives': 16247, 'batches': 16248, 'Jordanians': 16249, 'Saudis': 16250, 'Later': 16251, 'Eco': 16252, 'builders': 16253, 'Edna': 16254, 'Fernandes': 16255, 'Ecological': 16256, 'warfare': 16257, 'corporates': 16258, 'hurts': 16259, 'Described': 16260, 'eco-terrorism': 16261, 'Famous': 16262, 'Tarmac': 16263, 'Costain': 16264, 'ARC': 16265, 'conglomerate': 16266, 'targeted': 16267, 'Activist': 16268, 'harmless': 16269, 'ragbag': 16270, 'hippies': 16271, 'Harding': 16272, 'aggregates': 16273, 'mobile': 16274, 'phones': 16275, 'communicate': 16276, 'gather': 16277, 'demos': 16278, 'protestor': 16279, 'codename': 16280, 'Steady': 16281, 'full-scale': 16282, 'emphasise': 16283, 'terror': 16284, 'Newbury': 16285, 'bypass': 16286, 'intimidation': 16287, 'picketing': 16288, 'Tactics': 16289, 'underground': 16290, 'cryptic': 16291, 'Elves': 16292, 'leaflets': 16293, 'larger': 16294, 'activist': 16295, 'Earth': 16296, 'Land': 16297, 'Ours': 16298, 'Alarm': 16299, 'Alert': 16300, 'M3': 16301, 'Twyford': 16302, 'Down': 16303, 'campaigning': 16304, 'broader': 16305, 'stopping': 16306, 'out-of-town': 16307, 'pollution': 16308, 'road-building': 16309, 'contributed': 16310, 'primarily': 16311, 'ecological': 16312, 'Construction': 16313, 'tendering': 16314, 'realise': 16315, 'environmental': 16316, '3-4': 16317, 'forms': 16318, 'Tangible': 16319, 'intangible': 16320, 'publicity': 16321, 'protesting': 16322, 'tales': 16323, 'tenders': 16324, 'contractors': 16325, 'suppliers': 16326, 'quarries': 16327, 'supplier': 16328, 'protestors': 16329, 'invade': 16330, 'Plus': 16331, 'knock-on': 16332, 'investement': 16333, 'UBS': 16334, 'phenomenon': 16335, 'evaluates': 16336, 'methods': 16337, 'involve': 16338, 'wide': 16339, 'razor-thin': 16340, 'overcapacity': 16341, 'stagnant': 16342, 'tale': 16343, 'woe': 16344, 'Carnival': 16345, 'spirits': 16346, 'Notting': 16347, 'revellers': 16348, 'singing': 16349, 'dancing': 16350, 'stabbings': 16351, 'ugly': 16352, 'scenes': 16353, 'scar': 16354, 'festival': 16355, 'festivities': 16356, 'good-natured': 16357, '1976': 16358, 'carnival': 16359, 'darker': 16360, 'slowly': 16361, 'recovering': 16362, 'Shopkeepers': 16363, 'windows': 16364, '248': 16365, 'ANNEX': 16366, 'STATEMENT': 16367, 'COUNCIL': 16368, 'REASONS': 16369, '2.9': 16370, 'fake': 16371, 'Sudradjat': 16372, 'Djiwandono': 16373, '5.4': 16374, '43-year': 16375, '2,341': 16376, 'DIVIDED': 16377, 'CART': 16378, 'REQUEST': 16379, 'OLAZABAL': 16380, 'NORTHAMPTON': 16381, 'Seve': 16382, 'Ballesteros': 16383, 'divided': 16384, 'Olazabal': 16385, 'motorised': 16386, 'cart': 16387, 'rheumatoid': 16388, 'pairs': 16389, 'decides': 16390, 'Ryder': 16391, 'commitee': 16392, 'unhelpful': 16393, 'precedent': 16394, 'Olly': 16395, 'dispensations': 16396, 'feasible': 16397, 'carts': 16398, 'prohibited': 16399, 'POLAND': 16400, 'TIES': 16401, 'CYPRUS': 16402, 'BELCHATOW': 16403, 'Warzycha': 16404, '46th': 16405, 'Kostas': 16406, 'Malekos': 16407, 'THOMSON': 16408, 'RESIGNS': 16409, 'RAITH': 16410, 'ROVERS': 16411, 'KIRKCALDY': 16412, 'managerial': 16413, 'casualty': 16414, 'resigned': 16415, 'directors': 16416, 'relinquish': 16417, 'Regrettably': 16418, 'accordingly': 16419, 'pride': 16420, 'intact': 16421, 'agreeing': 16422, 'GRIQUALAND': 16423, 'WEST': 16424, 'KIMBERLEY': 16425, 'Griqualand': 16426, '18-18': 16427, '6-10': 16428, 'maltch': 16429, 'Cloete': 16430, 'Wath': 16431, 'Boeta': 16432, 'Wessels': 16433, 'McLeod': 16434, 'Glen': 16435, 'Osborne': 16436, 'BALL': 16437, 'Ball': 16438, 'Halford': 16439, 'endeavours': 16440, 'whilst': 16441, 'Divisionn': 16442, 'Postponed': 16443, 'AVERAGES': 16444, 'three-match': 16445, 'Batting': 16446, 'outs': 16447, '396': 16448, '79.20': 16449, '59.33': 16450, '190': 16451, '113': 16452, '38.00': 16453, 'Nasser': 16454, '37.00': 16455, '32.40': 16456, '159': 16457, '31.80': 16458, '41no': 16459, '25.50': 16460, 'Ealham': 16461, '11.60': 16462, '10no': 16463, '9.75': 16464, '6.00': 16465, 'Caddick': 16466, 'Graeme': 16467, 'Hick': 16468, 'maidens': 16469, '57.2': 16470, '165': 16471, '27.50': 16472, '36.16': 16473, '150.3': 16474, '377': 16475, '37.70': 16476, '42.00': 16477, '47.4': 16478, '62.50': 16479, '69.00': 16480, '81.00': 16481, '61.2': 16482, '221': 16483, '110.50': 16484, '264': 16485, '264.00': 16486, '158': 16487, '79.00': 16488, '141': 16489, '68.80': 16490, '195': 16491, '100no': 16492, '65.00': 16493, '320': 16494, '148': 16495, '64.00': 16496, '60.33': 16497, 'Latif': 16498, '45.00': 16499, '38.50': 16500, '30.00': 16501, '24.50': 16502, 'Shadab': 16503, 'Kabir': 16504, '21.75': 16505, 'Ata-ur-Rehman': 16506, '26.29': 16507, '26.93': 16508, '31.81': 16509, '48.4': 16510, '173': 16511, '34.60': 16512, '71.00': 16513, 'GOOCH': 16514, 'ANOTHER': 16515, 'Opener': 16516, 'underlined': 16517, 'consistency': 16518, 'Keith': 16519, 'Fletcher': 16520, '29,434': 16521, 'selector': 16522, '1,429': 16523, '64.95': 16524, 'No-one': 16525, 'argue': 16526, 'appreciate': 16527, 'ROMANIA': 16528, 'BOSS': 16529, 'BANNED': 16530, 'HEADBUTT': 16531, 'Miron': 16532, 'Cozma': 16533, 'headbutting': 16534, 'bosses': 16535, 'miners': 16536, 'lei': 16537, '3000': 16538, 'Danut': 16539, 'Lupu': 16540, 'Miners': 16541, 'rioted': 16542, 'reformist': 16543, 'Petre': 16544, 'Petrosan': 16545, 'tunnel': 16546, 'skirmish': 16547, 'tall': 16548, 'tallest': 16549, 'towering': 16550, 'cms': 16551, 'SQUASH': 16552, 'squash': 16553, 'Jansher': 16554, 'Pakistnn': 16555, 'Brett': 16556, '14-17': 16557, '13-15': 16558, 'Cairns': 16559, 'Del': 16560, 'Harris': 16561, '7-15': 16562, 'Chaloner': 16563, 'Frenz': 16564, '12-15': 16565, '15-4': 16566, '15-14': 16567, 'Kneipp': 16568, 'Faizy': 16569, 'Mir': 16570, 'Zaman': 16571, 'Gul': 16572, 'Meads': 16573, 'Thoren': 16574, '8-15': 16575, 'EDBERG': 16576, 'EXTENDS': 16577, 'TOPPLES': 16578, 'WIMBLEDON': 16579, 'CHAMP': 16580, 'vintage': 16581, 'Slams': 16582, 'toppling': 16583, 'illustrious': 16584, 'serve-and-volley': 16585, '30-year-old': 16586, 'Opens': 16587, 'retire': 16588, 'gray': 16589, 'volleyed': 16590, 'grace': 16591, 'top-seeded': 16592, 'Jimy': 16593, 'Szymanski': 16594, 'sprained': 16595, 'romp': 16596, 'Pavel': 16597, 'fellow-American': 16598, 'Wiesner': 16599, 'Iva': 16600, 'Majoli': 16601, 'fifth-': 16602, 'sidelines': 16603, 'TUESDAY': 16604, 'Rita': 16605, 'Alexia': 16606, 'Dechaume-Balleret': 16607, 'Ellwood': 16608, 'Mariaan': 16609, 'Swardt': 16610, 'Dominique': 16611, 'Roost': 16612, 'Florencia': 16613, 'Labat': 16614, 'Rinaldi': 16615, 'Stunkel': 16616, 'Angelica': 16617, 'Gavaldon': 16618, 'Paola': 16619, 'Suarez': 16620, 'Marianne': 16621, 'Werdel': 16622, 'Witmeyer': 16623, 'Grossman': 16624, 'Silvia': 16625, 'Farina': 16626, 'Caldwell': 16627, '5-': 16628, 'Adriana': 16629, 'Serra-Zanetti': 16630, 'Wagner': 16631, 'Gigi': 16632, 'Kristie': 16633, 'Boogert': 16634, 'Joannette': 16635, 'Laxmi': 16636, 'Poruri': 16637, 'Filippo': 16638, 'Veglio': 16639, 'Ruud': 16640, 'Jabali': 16641, 'Campana': 16642, '4-': 16643, '17-': 16644, 'Radka': 16645, 'Bobkova': 16646, 'Kschwendt': 16647, 'Kleinova': 16648, 'Annabel': 16649, 'Capriati': 16650, 'Arendt': 16651, 'Cacic': 16652, 'Likhovtseva': 16653, 'Kyoko': 16654, 'Nagatsuka': 16655, '7-': 16656, 'Pam': 16657, 'Shriver': 16658, 'Kimberly': 16659, 'Po': 16660, 'Ruano-Pascual': 16661, 'Tina': 16662, 'Kirzan': 16663, 'Rika': 16664, 'Hiraki': 16665, 'Langrova': 16666, 'Tami': 16667, 'Whitlinger': 16668, 'Cecchini': 16669, 'Francesca': 16670, 'Lubiani': 16671, 'Tamer': 16672, 'Sawy': 16673, 'Retired': 16674, '7-9': 16675, 'Amy': 16676, 'Frazier': 16677, 'Larisa': 16678, 'Neiland': 16679, 'Lisa': 16680, 'Lori': 16681, 'McNeil': 16682, 'Dopfer': 16683, 'Zina': 16684, 'Garrison': 16685, 'Sawamatsu': 16686, 'Rennae': 16687, 'Stubbs': 16688, 'Miriam': 16689, 'Oremans': 16690, 'Zrubakova': 16691, 'Pozzi': 16692, 'Skoch': 16693, '.508': 16694, '.595': 16695, '.526': 16696, '27TH': 16697, '.402': 16698, '.492': 16699, '.434': 16700, 'GIANTS': 16701, 'PHILLIES': 16702, 'VanLandingham': 16703, 'Glenallen': 16704, 'first-inning': 16705, '8-13': 16706, 'concentrated': 16707, 'Andres': 16708, 'Galarraga': 16709, 'extra-base': 16710, 'Swift': 16711, 'rain-shortened': 16712, 'seven-inning': 16713, 'arthroscopic': 16714, 'Benes': 16715, 'Royce': 16716, 'Clayton': 16717, '14-9': 16718, 'one-half': 16719, 'YANKEES': 16720, 'LOSE': 16721, 'wild': 16722, '12-11': 16723, 'Art': 16724, 'Howe': 16725, 'intentionally': 16726, 'lined': 16727, 'elbow': 16728, '20-6': 16729, 'Eldred': 16730, '5-1/3': 16731, 'Miranda': 16732, 'batter': 16733, 'Thome': 16734, 'Nagy': 16735, 'three-hitter': 16736, 'Felipe': 16737, 'Lira': 16738, 'left-field': 16739, '29th': 16740, 'Joe': 16741, '10-game': 16742, 'CHANG': 16743, 'TWO': 16744, 'SEEDS': 16745, 'enjoying': 16746, '186th-ranked': 16747, 'tiebreaker': 16748, 'hottest': 16749, '16-2': 16750, 'hardcourts': 16751, 'Everyone': 16752, 'Hopefully': 16753, 'nerves': 16754, 'Joining': 16755, 'talented': 16756, 'hurried': 16757, 'stomach': 16758, 'Towards': 16759, 'week-old': 16760, 'sushi': 16761, 'combination': 16762, 'undone': 16763, 'revenge': 16764, 'breezy': 16765, 'erratic': 16766, 'untidy': 16767, 'unforced': 16768, 'walloped': 16769, 'woeful': 16770, 'faults': 16771, 'deflating': 16772, 'fault': 16773, 'confusion': 16774, 'awarded': 16775, 'umpire': 16776, 'barely': 16777, 'frittered': 16778, 'risen': 16779, 'stray': 16780, 'spate': 16781, 'withdrawals': 16782, 'MARSEILLE': 16783, 'HOLD': 16784, 'AUXERRE': 16785, 'GOALLESS': 16786, 'lacklustre': 16787, 'Unbeaten': 16788, 'trail': 16789, 'bay': 16790, 'recruits': 16791, 'fluidity': 16792, 'proved': 16793, 'parries': 16794, 'lie': 16795, 'Riedle': 16796, 'Tretschok': 16797, '77th': 16798, 'Decheiver': 16799, '48,800': 16800, 'Balakov': 16801, 'Hagner': 16802, '85th': 16803, '31,139': 16804, 'Schulz': 16805, '24,800': 16806, 'Donkow': 16807, '33,230': 16808, 'summary': 16809, 'Jeffrey': 16810, 'Roest': 16811, 'Korneev': 16812, 'Hansma': 16813, 'ICE': 16814, 'HOCKEY': 16815, 'FINLAND': 16816, 'REPUBLIC': 16817, 'hockey': 16818, 'Ville': 16819, 'Peltonen': 16820, 'Ylonen': 16821, 'Teemu': 16822, 'Selanne': 16823, 'Jyrki': 16824, 'Lumme': 16825, 'Janne': 16826, 'Ojanen': 16827, '23rd': 16828, 'Ruuttu': 16829, 'Radek': 16830, 'Bonk': 16831, 'Reichel': 16832, 'Dopita': 16833, 'NEUCHATEL': 16834, 'APPEAL': 16835, 'CYPRIEN': 16836, 'NINE-MONTH': 16837, 'BAN': 16838, 'Xamax': 16839, 'nine-month': 16840, 'Jean-Pierre': 16841, 'Cyprien': 16842, 'post-match': 16843, '8,400': 16844, 'punches': 16845, 'Claudio': 16846, 'Moura': 16847, 'intervene': 16848, 'succeeded': 16849, 'kneeing': 16850, 'Hegi': 16851, 'elbowed': 16852, '840': 16853, 'Facchinetti': 16854, 'astonished': 16855, 'Gress': 16856, 'shocking': 16857, 'verbally': 16858, 'provoked': 16859, 'punished': 16860, 'scuffle': 16861, 'punch': 16862, 'react': 16863, 'BUGNO': 16864, 'CLEARED': 16865, 'DOPING': 16866, 'Veteran': 16867, 'Gianni': 16868, 'Bugno': 16869, 'doping': 16870, 'testing': 16871, 'testosterone': 16872, 'hormone': 16873, 'subsequent': 16874, 'higher-than-average': 16875, 'naturally': 16876, 'Giro': 16877, \"d'Italia\": 16878, 'stimulant': 16879, 'caffeine': 16880, 'COLONNA': 16881, 'STAGE': 16882, 'NETHERLANDS': 16883, 'HAARLEM': 16884, 'kilometre': 16885, 'Gouda': 16886, 'Haarlem': 16887, 'Federico': 16888, 'Colonna': 16889, 'Mapei': 16890, 'mins': 16891, 'secs': 16892, 'Robbie': 16893, 'McEwen': 16894, 'Jans': 16895, 'Koerts': 16896, 'Palmans': 16897, 'Teutenberg': 16898, 'Postal': 16899, 'Steels': 16900, 'Endrio': 16901, 'Leoni': 16902, 'Aki': 16903, 'Capiot': 16904, 'Collstrop': 16905, 'den': 16906, 'Braber': 16907, 'Neths': 16908, 'Blijlevens': 16909, 'TVM': 16910, 'Wolf': 16911, 'Foreldorado': 16912, '0:04': 16913, '0:06': 16914, 'Corini': 16915, '0:07': 16916, 'Omloop': 16917, 'Motorola': 16918, '0:08': 16919, 'Tristan': 16920, 'Hoffman': 16921, 'Hincapie': 16922, '0:09': 16923, 'Talen': 16924, '0:10': 16925, 'COFINEC': 16926, 'SLIPS': 16927, 'BOURSE': 16928, 'BUT': 16929, 'STRONG': 16930, 'Emese': 16931, 'Bartha': 16932, 'Expectations': 16933, 'Cofinec': 16934, 'S.A.': 16935, 'listing': 16936, 'rebound': 16937, 'Gabor': 16938, 'Sitanyi': 16939, 'London-based': 16940, 'Barings': 16941, 'French-registered': 16942, 'packaging': 16943, 'floated': 16944, 'hovered': 16945, '6,425': 16946, 'forints': 16947, 'Global': 16948, 'Depositary': 16949, 'Receipts': 16950, 'oversubscribed': 16951, 'deadline': 16952, '5,800': 16953, 'one-third': 16954, 'two-fifths': 16955, 'Tamas': 16956, 'Erdei': 16957, 'Budapest-based': 16958, 'ABN-AMRO': 16959, 'Hoare': 16960, 'Govett': 16961, 'macroeconomic': 16962, 'generates': 16963, 'Domestic': 16964, 'Product': 16965, 'plunged': 16966, 'understands': 16967, 'capita': 16968, 'consumption': 16969, 'folding': 16970, 'Krpaco': 16971, 'a.s.': 16972, 'ownership': 16973, 'consolidated': 16974, 'DIRECT': 16975, 'EQUITY': 16976, 'TRADES': 16977, 'PSE': 16978, 'Min': 16979, 'Volume': 16980, 'CZK': 16981, '000': 16982, 'AGROTONZ': 16983, 'TLUMACOV': 16984, '336.47': 16985, '59440': 16986, '19999.777': 16987, 'AVIA': 16988, '290.00': 16989, '700': 16990, '203.000': 16991, 'BARUM': 16992, 'HOLDING': 16993, '171.00': 16994, '14432': 16995, '2467.872': 16996, 'CESKA': 16997, 'SPORITELNA': 16998, '335.00': 16999, '375.00': 17000, '533153': 17001, '198354.941': 17002, 'CKD': 17003, 'PRAHA': 17004, '369.66': 17005, '384.00': 17006, '5565': 17007, '2065.260': 17008, 'EMKAM': 17009, '34684': 17010, '867.100': 17011, 'KABLO': 17012, 'KLADNO': 17013, '960.00': 17014, '2230': 17015, '2140.800': 17016, 'KOMERCNI': 17017, 'BANKA': 17018, '2320.00': 17019, '2370.00': 17020, '7000': 17021, '16408.700': 17022, 'LECIVA': 17023, '2470.00': 17024, '1360': 17025, '3359.200': 17026, 'METROSTAV': 17027, '3024.95': 17028, '9074.850': 17029, 'MORAV.CHEMIC.': 17030, 'ZAV': 17031, '637.50': 17032, '1626': 17033, '1036.575': 17034, 'OKD': 17035, '111.50': 17036, '112.56': 17037, '95975': 17038, '10752.092': 17039, 'PF': 17040, 'IKS': 17041, 'KB': 17042, 'PLUS': 17043, '156.00': 17044, '6000': 17045, '936.000': 17046, 'RIF': 17047, '900.00': 17048, '5500': 17049, '4950.000': 17050, 'SELIKO': 17051, '4000.00': 17052, '20000.00': 17053, '3565': 17054, '32607.500': 17055, 'SOKOLOVSKA': 17056, 'UHELNA': 17057, '785.00': 17058, '4710.000': 17059, 'SPIF': 17060, 'CESKY': 17061, '339.00': 17062, '340.00': 17063, '7546': 17064, '2562.094': 17065, 'SPT': 17066, 'TELECOM': 17067, '3355.00': 17068, '3404.71': 17069, '10700': 17070, '36337.137': 17071, 'SKODA': 17072, 'PLZEN': 17073, '1045.56': 17074, '1060.00': 17075, '10772': 17076, '11361.330': 17077, 'TABAK': 17078, '6700.00': 17079, '6700.000': 17080, 'TRINECKE': 17081, 'ZELEZARNY': 17082, '630.000': 17083, 'VODNI': 17084, 'STAVBY': 17085, '1915.00': 17086, '3830.000': 17087, 'BELL': 17088, 'slows': 17089, 'after-hours': 17090, 'WorldCom': 17091, 'MFS': 17092, '1-3/4': 17093, '3-8/16': 17094, '41-5/16': 17095, '5,700': 17096, '53,400': 17097, 'Session': 17098, '4,153,800': 17099, 'CBOE': 17100, 'Options': 17101, 'valued': 17102, 'suggest': 17103, 'unusual': 17104, 'certainly': 17105, 'steadily': 17106, 'mid-August': 17107, 'Derivatives': 17108, '312': 17109, '408-8750': 17110, 'E-mail': 17111, 'derivatives@reuters.com': 17112, 'Faulding': 17113, 'patent': 17114, 'ELIZABETH': 17115, 'N.J.': 17116, 'Purdue': 17117, 'Frederick': 17118, 'infringement': 17119, 'Purepac': 17120, 'Pharamceutical': 17121, 'Kadian': 17122, 'sustained': 17123, 'morphine': 17124, 'merit': 17125, 'Zeneca': 17126, 'F.H.': 17127, 'Mick': 17128, '36-year-old': 17129, 'first-team': 17130, 'omitted': 17131, '20-man': 17132, 'Kernaghan': 17133, 'Daish': 17134, 'Kelly': 17135, 'Elland': 17136, 'experimental': 17137, 'Shay': 17138, 'Given': 17139, 'Denis': 17140, 'Irwin': 17141, 'Babb': 17142, 'Kenna': 17143, 'Breen': 17144, 'Harte': 17145, 'Cunningham': 17146, 'Staunton': 17147, 'Townsend': 17148, 'Houghton': 17149, 'Gareth': 17150, 'Farrelly': 17151, 'McLoughlin': 17152, 'McAteer': 17153, 'Cascarino': 17154, 'Niall': 17155, 'Quinn': 17156, '+6613377': 17157, 'killer': 17158, 'murders': 17159, 'Eugene': 17160, 'colonel': 17161, 'commanded': 17162, 'wiped': 17163, 'Smerdon': 17164, 'nuns': 17165, 'Garang': 17166, 'Nairobi': 17167, 'SPLA': 17168, 'urgently': 17169, 'Nuour': 17170, 'Marial': 17171, 'Mapourdit': 17172, 'hindering': 17173, 'recruitment': 17174, 'interpretation': 17175, 'compound': 17176, 'Sisters': 17177, 'Moira': 17178, 'Batchelor': 17179, 'Father': 17180, 'Barton': 17181, 'Riel': 17182, 'Sister': 17183, 'Maureen': 17184, 'Carey': 17185, 'Brother': 17186, 'Raniero': 17187, 'Iacomella': 17188, 'captives': 17189, 'Kenyan': 17190, 'attributed': 17191, 'detentions': 17192, 'learned': 17193, 'Monsignor': 17194, 'Caesar': 17195, 'Mazzolari': 17196, 'apostolic': 17197, 'diocese': 17198, 'Rumbek': 17199, 'isolation': 17200, 'looted': 17201, 'animist': 17202, 'Arabised': 17203, 'postpones': 17204, 'pressed': 17205, 'register': 17206, 'well-organised': 17207, 'coerce': 17208, 'inform': 17209, 'districts': 17210, 'conquered': 17211, 'ethnically': 17212, 'cleansed': 17213, 'hinted': 17214, 'flagrant': 17215, 'fo': 17216, 'administer': 17217, 'waits': 17218, 'Kuznets': 17219, 'finalising': 17220, 'arranged': 17221, 'Vyacheslav': 17222, 'Tikhomirov': 17223, 'Novye': 17224, 'Atagi': 17225, 'materialise': 17226, 'rebuffed': 17227, 'suggestion': 17228, 'band': 17229, '10.45': 17230, '0645': 17231, 'Guldimann': 17232, 'Tikhomirov-Maskhadov': 17233, '20-month-old': 17234, 'falter': 17235, 'RIA': 17236, 'indicated': 17237, 'agencies': 17238, 'representatives': 17239, 'hinting': 17240, 'protege': 17241, 'lesson': 17242, 'profile': 17243, 'reelected': 17244, 'prompting': 17245, 'rumoured': 17246, 'weakening': 17247, 'Aides': 17248, 'insisting': 17249, 'apart': 17250, 'spelled': 17251, 'LJUBLJANA': 17252, 'intensify': 17253, 'reinforced': 17254, 'determination': 17255, 'Aleksander': 17256, 'Kwasniewski': 17257, 'Kucan': 17258, 'strengthening': 17259, 'bloc': 17260, 'Area': 17261, 'comprises': 17262, '142.3': 17263, '118.8': 17264, 'Janez': 17265, 'Drnovsek': 17266, 'Chamber': 17267, 'Economy': 17268, 'Nationalists': 17269, 'Iliescu': 17270, 'Junior': 17271, 'impeachment': 17272, 'Ion': 17273, 'PUNR': 17274, 'electioneering': 17275, 'PDSR': 17276, 'Nastase': 17277, 'unexpectedly': 17278, 'admission': 17279, 'vexed': 17280, 'ministries': 17281, 'agriculture': 17282, 'Gheorghe': 17283, 'Funar': 17284, 'impeached': 17285, 'treason': 17286, 'compromising': 17287, 'oust': 17288, 'succeed': 17289, 'nationalists': 17290, 'oppose': 17291, 'Presidential': 17292, 'Estonian': 17293, 'MPS': 17294, 'electing': 17295, 'Belinda': 17296, 'Goldsmith': 17297, 'TALLINN': 17298, 'Lennart': 17299, 'Meri': 17300, 'pushing': 17301, 'oversaw': 17302, 'statehood': 17303, 'arch-rival': 17304, 'Ruutel': 17305, 'votes': 17306, '101-member': 17307, 'garnered': 17308, 'reconvened': 17309, 'ceded': 17310, 'college': 17311, 'favoured': 17312, 'Reform': 17313, 'Heiki': 17314, 'Kranich': 17315, 'constitution': 17316, 'smoothe': 17317, 'periods': 17318, 'parliamentarians': 17319, 'leftist-led': 17320, 'inched': 17321, 'Support': 17322, 'constant': 17323, 'convene': 17324, '101': 17325, 'MPs': 17326, '273': 17327, 'emerges': 17328, 'garner': 17329, 'Enn': 17330, 'Markvart': 17331, 'invalid': 17332, 'abstentions': 17333, 'convened': 17334, 'abusing': 17335, 'shameful': 17336, 'acts': 17337, 'Adnan': 17338, 'Xhelili': 17339, 'Wiltshire': 17340, 'Adriatic': 17341, 'Durres': 17342, 'divorced': 17343, 'befriended': 17344, 'reminded': 17345, 'heterosexual': 17346, 'homosexual': 17347, 'begging': 17348, 'impoverished': 17349, 'Incumbent': 17350, '1300': 17351, 'popularity': 17352, 'Laca': 17353, 'sensational': 17354, 'difficulty': 17355, 'filmed': 17356, 'Rudolf': 17357, 'Gajdos': 17358, 'Interpol': 17359, 'Eva': 17360, 'Boudova': 17361, 'interrogated': 17362, 'pornographic': 17363, 'films': 17364, 'suspicions': 17365, 'rape': 17366, 'detectives': 17367, 'disappearances': 17368, 'serial': 17369, 'Urals': 17370, 'Perm': 17371, 'raped': 17372, 'identify': 17373, 'waited': 17374, 'touches': 17375, 'reminds': 17376, 'Commandments': 17377, 'posters': 17378, 'offices': 17379, 'Quarracino': 17380, 'sermon': 17381, 'cleric': 17382, 'Biblical': 17383, 'commandment': 17384, 'Thou': 17385, 'shalt': 17386, 'free-market': 17387, 'Eletropaulo': 17388, 'SAO': 17389, 'PAULO': 17390, 'Eduardo': 17391, 'Bernini': 17392, 'Sobral': 17393, 'secretariat': 17394, 'Romina': 17395, 'Nicaretta': 17396, '5511': 17397, '232': 17398, '4411': 17399, 'victims': 17400, 'Judicial': 17401, 'Alvarado': 17402, 'Hurte': 17403, 'Sierd': 17404, 'Zylstra': 17405, 'Jetsi': 17406, 'Hendrika': 17407, 'Coers': 17408, 'teak': 17409, 'plantation': 17410, 'Schutte': 17411, 'aspect': 17412, 'note': 17413, 'hand-written': 17414, 'Ebe': 17415, 'Huizinga': 17416, 'Depending': 17417, 'Eve': 17418, 'abductors': 17419, 'harden': 17420, 'CVG': 17421, 'privatization': 17422, 'CARACAS': 17423, 'swell': 17424, 'Corporacion': 17425, 'Venezolana': 17426, 'Guayana': 17427, 'proceeding': 17428, 'Machuca': 17429, 'Sidor': 17430, 'union-based': 17431, 'Radical': 17432, 'Cause': 17433, 'steel-producing': 17434, 'Venalum': 17435, 'Alucasa': 17436, 'Arguing': 17437, '13,000': 17438, 'layoffs': 17439, 'unionized': 17440, 'Lugo': 17441, 'Caracas': 17442, '582': 17443, '834405': 17444, 'drunks': 17445, 'lovebite': 17446, 'bandit': 17447, 'drinkers': 17448, 'lovebites': 17449, 'drunken': 17450, 'stupor': 17451, 'dreaded': 17452, 'chupabolos': 17453, 'drunksucker': 17454, 'preys': 17455, 'Matagalpa': 17456, 'Managua': 17457, 'placing': 17458, 'hickey-like': 17459, 'Nuevo': 17460, 'Diario': 17461, 'Enraged': 17462, 'machismo': 17463, 'so-far': 17464, 'culprit': 17465, 'surrounding': 17466, 'vagrants': 17467, 'slept': 17468, 'gripping': 17469, 'desserts': 17470, 'bolos': 17471, 'drunkards': 17472, 'beautiful': 17473, 'Banespa': 17474, 'prior': 17475, 'O': 17476, 'Globo': 17477, 'liquidated': 17478, 'temporary': 17479, 'restructure': 17480, 'privatized': 17481, 'refinance': 17482, 'Covas': 17483, 'reais': 17484, 'delicate': 17485, 'solved': 17486, 'Bamerindus': 17487, '90-day': 17488, 'Interest': 17489, 'TBC': 17490, 'loan': 17491, 'fourth-largest': 17492, 'troubles': 17493, '55-11-2324411': 17494, 'Havel': 17495, 'Vaclav': 17496, '15-21': 17497, 'Henrique': 17498, 'Cardoso': 17499, 'cities': 17500, 'Manaus': 17501, 'Chancellor': 17502, 'benevolent': 17503, 'Alejandro': 17504, 'Lanusse': 17505, 'dies': 17506, '1971': 17507, '1973': 17508, 'Domingo': 17509, 'Peron': 17510, 'unlike': 17511, 'predecessors': 17512, 'Ongania': 17513, 'Levingston': 17514, 'steered': 17515, 'Peronists': 17516, 'Hector': 17517, 'Campora': 17518, 'Solano': 17519, 'adversories': 17520, 'imprisoned': 17521, '1951': 17522, 'coup': 17523, 'Menendez': 17524, 'gradual': 17525, 'left-wing': 17526, 'activism': 17527, 'culminated': 17528, 'autobiography': 17529, '1918': 17530, 'married': 17531, 'Ileana': 17532, 'Military': 17533, '1935': 17534, 'collision': 17535, 'liner': 17536, 'Liaoning': 17537, 'Tiantan': 17538, 'Dalian': 17539, 'Tianjin': 17540, 'Matahari': 17541, 'revises': 17542, 'Putra': 17543, 'Prima': 17544, 'Hanifah': 17545, 'Komala': 17546, '+6221': 17547, '384-6364': 17548, 'China-bound': 17549, 'Seoul': 17550, 'Ki-choo': 17551, 'Jiaxuan': 17552, 'Atheist': 17553, 'blind': 17554, 'nominally': 17555, 'teachers': 17556, 'remote': 17557, 'attract': 17558, 'nabs': 17559, '10-year-old': 17560, 'immigrant': 17561, 'sneaked': 17562, 'Territories': 17563, 'Jiangsu': 17564, 'passerby': 17565, 'apartment': 17566, 'immigrants': 17567, 'overstayed': 17568, 'mainland': 17569, 'reverts': 17570, 'Hasan': 17571, 'Muratovic': 17572, 'Bosnians': 17573, 'Suleyman': 17574, 'Demirel': 17575, 'Tansu': 17576, 'Ciller': 17577, 'Barkho': 17578, 'organising': 17579, 'humanitarian': 17580, 'Secretary-': 17581, 'Gualtiero': 17582, 'Fulcheri': 17583, 'Zejjari': 17584, 'ascertain': 17585, 'equitable': 17586, 'procured': 17587, 'U.N': 17588, 'employ': 17589, 'Iraq-U.N.': 17590, 'memorandum': 17591, 'understanding': 17592, 'partial': 17593, 'Observation': 17594, 'separating': 17595, '1960': 17596, 'Somalia': 17597, 'DODGE': 17598, 'steers': 17599, 'heifers': 17600, 'Inquiry': 17601, '4,200': 17602, 'contracted': 17603, 'formulated': 17604, 'Confirmed': 17605, '408': 17606, '8720--': 17607, 'Anti-abortion': 17608, 'praises': 17609, 'Democrat': 17610, 'tolerance': 17611, 'Elsner': 17612, 'anti-abortion': 17613, 'pro-abortion': 17614, 'views': 17615, 'Hall': 17616, 'conscience': 17617, 'recognizes': 17618, 'welcomes': 17619, 'divergent': 17620, 'indeed': 17621, 'inclusiveness': 17622, 'organizers': 17623, 'Casey': 17624, 'vehement': 17625, 'intolerance': 17626, 'pro-woman': 17627, 'pro-child': 17628, 'pro-life': 17629, 'deliver': 17630, 'podium': 17631, 'deaf': 17632, 'ears': 17633, 'abortions': 17634, 'dilemma': 17635, 'insert': 17636, 'recognizing': 17637, 'validity': 17638, 'passionate': 17639, 'Kate': 17640, 'Michelman': 17641, 'Abortion': 17642, 'disdain': 17643, 'punishment': 17644, 'Cynthia': 17645, 'McKinney': 17646, 'Bids': 17647, 'Dark': 17648, 'flooded': 17649, 'Montana': 17650, 'bushel': 17651, 'Harvest': 17652, 'crop': 17653, 'noteworty': 17654, 'Durum': 17655, 'jumping': 17656, '14-pct': 17657, 'protein': 17658, 'durum': 17659, 'wheats': 17660, 'Chg': 17661, '5.06': 17662, '.02': 17663, 'unc': 17664, 'Duluth': 17665, '---': 17666, 'NORTH': 17667, 'DAKOTA': 17668, 'Hunter': 17669, '4.46': 17670, 'dn': 17671, '5.00': 17672, 'HRW': 17673, '12pct': 17674, 'Billings': 17675, 'MT': 17676, '4.62': 17677, '.01': 17678, '.10': 17679, 'Rudyard': 17680, 'Point': 17681, '4.41': 17682, 'Portland': 17683, 'OR': 17684, '5.1700': 17685, 'Pendleton': 17686, '4.7300': 17687, 'Coolee': 17688, 'WA': 17689, '5.13': 17690, '4.7000': 17691, 'Waterville': 17692, '5.05': 17693, '4.6200': 17694, 'Wenatchee': 17695, '5.15': 17696, '4.7200': 17697, 'nc=acomparison': 17698, 'na=not': 17699, '312-408-8720': 17700, 'Aa3': 17701, 'VMIG-1': 17702, '08/23/96': 17703, 'Rec': 17704, 'Bd': 17705, 'ref': 17706, 'YMCA': 17707, 'Proj': 17708, 'ser': 17709, 'VMIG': 17710, '3,390,000': 17711, '08/28/96': 17712, 'lauds': 17713, 'troop': 17714, 'welcome': 17715, 'dialogue': 17716, 'Mashadov': 17717, 'single-A': 17718, '08/26/96': 17719, 'OH': 17720, '6,310,000': 17721, 'Stallone': 17722, 'fiancee': 17723, 'Sylvester': 17724, 'Flavin': 17725, 'publicist': 17726, '7-pound': 17727, '4-ounce': 17728, 'Sophia': 17729, 'Bloch': 17730, 'wonderful': 17731, 'Rambo': 17732, 'Copland': 17733, 'Poll': 17734, 'jumps': 17735, 'ABC': 17736, 'challenger': 17737, 'stretching': 17738, 'whistle-stop': 17739, 'Perot': 17740, '47-38': 17741, '1,002': 17742, '824': 17743, 'opting': 17744, '48-43': 17745, 'fulfil': 17746, '26-57': 17747, 'bulk': 17748, 'millfeeds': 17749, 'Immediate': 17750, 'Millfeed': 17751, 'millfeed': 17752, 'High-priced': 17753, 'Flour': 17754, 'mills': 17755, 'mixer': 17756, 'ton': 17757, 'barley': 17758, '140': 17759, 'mixers': 17760, 'closely-watched': 17761, '312-408-8720--': 17762, 'Puerto': 17763, 'Rico': 17764, 'hairy': 17765, 'surgical': 17766, 'dark-brown': 17767, 'patch': 17768, 'skin': 17769, 'Abyss': 17770, 'DeJesus': 17771, 'nevus': 17772, 'journals': 17773, 'Children': 17774, 'ostracism': 17775, 'corrected': 17776, 'gradually': 17777, 'expanding': 17778, 'transplanting': 17779, 'afflicted': 17780, 'Norris': 17781, 'balloons': 17782, 'forehead': 17783, 'shoulders': 17784, 'filling': 17785, 'saline': 17786, 'inserted': 17787, 'treatments': 17788, 'Eau': 17789, 'Claire': 17790, 'Wisc': 17791, 'revs': 17792, 'Baird': 17793, 'waterworks': 17794, '5.2893': 17795, 'Realtors': 17796, '4,464': 17797, 'single-family': 17798, '4,570': 17799, '206,464': 17800, 'Condominium': 17801, '24.8': 17802, 'condos': 17803, 'nudged': 17804, '1.0': 17805, '123,394': 17806, '8.25': 17807, '8.32': 17808, '7.03': 17809, '617-367-4106': 17810, 'Amtrak': 17811, 'derails': 17812, 'MONTPELIER': 17813, 'Vt': 17814, 'Vermonter': 17815, 'Albans': 17816, 'Vermont': 17817, 'D.C.': 17818, '7:51': 17819, 'Roxbury': 17820, 'Montpelier': 17821, 'Garrity': 17822, 'Pudvah': 17823, 'trauma': 17824, 'understood': 17825, 'conductor': 17826, 'passangers': 17827, 'reservations': 17828, 'Uninjured': 17829, 'Springfield': 17830, 'Northfield': 17831, 'Mountains': 17832, 'Paralympics': 17833, 'gloomy': 17834, 'France-Juppe': 17835, 'handicapped': 17836, 'Paralympic': 17837, 'gloom-stricken': 17838, 'scepticism': 17839, 'opposite': 17840, 'July-August': 17841, 'medals': 17842, 'Opinion': 17843, 'pessimistic': 17844, 'stagnates': 17845, 'unemployement': 17846, 'near-record': 17847, 'blue-chip': 17848, 'foray': 17849, 'SBF-120': 17850, '1.19': 17851, '1,421.90': 17852, 'actively': 17853, 'CFDT': 17854, '500,000': 17855, 'Syndicale': 17856, 'Unitaire': 17857, 'FSU': 17858, 'austerity': 17859, 'unveiled': 17860, 'Anxieties': 17861, 'niggled': 17862, 'centime': 17863, '3.4211': 17864, 'heavyweights': 17865, 'Elf': 17866, 'Rhone': 17867, 'Poulenc': 17868, 'Eurotunnel': 17869, 'morose': 17870, 'post-holiday': 17871, 'UIC': 17872, 'GAN': 17873, 'slid': 17874, '12.19': 17875, '55.1': 17876, '758': 17877, 'recapitalisation': 17878, 'Supermarkets': 17879, 'Carrefour': 17880, '2.19': 17881, '2,616': 17882, 'Cheuvreux': 17883, 'Virieu': 17884, 'Reinsurance': 17885, 'Scor': 17886, 'Prudential': 17887, 'Mercantile': 17888, 'reinsurance': 17889, 'Re': 17890, 'Conglomerate': 17891, 'Bollore': 17892, '2.4': 17893, '73.83': 17894, 'Scac': 17895, 'Delmas': 17896, 'Vileujeux': 17897, 'SDV': 17898, 'Alcatel': 17899, 'Alsthom': 17900, '395.0': 17901, 'Opthalmic': 17902, 'Essilor': 17903, '1,328': 17904, 'Oakley': 17905, 'non-prescription': 17906, 'lens': 17907, 'Gentext': 17908, 'Optics': 17909, 'VEERAKESARI': 17910, 'Bomb': 17911, 'TELO': 17912, 'Trincomalee': 17913, 'Chavakachcheri': 17914, 'Jaffna': 17915, 'sentries': 17916, 'THINAKARAN': 17917, 'TULF': 17918, 'Sivasiththamparam': 17919, 'meaningless': 17920, 'UNP': 17921, 'DAILY': 17922, 'NEWS': 17923, 'Bread': 17924, 'flour': 17925, 'underpriviledged': 17926, 'sections': 17927, 'society': 17928, 'ISLAND': 17929, 'Excise': 17930, 'W.N.F.': 17931, 'Chandraratne': 17932, 'guidelines': 17933, 'liquor': 17934, 'licences': 17935, 'licence': 17936, 'LANKADEEPA': 17937, 'female': 17938, 'simultaneous': 17939, 'Chandrika': 17940, 'Kumaratunga': 17941, 'motorcade': 17942, 'DIVAINA': 17943, 'Cultural': 17944, 'sum': 17945, 'worn': 17946, 'DINAMINA': 17947, 'Ruhunu': 17948, 'indefinitely': 17949, 'hospitalised': 17950, 'tel': 17951, '941-434319': 17952, 'Rupam': 17953, 'Banerjee': 17954, 'tributes': 17955, 'legendary': 17956, 'poured': 17957, 'wean': 17958, 'laureate': 17959, 'aided': 17960, 'breathing': 17961, 'Woodlands': 17962, 'Nursing': 17963, 'revered': 17964, 'vomiting': 17965, 'diagnosed': 17966, 'abated': 17967, 'irregularly': 17968, 'Unless': 17969, 'breathes': 17970, 'advise': 17971, 'fingers': 17972, 'familiar': 17973, 'six-member': 17974, 'treating': 17975, 'greetings': 17976, 'bouquets': 17977, 'Pope': 17978, 'get-well': 17979, 'Ask': 17980, 'Happy': 17981, 'Birthday': 17982, 'Dearest': 17983, 'placard': 17984, 'Shishu': 17985, 'Bhavan': 17986, 'sister': 17987, 'speedy': 17988, 'recovery': 17989, 'Prayers': 17990, 'poorest': 17991, 'prostitutes': 17992, 'goddess': 17993, 'Raju': 17994, 'Statesman': 17995, 'Mangala': 17996, 'Das': 17997, 'waist': 17998, 'Prem': 17999, 'Gift': 18000, 'incessantly': 18001, 'Tarak': 18002, 'footpath': 18003, 'passers-by': 18004, 'Immaculate': 18005, 'bless': 18006, 'scribble': 18007, 'prayed': 18008, 'Ministers': 18009, 'Bengal': 18010, 'religions': 18011, 'pray': 18012, 'solidarity': 18013, 'downtrodden': 18014, 'Nanda': 18015, 'Gopal': 18016, 'Bhattacharya': 18017, 'Rifkind': 18018, 'conferences': 18019, 'obey': 18020, 'normally': 18021, 'interfere': 18022, 'protested': 18023, 'Salvation': 18024, 'FIS': 18025, 'Hamas': 18026, 'guest': 18027, 'denying': 18028, 'fundamentally': 18029, 'Mongolia': 18030, 'Congressman': 18031, 'Sayed': 18032, 'KABUL': 18033, 'Masood': 18034, 'briefed': 18035, 'Dana': 18036, 'Rohrabacher': 18037, 'wartorn': 18038, 'appoint': 18039, 'transitional': 18040, 'Bagram': 18041, 'airbase': 18042, 'Amrollah': 18043, 'neutralise': 18044, 'Afghans': 18045, 'Hamid': 18046, 'Ibrahimi': 18047, 'feels': 18048, 'Tehran': 18049, 'neutral': 18050, 'Jalalabad': 18051, '1.38': 18052, 'rupees': 18053, 'auctioned': 18054, 'three-': 18055, 'five-': 18056, '1.126': 18057, '44.5': 18058, '782.6': 18059, 'insurgents': 18060, 'Sharma': 18061, 'centre-right': 18062, 'insurgency': 18063, 'Maoists': 18064, 'multi-party': 18065, 'negotiates': 18066, 'Khum': 18067, 'Bahadur': 18068, 'Khadga': 18069, 'insurgent': 18070, 'Bhattarai': 18071, 'guarantee': 18072, 'centrist': 18073, 'jointly': 18074, 'Communist': 18075, 'Marxist-Leninist': 18076, 'UML': 18077, 'three-party': 18078, 'soy': 18079, 'INDORE': 18080, '12,900-13,100': 18081, 'Soyoil': 18082, 'solvent': 18083, 'soyoil': 18084, 'refined': 18085, 'undertone': 18086, 'Soymeal': 18087, '276-277': 18088, 'soymeal': 18089, '246-248': 18090, 'Rapeseed': 18091, 'extraction': 18092, 'availability': 18093, '3,850': 18094, 'Bedibunder': 18095, '3,800-3,825': 18096, 'Bhavnagar': 18097, '---------------------': 18098, 'Arrivals': 18099, 'Auction': 18100, 'Plant': 18101, 'Dewas': 18102, 'Yellow': 18103, '12,700-12,950': 18104, '12,900-13,150': 18105, '11,900-12,100': 18106, 'Mandsaur': 18107, '12,600-12,750': 18108, '12,700-12,850': 18109, 'Neemuch': 18110, 'n.a': 18111, 'Mhow': 18112, '12,700-12,800': 18113, '12,750-12,850': 18114, 'Ratlam': 18115, 'Ashta': 18116, '12,700-12,900': 18117, '12,800-13,000': 18118, 'Indore': 18119, '12,750-12,950': 18120, 'Dhar': 18121, '12,750-12,900': 18122, 'Ujjain': 18123, '12,850-13,050': 18124, 'Jaora': 18125, 'Barnagar': 18126, 'Khandwa': 18127, 'Ashoknagar': 18128, 'Nalkhera': 18129, '----------------------------------': 18130, '30,300-30,400': 18131, '30,700-30,800': 18132, '32,700-32,800': 18133, '32,900-33,000': 18134, '--------------------------------': 18135, 'rail-FOR': 18136, '9,800': 18137, '8,800': 18138, 'Bedi': 18139, 'Bunder': 18140, '1=35.73': 18141, 'Humayun': 18142, 'Rasheed': 18143, 'Choudhury': 18144, 'callers': 18145, 'chaired': 18146, 'Bengali': 18147, 'Banglabazar': 18148, 'Patrika': 18149, '330-member': 18150, '1986-87': 18151, 'assemby': 18152, 'partisan': 18153, 'ineffective': 18154, 'contributing': 18155, 'resorting': 18156, 'instability': 18157, 'desireable': 18158, 'designs': 18159, 'sternly': 18160, 'M2': 18161, '8.2': 18162, 'y': 18163, '456.8': 18164, '439.9': 18165, 'BANGLADESH': 18166, 'SUPPLY': 18167, '422.1': 18168, 'M1': 18169, '144.5': 18170, '139.3': 18171, '131.7': 18172, 'HELIBOR': 18173, 'INTEREST': 18174, 'RATES': 18175, 'LARGELY': 18176, 'UNCHANGED': 18177, 'Helibor': 18178, 'fixing': 18179, '3.40': 18180, '1-mth': 18181, '3.27': 18182, '3.29': 18183, '2-mth': 18184, '3.34': 18185, '3-mth': 18186, '6-mth': 18187, '3.56': 18188, '3.55': 18189, '9-mth': 18190, '3.73': 18191, '3.70': 18192, '12-mth': 18193, '3.89': 18194, '3.87': 18195, 'Barrick': 18196, 'Arequipa': 18197, 'Resources': 18198, '36.3': 18199, 'tendered': 18200, 'ahave': 18201, 'realize': 18202, 'Munk': 18203, '30-a-share': 18204, 'attractive': 18205, 'Pierina': 18206, 'allocation': 18207, 'swallow': 18208, 'Vancouver-based': 18209, 'prospector': 18210, 'sweetened': 18211, 'batch': 18212, 'drill': 18213, 'ounces': 18214, 'drilling': 18215, 'pro-rated': 18216, 'Penn': 18217, 'terminates': 18218, 'ALLENTOWN': 18219, 'Pa': 18220, 'terminated': 18221, 'non-binding': 18222, 'Merrion': 18223, 'Insurance': 18224, 'licensing': 18225, 'license': 18226, 'domiciled': 18227, '212-859-1610': 18228, 'VNU': 18229, 'Publisher': 18230, 'Op': 18231, 'Consumer': 18232, '618': 18233, '568': 18234, '363': 18235, 'Commercial': 18236, '127': 18237, '174': 18238, 'info': 18239, 'Miscellaneous': 18240, 'pro': 18241, 'rata': 18242, 'HMG': 18243, 'VTM': 18244, 'AOL': 18245, 'online': 18246, 'HANOVER': 18247, 'Online': 18248, 'Bertelsmann': 18249, 'AdOn': 18250, 'Schiphorst': 18251, 'CeBIT': 18252, 'Hanover': 18253, 'Buettner': 18254, 'managing': 18255, 'thirds': 18256, 'Scandanavia': 18257, 'Benelux': 18258, '0172': 18259, '6736510': 18260, 'hijack': 18261, 'Eyewitnesses': 18262, 'Rona': 18263, 'A310': 18264, '+': 18265, '00--44-171-542-7947': 18266, 'DTB-Bund-Future': 18267, 'tranches': 18268, '02.SEP.96-06.MAR.97': 18269, '95.35': 18270, 'WARRANTS': 18271, '96.00': 18272, '1.16': 18273, '97.00': 18274, '2.50': 18275, '127.10': 18276, '98.00': 18277, '202.90': 18278, '94.00': 18279, '101.40': 18280, '95.0': 18281, '1.33': 18282, '1.80': 18283, '71.70': 18284, '96.0': 18285, '1.84': 18286, '1.20': 18287, '51.80': 18288, 'DBRS': 18289, 'confirms': 18290, 'ratings': 18291, 'Pfd-2': 18292, 'debentures': 18293, 'cumulative': 18294, 'non-cumulative': 18295, 'AA': 18296, 'Pfd-1': 18297, 'intercity': 18298, 'roadblock': 18299, 'provinces': 18300, 'Erzincan': 18301, 'Sivas': 18302, 'ablaze': 18303, 'confiscates': 18304, 'Cyprus-based': 18305, 'Arabic': 18306, 'al-Tadamun': 18307, 'suggesting': 18308, 'editor-in-chief': 18309, 'Liwaya': 18310, 'censors': 18311, 'expense': 18312, 'front-page': 18313, 'entitled': 18314, 'Chronic': 18315, 'Mental': 18316, 'Illness': 18317, 'compliant': 18318, 'undergo': 18319, 'compulsory': 18320, 'psychiatrists': 18321, 'capacities': 18322, 'Because': 18323, 'behave': 18324, 'Zionists': 18325, 'censorship': 18326, 'IPO': 18327, 'FILING': 18328, 'Transkaryotic': 18329, 'Therapies': 18330, 'Name': 18331, 'Nasdaq': 18332, 'symbol': 18333, 'TKTX': 18334, 'Estimated': 18335, 'Shrs': 18336, 'ipo': 18337, '16,668,560': 18338, 'Underwriter': 18339, 'Morgan': 18340, 'Underwriters': 18341, 'over-allotment': 18342, '375,000': 18343, 'shrs': 18344, 'Hoechst': 18345, 'Roussel': 18346, '357,143': 18347, 'platforms': 18348, 'gene': 18349, 'activation': 18350, 'Use': 18351, 'Proceeds': 18352, 'preclinical': 18353, 'clinical': 18354, '15,400': 18355, '2,074': 18356, '3,422': 18357, 'AMTRAK': 18358, 'derailment': 18359, 'Wife': 18360, 'praise': 18361, 'wheelchair': 18362, 'Mrs.': 18363, 'controlling': 18364, 'firearm': 18365, 'Bradys': 18366, 'cane': 18367, 'rousing': 18368, 'reception': 18369, 'sat': 18370, 'VIP': 18371, 'felons': 18372, 'tonight': 18373, 'saluting': 18374, 'hunter': 18375, 'sportsman': 18376, 'Remington': 18377, 'AK47': 18378, 'Uzi': 18379, 'deserve': 18380, 'thumbs': 18381, 'deranged': 18382, 'impress': 18383, 'Jodie': 18384, 'actress': 18385, 'Rifle': 18386, 'Latest': 18387, 'tracking': 18388, 'CDU': 18389, 'CSU': 18390, 'SPD': 18391, 'FDP': 18392, 'PDS': 18393, 'Emnid': 18394, 'Elect': 18395, 'Res': 18396, '11.0': 18397, 'Allensbach': 18398, '37.2': 18399, '32.8': 18400, '13.0': 18401, '39.0': 18402, '40.0': 18403, '37.4': 18404, '7.3': 18405, '12.3': 18406, 'Forsa': 18407, '36.0': 18408, '31.0': 18409, '43.0': 18410, '37.0': 18411, '38.5': 18412, '32.5': 18413, '8.1': 18414, 'APRIL': 18415, '38.1': 18416, '32.3': 18417, '12.9': 18418, '6.3': 18419, 'OCTOBER': 18420, 'GENERAL': 18421, 'ELECTION': 18422, '36.4': 18423, '6.9': 18424, 'Electoral': 18425, 'Forschungsgruppe': 18426, 'Wahlen': 18427, '228': 18428, '2609760': 18429, 'Grimwade': 18430, '4.30': 18431, '0330': 18432, 'requests': 18433, 'negotiators': 18434, 'suggestions': 18435, 'Mentmore': 18436, 'resource': 18437, 'archive': 18438, 'housewares': 18439, 'formerly': 18440, 'Platignum': 18441, 'articles': 18442, 'pence': 18443, '81.5': 18444, 'valuing': 18445, 'stg': 18446, '179.5p': 18447, '4017': 18448, 'eyewitnesses': 18449, 'Flight': 18450, 'TNT': 18451, 'Glafcos': 18452, 'Xenos': 18453, 'Heathrow': 18454, 'Gatwick': 18455, 'handles': 18456, 'Ruth': 18457, 'third-busiest': 18458, 'prefer': 18459, 'implementing': 18460, 'well-rehearsed': 18461, 'contingency': 18462, '0300': 18463, 'intend': 18464, 'refuel': 18465, 'identity': 18466, 'Painted': 18467, 'parrot': 18468, 'scam': 18469, 'PERTH': 18470, 'conman': 18471, 'parrots': 18472, 'dye': 18473, 'birds': 18474, 'Denham': 18475, 'Peiris': 18476, 'cinnamon': 18477, 'Ringneck': 18478, 'Parrots': 18479, '14,000': 18480, 'Perth': 18481, 'impostor': 18482, 'fooled': 18483, 'pet': 18484, 'Drew': 18485, 'unknowingly': 18486, \"'d\": 18487, 'photos': 18488, 'authentication': 18489, 'dyed': 18490, 'feather': 18491, 'bird': 18492, 'enthusiast': 18493, 'bogus': 18494, 'informant': 18495, 'colours': 18496, 'moult': 18497, 'motorist': 18498, 'Tonga': 18499, 'unexpected': 18500, 'Tauranga': 18501, 'pothole': 18502, 'spun': 18503, 'wheels': 18504, 'tyres': 18505, 'smoke': 18506, 'pouring': 18507, 'bonnet': 18508, 'drink-driving': 18509, 'iscovered': 18510, 'Immigration': 18511, 'overstayer': 18512, \"Nuku'alofa\": 18513, 'SBPUs': 18514, 'seven-day': 18515, '14-day': 18516, 'Cut-off-rate': 18517, '15.75': 18518, '16.00': 18519, '38.43': 18520, '218.50': 18521, 'embassies': 18522, 'missions': 18523, 'Macedonian': 18524, 'Korean-related': 18525, 'facilities': 18526, 'outlawed': 18527, 'reunification': 18528, 'crushed': 18529, 'urgent': 18530, 'Nuclear': 18531, 'disarmament-China': 18532, 'reaffirmed': 18533, 'totally': 18534, 'satisfy': 18535, 'balanced': 18536, 'commentary': 18537, 'committing': 18538, 'thwarting': 18539, 'muted': 18540, 'forwarding': 18541, 'compromised': 18542, 'discussed': 18543, 'completion': 18544, 'inspections': 18545, 'drafts': 18546, 'stubbornly': 18547, 'uphold': 18548, 'deterrence': 18549, 'self-imposed': 18550, 'moratorium': 18551, 'declares': 18552, 'poisoning': 18553, 'receding': 18554, 'mysterious': 18555, 'germ': 18556, 'Sakai': 18557, 'hardest': 18558, 'O-157': 18559, 'colon': 18560, 'bacillus': 18561, 'settling': 18562, 'Naoto': 18563, 'Kan': 18564, '9,500': 18565, 'regional': 18566, 'Osaka': 18567, 'deadly': 18568, 'bacteria': 18569, 'schoolchildren': 18570, 'complications': 18571, 'indicating': 18572, 'peak': 18573, 'relieved': 18574, 'infected': 18575, 'pinpoint': 18576, 'infection': 18577, 'sanitary': 18578, 'standards': 18579, 'slaughterhouses': 18580, 'meatpacking': 18581, 'overhaul': 18582, 'compile': 18583, 'hygiene': 18584, 'aluminium': 18585, 'shipments': 18586, '8.9': 18587, 'mill': 18588, '224,609': 18589, '222,457': 18590, 'Aluminium': 18591, 'beverage': 18592, 'housing': 18593, 'Figures': 18594, 'reflecting': 18595, 'above-average': 18596, 'temperatures': 18597, 'half-year': 18598, 'cooler': 18599, 'inventories': 18600, '75,632': 18601, '0.2': 18602, '11,525': 18603, '11,244': 18604, 'downward': 18605, '210,622': 18606, '210,683': 18607, 'upward': 18608, '213,989': 18609, '213,845': 18610, 'pegged': 18611, '40,144': 18612, 'Shipments': 18613, 'auto': 18614, '15,286': 18615, '79,390': 18616, 'dipped': 18617, '18,867': 18618, 'Commodities': 18619, '81-3': 18620, '3432': 18621, '6179': 18622, 'publicly': 18623, 'gratitude': 18624, 'Bongo': 18625, 'thanking': 18626, 'technological': 18627, 'quashed': 18628, 'expressing': 18629, 'freedoms': 18630, 'drafted': 18631, 'censure': 18632, 'forum': 18633, 'code': 18634, 'dissent': 18635, 'doomed': 18636, 'Cooperative': 18637, 'TAIPEI': 18638, '0.05': 18639, '7.35': 18640, 'three-month-to-three-year': 18641, 'Sheu': 18642, 'Yuan-dong': 18643, 'jumpstart': 18644, 'sluggish': 18645, 'half-percentage': 18646, 'reductions': 18647, '5080815': 18648, 'demolition': 18649, 'two-hour': 18650, 'demolished': 18651, 'metre': 18652, 'crane': 18653, 'bulldozer': 18654, 'walls': 18655, 'amidst': 18656, 'alleys': 18657, 'Bystanders': 18658, 'bulldozed': 18659, 'PLO-Israel': 18660, 'lawmaker': 18661, 'Hashem': 18662, 'Zighayer': 18663, 'closure': 18664, 'Palestine': 18665, 'annexed': 18666, 'cede': 18667, 'SEC': 18668, 'adopts': 18669, 'rules': 18670, '1996-08-28': 18671, 'specialists': 18672, 'quotes': 18673, 'electronic': 18674, 'readily': 18675, 'Specialists': 18676, 'individuals': 18677, 'orderly': 18678, 'empower': 18679, 'compete': 18680, 'Levitt': 18681, 'Lindsey': 18682, 'improvements': 18683, 'commonplace': 18684, 'practices': 18685, 'existed': 18686, 'two-tiered': 18687, 'quote': 18688, 'robbing': 18689, 'malpractices': 18690, 'oversight': 18691, 'shifts': 18692, 'continuous': 18693, 'quotations': 18694, 'display': 18695, 'Berkeley': 18696, 'CABINET': 18697, 'APPROVES': 18698, 'TELEVISION': 18699, 'DECREE': 18700, 'ROME': 18701, 'reprieve': 18702, 'mogul': 18703, 'Silvio': 18704, 'Berlusconi': 18705, 'Mediaset': 18706, 'extending': 18707, 'plugs': 18708, 'void': 18709, 'magistrates': 18710, 'proprietor': 18711, 'channels': 18712, 'LINZ': 18713, 'locomotive': 18714, 'stationary': 18715, 'Steyr': 18716, 'shunt': 18717, 'wagons': 18718, 'sidings': 18719, 'trapped': 18720, 'wreckage': 18721, 'treat': 18722, 'Greater': 18723, 'averted': 18724, 'brakes': 18725, 'railways': 18726, 'APA': 18727, 'Saskatchewan': 18728, 'Pool': 18729, 'eyes': 18730, 'forge': 18731, 'scope': 18732, 'pork': 18733, 'positioned': 18734, 'Loewen': 18735, 'SWP': 18736, 'analyzing': 18737, 'partnerships': 18738, 'subsidy': 18739, 'grains': 18740, 'shipped': 18741, 'integrated': 18742, 'units': 18743, 'contracting': 18744, 'programs': 18745, 'Pork': 18746, 'Marketing': 18747, 'monopoly': 18748, 'ROVERETO': 18749, 'Ninova': 18750, '6.72': 18751, 'Heike': 18752, 'Drechsler': 18753, '6.65': 18754, 'Fiona': 18755, '6.64': 18756, '13.42': 18757, '13.45': 18758, 'Giaconi': 18759, '13.80': 18760, '11.34': 18761, '11.53': 18762, 'Gabi': 18763, 'Rokmeier': 18764, 'Sergey': 18765, 'Makarov': 18766, '85.26': 18767, '84.20': 18768, 'Blank': 18769, '81.64': 18770, '10.13': 18771, '10.18': 18772, 'Tilli': 18773, '10.43': 18774, '45.15': 18775, 'Vaccari': 18776, '46.16': 18777, 'Ochieng': 18778, '46.21': 18779, 'Mariacarla': 18780, 'Bresciani': 18781, '3.85': 18782, 'Nastja': 18783, 'Rysich': 18784, 'germany': 18785, 'Ana': 18786, 'Fidelia': 18787, 'Quirot': 18788, '58.98': 18789, 'Letitia': 18790, 'Vriesde': 18791, '2:00.39': 18792, '2:00.91': 18793, 'Kreissig': 18794, '2.20': 18795, 'Kostantin': 18796, 'Matusevitch': 18797, 'Buiatti': 18798, '2.15': 18799, 'Kibet': 18800, '1:45.24': 18801, '1:45.62': 18802, 'Kibitok': 18803, '1:46.09': 18804, 'Oksana': 18805, 'Ovchinnikova': 18806, '58.94': 18807, 'Shikolenko': 18808, '57.44': 18809, '56.70': 18810, 'Virna': 18811, 'Angeli': 18812, '55.66': 18813, 'Torshina': 18814, '55.99': 18815, 'Knoroz': 18816, '57.02': 18817, 'Lauren': 18818, '49.16': 18819, 'Bronson': 18820, '49.67': 18821, 'Ridgeon': 18822, '49.83': 18823, 'Kipkosgei': 18824, '7:46.91': 18825, 'Lambruschini': 18826, '7:47.78': 18827, '7:48.38': 18828, 'BRITISH': 18829, 'MASTERS': 18830, 'rain-affected': 18831, 'Masters': 18832, 'Collingtree': 18833, 'Gavin': 18834, 'Levenson': 18835, 'Coceres': 18836, 'Gilford': 18837, 'Cage': 18838, 'Emanuele': 18839, 'Canonica': 18840, 'Howell': 18841, 'Hedblom': 18842, 'Bottomley': 18843, 'Sellberg': 18844, 'Joakim': 18845, 'Haeggman': 18846, 'Klas': 18847, 'Fulke': 18848, 'Gates': 18849, 'Haglund': 18850, 'Niclas': 18851, 'Fasth': 18852, 'Chistian': 18853, 'McFarlane': 18854, 'Harwood': 18855, 'Brenden': 18856, 'Pappas': 18857, 'Teravainen': 18858, 'Velde': 18859, 'Oyvind': 18860, 'Rojahn': 18861, 'McAllister': 18862, 'Neal': 18863, 'Briggs': 18864, 'KELLY': 18865, 'TIME': 18866, 'TRIAL': 18867, 'retained': 18868, 'one-kilometre': 18869, '2.777': 18870, 'averaged': 18871, '57.345': 18872, 'Lausgberg': 18873, 'eighteen': 18874, 'hundredths': 18875, 'Eijden': 18876, '1:04.541': 18877, 'VAN': 18878, 'HEESWIJK': 18879, 'ALMERE': 18880, '195-km': 18881, 'Almere': 18882, 'Heeswijk': 18883, 'Zabel': 18884, 'Telekom': 18885, 'Zanoli': 18886, 'MX': 18887, 'Onda': 18888, '.Giuseppe': 18889, 'Citterio': 18890, '.Robbie': 18891, 'Kaspars': 18892, 'Ozers': 18893, '8:22:00': 18894, 'Giuseppe': 18895, 'CHAMPIONSHIPS': 18896, 'Selected': 18897, 'Boardman': 18898, '4:13.353': 18899, '4:14.784': 18900, 'Gritson': 18901, 'Moreau': 18902, '4:16.274': 18903, 'Heiko': 18904, 'Szonn': 18905, '4:21.715': 18906, 'Collinelli': 18907, '4:17.551': 18908, 'Sandstod': 18909, '4:24.660': 18910, 'Alexei': 18911, '4:19.762': 18912, 'Mariano': 18913, 'Friedick': 18914, '4:20.241': 18915, 'time-trial': 18916, '02.777': 18917, 'Lausberg': 18918, '1:02.795': 18919, 'Eiden': 18920, 'Thuet': 18921, '1:04.732': 18922, 'Grzegorz': 18923, 'Krejner': 18924, '1:04.834': 18925, 'Ainars': 18926, 'Kiksis': 18927, '1:04.896': 18928, 'Dimitrios': 18929, 'Georgalis': 18930, '1:05.022': 18931, '1:05.219': 18932, 'Keiji': 18933, 'Kojima': 18934, '1:05.300': 18935, 'Sharman': 18936, '1:05.406': 18937, 'Escuredo': 18938, '1:05.731': 18939, 'MacLean': 18940, '1:05.735': 18941, 'Meidlinger': 18942, '1:05.850': 18943, 'McKenzie-Potter': 18944, '1:06.289': 18945, 'Masanaga': 18946, 'Shiohara': 18947, '1:06.615': 18948, 'Zyl': 18949, '1:07.258': 18950, 'Keirin': 18951, 'Nothstein': 18952, '10.982': 18953, 'Neiwand': 18954, 'Magne': 18955, 'Buran': 18956, 'Hubner': 18957, 'Gane': 18958, 'Madison': 18959, 'Martinelli': 18960, 'McGrory': 18961, 'Pate': 18962, 'Kappes': 18963, 'Carsten': 18964, 'Betschart': 18965, 'Risi': 18966, 'Curuchet': 18967, 'immi': 18968, 'Madsen': 18969, 'Veggerby': 18970, 'Galvez-Lopez': 18971, 'Llaneras': 18972, 'Kotzmann': 18973, 'Stocher': 18974, 'Capelle': 18975, 'Jean-Michel': 18976, 'Monin': 18977, 'BOARDMAN': 18978, 'FULFILS': 18979, 'PREDICTION': 18980, 'Ayres': 18981, 'prediction': 18982, '4,000': 18983, '13.353': 18984, '4:19.699': 18985, '4:17.696': 18986, 'amazed': 18987, 'Who': 18988, 'proximity': 18989, 'indoor': 18990, 'superman': 18991, 'perfected': 18992, 'Obree': 18993, 'viral': 18994, 'Qualifiers': 18995, '4:19.808': 18996, '4:21.009': 18997, '4:21.454': 18998, '4:22.738': 18999, '4:24.427': 19000, 'Gritsoun': 19001, '4:26.467': 19002, 'L.': 19003, '5-67': 19004, '105-4': 19005, 'Chester-le-Street': 19006, '73-3': 19007, 'FOWLER': 19008, 'MCMANAMAN': 19009, 'McManaman': 19010, 'Fowler': 19011, 'Kishinev': 19012, 'scans': 19013, 'X-rays': 19014, 'chat': 19015, 'foolish': 19016, 'Howey': 19017, 'naming': 19018, 'Gascoigne': 19019, 'Batty': 19020, 'JOCKEY': 19021, 'WEAVER': 19022, 'RECEIVES': 19023, '21-DAY': 19024, '21-day': 19025, 'Jockey': 19026, 'irresponsible': 19027, 'Pontefract': 19028, 'Leger': 19029, 'stayer': 19030, 'Double': 19031, 'Trigger': 19032, 'prominence': 19033, 'Guineas': 19034, 'Mister': 19035, 'Baileys': 19036, 'classic': 19037, 'ROWING': 19038, 'REDGRAVE': 19039, 'SEEK': 19040, 'FIFTH': 19041, 'Redgrave': 19042, 'Pinsent': 19043, 'coxless': 19044, 'thoughts': 19045, 'athlete': 19046, 'Rowing': 19047, 'BOTHAM': 19048, 'DISMISSES': 19049, 'GATTING': 19050, 'CLASS': 19051, 'DEBUT': 19052, 'golden': 19053, 'Gatting': 19054, 'half-volley': 19055, 'square-leg': 19056, 'learn': 19057, 'Stephenson': 19058, 'dashed': 19059, 'thrid': 19060, '1977': 19061, 'dismissing': 19062, 'Chappell': 19063, 'hop': 19064, '5,200': 19065, 'CARLING': 19066, 'LEFT': 19067, 'TRAINING': 19068, 'Will': 19069, 'Carling': 19070, 'Guscott': 19071, 'Rory': 19072, 'Underwood': 19073, 'quartet': 19074, 'possess': 19075, '244': 19076, 'qualities': 19077, 'selectors': 19078, 'DODGERS': 19079, 'Hideo': 19080, 'Nomo': 19081, 'half-game': 19082, '13-10': 19083, '7-1/3': 19084, 'Benito': 19085, 'Santiago': 19086, 'Amaro': 19087, '5-12': 19088, 'Denny': 19089, 'Neagle': 19090, 'Smoltz': 19091, '20-7': 19092, '14-6': 19093, 'Devon': 19094, 'Hutton': 19095, 'Petkovsek': 19096, 'Valentine': 19097, 'Blair': 19098, 'Gwynn': 19099, 'Joyner': 19100, 'First-place': 19101, '34-20': 19102, 'Eusebio': 19103, 'sacrifice': 19104, 'comeback': 19105, '5-0': 19106, 'benched': 19107, 'Arias': 19108, 'Smiley': 19109, 'one-run': 19110, 'Armando': 19111, 'Reynoso': 19112, 'bulge': 19113, 'Larkin': 19114, 'one-out': 19115, 'RECALL': 19116, 'MEHRTENS': 19117, 'Mehrtens': 19118, 'series-clinching': 19119, 'TriNations': 19120, 'tearing': 19121, 'cartilage': 19122, 'Lock': 19123, 'Larsen': 19124, 'standby': 19125, 'Jonah': 19126, 'Lomu': 19127, 'Cullen': 19128, 'Walter': 19129, 'Josh': 19130, 'Kronfeld': 19131, 'Robin': 19132, 'Olo': 19133, 'Dowd': 19134, 'BONNET': 19135, 'TAKES': 19136, 'COACH': 19137, 'Bonnet': 19138, 'Hockey': 19139, 'Kwazulu-Natal': 19140, 'Englishman': 19141, 'Featherstone': 19142, 'GIBBS': 19143, 'GETS': 19144, 'Province': 19145, 'Herschelle': 19146, '14-man': 19147, 'quadrangular': 19148, 'Woolmer': 19149, 'matured': 19150, 'MCC': 19151, 'supreme': 19152, 'Kallis': 19153, 'Spin-bowling': 19154, 'all-rounders': 19155, 'Nicky': 19156, 'Boje': 19157, 'Crookes': 19158, 'Hansie': 19159, 'Cronje': 19160, 'vice-captain': 19161, 'McMillan': 19162, 'Kirsten': 19163, 'Hudson': 19164, 'Symcox': 19165, 'Jonty': 19166, 'Rhodes': 19167, 'Allan': 19168, 'Fanie': 19169, 'Villiers': 19170, 'Daryll': 19171, 'Cullinan': 19172, 'Gibs': 19173, 'STAR': 19174, '71-57': 19175, 'Olympiakos': 19176, '40-34': 19177, 'basketball': 19178, 'Alba': 19179, 'RUSSIA': 19180, 'Yuri': 19181, 'Nikiforov': 19182, 'Vladislav': 19183, 'Rodimov': 19184, 'Donizetti': 19185, 'Attendence': 19186, 'Rodney': 19187, 'Eyles': 19188, 'Zarak': 19189, 'Jahan': 19190, 'Nicol': 19191, 'Wellings': 19192, 'Ryan': 19193, 'Parke': 19194, '2-15': 19195, 'Julien': 19196, 'Bonetat': 19197, 'Jonathon': 19198, 'Barada': 19199, '15-13': 19200, 'Shabana': 19201, 'Hands': 19202, 'Zubair': 19203, 'Faheem': 19204, 'R': 19205, 'FORMULA': 19206, 'SHELL': 19207, 'PHILIPPINES': 19208, '85-82': 19209, '36-46': 19210, 'best-of-seven': 19211, 'ISRAELI': 19212, 'Kfar': 19213, 'Sava': 19214, 'Zafririm': 19215, 'Holon': 19216, 'Maccabi': 19217, 'Haifa': 19218, 'Petah': 19219, 'Tikva': 19220, 'Lezion': 19221, 'Beit': 19222, \"She'an\": 19223, 'Beersheva': 19224, 'Herzliya': 19225, 'SELES': 19226, 'HAS': 19227, 'WALKOVER': 19228, 'co-world': 19229, 'Wednesay': 19230, 'four-and-a-half': 19231, 'SERIOUS': 19232, 'MEDVEDEV': 19233, 'HAVING': 19234, 'FUN': 19235, 'AGAIN': 19236, 'Outspoken': 19237, 'clown': 19238, 'prince': 19239, 'no-nonsense': 19240, 'attitude': 19241, 'routing': 19242, '99.9': 19243, '22-year-old': 19244, 'abnout': 19245, 'distracting': 19246, 'confining': 19247, 'tirades': 19248, 'peripheral': 19249, 'lounge': 19250, 'rant': 19251, 'entertain': 19252, 'businesslike': 19253, 'zero': 19254, 'Winning': 19255, '77-minute': 19256, 'slotted': 19257, 'odds': 19258, '151-to-1': 19259, 'preparation': 19260, 'destined': 19261, 'Nainkin': 19262, '2-7': 19263, '6-8': 19264, 'End': 19265, 'Thigh': 19266, '.565': 19267, '.511': 19268, '.356': 19269, '.522': 19270, '.451': 19271, '.568': 19272, '28TH': 19273, '.623': 19274, '.427': 19275, '.549': 19276, '.431': 19277, 'GRAF': 19278, 'WORKS': 19279, 'HARD': 19280, 'FIRST-ROUND': 19281, 'rewritten': 19282, '29th-ranked': 19283, 'superstar': 19284, 'Graf-like': 19285, 'efficiency': 19286, 'fourth-seeded': 19287, 'second-day': 19288, 'crushing': 19289, 'medalist': 19290, 'Fifth-seed': 19291, '53rd-ranked': 19292, 'Maggie': 19293, 'loser': 19294, 'grab': 19295, 'semblance': 19296, 'ponytail': 19297, 'unleashed': 19298, 'tie-break': 19299, 'feisty': 19300, 'tie-breaker': 19301, 'Usually': 19302, 'point-by-point': 19303, 'SOSA': 19304, 'SURGERY': 19305, 'WEEKS': 19306, 'Valuable': 19307, 'Player': 19308, '8-1': 19309, 'playoff': 19310, 'MARCELO': 19311, 'HAT-TRICK': 19312, 'novelty': 19313, 'roof': 19314, '51,000': 19315, '20-metre': 19316, 'dull': 19317, 'Eijkelkamp': 19318, '56th': 19319, 'Jongsma': 19320, 'shock': 19321, 'Henke': 19322, 'fifth-placed': 19323, 'ROBSON': 19324, 'TROPHY': 19325, 'weathered': 19326, 'non-stop': 19327, 'whisker': 19328, 'away-goal': 19329, 'squandered': 19330, 'midway': 19331, 'fullback': 19332, 'Albert': 19333, 'Ferrer': 19334, 'Julen': 19335, 'Lopetegui': 19336, 'Milinko': 19337, 'Hristo': 19338, 'Stoichkov': 19339, 'Barjuan': 19340, 'set-piece': 19341, 'free-kick': 19342, 'athletic': 19343, 'Calderon': 19344, 'Bernabeu': 19345, 'distinct': 19346, 'SPANISH': 19347, '11,000': 19348, 'SIGN': 19349, 'STRIKER': 19350, 'GABRICH': 19351, 'Iwan': 19352, 'Gabrich': 19353, 'Kluivert': 19354, 'Tijjani': 19355, 'Babangida': 19356, 'Dani': 19357, 'PARMA': 19358, 'ROMA': 19359, 'UDINESE': 19360, 'Parma': 19361, 'Roma': 19362, 'humble': 19363, 'Empoli': 19364, 'Wealthy': 19365, 'Ancelotti': 19366, 'Enrico': 19367, 'Chiesa': 19368, 'Pescara': 19369, 'Ottavio': 19370, 'Palladini': 19371, 'Giampaolo': 19372, 'Melli': 19373, 'Palermo': 19374, 'Bianchi': 19375, 'Arrigo': 19376, 'Sacchi': 19377, 'Cesena': 19378, 'Udinese': 19379, 'Cremonese': 19380, 'Uruguayan': 19381, 'nightmare': 19382, 'replay': 19383, 'Cosenza': 19384, 'Fidelis': 19385, 'Andria': 19386, 'Piacenza': 19387, 'Atalanta': 19388, 'Lecce': 19389, 'Genoa': 19390, 'Sampdoria': 19391, 'Nocerina': 19392, 'newcomers': 19393, 'Perugia': 19394, 'BAYERN': 19395, 'HIT': 19396, 'FOUR': 19397, 'BUNDESLIGA': 19398, 'Goals': 19399, 'powered': 19400, 'second-placed': 19401, 'Sergio': 19402, '25th': 19403, 'Zickler': 19404, 'acrobatic': 19405, '13-times': 19406, 'Ruggiero': 19407, 'Rizzitelli': 19408, 'Feldhoff': 19409, 'Rhineside': 19410, 'Spal': 19411, 'Reggiana': 19412, 'Lucchese': 19413, 'Vicenza': 19414, 'Bologna': 19415, 'Torino': 19416, 'Avellino': 19417, 'Lazio': 19418, 'Bari': 19419, 'Monza': 19420, 'Napoli': 19421, 'Chievo': 19422, 'Ravenna': 19423, '27,600': 19424, '48,000': 19425, 'Akpoborie': 19426, '27,000': 19427, 'Von': 19428, 'Heesen': 19429, 'Hirsch': 19430, 'scorers': 19431, 'Pires': 19432, 'Marc-Vivien': 19433, 'Foe': 19434, 'Patrice': 19435, 'Loko': 19436, 'PSG': 19437, 'Guivarch': 19438, 'SMICER': 19439, 'LAST-GASP': 19440, 'GOAL': 19441, 'LENS': 19442, 'In-form': 19443, 'Aime': 19444, 'Jacquet': 19445, 'Parc': 19446, 'des': 19447, 'Princes': 19448, 'raid': 19449, 'hard-won': 19450, 'Spurred': 19451, 'leveller': 19452, 'crossbar': 19453, 'bounced': 19454, 'Kader': 19455, 'Ferhaoui': 19456, 'blunder': 19457, 'Jean-Claude': 19458, 'Nadon': 19459, 'Vairelles': 19460, 'Lefevre': 19461, 'convincing': 19462, 'Ironically': 19463, 'Benoit': 19464, 'Cauet': 19465, 'one-two': 19466, 'Parisians': 19467, 'concede': 19468, 'Leonardo': 19469, 'Panama': 19470, 'Dely': 19471, 'Valdes': 19472, 'shocked': 19473, 'Canaries': 19474, 'Reigning': 19475, 'Hintum': 19476, 'Waalijk': 19477, 'Schreuder': 19478, '6,150': 19479, 'Vierklau': 19480, 'Nooijer': 19481, '5,696': 19482, 'Vurens': 19483, 'Schultz': 19484, '22,434': 19485, '56rd': 19486, '48,123': 19487, '71st': 19488, 'Etienne': 19489, 'Mendy': 19490, '12,000': 19491, 'Giuly': 19492, 'Chaouch': 19493, 'Rouxel': 19494, 'Baret': 19495, 'Colleter': 19496, 'SG': 19497, 'CHRISTIE': 19498, 'ASKED': 19499, 'JOIN': 19500, 'OWENS': 19501, 'TRIBUTE': 19502, 'Dream': 19503, 'relay': 19504, 'tribute': 19505, 'Jesse': 19506, 'Owens': 19507, 'promoter': 19508, 'Rudi': 19509, 'Thiel': 19510, 'hopeful': 19511, 'holder': 19512, 'Namibian': 19513, '4X100': 19514, 'widow': 19515, 'squads': 19516, 'TENDULKAR': 19517, 'UPSTAGED': 19518, 'JAYASURIYA': 19519, 'dashing': 19520, 'Sanath': 19521, 'Jayasuriya': 19522, 'nine-wicket': 19523, 'comfortably': 19524, 'modest': 19525, '226-5': 19526, 'devastating': 19527, 'Romesh': 19528, 'Kaluwitharana': 19529, 'man-of-the-match': 19530, 'Aravinda': 19531, 'Silva': 19532, 'ex-captain': 19533, 'chipped': 19534, 'stumped': 19535, '230-1': 19536, 'Jadeja': 19537, 'Ganguly': 19538, 'Dharmasena': 19539, 'Kambli': 19540, 'Dravid': 19541, 'Srinath': 19542, 'w-9': 19543, '226': 19544, '1-4': 19545, '2-57': 19546, '3-186': 19547, '4-217': 19548, '5-217': 19549, 'Kumble': 19550, 'Mongia': 19551, 'Kapoor': 19552, 'Vass': 19553, '9-2-35-0': 19554, 'Pushpakumara': 19555, '6-0-23-0': 19556, '10-0-59-1': 19557, '10-0-42-0': 19558, '10-1-39-1': 19559, '5-0-24-0': 19560, 'A.de': 19561, 'w-2': 19562, '1-129': 19563, 'Asanka': 19564, 'Gurusinha': 19565, 'Hashan': 19566, 'Tillekeratne': 19567, 'Roshan': 19568, 'Mahanama': 19569, 'Kumara': 19570, 'Chaminda': 19571, 'Vaas': 19572, 'Muthiah': 19573, 'Ravindra': 19574, '10-1-40-0': 19575, '6-0-47-0': 19576, '8-0-33-0': 19577, '6-0-29-1': 19578, '10-2-51-0': 19579, '2.2-0-13-0': 19580, '2-0-14-0': 19581, 'Man-of-the-Match': 19582, 'Anil': 19583, 'Ajay': 19584, 'Sourav': 19585, 'Vinod': 19586, 'Rahul': 19587, 'Nayan': 19588, 'Javagal': 19589, 'Venkatesh': 19590, 'Ashish': 19591, 'Princeton': 19592, 'Lyman': 19593, 'Organisations': 19594, 'Bailundo': 19595, 'Savimbi': 19596, 'participated': 19597, 'joint-commission': 19598, 'quartering': 19599, 'reality': 19600, 'TRUTH': 19601, 'BODY': 19602, 'SUMMON': 19603, 'APARTHEID': 19604, 'subpoena': 19605, 'persons': 19606, 'Subpoenas': 19607, 'heal': 19608, 'confronting': 19609, 'Basie': 19610, 'Smit': 19611, 'Merwe': 19612, 'co-operation': 19613, 'compiling': 19614, 'harrowing': 19615, 'frankness': 19616, 'Hopes': 19617, 'subpoenaed': 19618, 'human-rights': 19619, 'TURKISH': 19620, 'AIRPLANE': 19621, 'LANDS': 19622, 'BOMB': 19623, 'THREAT': 19624, 'airliner': 19625, '1503': 19626, '1203': 19627, 'fire-engines': 19628, 'Nothing': 19629, 'Cypriot': 19630, 'hijacker': 19631, 'Arch': 19632, '1,100': 19633, 'bbl': 19634, 'WORTH': 19635, 'exploratory': 19636, 'Morinville': 19637, 'excess': 19638, 'Trax': 19639, 'et': 19640, 'al': 19641, '10-23': 19642, 'logged': 19643, 'Leduc': 19644, 'Reef': 19645, '5,350': 19646, 'Cometra': 19647, '11-13': 19648, '590': 19649, '64ths-inch': 19650, 'choke': 19651, '2-25': 19652, 'encountered': 19653, 'Nordegg': 19654, 'Apache': 19655, 'Saunders': 19656, '14-28': 19657, 'depth': 19658, '3,800': 19659, 'acreage': 19660, 'earning': 19661, '5,120': 19662, '8,320': 19663, 'Butte': 19664, 'Garrington': 19665, '4-8': 19666, 'Testing': 19667, 'Including': 19668, 'barrel': 19669, 'Brumm': 19670, '212-859-1710': 19671, 'Biogen': 19672, 'Berlex': 19673, 'Leslie': 19674, 'Gevirtz': 19675, 'counsels': 19676, 'Schering': 19677, 'tempest': 19678, 'tube': 19679, 'Food': 19680, 'Drug': 19681, 'violated': 19682, 'Orphan': 19683, 'Avonex': 19684, 'MS': 19685, 'Betaseron': 19686, 'types': 19687, 'interferon': 19688, 'BioVest': 19689, 'Hedaya': 19690, 'marketplace': 19691, 'Chiron': 19692, 'inventory': 19693, 'FDA': 19694, 'Ophran': 19695, 'exclusivity': 19696, 'diseases': 19697, 'differs': 19698, 'beta-1b': 19699, 'Judge': 19700, 'counsel': 19701, 'Astrue': 19702, 'Chabora': 19703, 'Newark': 19704, 'depositions': 19705, 'Bissell': 19706, 'preside': 19707, 'balances': 19708, 'Fed': 19709, 'BILLIONS': 19710, 'DLRS': 19711, 'acct': 19712, '5.208': 19713, '4.425': 19714, 'Tax': 19715, '14.828': 19716, '15.687': 19717, '20.036': 19718, '20.112': 19719, '5,124.053': 19720, '5,122.084': 19721, 'shrugged-off': 19722, 'Codelco': 19723, 'Salvador': 19724, '0.35': 19725, '90.20': 19726, '90.50': 19727, '89.40': 19728, '91.05': 19729, '90.85': 19730, 'lots': 19731, 'Huw': 19732, '212-859-1646': 19733, 'center': 19734, 'CBSA': 19735, 'Average': 19736, 'centers': 19737, 'Brass': 19738, 'Servicenter': 19739, 'coil': 19740, 'strip': 19741, 'Alloy': 19742, 'size-per-order': 19743, 'Harleysville': 19744, 'qrtly': 19745, 'dividenD': 19746, 'HARLEYSVILLE': 19747, 'Quarterly': 19748, 'Prior': 19749, '0.21': 19750, 'Pay': 19751, 'Record': 19752, 'ENAP': 19753, 'Oriente': 19754, 'Escravos': 19755, 'Oct': 19756, 'Empresa': 19757, 'Nacional': 19758, 'del': 19759, 'Petroleo': 19760, 'Ecuadorian': 19761, '960,000': 19762, '15-18': 19763, 'vague': 19764, 'supplied': 19765, 'seller': 19766, 'referring': 19767, 'Petroecuador': 19768, 'Dated': 19769, '50-cent': 19770, '1620': 19771, '1241': 19772, 'III': 19773, '1249-1286': 19774, '1260': 19775, 'Ghibellines': 19776, 'retook': 19777, 'Florentine': 19778, 'Guelfs': 19779, 'Monte': 19780, 'Aperto': 19781, '1768': 19782, 'Francois-Rene': 19783, 'Vicomte': 19784, 'Chateaubriand': 19785, 'romantic': 19786, 'seminal': 19787, 'Memoires': 19788, \"d'Outre\": 19789, 'Tombe': 19790, '1781': 19791, 'settlers': 19792, 'Pueblo': 19793, 'Nuestra': 19794, 'Senora': 19795, 'Reina': 19796, 'Lady': 19797, '1824': 19798, 'Bruckner': 19799, 'composer': 19800, 'organist': 19801, 'symphonies': 19802, 'scale': 19803, 'masses': 19804, '1870': 19805, 'Napoleon': 19806, 'Franco-Prussian': 19807, '1886': 19808, 'Skeleton': 19809, 'Canyon': 19810, 'Arizona': 19811, 'Geronimo': 19812, 'rebellion': 19813, 'surrendered': 19814, '1892': 19815, 'Prolific': 19816, 'modernist': 19817, 'Darius': 19818, 'Milhaud': 19819, 'jazz': 19820, 'ballet': 19821, 'Creation': 19822, 'du': 19823, 'Madame': 19824, 'Bovary': 19825, '1906': 19826, 'German-born': 19827, 'biologist': 19828, 'Delbruck': 19829, 'physiology': 19830, 'genetic': 19831, 'infect': 19832, '1907': 19833, 'Edvard': 19834, 'Grieg': 19835, 'Peer': 19836, 'Gynt': 19837, 'Suite': 19838, 'Piano': 19839, 'Concerto': 19840, '1908': 19841, 'Dmytryk': 19842, 'Crossfire': 19843, 'Hollywood': 19844, 'Farewell': 19845, 'lovely': 19846, 'Boy': 19847, 'Scout': 19848, '1944': 19849, 'liberated': 19850, 'Wilhelmina': 19851, '1890': 19852, 'Wars': 19853, 'abdicated': 19854, 'Juliana': 19855, '1963': 19856, 'Schuman': 19857, 'statesman': 19858, '1947-48': 19859, '1948-52': 19860, '1964': 19861, 'Forth': 19862, 'measuring': 19863, '6156': 19864, 'ft': 19865, '3300': 19866, 'Majesty': 19867, '1965': 19868, 'Schweitzer': 19869, 'theologian': 19870, 'philosopher': 19871, '1913': 19872, 'Acclaimed': 19873, 'interpretations': 19874, 'J.S.': 19875, 'Bach': 19876, 'Brotherhood': 19877, '1952': 19878, 'Spitz': 19879, 'Olympiad': 19880, 'E.F.': 19881, 'Fritz': 19882, 'guru': 19883, 'author': 19884, 'Small': 19885, 'Beautiful': 19886, 'Simenon': 19887, 'character': 19888, 'Inspector': 19889, 'Maigret': 19890, 'Todor': 19891, 'Zhivkov': 19892, 'embezzling': 19893, 'Declaring': 19894, 'ours': 19895, '15-month': 19896, '3,000th': 19897, 'Fourth': 19898, 'Great': 19899, 'equality': 19900, 'noise': 19901, 'bigger': 19902, 'detecting': 19903, 'fining': 19904, 'violators': 19905, 'complying': 19906, 'trimmed': 19907, 'decibels': 19908, 'loudness': 19909, 'Nevertheless': 19910, 'worthwile': 19911, 'Goschen': 19912, 'quieter': 19913, 'consultation': 19914, 'applied': 19915, 'busiest': 19916, '1959': 19917, 'repositioned': 19918, 'detect': 19919, '7717': 19920, 'beats': 19921, 'team-mates': 19922, 'redraw': 19923, 'union-England': 19924, 'exclusive': 19925, 'Sky': 19926, '135.8': 19927, 'Kiernan': 19928, 'one-dayers': 19929, 'Christchurch': 19930, 'Dunedin': 19931, 'heels': 19932, 'CAF': 19933, 'inability': 19934, 'Bangui': 19935, 'internationally-sponsored': 19936, 'Sierra': 19937, 'Leone': 19938, 'examining': 19939, 'dossier': 19940, 'Burundi-Central': 19941, 'disqualify': 19942, 'fast-tracks': 19943, 'asylum-seekers': 19944, 'VANCOUVER': 19945, 'fast-tracking': 19946, 'dissidents': 19947, 'fast-tracked': 19948, 'processing': 19949, 'referred': 19950, 'Garrett': 19951, 'Lambert': 19952, 'disposition': 19953, 'suppose': 19954, 'guess': 19955, 'preferential': 19956, 'Patten': 19957, 'post-1997': 19958, 'Ivorian': 19959, 'journalist': 19960, 'ABIDJAN': 19961, 'Lapke': 19962, 'Populaire': 19963, 'questioning': 19964, 'Colleagues': 19965, 'confidential': 19966, 'Voie': 19967, 'insulting': 19968, 'Henri': 19969, 'Konan': 19970, 'Bedie': 19971, 'ASEC': 19972, 'Abidjan': 19973, 'excessive': 19974, 'pardoned': 19975, 'incitement': 19976, 'disturb': 19977, 'Village': 19978, 'FREETOWN': 19979, 'Leonean': 19980, 'Foindu': 19981, 'Region': 19982, 'Brigade': 19983, 'Fallah': 19984, 'Sewa': 19985, 'overran': 19986, 'Mano': 19987, 'Junction': 19988, 'diamond': 19989, 'Tongo': 19990, 'Freetown': 19991, 'Rebels': 19992, 'Continuing': 19993, 'ascribed': 19994, 'uncontrolled': 19995, 'bands': 19996, 'Ivory': 19997, 'RUF': 19998, 'Aid': 19999, 'Chiluba': 20000, 'shuffles': 20001, 'vacancy': 20002, 'LUSAKA': 20003, 'Zambian': 20004, 'shuffled': 20005, 'sacking': 20006, 'Remmy': 20007, 'Mushota': 20008, 'tribunal': 20009, 'coffers': 20010, 'Lands': 20011, 'Luminzu': 20012, 'Shimaponda': 20013, 'Machungwa': 20014, 'fictitious': 20015, 'rid': 20016, 'payroll': 20017, 'Sidia': 20018, 'Ousmane': 20019, 'Kaba': 20020, 'root': 20021, 'Guinean': 20022, 'bribes': 20023, 'expenditure': 20024, 'whereas': 20025, 'minerals': 20026, 'hydroelectric': 20027, '=1,000': 20028, 'uniting': 20029, 'squabbling': 20030, 'Liberian': 20031, 'Monrovia': 20032, 'inauguration': 20033, 'vice-chairmen': 20034, 'Alhadji': 20035, 'Kromah': 20036, '150,000': 20037, 'orgy': 20038, 'looting': 20039, 'compliance': 20040, 'Freed': 20041, 'slaves': 20042, '1847': 20043, 'Constitutional': 20044, 'Project': 20045, 'CRP': 20046, 'Istafanus': 20047, 'Elisha': 20048, 'Shamay': 20049, 'O.K.': 20050, 'Likkason': 20051, 'Egurugbe': 20052, 'ongoing': 20053, 'ASUU': 20054, 'Academic': 20055, 'Universities': 20056, 'Tafawa': 20057, 'Balewa': 20058, 'academic': 20059, 'four-month': 20060, 'Dozens': 20061, 'detention': 20062, 'colonies': 20063, 'pleas': 20064, 'clemency': 20065, 'versions': 20066, 'gypsy': 20067, 'Topolcany': 20068, 'elaborating': 20069, 'visits': 20070, 'sketch': 20071, 'murderer': 20072, 'identical': 20073, 'portrait': 20074, 'father-of-three': 20075, 'Belgians': 20076, 'Knifeman': 20077, 'beauty': 20078, 'queen': 20079, 'knifed': 20080, 'Agnieszka': 20081, 'Kotlarska': 20082, 'U.S.-based': 20083, 'modelling': 20084, 'Versace': 20085, 'Vogue': 20086, 'Wyborcza': 20087, 'TWA': 20088, 'booking': 20089, 'attacker': 20090, 'Jerzy': 20091, 'intending': 20092, 'slip': 20093, 'System': 20094, '1.64': 20095, '180.38': 20096, '4.38': 20097, 'Mokhoff': 20098, 'Alliance-Menatep': 20099, 'inactivity': 20100, 'Babayan': 20101, 'CentrInvest': 20102, 'UES': 20103, 'Unified': 20104, 'chips': 20105, 'anybody': 20106, 'ADRs': 20107, '0.0817': 20108, '0.0822': 20109, '8.90': 20110, 'Gazprom': 20111, '0.300': 20112, '0.355': 20113, '0.445': 20114, 'converted': 20115, 'investing': 20116, 'tightened': 20117, 'restricting': 20118, 'shareholers': 20119, 'Mosenergo': 20120, '0.958': 20121, '0.966': 20122, 'Rostelekom': 20123, '2.56': 20124, '2.58': 20125, 'LUKoil': 20126, '9.82': 20127, '9.85': 20128, 'Tolkacheva': 20129, 'deportations': 20130, 'deporting': 20131, 'Tritan': 20132, 'Shehu': 20133, 'Koha': 20134, 'Jone': 20135, 'deported': 20136, 'legalise': 20137, '350,000': 20138, 'long-standing': 20139, 'stumbling': 20140, 'Bulgarians': 20141, 'pre-communist': 20142, 'restitution': 20143, 'Southeastern': 20144, '96.6': 20145, 'abolished': 20146, 'Soviet-style': 20147, '++359-2': 20148, '981': 20149, '8569': 20150, 'chancellor': 20151, 'vacation': 20152, 'staying': 20153, 'lodge': 20154, 'loudest': 20155, 'Exiled': 20156, 'confusing': 20157, 'Shiels': 20158, 'NAGYATAD': 20159, 'Nagyatad': 20160, 'Lajos': 20161, 'semi-literate': 20162, '385': 20163, 'Bosnian-Croat': 20164, 'Republika': 20165, 'Srbska': 20166, 'override': 20167, 'reassert': 20168, 'Adem': 20169, 'Hodzic': 20170, 'seals': 20171, 'Bosnia-Hercegovina': 20172, 'councils': 20173, 'invalidated': 20174, 'cancellation': 20175, 'Husein': 20176, 'Micijevic': 20177, 'translators': 20178, 'booth': 20179, 'Probably': 20180, 'Seventy': 20181, 'Mandolina': 20182, 'Zelic': 20183, 'translator': 20184, 'ringed': 20185, 'Szabo': 20186, 'studying': 20187, 'envelopes': 20188, 'slips': 20189, 'inconclusive': 20190, 'Baltic': 20191, '101-strong': 20192, 'rebuff': 20193, 'Toomas': 20194, 'Savi': 20195, 'Rosati': 20196, 'best-selling': 20197, 'marginalised': 20198, 'tactical': 20199, 'manoeuvre': 20200, 'circle': 20201, 'unity': 20202, 'unwilling': 20203, 'matters': 20204, 'chosed': 20205, 'harm': 20206, 'eastward': 20207, 'inevitable': 20208, 'resembled': 20209, 'Soviet-era': 20210, 'soars': 20211, '1,242.9': 20212, '596.5': 20213, 'January-May': 20214, 'Six-month': 20215, 'expenditures': 20216, '9.50': 20217, '7.56': 20218, 'end-May': 20219, '31.6': 20220, '8.26': 20221, 'revise': 20222, 'pension': 20223, 'indexations': 20224, 'energy': 20225, '566': 20226, '6.0-percent': 20227, 'indexation': 20228, 'quickened': 20229, 'envisaged': 20230, '16.98': 20231, '20.17': 20232, '3.19': 20233, 'leu': 20234, '3,161': 20235, '40-1': 20236, '3120264': 20237, 'Nicaraguans': 20238, 'delinquency': 20239, 'Bernardo': 20240, 'Arce': 20241, 'advised': 20242, \"Gov't\": 20243, 'dodging': 20244, 'Ernesto': 20245, 'Samper': 20246, 'seem': 20247, 'Prosecutor-General': 20248, 'Adolfo': 20249, 'Salamanca': 20250, 'senators': 20251, 'Myles': 20252, 'Frechette': 20253, 'applauded': 20254, 'outcast': 20255, 'counternarcotics': 20256, 'year-old': 20257, 'stemming': 20258, 'enthusiastic': 20259, 'Extradition': 20260, 'endorsing': 20261, 'lords': 20262, 'U.S.-bound': 20263, 'penalities': 20264, 'prisons': 20265, 'contributions': 20266, 'Quake': 20267, 'shakes': 20268, 'earthquake': 20269, 'Richter': 20270, 'quake': 20271, '11.16': 20272, '1716': 20273, 'Quepos': 20274, 'Volcanic': 20275, 'Seismologicial': 20276, 'welcoming': 20277, 'Santamaria': 20278, '1700': 20279, 'Barrier': 20280, 'CVRD': 20281, 'shelve': 20282, 'Doce': 20283, 'Dutra': 20284, 'annulled': 20285, 'dedicate': 20286, 'Schomberg': 20287, '55-61-2230358': 20288, 'Yates': 20289, '1996-08-29': 20290, '5.79': 20291, '6.08': 20292, '3.98': 20293, 'dividend': 20294, 'ltd': 20295, '148.29': 20296, '133.82': 20297, '2.07': 20298, '8.63': 20299, '7.23': 20300, 'franked': 20301, 'Nov': 20302, 'Reg': 20303, '3.67': 20304, '2.78': 20305, '2.69': 20306, 'Depreciation': 20307, '3.25': 20308, '2.79': 20309, 'bartender': 20310, '9.68': 20311, 'bag': 20312, 'hometown': 20313, 'commuted': 20314, 'RAMALLAH': 20315, 'Legislative': 20316, 'halting': 20317, 'mechanism': 20318, 'uncompromising': 20319, 'resolutions': 20320, 'necessarily': 20321, 'binding': 20322, 'blasted': 20323, 'amounted': 20324, 'concerning': 20325, 'Korei': 20326, 'comprehensive': 20327, 'confront': 20328, 'confiscation': 20329, 'agrees': 20330, '8:00': 20331, 'PUK-KDP': 20332, 'endorse': 20333, 'massing': 20334, 'centres': 20335, 'penetrated': 20336, 'reflects': 20337, 'Hostilities': 20338, 'aggression': 20339, 'safeguarded': 20340, 'Operation': 20341, 'Provide': 20342, 'Comfort': 20343, 'noble': 20344, 'contemplate': 20345, 'INA': 20346, 'morals': 20347, 'Abdulsamad': 20348, 'Hameed': 20349, 'contrary': 20350, 'blasts': 20351, 'ignoring': 20352, 'Crosson': 20353, 'VENTURA': 20354, 'mention': 20355, 'outdoor': 20356, 'commented': 20357, 'Welcome': 20358, 'laughed': 20359, 'anti-drug': 20360, 'Meanwhile': 20361, 'aggressively': 20362, 'flashpoint': 20363, 'Keep': 20364, 'likened': 20365, 'stream': 20366, 'missiles': 20367, 'needle': 20368, 'cigarette': 20369, 'poison': 20370, 'cocaine': 20371, 'marijuana': 20372, 'remarks': 20373, 'cigarettes': 20374, 'well-wishers': 20375, 'specifically': 20376, 'Oh': 20377, 'Come': 20378, 'aides': 20379, 'Proposition': 20380, '215': 20381, 'cultivation': 20382, 'medicinal': 20383, 'headache': 20384, 'ingrown': 20385, 'toenail': 20386, 'non-political': 20387, '20-minute': 20388, '12-17': 20389, 'year-olds': 20390, 'flanked': 20391, 'Bush': 20392, 'BALANCE-Water': 20393, 'Dist': 20394, 'Cty': 20395, 'WATER': 20396, 'DISTRICT': 20397, 'CO': 20398, 'KS': 20399, '45,020,000': 20400, 'REVENUE': 20401, '22,040,000': 20402, 'SER': 20403, '1996A': 20404, '22,980,000': 20405, 'RFDG': 20406, '1996B': 20407, 'Aa': 20408, '09/05/1996': 20409, 'FIRM': 20410, '06/01': 20411, '12/01': 20412, '-------------------------------------------------------------': 20413, '665M': 20414, '840M': 20415, '570M': 20416, '605M': 20417, '70M': 20418, '895M': 20419, '600M': 20420, '2003': 20421, '705M': 20422, '795M': 20423, '2004': 20424, '655M': 20425, '90M': 20426, '965M': 20427, '65M': 20428, '2010': 20429, '60M': 20430, '100M': 20431, '2011': 20432, '30M': 20433, '2012': 20434, '20M': 20435, '35M': 20436, '11,450': 20437, 'Profit': 20438, 'weigh': 20439, 'underpinned': 20440, 'persisted': 20441, 'declining': 20442, 'firming': 20443, 'cash-related': 20444, 'wood': 20445, 'Random': 20446, 'Lengths': 20447, 'spruce': 20448, 'tbf': 20449, 'Reduced': 20450, 'Lumber': 20451, '0.70': 20452, '413.20': 20453, '369.00': 20454, 'Jerry': 20455, 'Bieszk': 20456, '312-408-8725': 20457, 'WHEAT--Rains': 20458, 'planting': 20459, 'Frost': 20460, 'Above-normal': 20461, 'Plains': 20462, 'near-ideal': 20463, 'extension': 20464, 'economist': 20465, 'irony': 20466, 'old-timers': 20467, 'Dust': 20468, 'Bowl': 20469, '1930s': 20470, 'turnabout': 20471, 'Hodges': 20472, 'Climatological': 20473, 'Survey': 20474, '20.19': 20475, 'climatologist': 20476, 'Mosier': 20477, 'Panhandle': 20478, 'beneficial': 20479, 'ideal': 20480, 'mositure': 20481, 'Dolly': 20482, 'topsoil': 20483, 'adequate': 20484, 'Agricultural': 20485, 'Statistics': 20486, '816': 20487, '561-8671': 20488, 'settles': 20489, 'JACKSONVILLE': 20490, '19.4': 20491, 'portfolios': 20492, 'thrifts': 20493, 'discontinued': 20494, 'installment': 20495, 'Amoco': 20496, 'Yemen': 20497, 'sharing': 20498, 'Shabwa': 20499, 'Dietsch': 20500, 'MEES': 20501, 'production-sharing': 20502, 'Block': 20503, 'S-1': 20504, 'exploring': 20505, 'deferring': 20506, 'Yemeni': 20507, 'Amoco-Yemen': 20508, 'contractor': 20509, 'potentially': 20510, 'oilfields': 20511, 'Encyclopedia': 20512, 'Ludwig': 20513, '1633': 20514, 'defends': 20515, 'hostile': 20516, 'Evelyn': 20517, 'Leopold': 20518, 'lashed': 20519, 'windfall': 20520, 'army-run': 20521, 'lengthy': 20522, 'Nsanze': 20523, 'Terence': 20524, 'Tanzanian': 20525, 'Julius': 20526, 'Nyrere': 20527, 'unsympathetic': 20528, 'Buyoya': 20529, 'Tutsi-run': 20530, 'bind': 20531, 'Quite': 20532, 'gratuitous': 20533, 'immolation': 20534, 'Mothusi': 20535, 'Nkgowe': 20536, 'coups': 20537, 'dump': 20538, 'heap': 20539, 'justification': 20540, 'legitimate': 20541, 'discussion': 20542, 'impose': 20543, 'suggests': 20544, 'impede': 20545, 'Chilean': 20546, 'cautious': 20547, 'defend': 20548, 'exposed': 20549, 'terroritsts': 20550, 'Somavia': 20551, 'unarmed': 20552, 'Inaction': 20553, 'indiscriminate': 20554, 'Inderfurth': 20555, 'unconditional': 20556, 'BERNE': 20557, 'cantons': 20558, 'EOE': 20559, '1605': 20560, 'PUTS': 20561, 'VOLUME': 20562, '83,008': 20563, '60,131': 20564, '22,877': 20565, 'FEATURES': 20566, 'INDEX': 20567, '7,391': 20568, '5,658': 20569, '15.72': 20570, 'AHOLD': 20571, '7,190': 20572, '1,123': 20573, '10.01': 20574, 'BOLSWESSANEN': 20575, '4,420': 20576, '705': 20577, '6.17': 20578, 'ABN': 20579, 'AMRO': 20580, '3,003': 20581, '1,940': 20582, '5.95': 20583, '3,853': 20584, '673': 20585, '5.45': 20586, '3,060': 20587, '843': 20588, '4.70': 20589, '020-504-5040': 20590, 'sucks': 20591, 'seven-year-old': 20592, 'cheques': 20593, 'ventilation': 20594, 'pipe': 20595, 'Canard': 20596, 'Enchaine': 20597, 'sucked': 20598, 'confederate': 20599, '113.00': 20600, 'Eksportfinans': 20601, 'Suedwest': 20602, 'LB': 20603, '3.60': 20604, '1.75': 20605, 'economists': 20606, 'Suisse': 20607, 'flat': 20608, '0.6': 20609, 'Closing': 20610, 'conf': 20611, '113.02': 20612, 'comi': 20613, 'medium-term': 20614, '109.45': 20615, '97.82': 20616, '4-1/2': 20617, '2006': 20618, '101.80': 20619, '4.252': 20620, '+41': 20621, '631': 20622, '7340': 20623, 'Anti-Bhutto': 20624, 'marched': 20625, 'removal': 20626, 'Benazir': 20627, 'Bhutto': 20628, 'Zardari': 20629, 'Nawaz': 20630, 'Sharif': 20631, 'Muslim': 20632, '16-party': 20633, 'nepotism': 20634, 'Witnesses': 20635, 'colourful': 20636, 'chanting': 20637, 'anti-government': 20638, 'Balochistan': 20639, 'Quetta': 20640, 'extra-judicial': 20641, 'innocent': 20642, 'youths': 20643, 'Mohajir': 20644, 'MQM': 20645, 'turn-out': 20646, 'mobilised': 20647, 'turbulent': 20648, 'calmer': 20649, 'speaks': 20650, 'Urdu-speaking': 20651, 'migrated': 20652, 'Partition': 20653, 'descendants': 20654, 'disaster': 20655, 'dislodge': 20656, 'holy': 20657, 'ACC': 20658, 'Apr-Jul': 20659, 'Associated': 20660, 'Cement': 20661, 'April-July': 20662, '2.93': 20663, 'Nani': 20664, 'Palkhivala': 20665, '3.14': 20666, 'April-March': 20667, '3.01': 20668, 'grinding': 20669, '275,000': 20670, 'Talking': 20671, '1994/95': 20672, '77.79': 20673, '87.45': 20674, 'inadequate': 20675, 'infrastructural': 20676, 'shortages': 20677, 'achieved': 20678, '9.4': 20679, 'retaining': 20680, 'WSRL': 20681, 'Kredietbank': 20682, 'Welspun': 20683, 'Stahl': 20684, 'Rohren': 20685, 'part-finance': 20686, 'submerged': 20687, 'welded': 20688, 'pipes': 20689, 'maturing': 20690, 'Indusind': 20691, 'UTI': 20692, 'Gujarat': 20693, '175,000': 20694, 'annum': 20695, 'longitudinal': 20696, 'spiral': 20697, 'yarn': 20698, 'terry': 20699, 'towels': 20700, 'polyester': 20701, 'fishermen': 20702, 'P.V.': 20703, 'Krishnamoorthy': 20704, 'RAMESWARAM': 20705, 'mid-sea': 20706, 'accosts': 20707, 'Arulanandam': 20708, '850': 20709, 'Rameswaram': 20710, 'Nadu': 20711, 'Tamil-speaking': 20712, 'Karunanidhi': 20713, 'influx': 20714, 'officals': 20715, 'impounded': 20716, 'trawlers': 20717, 'licenses': 20718, 'Fishermen': 20719, 'Bose': 20720, 'naval': 20721, 'assurance': 20722, 'revoke': 20723, 'coerced': 20724, 'Palk': 20725, 'Pesalai': 20726, 'fish': 20727, 'Chinnathambi': 20728, 'unfair': 20729, 'penalise': 20730, 'nevertheless': 20731, 'Fisheries': 20732, 'boundary': 20733, 'enforce': 20734, 'pomfret-rich': 20735, 'offerings': 20736, 'bales': 20737, 'VW': 20738, 'DRESDEN': 20739, 'carmaker': 20740, 'Adelt': 20741, 'Passat': 20742, 'sedan': 20743, 'Gilardi': 20744, 'MILTIADIS': 20745, 'EVERT': 20746, 'HEADS': 20747, 'ALEXANDROUPOLIS': 20748, 'THIS': 20749, 'WEEKEND': 20750, 'Conservative': 20751, 'ND': 20752, 'Miltiadis': 20753, 'Evert': 20754, 'Alexandroupolis': 20755, 'businessmen': 20756, 'depart': 20757, 'unleashing': 20758, 'seven-point': 20759, 'merchants': 20760, 'professionals': 20761, 'pensions': 20762, '600': 20763, 'drachmas': 20764, 'absorption': 20765, 'evasion': 20766, 'accelerate': 20767, 'Faster': 20768, 'component': 20769, 'pushes': 20770, 'Griffiths': 20771, 'floor': 20772, 'chip': 20773, '3921.8': 20774, 'rebounded': 20775, 'jeopardise': 20776, 'tie-up': 20777, 'link-up': 20778, 'Better-than-expected': 20779, 'non-EU': 20780, '506': 20781, '788': 20782, '1.12': 20783, 'Forecasts': 20784, '1.4': 20785, 'nonetheless': 20786, 'buoyed': 20787, '2,563.16': 20788, '4.32': 20789, 'Viannet': 20790, 'Communist-led': 20791, 'CGT': 20792, 'firmer': 20793, '108.40': 20794, 'tankan': 20795, 'gauge': 20796, 'rock-bottom': 20797, 'BOJ': 20798, 'predictions': 20799, 'improving': 20800, 'backbone': 20801, 'spectacular': 20802, 'breakout': 20803, 'Baader': 20804, 'slippage': 20805, 'faltering': 20806, '1.4765': 20807, '107.78': 20808, '1.4779': 20809, '3,920.7': 20810, '15.09': 20811, '2,002.9': 20812, '388.50': 20813, '521.15': 20814, '1=.6421': 20815, 'AEI': 20816, 'ISO': 20817, '9002': 20818, 'Express': 20819, 'twenty-second': 20820, 'accreditation': 20821, 'Veritas': 20822, 'accredited': 20823, 'Iberfreight': 20824, 'Alicante': 20825, 'Bilbao': 20826, 'Seville': 20827, 'Valencia': 20828, 'Wafa': 20829, 'Accusing': 20830, 'stupidity': 20831, 'strongest': 20832, 'expand': 20833, 'Kiryat': 20834, 'Sefer': 20835, 'demolishing': 20836, 'idiots': 20837, 'stupid': 20838, 'withdrawing': 20839, 'hurting': 20840, 'Bethlehem': 20841, 'cater': 20842, 'labourers': 20843, 'Al-Aqsa': 20844, 'Christians': 20845, 'bombings': 20846, 'halves': 20847, 'abandoning': 20848, 'diplomacy': 20849, 'bells': 20850, 'Mahmoud': 20851, 'Abbas': 20852, 'Mazen': 20853, 'Dore': 20854, 'promises': 20855, 'pressing': 20856, 'long-delayed': 20857, 'Hebron': 20858, 'redeployment': 20859, 'Yitzhak': 20860, 'Mordechai': 20861, 'Omer': 20862, 'Akbel': 20863, 'Bilateral': 20864, 'Prodi': 20865, 'DIYARBAKIR': 20866, 'Tunceli': 20867, 'Soldiers': 20868, 'FSA': 20869, 'qualifies': 20870, 'muni': 20871, 'Assurance': 20872, '2.44': 20873, 'Ansgar': 20874, '3.334': 20875, 'obligation': 20876, 'Avalon': 20877, 'Borough': 20878, 'GOs': 20879, 'Seaford': 20880, 'N.Y.': 20881, '6.31': 20882, 'Colo': 20883, 'taxable': 20884, 'Aa2': 20885, 'Fac': 20886, 'Auth': 20887, 'Benevolent': 20888, 'Assoc': 20889, 'Taxable': 20890, '4,300,000': 20891, 'Lamm': 20892, 'ticket-CNN': 20893, 'CNN': 20894, 'competed': 20895, 'three-term': 20896, 'vied': 20897, 'disillusioned': 20898, 'Career': 20899, 'Horizons': 20900, 'Donaldson': 20901, 'Lufkin': 20902, 'Jenrette': 20903, '35-7/8': 20904, 'payout': 20905, 'MINNEAPOLIS': 20906, '0.69': 20907, '408-8787': 20908, 'mull': 20909, 'Vowinkel': 20910, 'appeals': 20911, 'Names': 20912, 'reorganisation': 20913, 'Chiate': 20914, 'reinsure': 20915, 'liabilities': 20916, 'Equitas': 20917, '1100': 20918, 'Rowland': 20919, 'litigation': 20920, 'Head': 20921, 'Chairmen': 20922, 'Appeals': 20923, 'Circuit': 20924, 'Gale': 20925, 'Norton': 20926, 'immunizes': 20927, 'Ninth': 20928, 'seeks': 20929, 'rescision': 20930, 'alternate': 20931, 'remedy': 20932, 'individually': 20933, 'Rejection': 20934, 'forfeiting': 20935, 'risking': 20936, 'rejecting': 20937, 'gestures': 20938, 'NUREMBERG': 20939, 'Bavarian': 20940, 'detail': 20941, 'Nuremberg-based': 20942, 'duty': 20943, 'prosecutors': 20944, 'Adolf': 20945, 'infamous': 20946, 'prosecute': 20947, 'Gun-wielding': 20948, 'BERLIN': 20949, 'pistol': 20950, 'overtook': 20951, 'lane': 20952, 'photographed': 20953, 'Prosecutors': 20954, 'Potsdam': 20955, 'nerve': 20956, 'coercion': 20957, 'file': 20958, 'pictures': 20959, 'degrading': 20960, 'lets': 20961, 'commit': 20962, 'clerk': 20963, 'U': 20964, 'indecency': 20965, 'performing': 20966, 'sadistic': 20967, 'torture': 20968, 'oral': 20969, 'fanfare': 20970, 'alerted': 20971, 'packages': 20972, 'Sep': 20973, 'Archaeological': 20974, 'Society': 20975, 'Reppas': 20976, 'Theodoros': 20977, 'Pangalos': 20978, 'coincide': 20979, 'celebrations': 20980, 'Industrial': 20981, 'components': 20982, '756': 20983, '829': 20984, '876': 20985, '933': 20986, '1.07': 20987, '0.98': 20988, '657': 20989, '1.00': 20990, '1.09': 20991, '2.37': 20992, '2.01': 20993, 'refer': 20994, 'cavorting': 20995, 'Ducruet': 20996, 'bodyguard': 20997, 'naked': 20998, 'poolside': 20999, 'Tremila': 21000, 'Gente': 21001, 'undressing': 21002, 'embracing': 21003, 'sunbed': 21004, 'explicit': 21005, 'Fili': 21006, 'Houteman': 21007, 'singer': 21008, 'dancer': 21009, 'cabaret': 21010, 'principality': 21011, 'Rainier': 21012, 'disapproved': 21013, 'Caroline': 21014, 'Grace': 21015, 'Cap': 21016, 'Villefranche': 21017, 'cameras': 21018, 'sound-track': 21019, 'Highlights': 21020, 'Almeida': 21021, 'Saxony': 21022, 'IP': 21023, '804': 21024, 'Pao': 21025, 'Acucar': 21026, 'Auchan': 21027, '805': 21028, 'CAMAT': 21029, 'AGF-IART': 21030, '806': 21031, 'clears': 21032, 'Billa': 21033, 'Rewe-Handelsgruppe': 21034, 'SPEECH': 21035, 'Speech': 21036, 'Anita': 21037, 'Gradin': 21038, 'Sexual': 21039, 'Exploitation': 21040, 'Stockholm': 21041, 'Eurostat': 21042, '51/96': 21043, 'March-May': 21044, 'tomato': 21045, 'warriors': 21046, 'BUNOL': 21047, 'Revellers': 21048, 'Bunol': 21049, 'pelted': 21050, 'armfuls': 21051, 'ripe': 21052, 'tomatoes': 21053, 'coated': 21054, 'blood-red': 21055, 'wash': 21056, 'firework': 21057, 'fruit-throwing': 21058, 'frenzy': 21059, 'hurl': 21060, 'occasion': 21061, 'historians': 21062, '1945': 21063, 'disgruntled': 21064, 'locals': 21065, 'spontaneously': 21066, 'bombard': 21067, 'fiesta': 21068, 'Boo-nee-OL': 21069, 'fame': 21070, 'grown': 21071, 'GREECE': 21072, 'IMERISIA': 21073, 'Pre-election': 21074, 'heats': 21075, 'includind': 21076, 'Pasok': 21077, 'scrambles': 21078, 'slaps': 21079, 'coupons': 21080, '12.70': 21081, 'upcoming': 21082, 'FINANCIAL': 21083, 'KATHIMERINI': 21084, 'Inflows': 21085, 'post-election': 21086, 'subway': 21087, 'snags': 21088, 'overshoot': 21089, '520': 21090, 'lighten': 21091, 'KERDOS': 21092, 'vows': 21093, 'mesures': 21094, 'kicks': 21095, 'Yannos': 21096, 'Papandoniou': 21097, 'drachma': 21098, 'EXPRESS': 21099, 'Message': 21100, 'Constantine': 21101, 'Mitsotakis': 21102, 'shake': 21103, 'NAFTEMBORIKI': 21104, 'annually': 21105, 'Georgiopoulos': 21106, 'HOEK': 21107, 'LOOS': 21108, 'PROFIT': 21109, '28.9': 21110, 'GUILDERS': 21111, '24.5': 21112, '273.6': 21113, '290.3': 21114, '44.4': 21115, '40.7': 21116, 'gases': 21117, 'Hoek': 21118, 'Loos': 21119, '13.26': 21120, 'Stagecoach': 21121, 'Swebus': 21122, 'principle': 21123, 'stg-plus': 21124, 'vendors': 21125, 'conditional': 21126, 'see-saw': 21127, '0515': 21128, 'Ninety-day': 21129, '9.93': 21130, '90.18': 21131, 'samurai': 21132, 'Volumes': 21133, 'eurokiwi': 21134, 'issuance': 21135, 'certainty': 21136, '4746': 21137, 'Guinness': 21138, 'Peat': 21139, 'GPG': 21140, 'profitability': 21141, 'inevitably': 21142, 'Weiss': 21143, '9.77': 21144, '6.93': 21145, 'pleasing': 21146, 'stemmed': 21147, 'consolidate': 21148, 'Tyndall': 21149, 'Mid-East': 21150, 'Newcrest': 21151, 'abnormals': 21152, '20.81': 21153, '42.4': 21154, 'Telfer': 21155, 'Boddington': 21156, 'grades': 21157, 'evades': 21158, 'bush': 21159, 'BRISBANE': 21160, 'dense': 21161, 'bushland': 21162, 'occured': 21163, '6.30': 21164, '2030': 21165, 'Glenwood': 21166, 'Maryborough': 21167, 'emergent': 21168, 'quarantine': 21169, 'sightings': 21170, '.22': 21171, 'self-loading': 21172, 'probability': 21173, 'bushman': 21174, 'fixed-wing': 21175, 'cordon': 21176, 'sq': 21177, 'littered': 21178, 'caves': 21179, 'hideout': 21180, 'enabled': 21181, 'evade': 21182, 'heated': 21183, 'Tasmania': 21184, 'rampage': 21185, 'penal': 21186, 'Ek': 21187, 'Chor': 21188, 'motorcyle': 21189, 'Shanghai-Ek': 21190, 'Motorcycle': 21191, 'Sino-Thai': 21192, 'gasoline': 21193, 'engines': 21194, 'Pudong': 21195, 'Capacity': 21196, 'Automobile': 21197, '1.56': 21198, 'Xingfu': 21199, 'motorcycles': 21200, 'Khmer': 21201, 'Rouge': 21202, 'Ieng': 21203, 'Sary': 21204, 'Pol': 21205, 'Pot': 21206, 'ARANYAPRATHET': 21207, 'Dissident': 21208, 'hardliners': 21209, 'DNUM': 21210, 'Cambodian': 21211, 'Ta': 21212, 'Mok': 21213, 'Son': 21214, 'dictatorial': 21215, 'copy': 21216, 'absentia': 21217, 'Cambodia': 21218, '1975-1979': 21219, 'overwork': 21220, 'French-educated': 21221, 'brother-in-law': 21222, 'PHNOM': 21223, 'PENH': 21224, 'Russian-made': 21225, 'MI-17': 21226, 'Phnom': 21227, 'Penh': 21228, 'Mouly': 21229, 'resupply': 21230, 'Stung': 21231, 'Treng': 21232, 'MOF': 21233, 'Kubo': 21234, 'geared': 21235, 'worsening': 21236, 'supplementary': 21237, 'contraction': 21238, 'smoothly': 21239, 'mid-September': 21240, 'April-June': 21241, 'acknowledge': 21242, 'wartime': 21243, 'tide': 21244, 'resurgent': 21245, 'militarism': 21246, 'atrocities': 21247, 'unrepentant': 21248, 'militarists': 21249, 'undecided': 21250, 'indignant': 21251, 'shrine': 21252, 'dedicated': 21253, 'whitewash': 21254, '1931': 21255, 'genuinely': 21256, 'apologised': 21257, 'remorse': 21258, 'Sakigake': 21259, 'Masayoshi': 21260, 'Takemura': 21261, 'smallest': 21262, 'LDP': 21263, 'destabilise': 21264, 'splits': 21265, 'reform-oriented': 21266, 'Yukio': 21267, 'Hatoyama': 21268, '49-year-old': 21269, 'snubbed': 21270, '62-year-old': 21271, 'pointedly': 21272, 'Marathon': 21273, 'allies': 21274, 'resolve': 21275, 'backers': 21276, 'tainted': 21277, 'LDP-dominated': 21278, 'unpopular': 21279, 'taxpayer': 21280, 'ruined': 21281, 'stalled': 21282, 'defectors': 21283, 'bolts': 21284, 'lawmakers': 21285, 'eight-month-old': 21286, 'dissolve': 21287, 'reconvenes': 21288, 'Hing': 21289, '2.7': 21290, '65.61': 21291, '63.87': 21292, '249.53': 21293, '242.94': 21294, '119.49': 21295, '134.40': 21296, '23-27': 21297, 'engages': 21298, 'warehousing': 21299, 'Fire': 21300, 'hurled': 21301, 'Consulate-General': 21302, 'Stromme': 21303, '430': 21304, 'Somebody': 21305, 'molotov': 21306, 'cocktail': 21307, 'parking': 21308, 'novelist': 21309, 'Writers': 21310, 'Dai': 21311, 'Houying': 21312, '1966-76': 21313, 'Revolution': 21314, 'intellectuals': 21315, 'Born': 21316, '1937': 21317, 'Anhui': 21318, 'prolific': 21319, 'teacher': 21320, 'Hawaii': 21321, 'Ren': 21322, 'translated': 21323, 'Hwa': 21324, 'Kay': 21325, 'plunges': 21326, 'all-time': 21327, '30.26': 21328, '0.53': 21329, 'unloaded': 21330, '47.5': 21331, '3,684': 21332, '7,011': 21333, '3,292': 21334, '1,683': 21335, '5,539': 21336, '115,941': 21337, '38.4': 21338, '83,801': 21339, 'year-ago': 21340, '813': 21341, 'editorials': 21342, 'straights': 21343, 'Beijing-funded': 21344, 'WEN': 21345, 'WEI': 21346, 'PO': 21347, 'stem': 21348, 'strait': 21349, 'MING': 21350, 'newly-established': 21351, 'Frontier': 21352, 'anxieties': 21353, 'lead-up': 21354, 'CHINA': 21355, 'MORNING': 21356, 'judiciary': 21357, 'subjected': 21358, 'paramount': 21359, 'survival': 21360, 'ECONOMIC': 21361, 'indecisive': 21362, 'hesitancy': 21363, '6441': 21364, 'frees': 21365, 'GAZA': 21366, 'Dahman': 21367, 'Gaza-based': 21368, 'Addameer': 21369, 'Prisoners': 21370, 'Attorney-General': 21371, 'Khaled': 21372, 'al-Qidra': 21373, 'Qidra': 21374, 'false': 21375, 'Nahed': 21376, 'Dahlan': 21377, 'Headlines': 21378, 'EL': 21379, 'PAIS': 21380, 'Work': 21381, 'juvenile': 21382, 'Country': 21383, 'MUNDO': 21384, 'Aleix': 21385, 'Vidal-Quadras': 21386, 'Catalan': 21387, 'defenestration': 21388, 'DIARIO': 21389, 'Worldwide': 21390, 'CINCO': 21391, 'DIAS': 21392, 'Santander': 21393, 'conquest': 21394, 'EXPANSION': 21395, 'GACETA': 21396, 'NEGOCIOS': 21397, 'Caja': 21398, 'Banisadr': 21399, 'Abolhassan': 21400, 'commandeered': 21401, 'round-the-clock': 21402, 'fearing': 21403, 'gangland-style': 21404, 'machinegun': 21405, 'heed': 21406, 'revolution': 21407, 'sworn': 21408, 'enemy': 21409, 'chiefs': 21410, 'Iberia': 21411, 'installations': 21412, 'consists': 21413, 'Joulwan': 21414, 'Allied': 21415, 'Sheehan': 21416, 'COPENHAGEN': 21417, 'cleaning': 21418, 'Aaxis': 21419, 'Limited': 21420, '10.9': 21421, 'logo': 21422, 'falsified': 21423, 'accounts': 21424, 'provisions': 21425, '146': 21426, 'necessitate': 21427, 'Copenhagen': 21428, '+45': 21429, '33969650': 21430, 'balks': 21431, 'balked': 21432, 'blaming': 21433, 'stringent': 21434, 'surpasses': 21435, 'sewers': 21436, 'interfering': 21437, 'augment': 21438, 'threaten': 21439, 'DHA': 21440, 'coordinate': 21441, '1.13': 21442, 'monies': 21443, 'reparations': 21444, 'deducted': 21445, 'overseeing': 21446, 'anticipated': 21447, 'supervision': 21448, '1,190': 21449, '267': 21450, '923': 21451, '598': 21452, 'York-based': 21453, 'overseers': 21454, 'undersecretary-general': 21455, 'percentile': 21456, 'Aircraft': 21457, 'emissions': 21458, 'CAEP': 21459, 'Consultancy': 21460, 'Call': 21461, '251/09': 21462, 'Provision': 21463, 'overland': 21464, 'delegations': 21465, 'Countries': 21466, 'NIS': 21467, 'Contract': 21468, 'TRA': 21469, '003': 21470, 'IAE-3': 21471, '251/08': 21472, 'Microfiche': 21473, 'Invitation': 21474, 'DI': 21475, '96/04': 21476, 'Micromation': 21477, '251/07': 21478, 'Gaseous': 21479, '251/06': 21480, 'Tacis': 21481, 'coordination': 21482, 'Notice': 21483, '251/05': 21484, 'REGULATION': 21485, 'EEC': 21486, '4064/89': 21487, '251/04': 21488, 'STATEMENTS': 21489, 'COAL': 21490, 'STEEL': 21491, 'COMMUNITY': 21492, 'DECEMBER': 21493, '251/03': 21494, 'wines': 21495, '251/02': 21496, 'Ecu': 21497, '251/01': 21498, 'cull': 21499, 'Obviously': 21500, 'examine': 21501, 'Kiely': 21502, 'dynamics': 21503, 'bovine': 21504, 'spongiform': 21505, 'encephalopathy': 21506, 'methodology': 21507, 'slaughtered': 21508, 'eradication': 21509, 'disappoint': 21510, 'Nature': 21511, 'predicted': 21512, '340': 21513, 'infections': 21514, 'Naish': 21515, '147,000': 21516, 'reluctantly': 21517, 'placate': 21518, 're-examined': 21519, 'considerably': 21520, 'culled': 21521, 'reopen': 21522, 'slapped': 21523, 'Creutzfeldt-Jakob': 21524, 'Disease': 21525, 'CJD': 21526, 'BSE-infected': 21527, 'blockades': 21528, 'roadblocks': 21529, 'importing': 21530, 'radios': 21531, 'blockaded': 21532, 'motorways': 21533, '0100': 21534, 'discovery': 21535, 'Chopra': 21536, \"O'Malley\": 21537, 'Walton': 21538, 'Iain': 21539, 'Romero': 21540, 'Jimenez': 21541, '147': 21542, 'Antoine': 21543, 'Lebouc': 21544, 'Curry': 21545, 'Affleck': 21546, 'SORENSEN': 21547, 'DOETINCHEM': 21548, '19.6': 21549, 'Sorensen': 21550, 'Ekimov': 21551, 'Giunluca': 21552, 'Gorini': 21553, 'Breukink': 21554, 'Wilfried': 21555, 'Peeters': 21556, 'Bart': 21557, 'Voskamp': 21558, 'Randolph': 21559, '11.20:33': 21560, 'Lietti': 21561, 'MG-Technogym': 21562, 'Maarten': 21563, 'Bakker': 21564, 'Olaf': 21565, 'fifth-stage': 21566, 'Zevenaar': 21567, 'Venray': 21568, 'ONE-DAYER': 21569, 'overs-a-side': 21570, '225-5': 21571, '46.4': 21572, '4:15.006': 21573, '4:23.029': 21574, '4:16.141': 21575, '4:19.665': 21576, '4:11.114': 21577, '4:20.341': 21578, 'Darryn': 21579, '44.804': 21580, 'Fiedler': 21581, '45.455': 21582, 'Florian': 21583, 'Rousseau': 21584, '45.810': 21585, 'Georgios': 21586, 'Chimonetos': 21587, 'Lampros': 21588, 'Vasilopoulos': 21589, '46.538': 21590, 'Magali': 21591, 'Faure': 21592, 'Kathrin': 21593, 'Freitag': 21594, '11.833': 21595, '12.033': 21596, 'Felicia': 21597, 'Ballanger': 21598, 'Grichina': 21599, '11.776': 21600, '12.442': 21601, 'Tanya': 21602, 'Dubnicoff': 21603, '12.211': 21604, '12.208': 21605, 'Annett': 21606, 'Neumann': 21607, 'Enioukhina': 21608, '12.434': 21609, '12.177).': 21610, 'CROFT': 21611, 'RESTRICTS': 21612, 'Tight': 21613, '225': 21614, 'Englishmen': 21615, '10-1-36-2': 21616, 'skying': 21617, 'long-on': 21618, 'off-side': 21619, 'well-flighted': 21620, 'pavilion': 21621, 'inswinging': 21622, 'yorker': 21623, 'b-2': 21624, 'w-7': 21625, '1-82': 21626, '2-141': 21627, '3-160': 21628, '4-174': 21629, '5-203': 21630, 'Bat': 21631, 'Saqlain': 21632, '10-0-44-1': 21633, '10-3-31-1': 21634, '10-0-52-0': 21635, '10-0-56-1': 21636, 'nb-4': 21637, '1-57': 21638, '2-98': 21639, '3-146': 21640, '4-200': 21641, '5-220': 21642, '9.4-1-45-3': 21643, '7-0-28-1': 21644, '10-1-54-0': 21645, '3-0-14-0': 21646, '7-1-29-1': 21647, 'Edgbaston': 21648, 'LOMBARDI': 21649, 'Lombardi': 21650, 'Polti': 21651, 'Hans': 21652, 'Clerq': 21653, 'Jemison': 21654, 'Servais': 21655, 'Knaven': 21656, '10.57:33': 21657, 'fourth-stage': 21658, 'Doetinchem-Doetinchem': 21659, 'TEAMS': 21660, 'Tunbridge': 21661, '40-3': 21662, '4-66': 21663, '4-45': 21664, '82-0': 21665, 'Hove': 21666, '285-6': 21667, 'Athey': 21668, '79-2': 21669, '259': 21670, 'Saggers': 21671, '6-65': 21672, '8-0': 21673, '114': 21674, 'Watkin': 21675, '4-28': 21676, 'Solanki': 21677, '4-31': 21678, '166-1': 21679, 'Barnett': 21680, '226-1': 21681, 'Pooley': 21682, 'Ramprakash': 21683, '5-55': 21684, 'Fay': 21685, '4-77': 21686, '202-5': 21687, '183': 21688, '123-4': 21689, 'TELFER': 21690, 'LIONS': 21691, 'COACHING': 21692, 'ROLE': 21693, '1996-08-30': 21694, 'Lions': 21695, 'McGeechan': 21696, 'GROBBELAAR': 21697, 'NAMED': 21698, 'TEMPORARY': 21699, 'England-based': 21700, 'Bruce': 21701, 'Grobbelaar': 21702, 'ZIFA': 21703, 'vice-chairman': 21704, 'Pamire': 21705, 'Harare': 21706, 'five-nation': 21707, 'Castle': 21708, 'Duvillard': 21709, 'Argyle': 21710, 'Segers': 21711, 'Fashanu': 21712, 'Heng': 21713, 'Suan': 21714, 'Lim': 21715, 'pleaded': 21716, 'accepting': 21717, 'DINAMO': 21718, '69-60': 21719, '35-23': 21720, '97-94': 21721, '39-32': 21722, 'Jenson': 21723, '9-15': 21724, '.468': 21725, '.436': 21726, '.413': 21727, 'Krizan': 21728, 'Lila': 21729, 'Osterloh': 21730, 'Nanne': 21731, 'Dahlman': 21732, '8-': 21733, '.561': 21734, '.353': 21735, '.602': 21736, '.478': 21737, '.564': 21738, '.459': 21739, '29TH': 21740, '.626': 21741, '.444': 21742, '.403': 21743, '.424': 21744, '.552': 21745, 'BRAWL': 21746, 'CONTINUE': 21747, 'SLIDE': 21748, 'Yankee': 21749, 'Mulholland': 21750, 'bench-clearing': 21751, 'Divisional': 21752, 'Playoff': 21753, 'Kingdome': 21754, 'ejected': 21755, 'Marzano': 21756, 'brushed': 21757, 'Wengert': 21758, 'nine-hitter': 21759, 'Herrera': 21760, 'minors': 21761, 'Baldwin': 21762, 'Ozzie': 21763, 'Guillen': 21764, '10-4': 21765, 'Nilsson': 21766, 'Offerman': 21767, 'Rick': 21768, 'Huisman': 21769, 'Hentgen': 21770, '17-7': 21771, 'tossing': 21772, 'Orel': 21773, 'Hershiser': 21774, 'Belle': 21775, 'MARTINEZ': 21776, 'AGGRESSIVE': 21777, 'Yorkers': 21778, 'new-found': 21779, 'aggressiveness': 21780, 'adjusting': 21781, 'louder': 21782, 'messed': 21783, 'adrenalin': 21784, 'lanes': 21785, 'NEAGLE': 21786, 'pitching': 21787, 'baseball': 21788, 'winningest': 21789, 'Ron': 21790, 'Wright': 21791, 'Double-A': 21792, 'Greenville': 21793, 'Pointer': 21794, 'Class-A': 21795, 'mid-season': 21796, '11-game': 21797, 'minor-league': 21798, 'phenom': 21799, 'Andruw': 21800, 'post-season': 21801, 'Abdellaoui': 21802, 'Graef': 21803, '36th': 21804, '10,760': 21805, 'BAILEY': 21806, 'RELAY': 21807, 'honour': 21808, '4x100': 21809, 'assembled': 21810, 'quartets': 21811, '1936': 21812, 'anchor': 21813, 'autograph': 21814, 'ornate': 21815, 'Dillard': 21816, 'Lindy': 21817, 'Remigino': 21818, 'Hines': 21819, 'Hasely': 21820, 'Crawford': 21821, 'inspired': 21822, 'grand-daughter': 21823, 'Gina': 21824, 'Tillman': 21825, 'GENOA': 21826, 'AWARDED': 21827, 'Bachini': 21828, 'NICE': 21829, 'SACK': 21830, 'EMON': 21831, 'Struggling': 21832, 'parting': 21833, 'Emon': 21834, 'Bois': 21835, 'Bronckhorst': 21836, 'Ferdy': 21837, 'BRITAIN': 21838, 'WELCOMES': 21839, 'ROMANIA-HUNGARY': 21840, 'TREATY': 21841, 'ACCORD': 21842, 'much-delayed': 21843, 'positively': 21844, 'neighbourly': 21845, 'EMBASSY': 21846, 'CLOSED': 21847, 'LABOUR': 21848, 'SEP': 21849, 'consulates': 21850, 'Thessaloniki': 21851, 'observance': 21852, 'PARTY': 21853, 'PICKS': 21854, 'BOLD': 21855, 'OGILVY': 21856, 'MATHER': 21857, 'CAMPAIGN': 21858, 'Bold': 21859, 'Ogilvy': 21860, 'Mather': 21861, 'pre-election': 21862, 'communication': 21863, 'linked': 21864, 'divorces': 21865, 'romantically': 21866, 'petition': 21867, 'presenter': 21868, 'mocked': 21869, 'gymnasium': 21870, 'LIFFE': 21871, 'APT': 21872, 'Futures': 21873, 'automated': 21874, 'pit': 21875, 'tabular': 21876, 'MONTH': 21877, 'SETTLEMENT': 21878, 'SETTLE': 21879, 'LONG': 21880, 'GILT': 21881, '1/32': 21882, '107-12': 21883, '107-10': 21884, '107-06': 21885, 'STERLING': 21886, '94.26': 21887, '97.42': 21888, '97.38': 21889, '97.34': 21890, 'EUROMARK': 21891, '96.84': 21892, '96.83': 21893, '115.62': 21894, '115.58': 21895, '115.32': 21896, 'EUROLIRA': 21897, '91.37': 21898, '91.36': 21899, '91.33': 21900, 'EUROSWISS': 21901, '97.79': 21902, '97.80': 21903, '3,894.00': 21904, '3,941.50': 21905, 'installs': 21906, 'KINSHASA': 21907, 'CNE': 21908, 'Kinshasa': 21909, '9,446': 21910, 'deployed': 21911, 'deadlines': 21912, 'Yoka': 21913, 'Lye': 21914, 'Mudaba': 21915, 'Delegates': 21916, 'progressively': 21917, 'Maniema': 21918, 'Shaba': 21919, 'Bandundu': 21920, 'installation': 21921, 'Mobutu': 21922, 'Sese': 21923, 'Seko': 21924, 'object': 21925, 'insists': 21926, 'Ikimi': 21927, 'fact-finding': 21928, 'wanting': 21929, 'ministerial': 21930, 'continuation': 21931, 'Saro-Wiwa': 21932, 'restricted': 21933, 'Beatrix': 21934, 'cultural': 21935, '1652': 21936, 'guns': 21937, 'forbidden': 21938, 'categories': 21939, \"N'DJAMENA\": 21940, 'Idriss': 21941, 'Deby': 21942, 'Nomads': 21943, '125-member': 21944, 'FRATERNITE': 21945, 'MATIN': 21946, 'establishes': 21947, 'decentralisation': 21948, 'VOIE': 21949, 'Bauza': 21950, 'Donwahi': 21951, 'Douati': 21952, 'Alphonse': 21953, 'illicit': 21954, 'swine': 21955, 'JOUR': 21956, 'Lakpe': 21957, 'publisher': 21958, 'appoints': 21959, 'Colonel': 21960, 'Severin': 21961, 'Kouame': 21962, 'Tanny': 21963, '+225': 21964, 'confrontation': 21965, 'Mahala': 21966, 'Zvornik': 21967, 'Lieutenant': 21968, 'Marriner': 21969, 'retaliation': 21970, 'angry': 21971, 'mob': 21972, 'long-barreled': 21973, 'AK-47': 21974, 'Storm': 21975, 'SKOPJE': 21976, 'lightning': 21977, 'Berovo': 21978, 'cathedral': 21979, 'thunderstorm': 21980, 'Kornblum': 21981, 'Milosevic': 21982, 'Greste': 21983, 'Slobodan': 21984, 'defuse': 21985, 'manipulation': 21986, 'Srpska': 21987, 'bolster': 21988, 'patron': 21989, 'rectify': 21990, 'expulsions': 21991, 'blessing': 21992, 'Banja': 21993, 'Luka': 21994, 'Biljana': 21995, 'Plavsic': 21996, 'oversee': 21997, 'mini-state': 21998, 'Voters': 21999, 'choosing': 22000, 'three-member': 22001, 'comprised': 22002, '2,901.48': 22003, 'rbls': 22004, 'RAO': 22005, 'roubles': 22006, '2,891.00': 22007, 'FFK': 22008, 'Starting': 22009, '2,746': 22010, '2,840': 22011, '2,998': 22012, '0.042': 22013, '139.75': 22014, '0.59': 22015, '23.6': 22016, 'illiquid': 22017, 'harder': 22018, '406.6': 22019, '0.375': 22020, 'Artyom': 22021, 'Danielyan': 22022, 'Kosovo': 22023, 'boycotted': 22024, 'institutions': 22025, 'Bajgora': 22026, 'Donje': 22027, 'Ljupce': 22028, 'Podujevo': 22029, 'Celopek': 22030, 'revoked': 22031, 'cracked': 22032, 'moderates': 22033, 'cradle': 22034, 'Viral': 22035, 'meningitis': 22036, 'Emanuil': 22037, 'Ceausu': 22038, 'Babes': 22039, 'infectious': 22040, 'virus': 22041, 'lasts': 22042, 'gastro-intestinal': 22043, 'tract': 22044, 'Vukasin': 22045, 'Filipovic': 22046, 'supplying': 22047, 'staging': 22048, 'mismanagement': 22049, 'FinMin': 22050, 'Raul': 22051, 'Matos': 22052, 'Azocar': 22053, '1630': 22054, 'IMF-hosted': 22055, 'seminar': 22056, 'Agenda': 22057, 'metric': 22058, 'sail': 22059, 'Cartagena': 22060, 'shipping': 22061, 'coffee': 22062, 'non-oil': 22063, 'non-traditional': 22064, '334': 22065, '302': 22066, 'OCEI': 22067, 'IMF-sponsored': 22068, '2.240': 22069, '2.693': 22070, '951': 22071, 'Chemical': 22072, 'foods': 22073, '27.4': 22074, '24.6': 22075, 'JPR': 22076, 'cops': 22077, 'racket': 22078, 'Thirteen': 22079, 'Lago': 22080, 'Nacion': 22081, 'credibility': 22082, 'undermined': 22083, 'scandals': 22084, 'indictment': 22085, 'Piotti': 22086, '3,600': 22087, 'dishonest': 22088, 'purged': 22089, 'brave': 22090, \"gov't\": 22091, 'Kandir': 22092, 'constitutionally': 22093, 'same-day': 22094, 'Cetes': 22095, 'nervousness': 22096, '24.25': 22097, 'Co-ordinated': 22098, 'acceptances': 22099, 'pagares': 22100, '25.10': 22101, 'longer-term': 22102, 'masked': 22103, 'Oaxaca': 22104, 'assaults': 22105, 'Maturing': 22106, 'credits': 22107, '2.209': 22108, 'oversupply': 22109, '684': 22110, 'shortfall': 22111, 'inflow': 22112, 'Lezama': 22113, 'newroom': 22114, '728': 22115, '9554': 22116, '05:53': 22117, 'CHILPANCINGO': 22118, 'Pre-electoral': 22119, 'bickering': 22120, 'Acatepec': 22121, 'Mayor': 22122, 'fanned': 22123, 'intimidate': 22124, 'stirred': 22125, 'Agir': 22126, 'Ensemble': 22127, 'pour': 22128, 'les': 22129, 'Droits': 22130, \"l'Homme\": 22131, 'exerted': 22132, 'psychological': 22133, 'grabs': 22134, 'Aguirre': 22135, '47-year-old': 22136, 'Tribunal': 22137, 'Pessina': 22138, 'restaurants': 22139, 'travelled': 22140, 'condemn': 22141, 'day-to-day': 22142, 'punish': 22143, 'landless': 22144, 'peasants': 22145, 'countryside': 22146, 'Letter': 22147, 'Churches': 22148, 'Coordinate': 22149, 'Ecumenical': 22150, 'endemic': 22151, 'Thirty-six': 22152, 'massacred': 22153, 'Para': 22154, 'Lucas': 22155, 'Moreira': 22156, 'Neves': 22157, 'Bishops': 22158, 'flees': 22159, 'passport': 22160, 'consular': 22161, 'anti-corruption': 22162, 'soliciting': 22163, 'Corruption': 22164, 'ICAC': 22165, 'anti-graft': 22166, 'Consulate': 22167, 'bribe': 22168, '12,940': 22169, 'scams': 22170, 'Honduran': 22171, 'passports': 22172, 'thinks': 22173, 'solve': 22174, 'woes': 22175, '1,617': 22176, 'Rajapat': 22177, 'warnings': 22178, 'pullouts': 22179, 'Chatichai': 22180, 'Choonhavan': 22181, 'Chavalit': 22182, 'Yongchaiyudh': 22183, 'Aspiration': 22184, 'insincere': 22185, 'slowdown': 22186, 'switched': 22187, 'monarchy': 22188, '1932': 22189, 'Yassin': 22190, 'Ramle': 22191, '60-year-old': 22192, 'fundamentalist': 22193, 'wrecking': 22194, 'confined': 22195, 'freeing': 22196, 'SKHIRAT': 22197, 'Skhirat': 22198, 'Rabat': 22199, 'purely': 22200, 'Accompanied': 22201, 'Scandal': 22202, 'vital': 22203, 'Conlon': 22204, 'triumphal': 22205, '10-week': 22206, 'abruptly': 22207, '200-an-hour': 22208, 'eavesdrop': 22209, 'conversations': 22210, 'campaigns': 22211, 'invaluable': 22212, 'captivated': 22213, 'worried': 22214, 'Senator': 22215, 'Dianne': 22216, 'Feinstein': 22217, 'bump': 22218, '50-year-old': 22219, 'dogged': 22220, 'wrongdoing': 22221, 'misconduct': 22222, 'questionable': 22223, 'judgment': 22224, 'selecting': 22225, 'advisers': 22226, 'chart': 22227, 'revert': 22228, 're-elected': 22229, 'hall': 22230, 'revelled': 22231, 'heartland': 22232, 'hoarse': 22233, 'voice': 22234, 'resolute': 22235, 'wit': 22236, 'stilted': 22237, 'glib': 22238, 'Piper': 22239, 'Jaffray': 22240, 'tax-exempt': 22241, 'compiled': 22242, 'Previous': 22243, '8/30': 22244, 'Week': 22245, 'Change': 22246, '-------------------------': 22247, 'A-rated': 22248, \"Gen'l\": 22249, 'Obligation': 22250, '4.45': 22251, '4.40': 22252, '+0.05': 22253, '4.90': 22254, '-----': 22255, '5.40': 22256, '5.35': 22257, '5.55': 22258, 'Rev': 22259, 'Researchers': 22260, 'muscular': 22261, 'dystrophy': 22262, 'gene-therapy': 22263, 'technique': 22264, 'Gene': 22265, 'Therapy': 22266, 'telethon': 22267, 'method': 22268, 'Muscular': 22269, 'muscle': 22270, 'degenerates': 22271, 'adulthood': 22272, 'Individuals': 22273, 'non-working': 22274, 'producing': 22275, 'dystrophin': 22276, 'altered': 22277, 'common-cold': 22278, 'minimise': 22279, 'susceptibility': 22280, 'injected': 22281, 'mice': 22282, 'bred': 22283, 'genes': 22284, 'experiment': 22285, 'fibers': 22286, 'diminishing': 22287, 'Similar': 22288, 'test-tube': 22289, 'immune-system': 22290, 'Grain': 22291, 'oilseeds': 22292, 'oilseed': 22293, 'WHEAT': 22294, 'SALES': 22295, 'Assn': 22296, '98,000': 22297, 'No.1': 22298, 'No.2': 22299, 'Cargill': 22300, 'Mitsui': 22301, 'Dreyfus': 22302, 'Northwest': 22303, '10-30': 22304, '16,300': 22305, 'DNS': 22306, '212.00': 22307, '205.10': 22308, 'WW': 22309, '202.65': 22310, '19,500': 22311, '212.25': 22312, '204.74': 22313, '199.71': 22314, '23,500': 22315, '9,600': 22316, '4,900': 22317, '199.56': 22318, 'Commodity': 22319, '18,278': 22320, '195.79': 22321, 'FOB': 22322, 'donation': 22323, 'Shipment': 22324, 'BARLEY': 22325, 'SOYBEAN': 22326, 'Taichung': 22327, 'Breakfast': 22328, 'Soybean': 22329, 'Procurement': 22330, '108,000': 22331, 'soybeans': 22332, 'Bunge': 22333, '11-25': 22334, 'PNW': 22335, '0.8584': 22336, '6-20': 22337, '.8787': 22338, '31,412': 22339, 'PL-480': 22340, '303.19': 22341, 'buyer': 22342, '15-30': 22343, 'TENDER': 22344, 'MARKET': 22345, 'TALK': 22346, '595,400': 22347, '319,600': 22348, '12,300': 22349, '300,800': 22350, 'upland': 22351, '50,400': 22352, '54,800': 22353, '100,600': 22354, '75,000': 22355, '1,700': 22356, 'sorghum': 22357, '6,200': 22358, '156,700': 22359, 'pima': 22360, '49,900': 22361, 'Oilseed': 22362, 'poultry': 22363, 'fruits': 22364, 'gaining': 22365, '25.0': 22366, 'quota': 22367, 'ONIC': 22368, 'panel': 22369, 'cutout': 22370, 'offal': 22371, 'DES': 22372, 'MOINES': 22373, 'steer': 22374, '9.76': 22375, '0.03': 22376, 'Help-wanted': 22377, 'ad': 22378, 'help-wanted': 22379, 'uneven': 22380, '83.0': 22381, '85.0': 22382, 'Goldstein': 22383, 'Recent': 22384, 'want-ad': 22385, 'hiring': 22386, 'unemployment': 22387, 'matched': 22388, 'jewel': 22389, 'heist': 22390, 'ATLANTIC': 22391, '690,000': 22392, 'jewelry': 22393, 'Showboat': 22394, 'Hotel': 22395, 'Capt': 22396, 'Andrews': 22397, 'videotape': 22398, 'suitcase': 22399, 'resembling': 22400, 'wholesaler': 22401, 'Schein': 22402, 'suitcases': 22403, 'closet': 22404, 'Jewellers': 22405, 'mid-twenties': 22406, 'distract': 22407, 'McGilley': 22408, 'description': 22409, 'O.J.': 22410, 'Simpson': 22411, 'hints': 22412, 'financially': 22413, 'jury': 22414, 'gag': 22415, 'prohibits': 22416, 'acquittal': 22417, 'crying': 22418, 'blues': 22419, 'Whatever': 22420, 'erroneous': 22421, 'jam-packed': 22422, 'Contrary': 22423, 'distanced': 22424, 'Buffalo': 22425, 'Bills': 22426, 'Fame': 22427, 'wildly': 22428, 'supportive': 22429, 'gifts': 22430, 'Violence': 22431, 'year-long': 22432, 'limelight': 22433, 'supermarket': 22434, 'reprinted': 22435, 'editions': 22436, 'vitriol': 22437, 'journalism': 22438, 'dignify': 22439, 'surgeon': 22440, 'discarding': 22441, 'CHARLESTON': 22442, 'S.C.': 22443, 'amputated': 22444, 'improperly': 22445, 'disposed': 22446, 'deformed': 22447, 'infant': 22448, 'prosthesis': 22449, 'orthopedic': 22450, 'educational': 22451, 'freezer': 22452, 'spoiled': 22453, 'crab': 22454, 'trap': 22455, 'flesh': 22456, 'cop': 22457, 'shrub': 22458, 'guys': 22459, 'bagged': 22460, 'rob': 22461, 'Checker': 22462, 'Fort': 22463, 'Lauderdale': 22464, 'Pines': 22465, 'drive-through': 22466, 'toting': 22467, 'Earl': 22468, 'Feugill': 22469, 'camouflaged': 22470, 'shaggy': 22471, 'freeze': 22472, 'Herald': 22473, 'Marines': 22474, 'attaching': 22475, 'strips': 22476, 'burlap': 22477, 'Green': 22478, 'disguise': 22479, 'staking': 22480, 'robberies': 22481, 'fast-food': 22482, '90-minute': 22483, 'stakeout': 22484, 'DLA': 22485, 'tin': 22486, '2.7975': 22487, 'Defense': 22488, 'Logistics': 22489, '2.7775': 22490, 'resigns': 22491, 'NBC': 22492, 'consultant': 22493, 'reshaped': 22494, 'MS-NBC': 22495, 'ire': 22496, 'repositioning': 22497, 'gluten': 22498, 'meal': 22499, 'steady-higher': 22500, 'pickup': 22501, 'AREA': 22502, 'MILLS': 22503, 'Gluten': 22504, '117.00': 22505, 'pellets': 22506, '320.00': 22507, 'DECATUR': 22508, 'IL': 22509, 'CLINTON': 22510, 'CEDAR': 22511, 'RAPIDS': 22512, 'IA': 22513, '310.00': 22514, 'T': 22515, '234,324': 22516, 'cereals': 22517, '105.07': 22518, 'Ecus': 22519, 'provisionally': 22520, 'optional-origin': 22521, 'enjoys': 22522, 'subtracting': 22523, '34,277': 22524, '109.36': 22525, '5432': 22526, 'shipyard': 22527, 'RENNES': 22528, '3,500': 22529, 'Cherbourg': 22530, '1,800': 22531, 'yeard': 22532, 'cutback': 22533, 'slim': 22534, 'Indre': 22535, 'DAWN': 22536, 'managements': 22537, 'curtail': 22538, 'estates': 22539, 'Hub': 22540, 'Gadoon': 22541, 'unearthed': 22542, 'police-run': 22543, 'cages': 22544, 'Tando': 22545, 'Allahyar': 22546, 'Hyderabad': 22547, 'RECORDER': 22548, 'Gas': 22549, 'Sui': 22550, 'technologists': 22551, 'sugarcane': 22552, 'pillaged': 22553, 'Gujar': 22554, '3,225': 22555, 'megawatt': 22556, 'on-line': 22557, 'NATION': 22558, 'Mohib': 22559, 'Textile': 22560, 'defaulted': 22561, 'leasing': 22562, 'modarabas': 22563, 'multiply.q': 22564, '7.84': 22565, 'Shahid': 22566, 'privatisation': 22567, 'Electricity': 22568, 'Boards': 22569, 'Vital': 22570, 'Sindh': 22571, 'ad-interim': 22572, 'restraining': 22573, 'Privatisation': 22574, 'Javedan': 22575, 'Dadabhoy': 22576, 'pvt': 22577, 'MUSLIM': 22578, '9251-274757': 22579, 'SALANG': 22580, 'TUNNEL': 22581, 'directions': 22582, 'occupying': 22583, 'rebelled': 22584, 'wrecked': 22585, 'heavily-mined': 22586, 'Halo': 22587, 'roadsides': 22588, 'Qotbuddin': 22589, 'Hilal': 22590, 'officiated': 22591, 'burnt': 22592, 'sprinkling': 22593, 'petrol': 22594, 'Andhra': 22595, 'Pradesh': 22596, 'rarest': 22597, 'beings': 22598, 'roasted': 22599, 'appellants': 22600, 'plotted': 22601, 'K.T.': 22602, 'Elephant': 22603, 'tramples': 22604, 'rampaging': 22605, 'elephant': 22606, '72-year-old': 22607, 'trampled': 22608, 'Hari': 22609, 'Maya': 22610, 'Poudels': 22611, 'Madhumalla': 22612, 'asleep': 22613, 'beast': 22614, 'kingdoms': 22615, 'elephants': 22616, 'Elephants': 22617, 'overrun': 22618, 'Kudapokuna': 22619, 'Welikanda': 22620, 'dawn': 22621, 'army-controlled': 22622, 'Vavuniya': 22623, 'undercover': 22624, 'Vicorp': 22625, 'Restaurants': 22626, 'Sabourin': 22627, 'CFO': 22628, 'DENVER': 22629, 'Bestop': 22630, 'Boulder': 22631, 'Held': 22632, '1610': 22633, 'SoCal': 22634, 'Edison': 22635, 'kilovolt': 22636, 'KV': 22637, 'wildfire': 22638, 'raging': 22639, 'Conroy': 22640, 'crews': 22641, 'fire-related': 22642, 'residues': 22643, 'megawatts': 22644, 'MW': 22645, '1,200': 22646, 'cables': 22647, 'Containment': 22648, 'arid': 22649, 'windy': 22650, 'Leong': 22651, '1622': 22652, 'Strategic': 22653, 'Munis': 22654, '0.056': 22655, 'Monthly': 22656, 'Municipals': 22657, 'Semiconductor': 22658, 'expectation': 22659, 'emerge': 22660, 'modem': 22661, '2-1/8': 22662, '11-3/8': 22663, 'modem-chip': 22664, 'fast-growing': 22665, 'networking': 22666, 'Certainly': 22667, 'Elias': 22668, 'Moosa': 22669, 'Roberston': 22670, 'PMC-Sierra': 22671, 'chipsets': 22672, 'severance': 22673, 'Randall': 22674, 'Soundview': 22675, 'focusing': 22676, 'fastest-growing': 22677, 'much-larger': 22678, 'develops': 22679, 'shrink': 22680, 'Hambrecht': 22681, 'Quist': 22682, 'low-margin': 22683, 'PMC': 22684, 'slowing': 22685, '206-386-4848': 22686, 'Housecall': 22687, 'sink': 22688, 'underperform': 22689, '7-3/8': 22690, '7-1/8': 22691, 'Atlanta-based': 22692, '0.17': 22693, 'non-Medicare': 22694, 'hospice': 22695, 'limitation': 22696, 'IRVINE': 22697, 'Subsidiaries': 22698, 'Unaudited': 22699, '17,024,000': 22700, '18,174,000': 22701, '31,834,000': 22702, '24,137,000': 22703, '7,718,000': 22704, '6,828,000': 22705, '14,668,000': 22706, '13,091,000': 22707, '9,167,000': 22708, '11,175,000': 22709, '16,909,000': 22710, '10,880,000': 22711, '1.05': 22712, '1.59': 22713, '1.02': 22714, 'Weighted': 22715, '10,650,407': 22716, 'Pro': 22717, 'Forma': 22718, 'Historical': 22719, '9,306,000': 22720, '11,346,000': 22721, '17,166,000': 22722, '11,046,000': 22723, 'forma': 22724, '3,820,000': 22725, '4,658,000': 22726, '7,047,000': 22727, '4,534,000': 22728, '5,486,000': 22729, '6,688,000': 22730, '10,119,000': 22731, '6,512,000': 22732, '0.37': 22733, '0.68': 22734, '0.44': 22735, '14,775,000': 22736, 'Oasis': 22737, 'Gallagher': 22738, 'rock': 22739, 'obscene': 22740, 'swore': 22741, 'hate': 22742, 'f...': 22743, 'ing': 22744, 'supermodel': 22745, 'Noel': 22746, 'laryngitis': 22747, 'house-hunting': 22748, 'Patsy': 22749, 'Kensit': 22750, 'tickets': 22751, 'Slough': 22752, 'Estates': 22753, 'upbeat': 22754, 'pretax': 22755, '14p': 22756, '1009': 22757, '12-1': 22758, '2p': 22759, '468p': 22760, '691p': 22761, 'Hammerson': 22762, '8p': 22763, '390': 22764, 'Warburg': 22765, 'stances': 22766, 'maintaining': 22767, 'rental': 22768, 'incomes': 22769, 'shaved': 22770, 'Nigel': 22771, 'Mobbs': 22772, 'Birt': 22773, 'shrinks': 22774, '26.5': 22775, 'seasonally': 22776, '715': 22777, '973': 22778, 'Canadians': 22779, '3.72': 22780, 'Burea': 22781, '613': 22782, '235-6745': 22783, 'Palestinian-ruled': 22784, 'shaken': 22785, 'backdrop': 22786, 'four-hour': 22787, '0900': 22788, 'espionage': 22789, 'rings': 22790, 'Jomhuri': 22791, 'Eslami': 22792, 'photographing': 22793, 'pan-Turkism': 22794, 'exiles': 22795, 'Ties': 22796, 'Fallahiyan': 22797, 'distillates': 22798, 'kerosene': 22799, '99': 22800, 'sort': 22801, 'noticeable': 22802, '45-50': 22803, 'differential': 22804, 'Dubai': 22805, 'ports': 22806, 'exceed': 22807, 'Jet': 22808, '27.40': 22809, '27.70': 22810, '27.22': 22811, 'cargoes': 22812, '24.00': 22813, '24.20': 22814, '24.10': 22815, '24.24': 22816, 'lowest': 22817, 'suspicious': 22818, 'overhang': 22819, 'sulphur': 22820, '70-75': 22821, 'manuscript': 22822, 'thieves': 22823, 'Testament': 22824, 'al-Akhbar': 22825, 'undated': 22826, 'pretended': 22827, 'Wyche': 22828, 'senator': 22829, 'invoked': 22830, 'recess': 22831, 'confirming': 22832, 'predecessor': 22833, 'Mabus': 22834, 'shops': 22835, 'shutters': 22836, 'exporters': 22837, 'purchasing': 22838, '1997/98': 22839, '199,900': 22840, 'Nil': 22841, '149,100-A': 22842, '74,600': 22843, '55,000-B': 22844, '161,600': 22845, 'A-': 22846, '54,600': 22847, 'B-': 22848, '55,000': 22849, 'Destinations': 22850, 'Life': 22851, 'Southland': 22852, 'enterprise': 22853, 'mainframe': 22854, 'delivering': 22855, 'real-time': 22856, 'constitutes': 22857, 'contends': 22858, 'misappropriating': 22859, 'NBA': 22860, 'continually': 22861, 'Baxter': 22862, 'Immuno': 22863, 'miilion': 22864, 'secures': 22865, '747s': 22866, 'Cos': 22867, 'chipset': 22868, 'Lion': 22869, 'Hotels': 22870, 'Doubletree': 22871, 'Baby': 22872, 'Bells': 22873, 'telecommunications': 22874, 'Economists': 22875, 'five-point': 22876, 'toxic': 22877, 'stock-trade': 22878, 'H&R': 22879, 'CompuServe': 22880, 'impasse': 22881, 'authorised': 22882, 'trashed': 22883, 'nudge': 22884, 'GOP': 22885, 'reporter': 22886, 're-nomination': 22887, 'state-by-state': 22888, 'Beachcomber': 22889, 'HIGHLANDS': 22890, 'foot-long': 22891, 'debris': 22892, 'bearing': 22893, 'markings': 22894, 'shore': 22895, 'conducting': 22896, 'fireball': 22897, 'wallets': 22898, 'shoes': 22899, 'mechanical': 22900, 'Rich': 22901, 'Leila': 22902, 'Corcoran': 22903, 'writes': 22904, 'still-enslaved': 22905, 'pleads': 22906, 'Abraham': 22907, 'maimed': 22908, 'poses': 22909, 'Archives': 22910, 'Conservation': 22911, 'volunteers': 22912, 'preserved': 22913, 'microfilm': 22914, 'stowed': 22915, 'rarely': 22916, 'enlistment': 22917, 'muster': 22918, 'discharge': 22919, 'certificates': 22920, 'corps': 22921, 'unveiling': 22922, 'memorial': 22923, '37,000': 22924, 'shall': 22925, 'oportunity': 22926, 'enjoyment': 22927, 'sic': 22928, 'slavery': 22929, 'oppreses': 22930, 'liberty': 22931, 'outpouring': 22932, 'coloured': 22933, 'curse': 22934, 'separated': 22935, '1865': 22936, 'well-to-do': 22937, 'matron': 22938, 'plead': 22939, 'dishonourable': 22940, 'prisoner': 22941, 'thoughtless': 22942, 'folly': 22943, 'notation': 22944, 'regiment': 22945, 'pardon': 22946, 'anguish': 22947, 'amputee': 22948, 'terrible': 22949, 'Pvt': 22950, 'haunted': 22951, 'posed': 22952, 'bare-chested': 22953, '1864': 22954, 'insight': 22955, 'rhythms': 22956, 'Carbondale': 22957, 'editor': 22958, 'Gen': 22959, 'Ulysses': 22960, 'writings': 22961, 'poetic': 22962, 'linguistic': 22963, 'treasure': 22964, 'trove': 22965, 'sociology': 22966, 'seared': 22967, 'consciousness': 22968, 'Daughters': 22969, 'Confederacy': 22970, 'retirees': 22971, 'Budge': 22972, 'Weidman': 22973, 'shepherded': 22974, 'predicts': 22975, 'databases': 22976, 'battlefields': 22977, 'discharged': 22978, 'incapacity': 22979, 'inebetude': 22980, 'Patient': 22981, 'arise': 22982, 'masturbation': 22983, 're-nominate': 22984, '559-mile': 22985, 'vow': 22986, 'Sylvie': 22987, 'AJACCIO': 22988, 'Separatist': 22989, 'Mediterranean': 22990, 'Ajaccio': 22991, 'defused': 22992, 'get-tough': 22993, 'Jean-Louis': 22994, 'Debre': 22995, 'Corse': 22996, 'Judges': 22997, 'lax': 22998, 'widely-reported': 22999, 'powerless': 23000, 'France-Soir': 23001, 'Place': 23002, 'Beauvau': 23003, 'nightly': 23004, 'Figaro': 23005, 'shaky': 23006, 'seven-month': 23007, 'racked': 23008, 'low-level': 23009, 'separatist-inspired': 23010, 'principally': 23011, 'continent': 23012, 'stoke': 23013, 'backlash': 23014, 'OM': 23015, 'STOCKHOLM': 23016, 'derivatives': 23017, 'Gruppen': 23018, 'Together': 23019, 'subsidiaries': 23020, 'OMLX': 23021, 'PULPEX': 23022, 'pulp': 23023, 'timber': 23024, 'recycled': 23025, 'Through': 23026, 'complements': 23027, 'softs': 23028, 'cocoa': 23029, 'unpredictable': 23030, 'risky': 23031, 'Without': 23032, 'hedge': 23033, 'clearing': 23034, 'Investments': 23035, '+46-8-700': 23036, '1006': 23037, 'Amsterdam-Rotterdam-Antwerp': 23038, 'tankage': 23039, 'week-ago': 23040, '29/8/96': 23041, '22/8/96': 23042, '1/9/95': 23043, '400-425': 23044, '425': 23045, 'Naphtha': 23046, '50-75': 23047, '75-100': 23048, '1,650': 23049, '1,850-1,900': 23050, '325-350': 23051, 'kero': 23052, '15-20': 23053, 'inflows': 23054, 'throughput': 23055, 'straight-run': 23056, 'bunkering': 23057, 'Blenkinsop': 23058, 'anti-nuclear': 23059, 'pantomime': 23060, 're-enacting': 23061, 'Activists': 23062, 'brandished': 23063, 'theatre-prop': 23064, 'Gorleben': 23065, 'depot': 23066, 'Mafia': 23067, 'CATANIA': 23068, 'Sicily': 23069, 'slaying': 23070, '14-year-old': 23071, 'nephew': 23072, 'Puglisi': 23073, 'Salvatore': 23074, 'Botta': 23075, 'cemetery': 23076, 'Sicilian': 23077, 'hardened': 23078, 'anti-Mafia': 23079, 'tip-off': 23080, 'consciences': 23081, 'Nitto': 23082, 'Santapaola': 23083, 'knelt': 23084, 'ambush': 23085, 'cemetary': 23086, 'Thieves': 23087, 'canteen': 23088, 'LIMERICK': 23089, 'Limerick': 23090, 'warders': 23091, 'takings': 23092, 'Italians': 23093, 'HIV-pensioner': 23094, 'harassing': 23095, 'hookers': 23096, '61-year-old': 23097, 'AIDS': 23098, 'pensioner': 23099, 'Pietro': 23100, 'HIV': 23101, 'cruising': 23102, 'red-light': 23103, 'hurling': 23104, 'blanks': 23105, 'Bodies': 23106, 'sighted': 23107, 'Arctic': 23108, 'Spitzbergen': 23109, 'Rune': 23110, 'NTB': 23111, 'Vnukovo': 23112, 'Tupolev': 23113, 'Longyearbyen': 23114, 'airstrip': 23115, 'rescuers': 23116, 'three-engine': 23117, 'Opera': 23118, 'mountainside': 23119, '0815': 23120, 'coal-mining': 23121, 'Barentsburg': 23122, '1920s': 23123, 'Galeforce': 23124, 'Torrential': 23125, 'galeforce': 23126, 'meteorological': 23127, 'Cellars': 23128, 'trees': 23129, 'uprooted': 23130, 'roofs': 23131, 'trains': 23132, 'cm': 23133, '2.24': 23134, '7.4': 23135, '2.96': 23136, 'communes': 23137, 'Meteorological': 23138, 'RMT': 23139, 'Turnhout': 23140, 'scouts': 23141, 'camping': 23142, 'meadow': 23143, 'hindered': 23144, 'excavations': 23145, 'Jumet': 23146, 'sex-and-murder': 23147, 'lightly': 23148, 'tides': 23149, 'pesetas': 23150, 'chemicals': 23151, '4,150': 23152, '61.45': 23153, '61.94': 23154, '4,175': 23155, 'madness': 23156, 'overreacted': 23157, 'correction': 23158, '+34': 23159, '585': 23160, '2161': 23161, 'Nahar': 23162, 'Liberte': 23163, 'Leveilly': 23164, 'Matin': 23165, 'Finns': 23166, 'sex-abuse': 23167, 'captive': 23168, 'Tampere': 23169, 'luxury': 23170, 'inspector': 23171, 'Ilkka': 23172, 'Laasonen': 23173, 'Iltalehti': 23174, 'Audi': 23175, 'INGOLSTADT': 23176, 'Demel': 23177, 'hedged': 23178, 'KEKKILA': 23179, 'FULL-YR': 23180, 'VS': 23181, 'LOSS': 23182, 'Fertilisers': 23183, 'saplings': 23184, 'Kekkila': 23185, 'trend': 23186, 'fluctuations': 23187, 'end-year': 23188, 'INTERVIEW-T&N': 23189, 'untroubled': 23190, 'T&N': 23191, 'Hope': 23192, 'bumble': 23193, 'predict': 23194, 'echoing': 23195, 'automotive': 23196, 'Compared': 23197, 'equally': 23198, 'predicting': 23199, 'rationalised': 23200, 'destocked': 23201, '9.5': 23202, 'destocking': 23203, 'relaxed': 23204, 'cycle': 23205, 'fraction': 23206, 'Commenting': 23207, 'piston': 23208, 'Kolbenschmidt': 23209, 'obstacles': 23210, 'Huddart': 23211, '8716': 23212, 'Earthquake': 23213, 'jolts': 23214, 'Zealands': 23215, 'Waiau': 23216, 'spa': 23217, 'Hanmer': 23218, 'prone': 23219, 'earthquakes': 23220, 'smooth': 23221, 'Trevelyan': 23222, 'half-yearly': 23223, 'absolutely': 23224, 'predicated': 23225, 'precepts': 23226, 'trough': 23227, 'draconian': 23228, 'earth': 23229, 'rentals': 23230, 'reclamation': 23231, 'narrowly': 23232, 'downtrend': 23233, 'Banks': 23234, 'hover': 23235, 'T$': 23236, '27.482': 23237, '27.495': 23238, '275': 23239, '2-5080815': 23240, 'Simex': 23241, '20,500': 23242, 'Sentiment': 23243, '20,605': 23244, 'touching': 23245, 'intraday': 23246, '20,530': 23247, '20,725': 23248, '19,560': 23249, 'technically': 23250, '20,300': 23251, '21,000': 23252, 'Doreen': 23253, 'Siow': 23254, '65-8703092': 23255, 'Siam': 23256, 'metropolitan': 23257, 'Waterworks': 23258, 'banker': 23259, '8.46': 23260, 'maturity': 23261, '662': 23262, '652-0642': 23263, \"M'bishi\": 23264, '7-year': 23265, 'FISCAL': 23266, 'Tokyo-Mitsubishi': 23267, '2.95': 23268, 'Sep.03': 23269, 'Sep.96': 23270, 'INT': 23271, 'Mar.97': 23272, 'SUB': 23273, 'Jul-18.Jul': 23274, 'JCR': 23275, 'JBRI': 23276, 'Daewoo': 23277, 'Dacom': 23278, 'telecom': 23279, '822': 23280, '727': 23281, '5644': 23282, 'Commem': 23283, 'Made': 23284, 'manufactures': 23285, 'ski': 23286, 'Antara': 23287, 'evident': 23288, 'happening': 23289, 'motivated': 23290, 'Major-General': 23291, 'Utomo': 23292, 'Indonesias': 23293, 'guard': 23294, 'extinguished': 23295, 'injures': 23296, 'Nobody': 23297, 'exaggerate': 23298, 'Facilities': 23299, '11.38': 23300, '11.45': 23301, '918': 23302, '490': 23303, '538': 23304, 'rents': 23305, 'Haneda': 23306, 'Itami': 23307, 'Beijing-backed': 23308, 'post-handover': 23309, 'contesting': 23310, 'Selection': 23311, 'stymies': 23312, '400-strong': 23313, 'provisional': 23314, 'dismantle': 23315, 'fully-elected': 23316, 'considerable': 23317, 'directorate-grade': 23318, 'bureaucrats': 23319, '33,000': 23320, 'tier': 23321, 'mandarin': 23322, 'secretaries': 23323, 'Refining': 23324, 'SRC': 23325, 'barrel-per-day': 23326, 'distillation': 23327, 'stuck': 23328, 'X-ray': 23329, 'No.3': 23330, 'varied': 23331, 'exchanger': 23332, '285,000': 23333, 'co-owned': 23334, 'Petrolem': 23335, 'joint-venture': 23336, 'Chevron': 23337, 'Texaco': 23338, '+65-8703086': 23339, 'Loxley': 23340, '332.66': 23341, 'Reviewed': 23342, '6.66': 23343, '266.37': 23344, 'Publications': 23345, '662-252-9950': 23346, 'MTH': 23347, 'PVS': 23348, 'YR-AGO': 23349, '+0.1': 23350, '+0.0': 23351, '119.3**': 23352, 'Yr': 23353, '+3.7': 23354, '+3.6': 23355, '+4.7': 23356, '119.3': 23357, 'Core': 23358, '+0,2': 23359, '+3.5': 23360, '+5.2': 23361, 'JOBLESS': 23362, 'INEM': 23363, '63,913': 23364, '33,149': 23365, '65,345': 23366, '2.17M': 23367, '13.67': 23368, '14.15': 23369, '15.19': 23370, 'PAYMENTS': 23371, '196.8': 23372, '180.6': 23373, '279.9': 23374, 'Cur': 23375, 'Acc': 23376, '110.4': 23377, 'RESERVES': 23378, '+1,161': 23379, '+400.9': 23380, '+310.4': 23381, '54,703.0': 23382, 'PRODUCER': 23383, 'PRICES': 23384, '+0.2': 23385, '119.6**': 23386, '+1.2': 23387, '+1.5': 23388, '+7.1': 23389, '119.6': 23390, 'INDUSTRIAL': 23391, 'PROD': 23392, '+1.0': 23393, '+9.8': 23394, '108.4**': 23395, 'M4': 23396, '+2.6': 23397, '+4.2R': 23398, '+10.8': 23399, 'adj': 23400, 'trln': 23401, '75.912': 23402, 'TRADE': 23403, '1,100.7': 23404, '1,164.1': 23405, '988.2': 23406, '1,315.7': 23407, '1,433.4': 23408, '1,236.5': 23409, 'Deficit': 23410, '215.0': 23411, '269.3': 23412, '248.3': 23413, '1,334.0': 23414, '1,119.0': 23415, '1,420.9': 23416, 'GOVT.BUDGET': 23417, 'Govt.Fcast': 23418, '+282.1': 23419, '380.6': 23420, '+230.4': 23421, 'Def': 23422, '1,184.0': 23423, '1,466.1': 23424, '1,456.7': 23425, 'QUARTER': 23426, 'QTR': 23427, 'EPA': 23428, '+168,130': 23429, '+31,230': 23430, '+167,330': 23431, 'Yr-yr': 23432, '+1.9': 23433, '+2.3R': 23434, '+3.4': 23435, 'Absolute': 23436, '18.1': 23437, '16.9': 23438, '69.7': 23439, 'Pvs': 23440, '7.25': 23441, '7.50': 23442, '04/06/96': 23443, 'Jobless': 23444, 'customs-cleared': 23445, 'annualised': 23446, 'employment': 23447, 'INE': 23448, 'variation': 23449, 'TOTAL-': 23450, 'jobless': 23451, 'corresponds': 23452, 'relate': 23453, 'finances': 23454, '**General': 23455, '100=1992': 23456, '100=1990': 23457, 'obstructing': 23458, 'Lasa-Zabala': 23459, 'GAL': 23460, 'prescriptions': 23461, 'Gomez': 23462, 'Liano': 23463, 'Aznar': 23464, 'BCH': 23465, 'hive': 23466, 'Coopers': 23467, 'Lybrand': 23468, 'emigrates': 23469, 'Lenzing': 23470, 'viscose': 23471, 'fibre': 23472, 'preview': 23473, '84.5': 23474, 'schillings': 23475, 'fibres': 23476, 'economies': 23477, '+431': 23478, '53112': 23479, 'fundamentalists': 23480, 'rejection': 23481, 'masterminds': 23482, 'ideologists': 23483, 'financers': 23484, 'clarifications': 23485, 'clarification': 23486, '1676/96': 23487, 'amending': 23488, '2454/93': 23489, '2913/92': 23490, 'Code': 23491, 'ponders': 23492, 'Donna': 23493, 'Sells': 23494, 'topic': 23495, 'pundits': 23496, 'debated': 23497, 'forgo': 23498, 'unflagging': 23499, 'sidestepped': 23500, 'Should': 23501, 'strong-dollar': 23502, 'Bentsen': 23503, 'viewed': 23504, 'distinctively': 23505, 'Widness': 23506, 'Chase': 23507, 'timely': 23508, 'instances': 23509, 'post-Second': 23510, '1.3438': 23511, '79.75': 23512, 'Currently': 23513, 'stands': 23514, '1.48': 23515, 'expertise': 23516, 'co-chairman': 23517, 'Faust': 23518, 'Bailard': 23519, 'Biehl': 23520, 'Kaiser': 23521, 'Anyone': 23522, 'awfully': 23523, 'Fear': 23524, 'Bentsen-era': 23525, 'Greenspan': 23526, 'reappointment': 23527, 'depreciation': 23528, 'lesser': 23529, 'guy': 23530, 'Perelstein': 23531, 'MainStay': 23532, 'Funds': 23533, 'Otherwise': 23534, 'SCOTLAND': 23535, 'UNDER-21': 23536, 'AMSTETTEN': 23537, 'Ewald': 23538, 'Brenner': 23539, 'Stieglmair': 23540, 'Brunmayr': 23541, '43rd': 23542, 'WALES': 23543, 'MARINO': 23544, 'BARRY': 23545, 'Marino': 23546, 'Hartson': 23547, 'BALLANGER': 23548, 'STYLE': 23549, 'best-of-three': 23550, 'ex-world': 23551, '24-kms': 23552, 'Samokhalova': 23553, 'spirited': 23554, 'Quigley': 23555, 'numerical': 23556, 'superiority': 23557, 'Goulnara': 23558, 'Fatkoullina': 23559, 'snatching': 23560, 'lapped': 23561, 'Ingrid': 23562, 'Haringa': 23563, 'Lancien': 23564, 'TRACK': 23565, '12.341': 23566, '12.348': 23567, '12.130': 23568, '12.124': 23569, 'Ride': 23570, '12.112': 23571, '12.246': 23572, '11.959': 23573, '12.225': 23574, '24-km': 23575, '31.081': 23576, 'Tatiana': 23577, 'Stiajkina': 23578, 'Arndt': 23579, 'Tea': 23580, 'Vikstedt-Nyman': 23581, 'Boyden': 23582, 'Godras': 23583, 'DEFENDER': 23584, 'KOMBOUARE': 23585, 'ABERDEEN': 23586, 'ABDERDEEN': 23587, 'Kombouare': 23588, '467,000': 23589, 'Aitken': 23590, 'affection': 23591, 'Ginola': 23592, 'influential': 23593, 'influenced': 23594, 'IMOLA': 23595, 'Practice': 23596, 'motorcycling': 23597, 'Doohan': 23598, '50.250': 23599, 'Bayle': 23600, '1:50.727': 23601, 'Norifumi': 23602, 'Abe': 23603, '1:50.858': 23604, 'Luca': 23605, 'Cadalora': 23606, '1:51.006': 23607, 'Criville': 23608, '1:51.075': 23609, '1:51.287': 23610, 'Tadayuki': 23611, 'Okada': 23612, '1:51.528': 23613, 'Checa': 23614, '1:51.588': 23615, '1:51.784': 23616, 'Shinichi': 23617, 'Itoh': 23618, '1:51.857': 23619, '216': 23620, '217': 23621, 'Swe': 23622, 'Bradley': 23623, 'Hughes': 23624}\n",
            "{'O': 0, 'B-ORG': 1, 'B-MISC': 2, 'B-PER': 3, 'I-PER': 4, 'B-LOC': 5, 'I-ORG': 6, 'I-MISC': 7, 'I-LOC': 8}\n"
          ]
        }
      ],
      "source": [
        "\n",
        "word_to_ix={'<UNK>':0}\n",
        "tag_to_ix={}\n",
        "for sentence,tags in train_data:\n",
        "  for word in sentence:\n",
        "    if word not in word_to_ix:\n",
        "      word_to_ix[word]=len(word_to_ix)\n",
        "  for tag in tags:\n",
        "    if tag not in tag_to_ix:\n",
        "      tag_to_ix[tag]=len(tag_to_ix)\n",
        "print(word_to_ix)\n",
        "print(tag_to_ix)"
      ]
    },
    {
      "cell_type": "code",
      "execution_count": null,
      "metadata": {
        "id": "YnvjUz45yUAQ"
      },
      "outputs": [],
      "source": [
        "\n",
        "def prepare_sequence(seq,to_ix):\n",
        "  idxs=[to_ix[w] if w in to_ix else to_ix['<UNK>'] for w in seq]\n",
        "  return torch.tensor(idxs,dtype=torch.long)"
      ]
    },
    {
      "cell_type": "code",
      "execution_count": null,
      "metadata": {
        "id": "kyd-V8qj0HFS"
      },
      "outputs": [],
      "source": [
        "\n",
        "class NERDataset(Dataset):\n",
        "  def __init__(self,data,word_to_ix,tag_to_ix):\n",
        "    self.data=data\n",
        "    self.word_to_ix=word_to_ix\n",
        "    self.tag_to_ix=tag_to_ix\n",
        "  def __len__(self):\n",
        "    return len(self.data)\n",
        "  def __getitem__(self,idx):\n",
        "    sentence,tags=self.data[idx]\n",
        "    sentence_in=prepare_sequence(sentence,self.word_to_ix)\n",
        "    tags_in=prepare_sequence(tags,self.tag_to_ix)\n",
        "    return sentence_in,tags_in\n",
        "def collate_fn(batch):\n",
        "  sentences,tags=zip(*batch)\n",
        "  sentences_padded=pad_sequence(sentences,batch_first=True,padding_value=0)\n",
        "  tags_padded=pad_sequence(tags,batch_first=True,padding_value=0)\n",
        "  return sentences_padded,tags_padded\n",
        "train_dataset=NERDataset(train_data,word_to_ix,tag_to_ix)\n",
        "testa_dataset=NERDataset(testa_data,word_to_ix,tag_to_ix)\n",
        "testb_dataset=NERDataset(testb_data,word_to_ix,tag_to_ix)\n",
        "train_loader=DataLoader(train_dataset,batch_size=32,shuffle=True,collate_fn=collate_fn)\n",
        "testa_loader=DataLoader(testa_dataset,batch_size=32,shuffle=False,collate_fn=collate_fn)\n",
        "testb_loader=DataLoader(testb_dataset,batch_size=32,shuffle=False,collate_fn=collate_fn)"
      ]
    },
    {
      "cell_type": "code",
      "execution_count": null,
      "metadata": {
        "id": "6AoCpQ7050pD"
      },
      "outputs": [],
      "source": [
        "class BiLSTMNER(nn.Module):\n",
        "  def __init__(self,vocab_size,tagset_size,embedding_dim,hidden_dim):\n",
        "    super(BiLSTMNER,self).__init__()\n",
        "    self.embedding=nn.Embedding(vocab_size,embedding_dim)\n",
        "    self.lstm=nn.LSTM(embedding_dim,hidden_dim//2,num_layers=1,bidirectional=True)\n",
        "    self.hidden2tag=nn.Linear(hidden_dim,tagset_size)\n",
        "  def forward(self,sentence):\n",
        "    embeds=self.embedding(sentence)\n",
        "    lstm_out,_=self.lstm(embeds.view(len(sentence),1,-1))\n",
        "    tag_space=self.hidden2tag(lstm_out.view(len(sentence),-1))\n",
        "    tag_scores=torch.log_softmax(tag_space,dim=1)\n",
        "    return tag_scores\n",
        "\n",
        "EMBEDDING_DIM = 64\n",
        "HIDDEN_DIM = 128\n",
        "VOCAB_SIZE = len(word_to_ix)\n",
        "TAGSET_SIZE = len(tag_to_ix)\n",
        "\n",
        "\n",
        "\n"
      ]
    },
    {
      "cell_type": "code",
      "execution_count": null,
      "metadata": {
        "id": "ejFbDQreUeMi",
        "colab": {
          "base_uri": "https://localhost:8080/"
        },
        "outputId": "78813db8-ad26-4585-a0e2-8cc1aeb4aebd"
      },
      "outputs": [
        {
          "output_type": "stream",
          "name": "stderr",
          "text": [
            "100%|██████████| 469/469 [00:04<00:00, 115.50it/s]\n"
          ]
        },
        {
          "output_type": "stream",
          "name": "stdout",
          "text": [
            "Epoch 1, Loss: 0.5213964443121638\n"
          ]
        },
        {
          "output_type": "stream",
          "name": "stderr",
          "text": [
            "100%|██████████| 469/469 [00:03<00:00, 123.78it/s]\n"
          ]
        },
        {
          "output_type": "stream",
          "name": "stdout",
          "text": [
            "Epoch 2, Loss: 0.2948697049290871\n"
          ]
        },
        {
          "output_type": "stream",
          "name": "stderr",
          "text": [
            "100%|██████████| 469/469 [00:03<00:00, 125.38it/s]\n"
          ]
        },
        {
          "output_type": "stream",
          "name": "stdout",
          "text": [
            "Epoch 3, Loss: 0.25553416939768026\n"
          ]
        },
        {
          "output_type": "stream",
          "name": "stderr",
          "text": [
            "100%|██████████| 469/469 [00:03<00:00, 126.29it/s]\n"
          ]
        },
        {
          "output_type": "stream",
          "name": "stdout",
          "text": [
            "Epoch 4, Loss: 0.26326975385610785\n"
          ]
        },
        {
          "output_type": "stream",
          "name": "stderr",
          "text": [
            "100%|██████████| 469/469 [00:03<00:00, 149.73it/s]\n"
          ]
        },
        {
          "output_type": "stream",
          "name": "stdout",
          "text": [
            "Epoch 5, Loss: 0.25533232869240824\n"
          ]
        },
        {
          "output_type": "stream",
          "name": "stderr",
          "text": [
            "100%|██████████| 469/469 [00:01<00:00, 245.48it/s]\n"
          ]
        },
        {
          "output_type": "stream",
          "name": "stdout",
          "text": [
            "Epoch 6, Loss: 0.268519258201579\n"
          ]
        },
        {
          "output_type": "stream",
          "name": "stderr",
          "text": [
            "100%|██████████| 469/469 [00:02<00:00, 190.48it/s]\n"
          ]
        },
        {
          "output_type": "stream",
          "name": "stdout",
          "text": [
            "Epoch 7, Loss: 0.2620775985128399\n"
          ]
        },
        {
          "output_type": "stream",
          "name": "stderr",
          "text": [
            "100%|██████████| 469/469 [00:01<00:00, 277.46it/s]\n"
          ]
        },
        {
          "output_type": "stream",
          "name": "stdout",
          "text": [
            "Epoch 8, Loss: 0.2484977887298014\n"
          ]
        },
        {
          "output_type": "stream",
          "name": "stderr",
          "text": [
            "100%|██████████| 469/469 [00:01<00:00, 266.53it/s]\n"
          ]
        },
        {
          "output_type": "stream",
          "name": "stdout",
          "text": [
            "Epoch 9, Loss: 0.2579749610050639\n"
          ]
        },
        {
          "output_type": "stream",
          "name": "stderr",
          "text": [
            "100%|██████████| 469/469 [00:01<00:00, 267.89it/s]\n"
          ]
        },
        {
          "output_type": "stream",
          "name": "stdout",
          "text": [
            "Epoch 10, Loss: 0.2415284287970839\n"
          ]
        },
        {
          "output_type": "stream",
          "name": "stderr",
          "text": [
            "100%|██████████| 469/469 [00:01<00:00, 273.48it/s]\n"
          ]
        },
        {
          "output_type": "stream",
          "name": "stdout",
          "text": [
            "Epoch 1, Loss: 0.29102713908495775\n"
          ]
        },
        {
          "output_type": "stream",
          "name": "stderr",
          "text": [
            "100%|██████████| 469/469 [00:01<00:00, 273.01it/s]\n"
          ]
        },
        {
          "output_type": "stream",
          "name": "stdout",
          "text": [
            "Epoch 2, Loss: 0.23394193534534782\n"
          ]
        },
        {
          "output_type": "stream",
          "name": "stderr",
          "text": [
            "100%|██████████| 469/469 [00:02<00:00, 216.75it/s]\n"
          ]
        },
        {
          "output_type": "stream",
          "name": "stdout",
          "text": [
            "Epoch 3, Loss: 0.24100737408923506\n"
          ]
        },
        {
          "output_type": "stream",
          "name": "stderr",
          "text": [
            "100%|██████████| 469/469 [00:02<00:00, 222.42it/s]\n"
          ]
        },
        {
          "output_type": "stream",
          "name": "stdout",
          "text": [
            "Epoch 4, Loss: 0.24390149241519857\n"
          ]
        },
        {
          "output_type": "stream",
          "name": "stderr",
          "text": [
            "100%|██████████| 469/469 [00:01<00:00, 268.62it/s]\n"
          ]
        },
        {
          "output_type": "stream",
          "name": "stdout",
          "text": [
            "Epoch 5, Loss: 0.2339567236397773\n"
          ]
        },
        {
          "output_type": "stream",
          "name": "stderr",
          "text": [
            "100%|██████████| 469/469 [00:01<00:00, 271.73it/s]\n"
          ]
        },
        {
          "output_type": "stream",
          "name": "stdout",
          "text": [
            "Epoch 6, Loss: 0.2400840142868888\n"
          ]
        },
        {
          "output_type": "stream",
          "name": "stderr",
          "text": [
            "100%|██████████| 469/469 [00:01<00:00, 259.34it/s]\n"
          ]
        },
        {
          "output_type": "stream",
          "name": "stdout",
          "text": [
            "Epoch 7, Loss: 0.22834288595325705\n"
          ]
        },
        {
          "output_type": "stream",
          "name": "stderr",
          "text": [
            "100%|██████████| 469/469 [00:01<00:00, 271.34it/s]\n"
          ]
        },
        {
          "output_type": "stream",
          "name": "stdout",
          "text": [
            "Epoch 8, Loss: 0.22694447338342794\n"
          ]
        },
        {
          "output_type": "stream",
          "name": "stderr",
          "text": [
            "100%|██████████| 469/469 [00:01<00:00, 263.10it/s]\n"
          ]
        },
        {
          "output_type": "stream",
          "name": "stdout",
          "text": [
            "Epoch 9, Loss: 0.2143985656212205\n"
          ]
        },
        {
          "output_type": "stream",
          "name": "stderr",
          "text": [
            "100%|██████████| 469/469 [00:02<00:00, 201.80it/s]\n"
          ]
        },
        {
          "output_type": "stream",
          "name": "stdout",
          "text": [
            "Epoch 10, Loss: 0.22172985015127228\n"
          ]
        },
        {
          "output_type": "stream",
          "name": "stderr",
          "text": [
            "100%|██████████| 469/469 [00:01<00:00, 256.42it/s]\n"
          ]
        },
        {
          "output_type": "stream",
          "name": "stdout",
          "text": [
            "Epoch 1, Loss: 0.2775137663659042\n"
          ]
        },
        {
          "output_type": "stream",
          "name": "stderr",
          "text": [
            "100%|██████████| 469/469 [00:01<00:00, 267.42it/s]\n"
          ]
        },
        {
          "output_type": "stream",
          "name": "stdout",
          "text": [
            "Epoch 2, Loss: 0.239214436705115\n"
          ]
        },
        {
          "output_type": "stream",
          "name": "stderr",
          "text": [
            "100%|██████████| 469/469 [00:01<00:00, 274.48it/s]\n"
          ]
        },
        {
          "output_type": "stream",
          "name": "stdout",
          "text": [
            "Epoch 3, Loss: 0.25417564892575445\n"
          ]
        },
        {
          "output_type": "stream",
          "name": "stderr",
          "text": [
            "100%|██████████| 469/469 [00:01<00:00, 270.62it/s]\n"
          ]
        },
        {
          "output_type": "stream",
          "name": "stdout",
          "text": [
            "Epoch 4, Loss: 0.2409949244723828\n"
          ]
        },
        {
          "output_type": "stream",
          "name": "stderr",
          "text": [
            "100%|██████████| 469/469 [00:01<00:00, 268.05it/s]\n"
          ]
        },
        {
          "output_type": "stream",
          "name": "stdout",
          "text": [
            "Epoch 5, Loss: 0.21364345130071774\n"
          ]
        },
        {
          "output_type": "stream",
          "name": "stderr",
          "text": [
            "100%|██████████| 469/469 [00:01<00:00, 246.80it/s]\n"
          ]
        },
        {
          "output_type": "stream",
          "name": "stdout",
          "text": [
            "Epoch 6, Loss: 0.21800575976191497\n"
          ]
        },
        {
          "output_type": "stream",
          "name": "stderr",
          "text": [
            "100%|██████████| 469/469 [00:02<00:00, 207.45it/s]\n"
          ]
        },
        {
          "output_type": "stream",
          "name": "stdout",
          "text": [
            "Epoch 7, Loss: 0.22538612196385774\n"
          ]
        },
        {
          "output_type": "stream",
          "name": "stderr",
          "text": [
            "100%|██████████| 469/469 [00:01<00:00, 272.13it/s]\n"
          ]
        },
        {
          "output_type": "stream",
          "name": "stdout",
          "text": [
            "Epoch 8, Loss: 0.19920671046666824\n"
          ]
        },
        {
          "output_type": "stream",
          "name": "stderr",
          "text": [
            "100%|██████████| 469/469 [00:01<00:00, 275.42it/s]\n"
          ]
        },
        {
          "output_type": "stream",
          "name": "stdout",
          "text": [
            "Epoch 9, Loss: 0.22139294265207451\n"
          ]
        },
        {
          "output_type": "stream",
          "name": "stderr",
          "text": [
            "100%|██████████| 469/469 [00:01<00:00, 272.66it/s]\n"
          ]
        },
        {
          "output_type": "stream",
          "name": "stdout",
          "text": [
            "Epoch 10, Loss: 0.18980647601695586\n"
          ]
        },
        {
          "output_type": "stream",
          "name": "stderr",
          "text": [
            "100%|██████████| 469/469 [00:01<00:00, 244.26it/s]\n"
          ]
        },
        {
          "output_type": "stream",
          "name": "stdout",
          "text": [
            "Epoch 1, Loss: 0.5357842623059557\n"
          ]
        },
        {
          "output_type": "stream",
          "name": "stderr",
          "text": [
            "100%|██████████| 469/469 [00:01<00:00, 250.50it/s]\n"
          ]
        },
        {
          "output_type": "stream",
          "name": "stdout",
          "text": [
            "Epoch 2, Loss: 0.25672587613934583\n"
          ]
        },
        {
          "output_type": "stream",
          "name": "stderr",
          "text": [
            "100%|██████████| 469/469 [00:02<00:00, 192.58it/s]\n"
          ]
        },
        {
          "output_type": "stream",
          "name": "stdout",
          "text": [
            "Epoch 3, Loss: 0.24844710718490867\n"
          ]
        },
        {
          "output_type": "stream",
          "name": "stderr",
          "text": [
            "100%|██████████| 469/469 [00:02<00:00, 225.39it/s]\n"
          ]
        },
        {
          "output_type": "stream",
          "name": "stdout",
          "text": [
            "Epoch 4, Loss: 0.2519162325302699\n"
          ]
        },
        {
          "output_type": "stream",
          "name": "stderr",
          "text": [
            "100%|██████████| 469/469 [00:03<00:00, 149.01it/s]\n"
          ]
        },
        {
          "output_type": "stream",
          "name": "stdout",
          "text": [
            "Epoch 5, Loss: 0.26271370358651935\n"
          ]
        },
        {
          "output_type": "stream",
          "name": "stderr",
          "text": [
            "100%|██████████| 469/469 [00:02<00:00, 184.13it/s]\n"
          ]
        },
        {
          "output_type": "stream",
          "name": "stdout",
          "text": [
            "Epoch 6, Loss: 0.25403484594730186\n"
          ]
        },
        {
          "output_type": "stream",
          "name": "stderr",
          "text": [
            "100%|██████████| 469/469 [00:01<00:00, 253.14it/s]\n"
          ]
        },
        {
          "output_type": "stream",
          "name": "stdout",
          "text": [
            "Epoch 7, Loss: 0.25756537505705507\n"
          ]
        },
        {
          "output_type": "stream",
          "name": "stderr",
          "text": [
            "100%|██████████| 469/469 [00:02<00:00, 206.58it/s]\n"
          ]
        },
        {
          "output_type": "stream",
          "name": "stdout",
          "text": [
            "Epoch 8, Loss: 0.2772679084907971\n"
          ]
        },
        {
          "output_type": "stream",
          "name": "stderr",
          "text": [
            "100%|██████████| 469/469 [00:02<00:00, 211.52it/s]\n"
          ]
        },
        {
          "output_type": "stream",
          "name": "stdout",
          "text": [
            "Epoch 9, Loss: 0.2597863056442774\n"
          ]
        },
        {
          "output_type": "stream",
          "name": "stderr",
          "text": [
            "100%|██████████| 469/469 [00:01<00:00, 246.92it/s]\n"
          ]
        },
        {
          "output_type": "stream",
          "name": "stdout",
          "text": [
            "Epoch 10, Loss: 0.2578740816201959\n"
          ]
        },
        {
          "output_type": "stream",
          "name": "stderr",
          "text": [
            "100%|██████████| 469/469 [00:01<00:00, 244.29it/s]\n"
          ]
        },
        {
          "output_type": "stream",
          "name": "stdout",
          "text": [
            "Epoch 1, Loss: 0.2911082376613776\n"
          ]
        },
        {
          "output_type": "stream",
          "name": "stderr",
          "text": [
            "100%|██████████| 469/469 [00:01<00:00, 243.83it/s]\n"
          ]
        },
        {
          "output_type": "stream",
          "name": "stdout",
          "text": [
            "Epoch 2, Loss: 0.23989982565821233\n"
          ]
        },
        {
          "output_type": "stream",
          "name": "stderr",
          "text": [
            "100%|██████████| 469/469 [00:01<00:00, 246.10it/s]\n"
          ]
        },
        {
          "output_type": "stream",
          "name": "stdout",
          "text": [
            "Epoch 3, Loss: 0.24730721725099314\n"
          ]
        },
        {
          "output_type": "stream",
          "name": "stderr",
          "text": [
            "100%|██████████| 469/469 [00:02<00:00, 206.82it/s]\n"
          ]
        },
        {
          "output_type": "stream",
          "name": "stdout",
          "text": [
            "Epoch 4, Loss: 0.2591481069946832\n"
          ]
        },
        {
          "output_type": "stream",
          "name": "stderr",
          "text": [
            "100%|██████████| 469/469 [00:02<00:00, 210.67it/s]\n"
          ]
        },
        {
          "output_type": "stream",
          "name": "stdout",
          "text": [
            "Epoch 5, Loss: 0.23561421122803078\n"
          ]
        },
        {
          "output_type": "stream",
          "name": "stderr",
          "text": [
            "100%|██████████| 469/469 [00:01<00:00, 243.82it/s]\n"
          ]
        },
        {
          "output_type": "stream",
          "name": "stdout",
          "text": [
            "Epoch 6, Loss: 0.2380952199058198\n"
          ]
        },
        {
          "output_type": "stream",
          "name": "stderr",
          "text": [
            "100%|██████████| 469/469 [00:01<00:00, 245.61it/s]\n"
          ]
        },
        {
          "output_type": "stream",
          "name": "stdout",
          "text": [
            "Epoch 7, Loss: 0.22654038343602406\n"
          ]
        },
        {
          "output_type": "stream",
          "name": "stderr",
          "text": [
            "100%|██████████| 469/469 [00:01<00:00, 249.36it/s]\n"
          ]
        },
        {
          "output_type": "stream",
          "name": "stdout",
          "text": [
            "Epoch 8, Loss: 0.238640192066079\n"
          ]
        },
        {
          "output_type": "stream",
          "name": "stderr",
          "text": [
            "100%|██████████| 469/469 [00:01<00:00, 241.47it/s]\n"
          ]
        },
        {
          "output_type": "stream",
          "name": "stdout",
          "text": [
            "Epoch 9, Loss: 0.23195609140462045\n"
          ]
        },
        {
          "output_type": "stream",
          "name": "stderr",
          "text": [
            "100%|██████████| 469/469 [00:02<00:00, 214.11it/s]\n"
          ]
        },
        {
          "output_type": "stream",
          "name": "stdout",
          "text": [
            "Epoch 10, Loss: 0.2173454187753827\n"
          ]
        },
        {
          "output_type": "stream",
          "name": "stderr",
          "text": [
            "100%|██████████| 469/469 [00:02<00:00, 169.57it/s]\n"
          ]
        },
        {
          "output_type": "stream",
          "name": "stdout",
          "text": [
            "Epoch 1, Loss: 0.24667328498614177\n"
          ]
        },
        {
          "output_type": "stream",
          "name": "stderr",
          "text": [
            "100%|██████████| 469/469 [00:02<00:00, 203.10it/s]\n"
          ]
        },
        {
          "output_type": "stream",
          "name": "stdout",
          "text": [
            "Epoch 2, Loss: 0.2402099915998561\n"
          ]
        },
        {
          "output_type": "stream",
          "name": "stderr",
          "text": [
            "100%|██████████| 469/469 [00:01<00:00, 242.10it/s]\n"
          ]
        },
        {
          "output_type": "stream",
          "name": "stdout",
          "text": [
            "Epoch 3, Loss: 0.2375977733425661\n"
          ]
        },
        {
          "output_type": "stream",
          "name": "stderr",
          "text": [
            "100%|██████████| 469/469 [00:01<00:00, 237.17it/s]\n"
          ]
        },
        {
          "output_type": "stream",
          "name": "stdout",
          "text": [
            "Epoch 4, Loss: 0.23512621200444903\n"
          ]
        },
        {
          "output_type": "stream",
          "name": "stderr",
          "text": [
            "100%|██████████| 469/469 [00:01<00:00, 247.43it/s]\n"
          ]
        },
        {
          "output_type": "stream",
          "name": "stdout",
          "text": [
            "Epoch 5, Loss: 0.2026042958735419\n"
          ]
        },
        {
          "output_type": "stream",
          "name": "stderr",
          "text": [
            "100%|██████████| 469/469 [00:02<00:00, 189.32it/s]\n"
          ]
        },
        {
          "output_type": "stream",
          "name": "stdout",
          "text": [
            "Epoch 6, Loss: 0.22269057214601654\n"
          ]
        },
        {
          "output_type": "stream",
          "name": "stderr",
          "text": [
            "100%|██████████| 469/469 [00:02<00:00, 225.04it/s]\n"
          ]
        },
        {
          "output_type": "stream",
          "name": "stdout",
          "text": [
            "Epoch 7, Loss: 0.2093053822398686\n"
          ]
        },
        {
          "output_type": "stream",
          "name": "stderr",
          "text": [
            "100%|██████████| 469/469 [00:01<00:00, 242.20it/s]\n"
          ]
        },
        {
          "output_type": "stream",
          "name": "stdout",
          "text": [
            "Epoch 8, Loss: 0.22112288509360525\n"
          ]
        },
        {
          "output_type": "stream",
          "name": "stderr",
          "text": [
            "100%|██████████| 469/469 [00:01<00:00, 246.50it/s]\n"
          ]
        },
        {
          "output_type": "stream",
          "name": "stdout",
          "text": [
            "Epoch 9, Loss: 0.19976138253522507\n"
          ]
        },
        {
          "output_type": "stream",
          "name": "stderr",
          "text": [
            "100%|██████████| 469/469 [00:01<00:00, 249.22it/s]\n"
          ]
        },
        {
          "output_type": "stream",
          "name": "stdout",
          "text": [
            "Epoch 10, Loss: 0.21467494143685426\n"
          ]
        },
        {
          "output_type": "stream",
          "name": "stderr",
          "text": [
            "100%|██████████| 469/469 [00:02<00:00, 192.10it/s]\n"
          ]
        },
        {
          "output_type": "stream",
          "name": "stdout",
          "text": [
            "Epoch 1, Loss: 0.5419132553243529\n"
          ]
        },
        {
          "output_type": "stream",
          "name": "stderr",
          "text": [
            "100%|██████████| 469/469 [00:03<00:00, 148.22it/s]\n"
          ]
        },
        {
          "output_type": "stream",
          "name": "stdout",
          "text": [
            "Epoch 2, Loss: 0.27528489257560484\n"
          ]
        },
        {
          "output_type": "stream",
          "name": "stderr",
          "text": [
            "100%|██████████| 469/469 [00:02<00:00, 199.84it/s]\n"
          ]
        },
        {
          "output_type": "stream",
          "name": "stdout",
          "text": [
            "Epoch 3, Loss: 0.26706201084621395\n"
          ]
        },
        {
          "output_type": "stream",
          "name": "stderr",
          "text": [
            "100%|██████████| 469/469 [00:02<00:00, 199.13it/s]\n"
          ]
        },
        {
          "output_type": "stream",
          "name": "stdout",
          "text": [
            "Epoch 4, Loss: 0.27112199943353815\n"
          ]
        },
        {
          "output_type": "stream",
          "name": "stderr",
          "text": [
            "100%|██████████| 469/469 [00:03<00:00, 125.65it/s]\n"
          ]
        },
        {
          "output_type": "stream",
          "name": "stdout",
          "text": [
            "Epoch 5, Loss: 0.25831487944879844\n"
          ]
        },
        {
          "output_type": "stream",
          "name": "stderr",
          "text": [
            "100%|██████████| 469/469 [00:06<00:00, 77.87it/s] \n"
          ]
        },
        {
          "output_type": "stream",
          "name": "stdout",
          "text": [
            "Epoch 6, Loss: 0.2675287089328458\n"
          ]
        },
        {
          "output_type": "stream",
          "name": "stderr",
          "text": [
            "100%|██████████| 469/469 [00:04<00:00, 101.13it/s]\n"
          ]
        },
        {
          "output_type": "stream",
          "name": "stdout",
          "text": [
            "Epoch 7, Loss: 0.257517706710043\n"
          ]
        },
        {
          "output_type": "stream",
          "name": "stderr",
          "text": [
            "100%|██████████| 469/469 [00:03<00:00, 121.61it/s]\n"
          ]
        },
        {
          "output_type": "stream",
          "name": "stdout",
          "text": [
            "Epoch 8, Loss: 0.26447868422428367\n"
          ]
        },
        {
          "output_type": "stream",
          "name": "stderr",
          "text": [
            "100%|██████████| 469/469 [00:03<00:00, 154.19it/s]\n"
          ]
        },
        {
          "output_type": "stream",
          "name": "stdout",
          "text": [
            "Epoch 9, Loss: 0.2588535464470034\n"
          ]
        },
        {
          "output_type": "stream",
          "name": "stderr",
          "text": [
            "100%|██████████| 469/469 [00:02<00:00, 193.53it/s]\n"
          ]
        },
        {
          "output_type": "stream",
          "name": "stdout",
          "text": [
            "Epoch 10, Loss: 0.2607095297872782\n"
          ]
        },
        {
          "output_type": "stream",
          "name": "stderr",
          "text": [
            "100%|██████████| 469/469 [00:02<00:00, 187.45it/s]\n"
          ]
        },
        {
          "output_type": "stream",
          "name": "stdout",
          "text": [
            "Epoch 1, Loss: 0.2952363637592723\n"
          ]
        },
        {
          "output_type": "stream",
          "name": "stderr",
          "text": [
            "100%|██████████| 469/469 [00:02<00:00, 190.58it/s]\n"
          ]
        },
        {
          "output_type": "stream",
          "name": "stdout",
          "text": [
            "Epoch 2, Loss: 0.2355974572124893\n"
          ]
        },
        {
          "output_type": "stream",
          "name": "stderr",
          "text": [
            "100%|██████████| 469/469 [00:02<00:00, 164.23it/s]\n"
          ]
        },
        {
          "output_type": "stream",
          "name": "stdout",
          "text": [
            "Epoch 3, Loss: 0.23105447400293783\n"
          ]
        },
        {
          "output_type": "stream",
          "name": "stderr",
          "text": [
            "100%|██████████| 469/469 [00:02<00:00, 171.68it/s]\n"
          ]
        },
        {
          "output_type": "stream",
          "name": "stdout",
          "text": [
            "Epoch 4, Loss: 0.24360409517313786\n"
          ]
        },
        {
          "output_type": "stream",
          "name": "stderr",
          "text": [
            "100%|██████████| 469/469 [00:02<00:00, 188.99it/s]\n"
          ]
        },
        {
          "output_type": "stream",
          "name": "stdout",
          "text": [
            "Epoch 5, Loss: 0.23397431069407176\n"
          ]
        },
        {
          "output_type": "stream",
          "name": "stderr",
          "text": [
            "100%|██████████| 469/469 [00:02<00:00, 191.17it/s]\n"
          ]
        },
        {
          "output_type": "stream",
          "name": "stdout",
          "text": [
            "Epoch 6, Loss: 0.23776896499734776\n"
          ]
        },
        {
          "output_type": "stream",
          "name": "stderr",
          "text": [
            "100%|██████████| 469/469 [00:02<00:00, 192.75it/s]\n"
          ]
        },
        {
          "output_type": "stream",
          "name": "stdout",
          "text": [
            "Epoch 7, Loss: 0.2283967128202224\n"
          ]
        },
        {
          "output_type": "stream",
          "name": "stderr",
          "text": [
            "100%|██████████| 469/469 [00:02<00:00, 159.63it/s]\n"
          ]
        },
        {
          "output_type": "stream",
          "name": "stdout",
          "text": [
            "Epoch 8, Loss: 0.2407458581939848\n"
          ]
        },
        {
          "output_type": "stream",
          "name": "stderr",
          "text": [
            "100%|██████████| 469/469 [00:02<00:00, 181.57it/s]\n"
          ]
        },
        {
          "output_type": "stream",
          "name": "stdout",
          "text": [
            "Epoch 9, Loss: 0.22792938791179676\n"
          ]
        },
        {
          "output_type": "stream",
          "name": "stderr",
          "text": [
            "100%|██████████| 469/469 [00:02<00:00, 197.77it/s]\n"
          ]
        },
        {
          "output_type": "stream",
          "name": "stdout",
          "text": [
            "Epoch 10, Loss: 0.2323631573856167\n"
          ]
        },
        {
          "output_type": "stream",
          "name": "stderr",
          "text": [
            "100%|██████████| 469/469 [00:02<00:00, 191.14it/s]\n"
          ]
        },
        {
          "output_type": "stream",
          "name": "stdout",
          "text": [
            "Epoch 1, Loss: 0.2525579778011888\n"
          ]
        },
        {
          "output_type": "stream",
          "name": "stderr",
          "text": [
            "100%|██████████| 469/469 [00:02<00:00, 196.24it/s]\n"
          ]
        },
        {
          "output_type": "stream",
          "name": "stdout",
          "text": [
            "Epoch 2, Loss: 0.22315405925978093\n"
          ]
        },
        {
          "output_type": "stream",
          "name": "stderr",
          "text": [
            "100%|██████████| 469/469 [00:03<00:00, 151.40it/s]\n"
          ]
        },
        {
          "output_type": "stream",
          "name": "stdout",
          "text": [
            "Epoch 3, Loss: 0.2411646921006935\n"
          ]
        },
        {
          "output_type": "stream",
          "name": "stderr",
          "text": [
            "100%|██████████| 469/469 [00:02<00:00, 196.45it/s]\n"
          ]
        },
        {
          "output_type": "stream",
          "name": "stdout",
          "text": [
            "Epoch 4, Loss: 0.24215042563741093\n"
          ]
        },
        {
          "output_type": "stream",
          "name": "stderr",
          "text": [
            "100%|██████████| 469/469 [00:02<00:00, 191.99it/s]\n"
          ]
        },
        {
          "output_type": "stream",
          "name": "stdout",
          "text": [
            "Epoch 5, Loss: 0.21459149984992357\n"
          ]
        },
        {
          "output_type": "stream",
          "name": "stderr",
          "text": [
            "100%|██████████| 469/469 [00:02<00:00, 194.15it/s]\n"
          ]
        },
        {
          "output_type": "stream",
          "name": "stdout",
          "text": [
            "Epoch 6, Loss: 0.22864864173798022\n"
          ]
        },
        {
          "output_type": "stream",
          "name": "stderr",
          "text": [
            "100%|██████████| 469/469 [00:02<00:00, 190.01it/s]\n"
          ]
        },
        {
          "output_type": "stream",
          "name": "stdout",
          "text": [
            "Epoch 7, Loss: 0.21291184861849405\n"
          ]
        },
        {
          "output_type": "stream",
          "name": "stderr",
          "text": [
            "100%|██████████| 469/469 [00:03<00:00, 149.72it/s]\n"
          ]
        },
        {
          "output_type": "stream",
          "name": "stdout",
          "text": [
            "Epoch 8, Loss: 0.21919209007789364\n"
          ]
        },
        {
          "output_type": "stream",
          "name": "stderr",
          "text": [
            "100%|██████████| 469/469 [00:02<00:00, 193.01it/s]\n"
          ]
        },
        {
          "output_type": "stream",
          "name": "stdout",
          "text": [
            "Epoch 9, Loss: 0.19750034672144587\n"
          ]
        },
        {
          "output_type": "stream",
          "name": "stderr",
          "text": [
            "100%|██████████| 469/469 [00:02<00:00, 195.47it/s]\n"
          ]
        },
        {
          "output_type": "stream",
          "name": "stdout",
          "text": [
            "Epoch 10, Loss: 0.22017734351782386\n"
          ]
        },
        {
          "output_type": "stream",
          "name": "stderr",
          "text": [
            "100%|██████████| 469/469 [00:02<00:00, 227.01it/s]\n"
          ]
        },
        {
          "output_type": "stream",
          "name": "stdout",
          "text": [
            "Epoch 1, Loss: 0.5362139029114612\n"
          ]
        },
        {
          "output_type": "stream",
          "name": "stderr",
          "text": [
            "100%|██████████| 469/469 [00:02<00:00, 234.25it/s]\n"
          ]
        },
        {
          "output_type": "stream",
          "name": "stdout",
          "text": [
            "Epoch 2, Loss: 0.28611777447956377\n"
          ]
        },
        {
          "output_type": "stream",
          "name": "stderr",
          "text": [
            "100%|██████████| 469/469 [00:02<00:00, 176.94it/s]\n"
          ]
        },
        {
          "output_type": "stream",
          "name": "stdout",
          "text": [
            "Epoch 3, Loss: 0.26387192795315245\n"
          ]
        },
        {
          "output_type": "stream",
          "name": "stderr",
          "text": [
            "100%|██████████| 469/469 [00:02<00:00, 219.07it/s]\n"
          ]
        },
        {
          "output_type": "stream",
          "name": "stdout",
          "text": [
            "Epoch 4, Loss: 0.2267869745350397\n"
          ]
        },
        {
          "output_type": "stream",
          "name": "stderr",
          "text": [
            "100%|██████████| 469/469 [00:02<00:00, 224.78it/s]\n"
          ]
        },
        {
          "output_type": "stream",
          "name": "stdout",
          "text": [
            "Epoch 5, Loss: 0.24051821217693484\n"
          ]
        },
        {
          "output_type": "stream",
          "name": "stderr",
          "text": [
            "100%|██████████| 469/469 [00:02<00:00, 227.92it/s]\n"
          ]
        },
        {
          "output_type": "stream",
          "name": "stdout",
          "text": [
            "Epoch 6, Loss: 0.25023836018180035\n"
          ]
        },
        {
          "output_type": "stream",
          "name": "stderr",
          "text": [
            "100%|██████████| 469/469 [00:02<00:00, 231.46it/s]\n"
          ]
        },
        {
          "output_type": "stream",
          "name": "stdout",
          "text": [
            "Epoch 7, Loss: 0.27166012210100254\n"
          ]
        },
        {
          "output_type": "stream",
          "name": "stderr",
          "text": [
            "100%|██████████| 469/469 [00:02<00:00, 229.78it/s]\n"
          ]
        },
        {
          "output_type": "stream",
          "name": "stdout",
          "text": [
            "Epoch 8, Loss: 0.25503624057762625\n"
          ]
        },
        {
          "output_type": "stream",
          "name": "stderr",
          "text": [
            "100%|██████████| 469/469 [00:02<00:00, 171.04it/s]\n"
          ]
        },
        {
          "output_type": "stream",
          "name": "stdout",
          "text": [
            "Epoch 9, Loss: 0.25919669636263093\n"
          ]
        },
        {
          "output_type": "stream",
          "name": "stderr",
          "text": [
            "100%|██████████| 469/469 [00:02<00:00, 190.09it/s]\n"
          ]
        },
        {
          "output_type": "stream",
          "name": "stdout",
          "text": [
            "Epoch 10, Loss: 0.24307804266914232\n"
          ]
        },
        {
          "output_type": "stream",
          "name": "stderr",
          "text": [
            "100%|██████████| 469/469 [00:02<00:00, 170.78it/s]\n"
          ]
        },
        {
          "output_type": "stream",
          "name": "stdout",
          "text": [
            "Epoch 1, Loss: 0.29094277058185924\n"
          ]
        },
        {
          "output_type": "stream",
          "name": "stderr",
          "text": [
            "100%|██████████| 469/469 [00:01<00:00, 234.51it/s]\n"
          ]
        },
        {
          "output_type": "stream",
          "name": "stdout",
          "text": [
            "Epoch 2, Loss: 0.24491500252706885\n"
          ]
        },
        {
          "output_type": "stream",
          "name": "stderr",
          "text": [
            "100%|██████████| 469/469 [00:01<00:00, 237.88it/s]\n"
          ]
        },
        {
          "output_type": "stream",
          "name": "stdout",
          "text": [
            "Epoch 3, Loss: 0.2568706383199882\n"
          ]
        },
        {
          "output_type": "stream",
          "name": "stderr",
          "text": [
            "100%|██████████| 469/469 [00:02<00:00, 171.52it/s]\n"
          ]
        },
        {
          "output_type": "stream",
          "name": "stdout",
          "text": [
            "Epoch 4, Loss: 0.23845794445910512\n"
          ]
        },
        {
          "output_type": "stream",
          "name": "stderr",
          "text": [
            "100%|██████████| 469/469 [00:01<00:00, 236.20it/s]\n"
          ]
        },
        {
          "output_type": "stream",
          "name": "stdout",
          "text": [
            "Epoch 5, Loss: 0.21653332417783167\n"
          ]
        },
        {
          "output_type": "stream",
          "name": "stderr",
          "text": [
            "100%|██████████| 469/469 [00:02<00:00, 229.33it/s]\n"
          ]
        },
        {
          "output_type": "stream",
          "name": "stdout",
          "text": [
            "Epoch 6, Loss: 0.23511836172214576\n"
          ]
        },
        {
          "output_type": "stream",
          "name": "stderr",
          "text": [
            "100%|██████████| 469/469 [00:01<00:00, 237.10it/s]\n"
          ]
        },
        {
          "output_type": "stream",
          "name": "stdout",
          "text": [
            "Epoch 7, Loss: 0.2300522300099005\n"
          ]
        },
        {
          "output_type": "stream",
          "name": "stderr",
          "text": [
            "100%|██████████| 469/469 [00:01<00:00, 238.18it/s]\n"
          ]
        },
        {
          "output_type": "stream",
          "name": "stdout",
          "text": [
            "Epoch 8, Loss: 0.21050851408993876\n"
          ]
        },
        {
          "output_type": "stream",
          "name": "stderr",
          "text": [
            "100%|██████████| 469/469 [00:02<00:00, 226.63it/s]\n"
          ]
        },
        {
          "output_type": "stream",
          "name": "stdout",
          "text": [
            "Epoch 9, Loss: 0.21939570870973282\n"
          ]
        },
        {
          "output_type": "stream",
          "name": "stderr",
          "text": [
            "100%|██████████| 469/469 [00:02<00:00, 179.69it/s]\n"
          ]
        },
        {
          "output_type": "stream",
          "name": "stdout",
          "text": [
            "Epoch 10, Loss: 0.21767191140220435\n"
          ]
        },
        {
          "output_type": "stream",
          "name": "stderr",
          "text": [
            "100%|██████████| 469/469 [00:01<00:00, 234.94it/s]\n"
          ]
        },
        {
          "output_type": "stream",
          "name": "stdout",
          "text": [
            "Epoch 1, Loss: 0.2758465299178272\n"
          ]
        },
        {
          "output_type": "stream",
          "name": "stderr",
          "text": [
            "100%|██████████| 469/469 [00:01<00:00, 237.89it/s]\n"
          ]
        },
        {
          "output_type": "stream",
          "name": "stdout",
          "text": [
            "Epoch 2, Loss: 0.246334767656655\n"
          ]
        },
        {
          "output_type": "stream",
          "name": "stderr",
          "text": [
            "100%|██████████| 469/469 [00:02<00:00, 230.76it/s]\n"
          ]
        },
        {
          "output_type": "stream",
          "name": "stdout",
          "text": [
            "Epoch 3, Loss: 0.20517549835277527\n"
          ]
        },
        {
          "output_type": "stream",
          "name": "stderr",
          "text": [
            "100%|██████████| 469/469 [00:02<00:00, 232.32it/s]\n"
          ]
        },
        {
          "output_type": "stream",
          "name": "stdout",
          "text": [
            "Epoch 4, Loss: 0.21417074762262417\n"
          ]
        },
        {
          "output_type": "stream",
          "name": "stderr",
          "text": [
            "100%|██████████| 469/469 [00:02<00:00, 205.74it/s]\n"
          ]
        },
        {
          "output_type": "stream",
          "name": "stdout",
          "text": [
            "Epoch 5, Loss: 0.21366599439082345\n"
          ]
        },
        {
          "output_type": "stream",
          "name": "stderr",
          "text": [
            "100%|██████████| 469/469 [00:02<00:00, 193.63it/s]\n"
          ]
        },
        {
          "output_type": "stream",
          "name": "stdout",
          "text": [
            "Epoch 6, Loss: 0.21122856459196612\n"
          ]
        },
        {
          "output_type": "stream",
          "name": "stderr",
          "text": [
            "100%|██████████| 469/469 [00:01<00:00, 236.17it/s]\n"
          ]
        },
        {
          "output_type": "stream",
          "name": "stdout",
          "text": [
            "Epoch 7, Loss: 0.2086595647503187\n"
          ]
        },
        {
          "output_type": "stream",
          "name": "stderr",
          "text": [
            "100%|██████████| 469/469 [00:01<00:00, 235.42it/s]\n"
          ]
        },
        {
          "output_type": "stream",
          "name": "stdout",
          "text": [
            "Epoch 8, Loss: 0.21648366473141564\n"
          ]
        },
        {
          "output_type": "stream",
          "name": "stderr",
          "text": [
            "100%|██████████| 469/469 [00:02<00:00, 232.20it/s]\n"
          ]
        },
        {
          "output_type": "stream",
          "name": "stdout",
          "text": [
            "Epoch 9, Loss: 0.18864460396523308\n"
          ]
        },
        {
          "output_type": "stream",
          "name": "stderr",
          "text": [
            "100%|██████████| 469/469 [00:02<00:00, 226.41it/s]\n"
          ]
        },
        {
          "output_type": "stream",
          "name": "stdout",
          "text": [
            "Epoch 10, Loss: 0.2025883479814193\n"
          ]
        },
        {
          "output_type": "stream",
          "name": "stderr",
          "text": [
            "100%|██████████| 469/469 [00:02<00:00, 166.91it/s]\n"
          ]
        },
        {
          "output_type": "stream",
          "name": "stdout",
          "text": [
            "Epoch 1, Loss: 0.5496888070244159\n"
          ]
        },
        {
          "output_type": "stream",
          "name": "stderr",
          "text": [
            "100%|██████████| 469/469 [00:02<00:00, 195.74it/s]\n"
          ]
        },
        {
          "output_type": "stream",
          "name": "stdout",
          "text": [
            "Epoch 2, Loss: 0.2953745093343577\n"
          ]
        },
        {
          "output_type": "stream",
          "name": "stderr",
          "text": [
            "100%|██████████| 469/469 [00:02<00:00, 213.17it/s]\n"
          ]
        },
        {
          "output_type": "stream",
          "name": "stdout",
          "text": [
            "Epoch 3, Loss: 0.2744391843255089\n"
          ]
        },
        {
          "output_type": "stream",
          "name": "stderr",
          "text": [
            "100%|██████████| 469/469 [00:02<00:00, 209.40it/s]\n"
          ]
        },
        {
          "output_type": "stream",
          "name": "stdout",
          "text": [
            "Epoch 4, Loss: 0.2661176114864369\n"
          ]
        },
        {
          "output_type": "stream",
          "name": "stderr",
          "text": [
            "100%|██████████| 469/469 [00:02<00:00, 210.27it/s]\n"
          ]
        },
        {
          "output_type": "stream",
          "name": "stdout",
          "text": [
            "Epoch 5, Loss: 0.24503442161539787\n"
          ]
        },
        {
          "output_type": "stream",
          "name": "stderr",
          "text": [
            "100%|██████████| 469/469 [00:02<00:00, 188.88it/s]\n"
          ]
        },
        {
          "output_type": "stream",
          "name": "stdout",
          "text": [
            "Epoch 6, Loss: 0.2604250087785517\n"
          ]
        },
        {
          "output_type": "stream",
          "name": "stderr",
          "text": [
            "100%|██████████| 469/469 [00:02<00:00, 177.67it/s]\n"
          ]
        },
        {
          "output_type": "stream",
          "name": "stdout",
          "text": [
            "Epoch 7, Loss: 0.24424454349545893\n"
          ]
        },
        {
          "output_type": "stream",
          "name": "stderr",
          "text": [
            "100%|██████████| 469/469 [00:02<00:00, 211.38it/s]\n"
          ]
        },
        {
          "output_type": "stream",
          "name": "stdout",
          "text": [
            "Epoch 8, Loss: 0.2649673204025083\n"
          ]
        },
        {
          "output_type": "stream",
          "name": "stderr",
          "text": [
            "100%|██████████| 469/469 [00:02<00:00, 213.00it/s]\n"
          ]
        },
        {
          "output_type": "stream",
          "name": "stdout",
          "text": [
            "Epoch 9, Loss: 0.25523070469578063\n"
          ]
        },
        {
          "output_type": "stream",
          "name": "stderr",
          "text": [
            "100%|██████████| 469/469 [00:02<00:00, 210.92it/s]\n"
          ]
        },
        {
          "output_type": "stream",
          "name": "stdout",
          "text": [
            "Epoch 10, Loss: 0.24584619253218523\n"
          ]
        },
        {
          "output_type": "stream",
          "name": "stderr",
          "text": [
            "100%|██████████| 469/469 [00:02<00:00, 199.10it/s]\n"
          ]
        },
        {
          "output_type": "stream",
          "name": "stdout",
          "text": [
            "Epoch 1, Loss: 0.28760599684087373\n"
          ]
        },
        {
          "output_type": "stream",
          "name": "stderr",
          "text": [
            "100%|██████████| 469/469 [00:02<00:00, 161.80it/s]\n"
          ]
        },
        {
          "output_type": "stream",
          "name": "stdout",
          "text": [
            "Epoch 2, Loss: 0.24152400665137091\n"
          ]
        },
        {
          "output_type": "stream",
          "name": "stderr",
          "text": [
            "100%|██████████| 469/469 [00:02<00:00, 210.63it/s]\n"
          ]
        },
        {
          "output_type": "stream",
          "name": "stdout",
          "text": [
            "Epoch 3, Loss: 0.2491142917335081\n"
          ]
        },
        {
          "output_type": "stream",
          "name": "stderr",
          "text": [
            "100%|██████████| 469/469 [00:02<00:00, 207.95it/s]\n"
          ]
        },
        {
          "output_type": "stream",
          "name": "stdout",
          "text": [
            "Epoch 4, Loss: 0.2546533950523082\n"
          ]
        },
        {
          "output_type": "stream",
          "name": "stderr",
          "text": [
            "100%|██████████| 469/469 [00:02<00:00, 210.60it/s]\n"
          ]
        },
        {
          "output_type": "stream",
          "name": "stdout",
          "text": [
            "Epoch 5, Loss: 0.2404539691133381\n"
          ]
        },
        {
          "output_type": "stream",
          "name": "stderr",
          "text": [
            "100%|██████████| 469/469 [00:02<00:00, 201.76it/s]\n"
          ]
        },
        {
          "output_type": "stream",
          "name": "stdout",
          "text": [
            "Epoch 6, Loss: 0.2168456751725146\n"
          ]
        },
        {
          "output_type": "stream",
          "name": "stderr",
          "text": [
            "100%|██████████| 469/469 [00:02<00:00, 157.81it/s]\n"
          ]
        },
        {
          "output_type": "stream",
          "name": "stdout",
          "text": [
            "Epoch 7, Loss: 0.2253014601951739\n"
          ]
        },
        {
          "output_type": "stream",
          "name": "stderr",
          "text": [
            "100%|██████████| 469/469 [00:02<00:00, 206.23it/s]\n"
          ]
        },
        {
          "output_type": "stream",
          "name": "stdout",
          "text": [
            "Epoch 8, Loss: 0.2077059043894784\n"
          ]
        },
        {
          "output_type": "stream",
          "name": "stderr",
          "text": [
            "100%|██████████| 469/469 [00:02<00:00, 204.43it/s]\n"
          ]
        },
        {
          "output_type": "stream",
          "name": "stdout",
          "text": [
            "Epoch 9, Loss: 0.23576718736871846\n"
          ]
        },
        {
          "output_type": "stream",
          "name": "stderr",
          "text": [
            "100%|██████████| 469/469 [00:02<00:00, 209.28it/s]\n"
          ]
        },
        {
          "output_type": "stream",
          "name": "stdout",
          "text": [
            "Epoch 10, Loss: 0.2034320808348379\n"
          ]
        },
        {
          "output_type": "stream",
          "name": "stderr",
          "text": [
            "100%|██████████| 469/469 [00:02<00:00, 211.41it/s]\n"
          ]
        },
        {
          "output_type": "stream",
          "name": "stdout",
          "text": [
            "Epoch 1, Loss: 0.268844383102514\n"
          ]
        },
        {
          "output_type": "stream",
          "name": "stderr",
          "text": [
            "100%|██████████| 469/469 [00:02<00:00, 164.99it/s]\n"
          ]
        },
        {
          "output_type": "stream",
          "name": "stdout",
          "text": [
            "Epoch 2, Loss: 0.23461381763593156\n"
          ]
        },
        {
          "output_type": "stream",
          "name": "stderr",
          "text": [
            "100%|██████████| 469/469 [00:02<00:00, 208.53it/s]\n"
          ]
        },
        {
          "output_type": "stream",
          "name": "stdout",
          "text": [
            "Epoch 3, Loss: 0.21481614791254983\n"
          ]
        },
        {
          "output_type": "stream",
          "name": "stderr",
          "text": [
            "100%|██████████| 469/469 [00:02<00:00, 211.82it/s]\n"
          ]
        },
        {
          "output_type": "stream",
          "name": "stdout",
          "text": [
            "Epoch 4, Loss: 0.22622226070446858\n"
          ]
        },
        {
          "output_type": "stream",
          "name": "stderr",
          "text": [
            "100%|██████████| 469/469 [00:02<00:00, 201.80it/s]\n"
          ]
        },
        {
          "output_type": "stream",
          "name": "stdout",
          "text": [
            "Epoch 5, Loss: 0.21344700468076602\n"
          ]
        },
        {
          "output_type": "stream",
          "name": "stderr",
          "text": [
            "100%|██████████| 469/469 [00:02<00:00, 208.02it/s]\n"
          ]
        },
        {
          "output_type": "stream",
          "name": "stdout",
          "text": [
            "Epoch 6, Loss: 0.1997415411772816\n"
          ]
        },
        {
          "output_type": "stream",
          "name": "stderr",
          "text": [
            "100%|██████████| 469/469 [00:02<00:00, 176.23it/s]\n"
          ]
        },
        {
          "output_type": "stream",
          "name": "stdout",
          "text": [
            "Epoch 7, Loss: 0.1928663798816391\n"
          ]
        },
        {
          "output_type": "stream",
          "name": "stderr",
          "text": [
            "100%|██████████| 469/469 [00:02<00:00, 188.93it/s]\n"
          ]
        },
        {
          "output_type": "stream",
          "name": "stdout",
          "text": [
            "Epoch 8, Loss: 0.18726677080700255\n"
          ]
        },
        {
          "output_type": "stream",
          "name": "stderr",
          "text": [
            "100%|██████████| 469/469 [00:02<00:00, 209.35it/s]\n"
          ]
        },
        {
          "output_type": "stream",
          "name": "stdout",
          "text": [
            "Epoch 9, Loss: 0.1937311549701029\n"
          ]
        },
        {
          "output_type": "stream",
          "name": "stderr",
          "text": [
            "100%|██████████| 469/469 [00:02<00:00, 209.95it/s]\n"
          ]
        },
        {
          "output_type": "stream",
          "name": "stdout",
          "text": [
            "Epoch 10, Loss: 0.1792040307346338\n"
          ]
        },
        {
          "output_type": "stream",
          "name": "stderr",
          "text": [
            "100%|██████████| 469/469 [00:02<00:00, 164.11it/s]\n"
          ]
        },
        {
          "output_type": "stream",
          "name": "stdout",
          "text": [
            "Epoch 1, Loss: 0.4935503610526956\n"
          ]
        },
        {
          "output_type": "stream",
          "name": "stderr",
          "text": [
            "100%|██████████| 469/469 [00:03<00:00, 133.66it/s]\n"
          ]
        },
        {
          "output_type": "stream",
          "name": "stdout",
          "text": [
            "Epoch 2, Loss: 0.28753862218129067\n"
          ]
        },
        {
          "output_type": "stream",
          "name": "stderr",
          "text": [
            "100%|██████████| 469/469 [00:02<00:00, 168.81it/s]\n"
          ]
        },
        {
          "output_type": "stream",
          "name": "stdout",
          "text": [
            "Epoch 3, Loss: 0.2545568721760104\n"
          ]
        },
        {
          "output_type": "stream",
          "name": "stderr",
          "text": [
            "100%|██████████| 469/469 [00:02<00:00, 166.73it/s]\n"
          ]
        },
        {
          "output_type": "stream",
          "name": "stdout",
          "text": [
            "Epoch 4, Loss: 0.25568973044800297\n"
          ]
        },
        {
          "output_type": "stream",
          "name": "stderr",
          "text": [
            "100%|██████████| 469/469 [00:02<00:00, 169.12it/s]\n"
          ]
        },
        {
          "output_type": "stream",
          "name": "stdout",
          "text": [
            "Epoch 5, Loss: 0.25632435659607894\n"
          ]
        },
        {
          "output_type": "stream",
          "name": "stderr",
          "text": [
            "100%|██████████| 469/469 [00:03<00:00, 144.26it/s]\n"
          ]
        },
        {
          "output_type": "stream",
          "name": "stdout",
          "text": [
            "Epoch 6, Loss: 0.2739298019150117\n"
          ]
        },
        {
          "output_type": "stream",
          "name": "stderr",
          "text": [
            "100%|██████████| 469/469 [00:03<00:00, 127.68it/s]\n"
          ]
        },
        {
          "output_type": "stream",
          "name": "stdout",
          "text": [
            "Epoch 7, Loss: 0.25121667963673056\n"
          ]
        },
        {
          "output_type": "stream",
          "name": "stderr",
          "text": [
            "100%|██████████| 469/469 [00:03<00:00, 150.86it/s]\n"
          ]
        },
        {
          "output_type": "stream",
          "name": "stdout",
          "text": [
            "Epoch 8, Loss: 0.2404729591276465\n"
          ]
        },
        {
          "output_type": "stream",
          "name": "stderr",
          "text": [
            "100%|██████████| 469/469 [00:02<00:00, 162.34it/s]\n"
          ]
        },
        {
          "output_type": "stream",
          "name": "stdout",
          "text": [
            "Epoch 9, Loss: 0.256191148317413\n"
          ]
        },
        {
          "output_type": "stream",
          "name": "stderr",
          "text": [
            "100%|██████████| 469/469 [00:03<00:00, 134.99it/s]\n"
          ]
        },
        {
          "output_type": "stream",
          "name": "stdout",
          "text": [
            "Epoch 10, Loss: 0.23436395040969413\n"
          ]
        },
        {
          "output_type": "stream",
          "name": "stderr",
          "text": [
            "100%|██████████| 469/469 [00:02<00:00, 164.94it/s]\n"
          ]
        },
        {
          "output_type": "stream",
          "name": "stdout",
          "text": [
            "Epoch 1, Loss: 0.3070859256268008\n"
          ]
        },
        {
          "output_type": "stream",
          "name": "stderr",
          "text": [
            "100%|██████████| 469/469 [00:02<00:00, 163.60it/s]\n"
          ]
        },
        {
          "output_type": "stream",
          "name": "stdout",
          "text": [
            "Epoch 2, Loss: 0.2204671496448955\n"
          ]
        },
        {
          "output_type": "stream",
          "name": "stderr",
          "text": [
            "100%|██████████| 469/469 [00:02<00:00, 164.07it/s]\n"
          ]
        },
        {
          "output_type": "stream",
          "name": "stdout",
          "text": [
            "Epoch 3, Loss: 0.22521338063572197\n"
          ]
        },
        {
          "output_type": "stream",
          "name": "stderr",
          "text": [
            "100%|██████████| 469/469 [00:03<00:00, 136.31it/s]\n"
          ]
        },
        {
          "output_type": "stream",
          "name": "stdout",
          "text": [
            "Epoch 4, Loss: 0.24990234211949047\n"
          ]
        },
        {
          "output_type": "stream",
          "name": "stderr",
          "text": [
            "100%|██████████| 469/469 [00:02<00:00, 156.35it/s]\n"
          ]
        },
        {
          "output_type": "stream",
          "name": "stdout",
          "text": [
            "Epoch 5, Loss: 0.22649012963974607\n"
          ]
        },
        {
          "output_type": "stream",
          "name": "stderr",
          "text": [
            "100%|██████████| 469/469 [00:02<00:00, 166.27it/s]\n"
          ]
        },
        {
          "output_type": "stream",
          "name": "stdout",
          "text": [
            "Epoch 6, Loss: 0.23056650412371205\n"
          ]
        },
        {
          "output_type": "stream",
          "name": "stderr",
          "text": [
            "100%|██████████| 469/469 [00:02<00:00, 161.22it/s]\n"
          ]
        },
        {
          "output_type": "stream",
          "name": "stdout",
          "text": [
            "Epoch 7, Loss: 0.22354479365424115\n"
          ]
        },
        {
          "output_type": "stream",
          "name": "stderr",
          "text": [
            "100%|██████████| 469/469 [00:03<00:00, 139.91it/s]\n"
          ]
        },
        {
          "output_type": "stream",
          "name": "stdout",
          "text": [
            "Epoch 8, Loss: 0.22371827614685294\n"
          ]
        },
        {
          "output_type": "stream",
          "name": "stderr",
          "text": [
            "100%|██████████| 469/469 [00:03<00:00, 150.72it/s]\n"
          ]
        },
        {
          "output_type": "stream",
          "name": "stdout",
          "text": [
            "Epoch 9, Loss: 0.21115823282397536\n"
          ]
        },
        {
          "output_type": "stream",
          "name": "stderr",
          "text": [
            "100%|██████████| 469/469 [00:02<00:00, 163.04it/s]\n"
          ]
        },
        {
          "output_type": "stream",
          "name": "stdout",
          "text": [
            "Epoch 10, Loss: 0.211828559726429\n"
          ]
        },
        {
          "output_type": "stream",
          "name": "stderr",
          "text": [
            "100%|██████████| 469/469 [00:02<00:00, 162.66it/s]\n"
          ]
        },
        {
          "output_type": "stream",
          "name": "stdout",
          "text": [
            "Epoch 1, Loss: 0.25515792103829793\n"
          ]
        },
        {
          "output_type": "stream",
          "name": "stderr",
          "text": [
            "100%|██████████| 469/469 [00:03<00:00, 146.77it/s]\n"
          ]
        },
        {
          "output_type": "stream",
          "name": "stdout",
          "text": [
            "Epoch 2, Loss: 0.2304756670454537\n"
          ]
        },
        {
          "output_type": "stream",
          "name": "stderr",
          "text": [
            "100%|██████████| 469/469 [00:03<00:00, 144.84it/s]\n"
          ]
        },
        {
          "output_type": "stream",
          "name": "stdout",
          "text": [
            "Epoch 3, Loss: 0.23068973513196972\n"
          ]
        },
        {
          "output_type": "stream",
          "name": "stderr",
          "text": [
            "100%|██████████| 469/469 [00:02<00:00, 167.06it/s]\n"
          ]
        },
        {
          "output_type": "stream",
          "name": "stdout",
          "text": [
            "Epoch 4, Loss: 0.20246632685457894\n"
          ]
        },
        {
          "output_type": "stream",
          "name": "stderr",
          "text": [
            "100%|██████████| 469/469 [00:02<00:00, 164.02it/s]\n"
          ]
        },
        {
          "output_type": "stream",
          "name": "stdout",
          "text": [
            "Epoch 5, Loss: 0.21221207187070187\n"
          ]
        },
        {
          "output_type": "stream",
          "name": "stderr",
          "text": [
            "100%|██████████| 469/469 [00:03<00:00, 155.91it/s]\n"
          ]
        },
        {
          "output_type": "stream",
          "name": "stdout",
          "text": [
            "Epoch 6, Loss: 0.19170176941166217\n"
          ]
        },
        {
          "output_type": "stream",
          "name": "stderr",
          "text": [
            "100%|██████████| 469/469 [00:03<00:00, 140.33it/s]\n"
          ]
        },
        {
          "output_type": "stream",
          "name": "stdout",
          "text": [
            "Epoch 7, Loss: 0.1950550239127594\n"
          ]
        },
        {
          "output_type": "stream",
          "name": "stderr",
          "text": [
            "100%|██████████| 469/469 [00:02<00:00, 162.93it/s]\n"
          ]
        },
        {
          "output_type": "stream",
          "name": "stdout",
          "text": [
            "Epoch 8, Loss: 0.21059230103769075\n"
          ]
        },
        {
          "output_type": "stream",
          "name": "stderr",
          "text": [
            "100%|██████████| 469/469 [00:02<00:00, 165.30it/s]\n"
          ]
        },
        {
          "output_type": "stream",
          "name": "stdout",
          "text": [
            "Epoch 9, Loss: 0.18967269077055107\n"
          ]
        },
        {
          "output_type": "stream",
          "name": "stderr",
          "text": [
            "100%|██████████| 469/469 [00:02<00:00, 163.45it/s]\n"
          ]
        },
        {
          "output_type": "stream",
          "name": "stdout",
          "text": [
            "Epoch 10, Loss: 0.19217956788601603\n"
          ]
        },
        {
          "output_type": "stream",
          "name": "stderr",
          "text": [
            "100%|██████████| 469/469 [00:03<00:00, 136.47it/s]\n"
          ]
        },
        {
          "output_type": "stream",
          "name": "stdout",
          "text": [
            "Epoch 1, Loss: 0.5839193746574652\n"
          ]
        },
        {
          "output_type": "stream",
          "name": "stderr",
          "text": [
            "100%|██████████| 469/469 [00:02<00:00, 166.19it/s]\n"
          ]
        },
        {
          "output_type": "stream",
          "name": "stdout",
          "text": [
            "Epoch 2, Loss: 0.30380674844323746\n"
          ]
        },
        {
          "output_type": "stream",
          "name": "stderr",
          "text": [
            "100%|██████████| 469/469 [00:02<00:00, 169.54it/s]\n"
          ]
        },
        {
          "output_type": "stream",
          "name": "stdout",
          "text": [
            "Epoch 3, Loss: 0.2828808917499173\n"
          ]
        },
        {
          "output_type": "stream",
          "name": "stderr",
          "text": [
            "100%|██████████| 469/469 [00:02<00:00, 163.33it/s]\n"
          ]
        },
        {
          "output_type": "stream",
          "name": "stdout",
          "text": [
            "Epoch 4, Loss: 0.24442985894899172\n"
          ]
        },
        {
          "output_type": "stream",
          "name": "stderr",
          "text": [
            "100%|██████████| 469/469 [00:03<00:00, 134.47it/s]\n"
          ]
        },
        {
          "output_type": "stream",
          "name": "stdout",
          "text": [
            "Epoch 5, Loss: 0.26796603092585186\n"
          ]
        },
        {
          "output_type": "stream",
          "name": "stderr",
          "text": [
            "100%|██████████| 469/469 [00:02<00:00, 163.64it/s]\n"
          ]
        },
        {
          "output_type": "stream",
          "name": "stdout",
          "text": [
            "Epoch 6, Loss: 0.25900445529781\n"
          ]
        },
        {
          "output_type": "stream",
          "name": "stderr",
          "text": [
            "100%|██████████| 469/469 [00:02<00:00, 167.26it/s]\n"
          ]
        },
        {
          "output_type": "stream",
          "name": "stdout",
          "text": [
            "Epoch 7, Loss: 0.2446160852680229\n"
          ]
        },
        {
          "output_type": "stream",
          "name": "stderr",
          "text": [
            "100%|██████████| 469/469 [00:02<00:00, 166.88it/s]\n"
          ]
        },
        {
          "output_type": "stream",
          "name": "stdout",
          "text": [
            "Epoch 8, Loss: 0.24698105943488524\n"
          ]
        },
        {
          "output_type": "stream",
          "name": "stderr",
          "text": [
            "100%|██████████| 469/469 [00:03<00:00, 132.53it/s]\n"
          ]
        },
        {
          "output_type": "stream",
          "name": "stdout",
          "text": [
            "Epoch 9, Loss: 0.23737301229651192\n"
          ]
        },
        {
          "output_type": "stream",
          "name": "stderr",
          "text": [
            "100%|██████████| 469/469 [00:02<00:00, 166.87it/s]\n"
          ]
        },
        {
          "output_type": "stream",
          "name": "stdout",
          "text": [
            "Epoch 10, Loss: 0.2524845829319908\n"
          ]
        },
        {
          "output_type": "stream",
          "name": "stderr",
          "text": [
            "100%|██████████| 469/469 [00:02<00:00, 165.30it/s]\n"
          ]
        },
        {
          "output_type": "stream",
          "name": "stdout",
          "text": [
            "Epoch 1, Loss: 0.2723106088460302\n"
          ]
        },
        {
          "output_type": "stream",
          "name": "stderr",
          "text": [
            "100%|██████████| 469/469 [00:02<00:00, 169.24it/s]\n"
          ]
        },
        {
          "output_type": "stream",
          "name": "stdout",
          "text": [
            "Epoch 2, Loss: 0.25777553733704345\n"
          ]
        },
        {
          "output_type": "stream",
          "name": "stderr",
          "text": [
            "100%|██████████| 469/469 [00:03<00:00, 137.58it/s]\n"
          ]
        },
        {
          "output_type": "stream",
          "name": "stdout",
          "text": [
            "Epoch 3, Loss: 0.2388556506986152\n"
          ]
        },
        {
          "output_type": "stream",
          "name": "stderr",
          "text": [
            "100%|██████████| 469/469 [00:02<00:00, 169.17it/s]\n"
          ]
        },
        {
          "output_type": "stream",
          "name": "stdout",
          "text": [
            "Epoch 4, Loss: 0.22505209017852779\n"
          ]
        },
        {
          "output_type": "stream",
          "name": "stderr",
          "text": [
            "100%|██████████| 469/469 [00:02<00:00, 161.35it/s]\n"
          ]
        },
        {
          "output_type": "stream",
          "name": "stdout",
          "text": [
            "Epoch 5, Loss: 0.2356282378989222\n"
          ]
        },
        {
          "output_type": "stream",
          "name": "stderr",
          "text": [
            "100%|██████████| 469/469 [00:02<00:00, 166.39it/s]\n"
          ]
        },
        {
          "output_type": "stream",
          "name": "stdout",
          "text": [
            "Epoch 6, Loss: 0.1907484855630429\n"
          ]
        },
        {
          "output_type": "stream",
          "name": "stderr",
          "text": [
            "100%|██████████| 469/469 [00:03<00:00, 144.93it/s]\n"
          ]
        },
        {
          "output_type": "stream",
          "name": "stdout",
          "text": [
            "Epoch 7, Loss: 0.20286560172725446\n"
          ]
        },
        {
          "output_type": "stream",
          "name": "stderr",
          "text": [
            "100%|██████████| 469/469 [00:02<00:00, 158.17it/s]\n"
          ]
        },
        {
          "output_type": "stream",
          "name": "stdout",
          "text": [
            "Epoch 8, Loss: 0.2078853411367163\n"
          ]
        },
        {
          "output_type": "stream",
          "name": "stderr",
          "text": [
            "100%|██████████| 469/469 [00:02<00:00, 168.49it/s]\n"
          ]
        },
        {
          "output_type": "stream",
          "name": "stdout",
          "text": [
            "Epoch 9, Loss: 0.19991530113948333\n"
          ]
        },
        {
          "output_type": "stream",
          "name": "stderr",
          "text": [
            "100%|██████████| 469/469 [00:02<00:00, 166.47it/s]\n"
          ]
        },
        {
          "output_type": "stream",
          "name": "stdout",
          "text": [
            "Epoch 10, Loss: 0.18816593133523982\n"
          ]
        },
        {
          "output_type": "stream",
          "name": "stderr",
          "text": [
            "100%|██████████| 469/469 [00:03<00:00, 147.82it/s]\n"
          ]
        },
        {
          "output_type": "stream",
          "name": "stdout",
          "text": [
            "Epoch 1, Loss: 0.25062896633473064\n"
          ]
        },
        {
          "output_type": "stream",
          "name": "stderr",
          "text": [
            "100%|██████████| 469/469 [00:03<00:00, 152.29it/s]\n"
          ]
        },
        {
          "output_type": "stream",
          "name": "stdout",
          "text": [
            "Epoch 2, Loss: 0.2303067855675941\n"
          ]
        },
        {
          "output_type": "stream",
          "name": "stderr",
          "text": [
            "100%|██████████| 469/469 [00:02<00:00, 167.79it/s]\n"
          ]
        },
        {
          "output_type": "stream",
          "name": "stdout",
          "text": [
            "Epoch 3, Loss: 0.23868599362911652\n"
          ]
        },
        {
          "output_type": "stream",
          "name": "stderr",
          "text": [
            "100%|██████████| 469/469 [00:02<00:00, 166.18it/s]\n"
          ]
        },
        {
          "output_type": "stream",
          "name": "stdout",
          "text": [
            "Epoch 4, Loss: 0.1958580188466105\n"
          ]
        },
        {
          "output_type": "stream",
          "name": "stderr",
          "text": [
            "100%|██████████| 469/469 [00:03<00:00, 155.05it/s]\n"
          ]
        },
        {
          "output_type": "stream",
          "name": "stdout",
          "text": [
            "Epoch 5, Loss: 0.1829107216366235\n"
          ]
        },
        {
          "output_type": "stream",
          "name": "stderr",
          "text": [
            "100%|██████████| 469/469 [00:03<00:00, 144.07it/s]\n"
          ]
        },
        {
          "output_type": "stream",
          "name": "stdout",
          "text": [
            "Epoch 6, Loss: 0.18455879838426292\n"
          ]
        },
        {
          "output_type": "stream",
          "name": "stderr",
          "text": [
            "100%|██████████| 469/469 [00:02<00:00, 163.98it/s]\n"
          ]
        },
        {
          "output_type": "stream",
          "name": "stdout",
          "text": [
            "Epoch 7, Loss: 0.1766310677695364\n"
          ]
        },
        {
          "output_type": "stream",
          "name": "stderr",
          "text": [
            "100%|██████████| 469/469 [00:02<00:00, 161.01it/s]\n"
          ]
        },
        {
          "output_type": "stream",
          "name": "stdout",
          "text": [
            "Epoch 8, Loss: 0.1840155459456404\n"
          ]
        },
        {
          "output_type": "stream",
          "name": "stderr",
          "text": [
            "100%|██████████| 469/469 [00:02<00:00, 160.30it/s]\n"
          ]
        },
        {
          "output_type": "stream",
          "name": "stdout",
          "text": [
            "Epoch 9, Loss: 0.16947015198209495\n"
          ]
        },
        {
          "output_type": "stream",
          "name": "stderr",
          "text": [
            "100%|██████████| 469/469 [00:03<00:00, 141.24it/s]\n"
          ]
        },
        {
          "output_type": "stream",
          "name": "stdout",
          "text": [
            "Epoch 10, Loss: 0.16228807556566033\n"
          ]
        },
        {
          "output_type": "stream",
          "name": "stderr",
          "text": [
            "100%|██████████| 469/469 [00:03<00:00, 145.42it/s]\n"
          ]
        },
        {
          "output_type": "stream",
          "name": "stdout",
          "text": [
            "Epoch 1, Loss: 0.5936081967642233\n"
          ]
        },
        {
          "output_type": "stream",
          "name": "stderr",
          "text": [
            "100%|██████████| 469/469 [00:03<00:00, 148.97it/s]\n"
          ]
        },
        {
          "output_type": "stream",
          "name": "stdout",
          "text": [
            "Epoch 2, Loss: 0.30217296330393284\n"
          ]
        },
        {
          "output_type": "stream",
          "name": "stderr",
          "text": [
            "100%|██████████| 469/469 [00:03<00:00, 137.35it/s]\n"
          ]
        },
        {
          "output_type": "stream",
          "name": "stdout",
          "text": [
            "Epoch 3, Loss: 0.24554789860843063\n"
          ]
        },
        {
          "output_type": "stream",
          "name": "stderr",
          "text": [
            "100%|██████████| 469/469 [00:03<00:00, 137.24it/s]\n"
          ]
        },
        {
          "output_type": "stream",
          "name": "stdout",
          "text": [
            "Epoch 4, Loss: 0.25712849270887\n"
          ]
        },
        {
          "output_type": "stream",
          "name": "stderr",
          "text": [
            "100%|██████████| 469/469 [00:03<00:00, 147.83it/s]\n"
          ]
        },
        {
          "output_type": "stream",
          "name": "stdout",
          "text": [
            "Epoch 5, Loss: 0.25420472393336613\n"
          ]
        },
        {
          "output_type": "stream",
          "name": "stderr",
          "text": [
            "100%|██████████| 469/469 [00:03<00:00, 153.24it/s]\n"
          ]
        },
        {
          "output_type": "stream",
          "name": "stdout",
          "text": [
            "Epoch 6, Loss: 0.250536978850439\n"
          ]
        },
        {
          "output_type": "stream",
          "name": "stderr",
          "text": [
            "100%|██████████| 469/469 [00:03<00:00, 125.14it/s]\n"
          ]
        },
        {
          "output_type": "stream",
          "name": "stdout",
          "text": [
            "Epoch 7, Loss: 0.24312800585107605\n"
          ]
        },
        {
          "output_type": "stream",
          "name": "stderr",
          "text": [
            "100%|██████████| 469/469 [00:03<00:00, 146.38it/s]\n"
          ]
        },
        {
          "output_type": "stream",
          "name": "stdout",
          "text": [
            "Epoch 8, Loss: 0.2518149333333831\n"
          ]
        },
        {
          "output_type": "stream",
          "name": "stderr",
          "text": [
            "100%|██████████| 469/469 [00:03<00:00, 149.95it/s]\n"
          ]
        },
        {
          "output_type": "stream",
          "name": "stdout",
          "text": [
            "Epoch 9, Loss: 0.2484272367168051\n"
          ]
        },
        {
          "output_type": "stream",
          "name": "stderr",
          "text": [
            "100%|██████████| 469/469 [00:03<00:00, 151.08it/s]\n"
          ]
        },
        {
          "output_type": "stream",
          "name": "stdout",
          "text": [
            "Epoch 10, Loss: 0.22084348395353617\n"
          ]
        },
        {
          "output_type": "stream",
          "name": "stderr",
          "text": [
            "100%|██████████| 469/469 [00:03<00:00, 125.40it/s]\n"
          ]
        },
        {
          "output_type": "stream",
          "name": "stdout",
          "text": [
            "Epoch 1, Loss: 0.2647906983616764\n"
          ]
        },
        {
          "output_type": "stream",
          "name": "stderr",
          "text": [
            "100%|██████████| 469/469 [00:03<00:00, 150.77it/s]\n"
          ]
        },
        {
          "output_type": "stream",
          "name": "stdout",
          "text": [
            "Epoch 2, Loss: 0.2340448268811836\n"
          ]
        },
        {
          "output_type": "stream",
          "name": "stderr",
          "text": [
            "100%|██████████| 469/469 [00:03<00:00, 154.04it/s]\n"
          ]
        },
        {
          "output_type": "stream",
          "name": "stdout",
          "text": [
            "Epoch 3, Loss: 0.21983965897638755\n"
          ]
        },
        {
          "output_type": "stream",
          "name": "stderr",
          "text": [
            "100%|██████████| 469/469 [00:03<00:00, 150.70it/s]\n"
          ]
        },
        {
          "output_type": "stream",
          "name": "stdout",
          "text": [
            "Epoch 4, Loss: 0.2227836673414565\n"
          ]
        },
        {
          "output_type": "stream",
          "name": "stderr",
          "text": [
            "100%|██████████| 469/469 [00:03<00:00, 127.29it/s]\n"
          ]
        },
        {
          "output_type": "stream",
          "name": "stdout",
          "text": [
            "Epoch 5, Loss: 0.2139585991946063\n"
          ]
        },
        {
          "output_type": "stream",
          "name": "stderr",
          "text": [
            "100%|██████████| 469/469 [00:03<00:00, 152.39it/s]\n"
          ]
        },
        {
          "output_type": "stream",
          "name": "stdout",
          "text": [
            "Epoch 6, Loss: 0.20412958396235303\n"
          ]
        },
        {
          "output_type": "stream",
          "name": "stderr",
          "text": [
            "100%|██████████| 469/469 [00:03<00:00, 151.24it/s]\n"
          ]
        },
        {
          "output_type": "stream",
          "name": "stdout",
          "text": [
            "Epoch 7, Loss: 0.20248996187224866\n"
          ]
        },
        {
          "output_type": "stream",
          "name": "stderr",
          "text": [
            "100%|██████████| 469/469 [00:03<00:00, 142.44it/s]\n"
          ]
        },
        {
          "output_type": "stream",
          "name": "stdout",
          "text": [
            "Epoch 8, Loss: 0.19290434168368728\n"
          ]
        },
        {
          "output_type": "stream",
          "name": "stderr",
          "text": [
            "100%|██████████| 469/469 [00:03<00:00, 130.29it/s]\n"
          ]
        },
        {
          "output_type": "stream",
          "name": "stdout",
          "text": [
            "Epoch 9, Loss: 0.20517731803247946\n"
          ]
        },
        {
          "output_type": "stream",
          "name": "stderr",
          "text": [
            "100%|██████████| 469/469 [00:03<00:00, 153.20it/s]\n"
          ]
        },
        {
          "output_type": "stream",
          "name": "stdout",
          "text": [
            "Epoch 10, Loss: 0.1888582798418279\n"
          ]
        },
        {
          "output_type": "stream",
          "name": "stderr",
          "text": [
            "100%|██████████| 469/469 [00:03<00:00, 151.24it/s]\n"
          ]
        },
        {
          "output_type": "stream",
          "name": "stdout",
          "text": [
            "Epoch 1, Loss: 0.2634157400790737\n"
          ]
        },
        {
          "output_type": "stream",
          "name": "stderr",
          "text": [
            "100%|██████████| 469/469 [00:03<00:00, 129.59it/s]\n"
          ]
        },
        {
          "output_type": "stream",
          "name": "stdout",
          "text": [
            "Epoch 2, Loss: 0.2213126453660381\n"
          ]
        },
        {
          "output_type": "stream",
          "name": "stderr",
          "text": [
            "100%|██████████| 469/469 [00:03<00:00, 140.55it/s]\n"
          ]
        },
        {
          "output_type": "stream",
          "name": "stdout",
          "text": [
            "Epoch 3, Loss: 0.20821539517904103\n"
          ]
        },
        {
          "output_type": "stream",
          "name": "stderr",
          "text": [
            "100%|██████████| 469/469 [00:03<00:00, 153.80it/s]\n"
          ]
        },
        {
          "output_type": "stream",
          "name": "stdout",
          "text": [
            "Epoch 4, Loss: 0.18430886385457984\n"
          ]
        },
        {
          "output_type": "stream",
          "name": "stderr",
          "text": [
            "100%|██████████| 469/469 [00:03<00:00, 151.63it/s]\n"
          ]
        },
        {
          "output_type": "stream",
          "name": "stdout",
          "text": [
            "Epoch 5, Loss: 0.18887869924950257\n"
          ]
        },
        {
          "output_type": "stream",
          "name": "stderr",
          "text": [
            "100%|██████████| 469/469 [00:03<00:00, 124.12it/s]\n"
          ]
        },
        {
          "output_type": "stream",
          "name": "stdout",
          "text": [
            "Epoch 6, Loss: 0.17364199107855624\n"
          ]
        },
        {
          "output_type": "stream",
          "name": "stderr",
          "text": [
            "100%|██████████| 469/469 [00:03<00:00, 150.58it/s]\n"
          ]
        },
        {
          "output_type": "stream",
          "name": "stdout",
          "text": [
            "Epoch 7, Loss: 0.16702363942985607\n"
          ]
        },
        {
          "output_type": "stream",
          "name": "stderr",
          "text": [
            "100%|██████████| 469/469 [00:03<00:00, 149.07it/s]\n"
          ]
        },
        {
          "output_type": "stream",
          "name": "stdout",
          "text": [
            "Epoch 8, Loss: 0.17126038217651054\n"
          ]
        },
        {
          "output_type": "stream",
          "name": "stderr",
          "text": [
            "100%|██████████| 469/469 [00:03<00:00, 150.10it/s]\n"
          ]
        },
        {
          "output_type": "stream",
          "name": "stdout",
          "text": [
            "Epoch 9, Loss: 0.17830350188115093\n"
          ]
        },
        {
          "output_type": "stream",
          "name": "stderr",
          "text": [
            "100%|██████████| 469/469 [00:03<00:00, 124.91it/s]\n"
          ]
        },
        {
          "output_type": "stream",
          "name": "stdout",
          "text": [
            "Epoch 10, Loss: 0.15296976694682757\n"
          ]
        },
        {
          "output_type": "stream",
          "name": "stderr",
          "text": [
            "100%|██████████| 469/469 [00:04<00:00, 99.16it/s] \n"
          ]
        },
        {
          "output_type": "stream",
          "name": "stdout",
          "text": [
            "Epoch 1, Loss: 0.49509969024436434\n"
          ]
        },
        {
          "output_type": "stream",
          "name": "stderr",
          "text": [
            "100%|██████████| 469/469 [00:03<00:00, 120.51it/s]\n"
          ]
        },
        {
          "output_type": "stream",
          "name": "stdout",
          "text": [
            "Epoch 2, Loss: 0.27108830113911125\n"
          ]
        },
        {
          "output_type": "stream",
          "name": "stderr",
          "text": [
            "100%|██████████| 469/469 [00:04<00:00, 104.61it/s]\n"
          ]
        },
        {
          "output_type": "stream",
          "name": "stdout",
          "text": [
            "Epoch 3, Loss: 0.2715780575967469\n"
          ]
        },
        {
          "output_type": "stream",
          "name": "stderr",
          "text": [
            "100%|██████████| 469/469 [00:03<00:00, 124.31it/s]\n"
          ]
        },
        {
          "output_type": "stream",
          "name": "stdout",
          "text": [
            "Epoch 4, Loss: 0.2553964285234581\n"
          ]
        },
        {
          "output_type": "stream",
          "name": "stderr",
          "text": [
            "100%|██████████| 469/469 [00:03<00:00, 119.52it/s]\n"
          ]
        },
        {
          "output_type": "stream",
          "name": "stdout",
          "text": [
            "Epoch 5, Loss: 0.24009719458252274\n"
          ]
        },
        {
          "output_type": "stream",
          "name": "stderr",
          "text": [
            "100%|██████████| 469/469 [00:04<00:00, 105.82it/s]\n"
          ]
        },
        {
          "output_type": "stream",
          "name": "stdout",
          "text": [
            "Epoch 6, Loss: 0.259480074140132\n"
          ]
        },
        {
          "output_type": "stream",
          "name": "stderr",
          "text": [
            "100%|██████████| 469/469 [00:03<00:00, 122.61it/s]\n"
          ]
        },
        {
          "output_type": "stream",
          "name": "stdout",
          "text": [
            "Epoch 7, Loss: 0.23399923614679036\n"
          ]
        },
        {
          "output_type": "stream",
          "name": "stderr",
          "text": [
            "100%|██████████| 469/469 [00:03<00:00, 121.57it/s]\n"
          ]
        },
        {
          "output_type": "stream",
          "name": "stdout",
          "text": [
            "Epoch 8, Loss: 0.25809125734943905\n"
          ]
        },
        {
          "output_type": "stream",
          "name": "stderr",
          "text": [
            "100%|██████████| 469/469 [00:04<00:00, 105.15it/s]\n"
          ]
        },
        {
          "output_type": "stream",
          "name": "stdout",
          "text": [
            "Epoch 9, Loss: 0.23698857894786862\n"
          ]
        },
        {
          "output_type": "stream",
          "name": "stderr",
          "text": [
            "100%|██████████| 469/469 [00:03<00:00, 124.32it/s]\n"
          ]
        },
        {
          "output_type": "stream",
          "name": "stdout",
          "text": [
            "Epoch 10, Loss: 0.23652494693401335\n"
          ]
        },
        {
          "output_type": "stream",
          "name": "stderr",
          "text": [
            "100%|██████████| 469/469 [00:03<00:00, 122.53it/s]\n"
          ]
        },
        {
          "output_type": "stream",
          "name": "stdout",
          "text": [
            "Epoch 1, Loss: 0.26277609952984365\n"
          ]
        },
        {
          "output_type": "stream",
          "name": "stderr",
          "text": [
            "100%|██████████| 469/469 [00:04<00:00, 104.43it/s]\n"
          ]
        },
        {
          "output_type": "stream",
          "name": "stdout",
          "text": [
            "Epoch 2, Loss: 0.2208705532542273\n"
          ]
        },
        {
          "output_type": "stream",
          "name": "stderr",
          "text": [
            "100%|██████████| 469/469 [00:03<00:00, 120.47it/s]\n"
          ]
        },
        {
          "output_type": "stream",
          "name": "stdout",
          "text": [
            "Epoch 3, Loss: 0.22088601186361187\n"
          ]
        },
        {
          "output_type": "stream",
          "name": "stderr",
          "text": [
            "100%|██████████| 469/469 [00:03<00:00, 124.08it/s]\n"
          ]
        },
        {
          "output_type": "stream",
          "name": "stdout",
          "text": [
            "Epoch 4, Loss: 0.21570070103051137\n"
          ]
        },
        {
          "output_type": "stream",
          "name": "stderr",
          "text": [
            "100%|██████████| 469/469 [00:04<00:00, 103.14it/s]\n"
          ]
        },
        {
          "output_type": "stream",
          "name": "stdout",
          "text": [
            "Epoch 5, Loss: 0.2034827920579429\n"
          ]
        },
        {
          "output_type": "stream",
          "name": "stderr",
          "text": [
            "100%|██████████| 469/469 [00:03<00:00, 122.96it/s]\n"
          ]
        },
        {
          "output_type": "stream",
          "name": "stdout",
          "text": [
            "Epoch 6, Loss: 0.2101677187543704\n"
          ]
        },
        {
          "output_type": "stream",
          "name": "stderr",
          "text": [
            "100%|██████████| 469/469 [00:03<00:00, 120.86it/s]\n"
          ]
        },
        {
          "output_type": "stream",
          "name": "stdout",
          "text": [
            "Epoch 7, Loss: 0.2193627362164345\n"
          ]
        },
        {
          "output_type": "stream",
          "name": "stderr",
          "text": [
            "100%|██████████| 469/469 [00:04<00:00, 107.13it/s]\n"
          ]
        },
        {
          "output_type": "stream",
          "name": "stdout",
          "text": [
            "Epoch 8, Loss: 0.19866246991216946\n"
          ]
        },
        {
          "output_type": "stream",
          "name": "stderr",
          "text": [
            "100%|██████████| 469/469 [00:03<00:00, 121.15it/s]\n"
          ]
        },
        {
          "output_type": "stream",
          "name": "stdout",
          "text": [
            "Epoch 9, Loss: 0.20687187260906917\n"
          ]
        },
        {
          "output_type": "stream",
          "name": "stderr",
          "text": [
            "100%|██████████| 469/469 [00:03<00:00, 122.85it/s]\n"
          ]
        },
        {
          "output_type": "stream",
          "name": "stdout",
          "text": [
            "Epoch 10, Loss: 0.17696202078797935\n"
          ]
        },
        {
          "output_type": "stream",
          "name": "stderr",
          "text": [
            "100%|██████████| 469/469 [00:04<00:00, 106.06it/s]\n"
          ]
        },
        {
          "output_type": "stream",
          "name": "stdout",
          "text": [
            "Epoch 1, Loss: 0.2441330054531128\n"
          ]
        },
        {
          "output_type": "stream",
          "name": "stderr",
          "text": [
            "100%|██████████| 469/469 [00:03<00:00, 122.90it/s]\n"
          ]
        },
        {
          "output_type": "stream",
          "name": "stdout",
          "text": [
            "Epoch 2, Loss: 0.2171336217293901\n"
          ]
        },
        {
          "output_type": "stream",
          "name": "stderr",
          "text": [
            "100%|██████████| 469/469 [00:03<00:00, 122.81it/s]\n"
          ]
        },
        {
          "output_type": "stream",
          "name": "stdout",
          "text": [
            "Epoch 3, Loss: 0.24302661251341268\n"
          ]
        },
        {
          "output_type": "stream",
          "name": "stderr",
          "text": [
            "100%|██████████| 469/469 [00:04<00:00, 104.84it/s]\n"
          ]
        },
        {
          "output_type": "stream",
          "name": "stdout",
          "text": [
            "Epoch 4, Loss: 0.18675604464559714\n"
          ]
        },
        {
          "output_type": "stream",
          "name": "stderr",
          "text": [
            "100%|██████████| 469/469 [00:03<00:00, 119.36it/s]\n"
          ]
        },
        {
          "output_type": "stream",
          "name": "stdout",
          "text": [
            "Epoch 5, Loss: 0.18845306584181618\n"
          ]
        },
        {
          "output_type": "stream",
          "name": "stderr",
          "text": [
            "100%|██████████| 469/469 [00:03<00:00, 123.37it/s]\n"
          ]
        },
        {
          "output_type": "stream",
          "name": "stdout",
          "text": [
            "Epoch 6, Loss: 0.20445305293296595\n"
          ]
        },
        {
          "output_type": "stream",
          "name": "stderr",
          "text": [
            "100%|██████████| 469/469 [00:04<00:00, 110.12it/s]\n"
          ]
        },
        {
          "output_type": "stream",
          "name": "stdout",
          "text": [
            "Epoch 7, Loss: 0.183577976923355\n"
          ]
        },
        {
          "output_type": "stream",
          "name": "stderr",
          "text": [
            "100%|██████████| 469/469 [00:03<00:00, 117.79it/s]\n"
          ]
        },
        {
          "output_type": "stream",
          "name": "stdout",
          "text": [
            "Epoch 8, Loss: 0.1693940535695332\n"
          ]
        },
        {
          "output_type": "stream",
          "name": "stderr",
          "text": [
            "100%|██████████| 469/469 [00:03<00:00, 123.29it/s]\n"
          ]
        },
        {
          "output_type": "stream",
          "name": "stdout",
          "text": [
            "Epoch 9, Loss: 0.16840424852359837\n"
          ]
        },
        {
          "output_type": "stream",
          "name": "stderr",
          "text": [
            "100%|██████████| 469/469 [00:04<00:00, 112.72it/s]\n"
          ]
        },
        {
          "output_type": "stream",
          "name": "stdout",
          "text": [
            "Epoch 10, Loss: 0.15773149248432747\n",
            "Best Hyperparameters: {'embedding_dim': 128, 'hidden_dim': 128, 'lr': 0.2, 'num_epochs': 10}\n",
            "Best Accuracy on testa: 0.9518156424581006\n"
          ]
        }
      ],
      "source": [
        "\n",
        "\n",
        "\n",
        "param_grid = {\n",
        "    'embedding_dim': [32, 64, 128],\n",
        "    'hidden_dim': [64, 128, 256],\n",
        "    'lr': [0.01, 0.1, 0.2],\n",
        "    'num_epochs': [10]\n",
        "}\n",
        "\n",
        "\n",
        "all_combinations = list(itertools.product(*param_grid.values()))\n",
        "\n",
        "\n",
        "def train_model(model, train_loader, loss_function, optimizer, num_epochs=10):\n",
        "    model.train()\n",
        "    for epoch in range(num_epochs):\n",
        "        total_loss = 0\n",
        "        for sentences, tags in tqdm(train_loader):\n",
        "            model.zero_grad()\n",
        "            tag_scores = model(sentences[0])\n",
        "            loss = loss_function(tag_scores, tags[0])\n",
        "            loss.backward()\n",
        "            optimizer.step()\n",
        "            total_loss += loss.item()\n",
        "        print(f\"Epoch {epoch + 1}, Loss: {total_loss / len(train_loader)}\")\n",
        "\n",
        "\n",
        "def evaluate_model(model, test_loader):\n",
        "    model.eval()\n",
        "    correct = 0\n",
        "    total = 0\n",
        "    with torch.no_grad():\n",
        "        for sentences, tags in test_loader:\n",
        "            tag_scores = model(sentences[0])\n",
        "            predicted_tags = torch.argmax(tag_scores, dim=1)\n",
        "            correct += (predicted_tags == tags[0]).sum().item()\n",
        "            total += len(tags[0])\n",
        "    accuracy = correct / total\n",
        "    return accuracy\n",
        "\n",
        "best_accuracy = 0\n",
        "best_params = {}\n",
        "\n",
        "for params in all_combinations:\n",
        "    embedding_dim, hidden_dim, lr, num_epochs = params\n",
        "\n",
        "\n",
        "    model = BiLSTMNER(VOCAB_SIZE, TAGSET_SIZE, embedding_dim, hidden_dim)\n",
        "    loss_function = nn.NLLLoss()\n",
        "    optimizer = optim.SGD(model.parameters(), lr=lr)\n",
        "\n",
        "\n",
        "    train_model(model, train_loader, loss_function, optimizer, num_epochs)\n",
        "\n",
        "\n",
        "    accuracy = evaluate_model(model, testa_loader)\n",
        "\n",
        "\n",
        "    if accuracy > best_accuracy:\n",
        "        best_accuracy = accuracy\n",
        "        best_params = {'embedding_dim': embedding_dim, 'hidden_dim': hidden_dim, 'lr': lr, 'num_epochs': num_epochs}\n",
        "\n",
        "print(f\"Best Hyperparameters: {best_params}\")\n",
        "print(f\"Best Accuracy on testa: {best_accuracy}\")\n",
        "\n",
        "\n",
        "\n",
        "\n",
        "best_model = BiLSTMNER(VOCAB_SIZE, TAGSET_SIZE, best_params['embedding_dim'], best_params['hidden_dim'])\n",
        "loss_function = nn.NLLLoss()\n",
        "optimizer = optim.SGD(best_model.parameters(), lr=best_params['lr'])\n"
      ]
    },
    {
      "cell_type": "code",
      "execution_count": null,
      "metadata": {
        "id": "ullugWh9ru05",
        "colab": {
          "base_uri": "https://localhost:8080/"
        },
        "outputId": "fa6155ca-c975-4c8e-ad66-e3bc122400d8"
      },
      "outputs": [
        {
          "output_type": "stream",
          "name": "stdout",
          "text": [
            "0.9426310583580614\n"
          ]
        }
      ],
      "source": [
        "def evaluate_model(model, test_loader):\n",
        "    model.eval()\n",
        "    correct = 0\n",
        "    total = 0\n",
        "    with torch.no_grad():\n",
        "        for sentences, tags in test_loader:\n",
        "            tag_scores = model(sentences[0])\n",
        "            predicted_tags = torch.argmax(tag_scores, dim=1)\n",
        "            correct += (predicted_tags == tags[0]).sum().item()\n",
        "            total += len(tags[0])\n",
        "    accuracy = correct / total\n",
        "    return accuracy\n",
        "print(evaluate_model(model, testb_loader))"
      ]
    },
    {
      "cell_type": "code",
      "source": [
        "import torch\n",
        "from transformers import BertTokenizerFast, BertForTokenClassification, Trainer, TrainingArguments\n",
        "!pip install datasets\n",
        "from datasets import Dataset\n",
        "from sklearn.metrics import accuracy_score\n",
        "\n",
        "\n",
        "tokenizer = BertTokenizerFast.from_pretrained(\"bert-base-cased\")\n",
        "\n",
        "\n",
        "model = BertForTokenClassification.from_pretrained(\"bert-base-cased\", num_labels=9)\n",
        "\n",
        "\n",
        "tag_to_ix = {\n",
        "    'O': 0, 'B-ORG': 1, 'B-MISC': 2, 'B-PER': 3, 'I-PER': 4,\n",
        "    'B-LOC': 5, 'I-ORG': 6, 'I-MISC': 7, 'I-LOC': 8\n",
        "}\n",
        "\n",
        "\n",
        "def tokenize_and_align_labels(data):\n",
        "    tokenized_inputs = tokenizer(\n",
        "        data[\"tokens\"], truncation=True, is_split_into_words=True,\n",
        "        padding='max_length', max_length=128\n",
        "    )\n",
        "\n",
        "    labels = []\n",
        "    word_ids = tokenized_inputs.word_ids()\n",
        "    previous_word_idx = None\n",
        "\n",
        "    for word_idx in word_ids:\n",
        "        if word_idx is None:\n",
        "            labels.append(-100)\n",
        "        elif word_idx != previous_word_idx:\n",
        "            labels.append(tag_to_ix[data[\"ner_tags\"][word_idx]])\n",
        "        else:\n",
        "            labels.append(tag_to_ix[data[\"ner_tags\"][word_idx]])\n",
        "\n",
        "        previous_word_idx = word_idx\n",
        "\n",
        "    tokenized_inputs[\"labels\"] = labels\n",
        "    return tokenized_inputs\n",
        "\n",
        "\n",
        "train_dataset = Dataset.from_list([{'tokens': item[0], 'ner_tags': item[1]} for item in train_data]).map(tokenize_and_align_labels)\n",
        "testa_dataset = Dataset.from_list([{'tokens': item[0], 'ner_tags': item[1]} for item in testa_data]).map(tokenize_and_align_labels)\n",
        "testb_dataset = Dataset.from_list([{'tokens': item[0], 'ner_tags': item[1]} for item in testb_data]).map(tokenize_and_align_labels)\n",
        "\n",
        "\n",
        "training_args = TrainingArguments(\n",
        "    output_dir=\"./bert-ner\",\n",
        "    evaluation_strategy=\"epoch\",\n",
        "    learning_rate=2e-5,\n",
        "    per_device_train_batch_size=8,\n",
        "    per_device_eval_batch_size=8,\n",
        "    num_train_epochs=3,\n",
        "    weight_decay=0.01,\n",
        "    save_strategy=\"epoch\",\n",
        "    logging_dir=\"./logs\",\n",
        "    logging_steps=10,\n",
        "    load_best_model_at_end=True,\n",
        ")\n",
        "\n",
        "\n",
        "def compute_metrics(p):\n",
        "    predictions, labels = p\n",
        "    predictions = predictions.argmax(-1)\n",
        "\n",
        "\n",
        "    true_labels = labels.flatten()\n",
        "    pred_labels = predictions.flatten()\n",
        "\n",
        "\n",
        "    valid_indices = true_labels != -100\n",
        "    filtered_labels = true_labels[valid_indices]\n",
        "    filtered_preds = pred_labels[valid_indices]\n",
        "\n",
        "    accuracy = accuracy_score(filtered_labels, filtered_preds)\n",
        "    return {\"accuracy\": accuracy}\n",
        "\n",
        "\n",
        "trainer = Trainer(\n",
        "    model=model,\n",
        "    args=training_args,\n",
        "    train_dataset=train_dataset,\n",
        "    eval_dataset=testa_dataset,\n",
        "    tokenizer=tokenizer,\n",
        "    compute_metrics=compute_metrics,\n",
        ")\n",
        "\n",
        "\n",
        "trainer.train()\n",
        "\n",
        "\n",
        "test_results_testa = trainer.evaluate(testa_dataset)\n",
        "test_results_testb = trainer.evaluate(testb_dataset)\n",
        "\n",
        "\n",
        "print(f\"Test results on TestA: {test_results_testa}\")\n",
        "print(f\"Accuracy on TestA: {test_results_testa.get('eval_accuracy', 'Not Found')}\")\n",
        "\n",
        "print(f\"Test results on TestB: {test_results_testb}\")\n",
        "print(f\"Accuracy on TestB: {test_results_testb.get('eval_accuracy', 'Not Found')}\")\n"
      ],
      "metadata": {
        "colab": {
          "base_uri": "https://localhost:8080/",
          "height": 1000,
          "referenced_widgets": [
            "cd535edfe1154442bd094b1f0487f804",
            "ea3848531d2945c4bdb66750182a54b6",
            "1067745eea73482bb1ba5f403763cf23",
            "6ca43e9cf9c44be0be3ad0360a7627b0",
            "bb8916bdaa4247c788f4bfd4fcfddfc5",
            "10f4cc8092994d8bbfdbef5ff3e21de7",
            "97a191257a754960998f762d72dce33c",
            "9334eb024b6845cba65ed33f8be3b401",
            "fd3eb453433048449d626fe733d4f2ef",
            "9610c747add44084a551a62f964ef4c4",
            "1975b56ac0f6411fb6e67681f722e080",
            "2d2f990aacda4605853a2113ad335604",
            "ccb1e162d0664204896d0d80ce45a5f2",
            "c7b83284ad0641c0b6bf6f613cf95c7b",
            "446468937236462994656f4e74995541",
            "49a25ebf8cac4d14b8ec64930348d5a9",
            "8601ab53da3b43df9c006a925bfeaef1",
            "d87ea973615a4bd0a013b1b0301c86c0",
            "889b4c0d66d941acad4b600f9e3e2f04",
            "80139c022156496089cae8b7a589b3ca",
            "8f320c63258c42adb5c13410fb4450fa",
            "72aeeb11cbfe4b2c90c35640addf101e",
            "58e27e482f584564b74d3ffced1a2549",
            "3cb72392ec9146138f432cffcea2043d",
            "09be08cb4c15492fa869b26c45f8387d",
            "f96dc1396e22458da75798ee176522f8",
            "716a30ec79fc426da71c7cd5fdeee1d9",
            "6fbe3f68929a4c41885daffc4ce069ba",
            "ad2bc3424e3b4341a6f84dd44070c0e8",
            "b1501499c6304d8981e3f5be4af48af1",
            "e67ecf30a0ae40be8c95c0bbe630195a",
            "2721f440216642a197dbda97736d32ae",
            "575143d3c532478790c348dd6a876f2f",
            "eba2792f011f459a976d613723719df7",
            "f8b3ad971dbe4b52a2f5b2399520ac01",
            "4e346dd6ff8a4fe0ac0f22d2fe355f00",
            "0fec79df7e1e445299d2a10b7add1925",
            "e7b070794f2f427e9ba51f3ef83f15e3",
            "58f1329a12cf482f946bafbb1f2007f0",
            "8ff679364c684c88a1d29bbe4abafd03",
            "f3457e1255234fde9235c8756f52febc",
            "21c267eba98c47f8850ae92c01bda8a5",
            "849fa81194694105a02ae713c3822fb6",
            "af8d1acbc6a94db78d813d89a916407b",
            "a658640841f74591862d976375d9fe74",
            "c2ad490c26a5448b899d48c068bbd751",
            "3c47780b237a4bddafac96f71e822f77",
            "a040952ba4ec428d8fb56af12b619b19",
            "e7c3869158e640998162f812c365483b",
            "cf386539df024bc2ac89012d9c2ba5f0",
            "a6388f6ac00747c9a47901ab6434490e",
            "780fd80119ee496590ac9169d8c50570",
            "c8f23001603849a2ad194dd39b3837de",
            "3592777ec6f54090940731b691c7855f",
            "bb5dea4287b346ffaddc1c2b373344ed",
            "f9b0f4f9af1745a0b845d7775465a90e",
            "aaf3febdf80d42db929730d6dbbac237",
            "a9e64c108fe748c4a625925461c0de04",
            "6f2e787e11a04cb1b8c879441811a588",
            "cf30e701d09943b7ac520f3d79905430",
            "befeb1fd976d4d04aa642200e6f198c9",
            "ff032d3aaacf44dfa5e88053e10da735",
            "dc0e8d255cac4986a2f63431a11b2d89",
            "c7b51620137e40c39749633218606eae",
            "839dacb794b54c92a5d98c89a81451ea",
            "8787edede3bf4240a9e557f4b96fcb0d",
            "e65d81062994456e9b4bb947c18a59c6",
            "b538769361d34912a65908f15fa6dc30",
            "f79b8846f3014873bf889db4799bbc26",
            "0946530d035b4bd6a58691c7711de0e8",
            "0f4d72bff9634fb68797c3efe4e5018b",
            "37616c7fe71a4f2fb83a391932b220fa",
            "cefc992777004e94a4ae16d02458bd5c",
            "e72e5cdced054fa9bc07b4d4dc3aff83",
            "9547945bb035454886b8aed1d2c960eb",
            "fca7c5c020164b1a9cdc86c3b7648a43",
            "abb286d341ef4885b014f8ed9e167bb4",
            "a1c591d9ab5847d9aafb6a141662b8cc",
            "1536ee64f90c4879be6d436c068879ff",
            "b249c3b9bf5948c0a54faf3652e29a78",
            "e77740bde2ee4c3db8ee1495da1c2459",
            "8b4ee09dc6d5485bab83862ee4b1b6a4",
            "18ba9d73d9454d6f98f393725e89481a",
            "864f09026d4f4131ba42847e6fdc8fde",
            "68e191a3260a48479ecaf8e6b9271ae1",
            "2a132c5dc65d4b0f94a6ca2c7334bf87",
            "a72058b2acef456592dad61086aa24c2",
            "0cf4458a415348caa96bfb4c362c641d"
          ]
        },
        "id": "pPVn8o8tKNVw",
        "outputId": "91517f3c-31bb-46d0-ff35-d958bb91010a"
      },
      "execution_count": null,
      "outputs": [
        {
          "output_type": "stream",
          "name": "stdout",
          "text": [
            "Collecting datasets\n",
            "  Downloading datasets-3.2.0-py3-none-any.whl.metadata (20 kB)\n",
            "Requirement already satisfied: filelock in /usr/local/lib/python3.11/dist-packages (from datasets) (3.17.0)\n",
            "Requirement already satisfied: numpy>=1.17 in /usr/local/lib/python3.11/dist-packages (from datasets) (1.26.4)\n",
            "Requirement already satisfied: pyarrow>=15.0.0 in /usr/local/lib/python3.11/dist-packages (from datasets) (17.0.0)\n",
            "Collecting dill<0.3.9,>=0.3.0 (from datasets)\n",
            "  Downloading dill-0.3.8-py3-none-any.whl.metadata (10 kB)\n",
            "Requirement already satisfied: pandas in /usr/local/lib/python3.11/dist-packages (from datasets) (2.2.2)\n",
            "Requirement already satisfied: requests>=2.32.2 in /usr/local/lib/python3.11/dist-packages (from datasets) (2.32.3)\n",
            "Requirement already satisfied: tqdm>=4.66.3 in /usr/local/lib/python3.11/dist-packages (from datasets) (4.67.1)\n",
            "Collecting xxhash (from datasets)\n",
            "  Downloading xxhash-3.5.0-cp311-cp311-manylinux_2_17_x86_64.manylinux2014_x86_64.whl.metadata (12 kB)\n",
            "Collecting multiprocess<0.70.17 (from datasets)\n",
            "  Downloading multiprocess-0.70.16-py311-none-any.whl.metadata (7.2 kB)\n",
            "Collecting fsspec<=2024.9.0,>=2023.1.0 (from fsspec[http]<=2024.9.0,>=2023.1.0->datasets)\n",
            "  Downloading fsspec-2024.9.0-py3-none-any.whl.metadata (11 kB)\n",
            "Requirement already satisfied: aiohttp in /usr/local/lib/python3.11/dist-packages (from datasets) (3.11.12)\n",
            "Requirement already satisfied: huggingface-hub>=0.23.0 in /usr/local/lib/python3.11/dist-packages (from datasets) (0.28.1)\n",
            "Requirement already satisfied: packaging in /usr/local/lib/python3.11/dist-packages (from datasets) (24.2)\n",
            "Requirement already satisfied: pyyaml>=5.1 in /usr/local/lib/python3.11/dist-packages (from datasets) (6.0.2)\n",
            "Requirement already satisfied: aiohappyeyeballs>=2.3.0 in /usr/local/lib/python3.11/dist-packages (from aiohttp->datasets) (2.4.4)\n",
            "Requirement already satisfied: aiosignal>=1.1.2 in /usr/local/lib/python3.11/dist-packages (from aiohttp->datasets) (1.3.2)\n",
            "Requirement already satisfied: attrs>=17.3.0 in /usr/local/lib/python3.11/dist-packages (from aiohttp->datasets) (25.1.0)\n",
            "Requirement already satisfied: frozenlist>=1.1.1 in /usr/local/lib/python3.11/dist-packages (from aiohttp->datasets) (1.5.0)\n",
            "Requirement already satisfied: multidict<7.0,>=4.5 in /usr/local/lib/python3.11/dist-packages (from aiohttp->datasets) (6.1.0)\n",
            "Requirement already satisfied: propcache>=0.2.0 in /usr/local/lib/python3.11/dist-packages (from aiohttp->datasets) (0.2.1)\n",
            "Requirement already satisfied: yarl<2.0,>=1.17.0 in /usr/local/lib/python3.11/dist-packages (from aiohttp->datasets) (1.18.3)\n",
            "Requirement already satisfied: typing-extensions>=3.7.4.3 in /usr/local/lib/python3.11/dist-packages (from huggingface-hub>=0.23.0->datasets) (4.12.2)\n",
            "Requirement already satisfied: charset-normalizer<4,>=2 in /usr/local/lib/python3.11/dist-packages (from requests>=2.32.2->datasets) (3.4.1)\n",
            "Requirement already satisfied: idna<4,>=2.5 in /usr/local/lib/python3.11/dist-packages (from requests>=2.32.2->datasets) (3.10)\n",
            "Requirement already satisfied: urllib3<3,>=1.21.1 in /usr/local/lib/python3.11/dist-packages (from requests>=2.32.2->datasets) (2.3.0)\n",
            "Requirement already satisfied: certifi>=2017.4.17 in /usr/local/lib/python3.11/dist-packages (from requests>=2.32.2->datasets) (2025.1.31)\n",
            "Requirement already satisfied: python-dateutil>=2.8.2 in /usr/local/lib/python3.11/dist-packages (from pandas->datasets) (2.8.2)\n",
            "Requirement already satisfied: pytz>=2020.1 in /usr/local/lib/python3.11/dist-packages (from pandas->datasets) (2025.1)\n",
            "Requirement already satisfied: tzdata>=2022.7 in /usr/local/lib/python3.11/dist-packages (from pandas->datasets) (2025.1)\n",
            "Requirement already satisfied: six>=1.5 in /usr/local/lib/python3.11/dist-packages (from python-dateutil>=2.8.2->pandas->datasets) (1.17.0)\n",
            "Downloading datasets-3.2.0-py3-none-any.whl (480 kB)\n",
            "\u001b[2K   \u001b[90m━━━━━━━━━━━━━━━━━━━━━━━━━━━━━━━━━━━━━━━━\u001b[0m \u001b[32m480.6/480.6 kB\u001b[0m \u001b[31m14.5 MB/s\u001b[0m eta \u001b[36m0:00:00\u001b[0m\n",
            "\u001b[?25hDownloading dill-0.3.8-py3-none-any.whl (116 kB)\n",
            "\u001b[2K   \u001b[90m━━━━━━━━━━━━━━━━━━━━━━━━━━━━━━━━━━━━━━━━\u001b[0m \u001b[32m116.3/116.3 kB\u001b[0m \u001b[31m12.3 MB/s\u001b[0m eta \u001b[36m0:00:00\u001b[0m\n",
            "\u001b[?25hDownloading fsspec-2024.9.0-py3-none-any.whl (179 kB)\n",
            "\u001b[2K   \u001b[90m━━━━━━━━━━━━━━━━━━━━━━━━━━━━━━━━━━━━━━━━\u001b[0m \u001b[32m179.3/179.3 kB\u001b[0m \u001b[31m18.3 MB/s\u001b[0m eta \u001b[36m0:00:00\u001b[0m\n",
            "\u001b[?25hDownloading multiprocess-0.70.16-py311-none-any.whl (143 kB)\n",
            "\u001b[2K   \u001b[90m━━━━━━━━━━━━━━━━━━━━━━━━━━━━━━━━━━━━━━━━\u001b[0m \u001b[32m143.5/143.5 kB\u001b[0m \u001b[31m14.1 MB/s\u001b[0m eta \u001b[36m0:00:00\u001b[0m\n",
            "\u001b[?25hDownloading xxhash-3.5.0-cp311-cp311-manylinux_2_17_x86_64.manylinux2014_x86_64.whl (194 kB)\n",
            "\u001b[2K   \u001b[90m━━━━━━━━━━━━━━━━━━━━━━━━━━━━━━━━━━━━━━━━\u001b[0m \u001b[32m194.8/194.8 kB\u001b[0m \u001b[31m18.4 MB/s\u001b[0m eta \u001b[36m0:00:00\u001b[0m\n",
            "\u001b[?25hInstalling collected packages: xxhash, fsspec, dill, multiprocess, datasets\n",
            "  Attempting uninstall: fsspec\n",
            "    Found existing installation: fsspec 2024.10.0\n",
            "    Uninstalling fsspec-2024.10.0:\n",
            "      Successfully uninstalled fsspec-2024.10.0\n",
            "\u001b[31mERROR: pip's dependency resolver does not currently take into account all the packages that are installed. This behaviour is the source of the following dependency conflicts.\n",
            "torch 2.5.1+cu124 requires nvidia-cublas-cu12==12.4.5.8; platform_system == \"Linux\" and platform_machine == \"x86_64\", but you have nvidia-cublas-cu12 12.5.3.2 which is incompatible.\n",
            "torch 2.5.1+cu124 requires nvidia-cuda-cupti-cu12==12.4.127; platform_system == \"Linux\" and platform_machine == \"x86_64\", but you have nvidia-cuda-cupti-cu12 12.5.82 which is incompatible.\n",
            "torch 2.5.1+cu124 requires nvidia-cuda-nvrtc-cu12==12.4.127; platform_system == \"Linux\" and platform_machine == \"x86_64\", but you have nvidia-cuda-nvrtc-cu12 12.5.82 which is incompatible.\n",
            "torch 2.5.1+cu124 requires nvidia-cuda-runtime-cu12==12.4.127; platform_system == \"Linux\" and platform_machine == \"x86_64\", but you have nvidia-cuda-runtime-cu12 12.5.82 which is incompatible.\n",
            "torch 2.5.1+cu124 requires nvidia-cudnn-cu12==9.1.0.70; platform_system == \"Linux\" and platform_machine == \"x86_64\", but you have nvidia-cudnn-cu12 9.3.0.75 which is incompatible.\n",
            "torch 2.5.1+cu124 requires nvidia-cufft-cu12==11.2.1.3; platform_system == \"Linux\" and platform_machine == \"x86_64\", but you have nvidia-cufft-cu12 11.2.3.61 which is incompatible.\n",
            "torch 2.5.1+cu124 requires nvidia-curand-cu12==10.3.5.147; platform_system == \"Linux\" and platform_machine == \"x86_64\", but you have nvidia-curand-cu12 10.3.6.82 which is incompatible.\n",
            "torch 2.5.1+cu124 requires nvidia-cusolver-cu12==11.6.1.9; platform_system == \"Linux\" and platform_machine == \"x86_64\", but you have nvidia-cusolver-cu12 11.6.3.83 which is incompatible.\n",
            "torch 2.5.1+cu124 requires nvidia-cusparse-cu12==12.3.1.170; platform_system == \"Linux\" and platform_machine == \"x86_64\", but you have nvidia-cusparse-cu12 12.5.1.3 which is incompatible.\n",
            "torch 2.5.1+cu124 requires nvidia-nvjitlink-cu12==12.4.127; platform_system == \"Linux\" and platform_machine == \"x86_64\", but you have nvidia-nvjitlink-cu12 12.5.82 which is incompatible.\n",
            "gcsfs 2024.10.0 requires fsspec==2024.10.0, but you have fsspec 2024.9.0 which is incompatible.\u001b[0m\u001b[31m\n",
            "\u001b[0mSuccessfully installed datasets-3.2.0 dill-0.3.8 fsspec-2024.9.0 multiprocess-0.70.16 xxhash-3.5.0\n"
          ]
        },
        {
          "output_type": "stream",
          "name": "stderr",
          "text": [
            "/usr/local/lib/python3.11/dist-packages/huggingface_hub/utils/_auth.py:94: UserWarning: \n",
            "The secret `HF_TOKEN` does not exist in your Colab secrets.\n",
            "To authenticate with the Hugging Face Hub, create a token in your settings tab (https://huggingface.co/settings/tokens), set it as secret in your Google Colab and restart your session.\n",
            "You will be able to reuse this secret in all of your notebooks.\n",
            "Please note that authentication is recommended but still optional to access public models or datasets.\n",
            "  warnings.warn(\n"
          ]
        },
        {
          "output_type": "display_data",
          "data": {
            "text/plain": [
              "tokenizer_config.json:   0%|          | 0.00/49.0 [00:00<?, ?B/s]"
            ],
            "application/vnd.jupyter.widget-view+json": {
              "version_major": 2,
              "version_minor": 0,
              "model_id": "cd535edfe1154442bd094b1f0487f804"
            }
          },
          "metadata": {}
        },
        {
          "output_type": "display_data",
          "data": {
            "text/plain": [
              "vocab.txt:   0%|          | 0.00/213k [00:00<?, ?B/s]"
            ],
            "application/vnd.jupyter.widget-view+json": {
              "version_major": 2,
              "version_minor": 0,
              "model_id": "2d2f990aacda4605853a2113ad335604"
            }
          },
          "metadata": {}
        },
        {
          "output_type": "display_data",
          "data": {
            "text/plain": [
              "tokenizer.json:   0%|          | 0.00/436k [00:00<?, ?B/s]"
            ],
            "application/vnd.jupyter.widget-view+json": {
              "version_major": 2,
              "version_minor": 0,
              "model_id": "58e27e482f584564b74d3ffced1a2549"
            }
          },
          "metadata": {}
        },
        {
          "output_type": "display_data",
          "data": {
            "text/plain": [
              "config.json:   0%|          | 0.00/570 [00:00<?, ?B/s]"
            ],
            "application/vnd.jupyter.widget-view+json": {
              "version_major": 2,
              "version_minor": 0,
              "model_id": "eba2792f011f459a976d613723719df7"
            }
          },
          "metadata": {}
        },
        {
          "output_type": "display_data",
          "data": {
            "text/plain": [
              "model.safetensors:   0%|          | 0.00/436M [00:00<?, ?B/s]"
            ],
            "application/vnd.jupyter.widget-view+json": {
              "version_major": 2,
              "version_minor": 0,
              "model_id": "a658640841f74591862d976375d9fe74"
            }
          },
          "metadata": {}
        },
        {
          "output_type": "stream",
          "name": "stderr",
          "text": [
            "Some weights of BertForTokenClassification were not initialized from the model checkpoint at bert-base-cased and are newly initialized: ['classifier.bias', 'classifier.weight']\n",
            "You should probably TRAIN this model on a down-stream task to be able to use it for predictions and inference.\n"
          ]
        },
        {
          "output_type": "display_data",
          "data": {
            "text/plain": [
              "Map:   0%|          | 0/14987 [00:00<?, ? examples/s]"
            ],
            "application/vnd.jupyter.widget-view+json": {
              "version_major": 2,
              "version_minor": 0,
              "model_id": "f9b0f4f9af1745a0b845d7775465a90e"
            }
          },
          "metadata": {}
        },
        {
          "output_type": "display_data",
          "data": {
            "text/plain": [
              "Map:   0%|          | 0/3466 [00:00<?, ? examples/s]"
            ],
            "application/vnd.jupyter.widget-view+json": {
              "version_major": 2,
              "version_minor": 0,
              "model_id": "e65d81062994456e9b4bb947c18a59c6"
            }
          },
          "metadata": {}
        },
        {
          "output_type": "display_data",
          "data": {
            "text/plain": [
              "Map:   0%|          | 0/3684 [00:00<?, ? examples/s]"
            ],
            "application/vnd.jupyter.widget-view+json": {
              "version_major": 2,
              "version_minor": 0,
              "model_id": "a1c591d9ab5847d9aafb6a141662b8cc"
            }
          },
          "metadata": {}
        },
        {
          "output_type": "stream",
          "name": "stderr",
          "text": [
            "/usr/local/lib/python3.11/dist-packages/transformers/training_args.py:1575: FutureWarning: `evaluation_strategy` is deprecated and will be removed in version 4.46 of 🤗 Transformers. Use `eval_strategy` instead\n",
            "  warnings.warn(\n",
            "<ipython-input-9-e3218c12adb0>:81: FutureWarning: `tokenizer` is deprecated and will be removed in version 5.0.0 for `Trainer.__init__`. Use `processing_class` instead.\n",
            "  trainer = Trainer(\n",
            "\u001b[34m\u001b[1mwandb\u001b[0m: \u001b[33mWARNING\u001b[0m The `run_name` is currently set to the same value as `TrainingArguments.output_dir`. If this was not intended, please specify a different run name by setting the `TrainingArguments.run_name` parameter.\n"
          ]
        },
        {
          "output_type": "display_data",
          "data": {
            "text/plain": [
              "<IPython.core.display.Javascript object>"
            ],
            "application/javascript": [
              "\n",
              "        window._wandbApiKey = new Promise((resolve, reject) => {\n",
              "            function loadScript(url) {\n",
              "            return new Promise(function(resolve, reject) {\n",
              "                let newScript = document.createElement(\"script\");\n",
              "                newScript.onerror = reject;\n",
              "                newScript.onload = resolve;\n",
              "                document.body.appendChild(newScript);\n",
              "                newScript.src = url;\n",
              "            });\n",
              "            }\n",
              "            loadScript(\"https://cdn.jsdelivr.net/npm/postmate/build/postmate.min.js\").then(() => {\n",
              "            const iframe = document.createElement('iframe')\n",
              "            iframe.style.cssText = \"width:0;height:0;border:none\"\n",
              "            document.body.appendChild(iframe)\n",
              "            const handshake = new Postmate({\n",
              "                container: iframe,\n",
              "                url: 'https://wandb.ai/authorize'\n",
              "            });\n",
              "            const timeout = setTimeout(() => reject(\"Couldn't auto authenticate\"), 5000)\n",
              "            handshake.then(function(child) {\n",
              "                child.on('authorize', data => {\n",
              "                    clearTimeout(timeout)\n",
              "                    resolve(data)\n",
              "                });\n",
              "            });\n",
              "            })\n",
              "        });\n",
              "    "
            ]
          },
          "metadata": {}
        },
        {
          "output_type": "stream",
          "name": "stderr",
          "text": [
            "\u001b[34m\u001b[1mwandb\u001b[0m: Logging into wandb.ai. (Learn how to deploy a W&B server locally: https://wandb.me/wandb-server)\n",
            "\u001b[34m\u001b[1mwandb\u001b[0m: You can find your API key in your browser here: https://wandb.ai/authorize\n",
            "wandb: Paste an API key from your profile and hit enter:"
          ]
        },
        {
          "name": "stdout",
          "output_type": "stream",
          "text": [
            " ··········\n"
          ]
        },
        {
          "output_type": "stream",
          "name": "stderr",
          "text": [
            "\u001b[34m\u001b[1mwandb\u001b[0m: \u001b[33mWARNING\u001b[0m If you're specifying your api key in code, ensure this code is not shared publicly.\n",
            "\u001b[34m\u001b[1mwandb\u001b[0m: \u001b[33mWARNING\u001b[0m Consider setting the WANDB_API_KEY environment variable, or running `wandb login` from the command line.\n",
            "\u001b[34m\u001b[1mwandb\u001b[0m: Appending key for api.wandb.ai to your netrc file: /root/.netrc\n",
            "\u001b[34m\u001b[1mwandb\u001b[0m: Currently logged in as: \u001b[33msurampradeepkumar77\u001b[0m (\u001b[33msurampradeepkumar77-sri-indu-college-of-engineering-tech\u001b[0m) to \u001b[32mhttps://api.wandb.ai\u001b[0m. Use \u001b[1m`wandb login --relogin`\u001b[0m to force relogin\n",
            "\u001b[34m\u001b[1mwandb\u001b[0m: Using wandb-core as the SDK backend.  Please refer to https://wandb.me/wandb-core for more information.\n"
          ]
        },
        {
          "output_type": "display_data",
          "data": {
            "text/plain": [
              "<IPython.core.display.HTML object>"
            ],
            "text/html": [
              "Tracking run with wandb version 0.19.6"
            ]
          },
          "metadata": {}
        },
        {
          "output_type": "display_data",
          "data": {
            "text/plain": [
              "<IPython.core.display.HTML object>"
            ],
            "text/html": [
              "Run data is saved locally in <code>/content/wandb/run-20250212_100716-oxyfxc6g</code>"
            ]
          },
          "metadata": {}
        },
        {
          "output_type": "display_data",
          "data": {
            "text/plain": [
              "<IPython.core.display.HTML object>"
            ],
            "text/html": [
              "Syncing run <strong><a href='https://wandb.ai/surampradeepkumar77-sri-indu-college-of-engineering-tech/huggingface/runs/oxyfxc6g' target=\"_blank\">./bert-ner</a></strong> to <a href='https://wandb.ai/surampradeepkumar77-sri-indu-college-of-engineering-tech/huggingface' target=\"_blank\">Weights & Biases</a> (<a href='https://wandb.me/developer-guide' target=\"_blank\">docs</a>)<br>"
            ]
          },
          "metadata": {}
        },
        {
          "output_type": "display_data",
          "data": {
            "text/plain": [
              "<IPython.core.display.HTML object>"
            ],
            "text/html": [
              " View project at <a href='https://wandb.ai/surampradeepkumar77-sri-indu-college-of-engineering-tech/huggingface' target=\"_blank\">https://wandb.ai/surampradeepkumar77-sri-indu-college-of-engineering-tech/huggingface</a>"
            ]
          },
          "metadata": {}
        },
        {
          "output_type": "display_data",
          "data": {
            "text/plain": [
              "<IPython.core.display.HTML object>"
            ],
            "text/html": [
              " View run at <a href='https://wandb.ai/surampradeepkumar77-sri-indu-college-of-engineering-tech/huggingface/runs/oxyfxc6g' target=\"_blank\">https://wandb.ai/surampradeepkumar77-sri-indu-college-of-engineering-tech/huggingface/runs/oxyfxc6g</a>"
            ]
          },
          "metadata": {}
        },
        {
          "output_type": "display_data",
          "data": {
            "text/plain": [
              "<IPython.core.display.HTML object>"
            ],
            "text/html": [
              "\n",
              "    <div>\n",
              "      \n",
              "      <progress value='5622' max='5622' style='width:300px; height:20px; vertical-align: middle;'></progress>\n",
              "      [5622/5622 20:54, Epoch 3/3]\n",
              "    </div>\n",
              "    <table border=\"1\" class=\"dataframe\">\n",
              "  <thead>\n",
              " <tr style=\"text-align: left;\">\n",
              "      <th>Epoch</th>\n",
              "      <th>Training Loss</th>\n",
              "      <th>Validation Loss</th>\n",
              "      <th>Accuracy</th>\n",
              "    </tr>\n",
              "  </thead>\n",
              "  <tbody>\n",
              "    <tr>\n",
              "      <td>1</td>\n",
              "      <td>0.085100</td>\n",
              "      <td>0.064869</td>\n",
              "      <td>0.983373</td>\n",
              "    </tr>\n",
              "    <tr>\n",
              "      <td>2</td>\n",
              "      <td>0.032200</td>\n",
              "      <td>0.061961</td>\n",
              "      <td>0.985231</td>\n",
              "    </tr>\n",
              "    <tr>\n",
              "      <td>3</td>\n",
              "      <td>0.010000</td>\n",
              "      <td>0.065950</td>\n",
              "      <td>0.985793</td>\n",
              "    </tr>\n",
              "  </tbody>\n",
              "</table><p>"
            ]
          },
          "metadata": {}
        },
        {
          "output_type": "display_data",
          "data": {
            "text/plain": [
              "<IPython.core.display.HTML object>"
            ],
            "text/html": [
              "\n",
              "    <div>\n",
              "      \n",
              "      <progress value='895' max='434' style='width:300px; height:20px; vertical-align: middle;'></progress>\n",
              "      [434/434 00:53]\n",
              "    </div>\n",
              "    "
            ]
          },
          "metadata": {}
        },
        {
          "output_type": "stream",
          "name": "stdout",
          "text": [
            "Test results on TestA: {'eval_loss': 0.06196138262748718, 'eval_accuracy': 0.9852313987666417, 'eval_runtime': 25.8994, 'eval_samples_per_second': 133.825, 'eval_steps_per_second': 16.757, 'epoch': 3.0}\n",
            "Accuracy on TestA: 0.9852313987666417\n",
            "Test results on TestB: {'eval_loss': 0.16922901570796967, 'eval_accuracy': 0.9713934363231113, 'eval_runtime': 27.6324, 'eval_samples_per_second': 133.322, 'eval_steps_per_second': 16.683, 'epoch': 3.0}\n",
            "Accuracy on TestB: 0.9713934363231113\n"
          ]
        }
      ]
    },
    {
      "cell_type": "code",
      "source": [
        "from transformers import BertTokenizerFast, BertForTokenClassification\n",
        "import torch\n",
        "\n",
        "model.save_pretrained(\"bert_ner_model\")\n",
        "tokenizer.save_pretrained(\"bert_ner_model\")\n",
        "\n",
        "\n",
        "\n",
        "model.eval()\n"
      ],
      "metadata": {
        "colab": {
          "base_uri": "https://localhost:8080/"
        },
        "id": "q8vD7FcSKhmD",
        "outputId": "13762cac-cfaf-4c58-c178-08e46f5d3a7e"
      },
      "execution_count": null,
      "outputs": [
        {
          "output_type": "execute_result",
          "data": {
            "text/plain": [
              "BertForTokenClassification(\n",
              "  (bert): BertModel(\n",
              "    (embeddings): BertEmbeddings(\n",
              "      (word_embeddings): Embedding(28996, 768, padding_idx=0)\n",
              "      (position_embeddings): Embedding(512, 768)\n",
              "      (token_type_embeddings): Embedding(2, 768)\n",
              "      (LayerNorm): LayerNorm((768,), eps=1e-12, elementwise_affine=True)\n",
              "      (dropout): Dropout(p=0.1, inplace=False)\n",
              "    )\n",
              "    (encoder): BertEncoder(\n",
              "      (layer): ModuleList(\n",
              "        (0-11): 12 x BertLayer(\n",
              "          (attention): BertAttention(\n",
              "            (self): BertSdpaSelfAttention(\n",
              "              (query): Linear(in_features=768, out_features=768, bias=True)\n",
              "              (key): Linear(in_features=768, out_features=768, bias=True)\n",
              "              (value): Linear(in_features=768, out_features=768, bias=True)\n",
              "              (dropout): Dropout(p=0.1, inplace=False)\n",
              "            )\n",
              "            (output): BertSelfOutput(\n",
              "              (dense): Linear(in_features=768, out_features=768, bias=True)\n",
              "              (LayerNorm): LayerNorm((768,), eps=1e-12, elementwise_affine=True)\n",
              "              (dropout): Dropout(p=0.1, inplace=False)\n",
              "            )\n",
              "          )\n",
              "          (intermediate): BertIntermediate(\n",
              "            (dense): Linear(in_features=768, out_features=3072, bias=True)\n",
              "            (intermediate_act_fn): GELUActivation()\n",
              "          )\n",
              "          (output): BertOutput(\n",
              "            (dense): Linear(in_features=3072, out_features=768, bias=True)\n",
              "            (LayerNorm): LayerNorm((768,), eps=1e-12, elementwise_affine=True)\n",
              "            (dropout): Dropout(p=0.1, inplace=False)\n",
              "          )\n",
              "        )\n",
              "      )\n",
              "    )\n",
              "  )\n",
              "  (dropout): Dropout(p=0.1, inplace=False)\n",
              "  (classifier): Linear(in_features=768, out_features=9, bias=True)\n",
              ")"
            ]
          },
          "metadata": {},
          "execution_count": 10
        }
      ]
    },
    {
      "cell_type": "code",
      "source": [
        "import torch\n",
        "from transformers import BertTokenizerFast, BertForTokenClassification\n",
        "\n",
        "\n",
        "device = torch.device(\"cuda\" if torch.cuda.is_available() else \"cpu\")\n",
        "\n",
        "\n",
        "model = BertForTokenClassification.from_pretrained(\"bert_ner_model\")\n",
        "tokenizer = BertTokenizerFast.from_pretrained(\"bert_ner_model\")\n",
        "\n",
        "\n",
        "model.to(device)\n",
        "\n",
        "\n",
        "def predict_ner(sentence):\n",
        "\n",
        "    tokens = tokenizer(sentence, return_tensors=\"pt\", is_split_into_words=True, truncation=True)\n",
        "\n",
        "\n",
        "    tokens = {key: value.to(device) for key, value in tokens.items()}\n",
        "\n",
        "\n",
        "    with torch.no_grad():\n",
        "        outputs = model(**tokens)\n",
        "\n",
        "    predictions = torch.argmax(outputs.logits, dim=-1).squeeze().tolist()\n",
        "\n",
        "\n",
        "    tokenized_words = tokenizer.convert_ids_to_tokens(tokens[\"input_ids\"].squeeze().tolist())\n",
        "\n",
        "\n",
        "    ix_to_tag = {v: k for k, v in tag_to_ix.items()}\n",
        "\n",
        "\n",
        "    print(\"\\nNER Predictions:\")\n",
        "    for token, pred in zip(tokenized_words, predictions):\n",
        "        if token not in [\"[CLS]\", \"[SEP]\", \"[PAD]\"]:\n",
        "            print(f\"{token} → {ix_to_tag[pred]}\")\n",
        "\n",
        "\n",
        "sentence = [\"John\", \"lives\", \"in\", \"New\", \"York\", \"City\", \"and\", \"works\", \"at\", \"Google\"]\n",
        "predict_ner(sentence)\n"
      ],
      "metadata": {
        "colab": {
          "base_uri": "https://localhost:8080/"
        },
        "id": "Rw1Ua740UqT9",
        "outputId": "3916f317-db7f-4cf5-f7a8-b47758674c5d"
      },
      "execution_count": null,
      "outputs": [
        {
          "output_type": "stream",
          "name": "stdout",
          "text": [
            "\n",
            "NER Predictions:\n",
            "John → B-PER\n",
            "lives → O\n",
            "in → O\n",
            "New → B-LOC\n",
            "York → I-LOC\n",
            "City → I-LOC\n",
            "and → O\n",
            "works → O\n",
            "at → O\n",
            "Google → B-ORG\n"
          ]
        }
      ]
    },
    {
      "cell_type": "code",
      "source": [
        "import torch\n",
        "\n",
        "# Save the best BiLSTM model\n",
        "torch.save(best_model.state_dict(), \"bilstm_ner_model.pth\")\n",
        "\n",
        "# Load the model\n",
        "loaded_model = BiLSTMNER(VOCAB_SIZE, TAGSET_SIZE, best_params['embedding_dim'], best_params['hidden_dim'])\n",
        "loaded_model.load_state_dict(torch.load(\"bilstm_ner_model.pth\"))\n",
        "loaded_model.eval()\n"
      ],
      "metadata": {
        "colab": {
          "base_uri": "https://localhost:8080/"
        },
        "id": "9y-7OeJ4b41e",
        "outputId": "e1eb38bf-41ee-400c-ce1a-152493fd1960"
      },
      "execution_count": null,
      "outputs": [
        {
          "output_type": "stream",
          "name": "stderr",
          "text": [
            "<ipython-input-12-6f289e6eed00>:8: FutureWarning: You are using `torch.load` with `weights_only=False` (the current default value), which uses the default pickle module implicitly. It is possible to construct malicious pickle data which will execute arbitrary code during unpickling (See https://github.com/pytorch/pytorch/blob/main/SECURITY.md#untrusted-models for more details). In a future release, the default value for `weights_only` will be flipped to `True`. This limits the functions that could be executed during unpickling. Arbitrary objects will no longer be allowed to be loaded via this mode unless they are explicitly allowlisted by the user via `torch.serialization.add_safe_globals`. We recommend you start setting `weights_only=True` for any use case where you don't have full control of the loaded file. Please open an issue on GitHub for any issues related to this experimental feature.\n",
            "  loaded_model.load_state_dict(torch.load(\"bilstm_ner_model.pth\"))\n"
          ]
        },
        {
          "output_type": "execute_result",
          "data": {
            "text/plain": [
              "BiLSTMNER(\n",
              "  (embedding): Embedding(23625, 128)\n",
              "  (lstm): LSTM(128, 64, bidirectional=True)\n",
              "  (hidden2tag): Linear(in_features=128, out_features=9, bias=True)\n",
              ")"
            ]
          },
          "metadata": {},
          "execution_count": 12
        }
      ]
    },
    {
      "cell_type": "code",
      "source": [
        "import torch\n",
        "\n",
        "# Define the model architecture\n",
        "class BiLSTMNER(nn.Module):\n",
        "    def __init__(self, vocab_size, tagset_size, embedding_dim, hidden_dim):\n",
        "        super(BiLSTMNER, self).__init__()\n",
        "        self.embedding = nn.Embedding(vocab_size, embedding_dim)\n",
        "        self.lstm = nn.LSTM(embedding_dim, hidden_dim // 2, num_layers=1, bidirectional=True)\n",
        "        self.hidden2tag = nn.Linear(hidden_dim, tagset_size)\n",
        "\n",
        "    def forward(self, sentence):\n",
        "        embeds = self.embedding(sentence)\n",
        "        lstm_out, _ = self.lstm(embeds.view(len(sentence), 1, -1))\n",
        "        tag_space = self.hidden2tag(lstm_out.view(len(sentence), -1))\n",
        "        tag_scores = torch.log_softmax(tag_space, dim=1)\n",
        "        return tag_scores\n",
        "\n",
        "# Load the saved model\n",
        "loaded_model = BiLSTMNER(VOCAB_SIZE, TAGSET_SIZE, best_params['embedding_dim'], best_params['hidden_dim'])\n",
        "loaded_model.load_state_dict(torch.load(\"bilstm_ner_model.pth\"))\n",
        "loaded_model.eval()  # Set to evaluation mode\n"
      ],
      "metadata": {
        "colab": {
          "base_uri": "https://localhost:8080/"
        },
        "id": "UzRlWqRWcGDB",
        "outputId": "9604dc56-a3c3-4140-8a93-8ed7f18d8657"
      },
      "execution_count": null,
      "outputs": [
        {
          "output_type": "stream",
          "name": "stderr",
          "text": [
            "<ipython-input-13-e95205285989>:20: FutureWarning: You are using `torch.load` with `weights_only=False` (the current default value), which uses the default pickle module implicitly. It is possible to construct malicious pickle data which will execute arbitrary code during unpickling (See https://github.com/pytorch/pytorch/blob/main/SECURITY.md#untrusted-models for more details). In a future release, the default value for `weights_only` will be flipped to `True`. This limits the functions that could be executed during unpickling. Arbitrary objects will no longer be allowed to be loaded via this mode unless they are explicitly allowlisted by the user via `torch.serialization.add_safe_globals`. We recommend you start setting `weights_only=True` for any use case where you don't have full control of the loaded file. Please open an issue on GitHub for any issues related to this experimental feature.\n",
            "  loaded_model.load_state_dict(torch.load(\"bilstm_ner_model.pth\"))\n"
          ]
        },
        {
          "output_type": "execute_result",
          "data": {
            "text/plain": [
              "BiLSTMNER(\n",
              "  (embedding): Embedding(23625, 128)\n",
              "  (lstm): LSTM(128, 64, bidirectional=True)\n",
              "  (hidden2tag): Linear(in_features=128, out_features=9, bias=True)\n",
              ")"
            ]
          },
          "metadata": {},
          "execution_count": 13
        }
      ]
    },
    {
      "cell_type": "code",
      "source": [
        "\n"
      ],
      "metadata": {
        "colab": {
          "base_uri": "https://localhost:8080/"
        },
        "id": "7Q-zwr3BcK0M",
        "outputId": "a9190f0e-faf0-4fc6-d27a-97c17c678ac3"
      },
      "execution_count": null,
      "outputs": [
        {
          "output_type": "stream",
          "name": "stdout",
          "text": [
            "[('John', 'O'), ('lives', 'O'), ('in', 'B-ORG'), ('New', 'O'), ('York', 'B-ORG'), ('City', 'B-ORG')]\n"
          ]
        }
      ]
    },
    {
      "cell_type": "code",
      "source": [
        "from transformers import BertTokenizerFast, BertForTokenClassification\n",
        "import torch\n",
        "\n",
        "# Load the saved BERT model and tokenizer\n",
        "device = torch.device(\"cuda\" if torch.cuda.is_available() else \"cpu\")\n",
        "bert_model = BertForTokenClassification.from_pretrained(\"bert_ner_model\").to(device)\n",
        "bert_tokenizer = BertTokenizerFast.from_pretrained(\"bert_ner_model\")\n",
        "bert_model.eval()\n"
      ],
      "metadata": {
        "colab": {
          "base_uri": "https://localhost:8080/"
        },
        "id": "s0ZizdZUcN_C",
        "outputId": "5a0724e6-ce37-4e6d-fdff-4900c061ce1f"
      },
      "execution_count": null,
      "outputs": [
        {
          "output_type": "execute_result",
          "data": {
            "text/plain": [
              "BertForTokenClassification(\n",
              "  (bert): BertModel(\n",
              "    (embeddings): BertEmbeddings(\n",
              "      (word_embeddings): Embedding(28996, 768, padding_idx=0)\n",
              "      (position_embeddings): Embedding(512, 768)\n",
              "      (token_type_embeddings): Embedding(2, 768)\n",
              "      (LayerNorm): LayerNorm((768,), eps=1e-12, elementwise_affine=True)\n",
              "      (dropout): Dropout(p=0.1, inplace=False)\n",
              "    )\n",
              "    (encoder): BertEncoder(\n",
              "      (layer): ModuleList(\n",
              "        (0-11): 12 x BertLayer(\n",
              "          (attention): BertAttention(\n",
              "            (self): BertSdpaSelfAttention(\n",
              "              (query): Linear(in_features=768, out_features=768, bias=True)\n",
              "              (key): Linear(in_features=768, out_features=768, bias=True)\n",
              "              (value): Linear(in_features=768, out_features=768, bias=True)\n",
              "              (dropout): Dropout(p=0.1, inplace=False)\n",
              "            )\n",
              "            (output): BertSelfOutput(\n",
              "              (dense): Linear(in_features=768, out_features=768, bias=True)\n",
              "              (LayerNorm): LayerNorm((768,), eps=1e-12, elementwise_affine=True)\n",
              "              (dropout): Dropout(p=0.1, inplace=False)\n",
              "            )\n",
              "          )\n",
              "          (intermediate): BertIntermediate(\n",
              "            (dense): Linear(in_features=768, out_features=3072, bias=True)\n",
              "            (intermediate_act_fn): GELUActivation()\n",
              "          )\n",
              "          (output): BertOutput(\n",
              "            (dense): Linear(in_features=3072, out_features=768, bias=True)\n",
              "            (LayerNorm): LayerNorm((768,), eps=1e-12, elementwise_affine=True)\n",
              "            (dropout): Dropout(p=0.1, inplace=False)\n",
              "          )\n",
              "        )\n",
              "      )\n",
              "    )\n",
              "  )\n",
              "  (dropout): Dropout(p=0.1, inplace=False)\n",
              "  (classifier): Linear(in_features=768, out_features=9, bias=True)\n",
              ")"
            ]
          },
          "metadata": {},
          "execution_count": 15
        }
      ]
    },
    {
      "cell_type": "code",
      "source": [
        "def predict_bert(sentence, model, tokenizer, tag_to_ix):\n",
        "    model.eval()\n",
        "    tokens = tokenizer(sentence, return_tensors=\"pt\", is_split_into_words=True, truncation=True)\n",
        "    tokens = {key: value.to(device) for key, value in tokens.items()}\n",
        "\n",
        "    with torch.no_grad():\n",
        "        outputs = model(**tokens)\n",
        "\n",
        "    predictions = torch.argmax(outputs.logits, dim=-1).squeeze().tolist()\n",
        "    tokenized_words = tokenizer.convert_ids_to_tokens(tokens[\"input_ids\"].squeeze().tolist())\n",
        "\n",
        "    ix_to_tag = {v: k for k, v in tag_to_ix.items()}\n",
        "\n",
        "    results = []\n",
        "    for token, pred in zip(tokenized_words, predictions):\n",
        "        if token not in [\"[CLS]\", \"[SEP]\", \"[PAD]\"]:\n",
        "            results.append((token, ix_to_tag.get(pred, \"O\")))\n",
        "\n",
        "    return results\n",
        "\n",
        "sentence = [\"John\", \"lives\", \"in\", \"New\", \"York\", \"City\", \"and\", \"works\", \"at\", \"Google\"]\n",
        "print(predict_bert(sentence, bert_model, bert_tokenizer, tag_to_ix))\n"
      ],
      "metadata": {
        "colab": {
          "base_uri": "https://localhost:8080/"
        },
        "id": "5kGNMtDrcQ3t",
        "outputId": "5bfa3bcc-60d8-4374-ec91-0d429e6c38d9"
      },
      "execution_count": null,
      "outputs": [
        {
          "output_type": "stream",
          "name": "stdout",
          "text": [
            "[('John', 'B-PER'), ('lives', 'O'), ('in', 'O'), ('New', 'B-LOC'), ('York', 'I-LOC'), ('City', 'I-LOC'), ('and', 'O'), ('works', 'O'), ('at', 'O'), ('Google', 'B-ORG')]\n"
          ]
        }
      ]
    }
  ],
  "metadata": {
    "colab": {
      "provenance": [],
      "gpuType": "T4"
    },
    "kernelspec": {
      "display_name": "Python 3",
      "name": "python3"
    },
    "language_info": {
      "name": "python"
    },
    "widgets": {
      "application/vnd.jupyter.widget-state+json": {
        "cd535edfe1154442bd094b1f0487f804": {
          "model_module": "@jupyter-widgets/controls",
          "model_name": "HBoxModel",
          "model_module_version": "1.5.0",
          "state": {
            "_dom_classes": [],
            "_model_module": "@jupyter-widgets/controls",
            "_model_module_version": "1.5.0",
            "_model_name": "HBoxModel",
            "_view_count": null,
            "_view_module": "@jupyter-widgets/controls",
            "_view_module_version": "1.5.0",
            "_view_name": "HBoxView",
            "box_style": "",
            "children": [
              "IPY_MODEL_ea3848531d2945c4bdb66750182a54b6",
              "IPY_MODEL_1067745eea73482bb1ba5f403763cf23",
              "IPY_MODEL_6ca43e9cf9c44be0be3ad0360a7627b0"
            ],
            "layout": "IPY_MODEL_bb8916bdaa4247c788f4bfd4fcfddfc5"
          }
        },
        "ea3848531d2945c4bdb66750182a54b6": {
          "model_module": "@jupyter-widgets/controls",
          "model_name": "HTMLModel",
          "model_module_version": "1.5.0",
          "state": {
            "_dom_classes": [],
            "_model_module": "@jupyter-widgets/controls",
            "_model_module_version": "1.5.0",
            "_model_name": "HTMLModel",
            "_view_count": null,
            "_view_module": "@jupyter-widgets/controls",
            "_view_module_version": "1.5.0",
            "_view_name": "HTMLView",
            "description": "",
            "description_tooltip": null,
            "layout": "IPY_MODEL_10f4cc8092994d8bbfdbef5ff3e21de7",
            "placeholder": "​",
            "style": "IPY_MODEL_97a191257a754960998f762d72dce33c",
            "value": "tokenizer_config.json: 100%"
          }
        },
        "1067745eea73482bb1ba5f403763cf23": {
          "model_module": "@jupyter-widgets/controls",
          "model_name": "FloatProgressModel",
          "model_module_version": "1.5.0",
          "state": {
            "_dom_classes": [],
            "_model_module": "@jupyter-widgets/controls",
            "_model_module_version": "1.5.0",
            "_model_name": "FloatProgressModel",
            "_view_count": null,
            "_view_module": "@jupyter-widgets/controls",
            "_view_module_version": "1.5.0",
            "_view_name": "ProgressView",
            "bar_style": "success",
            "description": "",
            "description_tooltip": null,
            "layout": "IPY_MODEL_9334eb024b6845cba65ed33f8be3b401",
            "max": 49,
            "min": 0,
            "orientation": "horizontal",
            "style": "IPY_MODEL_fd3eb453433048449d626fe733d4f2ef",
            "value": 49
          }
        },
        "6ca43e9cf9c44be0be3ad0360a7627b0": {
          "model_module": "@jupyter-widgets/controls",
          "model_name": "HTMLModel",
          "model_module_version": "1.5.0",
          "state": {
            "_dom_classes": [],
            "_model_module": "@jupyter-widgets/controls",
            "_model_module_version": "1.5.0",
            "_model_name": "HTMLModel",
            "_view_count": null,
            "_view_module": "@jupyter-widgets/controls",
            "_view_module_version": "1.5.0",
            "_view_name": "HTMLView",
            "description": "",
            "description_tooltip": null,
            "layout": "IPY_MODEL_9610c747add44084a551a62f964ef4c4",
            "placeholder": "​",
            "style": "IPY_MODEL_1975b56ac0f6411fb6e67681f722e080",
            "value": " 49.0/49.0 [00:00&lt;00:00, 2.54kB/s]"
          }
        },
        "bb8916bdaa4247c788f4bfd4fcfddfc5": {
          "model_module": "@jupyter-widgets/base",
          "model_name": "LayoutModel",
          "model_module_version": "1.2.0",
          "state": {
            "_model_module": "@jupyter-widgets/base",
            "_model_module_version": "1.2.0",
            "_model_name": "LayoutModel",
            "_view_count": null,
            "_view_module": "@jupyter-widgets/base",
            "_view_module_version": "1.2.0",
            "_view_name": "LayoutView",
            "align_content": null,
            "align_items": null,
            "align_self": null,
            "border": null,
            "bottom": null,
            "display": null,
            "flex": null,
            "flex_flow": null,
            "grid_area": null,
            "grid_auto_columns": null,
            "grid_auto_flow": null,
            "grid_auto_rows": null,
            "grid_column": null,
            "grid_gap": null,
            "grid_row": null,
            "grid_template_areas": null,
            "grid_template_columns": null,
            "grid_template_rows": null,
            "height": null,
            "justify_content": null,
            "justify_items": null,
            "left": null,
            "margin": null,
            "max_height": null,
            "max_width": null,
            "min_height": null,
            "min_width": null,
            "object_fit": null,
            "object_position": null,
            "order": null,
            "overflow": null,
            "overflow_x": null,
            "overflow_y": null,
            "padding": null,
            "right": null,
            "top": null,
            "visibility": null,
            "width": null
          }
        },
        "10f4cc8092994d8bbfdbef5ff3e21de7": {
          "model_module": "@jupyter-widgets/base",
          "model_name": "LayoutModel",
          "model_module_version": "1.2.0",
          "state": {
            "_model_module": "@jupyter-widgets/base",
            "_model_module_version": "1.2.0",
            "_model_name": "LayoutModel",
            "_view_count": null,
            "_view_module": "@jupyter-widgets/base",
            "_view_module_version": "1.2.0",
            "_view_name": "LayoutView",
            "align_content": null,
            "align_items": null,
            "align_self": null,
            "border": null,
            "bottom": null,
            "display": null,
            "flex": null,
            "flex_flow": null,
            "grid_area": null,
            "grid_auto_columns": null,
            "grid_auto_flow": null,
            "grid_auto_rows": null,
            "grid_column": null,
            "grid_gap": null,
            "grid_row": null,
            "grid_template_areas": null,
            "grid_template_columns": null,
            "grid_template_rows": null,
            "height": null,
            "justify_content": null,
            "justify_items": null,
            "left": null,
            "margin": null,
            "max_height": null,
            "max_width": null,
            "min_height": null,
            "min_width": null,
            "object_fit": null,
            "object_position": null,
            "order": null,
            "overflow": null,
            "overflow_x": null,
            "overflow_y": null,
            "padding": null,
            "right": null,
            "top": null,
            "visibility": null,
            "width": null
          }
        },
        "97a191257a754960998f762d72dce33c": {
          "model_module": "@jupyter-widgets/controls",
          "model_name": "DescriptionStyleModel",
          "model_module_version": "1.5.0",
          "state": {
            "_model_module": "@jupyter-widgets/controls",
            "_model_module_version": "1.5.0",
            "_model_name": "DescriptionStyleModel",
            "_view_count": null,
            "_view_module": "@jupyter-widgets/base",
            "_view_module_version": "1.2.0",
            "_view_name": "StyleView",
            "description_width": ""
          }
        },
        "9334eb024b6845cba65ed33f8be3b401": {
          "model_module": "@jupyter-widgets/base",
          "model_name": "LayoutModel",
          "model_module_version": "1.2.0",
          "state": {
            "_model_module": "@jupyter-widgets/base",
            "_model_module_version": "1.2.0",
            "_model_name": "LayoutModel",
            "_view_count": null,
            "_view_module": "@jupyter-widgets/base",
            "_view_module_version": "1.2.0",
            "_view_name": "LayoutView",
            "align_content": null,
            "align_items": null,
            "align_self": null,
            "border": null,
            "bottom": null,
            "display": null,
            "flex": null,
            "flex_flow": null,
            "grid_area": null,
            "grid_auto_columns": null,
            "grid_auto_flow": null,
            "grid_auto_rows": null,
            "grid_column": null,
            "grid_gap": null,
            "grid_row": null,
            "grid_template_areas": null,
            "grid_template_columns": null,
            "grid_template_rows": null,
            "height": null,
            "justify_content": null,
            "justify_items": null,
            "left": null,
            "margin": null,
            "max_height": null,
            "max_width": null,
            "min_height": null,
            "min_width": null,
            "object_fit": null,
            "object_position": null,
            "order": null,
            "overflow": null,
            "overflow_x": null,
            "overflow_y": null,
            "padding": null,
            "right": null,
            "top": null,
            "visibility": null,
            "width": null
          }
        },
        "fd3eb453433048449d626fe733d4f2ef": {
          "model_module": "@jupyter-widgets/controls",
          "model_name": "ProgressStyleModel",
          "model_module_version": "1.5.0",
          "state": {
            "_model_module": "@jupyter-widgets/controls",
            "_model_module_version": "1.5.0",
            "_model_name": "ProgressStyleModel",
            "_view_count": null,
            "_view_module": "@jupyter-widgets/base",
            "_view_module_version": "1.2.0",
            "_view_name": "StyleView",
            "bar_color": null,
            "description_width": ""
          }
        },
        "9610c747add44084a551a62f964ef4c4": {
          "model_module": "@jupyter-widgets/base",
          "model_name": "LayoutModel",
          "model_module_version": "1.2.0",
          "state": {
            "_model_module": "@jupyter-widgets/base",
            "_model_module_version": "1.2.0",
            "_model_name": "LayoutModel",
            "_view_count": null,
            "_view_module": "@jupyter-widgets/base",
            "_view_module_version": "1.2.0",
            "_view_name": "LayoutView",
            "align_content": null,
            "align_items": null,
            "align_self": null,
            "border": null,
            "bottom": null,
            "display": null,
            "flex": null,
            "flex_flow": null,
            "grid_area": null,
            "grid_auto_columns": null,
            "grid_auto_flow": null,
            "grid_auto_rows": null,
            "grid_column": null,
            "grid_gap": null,
            "grid_row": null,
            "grid_template_areas": null,
            "grid_template_columns": null,
            "grid_template_rows": null,
            "height": null,
            "justify_content": null,
            "justify_items": null,
            "left": null,
            "margin": null,
            "max_height": null,
            "max_width": null,
            "min_height": null,
            "min_width": null,
            "object_fit": null,
            "object_position": null,
            "order": null,
            "overflow": null,
            "overflow_x": null,
            "overflow_y": null,
            "padding": null,
            "right": null,
            "top": null,
            "visibility": null,
            "width": null
          }
        },
        "1975b56ac0f6411fb6e67681f722e080": {
          "model_module": "@jupyter-widgets/controls",
          "model_name": "DescriptionStyleModel",
          "model_module_version": "1.5.0",
          "state": {
            "_model_module": "@jupyter-widgets/controls",
            "_model_module_version": "1.5.0",
            "_model_name": "DescriptionStyleModel",
            "_view_count": null,
            "_view_module": "@jupyter-widgets/base",
            "_view_module_version": "1.2.0",
            "_view_name": "StyleView",
            "description_width": ""
          }
        },
        "2d2f990aacda4605853a2113ad335604": {
          "model_module": "@jupyter-widgets/controls",
          "model_name": "HBoxModel",
          "model_module_version": "1.5.0",
          "state": {
            "_dom_classes": [],
            "_model_module": "@jupyter-widgets/controls",
            "_model_module_version": "1.5.0",
            "_model_name": "HBoxModel",
            "_view_count": null,
            "_view_module": "@jupyter-widgets/controls",
            "_view_module_version": "1.5.0",
            "_view_name": "HBoxView",
            "box_style": "",
            "children": [
              "IPY_MODEL_ccb1e162d0664204896d0d80ce45a5f2",
              "IPY_MODEL_c7b83284ad0641c0b6bf6f613cf95c7b",
              "IPY_MODEL_446468937236462994656f4e74995541"
            ],
            "layout": "IPY_MODEL_49a25ebf8cac4d14b8ec64930348d5a9"
          }
        },
        "ccb1e162d0664204896d0d80ce45a5f2": {
          "model_module": "@jupyter-widgets/controls",
          "model_name": "HTMLModel",
          "model_module_version": "1.5.0",
          "state": {
            "_dom_classes": [],
            "_model_module": "@jupyter-widgets/controls",
            "_model_module_version": "1.5.0",
            "_model_name": "HTMLModel",
            "_view_count": null,
            "_view_module": "@jupyter-widgets/controls",
            "_view_module_version": "1.5.0",
            "_view_name": "HTMLView",
            "description": "",
            "description_tooltip": null,
            "layout": "IPY_MODEL_8601ab53da3b43df9c006a925bfeaef1",
            "placeholder": "​",
            "style": "IPY_MODEL_d87ea973615a4bd0a013b1b0301c86c0",
            "value": "vocab.txt: 100%"
          }
        },
        "c7b83284ad0641c0b6bf6f613cf95c7b": {
          "model_module": "@jupyter-widgets/controls",
          "model_name": "FloatProgressModel",
          "model_module_version": "1.5.0",
          "state": {
            "_dom_classes": [],
            "_model_module": "@jupyter-widgets/controls",
            "_model_module_version": "1.5.0",
            "_model_name": "FloatProgressModel",
            "_view_count": null,
            "_view_module": "@jupyter-widgets/controls",
            "_view_module_version": "1.5.0",
            "_view_name": "ProgressView",
            "bar_style": "success",
            "description": "",
            "description_tooltip": null,
            "layout": "IPY_MODEL_889b4c0d66d941acad4b600f9e3e2f04",
            "max": 213450,
            "min": 0,
            "orientation": "horizontal",
            "style": "IPY_MODEL_80139c022156496089cae8b7a589b3ca",
            "value": 213450
          }
        },
        "446468937236462994656f4e74995541": {
          "model_module": "@jupyter-widgets/controls",
          "model_name": "HTMLModel",
          "model_module_version": "1.5.0",
          "state": {
            "_dom_classes": [],
            "_model_module": "@jupyter-widgets/controls",
            "_model_module_version": "1.5.0",
            "_model_name": "HTMLModel",
            "_view_count": null,
            "_view_module": "@jupyter-widgets/controls",
            "_view_module_version": "1.5.0",
            "_view_name": "HTMLView",
            "description": "",
            "description_tooltip": null,
            "layout": "IPY_MODEL_8f320c63258c42adb5c13410fb4450fa",
            "placeholder": "​",
            "style": "IPY_MODEL_72aeeb11cbfe4b2c90c35640addf101e",
            "value": " 213k/213k [00:00&lt;00:00, 2.84MB/s]"
          }
        },
        "49a25ebf8cac4d14b8ec64930348d5a9": {
          "model_module": "@jupyter-widgets/base",
          "model_name": "LayoutModel",
          "model_module_version": "1.2.0",
          "state": {
            "_model_module": "@jupyter-widgets/base",
            "_model_module_version": "1.2.0",
            "_model_name": "LayoutModel",
            "_view_count": null,
            "_view_module": "@jupyter-widgets/base",
            "_view_module_version": "1.2.0",
            "_view_name": "LayoutView",
            "align_content": null,
            "align_items": null,
            "align_self": null,
            "border": null,
            "bottom": null,
            "display": null,
            "flex": null,
            "flex_flow": null,
            "grid_area": null,
            "grid_auto_columns": null,
            "grid_auto_flow": null,
            "grid_auto_rows": null,
            "grid_column": null,
            "grid_gap": null,
            "grid_row": null,
            "grid_template_areas": null,
            "grid_template_columns": null,
            "grid_template_rows": null,
            "height": null,
            "justify_content": null,
            "justify_items": null,
            "left": null,
            "margin": null,
            "max_height": null,
            "max_width": null,
            "min_height": null,
            "min_width": null,
            "object_fit": null,
            "object_position": null,
            "order": null,
            "overflow": null,
            "overflow_x": null,
            "overflow_y": null,
            "padding": null,
            "right": null,
            "top": null,
            "visibility": null,
            "width": null
          }
        },
        "8601ab53da3b43df9c006a925bfeaef1": {
          "model_module": "@jupyter-widgets/base",
          "model_name": "LayoutModel",
          "model_module_version": "1.2.0",
          "state": {
            "_model_module": "@jupyter-widgets/base",
            "_model_module_version": "1.2.0",
            "_model_name": "LayoutModel",
            "_view_count": null,
            "_view_module": "@jupyter-widgets/base",
            "_view_module_version": "1.2.0",
            "_view_name": "LayoutView",
            "align_content": null,
            "align_items": null,
            "align_self": null,
            "border": null,
            "bottom": null,
            "display": null,
            "flex": null,
            "flex_flow": null,
            "grid_area": null,
            "grid_auto_columns": null,
            "grid_auto_flow": null,
            "grid_auto_rows": null,
            "grid_column": null,
            "grid_gap": null,
            "grid_row": null,
            "grid_template_areas": null,
            "grid_template_columns": null,
            "grid_template_rows": null,
            "height": null,
            "justify_content": null,
            "justify_items": null,
            "left": null,
            "margin": null,
            "max_height": null,
            "max_width": null,
            "min_height": null,
            "min_width": null,
            "object_fit": null,
            "object_position": null,
            "order": null,
            "overflow": null,
            "overflow_x": null,
            "overflow_y": null,
            "padding": null,
            "right": null,
            "top": null,
            "visibility": null,
            "width": null
          }
        },
        "d87ea973615a4bd0a013b1b0301c86c0": {
          "model_module": "@jupyter-widgets/controls",
          "model_name": "DescriptionStyleModel",
          "model_module_version": "1.5.0",
          "state": {
            "_model_module": "@jupyter-widgets/controls",
            "_model_module_version": "1.5.0",
            "_model_name": "DescriptionStyleModel",
            "_view_count": null,
            "_view_module": "@jupyter-widgets/base",
            "_view_module_version": "1.2.0",
            "_view_name": "StyleView",
            "description_width": ""
          }
        },
        "889b4c0d66d941acad4b600f9e3e2f04": {
          "model_module": "@jupyter-widgets/base",
          "model_name": "LayoutModel",
          "model_module_version": "1.2.0",
          "state": {
            "_model_module": "@jupyter-widgets/base",
            "_model_module_version": "1.2.0",
            "_model_name": "LayoutModel",
            "_view_count": null,
            "_view_module": "@jupyter-widgets/base",
            "_view_module_version": "1.2.0",
            "_view_name": "LayoutView",
            "align_content": null,
            "align_items": null,
            "align_self": null,
            "border": null,
            "bottom": null,
            "display": null,
            "flex": null,
            "flex_flow": null,
            "grid_area": null,
            "grid_auto_columns": null,
            "grid_auto_flow": null,
            "grid_auto_rows": null,
            "grid_column": null,
            "grid_gap": null,
            "grid_row": null,
            "grid_template_areas": null,
            "grid_template_columns": null,
            "grid_template_rows": null,
            "height": null,
            "justify_content": null,
            "justify_items": null,
            "left": null,
            "margin": null,
            "max_height": null,
            "max_width": null,
            "min_height": null,
            "min_width": null,
            "object_fit": null,
            "object_position": null,
            "order": null,
            "overflow": null,
            "overflow_x": null,
            "overflow_y": null,
            "padding": null,
            "right": null,
            "top": null,
            "visibility": null,
            "width": null
          }
        },
        "80139c022156496089cae8b7a589b3ca": {
          "model_module": "@jupyter-widgets/controls",
          "model_name": "ProgressStyleModel",
          "model_module_version": "1.5.0",
          "state": {
            "_model_module": "@jupyter-widgets/controls",
            "_model_module_version": "1.5.0",
            "_model_name": "ProgressStyleModel",
            "_view_count": null,
            "_view_module": "@jupyter-widgets/base",
            "_view_module_version": "1.2.0",
            "_view_name": "StyleView",
            "bar_color": null,
            "description_width": ""
          }
        },
        "8f320c63258c42adb5c13410fb4450fa": {
          "model_module": "@jupyter-widgets/base",
          "model_name": "LayoutModel",
          "model_module_version": "1.2.0",
          "state": {
            "_model_module": "@jupyter-widgets/base",
            "_model_module_version": "1.2.0",
            "_model_name": "LayoutModel",
            "_view_count": null,
            "_view_module": "@jupyter-widgets/base",
            "_view_module_version": "1.2.0",
            "_view_name": "LayoutView",
            "align_content": null,
            "align_items": null,
            "align_self": null,
            "border": null,
            "bottom": null,
            "display": null,
            "flex": null,
            "flex_flow": null,
            "grid_area": null,
            "grid_auto_columns": null,
            "grid_auto_flow": null,
            "grid_auto_rows": null,
            "grid_column": null,
            "grid_gap": null,
            "grid_row": null,
            "grid_template_areas": null,
            "grid_template_columns": null,
            "grid_template_rows": null,
            "height": null,
            "justify_content": null,
            "justify_items": null,
            "left": null,
            "margin": null,
            "max_height": null,
            "max_width": null,
            "min_height": null,
            "min_width": null,
            "object_fit": null,
            "object_position": null,
            "order": null,
            "overflow": null,
            "overflow_x": null,
            "overflow_y": null,
            "padding": null,
            "right": null,
            "top": null,
            "visibility": null,
            "width": null
          }
        },
        "72aeeb11cbfe4b2c90c35640addf101e": {
          "model_module": "@jupyter-widgets/controls",
          "model_name": "DescriptionStyleModel",
          "model_module_version": "1.5.0",
          "state": {
            "_model_module": "@jupyter-widgets/controls",
            "_model_module_version": "1.5.0",
            "_model_name": "DescriptionStyleModel",
            "_view_count": null,
            "_view_module": "@jupyter-widgets/base",
            "_view_module_version": "1.2.0",
            "_view_name": "StyleView",
            "description_width": ""
          }
        },
        "58e27e482f584564b74d3ffced1a2549": {
          "model_module": "@jupyter-widgets/controls",
          "model_name": "HBoxModel",
          "model_module_version": "1.5.0",
          "state": {
            "_dom_classes": [],
            "_model_module": "@jupyter-widgets/controls",
            "_model_module_version": "1.5.0",
            "_model_name": "HBoxModel",
            "_view_count": null,
            "_view_module": "@jupyter-widgets/controls",
            "_view_module_version": "1.5.0",
            "_view_name": "HBoxView",
            "box_style": "",
            "children": [
              "IPY_MODEL_3cb72392ec9146138f432cffcea2043d",
              "IPY_MODEL_09be08cb4c15492fa869b26c45f8387d",
              "IPY_MODEL_f96dc1396e22458da75798ee176522f8"
            ],
            "layout": "IPY_MODEL_716a30ec79fc426da71c7cd5fdeee1d9"
          }
        },
        "3cb72392ec9146138f432cffcea2043d": {
          "model_module": "@jupyter-widgets/controls",
          "model_name": "HTMLModel",
          "model_module_version": "1.5.0",
          "state": {
            "_dom_classes": [],
            "_model_module": "@jupyter-widgets/controls",
            "_model_module_version": "1.5.0",
            "_model_name": "HTMLModel",
            "_view_count": null,
            "_view_module": "@jupyter-widgets/controls",
            "_view_module_version": "1.5.0",
            "_view_name": "HTMLView",
            "description": "",
            "description_tooltip": null,
            "layout": "IPY_MODEL_6fbe3f68929a4c41885daffc4ce069ba",
            "placeholder": "​",
            "style": "IPY_MODEL_ad2bc3424e3b4341a6f84dd44070c0e8",
            "value": "tokenizer.json: 100%"
          }
        },
        "09be08cb4c15492fa869b26c45f8387d": {
          "model_module": "@jupyter-widgets/controls",
          "model_name": "FloatProgressModel",
          "model_module_version": "1.5.0",
          "state": {
            "_dom_classes": [],
            "_model_module": "@jupyter-widgets/controls",
            "_model_module_version": "1.5.0",
            "_model_name": "FloatProgressModel",
            "_view_count": null,
            "_view_module": "@jupyter-widgets/controls",
            "_view_module_version": "1.5.0",
            "_view_name": "ProgressView",
            "bar_style": "success",
            "description": "",
            "description_tooltip": null,
            "layout": "IPY_MODEL_b1501499c6304d8981e3f5be4af48af1",
            "max": 435797,
            "min": 0,
            "orientation": "horizontal",
            "style": "IPY_MODEL_e67ecf30a0ae40be8c95c0bbe630195a",
            "value": 435797
          }
        },
        "f96dc1396e22458da75798ee176522f8": {
          "model_module": "@jupyter-widgets/controls",
          "model_name": "HTMLModel",
          "model_module_version": "1.5.0",
          "state": {
            "_dom_classes": [],
            "_model_module": "@jupyter-widgets/controls",
            "_model_module_version": "1.5.0",
            "_model_name": "HTMLModel",
            "_view_count": null,
            "_view_module": "@jupyter-widgets/controls",
            "_view_module_version": "1.5.0",
            "_view_name": "HTMLView",
            "description": "",
            "description_tooltip": null,
            "layout": "IPY_MODEL_2721f440216642a197dbda97736d32ae",
            "placeholder": "​",
            "style": "IPY_MODEL_575143d3c532478790c348dd6a876f2f",
            "value": " 436k/436k [00:00&lt;00:00, 9.57MB/s]"
          }
        },
        "716a30ec79fc426da71c7cd5fdeee1d9": {
          "model_module": "@jupyter-widgets/base",
          "model_name": "LayoutModel",
          "model_module_version": "1.2.0",
          "state": {
            "_model_module": "@jupyter-widgets/base",
            "_model_module_version": "1.2.0",
            "_model_name": "LayoutModel",
            "_view_count": null,
            "_view_module": "@jupyter-widgets/base",
            "_view_module_version": "1.2.0",
            "_view_name": "LayoutView",
            "align_content": null,
            "align_items": null,
            "align_self": null,
            "border": null,
            "bottom": null,
            "display": null,
            "flex": null,
            "flex_flow": null,
            "grid_area": null,
            "grid_auto_columns": null,
            "grid_auto_flow": null,
            "grid_auto_rows": null,
            "grid_column": null,
            "grid_gap": null,
            "grid_row": null,
            "grid_template_areas": null,
            "grid_template_columns": null,
            "grid_template_rows": null,
            "height": null,
            "justify_content": null,
            "justify_items": null,
            "left": null,
            "margin": null,
            "max_height": null,
            "max_width": null,
            "min_height": null,
            "min_width": null,
            "object_fit": null,
            "object_position": null,
            "order": null,
            "overflow": null,
            "overflow_x": null,
            "overflow_y": null,
            "padding": null,
            "right": null,
            "top": null,
            "visibility": null,
            "width": null
          }
        },
        "6fbe3f68929a4c41885daffc4ce069ba": {
          "model_module": "@jupyter-widgets/base",
          "model_name": "LayoutModel",
          "model_module_version": "1.2.0",
          "state": {
            "_model_module": "@jupyter-widgets/base",
            "_model_module_version": "1.2.0",
            "_model_name": "LayoutModel",
            "_view_count": null,
            "_view_module": "@jupyter-widgets/base",
            "_view_module_version": "1.2.0",
            "_view_name": "LayoutView",
            "align_content": null,
            "align_items": null,
            "align_self": null,
            "border": null,
            "bottom": null,
            "display": null,
            "flex": null,
            "flex_flow": null,
            "grid_area": null,
            "grid_auto_columns": null,
            "grid_auto_flow": null,
            "grid_auto_rows": null,
            "grid_column": null,
            "grid_gap": null,
            "grid_row": null,
            "grid_template_areas": null,
            "grid_template_columns": null,
            "grid_template_rows": null,
            "height": null,
            "justify_content": null,
            "justify_items": null,
            "left": null,
            "margin": null,
            "max_height": null,
            "max_width": null,
            "min_height": null,
            "min_width": null,
            "object_fit": null,
            "object_position": null,
            "order": null,
            "overflow": null,
            "overflow_x": null,
            "overflow_y": null,
            "padding": null,
            "right": null,
            "top": null,
            "visibility": null,
            "width": null
          }
        },
        "ad2bc3424e3b4341a6f84dd44070c0e8": {
          "model_module": "@jupyter-widgets/controls",
          "model_name": "DescriptionStyleModel",
          "model_module_version": "1.5.0",
          "state": {
            "_model_module": "@jupyter-widgets/controls",
            "_model_module_version": "1.5.0",
            "_model_name": "DescriptionStyleModel",
            "_view_count": null,
            "_view_module": "@jupyter-widgets/base",
            "_view_module_version": "1.2.0",
            "_view_name": "StyleView",
            "description_width": ""
          }
        },
        "b1501499c6304d8981e3f5be4af48af1": {
          "model_module": "@jupyter-widgets/base",
          "model_name": "LayoutModel",
          "model_module_version": "1.2.0",
          "state": {
            "_model_module": "@jupyter-widgets/base",
            "_model_module_version": "1.2.0",
            "_model_name": "LayoutModel",
            "_view_count": null,
            "_view_module": "@jupyter-widgets/base",
            "_view_module_version": "1.2.0",
            "_view_name": "LayoutView",
            "align_content": null,
            "align_items": null,
            "align_self": null,
            "border": null,
            "bottom": null,
            "display": null,
            "flex": null,
            "flex_flow": null,
            "grid_area": null,
            "grid_auto_columns": null,
            "grid_auto_flow": null,
            "grid_auto_rows": null,
            "grid_column": null,
            "grid_gap": null,
            "grid_row": null,
            "grid_template_areas": null,
            "grid_template_columns": null,
            "grid_template_rows": null,
            "height": null,
            "justify_content": null,
            "justify_items": null,
            "left": null,
            "margin": null,
            "max_height": null,
            "max_width": null,
            "min_height": null,
            "min_width": null,
            "object_fit": null,
            "object_position": null,
            "order": null,
            "overflow": null,
            "overflow_x": null,
            "overflow_y": null,
            "padding": null,
            "right": null,
            "top": null,
            "visibility": null,
            "width": null
          }
        },
        "e67ecf30a0ae40be8c95c0bbe630195a": {
          "model_module": "@jupyter-widgets/controls",
          "model_name": "ProgressStyleModel",
          "model_module_version": "1.5.0",
          "state": {
            "_model_module": "@jupyter-widgets/controls",
            "_model_module_version": "1.5.0",
            "_model_name": "ProgressStyleModel",
            "_view_count": null,
            "_view_module": "@jupyter-widgets/base",
            "_view_module_version": "1.2.0",
            "_view_name": "StyleView",
            "bar_color": null,
            "description_width": ""
          }
        },
        "2721f440216642a197dbda97736d32ae": {
          "model_module": "@jupyter-widgets/base",
          "model_name": "LayoutModel",
          "model_module_version": "1.2.0",
          "state": {
            "_model_module": "@jupyter-widgets/base",
            "_model_module_version": "1.2.0",
            "_model_name": "LayoutModel",
            "_view_count": null,
            "_view_module": "@jupyter-widgets/base",
            "_view_module_version": "1.2.0",
            "_view_name": "LayoutView",
            "align_content": null,
            "align_items": null,
            "align_self": null,
            "border": null,
            "bottom": null,
            "display": null,
            "flex": null,
            "flex_flow": null,
            "grid_area": null,
            "grid_auto_columns": null,
            "grid_auto_flow": null,
            "grid_auto_rows": null,
            "grid_column": null,
            "grid_gap": null,
            "grid_row": null,
            "grid_template_areas": null,
            "grid_template_columns": null,
            "grid_template_rows": null,
            "height": null,
            "justify_content": null,
            "justify_items": null,
            "left": null,
            "margin": null,
            "max_height": null,
            "max_width": null,
            "min_height": null,
            "min_width": null,
            "object_fit": null,
            "object_position": null,
            "order": null,
            "overflow": null,
            "overflow_x": null,
            "overflow_y": null,
            "padding": null,
            "right": null,
            "top": null,
            "visibility": null,
            "width": null
          }
        },
        "575143d3c532478790c348dd6a876f2f": {
          "model_module": "@jupyter-widgets/controls",
          "model_name": "DescriptionStyleModel",
          "model_module_version": "1.5.0",
          "state": {
            "_model_module": "@jupyter-widgets/controls",
            "_model_module_version": "1.5.0",
            "_model_name": "DescriptionStyleModel",
            "_view_count": null,
            "_view_module": "@jupyter-widgets/base",
            "_view_module_version": "1.2.0",
            "_view_name": "StyleView",
            "description_width": ""
          }
        },
        "eba2792f011f459a976d613723719df7": {
          "model_module": "@jupyter-widgets/controls",
          "model_name": "HBoxModel",
          "model_module_version": "1.5.0",
          "state": {
            "_dom_classes": [],
            "_model_module": "@jupyter-widgets/controls",
            "_model_module_version": "1.5.0",
            "_model_name": "HBoxModel",
            "_view_count": null,
            "_view_module": "@jupyter-widgets/controls",
            "_view_module_version": "1.5.0",
            "_view_name": "HBoxView",
            "box_style": "",
            "children": [
              "IPY_MODEL_f8b3ad971dbe4b52a2f5b2399520ac01",
              "IPY_MODEL_4e346dd6ff8a4fe0ac0f22d2fe355f00",
              "IPY_MODEL_0fec79df7e1e445299d2a10b7add1925"
            ],
            "layout": "IPY_MODEL_e7b070794f2f427e9ba51f3ef83f15e3"
          }
        },
        "f8b3ad971dbe4b52a2f5b2399520ac01": {
          "model_module": "@jupyter-widgets/controls",
          "model_name": "HTMLModel",
          "model_module_version": "1.5.0",
          "state": {
            "_dom_classes": [],
            "_model_module": "@jupyter-widgets/controls",
            "_model_module_version": "1.5.0",
            "_model_name": "HTMLModel",
            "_view_count": null,
            "_view_module": "@jupyter-widgets/controls",
            "_view_module_version": "1.5.0",
            "_view_name": "HTMLView",
            "description": "",
            "description_tooltip": null,
            "layout": "IPY_MODEL_58f1329a12cf482f946bafbb1f2007f0",
            "placeholder": "​",
            "style": "IPY_MODEL_8ff679364c684c88a1d29bbe4abafd03",
            "value": "config.json: 100%"
          }
        },
        "4e346dd6ff8a4fe0ac0f22d2fe355f00": {
          "model_module": "@jupyter-widgets/controls",
          "model_name": "FloatProgressModel",
          "model_module_version": "1.5.0",
          "state": {
            "_dom_classes": [],
            "_model_module": "@jupyter-widgets/controls",
            "_model_module_version": "1.5.0",
            "_model_name": "FloatProgressModel",
            "_view_count": null,
            "_view_module": "@jupyter-widgets/controls",
            "_view_module_version": "1.5.0",
            "_view_name": "ProgressView",
            "bar_style": "success",
            "description": "",
            "description_tooltip": null,
            "layout": "IPY_MODEL_f3457e1255234fde9235c8756f52febc",
            "max": 570,
            "min": 0,
            "orientation": "horizontal",
            "style": "IPY_MODEL_21c267eba98c47f8850ae92c01bda8a5",
            "value": 570
          }
        },
        "0fec79df7e1e445299d2a10b7add1925": {
          "model_module": "@jupyter-widgets/controls",
          "model_name": "HTMLModel",
          "model_module_version": "1.5.0",
          "state": {
            "_dom_classes": [],
            "_model_module": "@jupyter-widgets/controls",
            "_model_module_version": "1.5.0",
            "_model_name": "HTMLModel",
            "_view_count": null,
            "_view_module": "@jupyter-widgets/controls",
            "_view_module_version": "1.5.0",
            "_view_name": "HTMLView",
            "description": "",
            "description_tooltip": null,
            "layout": "IPY_MODEL_849fa81194694105a02ae713c3822fb6",
            "placeholder": "​",
            "style": "IPY_MODEL_af8d1acbc6a94db78d813d89a916407b",
            "value": " 570/570 [00:00&lt;00:00, 49.5kB/s]"
          }
        },
        "e7b070794f2f427e9ba51f3ef83f15e3": {
          "model_module": "@jupyter-widgets/base",
          "model_name": "LayoutModel",
          "model_module_version": "1.2.0",
          "state": {
            "_model_module": "@jupyter-widgets/base",
            "_model_module_version": "1.2.0",
            "_model_name": "LayoutModel",
            "_view_count": null,
            "_view_module": "@jupyter-widgets/base",
            "_view_module_version": "1.2.0",
            "_view_name": "LayoutView",
            "align_content": null,
            "align_items": null,
            "align_self": null,
            "border": null,
            "bottom": null,
            "display": null,
            "flex": null,
            "flex_flow": null,
            "grid_area": null,
            "grid_auto_columns": null,
            "grid_auto_flow": null,
            "grid_auto_rows": null,
            "grid_column": null,
            "grid_gap": null,
            "grid_row": null,
            "grid_template_areas": null,
            "grid_template_columns": null,
            "grid_template_rows": null,
            "height": null,
            "justify_content": null,
            "justify_items": null,
            "left": null,
            "margin": null,
            "max_height": null,
            "max_width": null,
            "min_height": null,
            "min_width": null,
            "object_fit": null,
            "object_position": null,
            "order": null,
            "overflow": null,
            "overflow_x": null,
            "overflow_y": null,
            "padding": null,
            "right": null,
            "top": null,
            "visibility": null,
            "width": null
          }
        },
        "58f1329a12cf482f946bafbb1f2007f0": {
          "model_module": "@jupyter-widgets/base",
          "model_name": "LayoutModel",
          "model_module_version": "1.2.0",
          "state": {
            "_model_module": "@jupyter-widgets/base",
            "_model_module_version": "1.2.0",
            "_model_name": "LayoutModel",
            "_view_count": null,
            "_view_module": "@jupyter-widgets/base",
            "_view_module_version": "1.2.0",
            "_view_name": "LayoutView",
            "align_content": null,
            "align_items": null,
            "align_self": null,
            "border": null,
            "bottom": null,
            "display": null,
            "flex": null,
            "flex_flow": null,
            "grid_area": null,
            "grid_auto_columns": null,
            "grid_auto_flow": null,
            "grid_auto_rows": null,
            "grid_column": null,
            "grid_gap": null,
            "grid_row": null,
            "grid_template_areas": null,
            "grid_template_columns": null,
            "grid_template_rows": null,
            "height": null,
            "justify_content": null,
            "justify_items": null,
            "left": null,
            "margin": null,
            "max_height": null,
            "max_width": null,
            "min_height": null,
            "min_width": null,
            "object_fit": null,
            "object_position": null,
            "order": null,
            "overflow": null,
            "overflow_x": null,
            "overflow_y": null,
            "padding": null,
            "right": null,
            "top": null,
            "visibility": null,
            "width": null
          }
        },
        "8ff679364c684c88a1d29bbe4abafd03": {
          "model_module": "@jupyter-widgets/controls",
          "model_name": "DescriptionStyleModel",
          "model_module_version": "1.5.0",
          "state": {
            "_model_module": "@jupyter-widgets/controls",
            "_model_module_version": "1.5.0",
            "_model_name": "DescriptionStyleModel",
            "_view_count": null,
            "_view_module": "@jupyter-widgets/base",
            "_view_module_version": "1.2.0",
            "_view_name": "StyleView",
            "description_width": ""
          }
        },
        "f3457e1255234fde9235c8756f52febc": {
          "model_module": "@jupyter-widgets/base",
          "model_name": "LayoutModel",
          "model_module_version": "1.2.0",
          "state": {
            "_model_module": "@jupyter-widgets/base",
            "_model_module_version": "1.2.0",
            "_model_name": "LayoutModel",
            "_view_count": null,
            "_view_module": "@jupyter-widgets/base",
            "_view_module_version": "1.2.0",
            "_view_name": "LayoutView",
            "align_content": null,
            "align_items": null,
            "align_self": null,
            "border": null,
            "bottom": null,
            "display": null,
            "flex": null,
            "flex_flow": null,
            "grid_area": null,
            "grid_auto_columns": null,
            "grid_auto_flow": null,
            "grid_auto_rows": null,
            "grid_column": null,
            "grid_gap": null,
            "grid_row": null,
            "grid_template_areas": null,
            "grid_template_columns": null,
            "grid_template_rows": null,
            "height": null,
            "justify_content": null,
            "justify_items": null,
            "left": null,
            "margin": null,
            "max_height": null,
            "max_width": null,
            "min_height": null,
            "min_width": null,
            "object_fit": null,
            "object_position": null,
            "order": null,
            "overflow": null,
            "overflow_x": null,
            "overflow_y": null,
            "padding": null,
            "right": null,
            "top": null,
            "visibility": null,
            "width": null
          }
        },
        "21c267eba98c47f8850ae92c01bda8a5": {
          "model_module": "@jupyter-widgets/controls",
          "model_name": "ProgressStyleModel",
          "model_module_version": "1.5.0",
          "state": {
            "_model_module": "@jupyter-widgets/controls",
            "_model_module_version": "1.5.0",
            "_model_name": "ProgressStyleModel",
            "_view_count": null,
            "_view_module": "@jupyter-widgets/base",
            "_view_module_version": "1.2.0",
            "_view_name": "StyleView",
            "bar_color": null,
            "description_width": ""
          }
        },
        "849fa81194694105a02ae713c3822fb6": {
          "model_module": "@jupyter-widgets/base",
          "model_name": "LayoutModel",
          "model_module_version": "1.2.0",
          "state": {
            "_model_module": "@jupyter-widgets/base",
            "_model_module_version": "1.2.0",
            "_model_name": "LayoutModel",
            "_view_count": null,
            "_view_module": "@jupyter-widgets/base",
            "_view_module_version": "1.2.0",
            "_view_name": "LayoutView",
            "align_content": null,
            "align_items": null,
            "align_self": null,
            "border": null,
            "bottom": null,
            "display": null,
            "flex": null,
            "flex_flow": null,
            "grid_area": null,
            "grid_auto_columns": null,
            "grid_auto_flow": null,
            "grid_auto_rows": null,
            "grid_column": null,
            "grid_gap": null,
            "grid_row": null,
            "grid_template_areas": null,
            "grid_template_columns": null,
            "grid_template_rows": null,
            "height": null,
            "justify_content": null,
            "justify_items": null,
            "left": null,
            "margin": null,
            "max_height": null,
            "max_width": null,
            "min_height": null,
            "min_width": null,
            "object_fit": null,
            "object_position": null,
            "order": null,
            "overflow": null,
            "overflow_x": null,
            "overflow_y": null,
            "padding": null,
            "right": null,
            "top": null,
            "visibility": null,
            "width": null
          }
        },
        "af8d1acbc6a94db78d813d89a916407b": {
          "model_module": "@jupyter-widgets/controls",
          "model_name": "DescriptionStyleModel",
          "model_module_version": "1.5.0",
          "state": {
            "_model_module": "@jupyter-widgets/controls",
            "_model_module_version": "1.5.0",
            "_model_name": "DescriptionStyleModel",
            "_view_count": null,
            "_view_module": "@jupyter-widgets/base",
            "_view_module_version": "1.2.0",
            "_view_name": "StyleView",
            "description_width": ""
          }
        },
        "a658640841f74591862d976375d9fe74": {
          "model_module": "@jupyter-widgets/controls",
          "model_name": "HBoxModel",
          "model_module_version": "1.5.0",
          "state": {
            "_dom_classes": [],
            "_model_module": "@jupyter-widgets/controls",
            "_model_module_version": "1.5.0",
            "_model_name": "HBoxModel",
            "_view_count": null,
            "_view_module": "@jupyter-widgets/controls",
            "_view_module_version": "1.5.0",
            "_view_name": "HBoxView",
            "box_style": "",
            "children": [
              "IPY_MODEL_c2ad490c26a5448b899d48c068bbd751",
              "IPY_MODEL_3c47780b237a4bddafac96f71e822f77",
              "IPY_MODEL_a040952ba4ec428d8fb56af12b619b19"
            ],
            "layout": "IPY_MODEL_e7c3869158e640998162f812c365483b"
          }
        },
        "c2ad490c26a5448b899d48c068bbd751": {
          "model_module": "@jupyter-widgets/controls",
          "model_name": "HTMLModel",
          "model_module_version": "1.5.0",
          "state": {
            "_dom_classes": [],
            "_model_module": "@jupyter-widgets/controls",
            "_model_module_version": "1.5.0",
            "_model_name": "HTMLModel",
            "_view_count": null,
            "_view_module": "@jupyter-widgets/controls",
            "_view_module_version": "1.5.0",
            "_view_name": "HTMLView",
            "description": "",
            "description_tooltip": null,
            "layout": "IPY_MODEL_cf386539df024bc2ac89012d9c2ba5f0",
            "placeholder": "​",
            "style": "IPY_MODEL_a6388f6ac00747c9a47901ab6434490e",
            "value": "model.safetensors: 100%"
          }
        },
        "3c47780b237a4bddafac96f71e822f77": {
          "model_module": "@jupyter-widgets/controls",
          "model_name": "FloatProgressModel",
          "model_module_version": "1.5.0",
          "state": {
            "_dom_classes": [],
            "_model_module": "@jupyter-widgets/controls",
            "_model_module_version": "1.5.0",
            "_model_name": "FloatProgressModel",
            "_view_count": null,
            "_view_module": "@jupyter-widgets/controls",
            "_view_module_version": "1.5.0",
            "_view_name": "ProgressView",
            "bar_style": "success",
            "description": "",
            "description_tooltip": null,
            "layout": "IPY_MODEL_780fd80119ee496590ac9169d8c50570",
            "max": 435755784,
            "min": 0,
            "orientation": "horizontal",
            "style": "IPY_MODEL_c8f23001603849a2ad194dd39b3837de",
            "value": 435755784
          }
        },
        "a040952ba4ec428d8fb56af12b619b19": {
          "model_module": "@jupyter-widgets/controls",
          "model_name": "HTMLModel",
          "model_module_version": "1.5.0",
          "state": {
            "_dom_classes": [],
            "_model_module": "@jupyter-widgets/controls",
            "_model_module_version": "1.5.0",
            "_model_name": "HTMLModel",
            "_view_count": null,
            "_view_module": "@jupyter-widgets/controls",
            "_view_module_version": "1.5.0",
            "_view_name": "HTMLView",
            "description": "",
            "description_tooltip": null,
            "layout": "IPY_MODEL_3592777ec6f54090940731b691c7855f",
            "placeholder": "​",
            "style": "IPY_MODEL_bb5dea4287b346ffaddc1c2b373344ed",
            "value": " 436M/436M [00:02&lt;00:00, 223MB/s]"
          }
        },
        "e7c3869158e640998162f812c365483b": {
          "model_module": "@jupyter-widgets/base",
          "model_name": "LayoutModel",
          "model_module_version": "1.2.0",
          "state": {
            "_model_module": "@jupyter-widgets/base",
            "_model_module_version": "1.2.0",
            "_model_name": "LayoutModel",
            "_view_count": null,
            "_view_module": "@jupyter-widgets/base",
            "_view_module_version": "1.2.0",
            "_view_name": "LayoutView",
            "align_content": null,
            "align_items": null,
            "align_self": null,
            "border": null,
            "bottom": null,
            "display": null,
            "flex": null,
            "flex_flow": null,
            "grid_area": null,
            "grid_auto_columns": null,
            "grid_auto_flow": null,
            "grid_auto_rows": null,
            "grid_column": null,
            "grid_gap": null,
            "grid_row": null,
            "grid_template_areas": null,
            "grid_template_columns": null,
            "grid_template_rows": null,
            "height": null,
            "justify_content": null,
            "justify_items": null,
            "left": null,
            "margin": null,
            "max_height": null,
            "max_width": null,
            "min_height": null,
            "min_width": null,
            "object_fit": null,
            "object_position": null,
            "order": null,
            "overflow": null,
            "overflow_x": null,
            "overflow_y": null,
            "padding": null,
            "right": null,
            "top": null,
            "visibility": null,
            "width": null
          }
        },
        "cf386539df024bc2ac89012d9c2ba5f0": {
          "model_module": "@jupyter-widgets/base",
          "model_name": "LayoutModel",
          "model_module_version": "1.2.0",
          "state": {
            "_model_module": "@jupyter-widgets/base",
            "_model_module_version": "1.2.0",
            "_model_name": "LayoutModel",
            "_view_count": null,
            "_view_module": "@jupyter-widgets/base",
            "_view_module_version": "1.2.0",
            "_view_name": "LayoutView",
            "align_content": null,
            "align_items": null,
            "align_self": null,
            "border": null,
            "bottom": null,
            "display": null,
            "flex": null,
            "flex_flow": null,
            "grid_area": null,
            "grid_auto_columns": null,
            "grid_auto_flow": null,
            "grid_auto_rows": null,
            "grid_column": null,
            "grid_gap": null,
            "grid_row": null,
            "grid_template_areas": null,
            "grid_template_columns": null,
            "grid_template_rows": null,
            "height": null,
            "justify_content": null,
            "justify_items": null,
            "left": null,
            "margin": null,
            "max_height": null,
            "max_width": null,
            "min_height": null,
            "min_width": null,
            "object_fit": null,
            "object_position": null,
            "order": null,
            "overflow": null,
            "overflow_x": null,
            "overflow_y": null,
            "padding": null,
            "right": null,
            "top": null,
            "visibility": null,
            "width": null
          }
        },
        "a6388f6ac00747c9a47901ab6434490e": {
          "model_module": "@jupyter-widgets/controls",
          "model_name": "DescriptionStyleModel",
          "model_module_version": "1.5.0",
          "state": {
            "_model_module": "@jupyter-widgets/controls",
            "_model_module_version": "1.5.0",
            "_model_name": "DescriptionStyleModel",
            "_view_count": null,
            "_view_module": "@jupyter-widgets/base",
            "_view_module_version": "1.2.0",
            "_view_name": "StyleView",
            "description_width": ""
          }
        },
        "780fd80119ee496590ac9169d8c50570": {
          "model_module": "@jupyter-widgets/base",
          "model_name": "LayoutModel",
          "model_module_version": "1.2.0",
          "state": {
            "_model_module": "@jupyter-widgets/base",
            "_model_module_version": "1.2.0",
            "_model_name": "LayoutModel",
            "_view_count": null,
            "_view_module": "@jupyter-widgets/base",
            "_view_module_version": "1.2.0",
            "_view_name": "LayoutView",
            "align_content": null,
            "align_items": null,
            "align_self": null,
            "border": null,
            "bottom": null,
            "display": null,
            "flex": null,
            "flex_flow": null,
            "grid_area": null,
            "grid_auto_columns": null,
            "grid_auto_flow": null,
            "grid_auto_rows": null,
            "grid_column": null,
            "grid_gap": null,
            "grid_row": null,
            "grid_template_areas": null,
            "grid_template_columns": null,
            "grid_template_rows": null,
            "height": null,
            "justify_content": null,
            "justify_items": null,
            "left": null,
            "margin": null,
            "max_height": null,
            "max_width": null,
            "min_height": null,
            "min_width": null,
            "object_fit": null,
            "object_position": null,
            "order": null,
            "overflow": null,
            "overflow_x": null,
            "overflow_y": null,
            "padding": null,
            "right": null,
            "top": null,
            "visibility": null,
            "width": null
          }
        },
        "c8f23001603849a2ad194dd39b3837de": {
          "model_module": "@jupyter-widgets/controls",
          "model_name": "ProgressStyleModel",
          "model_module_version": "1.5.0",
          "state": {
            "_model_module": "@jupyter-widgets/controls",
            "_model_module_version": "1.5.0",
            "_model_name": "ProgressStyleModel",
            "_view_count": null,
            "_view_module": "@jupyter-widgets/base",
            "_view_module_version": "1.2.0",
            "_view_name": "StyleView",
            "bar_color": null,
            "description_width": ""
          }
        },
        "3592777ec6f54090940731b691c7855f": {
          "model_module": "@jupyter-widgets/base",
          "model_name": "LayoutModel",
          "model_module_version": "1.2.0",
          "state": {
            "_model_module": "@jupyter-widgets/base",
            "_model_module_version": "1.2.0",
            "_model_name": "LayoutModel",
            "_view_count": null,
            "_view_module": "@jupyter-widgets/base",
            "_view_module_version": "1.2.0",
            "_view_name": "LayoutView",
            "align_content": null,
            "align_items": null,
            "align_self": null,
            "border": null,
            "bottom": null,
            "display": null,
            "flex": null,
            "flex_flow": null,
            "grid_area": null,
            "grid_auto_columns": null,
            "grid_auto_flow": null,
            "grid_auto_rows": null,
            "grid_column": null,
            "grid_gap": null,
            "grid_row": null,
            "grid_template_areas": null,
            "grid_template_columns": null,
            "grid_template_rows": null,
            "height": null,
            "justify_content": null,
            "justify_items": null,
            "left": null,
            "margin": null,
            "max_height": null,
            "max_width": null,
            "min_height": null,
            "min_width": null,
            "object_fit": null,
            "object_position": null,
            "order": null,
            "overflow": null,
            "overflow_x": null,
            "overflow_y": null,
            "padding": null,
            "right": null,
            "top": null,
            "visibility": null,
            "width": null
          }
        },
        "bb5dea4287b346ffaddc1c2b373344ed": {
          "model_module": "@jupyter-widgets/controls",
          "model_name": "DescriptionStyleModel",
          "model_module_version": "1.5.0",
          "state": {
            "_model_module": "@jupyter-widgets/controls",
            "_model_module_version": "1.5.0",
            "_model_name": "DescriptionStyleModel",
            "_view_count": null,
            "_view_module": "@jupyter-widgets/base",
            "_view_module_version": "1.2.0",
            "_view_name": "StyleView",
            "description_width": ""
          }
        },
        "f9b0f4f9af1745a0b845d7775465a90e": {
          "model_module": "@jupyter-widgets/controls",
          "model_name": "HBoxModel",
          "model_module_version": "1.5.0",
          "state": {
            "_dom_classes": [],
            "_model_module": "@jupyter-widgets/controls",
            "_model_module_version": "1.5.0",
            "_model_name": "HBoxModel",
            "_view_count": null,
            "_view_module": "@jupyter-widgets/controls",
            "_view_module_version": "1.5.0",
            "_view_name": "HBoxView",
            "box_style": "",
            "children": [
              "IPY_MODEL_aaf3febdf80d42db929730d6dbbac237",
              "IPY_MODEL_a9e64c108fe748c4a625925461c0de04",
              "IPY_MODEL_6f2e787e11a04cb1b8c879441811a588"
            ],
            "layout": "IPY_MODEL_cf30e701d09943b7ac520f3d79905430"
          }
        },
        "aaf3febdf80d42db929730d6dbbac237": {
          "model_module": "@jupyter-widgets/controls",
          "model_name": "HTMLModel",
          "model_module_version": "1.5.0",
          "state": {
            "_dom_classes": [],
            "_model_module": "@jupyter-widgets/controls",
            "_model_module_version": "1.5.0",
            "_model_name": "HTMLModel",
            "_view_count": null,
            "_view_module": "@jupyter-widgets/controls",
            "_view_module_version": "1.5.0",
            "_view_name": "HTMLView",
            "description": "",
            "description_tooltip": null,
            "layout": "IPY_MODEL_befeb1fd976d4d04aa642200e6f198c9",
            "placeholder": "​",
            "style": "IPY_MODEL_ff032d3aaacf44dfa5e88053e10da735",
            "value": "Map: 100%"
          }
        },
        "a9e64c108fe748c4a625925461c0de04": {
          "model_module": "@jupyter-widgets/controls",
          "model_name": "FloatProgressModel",
          "model_module_version": "1.5.0",
          "state": {
            "_dom_classes": [],
            "_model_module": "@jupyter-widgets/controls",
            "_model_module_version": "1.5.0",
            "_model_name": "FloatProgressModel",
            "_view_count": null,
            "_view_module": "@jupyter-widgets/controls",
            "_view_module_version": "1.5.0",
            "_view_name": "ProgressView",
            "bar_style": "success",
            "description": "",
            "description_tooltip": null,
            "layout": "IPY_MODEL_dc0e8d255cac4986a2f63431a11b2d89",
            "max": 14987,
            "min": 0,
            "orientation": "horizontal",
            "style": "IPY_MODEL_c7b51620137e40c39749633218606eae",
            "value": 14987
          }
        },
        "6f2e787e11a04cb1b8c879441811a588": {
          "model_module": "@jupyter-widgets/controls",
          "model_name": "HTMLModel",
          "model_module_version": "1.5.0",
          "state": {
            "_dom_classes": [],
            "_model_module": "@jupyter-widgets/controls",
            "_model_module_version": "1.5.0",
            "_model_name": "HTMLModel",
            "_view_count": null,
            "_view_module": "@jupyter-widgets/controls",
            "_view_module_version": "1.5.0",
            "_view_name": "HTMLView",
            "description": "",
            "description_tooltip": null,
            "layout": "IPY_MODEL_839dacb794b54c92a5d98c89a81451ea",
            "placeholder": "​",
            "style": "IPY_MODEL_8787edede3bf4240a9e557f4b96fcb0d",
            "value": " 14987/14987 [00:07&lt;00:00, 2413.26 examples/s]"
          }
        },
        "cf30e701d09943b7ac520f3d79905430": {
          "model_module": "@jupyter-widgets/base",
          "model_name": "LayoutModel",
          "model_module_version": "1.2.0",
          "state": {
            "_model_module": "@jupyter-widgets/base",
            "_model_module_version": "1.2.0",
            "_model_name": "LayoutModel",
            "_view_count": null,
            "_view_module": "@jupyter-widgets/base",
            "_view_module_version": "1.2.0",
            "_view_name": "LayoutView",
            "align_content": null,
            "align_items": null,
            "align_self": null,
            "border": null,
            "bottom": null,
            "display": null,
            "flex": null,
            "flex_flow": null,
            "grid_area": null,
            "grid_auto_columns": null,
            "grid_auto_flow": null,
            "grid_auto_rows": null,
            "grid_column": null,
            "grid_gap": null,
            "grid_row": null,
            "grid_template_areas": null,
            "grid_template_columns": null,
            "grid_template_rows": null,
            "height": null,
            "justify_content": null,
            "justify_items": null,
            "left": null,
            "margin": null,
            "max_height": null,
            "max_width": null,
            "min_height": null,
            "min_width": null,
            "object_fit": null,
            "object_position": null,
            "order": null,
            "overflow": null,
            "overflow_x": null,
            "overflow_y": null,
            "padding": null,
            "right": null,
            "top": null,
            "visibility": null,
            "width": null
          }
        },
        "befeb1fd976d4d04aa642200e6f198c9": {
          "model_module": "@jupyter-widgets/base",
          "model_name": "LayoutModel",
          "model_module_version": "1.2.0",
          "state": {
            "_model_module": "@jupyter-widgets/base",
            "_model_module_version": "1.2.0",
            "_model_name": "LayoutModel",
            "_view_count": null,
            "_view_module": "@jupyter-widgets/base",
            "_view_module_version": "1.2.0",
            "_view_name": "LayoutView",
            "align_content": null,
            "align_items": null,
            "align_self": null,
            "border": null,
            "bottom": null,
            "display": null,
            "flex": null,
            "flex_flow": null,
            "grid_area": null,
            "grid_auto_columns": null,
            "grid_auto_flow": null,
            "grid_auto_rows": null,
            "grid_column": null,
            "grid_gap": null,
            "grid_row": null,
            "grid_template_areas": null,
            "grid_template_columns": null,
            "grid_template_rows": null,
            "height": null,
            "justify_content": null,
            "justify_items": null,
            "left": null,
            "margin": null,
            "max_height": null,
            "max_width": null,
            "min_height": null,
            "min_width": null,
            "object_fit": null,
            "object_position": null,
            "order": null,
            "overflow": null,
            "overflow_x": null,
            "overflow_y": null,
            "padding": null,
            "right": null,
            "top": null,
            "visibility": null,
            "width": null
          }
        },
        "ff032d3aaacf44dfa5e88053e10da735": {
          "model_module": "@jupyter-widgets/controls",
          "model_name": "DescriptionStyleModel",
          "model_module_version": "1.5.0",
          "state": {
            "_model_module": "@jupyter-widgets/controls",
            "_model_module_version": "1.5.0",
            "_model_name": "DescriptionStyleModel",
            "_view_count": null,
            "_view_module": "@jupyter-widgets/base",
            "_view_module_version": "1.2.0",
            "_view_name": "StyleView",
            "description_width": ""
          }
        },
        "dc0e8d255cac4986a2f63431a11b2d89": {
          "model_module": "@jupyter-widgets/base",
          "model_name": "LayoutModel",
          "model_module_version": "1.2.0",
          "state": {
            "_model_module": "@jupyter-widgets/base",
            "_model_module_version": "1.2.0",
            "_model_name": "LayoutModel",
            "_view_count": null,
            "_view_module": "@jupyter-widgets/base",
            "_view_module_version": "1.2.0",
            "_view_name": "LayoutView",
            "align_content": null,
            "align_items": null,
            "align_self": null,
            "border": null,
            "bottom": null,
            "display": null,
            "flex": null,
            "flex_flow": null,
            "grid_area": null,
            "grid_auto_columns": null,
            "grid_auto_flow": null,
            "grid_auto_rows": null,
            "grid_column": null,
            "grid_gap": null,
            "grid_row": null,
            "grid_template_areas": null,
            "grid_template_columns": null,
            "grid_template_rows": null,
            "height": null,
            "justify_content": null,
            "justify_items": null,
            "left": null,
            "margin": null,
            "max_height": null,
            "max_width": null,
            "min_height": null,
            "min_width": null,
            "object_fit": null,
            "object_position": null,
            "order": null,
            "overflow": null,
            "overflow_x": null,
            "overflow_y": null,
            "padding": null,
            "right": null,
            "top": null,
            "visibility": null,
            "width": null
          }
        },
        "c7b51620137e40c39749633218606eae": {
          "model_module": "@jupyter-widgets/controls",
          "model_name": "ProgressStyleModel",
          "model_module_version": "1.5.0",
          "state": {
            "_model_module": "@jupyter-widgets/controls",
            "_model_module_version": "1.5.0",
            "_model_name": "ProgressStyleModel",
            "_view_count": null,
            "_view_module": "@jupyter-widgets/base",
            "_view_module_version": "1.2.0",
            "_view_name": "StyleView",
            "bar_color": null,
            "description_width": ""
          }
        },
        "839dacb794b54c92a5d98c89a81451ea": {
          "model_module": "@jupyter-widgets/base",
          "model_name": "LayoutModel",
          "model_module_version": "1.2.0",
          "state": {
            "_model_module": "@jupyter-widgets/base",
            "_model_module_version": "1.2.0",
            "_model_name": "LayoutModel",
            "_view_count": null,
            "_view_module": "@jupyter-widgets/base",
            "_view_module_version": "1.2.0",
            "_view_name": "LayoutView",
            "align_content": null,
            "align_items": null,
            "align_self": null,
            "border": null,
            "bottom": null,
            "display": null,
            "flex": null,
            "flex_flow": null,
            "grid_area": null,
            "grid_auto_columns": null,
            "grid_auto_flow": null,
            "grid_auto_rows": null,
            "grid_column": null,
            "grid_gap": null,
            "grid_row": null,
            "grid_template_areas": null,
            "grid_template_columns": null,
            "grid_template_rows": null,
            "height": null,
            "justify_content": null,
            "justify_items": null,
            "left": null,
            "margin": null,
            "max_height": null,
            "max_width": null,
            "min_height": null,
            "min_width": null,
            "object_fit": null,
            "object_position": null,
            "order": null,
            "overflow": null,
            "overflow_x": null,
            "overflow_y": null,
            "padding": null,
            "right": null,
            "top": null,
            "visibility": null,
            "width": null
          }
        },
        "8787edede3bf4240a9e557f4b96fcb0d": {
          "model_module": "@jupyter-widgets/controls",
          "model_name": "DescriptionStyleModel",
          "model_module_version": "1.5.0",
          "state": {
            "_model_module": "@jupyter-widgets/controls",
            "_model_module_version": "1.5.0",
            "_model_name": "DescriptionStyleModel",
            "_view_count": null,
            "_view_module": "@jupyter-widgets/base",
            "_view_module_version": "1.2.0",
            "_view_name": "StyleView",
            "description_width": ""
          }
        },
        "e65d81062994456e9b4bb947c18a59c6": {
          "model_module": "@jupyter-widgets/controls",
          "model_name": "HBoxModel",
          "model_module_version": "1.5.0",
          "state": {
            "_dom_classes": [],
            "_model_module": "@jupyter-widgets/controls",
            "_model_module_version": "1.5.0",
            "_model_name": "HBoxModel",
            "_view_count": null,
            "_view_module": "@jupyter-widgets/controls",
            "_view_module_version": "1.5.0",
            "_view_name": "HBoxView",
            "box_style": "",
            "children": [
              "IPY_MODEL_b538769361d34912a65908f15fa6dc30",
              "IPY_MODEL_f79b8846f3014873bf889db4799bbc26",
              "IPY_MODEL_0946530d035b4bd6a58691c7711de0e8"
            ],
            "layout": "IPY_MODEL_0f4d72bff9634fb68797c3efe4e5018b"
          }
        },
        "b538769361d34912a65908f15fa6dc30": {
          "model_module": "@jupyter-widgets/controls",
          "model_name": "HTMLModel",
          "model_module_version": "1.5.0",
          "state": {
            "_dom_classes": [],
            "_model_module": "@jupyter-widgets/controls",
            "_model_module_version": "1.5.0",
            "_model_name": "HTMLModel",
            "_view_count": null,
            "_view_module": "@jupyter-widgets/controls",
            "_view_module_version": "1.5.0",
            "_view_name": "HTMLView",
            "description": "",
            "description_tooltip": null,
            "layout": "IPY_MODEL_37616c7fe71a4f2fb83a391932b220fa",
            "placeholder": "​",
            "style": "IPY_MODEL_cefc992777004e94a4ae16d02458bd5c",
            "value": "Map: 100%"
          }
        },
        "f79b8846f3014873bf889db4799bbc26": {
          "model_module": "@jupyter-widgets/controls",
          "model_name": "FloatProgressModel",
          "model_module_version": "1.5.0",
          "state": {
            "_dom_classes": [],
            "_model_module": "@jupyter-widgets/controls",
            "_model_module_version": "1.5.0",
            "_model_name": "FloatProgressModel",
            "_view_count": null,
            "_view_module": "@jupyter-widgets/controls",
            "_view_module_version": "1.5.0",
            "_view_name": "ProgressView",
            "bar_style": "success",
            "description": "",
            "description_tooltip": null,
            "layout": "IPY_MODEL_e72e5cdced054fa9bc07b4d4dc3aff83",
            "max": 3466,
            "min": 0,
            "orientation": "horizontal",
            "style": "IPY_MODEL_9547945bb035454886b8aed1d2c960eb",
            "value": 3466
          }
        },
        "0946530d035b4bd6a58691c7711de0e8": {
          "model_module": "@jupyter-widgets/controls",
          "model_name": "HTMLModel",
          "model_module_version": "1.5.0",
          "state": {
            "_dom_classes": [],
            "_model_module": "@jupyter-widgets/controls",
            "_model_module_version": "1.5.0",
            "_model_name": "HTMLModel",
            "_view_count": null,
            "_view_module": "@jupyter-widgets/controls",
            "_view_module_version": "1.5.0",
            "_view_name": "HTMLView",
            "description": "",
            "description_tooltip": null,
            "layout": "IPY_MODEL_fca7c5c020164b1a9cdc86c3b7648a43",
            "placeholder": "​",
            "style": "IPY_MODEL_abb286d341ef4885b014f8ed9e167bb4",
            "value": " 3466/3466 [00:01&lt;00:00, 2134.09 examples/s]"
          }
        },
        "0f4d72bff9634fb68797c3efe4e5018b": {
          "model_module": "@jupyter-widgets/base",
          "model_name": "LayoutModel",
          "model_module_version": "1.2.0",
          "state": {
            "_model_module": "@jupyter-widgets/base",
            "_model_module_version": "1.2.0",
            "_model_name": "LayoutModel",
            "_view_count": null,
            "_view_module": "@jupyter-widgets/base",
            "_view_module_version": "1.2.0",
            "_view_name": "LayoutView",
            "align_content": null,
            "align_items": null,
            "align_self": null,
            "border": null,
            "bottom": null,
            "display": null,
            "flex": null,
            "flex_flow": null,
            "grid_area": null,
            "grid_auto_columns": null,
            "grid_auto_flow": null,
            "grid_auto_rows": null,
            "grid_column": null,
            "grid_gap": null,
            "grid_row": null,
            "grid_template_areas": null,
            "grid_template_columns": null,
            "grid_template_rows": null,
            "height": null,
            "justify_content": null,
            "justify_items": null,
            "left": null,
            "margin": null,
            "max_height": null,
            "max_width": null,
            "min_height": null,
            "min_width": null,
            "object_fit": null,
            "object_position": null,
            "order": null,
            "overflow": null,
            "overflow_x": null,
            "overflow_y": null,
            "padding": null,
            "right": null,
            "top": null,
            "visibility": null,
            "width": null
          }
        },
        "37616c7fe71a4f2fb83a391932b220fa": {
          "model_module": "@jupyter-widgets/base",
          "model_name": "LayoutModel",
          "model_module_version": "1.2.0",
          "state": {
            "_model_module": "@jupyter-widgets/base",
            "_model_module_version": "1.2.0",
            "_model_name": "LayoutModel",
            "_view_count": null,
            "_view_module": "@jupyter-widgets/base",
            "_view_module_version": "1.2.0",
            "_view_name": "LayoutView",
            "align_content": null,
            "align_items": null,
            "align_self": null,
            "border": null,
            "bottom": null,
            "display": null,
            "flex": null,
            "flex_flow": null,
            "grid_area": null,
            "grid_auto_columns": null,
            "grid_auto_flow": null,
            "grid_auto_rows": null,
            "grid_column": null,
            "grid_gap": null,
            "grid_row": null,
            "grid_template_areas": null,
            "grid_template_columns": null,
            "grid_template_rows": null,
            "height": null,
            "justify_content": null,
            "justify_items": null,
            "left": null,
            "margin": null,
            "max_height": null,
            "max_width": null,
            "min_height": null,
            "min_width": null,
            "object_fit": null,
            "object_position": null,
            "order": null,
            "overflow": null,
            "overflow_x": null,
            "overflow_y": null,
            "padding": null,
            "right": null,
            "top": null,
            "visibility": null,
            "width": null
          }
        },
        "cefc992777004e94a4ae16d02458bd5c": {
          "model_module": "@jupyter-widgets/controls",
          "model_name": "DescriptionStyleModel",
          "model_module_version": "1.5.0",
          "state": {
            "_model_module": "@jupyter-widgets/controls",
            "_model_module_version": "1.5.0",
            "_model_name": "DescriptionStyleModel",
            "_view_count": null,
            "_view_module": "@jupyter-widgets/base",
            "_view_module_version": "1.2.0",
            "_view_name": "StyleView",
            "description_width": ""
          }
        },
        "e72e5cdced054fa9bc07b4d4dc3aff83": {
          "model_module": "@jupyter-widgets/base",
          "model_name": "LayoutModel",
          "model_module_version": "1.2.0",
          "state": {
            "_model_module": "@jupyter-widgets/base",
            "_model_module_version": "1.2.0",
            "_model_name": "LayoutModel",
            "_view_count": null,
            "_view_module": "@jupyter-widgets/base",
            "_view_module_version": "1.2.0",
            "_view_name": "LayoutView",
            "align_content": null,
            "align_items": null,
            "align_self": null,
            "border": null,
            "bottom": null,
            "display": null,
            "flex": null,
            "flex_flow": null,
            "grid_area": null,
            "grid_auto_columns": null,
            "grid_auto_flow": null,
            "grid_auto_rows": null,
            "grid_column": null,
            "grid_gap": null,
            "grid_row": null,
            "grid_template_areas": null,
            "grid_template_columns": null,
            "grid_template_rows": null,
            "height": null,
            "justify_content": null,
            "justify_items": null,
            "left": null,
            "margin": null,
            "max_height": null,
            "max_width": null,
            "min_height": null,
            "min_width": null,
            "object_fit": null,
            "object_position": null,
            "order": null,
            "overflow": null,
            "overflow_x": null,
            "overflow_y": null,
            "padding": null,
            "right": null,
            "top": null,
            "visibility": null,
            "width": null
          }
        },
        "9547945bb035454886b8aed1d2c960eb": {
          "model_module": "@jupyter-widgets/controls",
          "model_name": "ProgressStyleModel",
          "model_module_version": "1.5.0",
          "state": {
            "_model_module": "@jupyter-widgets/controls",
            "_model_module_version": "1.5.0",
            "_model_name": "ProgressStyleModel",
            "_view_count": null,
            "_view_module": "@jupyter-widgets/base",
            "_view_module_version": "1.2.0",
            "_view_name": "StyleView",
            "bar_color": null,
            "description_width": ""
          }
        },
        "fca7c5c020164b1a9cdc86c3b7648a43": {
          "model_module": "@jupyter-widgets/base",
          "model_name": "LayoutModel",
          "model_module_version": "1.2.0",
          "state": {
            "_model_module": "@jupyter-widgets/base",
            "_model_module_version": "1.2.0",
            "_model_name": "LayoutModel",
            "_view_count": null,
            "_view_module": "@jupyter-widgets/base",
            "_view_module_version": "1.2.0",
            "_view_name": "LayoutView",
            "align_content": null,
            "align_items": null,
            "align_self": null,
            "border": null,
            "bottom": null,
            "display": null,
            "flex": null,
            "flex_flow": null,
            "grid_area": null,
            "grid_auto_columns": null,
            "grid_auto_flow": null,
            "grid_auto_rows": null,
            "grid_column": null,
            "grid_gap": null,
            "grid_row": null,
            "grid_template_areas": null,
            "grid_template_columns": null,
            "grid_template_rows": null,
            "height": null,
            "justify_content": null,
            "justify_items": null,
            "left": null,
            "margin": null,
            "max_height": null,
            "max_width": null,
            "min_height": null,
            "min_width": null,
            "object_fit": null,
            "object_position": null,
            "order": null,
            "overflow": null,
            "overflow_x": null,
            "overflow_y": null,
            "padding": null,
            "right": null,
            "top": null,
            "visibility": null,
            "width": null
          }
        },
        "abb286d341ef4885b014f8ed9e167bb4": {
          "model_module": "@jupyter-widgets/controls",
          "model_name": "DescriptionStyleModel",
          "model_module_version": "1.5.0",
          "state": {
            "_model_module": "@jupyter-widgets/controls",
            "_model_module_version": "1.5.0",
            "_model_name": "DescriptionStyleModel",
            "_view_count": null,
            "_view_module": "@jupyter-widgets/base",
            "_view_module_version": "1.2.0",
            "_view_name": "StyleView",
            "description_width": ""
          }
        },
        "a1c591d9ab5847d9aafb6a141662b8cc": {
          "model_module": "@jupyter-widgets/controls",
          "model_name": "HBoxModel",
          "model_module_version": "1.5.0",
          "state": {
            "_dom_classes": [],
            "_model_module": "@jupyter-widgets/controls",
            "_model_module_version": "1.5.0",
            "_model_name": "HBoxModel",
            "_view_count": null,
            "_view_module": "@jupyter-widgets/controls",
            "_view_module_version": "1.5.0",
            "_view_name": "HBoxView",
            "box_style": "",
            "children": [
              "IPY_MODEL_1536ee64f90c4879be6d436c068879ff",
              "IPY_MODEL_b249c3b9bf5948c0a54faf3652e29a78",
              "IPY_MODEL_e77740bde2ee4c3db8ee1495da1c2459"
            ],
            "layout": "IPY_MODEL_8b4ee09dc6d5485bab83862ee4b1b6a4"
          }
        },
        "1536ee64f90c4879be6d436c068879ff": {
          "model_module": "@jupyter-widgets/controls",
          "model_name": "HTMLModel",
          "model_module_version": "1.5.0",
          "state": {
            "_dom_classes": [],
            "_model_module": "@jupyter-widgets/controls",
            "_model_module_version": "1.5.0",
            "_model_name": "HTMLModel",
            "_view_count": null,
            "_view_module": "@jupyter-widgets/controls",
            "_view_module_version": "1.5.0",
            "_view_name": "HTMLView",
            "description": "",
            "description_tooltip": null,
            "layout": "IPY_MODEL_18ba9d73d9454d6f98f393725e89481a",
            "placeholder": "​",
            "style": "IPY_MODEL_864f09026d4f4131ba42847e6fdc8fde",
            "value": "Map: 100%"
          }
        },
        "b249c3b9bf5948c0a54faf3652e29a78": {
          "model_module": "@jupyter-widgets/controls",
          "model_name": "FloatProgressModel",
          "model_module_version": "1.5.0",
          "state": {
            "_dom_classes": [],
            "_model_module": "@jupyter-widgets/controls",
            "_model_module_version": "1.5.0",
            "_model_name": "FloatProgressModel",
            "_view_count": null,
            "_view_module": "@jupyter-widgets/controls",
            "_view_module_version": "1.5.0",
            "_view_name": "ProgressView",
            "bar_style": "success",
            "description": "",
            "description_tooltip": null,
            "layout": "IPY_MODEL_68e191a3260a48479ecaf8e6b9271ae1",
            "max": 3684,
            "min": 0,
            "orientation": "horizontal",
            "style": "IPY_MODEL_2a132c5dc65d4b0f94a6ca2c7334bf87",
            "value": 3684
          }
        },
        "e77740bde2ee4c3db8ee1495da1c2459": {
          "model_module": "@jupyter-widgets/controls",
          "model_name": "HTMLModel",
          "model_module_version": "1.5.0",
          "state": {
            "_dom_classes": [],
            "_model_module": "@jupyter-widgets/controls",
            "_model_module_version": "1.5.0",
            "_model_name": "HTMLModel",
            "_view_count": null,
            "_view_module": "@jupyter-widgets/controls",
            "_view_module_version": "1.5.0",
            "_view_name": "HTMLView",
            "description": "",
            "description_tooltip": null,
            "layout": "IPY_MODEL_a72058b2acef456592dad61086aa24c2",
            "placeholder": "​",
            "style": "IPY_MODEL_0cf4458a415348caa96bfb4c362c641d",
            "value": " 3684/3684 [00:01&lt;00:00, 2426.28 examples/s]"
          }
        },
        "8b4ee09dc6d5485bab83862ee4b1b6a4": {
          "model_module": "@jupyter-widgets/base",
          "model_name": "LayoutModel",
          "model_module_version": "1.2.0",
          "state": {
            "_model_module": "@jupyter-widgets/base",
            "_model_module_version": "1.2.0",
            "_model_name": "LayoutModel",
            "_view_count": null,
            "_view_module": "@jupyter-widgets/base",
            "_view_module_version": "1.2.0",
            "_view_name": "LayoutView",
            "align_content": null,
            "align_items": null,
            "align_self": null,
            "border": null,
            "bottom": null,
            "display": null,
            "flex": null,
            "flex_flow": null,
            "grid_area": null,
            "grid_auto_columns": null,
            "grid_auto_flow": null,
            "grid_auto_rows": null,
            "grid_column": null,
            "grid_gap": null,
            "grid_row": null,
            "grid_template_areas": null,
            "grid_template_columns": null,
            "grid_template_rows": null,
            "height": null,
            "justify_content": null,
            "justify_items": null,
            "left": null,
            "margin": null,
            "max_height": null,
            "max_width": null,
            "min_height": null,
            "min_width": null,
            "object_fit": null,
            "object_position": null,
            "order": null,
            "overflow": null,
            "overflow_x": null,
            "overflow_y": null,
            "padding": null,
            "right": null,
            "top": null,
            "visibility": null,
            "width": null
          }
        },
        "18ba9d73d9454d6f98f393725e89481a": {
          "model_module": "@jupyter-widgets/base",
          "model_name": "LayoutModel",
          "model_module_version": "1.2.0",
          "state": {
            "_model_module": "@jupyter-widgets/base",
            "_model_module_version": "1.2.0",
            "_model_name": "LayoutModel",
            "_view_count": null,
            "_view_module": "@jupyter-widgets/base",
            "_view_module_version": "1.2.0",
            "_view_name": "LayoutView",
            "align_content": null,
            "align_items": null,
            "align_self": null,
            "border": null,
            "bottom": null,
            "display": null,
            "flex": null,
            "flex_flow": null,
            "grid_area": null,
            "grid_auto_columns": null,
            "grid_auto_flow": null,
            "grid_auto_rows": null,
            "grid_column": null,
            "grid_gap": null,
            "grid_row": null,
            "grid_template_areas": null,
            "grid_template_columns": null,
            "grid_template_rows": null,
            "height": null,
            "justify_content": null,
            "justify_items": null,
            "left": null,
            "margin": null,
            "max_height": null,
            "max_width": null,
            "min_height": null,
            "min_width": null,
            "object_fit": null,
            "object_position": null,
            "order": null,
            "overflow": null,
            "overflow_x": null,
            "overflow_y": null,
            "padding": null,
            "right": null,
            "top": null,
            "visibility": null,
            "width": null
          }
        },
        "864f09026d4f4131ba42847e6fdc8fde": {
          "model_module": "@jupyter-widgets/controls",
          "model_name": "DescriptionStyleModel",
          "model_module_version": "1.5.0",
          "state": {
            "_model_module": "@jupyter-widgets/controls",
            "_model_module_version": "1.5.0",
            "_model_name": "DescriptionStyleModel",
            "_view_count": null,
            "_view_module": "@jupyter-widgets/base",
            "_view_module_version": "1.2.0",
            "_view_name": "StyleView",
            "description_width": ""
          }
        },
        "68e191a3260a48479ecaf8e6b9271ae1": {
          "model_module": "@jupyter-widgets/base",
          "model_name": "LayoutModel",
          "model_module_version": "1.2.0",
          "state": {
            "_model_module": "@jupyter-widgets/base",
            "_model_module_version": "1.2.0",
            "_model_name": "LayoutModel",
            "_view_count": null,
            "_view_module": "@jupyter-widgets/base",
            "_view_module_version": "1.2.0",
            "_view_name": "LayoutView",
            "align_content": null,
            "align_items": null,
            "align_self": null,
            "border": null,
            "bottom": null,
            "display": null,
            "flex": null,
            "flex_flow": null,
            "grid_area": null,
            "grid_auto_columns": null,
            "grid_auto_flow": null,
            "grid_auto_rows": null,
            "grid_column": null,
            "grid_gap": null,
            "grid_row": null,
            "grid_template_areas": null,
            "grid_template_columns": null,
            "grid_template_rows": null,
            "height": null,
            "justify_content": null,
            "justify_items": null,
            "left": null,
            "margin": null,
            "max_height": null,
            "max_width": null,
            "min_height": null,
            "min_width": null,
            "object_fit": null,
            "object_position": null,
            "order": null,
            "overflow": null,
            "overflow_x": null,
            "overflow_y": null,
            "padding": null,
            "right": null,
            "top": null,
            "visibility": null,
            "width": null
          }
        },
        "2a132c5dc65d4b0f94a6ca2c7334bf87": {
          "model_module": "@jupyter-widgets/controls",
          "model_name": "ProgressStyleModel",
          "model_module_version": "1.5.0",
          "state": {
            "_model_module": "@jupyter-widgets/controls",
            "_model_module_version": "1.5.0",
            "_model_name": "ProgressStyleModel",
            "_view_count": null,
            "_view_module": "@jupyter-widgets/base",
            "_view_module_version": "1.2.0",
            "_view_name": "StyleView",
            "bar_color": null,
            "description_width": ""
          }
        },
        "a72058b2acef456592dad61086aa24c2": {
          "model_module": "@jupyter-widgets/base",
          "model_name": "LayoutModel",
          "model_module_version": "1.2.0",
          "state": {
            "_model_module": "@jupyter-widgets/base",
            "_model_module_version": "1.2.0",
            "_model_name": "LayoutModel",
            "_view_count": null,
            "_view_module": "@jupyter-widgets/base",
            "_view_module_version": "1.2.0",
            "_view_name": "LayoutView",
            "align_content": null,
            "align_items": null,
            "align_self": null,
            "border": null,
            "bottom": null,
            "display": null,
            "flex": null,
            "flex_flow": null,
            "grid_area": null,
            "grid_auto_columns": null,
            "grid_auto_flow": null,
            "grid_auto_rows": null,
            "grid_column": null,
            "grid_gap": null,
            "grid_row": null,
            "grid_template_areas": null,
            "grid_template_columns": null,
            "grid_template_rows": null,
            "height": null,
            "justify_content": null,
            "justify_items": null,
            "left": null,
            "margin": null,
            "max_height": null,
            "max_width": null,
            "min_height": null,
            "min_width": null,
            "object_fit": null,
            "object_position": null,
            "order": null,
            "overflow": null,
            "overflow_x": null,
            "overflow_y": null,
            "padding": null,
            "right": null,
            "top": null,
            "visibility": null,
            "width": null
          }
        },
        "0cf4458a415348caa96bfb4c362c641d": {
          "model_module": "@jupyter-widgets/controls",
          "model_name": "DescriptionStyleModel",
          "model_module_version": "1.5.0",
          "state": {
            "_model_module": "@jupyter-widgets/controls",
            "_model_module_version": "1.5.0",
            "_model_name": "DescriptionStyleModel",
            "_view_count": null,
            "_view_module": "@jupyter-widgets/base",
            "_view_module_version": "1.2.0",
            "_view_name": "StyleView",
            "description_width": ""
          }
        }
      }
    },
    "accelerator": "GPU"
  },
  "nbformat": 4,
  "nbformat_minor": 0
}